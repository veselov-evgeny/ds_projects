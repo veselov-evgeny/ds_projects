{
 "cells": [
  {
   "cell_type": "markdown",
   "id": "feaae2be",
   "metadata": {},
   "source": [
    "# Прогнозирование оттока клиентов телеком-провайдера\n",
    "\n",
    "Задача состоит в том, чтобы заранее определить клиентов, которые с высокой долей вероятности могут перейти к другому оператору.\n",
    "У нас имеются выгрузки различных сведений о клиентах и используемых ими услугах.\n",
    "\n",
    "1. Исследовать выгрузки\n",
    "    1. Определить целевой признак классификации клиентов\n",
    "2. Предобработать данные\n",
    "    1. Проверить на дубли\n",
    "    2. Проверить на пропуски\n",
    "    3. Проверить на корректность значений\n",
    "    4. Привести к адекватным типам данных\n",
    "    5. Проверить диапазоны значений и выбросы\n",
    "    6. Собрать разрозненные данные в единый набор признаков и обработать возможные пропуски\n",
    "3. Подготовить признаки к обучению моделей\n",
    "    1. Создать возможные дополнительные признаки\n",
    "    2. Удалить ненужные признаки\n",
    "    3. Обработать категориальные признаки\n",
    "    4. Провести масштабирование признаков\n",
    "    5. Разделить подготовленный набор данных на обучающую, валидационную и тестовую выборки\n",
    "    6. Обработать возможный дисбаланс классов\n",
    "4. Обучить модели\n",
    "    1. Определить набор моделей для обучения \n",
    "    2. Определить методы подбора гиперпараметров\n",
    "    3. Обучить модели \n",
    "    4. Определить наиболее значимые признаки\n",
    "    5. Собрать данные по моделям, гиперпараметрам, метрикам и скорости обучения \n",
    "5. Проверить лучшие модели на тестовой выборке\n",
    "6. Сделать выводы"
   ]
  },
  {
   "cell_type": "code",
   "execution_count": 1,
   "id": "6fa748e3",
   "metadata": {},
   "outputs": [],
   "source": [
    "import pandas as pd\n",
    "import numpy as np\n",
    "import seaborn as sns\n",
    "from seaborn import pairplot\n",
    "import matplotlib.pyplot as plt\n",
    "\n",
    "import warnings\n",
    "warnings.filterwarnings('ignore', category=FutureWarning)\n",
    "warnings.filterwarnings('ignore', category=UserWarning)\n",
    "from pandas.core.common import SettingWithCopyWarning\n",
    "warnings.filterwarnings('ignore', category=SettingWithCopyWarning)\n",
    "\n",
    "from statsmodels.graphics.correlation import plot_corr\n",
    "from datetime import datetime\n",
    "import sklearn\n",
    "from sklearn.model_selection import train_test_split\n",
    "from sklearn.preprocessing import OrdinalEncoder\n",
    "from sklearn.preprocessing import StandardScaler\n",
    "from sklearn import metrics\n",
    "from sklearn.model_selection import RandomizedSearchCV\n",
    "from sklearn.linear_model import LogisticRegression\n",
    "from sklearn.tree import DecisionTreeClassifier\n",
    "from sklearn.ensemble import RandomForestClassifier\n",
    "from sklearn.dummy import DummyClassifier\n",
    "from sklearn.utils import class_weight\n",
    "import lightgbm as lgb\n",
    "import catboost as cb\n",
    "\n",
    "import tensorflow as tf\n",
    "from tensorflow import keras\n",
    "from keras.models import Sequential\n",
    "from keras.layers import Dense\n",
    "from keras.wrappers.scikit_learn import KerasClassifier\n",
    "from keras.callbacks import EarlyStopping"
   ]
  },
  {
   "cell_type": "markdown",
   "id": "c146d865",
   "metadata": {},
   "source": [
    "## Исследование данных"
   ]
  },
  {
   "cell_type": "markdown",
   "id": "0e4daf54",
   "metadata": {},
   "source": [
    "Пробежимся по таблицам и оценим возможные проблемы с данными: выясним реальные типы данных, проверим диапазоны значений, посмотрим уникальные значения категорий, поищем дубликаты."
   ]
  },
  {
   "cell_type": "code",
   "execution_count": 2,
   "id": "913e5f87",
   "metadata": {},
   "outputs": [],
   "source": [
    "contract = pd.read_csv('datasets/contract.csv')\n",
    "internet = pd.read_csv('datasets/internet.csv')\n",
    "personal = pd.read_csv('datasets/personal.csv')\n",
    "phone = pd.read_csv('datasets/phone.csv')"
   ]
  },
  {
   "cell_type": "markdown",
   "id": "e2112918",
   "metadata": {},
   "source": [
    "### contract"
   ]
  },
  {
   "cell_type": "markdown",
   "id": "e0d53c2e",
   "metadata": {},
   "source": [
    "Таблица содержит основные данные контракта клиента. Таблица является опорной и содержит максимум идентификаторов клиентов среди всех файлов."
   ]
  },
  {
   "cell_type": "code",
   "execution_count": 3,
   "id": "86c7851c",
   "metadata": {},
   "outputs": [
    {
     "name": "stdout",
     "output_type": "stream",
     "text": [
      "<class 'pandas.core.frame.DataFrame'>\n",
      "RangeIndex: 7043 entries, 0 to 7042\n",
      "Data columns (total 8 columns):\n",
      " #   Column            Non-Null Count  Dtype  \n",
      "---  ------            --------------  -----  \n",
      " 0   customerID        7043 non-null   object \n",
      " 1   BeginDate         7043 non-null   object \n",
      " 2   EndDate           7043 non-null   object \n",
      " 3   Type              7043 non-null   object \n",
      " 4   PaperlessBilling  7043 non-null   object \n",
      " 5   PaymentMethod     7043 non-null   object \n",
      " 6   MonthlyCharges    7043 non-null   float64\n",
      " 7   TotalCharges      7043 non-null   object \n",
      "dtypes: float64(1), object(7)\n",
      "memory usage: 440.3+ KB\n"
     ]
    }
   ],
   "source": [
    "contract.info()"
   ]
  },
  {
   "cell_type": "markdown",
   "id": "404949fa",
   "metadata": {},
   "source": [
    "Необходимо преобразовывать данные к числовым типам и посмотреть, есть ли пропуски"
   ]
  },
  {
   "cell_type": "code",
   "execution_count": 4,
   "id": "1f351f93",
   "metadata": {},
   "outputs": [
    {
     "data": {
      "text/html": [
       "<div>\n",
       "<style scoped>\n",
       "    .dataframe tbody tr th:only-of-type {\n",
       "        vertical-align: middle;\n",
       "    }\n",
       "\n",
       "    .dataframe tbody tr th {\n",
       "        vertical-align: top;\n",
       "    }\n",
       "\n",
       "    .dataframe thead th {\n",
       "        text-align: right;\n",
       "    }\n",
       "</style>\n",
       "<table border=\"1\" class=\"dataframe\">\n",
       "  <thead>\n",
       "    <tr style=\"text-align: right;\">\n",
       "      <th></th>\n",
       "      <th>customerID</th>\n",
       "      <th>BeginDate</th>\n",
       "      <th>EndDate</th>\n",
       "      <th>Type</th>\n",
       "      <th>PaperlessBilling</th>\n",
       "      <th>PaymentMethod</th>\n",
       "      <th>MonthlyCharges</th>\n",
       "      <th>TotalCharges</th>\n",
       "    </tr>\n",
       "  </thead>\n",
       "  <tbody>\n",
       "    <tr>\n",
       "      <th>185</th>\n",
       "      <td>1024-GUALD</td>\n",
       "      <td>2019-10-01</td>\n",
       "      <td>2019-11-01 00:00:00</td>\n",
       "      <td>Month-to-month</td>\n",
       "      <td>Yes</td>\n",
       "      <td>Electronic check</td>\n",
       "      <td>24.80</td>\n",
       "      <td>24.8</td>\n",
       "    </tr>\n",
       "    <tr>\n",
       "      <th>2715</th>\n",
       "      <td>0484-JPBRU</td>\n",
       "      <td>2016-09-01</td>\n",
       "      <td>No</td>\n",
       "      <td>Month-to-month</td>\n",
       "      <td>Yes</td>\n",
       "      <td>Bank transfer (automatic)</td>\n",
       "      <td>25.25</td>\n",
       "      <td>996.45</td>\n",
       "    </tr>\n",
       "    <tr>\n",
       "      <th>3825</th>\n",
       "      <td>3620-EHIMZ</td>\n",
       "      <td>2015-10-01</td>\n",
       "      <td>No</td>\n",
       "      <td>Two year</td>\n",
       "      <td>No</td>\n",
       "      <td>Mailed check</td>\n",
       "      <td>19.35</td>\n",
       "      <td>1031.7</td>\n",
       "    </tr>\n",
       "    <tr>\n",
       "      <th>1807</th>\n",
       "      <td>6910-HADCM</td>\n",
       "      <td>2019-09-01</td>\n",
       "      <td>2019-10-01 00:00:00</td>\n",
       "      <td>Month-to-month</td>\n",
       "      <td>No</td>\n",
       "      <td>Electronic check</td>\n",
       "      <td>76.35</td>\n",
       "      <td>76.35</td>\n",
       "    </tr>\n",
       "    <tr>\n",
       "      <th>132</th>\n",
       "      <td>8587-XYZSF</td>\n",
       "      <td>2014-07-01</td>\n",
       "      <td>No</td>\n",
       "      <td>Two year</td>\n",
       "      <td>No</td>\n",
       "      <td>Bank transfer (automatic)</td>\n",
       "      <td>50.55</td>\n",
       "      <td>3260.1</td>\n",
       "    </tr>\n",
       "  </tbody>\n",
       "</table>\n",
       "</div>"
      ],
      "text/plain": [
       "      customerID   BeginDate              EndDate            Type  \\\n",
       "185   1024-GUALD  2019-10-01  2019-11-01 00:00:00  Month-to-month   \n",
       "2715  0484-JPBRU  2016-09-01                   No  Month-to-month   \n",
       "3825  3620-EHIMZ  2015-10-01                   No        Two year   \n",
       "1807  6910-HADCM  2019-09-01  2019-10-01 00:00:00  Month-to-month   \n",
       "132   8587-XYZSF  2014-07-01                   No        Two year   \n",
       "\n",
       "     PaperlessBilling              PaymentMethod  MonthlyCharges TotalCharges  \n",
       "185               Yes           Electronic check           24.80         24.8  \n",
       "2715              Yes  Bank transfer (automatic)           25.25       996.45  \n",
       "3825               No               Mailed check           19.35       1031.7  \n",
       "1807               No           Electronic check           76.35        76.35  \n",
       "132                No  Bank transfer (automatic)           50.55       3260.1  "
      ]
     },
     "execution_count": 4,
     "metadata": {},
     "output_type": "execute_result"
    }
   ],
   "source": [
    "contract.sample(5, random_state=42)"
   ]
  },
  {
   "cell_type": "markdown",
   "id": "8d4f32f4",
   "metadata": {},
   "source": [
    "**Целевой признак в поле EndDate, клиенты, которые уходят, имеют дату окончания контракта**"
   ]
  },
  {
   "cell_type": "markdown",
   "id": "a4d19887",
   "metadata": {},
   "source": [
    "Проверим таблицу на полные дубликаты строк."
   ]
  },
  {
   "cell_type": "code",
   "execution_count": 5,
   "id": "5d83b89b",
   "metadata": {},
   "outputs": [
    {
     "data": {
      "text/plain": [
       "0"
      ]
     },
     "execution_count": 5,
     "metadata": {},
     "output_type": "execute_result"
    }
   ],
   "source": [
    "contract.duplicated().sum()"
   ]
  },
  {
   "cell_type": "markdown",
   "id": "f59abca7",
   "metadata": {},
   "source": [
    "Оценим долю положительного класса"
   ]
  },
  {
   "cell_type": "code",
   "execution_count": 6,
   "id": "308279ba",
   "metadata": {},
   "outputs": [
    {
     "data": {
      "text/plain": [
       "0.2653698707936959"
      ]
     },
     "execution_count": 6,
     "metadata": {},
     "output_type": "execute_result"
    }
   ],
   "source": [
    "(contract['EndDate']!='No').sum()/len(contract)"
   ]
  },
  {
   "cell_type": "code",
   "execution_count": 7,
   "id": "4b2adb9f",
   "metadata": {},
   "outputs": [
    {
     "data": {
      "text/plain": [
       "['Month-to-month', 'One year', 'Two year']"
      ]
     },
     "execution_count": 7,
     "metadata": {},
     "output_type": "execute_result"
    }
   ],
   "source": [
    "list(contract['Type'].unique())"
   ]
  },
  {
   "cell_type": "code",
   "execution_count": 8,
   "id": "1896b93a",
   "metadata": {
    "scrolled": true
   },
   "outputs": [
    {
     "data": {
      "text/plain": [
       "['Electronic check',\n",
       " 'Mailed check',\n",
       " 'Bank transfer (automatic)',\n",
       " 'Credit card (automatic)']"
      ]
     },
     "execution_count": 8,
     "metadata": {},
     "output_type": "execute_result"
    }
   ],
   "source": [
    "list(contract['PaymentMethod'].unique())"
   ]
  },
  {
   "cell_type": "code",
   "execution_count": 9,
   "id": "e14118c6",
   "metadata": {},
   "outputs": [
    {
     "data": {
      "text/plain": [
       "['Yes', 'No']"
      ]
     },
     "execution_count": 9,
     "metadata": {},
     "output_type": "execute_result"
    }
   ],
   "source": [
    "list(contract['PaperlessBilling'].unique())"
   ]
  },
  {
   "cell_type": "code",
   "execution_count": 10,
   "id": "8f6369f9",
   "metadata": {},
   "outputs": [
    {
     "data": {
      "image/png": "[encoded data removed]",
      "text/plain": [
       "<Figure size 864x432 with 1 Axes>"
      ]
     },
     "metadata": {
      "needs_background": "light"
     },
     "output_type": "display_data"
    }
   ],
   "source": [
    "fig, ax = plt.subplots(figsize=(12,6))\n",
    "sns.distplot(contract['MonthlyCharges'].astype(float), bins=100, ax=ax)\n",
    "ax.set_title('Ежемесячные платежи от клиента')\n",
    "ax.grid()\n",
    "ax.set_xlabel(\"Ежемесячный платёж, валюта\")\n",
    "ax.set_ylabel(\"Плотность\")\n",
    "plt.show()"
   ]
  },
  {
   "cell_type": "code",
   "execution_count": 11,
   "id": "8c795c9f",
   "metadata": {},
   "outputs": [
    {
     "data": {
      "text/plain": [
       "[' ',\n",
       " ' ',\n",
       " ' ',\n",
       " ' ',\n",
       " ' ',\n",
       " ' ',\n",
       " ' ',\n",
       " ' ',\n",
       " ' ',\n",
       " ' ',\n",
       " ' ',\n",
       " '100.2',\n",
       " '100.25',\n",
       " '100.35',\n",
       " '100.4',\n",
       " '100.8',\n",
       " '100.9',\n",
       " '1001.2',\n",
       " '1001.5',\n",
       " '1003.05']"
      ]
     },
     "execution_count": 11,
     "metadata": {},
     "output_type": "execute_result"
    }
   ],
   "source": [
    "list(contract['TotalCharges'].sort_values().head(20))"
   ]
  },
  {
   "cell_type": "markdown",
   "id": "4bc5b14b",
   "metadata": {},
   "source": [
    "Имеются значения с пробелами"
   ]
  },
  {
   "cell_type": "code",
   "execution_count": 12,
   "id": "cbe1ede2",
   "metadata": {},
   "outputs": [
    {
     "data": {
      "text/html": [
       "<div>\n",
       "<style scoped>\n",
       "    .dataframe tbody tr th:only-of-type {\n",
       "        vertical-align: middle;\n",
       "    }\n",
       "\n",
       "    .dataframe tbody tr th {\n",
       "        vertical-align: top;\n",
       "    }\n",
       "\n",
       "    .dataframe thead th {\n",
       "        text-align: right;\n",
       "    }\n",
       "</style>\n",
       "<table border=\"1\" class=\"dataframe\">\n",
       "  <thead>\n",
       "    <tr style=\"text-align: right;\">\n",
       "      <th></th>\n",
       "      <th>customerID</th>\n",
       "      <th>BeginDate</th>\n",
       "      <th>EndDate</th>\n",
       "      <th>Type</th>\n",
       "      <th>PaperlessBilling</th>\n",
       "      <th>PaymentMethod</th>\n",
       "      <th>MonthlyCharges</th>\n",
       "      <th>TotalCharges</th>\n",
       "    </tr>\n",
       "  </thead>\n",
       "  <tbody>\n",
       "    <tr>\n",
       "      <th>488</th>\n",
       "      <td>4472-LVYGI</td>\n",
       "      <td>2020-02-01</td>\n",
       "      <td>No</td>\n",
       "      <td>Two year</td>\n",
       "      <td>Yes</td>\n",
       "      <td>Bank transfer (automatic)</td>\n",
       "      <td>52.55</td>\n",
       "      <td></td>\n",
       "    </tr>\n",
       "    <tr>\n",
       "      <th>753</th>\n",
       "      <td>3115-CZMZD</td>\n",
       "      <td>2020-02-01</td>\n",
       "      <td>No</td>\n",
       "      <td>Two year</td>\n",
       "      <td>No</td>\n",
       "      <td>Mailed check</td>\n",
       "      <td>20.25</td>\n",
       "      <td></td>\n",
       "    </tr>\n",
       "    <tr>\n",
       "      <th>936</th>\n",
       "      <td>5709-LVOEQ</td>\n",
       "      <td>2020-02-01</td>\n",
       "      <td>No</td>\n",
       "      <td>Two year</td>\n",
       "      <td>No</td>\n",
       "      <td>Mailed check</td>\n",
       "      <td>80.85</td>\n",
       "      <td></td>\n",
       "    </tr>\n",
       "    <tr>\n",
       "      <th>1082</th>\n",
       "      <td>4367-NUYAO</td>\n",
       "      <td>2020-02-01</td>\n",
       "      <td>No</td>\n",
       "      <td>Two year</td>\n",
       "      <td>No</td>\n",
       "      <td>Mailed check</td>\n",
       "      <td>25.75</td>\n",
       "      <td></td>\n",
       "    </tr>\n",
       "    <tr>\n",
       "      <th>1340</th>\n",
       "      <td>1371-DWPAZ</td>\n",
       "      <td>2020-02-01</td>\n",
       "      <td>No</td>\n",
       "      <td>Two year</td>\n",
       "      <td>No</td>\n",
       "      <td>Credit card (automatic)</td>\n",
       "      <td>56.05</td>\n",
       "      <td></td>\n",
       "    </tr>\n",
       "    <tr>\n",
       "      <th>3331</th>\n",
       "      <td>7644-OMVMY</td>\n",
       "      <td>2020-02-01</td>\n",
       "      <td>No</td>\n",
       "      <td>Two year</td>\n",
       "      <td>No</td>\n",
       "      <td>Mailed check</td>\n",
       "      <td>19.85</td>\n",
       "      <td></td>\n",
       "    </tr>\n",
       "    <tr>\n",
       "      <th>3826</th>\n",
       "      <td>3213-VVOLG</td>\n",
       "      <td>2020-02-01</td>\n",
       "      <td>No</td>\n",
       "      <td>Two year</td>\n",
       "      <td>No</td>\n",
       "      <td>Mailed check</td>\n",
       "      <td>25.35</td>\n",
       "      <td></td>\n",
       "    </tr>\n",
       "    <tr>\n",
       "      <th>4380</th>\n",
       "      <td>2520-SGTTA</td>\n",
       "      <td>2020-02-01</td>\n",
       "      <td>No</td>\n",
       "      <td>Two year</td>\n",
       "      <td>No</td>\n",
       "      <td>Mailed check</td>\n",
       "      <td>20.00</td>\n",
       "      <td></td>\n",
       "    </tr>\n",
       "    <tr>\n",
       "      <th>5218</th>\n",
       "      <td>2923-ARZLG</td>\n",
       "      <td>2020-02-01</td>\n",
       "      <td>No</td>\n",
       "      <td>One year</td>\n",
       "      <td>Yes</td>\n",
       "      <td>Mailed check</td>\n",
       "      <td>19.70</td>\n",
       "      <td></td>\n",
       "    </tr>\n",
       "    <tr>\n",
       "      <th>6670</th>\n",
       "      <td>4075-WKNIU</td>\n",
       "      <td>2020-02-01</td>\n",
       "      <td>No</td>\n",
       "      <td>Two year</td>\n",
       "      <td>No</td>\n",
       "      <td>Mailed check</td>\n",
       "      <td>73.35</td>\n",
       "      <td></td>\n",
       "    </tr>\n",
       "    <tr>\n",
       "      <th>6754</th>\n",
       "      <td>2775-SEFEE</td>\n",
       "      <td>2020-02-01</td>\n",
       "      <td>No</td>\n",
       "      <td>Two year</td>\n",
       "      <td>Yes</td>\n",
       "      <td>Bank transfer (automatic)</td>\n",
       "      <td>61.90</td>\n",
       "      <td></td>\n",
       "    </tr>\n",
       "  </tbody>\n",
       "</table>\n",
       "</div>"
      ],
      "text/plain": [
       "      customerID   BeginDate EndDate      Type PaperlessBilling  \\\n",
       "488   4472-LVYGI  2020-02-01      No  Two year              Yes   \n",
       "753   3115-CZMZD  2020-02-01      No  Two year               No   \n",
       "936   5709-LVOEQ  2020-02-01      No  Two year               No   \n",
       "1082  4367-NUYAO  2020-02-01      No  Two year               No   \n",
       "1340  1371-DWPAZ  2020-02-01      No  Two year               No   \n",
       "3331  7644-OMVMY  2020-02-01      No  Two year               No   \n",
       "3826  3213-VVOLG  2020-02-01      No  Two year               No   \n",
       "4380  2520-SGTTA  2020-02-01      No  Two year               No   \n",
       "5218  2923-ARZLG  2020-02-01      No  One year              Yes   \n",
       "6670  4075-WKNIU  2020-02-01      No  Two year               No   \n",
       "6754  2775-SEFEE  2020-02-01      No  Two year              Yes   \n",
       "\n",
       "                  PaymentMethod  MonthlyCharges TotalCharges  \n",
       "488   Bank transfer (automatic)           52.55               \n",
       "753                Mailed check           20.25               \n",
       "936                Mailed check           80.85               \n",
       "1082               Mailed check           25.75               \n",
       "1340    Credit card (automatic)           56.05               \n",
       "3331               Mailed check           19.85               \n",
       "3826               Mailed check           25.35               \n",
       "4380               Mailed check           20.00               \n",
       "5218               Mailed check           19.70               \n",
       "6670               Mailed check           73.35               \n",
       "6754  Bank transfer (automatic)           61.90               "
      ]
     },
     "execution_count": 12,
     "metadata": {},
     "output_type": "execute_result"
    }
   ],
   "source": [
    "contract[contract['TotalCharges']==' ']"
   ]
  },
  {
   "cell_type": "code",
   "execution_count": 13,
   "id": "9ddb85e6",
   "metadata": {},
   "outputs": [
    {
     "data": {
      "text/plain": [
       "11"
      ]
     },
     "execution_count": 13,
     "metadata": {},
     "output_type": "execute_result"
    }
   ],
   "source": [
    "(contract['BeginDate']=='2020-02-01').sum()"
   ]
  },
  {
   "cell_type": "markdown",
   "id": "09e7cfbd",
   "metadata": {},
   "source": [
    "Можно заменить на нули, так это явно новые абоненты, судя по дате 2020-02-01."
   ]
  },
  {
   "cell_type": "code",
   "execution_count": 14,
   "id": "d57cc6e7",
   "metadata": {},
   "outputs": [
    {
     "data": {
      "image/png": "[encoded data removed]",
      "text/plain": [
       "<Figure size 864x432 with 1 Axes>"
      ]
     },
     "metadata": {
      "needs_background": "light"
     },
     "output_type": "display_data"
    }
   ],
   "source": [
    "fig, ax = plt.subplots(figsize=(12,6))\n",
    "sns.distplot(contract.replace({'TotalCharges': ' '}, 0)['TotalCharges'].astype(float), bins=100, ax=ax)\n",
    "ax.set_title('Суммарные платежы от клиента')\n",
    "ax.grid()\n",
    "ax.set_xlabel(\"Сумма, валюта\")\n",
    "ax.set_ylabel(\"Плотность\")\n",
    "plt.show()"
   ]
  },
  {
   "cell_type": "markdown",
   "id": "a6913324",
   "metadata": {},
   "source": [
    "Нулевые значения объясняются новыми клиентами, которые подключились менее месяца до выгрузки данных. Стоит их оставить, чтобы модель понимала, что такие клиенты не являются потенциальными \"бегунками\"."
   ]
  },
  {
   "cell_type": "markdown",
   "id": "30e437d1",
   "metadata": {},
   "source": [
    "## personal"
   ]
  },
  {
   "cell_type": "markdown",
   "id": "ecce0273",
   "metadata": {},
   "source": [
    "Таблица содержит дополнительные данные о клиенте."
   ]
  },
  {
   "cell_type": "code",
   "execution_count": 15,
   "id": "7708f3d4",
   "metadata": {},
   "outputs": [
    {
     "name": "stdout",
     "output_type": "stream",
     "text": [
      "<class 'pandas.core.frame.DataFrame'>\n",
      "RangeIndex: 7043 entries, 0 to 7042\n",
      "Data columns (total 5 columns):\n",
      " #   Column         Non-Null Count  Dtype \n",
      "---  ------         --------------  ----- \n",
      " 0   customerID     7043 non-null   object\n",
      " 1   gender         7043 non-null   object\n",
      " 2   SeniorCitizen  7043 non-null   int64 \n",
      " 3   Partner        7043 non-null   object\n",
      " 4   Dependents     7043 non-null   object\n",
      "dtypes: int64(1), object(4)\n",
      "memory usage: 275.2+ KB\n"
     ]
    }
   ],
   "source": [
    "personal.info()"
   ]
  },
  {
   "cell_type": "code",
   "execution_count": 16,
   "id": "530bac81",
   "metadata": {},
   "outputs": [
    {
     "data": {
      "text/plain": [
       "0"
      ]
     },
     "execution_count": 16,
     "metadata": {},
     "output_type": "execute_result"
    }
   ],
   "source": [
    "personal.duplicated().sum()"
   ]
  },
  {
   "cell_type": "markdown",
   "id": "6cd8040c",
   "metadata": {},
   "source": [
    "Здесь также необходимо преобразовывать данные к числовым типам. Пока не видно, есть ли пропуски"
   ]
  },
  {
   "cell_type": "code",
   "execution_count": 17,
   "id": "8478e5f1",
   "metadata": {},
   "outputs": [
    {
     "data": {
      "text/html": [
       "<div>\n",
       "<style scoped>\n",
       "    .dataframe tbody tr th:only-of-type {\n",
       "        vertical-align: middle;\n",
       "    }\n",
       "\n",
       "    .dataframe tbody tr th {\n",
       "        vertical-align: top;\n",
       "    }\n",
       "\n",
       "    .dataframe thead th {\n",
       "        text-align: right;\n",
       "    }\n",
       "</style>\n",
       "<table border=\"1\" class=\"dataframe\">\n",
       "  <thead>\n",
       "    <tr style=\"text-align: right;\">\n",
       "      <th></th>\n",
       "      <th>customerID</th>\n",
       "      <th>gender</th>\n",
       "      <th>SeniorCitizen</th>\n",
       "      <th>Partner</th>\n",
       "      <th>Dependents</th>\n",
       "    </tr>\n",
       "  </thead>\n",
       "  <tbody>\n",
       "    <tr>\n",
       "      <th>185</th>\n",
       "      <td>1024-GUALD</td>\n",
       "      <td>Female</td>\n",
       "      <td>0</td>\n",
       "      <td>Yes</td>\n",
       "      <td>No</td>\n",
       "    </tr>\n",
       "    <tr>\n",
       "      <th>2715</th>\n",
       "      <td>0484-JPBRU</td>\n",
       "      <td>Male</td>\n",
       "      <td>0</td>\n",
       "      <td>No</td>\n",
       "      <td>No</td>\n",
       "    </tr>\n",
       "    <tr>\n",
       "      <th>3825</th>\n",
       "      <td>3620-EHIMZ</td>\n",
       "      <td>Female</td>\n",
       "      <td>0</td>\n",
       "      <td>Yes</td>\n",
       "      <td>Yes</td>\n",
       "    </tr>\n",
       "    <tr>\n",
       "      <th>1807</th>\n",
       "      <td>6910-HADCM</td>\n",
       "      <td>Female</td>\n",
       "      <td>0</td>\n",
       "      <td>No</td>\n",
       "      <td>No</td>\n",
       "    </tr>\n",
       "    <tr>\n",
       "      <th>132</th>\n",
       "      <td>8587-XYZSF</td>\n",
       "      <td>Male</td>\n",
       "      <td>0</td>\n",
       "      <td>No</td>\n",
       "      <td>No</td>\n",
       "    </tr>\n",
       "  </tbody>\n",
       "</table>\n",
       "</div>"
      ],
      "text/plain": [
       "      customerID  gender  SeniorCitizen Partner Dependents\n",
       "185   1024-GUALD  Female              0     Yes         No\n",
       "2715  0484-JPBRU    Male              0      No         No\n",
       "3825  3620-EHIMZ  Female              0     Yes        Yes\n",
       "1807  6910-HADCM  Female              0      No         No\n",
       "132   8587-XYZSF    Male              0      No         No"
      ]
     },
     "execution_count": 17,
     "metadata": {},
     "output_type": "execute_result"
    }
   ],
   "source": [
    "personal.sample(5, random_state=42)"
   ]
  },
  {
   "cell_type": "code",
   "execution_count": 18,
   "id": "2eeabe99",
   "metadata": {},
   "outputs": [
    {
     "data": {
      "text/plain": [
       "0"
      ]
     },
     "execution_count": 18,
     "metadata": {},
     "output_type": "execute_result"
    }
   ],
   "source": [
    "personal.duplicated().sum()"
   ]
  },
  {
   "cell_type": "code",
   "execution_count": 19,
   "id": "2ba91012",
   "metadata": {},
   "outputs": [
    {
     "data": {
      "text/plain": [
       "['Female', 'Male']"
      ]
     },
     "execution_count": 19,
     "metadata": {},
     "output_type": "execute_result"
    }
   ],
   "source": [
    "list(personal['gender'].unique())"
   ]
  },
  {
   "cell_type": "code",
   "execution_count": 20,
   "id": "87872861",
   "metadata": {},
   "outputs": [
    {
     "data": {
      "text/plain": [
       "[0, 1]"
      ]
     },
     "execution_count": 20,
     "metadata": {},
     "output_type": "execute_result"
    }
   ],
   "source": [
    "list(personal['SeniorCitizen'].unique())"
   ]
  },
  {
   "cell_type": "code",
   "execution_count": 21,
   "id": "8bc3ca55",
   "metadata": {},
   "outputs": [
    {
     "data": {
      "text/plain": [
       "['Yes', 'No']"
      ]
     },
     "execution_count": 21,
     "metadata": {},
     "output_type": "execute_result"
    }
   ],
   "source": [
    "list(personal['Partner'].unique())"
   ]
  },
  {
   "cell_type": "code",
   "execution_count": 22,
   "id": "51567d28",
   "metadata": {},
   "outputs": [
    {
     "data": {
      "text/plain": [
       "['No', 'Yes']"
      ]
     },
     "execution_count": 22,
     "metadata": {},
     "output_type": "execute_result"
    }
   ],
   "source": [
    "list(personal['Dependents'].unique())"
   ]
  },
  {
   "cell_type": "markdown",
   "id": "5f60ca3c",
   "metadata": {},
   "source": [
    "## phone"
   ]
  },
  {
   "cell_type": "markdown",
   "id": "1156a567",
   "metadata": {},
   "source": [
    "Данные об использовании клиентом телефонной линии."
   ]
  },
  {
   "cell_type": "code",
   "execution_count": 23,
   "id": "efebe99a",
   "metadata": {},
   "outputs": [
    {
     "name": "stdout",
     "output_type": "stream",
     "text": [
      "<class 'pandas.core.frame.DataFrame'>\n",
      "RangeIndex: 6361 entries, 0 to 6360\n",
      "Data columns (total 2 columns):\n",
      " #   Column         Non-Null Count  Dtype \n",
      "---  ------         --------------  ----- \n",
      " 0   customerID     6361 non-null   object\n",
      " 1   MultipleLines  6361 non-null   object\n",
      "dtypes: object(2)\n",
      "memory usage: 99.5+ KB\n"
     ]
    }
   ],
   "source": [
    "phone.info()"
   ]
  },
  {
   "cell_type": "code",
   "execution_count": 24,
   "id": "460a4265",
   "metadata": {},
   "outputs": [
    {
     "data": {
      "text/plain": [
       "0"
      ]
     },
     "execution_count": 24,
     "metadata": {},
     "output_type": "execute_result"
    }
   ],
   "source": [
    "phone.duplicated().sum()"
   ]
  },
  {
   "cell_type": "markdown",
   "id": "06b7e182",
   "metadata": {},
   "source": [
    "Необходимо преобразовывать типы данных. Данных меньше, чем в опорной таблице"
   ]
  },
  {
   "cell_type": "code",
   "execution_count": 25,
   "id": "84be17d1",
   "metadata": {},
   "outputs": [
    {
     "data": {
      "text/html": [
       "<div>\n",
       "<style scoped>\n",
       "    .dataframe tbody tr th:only-of-type {\n",
       "        vertical-align: middle;\n",
       "    }\n",
       "\n",
       "    .dataframe tbody tr th {\n",
       "        vertical-align: top;\n",
       "    }\n",
       "\n",
       "    .dataframe thead th {\n",
       "        text-align: right;\n",
       "    }\n",
       "</style>\n",
       "<table border=\"1\" class=\"dataframe\">\n",
       "  <thead>\n",
       "    <tr style=\"text-align: right;\">\n",
       "      <th></th>\n",
       "      <th>customerID</th>\n",
       "      <th>MultipleLines</th>\n",
       "    </tr>\n",
       "  </thead>\n",
       "  <tbody>\n",
       "    <tr>\n",
       "      <th>4743</th>\n",
       "      <td>5887-IKKYO</td>\n",
       "      <td>Yes</td>\n",
       "    </tr>\n",
       "    <tr>\n",
       "      <th>4825</th>\n",
       "      <td>7718-UPSKJ</td>\n",
       "      <td>No</td>\n",
       "    </tr>\n",
       "    <tr>\n",
       "      <th>472</th>\n",
       "      <td>3571-DPYUH</td>\n",
       "      <td>Yes</td>\n",
       "    </tr>\n",
       "    <tr>\n",
       "      <th>2722</th>\n",
       "      <td>3769-MHZNV</td>\n",
       "      <td>No</td>\n",
       "    </tr>\n",
       "    <tr>\n",
       "      <th>932</th>\n",
       "      <td>6732-FZUGP</td>\n",
       "      <td>Yes</td>\n",
       "    </tr>\n",
       "  </tbody>\n",
       "</table>\n",
       "</div>"
      ],
      "text/plain": [
       "      customerID MultipleLines\n",
       "4743  5887-IKKYO           Yes\n",
       "4825  7718-UPSKJ            No\n",
       "472   3571-DPYUH           Yes\n",
       "2722  3769-MHZNV            No\n",
       "932   6732-FZUGP           Yes"
      ]
     },
     "execution_count": 25,
     "metadata": {},
     "output_type": "execute_result"
    }
   ],
   "source": [
    "phone.sample(5, random_state=42)"
   ]
  },
  {
   "cell_type": "code",
   "execution_count": 26,
   "id": "b3e42716",
   "metadata": {},
   "outputs": [
    {
     "data": {
      "text/plain": [
       "0"
      ]
     },
     "execution_count": 26,
     "metadata": {},
     "output_type": "execute_result"
    }
   ],
   "source": [
    "phone.duplicated().sum()"
   ]
  },
  {
   "cell_type": "code",
   "execution_count": 27,
   "id": "5c2a26f8",
   "metadata": {},
   "outputs": [
    {
     "data": {
      "text/plain": [
       "['No', 'Yes']"
      ]
     },
     "execution_count": 27,
     "metadata": {},
     "output_type": "execute_result"
    }
   ],
   "source": [
    "list(phone['MultipleLines'].unique())"
   ]
  },
  {
   "cell_type": "markdown",
   "id": "41a67737",
   "metadata": {},
   "source": [
    "## internet"
   ]
  },
  {
   "cell_type": "markdown",
   "id": "c70a1111",
   "metadata": {},
   "source": [
    "Данные об использовании клиентом подключения к интернету."
   ]
  },
  {
   "cell_type": "code",
   "execution_count": 28,
   "id": "427c050a",
   "metadata": {},
   "outputs": [
    {
     "name": "stdout",
     "output_type": "stream",
     "text": [
      "<class 'pandas.core.frame.DataFrame'>\n",
      "RangeIndex: 5517 entries, 0 to 5516\n",
      "Data columns (total 8 columns):\n",
      " #   Column            Non-Null Count  Dtype \n",
      "---  ------            --------------  ----- \n",
      " 0   customerID        5517 non-null   object\n",
      " 1   InternetService   5517 non-null   object\n",
      " 2   OnlineSecurity    5517 non-null   object\n",
      " 3   OnlineBackup      5517 non-null   object\n",
      " 4   DeviceProtection  5517 non-null   object\n",
      " 5   TechSupport       5517 non-null   object\n",
      " 6   StreamingTV       5517 non-null   object\n",
      " 7   StreamingMovies   5517 non-null   object\n",
      "dtypes: object(8)\n",
      "memory usage: 344.9+ KB\n"
     ]
    }
   ],
   "source": [
    "internet.info()"
   ]
  },
  {
   "cell_type": "code",
   "execution_count": 29,
   "id": "3afa77e2",
   "metadata": {},
   "outputs": [
    {
     "data": {
      "text/plain": [
       "0"
      ]
     },
     "execution_count": 29,
     "metadata": {},
     "output_type": "execute_result"
    }
   ],
   "source": [
    "internet.duplicated().sum()"
   ]
  },
  {
   "cell_type": "markdown",
   "id": "627799c9",
   "metadata": {},
   "source": [
    "Необходимо преобразовывать данные к числовым типам. Данных меньше, чем в опорной таблице, не все пользуются интернетом"
   ]
  },
  {
   "cell_type": "code",
   "execution_count": 30,
   "id": "365f54be",
   "metadata": {},
   "outputs": [
    {
     "data": {
      "text/html": [
       "<div>\n",
       "<style scoped>\n",
       "    .dataframe tbody tr th:only-of-type {\n",
       "        vertical-align: middle;\n",
       "    }\n",
       "\n",
       "    .dataframe tbody tr th {\n",
       "        vertical-align: top;\n",
       "    }\n",
       "\n",
       "    .dataframe thead th {\n",
       "        text-align: right;\n",
       "    }\n",
       "</style>\n",
       "<table border=\"1\" class=\"dataframe\">\n",
       "  <thead>\n",
       "    <tr style=\"text-align: right;\">\n",
       "      <th></th>\n",
       "      <th>customerID</th>\n",
       "      <th>InternetService</th>\n",
       "      <th>OnlineSecurity</th>\n",
       "      <th>OnlineBackup</th>\n",
       "      <th>DeviceProtection</th>\n",
       "      <th>TechSupport</th>\n",
       "      <th>StreamingTV</th>\n",
       "      <th>StreamingMovies</th>\n",
       "    </tr>\n",
       "  </thead>\n",
       "  <tbody>\n",
       "    <tr>\n",
       "      <th>1615</th>\n",
       "      <td>1170-SASML</td>\n",
       "      <td>Fiber optic</td>\n",
       "      <td>No</td>\n",
       "      <td>Yes</td>\n",
       "      <td>Yes</td>\n",
       "      <td>No</td>\n",
       "      <td>No</td>\n",
       "      <td>No</td>\n",
       "    </tr>\n",
       "    <tr>\n",
       "      <th>1874</th>\n",
       "      <td>9314-QDMDW</td>\n",
       "      <td>DSL</td>\n",
       "      <td>No</td>\n",
       "      <td>Yes</td>\n",
       "      <td>No</td>\n",
       "      <td>No</td>\n",
       "      <td>Yes</td>\n",
       "      <td>No</td>\n",
       "    </tr>\n",
       "    <tr>\n",
       "      <th>3167</th>\n",
       "      <td>2434-EEVDB</td>\n",
       "      <td>Fiber optic</td>\n",
       "      <td>Yes</td>\n",
       "      <td>No</td>\n",
       "      <td>Yes</td>\n",
       "      <td>No</td>\n",
       "      <td>Yes</td>\n",
       "      <td>No</td>\n",
       "    </tr>\n",
       "    <tr>\n",
       "      <th>5287</th>\n",
       "      <td>7672-VFMXZ</td>\n",
       "      <td>DSL</td>\n",
       "      <td>Yes</td>\n",
       "      <td>No</td>\n",
       "      <td>No</td>\n",
       "      <td>Yes</td>\n",
       "      <td>No</td>\n",
       "      <td>No</td>\n",
       "    </tr>\n",
       "    <tr>\n",
       "      <th>4770</th>\n",
       "      <td>7445-WMRBW</td>\n",
       "      <td>DSL</td>\n",
       "      <td>No</td>\n",
       "      <td>Yes</td>\n",
       "      <td>Yes</td>\n",
       "      <td>Yes</td>\n",
       "      <td>Yes</td>\n",
       "      <td>No</td>\n",
       "    </tr>\n",
       "  </tbody>\n",
       "</table>\n",
       "</div>"
      ],
      "text/plain": [
       "      customerID InternetService OnlineSecurity OnlineBackup DeviceProtection  \\\n",
       "1615  1170-SASML     Fiber optic             No          Yes              Yes   \n",
       "1874  9314-QDMDW             DSL             No          Yes               No   \n",
       "3167  2434-EEVDB     Fiber optic            Yes           No              Yes   \n",
       "5287  7672-VFMXZ             DSL            Yes           No               No   \n",
       "4770  7445-WMRBW             DSL             No          Yes              Yes   \n",
       "\n",
       "     TechSupport StreamingTV StreamingMovies  \n",
       "1615          No          No              No  \n",
       "1874          No         Yes              No  \n",
       "3167          No         Yes              No  \n",
       "5287         Yes          No              No  \n",
       "4770         Yes         Yes              No  "
      ]
     },
     "execution_count": 30,
     "metadata": {},
     "output_type": "execute_result"
    }
   ],
   "source": [
    "internet.sample(5, random_state=42)"
   ]
  },
  {
   "cell_type": "markdown",
   "id": "a6a4b2db",
   "metadata": {},
   "source": [
    "Возможно, стоит выделить признак с количеством используемых интернет-услуг вместо или вместе с имеющимися"
   ]
  },
  {
   "cell_type": "markdown",
   "id": "acbfd9f0",
   "metadata": {},
   "source": [
    "**Необходимо преобразование типов данных, объединение таблиц и заполнение пропусков. Из дат контрактов возможно вычислить дополнительный признак - длительность контракта. На первый взгляд, данные довольно чистые.**"
   ]
  },
  {
   "cell_type": "markdown",
   "id": "b732e83f",
   "metadata": {},
   "source": [
    "## Предобработка данных"
   ]
  },
  {
   "cell_type": "markdown",
   "id": "644515ce",
   "metadata": {},
   "source": [
    "Обработаем и соберём все данные вместе"
   ]
  },
  {
   "cell_type": "code",
   "execution_count": 31,
   "id": "87f0c273",
   "metadata": {},
   "outputs": [],
   "source": [
    "df = (\n",
    "    contract.rename(columns={'customerID': 'CustomerID'})\n",
    "    .set_index('CustomerID')\n",
    "    .astype({'MonthlyCharges': float})\n",
    "    .replace({'TotalCharges': ' '}, 0)\n",
    "    .astype({'TotalCharges': float})\n",
    "    .assign( # добавление и вычисление целевого признака (Target)\n",
    "        Target=lambda x: x.EndDate != 'No'\n",
    "    )\n",
    "    #.astype({'Target': int})\n",
    "    .assign( # приведение к типу date\n",
    "        BeginDate=lambda x: pd.to_datetime(x['BeginDate'], format='%Y-%m-%d'),\n",
    "        EndDate=lambda x: pd.to_datetime(x['EndDate'], format='%Y-%m-%d', errors='coerce')\n",
    "    )\n",
    "    .fillna(value={'EndDate': pd.to_datetime('2020-02-01', format='%Y-%m-%d')}) # по-умолчанию дата на момент выгрузки\n",
    "    .assign( # добавление признака \"продолжительность использования услуг\" (Duration)\n",
    "        Duration=lambda x: (x['EndDate'] - x['BeginDate']).dt.days) \n",
    "    .assign(PaperlessBilling=lambda x: x['PaperlessBilling'] == 'Yes')\n",
    "    .drop(columns=['BeginDate', 'EndDate']) # удаление дат как слабохарактеризующих признаков\n",
    "    .join( # personal\n",
    "        (personal.rename(columns={'customerID': 'CustomerID', 'gender': 'Gender'})\n",
    "         .set_index('CustomerID')\n",
    "         .replace({'Gender': {'Female': False, 'Male': True}})\n",
    "         .astype({'SeniorCitizen': bool})\n",
    "         .assign(\n",
    "            Partner=lambda x: x.Partner == 'Yes',\n",
    "            Dependents=lambda x: x.Dependents == 'Yes'\n",
    "         )\n",
    "        ), how='left')\n",
    "    .join( # phone\n",
    "        (phone.rename(columns={'customerID': 'CustomerID'})\n",
    "         .set_index('CustomerID')\n",
    "         .assign(\n",
    "             UsePhone=True,\n",
    "             MultipleLines=lambda x: x.MultipleLines == 'Yes'\n",
    "         )\n",
    "        ), how='left')\n",
    "    .fillna(value={ # не использующим телефон устанавливаем False\n",
    "        'MultipleLines': False, \n",
    "        'UsePhone': False\n",
    "    })\n",
    "    .join( # internet\n",
    "        (internet.rename(columns={'customerID': 'CustomerID'})\n",
    "         .set_index('CustomerID')\n",
    "         .assign( # приведение к типу bool\n",
    "             OnlineSecurity=lambda x: x['OnlineSecurity'] == 'Yes',\n",
    "             OnlineBackup=lambda x: x['OnlineBackup'] == 'Yes',\n",
    "             DeviceProtection=lambda x: x['DeviceProtection'] == 'Yes',\n",
    "             TechSupport=lambda x: x['TechSupport'] == 'Yes',\n",
    "             StreamingTV=lambda x: x['StreamingTV'] == 'Yes',\n",
    "             StreamingMovies=lambda x: x['StreamingMovies'] == 'Yes'\n",
    "         )\n",
    "         .assign( # добавление признака \"кол-во доп. интернет-услуг\" (InternetServicesCount)\n",
    "             InternetServicesCount=lambda x: x.iloc[:, 1:].sum(axis=1)\n",
    "         )\n",
    "        ), how='left')\n",
    "    .fillna(value={\n",
    "        'InternetService': 'None',\n",
    "        'OnlineSecurity': False,\n",
    "        'OnlineBackup': False,\n",
    "        'DeviceProtection': False,\n",
    "        'TechSupport': False,\n",
    "        'StreamingTV': False,\n",
    "        'StreamingMovies': False,\n",
    "        'InternetServicesCount': 0\n",
    "    })\n",
    "    .astype({'InternetServicesCount': int})\n",
    ")"
   ]
  },
  {
   "cell_type": "code",
   "execution_count": 32,
   "id": "6f1c4cd7",
   "metadata": {
    "scrolled": true
   },
   "outputs": [
    {
     "name": "stdout",
     "output_type": "stream",
     "text": [
      "<class 'pandas.core.frame.DataFrame'>\n",
      "Index: 7043 entries, 7590-VHVEG to 3186-AJIEK\n",
      "Data columns (total 21 columns):\n",
      " #   Column                 Non-Null Count  Dtype  \n",
      "---  ------                 --------------  -----  \n",
      " 0   Type                   7043 non-null   object \n",
      " 1   PaperlessBilling       7043 non-null   bool   \n",
      " 2   PaymentMethod          7043 non-null   object \n",
      " 3   MonthlyCharges         7043 non-null   float64\n",
      " 4   TotalCharges           7043 non-null   float64\n",
      " 5   Target                 7043 non-null   bool   \n",
      " 6   Duration               7043 non-null   int64  \n",
      " 7   Gender                 7043 non-null   bool   \n",
      " 8   SeniorCitizen          7043 non-null   bool   \n",
      " 9   Partner                7043 non-null   bool   \n",
      " 10  Dependents             7043 non-null   bool   \n",
      " 11  MultipleLines          7043 non-null   bool   \n",
      " 12  UsePhone               7043 non-null   bool   \n",
      " 13  InternetService        7043 non-null   object \n",
      " 14  OnlineSecurity         7043 non-null   bool   \n",
      " 15  OnlineBackup           7043 non-null   bool   \n",
      " 16  DeviceProtection       7043 non-null   bool   \n",
      " 17  TechSupport            7043 non-null   bool   \n",
      " 18  StreamingTV            7043 non-null   bool   \n",
      " 19  StreamingMovies        7043 non-null   bool   \n",
      " 20  InternetServicesCount  7043 non-null   int32  \n",
      "dtypes: bool(14), float64(2), int32(1), int64(1), object(3)\n",
      "memory usage: 767.0+ KB\n"
     ]
    }
   ],
   "source": [
    "df.info()"
   ]
  },
  {
   "cell_type": "code",
   "execution_count": 33,
   "id": "4e523c7c",
   "metadata": {},
   "outputs": [
    {
     "data": {
      "text/html": [
       "<div>\n",
       "<style scoped>\n",
       "    .dataframe tbody tr th:only-of-type {\n",
       "        vertical-align: middle;\n",
       "    }\n",
       "\n",
       "    .dataframe tbody tr th {\n",
       "        vertical-align: top;\n",
       "    }\n",
       "\n",
       "    .dataframe thead th {\n",
       "        text-align: right;\n",
       "    }\n",
       "</style>\n",
       "<table border=\"1\" class=\"dataframe\">\n",
       "  <thead>\n",
       "    <tr style=\"text-align: right;\">\n",
       "      <th></th>\n",
       "      <th>Type</th>\n",
       "      <th>PaperlessBilling</th>\n",
       "      <th>PaymentMethod</th>\n",
       "      <th>MonthlyCharges</th>\n",
       "      <th>TotalCharges</th>\n",
       "      <th>Target</th>\n",
       "      <th>Duration</th>\n",
       "      <th>Gender</th>\n",
       "      <th>SeniorCitizen</th>\n",
       "      <th>Partner</th>\n",
       "      <th>...</th>\n",
       "      <th>MultipleLines</th>\n",
       "      <th>UsePhone</th>\n",
       "      <th>InternetService</th>\n",
       "      <th>OnlineSecurity</th>\n",
       "      <th>OnlineBackup</th>\n",
       "      <th>DeviceProtection</th>\n",
       "      <th>TechSupport</th>\n",
       "      <th>StreamingTV</th>\n",
       "      <th>StreamingMovies</th>\n",
       "      <th>InternetServicesCount</th>\n",
       "    </tr>\n",
       "    <tr>\n",
       "      <th>CustomerID</th>\n",
       "      <th></th>\n",
       "      <th></th>\n",
       "      <th></th>\n",
       "      <th></th>\n",
       "      <th></th>\n",
       "      <th></th>\n",
       "      <th></th>\n",
       "      <th></th>\n",
       "      <th></th>\n",
       "      <th></th>\n",
       "      <th></th>\n",
       "      <th></th>\n",
       "      <th></th>\n",
       "      <th></th>\n",
       "      <th></th>\n",
       "      <th></th>\n",
       "      <th></th>\n",
       "      <th></th>\n",
       "      <th></th>\n",
       "      <th></th>\n",
       "      <th></th>\n",
       "    </tr>\n",
       "  </thead>\n",
       "  <tbody>\n",
       "    <tr>\n",
       "      <th>1024-GUALD</th>\n",
       "      <td>Month-to-month</td>\n",
       "      <td>True</td>\n",
       "      <td>Electronic check</td>\n",
       "      <td>24.80</td>\n",
       "      <td>24.80</td>\n",
       "      <td>True</td>\n",
       "      <td>31</td>\n",
       "      <td>False</td>\n",
       "      <td>False</td>\n",
       "      <td>True</td>\n",
       "      <td>...</td>\n",
       "      <td>False</td>\n",
       "      <td>False</td>\n",
       "      <td>DSL</td>\n",
       "      <td>False</td>\n",
       "      <td>False</td>\n",
       "      <td>False</td>\n",
       "      <td>False</td>\n",
       "      <td>False</td>\n",
       "      <td>False</td>\n",
       "      <td>0</td>\n",
       "    </tr>\n",
       "    <tr>\n",
       "      <th>0484-JPBRU</th>\n",
       "      <td>Month-to-month</td>\n",
       "      <td>True</td>\n",
       "      <td>Bank transfer (automatic)</td>\n",
       "      <td>25.25</td>\n",
       "      <td>996.45</td>\n",
       "      <td>False</td>\n",
       "      <td>1248</td>\n",
       "      <td>True</td>\n",
       "      <td>False</td>\n",
       "      <td>False</td>\n",
       "      <td>...</td>\n",
       "      <td>True</td>\n",
       "      <td>True</td>\n",
       "      <td>None</td>\n",
       "      <td>False</td>\n",
       "      <td>False</td>\n",
       "      <td>False</td>\n",
       "      <td>False</td>\n",
       "      <td>False</td>\n",
       "      <td>False</td>\n",
       "      <td>0</td>\n",
       "    </tr>\n",
       "    <tr>\n",
       "      <th>3620-EHIMZ</th>\n",
       "      <td>Two year</td>\n",
       "      <td>False</td>\n",
       "      <td>Mailed check</td>\n",
       "      <td>19.35</td>\n",
       "      <td>1031.70</td>\n",
       "      <td>False</td>\n",
       "      <td>1584</td>\n",
       "      <td>False</td>\n",
       "      <td>False</td>\n",
       "      <td>True</td>\n",
       "      <td>...</td>\n",
       "      <td>False</td>\n",
       "      <td>True</td>\n",
       "      <td>None</td>\n",
       "      <td>False</td>\n",
       "      <td>False</td>\n",
       "      <td>False</td>\n",
       "      <td>False</td>\n",
       "      <td>False</td>\n",
       "      <td>False</td>\n",
       "      <td>0</td>\n",
       "    </tr>\n",
       "    <tr>\n",
       "      <th>6910-HADCM</th>\n",
       "      <td>Month-to-month</td>\n",
       "      <td>False</td>\n",
       "      <td>Electronic check</td>\n",
       "      <td>76.35</td>\n",
       "      <td>76.35</td>\n",
       "      <td>True</td>\n",
       "      <td>30</td>\n",
       "      <td>False</td>\n",
       "      <td>False</td>\n",
       "      <td>False</td>\n",
       "      <td>...</td>\n",
       "      <td>False</td>\n",
       "      <td>True</td>\n",
       "      <td>Fiber optic</td>\n",
       "      <td>False</td>\n",
       "      <td>False</td>\n",
       "      <td>True</td>\n",
       "      <td>False</td>\n",
       "      <td>False</td>\n",
       "      <td>False</td>\n",
       "      <td>1</td>\n",
       "    </tr>\n",
       "    <tr>\n",
       "      <th>8587-XYZSF</th>\n",
       "      <td>Two year</td>\n",
       "      <td>False</td>\n",
       "      <td>Bank transfer (automatic)</td>\n",
       "      <td>50.55</td>\n",
       "      <td>3260.10</td>\n",
       "      <td>False</td>\n",
       "      <td>2041</td>\n",
       "      <td>True</td>\n",
       "      <td>False</td>\n",
       "      <td>False</td>\n",
       "      <td>...</td>\n",
       "      <td>False</td>\n",
       "      <td>True</td>\n",
       "      <td>DSL</td>\n",
       "      <td>False</td>\n",
       "      <td>False</td>\n",
       "      <td>False</td>\n",
       "      <td>True</td>\n",
       "      <td>False</td>\n",
       "      <td>False</td>\n",
       "      <td>1</td>\n",
       "    </tr>\n",
       "    <tr>\n",
       "      <th>6818-WOBHJ</th>\n",
       "      <td>Month-to-month</td>\n",
       "      <td>True</td>\n",
       "      <td>Bank transfer (automatic)</td>\n",
       "      <td>89.60</td>\n",
       "      <td>6127.60</td>\n",
       "      <td>True</td>\n",
       "      <td>2071</td>\n",
       "      <td>False</td>\n",
       "      <td>True</td>\n",
       "      <td>True</td>\n",
       "      <td>...</td>\n",
       "      <td>True</td>\n",
       "      <td>True</td>\n",
       "      <td>Fiber optic</td>\n",
       "      <td>False</td>\n",
       "      <td>True</td>\n",
       "      <td>False</td>\n",
       "      <td>False</td>\n",
       "      <td>False</td>\n",
       "      <td>True</td>\n",
       "      <td>2</td>\n",
       "    </tr>\n",
       "    <tr>\n",
       "      <th>3082-YVEKW</th>\n",
       "      <td>Two year</td>\n",
       "      <td>True</td>\n",
       "      <td>Bank transfer (automatic)</td>\n",
       "      <td>77.15</td>\n",
       "      <td>1759.40</td>\n",
       "      <td>False</td>\n",
       "      <td>702</td>\n",
       "      <td>False</td>\n",
       "      <td>False</td>\n",
       "      <td>True</td>\n",
       "      <td>...</td>\n",
       "      <td>True</td>\n",
       "      <td>True</td>\n",
       "      <td>DSL</td>\n",
       "      <td>True</td>\n",
       "      <td>False</td>\n",
       "      <td>True</td>\n",
       "      <td>True</td>\n",
       "      <td>True</td>\n",
       "      <td>False</td>\n",
       "      <td>4</td>\n",
       "    </tr>\n",
       "    <tr>\n",
       "      <th>4737-AQCPU</th>\n",
       "      <td>Two year</td>\n",
       "      <td>False</td>\n",
       "      <td>Credit card (automatic)</td>\n",
       "      <td>72.10</td>\n",
       "      <td>5016.65</td>\n",
       "      <td>False</td>\n",
       "      <td>2191</td>\n",
       "      <td>True</td>\n",
       "      <td>False</td>\n",
       "      <td>True</td>\n",
       "      <td>...</td>\n",
       "      <td>True</td>\n",
       "      <td>True</td>\n",
       "      <td>DSL</td>\n",
       "      <td>True</td>\n",
       "      <td>True</td>\n",
       "      <td>True</td>\n",
       "      <td>True</td>\n",
       "      <td>False</td>\n",
       "      <td>False</td>\n",
       "      <td>4</td>\n",
       "    </tr>\n",
       "    <tr>\n",
       "      <th>4853-RULSV</th>\n",
       "      <td>Two year</td>\n",
       "      <td>True</td>\n",
       "      <td>Credit card (automatic)</td>\n",
       "      <td>104.00</td>\n",
       "      <td>7250.15</td>\n",
       "      <td>True</td>\n",
       "      <td>2129</td>\n",
       "      <td>True</td>\n",
       "      <td>False</td>\n",
       "      <td>False</td>\n",
       "      <td>...</td>\n",
       "      <td>True</td>\n",
       "      <td>True</td>\n",
       "      <td>Fiber optic</td>\n",
       "      <td>True</td>\n",
       "      <td>False</td>\n",
       "      <td>False</td>\n",
       "      <td>True</td>\n",
       "      <td>True</td>\n",
       "      <td>True</td>\n",
       "      <td>4</td>\n",
       "    </tr>\n",
       "    <tr>\n",
       "      <th>5766-ZJYBB</th>\n",
       "      <td>Month-to-month</td>\n",
       "      <td>False</td>\n",
       "      <td>Mailed check</td>\n",
       "      <td>19.40</td>\n",
       "      <td>19.40</td>\n",
       "      <td>True</td>\n",
       "      <td>30</td>\n",
       "      <td>True</td>\n",
       "      <td>False</td>\n",
       "      <td>False</td>\n",
       "      <td>...</td>\n",
       "      <td>False</td>\n",
       "      <td>True</td>\n",
       "      <td>None</td>\n",
       "      <td>False</td>\n",
       "      <td>False</td>\n",
       "      <td>False</td>\n",
       "      <td>False</td>\n",
       "      <td>False</td>\n",
       "      <td>False</td>\n",
       "      <td>0</td>\n",
       "    </tr>\n",
       "  </tbody>\n",
       "</table>\n",
       "<p>10 rows × 21 columns</p>\n",
       "</div>"
      ],
      "text/plain": [
       "                      Type  PaperlessBilling              PaymentMethod  \\\n",
       "CustomerID                                                                \n",
       "1024-GUALD  Month-to-month              True           Electronic check   \n",
       "0484-JPBRU  Month-to-month              True  Bank transfer (automatic)   \n",
       "3620-EHIMZ        Two year             False               Mailed check   \n",
       "6910-HADCM  Month-to-month             False           Electronic check   \n",
       "8587-XYZSF        Two year             False  Bank transfer (automatic)   \n",
       "6818-WOBHJ  Month-to-month              True  Bank transfer (automatic)   \n",
       "3082-YVEKW        Two year              True  Bank transfer (automatic)   \n",
       "4737-AQCPU        Two year             False    Credit card (automatic)   \n",
       "4853-RULSV        Two year              True    Credit card (automatic)   \n",
       "5766-ZJYBB  Month-to-month             False               Mailed check   \n",
       "\n",
       "            MonthlyCharges  TotalCharges  Target  Duration  Gender  \\\n",
       "CustomerID                                                           \n",
       "1024-GUALD           24.80         24.80    True        31   False   \n",
       "0484-JPBRU           25.25        996.45   False      1248    True   \n",
       "3620-EHIMZ           19.35       1031.70   False      1584   False   \n",
       "6910-HADCM           76.35         76.35    True        30   False   \n",
       "8587-XYZSF           50.55       3260.10   False      2041    True   \n",
       "6818-WOBHJ           89.60       6127.60    True      2071   False   \n",
       "3082-YVEKW           77.15       1759.40   False       702   False   \n",
       "4737-AQCPU           72.10       5016.65   False      2191    True   \n",
       "4853-RULSV          104.00       7250.15    True      2129    True   \n",
       "5766-ZJYBB           19.40         19.40    True        30    True   \n",
       "\n",
       "            SeniorCitizen  Partner  ...  MultipleLines  UsePhone  \\\n",
       "CustomerID                          ...                            \n",
       "1024-GUALD          False     True  ...          False     False   \n",
       "0484-JPBRU          False    False  ...           True      True   \n",
       "3620-EHIMZ          False     True  ...          False      True   \n",
       "6910-HADCM          False    False  ...          False      True   \n",
       "8587-XYZSF          False    False  ...          False      True   \n",
       "6818-WOBHJ           True     True  ...           True      True   \n",
       "3082-YVEKW          False     True  ...           True      True   \n",
       "4737-AQCPU          False     True  ...           True      True   \n",
       "4853-RULSV          False    False  ...           True      True   \n",
       "5766-ZJYBB          False    False  ...          False      True   \n",
       "\n",
       "            InternetService OnlineSecurity  OnlineBackup  DeviceProtection  \\\n",
       "CustomerID                                                                   \n",
       "1024-GUALD              DSL          False         False             False   \n",
       "0484-JPBRU             None          False         False             False   \n",
       "3620-EHIMZ             None          False         False             False   \n",
       "6910-HADCM      Fiber optic          False         False              True   \n",
       "8587-XYZSF              DSL          False         False             False   \n",
       "6818-WOBHJ      Fiber optic          False          True             False   \n",
       "3082-YVEKW              DSL           True         False              True   \n",
       "4737-AQCPU              DSL           True          True              True   \n",
       "4853-RULSV      Fiber optic           True         False             False   \n",
       "5766-ZJYBB             None          False         False             False   \n",
       "\n",
       "            TechSupport  StreamingTV  StreamingMovies  InternetServicesCount  \n",
       "CustomerID                                                                    \n",
       "1024-GUALD        False        False            False                      0  \n",
       "0484-JPBRU        False        False            False                      0  \n",
       "3620-EHIMZ        False        False            False                      0  \n",
       "6910-HADCM        False        False            False                      1  \n",
       "8587-XYZSF         True        False            False                      1  \n",
       "6818-WOBHJ        False        False             True                      2  \n",
       "3082-YVEKW         True         True            False                      4  \n",
       "4737-AQCPU         True        False            False                      4  \n",
       "4853-RULSV         True         True             True                      4  \n",
       "5766-ZJYBB        False        False            False                      0  \n",
       "\n",
       "[10 rows x 21 columns]"
      ]
     },
     "execution_count": 33,
     "metadata": {},
     "output_type": "execute_result"
    }
   ],
   "source": [
    "df.sample(10, random_state=42)"
   ]
  },
  {
   "cell_type": "code",
   "execution_count": 34,
   "id": "5420b6b0",
   "metadata": {},
   "outputs": [
    {
     "data": {
      "image/png": "[encoded data removed]",
      "text/plain": [
       "<Figure size 864x432 with 1 Axes>"
      ]
     },
     "metadata": {
      "needs_background": "light"
     },
     "output_type": "display_data"
    }
   ],
   "source": [
    "fig, ax = plt.subplots(figsize=(12,6))\n",
    "sns.distplot(df['Duration'], bins=50, ax=ax)\n",
    "ax.set_title('Распределение длительности контракта с клиентом компании')\n",
    "ax.grid()\n",
    "ax.set_xlabel(\"Длительность, дни\")\n",
    "ax.set_ylabel(\"Плотность\")\n",
    "plt.show()"
   ]
  },
  {
   "cell_type": "markdown",
   "id": "fdc3bc22",
   "metadata": {},
   "source": [
    "### Оценка мультиколлинеарности"
   ]
  },
  {
   "cell_type": "markdown",
   "id": "b3f37154",
   "metadata": {},
   "source": [
    "Построим графики попарного рассеяния"
   ]
  },
  {
   "cell_type": "code",
   "execution_count": 35,
   "id": "d2c047fd",
   "metadata": {},
   "outputs": [],
   "source": [
    "df_num = df[df.select_dtypes(include=['int', 'float']).columns]"
   ]
  },
  {
   "cell_type": "code",
   "execution_count": 36,
   "id": "374dad71",
   "metadata": {},
   "outputs": [],
   "source": [
    "df_num = df[df.select_dtypes(exclude=['bool']).columns]\n",
    "df_num['Target'] = df['Target'].replace({True: 'ушёл', False: 'остался'})"
   ]
  },
  {
   "cell_type": "code",
   "execution_count": 37,
   "id": "b671c949",
   "metadata": {
    "scrolled": false
   },
   "outputs": [
    {
     "data": {
      "image/png": "[encoded data removed]",
      "text/plain": [
       "<Figure size 797.375x720 with 20 Axes>"
      ]
     },
     "metadata": {
      "needs_background": "light"
     },
     "output_type": "display_data"
    }
   ],
   "source": [
    "fig = sns.pairplot(df_num, hue='Target', diag_kind=\"hist\")"
   ]
  },
  {
   "cell_type": "markdown",
   "id": "73274bd8",
   "metadata": {},
   "source": [
    "Можно заметить сильные линейные зависимости параметров на диагонали идущей из нижнего левого угла вверх."
   ]
  },
  {
   "cell_type": "markdown",
   "id": "4ded3e9e",
   "metadata": {},
   "source": [
    "Рассчитаем корреляционную матрицу"
   ]
  },
  {
   "cell_type": "code",
   "execution_count": 38,
   "id": "995484d1",
   "metadata": {},
   "outputs": [],
   "source": [
    "corr_pisron = df_num[:-1].corr()\n",
    "corr_spearman = df_num[:-1].corr(method='spearman')"
   ]
  },
  {
   "cell_type": "code",
   "execution_count": 39,
   "id": "dfaab5cd",
   "metadata": {},
   "outputs": [
    {
     "data": {
      "image/png": "[encoded data removed]",
      "text/plain": [
       "<Figure size 864x288 with 3 Axes>"
      ]
     },
     "metadata": {
      "needs_background": "light"
     },
     "output_type": "display_data"
    }
   ],
   "source": [
    "fig, ax = plt.subplots(ncols=2, figsize=(12, 4), sharey=True)\n",
    "sns.heatmap(corr_pisron, xticklabels=corr_pisron.columns, annot = True, cmap= 'coolwarm', square=True, cbar=False, ax=ax[0])\n",
    "sns.heatmap(corr_spearman, xticklabels=corr_spearman.columns, annot = True, cmap= 'coolwarm', square=True,  ax=ax[1])\n",
    "ax[0].set_title('Корреляционная матрица Пирсона')\n",
    "ax[1].set_title('Корреляционная матрица Спирмена')\n",
    "plt.show()"
   ]
  },
  {
   "cell_type": "code",
   "execution_count": 40,
   "id": "dae620aa",
   "metadata": {
    "scrolled": true
   },
   "outputs": [
    {
     "data": {
      "text/html": [
       "<div>\n",
       "<style scoped>\n",
       "    .dataframe tbody tr th:only-of-type {\n",
       "        vertical-align: middle;\n",
       "    }\n",
       "\n",
       "    .dataframe tbody tr th {\n",
       "        vertical-align: top;\n",
       "    }\n",
       "\n",
       "    .dataframe thead th {\n",
       "        text-align: right;\n",
       "    }\n",
       "</style>\n",
       "<table border=\"1\" class=\"dataframe\">\n",
       "  <thead>\n",
       "    <tr style=\"text-align: right;\">\n",
       "      <th></th>\n",
       "      <th>MonthlyCharges</th>\n",
       "      <th>TotalCharges</th>\n",
       "      <th>Duration</th>\n",
       "      <th>InternetServicesCount</th>\n",
       "    </tr>\n",
       "  </thead>\n",
       "  <tbody>\n",
       "    <tr>\n",
       "      <th>MonthlyCharges</th>\n",
       "      <td>1.00</td>\n",
       "      <td>0.65</td>\n",
       "      <td>0.25</td>\n",
       "      <td>0.72</td>\n",
       "    </tr>\n",
       "    <tr>\n",
       "      <th>TotalCharges</th>\n",
       "      <td>0.65</td>\n",
       "      <td>1.00</td>\n",
       "      <td>0.83</td>\n",
       "      <td>0.74</td>\n",
       "    </tr>\n",
       "    <tr>\n",
       "      <th>Duration</th>\n",
       "      <td>0.25</td>\n",
       "      <td>0.83</td>\n",
       "      <td>1.00</td>\n",
       "      <td>0.49</td>\n",
       "    </tr>\n",
       "    <tr>\n",
       "      <th>InternetServicesCount</th>\n",
       "      <td>0.72</td>\n",
       "      <td>0.74</td>\n",
       "      <td>0.49</td>\n",
       "      <td>1.00</td>\n",
       "    </tr>\n",
       "  </tbody>\n",
       "</table>\n",
       "</div>"
      ],
      "text/plain": [
       "                       MonthlyCharges  TotalCharges  Duration  \\\n",
       "MonthlyCharges                   1.00          0.65      0.25   \n",
       "TotalCharges                     0.65          1.00      0.83   \n",
       "Duration                         0.25          0.83      1.00   \n",
       "InternetServicesCount            0.72          0.74      0.49   \n",
       "\n",
       "                       InternetServicesCount  \n",
       "MonthlyCharges                          0.72  \n",
       "TotalCharges                            0.74  \n",
       "Duration                                0.49  \n",
       "InternetServicesCount                   1.00  "
      ]
     },
     "execution_count": 40,
     "metadata": {},
     "output_type": "execute_result"
    }
   ],
   "source": [
    "# Корреляционная матрица Пирсона\n",
    "corr_pisron.round(2) "
   ]
  },
  {
   "cell_type": "code",
   "execution_count": 41,
   "id": "10003391",
   "metadata": {},
   "outputs": [
    {
     "data": {
      "text/html": [
       "<div>\n",
       "<style scoped>\n",
       "    .dataframe tbody tr th:only-of-type {\n",
       "        vertical-align: middle;\n",
       "    }\n",
       "\n",
       "    .dataframe tbody tr th {\n",
       "        vertical-align: top;\n",
       "    }\n",
       "\n",
       "    .dataframe thead th {\n",
       "        text-align: right;\n",
       "    }\n",
       "</style>\n",
       "<table border=\"1\" class=\"dataframe\">\n",
       "  <thead>\n",
       "    <tr style=\"text-align: right;\">\n",
       "      <th></th>\n",
       "      <th>MonthlyCharges</th>\n",
       "      <th>TotalCharges</th>\n",
       "      <th>Duration</th>\n",
       "      <th>InternetServicesCount</th>\n",
       "    </tr>\n",
       "  </thead>\n",
       "  <tbody>\n",
       "    <tr>\n",
       "      <th>MonthlyCharges</th>\n",
       "      <td>1.00</td>\n",
       "      <td>0.64</td>\n",
       "      <td>0.27</td>\n",
       "      <td>0.74</td>\n",
       "    </tr>\n",
       "    <tr>\n",
       "      <th>TotalCharges</th>\n",
       "      <td>0.64</td>\n",
       "      <td>1.00</td>\n",
       "      <td>0.89</td>\n",
       "      <td>0.72</td>\n",
       "    </tr>\n",
       "    <tr>\n",
       "      <th>Duration</th>\n",
       "      <td>0.27</td>\n",
       "      <td>0.89</td>\n",
       "      <td>1.00</td>\n",
       "      <td>0.47</td>\n",
       "    </tr>\n",
       "    <tr>\n",
       "      <th>InternetServicesCount</th>\n",
       "      <td>0.74</td>\n",
       "      <td>0.72</td>\n",
       "      <td>0.47</td>\n",
       "      <td>1.00</td>\n",
       "    </tr>\n",
       "  </tbody>\n",
       "</table>\n",
       "</div>"
      ],
      "text/plain": [
       "                       MonthlyCharges  TotalCharges  Duration  \\\n",
       "MonthlyCharges                   1.00          0.64      0.27   \n",
       "TotalCharges                     0.64          1.00      0.89   \n",
       "Duration                         0.27          0.89      1.00   \n",
       "InternetServicesCount            0.74          0.72      0.47   \n",
       "\n",
       "                       InternetServicesCount  \n",
       "MonthlyCharges                          0.74  \n",
       "TotalCharges                            0.72  \n",
       "Duration                                0.47  \n",
       "InternetServicesCount                   1.00  "
      ]
     },
     "execution_count": 41,
     "metadata": {},
     "output_type": "execute_result"
    }
   ],
   "source": [
    "# Корреляционная матрица Спирмена\n",
    "corr_spearman.round(2)"
   ]
  },
  {
   "cell_type": "markdown",
   "id": "5d084b85",
   "metadata": {},
   "source": [
    "В таблицах чётко прослеживается сильная корреляция (0.83 и 0.89) между **Duration** и **TotalCharges**.\n",
    "Величина *Duration* скорее всего требует меньше вычислений для расчёта, чем *TotalCharges*. Предлагаю оставить именно её, а вторую удалить."
   ]
  },
  {
   "cell_type": "code",
   "execution_count": 42,
   "id": "75d990a1",
   "metadata": {},
   "outputs": [],
   "source": [
    "df = df.drop(columns=['TotalCharges'])"
   ]
  },
  {
   "cell_type": "markdown",
   "id": "e4c7503f",
   "metadata": {},
   "source": [
    "### Разделение признаков"
   ]
  },
  {
   "cell_type": "code",
   "execution_count": 43,
   "id": "66b01c13",
   "metadata": {},
   "outputs": [],
   "source": [
    "target_column = 'Target'"
   ]
  },
  {
   "cell_type": "code",
   "execution_count": 44,
   "id": "7b7ea0a0",
   "metadata": {},
   "outputs": [],
   "source": [
    "target = df[target_column].astype(int)\n",
    "features = df.drop(columns=[target_column])"
   ]
  },
  {
   "cell_type": "markdown",
   "id": "265796e4",
   "metadata": {},
   "source": [
    "Разделим признаки по типам данных, для дальнейшей обработки категорий и масштабирования."
   ]
  },
  {
   "cell_type": "code",
   "execution_count": 45,
   "id": "11aefb68",
   "metadata": {},
   "outputs": [],
   "source": [
    "features_columns = list(features.columns)\n",
    "cat_columns = list(features.select_dtypes(include=['object']).columns)\n",
    "num_columns = list(features.select_dtypes(include=['int', 'float']).columns)"
   ]
  },
  {
   "cell_type": "code",
   "execution_count": 46,
   "id": "d1368601",
   "metadata": {},
   "outputs": [
    {
     "data": {
      "text/plain": [
       "('Target',\n",
       " ['Type',\n",
       "  'PaperlessBilling',\n",
       "  'PaymentMethod',\n",
       "  'MonthlyCharges',\n",
       "  'Duration',\n",
       "  'Gender',\n",
       "  'SeniorCitizen',\n",
       "  'Partner',\n",
       "  'Dependents',\n",
       "  'MultipleLines',\n",
       "  'UsePhone',\n",
       "  'InternetService',\n",
       "  'OnlineSecurity',\n",
       "  'OnlineBackup',\n",
       "  'DeviceProtection',\n",
       "  'TechSupport',\n",
       "  'StreamingTV',\n",
       "  'StreamingMovies',\n",
       "  'InternetServicesCount'],\n",
       " ['Type', 'PaymentMethod', 'InternetService'],\n",
       " ['MonthlyCharges', 'Duration', 'InternetServicesCount'])"
      ]
     },
     "execution_count": 46,
     "metadata": {},
     "output_type": "execute_result"
    }
   ],
   "source": [
    "target_column, features_columns, cat_columns, num_columns"
   ]
  },
  {
   "cell_type": "markdown",
   "id": "43827736",
   "metadata": {},
   "source": [
    "### Разделение на обучающую, валидационную и тестовую выборки"
   ]
  },
  {
   "cell_type": "markdown",
   "id": "54a5d480",
   "metadata": {},
   "source": [
    "Разделим выборку на обучающую, валидационную и тестовую в процентом соотношении **60:20:20**."
   ]
  },
  {
   "cell_type": "code",
   "execution_count": 47,
   "id": "81da75e9",
   "metadata": {},
   "outputs": [],
   "source": [
    "features_train, features_valid, target_train, target_valid = train_test_split(features, target, test_size=0.4, random_state=42, stratify=target)"
   ]
  },
  {
   "cell_type": "code",
   "execution_count": 48,
   "id": "14d59c69",
   "metadata": {},
   "outputs": [],
   "source": [
    "features_valid, features_test, target_valid, target_test = train_test_split(features_valid, target_valid, test_size=0.5, random_state=42, stratify=target_valid)"
   ]
  },
  {
   "cell_type": "code",
   "execution_count": 49,
   "id": "70559c29",
   "metadata": {},
   "outputs": [
    {
     "data": {
      "text/plain": [
       "7043"
      ]
     },
     "execution_count": 49,
     "metadata": {},
     "output_type": "execute_result"
    }
   ],
   "source": [
    "len(df)"
   ]
  },
  {
   "cell_type": "code",
   "execution_count": 50,
   "id": "a8171e5e",
   "metadata": {},
   "outputs": [
    {
     "data": {
      "text/plain": [
       "(7043, 4225, 1409, 1409)"
      ]
     },
     "execution_count": 50,
     "metadata": {},
     "output_type": "execute_result"
    }
   ],
   "source": [
    "len(features_train) + len(features_valid) + len(features_test), len(features_train), len(features_valid), len(features_test)"
   ]
  },
  {
   "cell_type": "markdown",
   "id": "763d8623",
   "metadata": {},
   "source": [
    "### Обработка категориальных признаков"
   ]
  },
  {
   "cell_type": "markdown",
   "id": "3eb2ea1f",
   "metadata": {},
   "source": [
    "Заменим категории на числовые значения"
   ]
  },
  {
   "cell_type": "code",
   "execution_count": 51,
   "id": "763726c7",
   "metadata": {},
   "outputs": [
    {
     "data": {
      "text/plain": [
       "OrdinalEncoder(dtype=<class 'int'>)"
      ]
     },
     "execution_count": 51,
     "metadata": {},
     "output_type": "execute_result"
    }
   ],
   "source": [
    "encoder = OrdinalEncoder(dtype=int)\n",
    "encoder.fit(df[cat_columns])"
   ]
  },
  {
   "cell_type": "code",
   "execution_count": 52,
   "id": "2fb48212",
   "metadata": {},
   "outputs": [],
   "source": [
    "features_train[cat_columns] = encoder.transform(features_train[cat_columns])\n",
    "features_valid[cat_columns] = encoder.transform(features_valid[cat_columns])\n",
    "features_test[cat_columns] = encoder.transform(features_test[cat_columns])"
   ]
  },
  {
   "cell_type": "code",
   "execution_count": 53,
   "id": "a972ca67",
   "metadata": {},
   "outputs": [],
   "source": [
    "features_train[cat_columns] = features_train[cat_columns].astype(int)\n",
    "features_valid[cat_columns] = features_valid[cat_columns].astype(int)\n",
    "features_test[cat_columns] = features_test[cat_columns].astype(int)"
   ]
  },
  {
   "cell_type": "code",
   "execution_count": 54,
   "id": "27f6c021",
   "metadata": {},
   "outputs": [
    {
     "data": {
      "text/html": [
       "<div>\n",
       "<style scoped>\n",
       "    .dataframe tbody tr th:only-of-type {\n",
       "        vertical-align: middle;\n",
       "    }\n",
       "\n",
       "    .dataframe tbody tr th {\n",
       "        vertical-align: top;\n",
       "    }\n",
       "\n",
       "    .dataframe thead th {\n",
       "        text-align: right;\n",
       "    }\n",
       "</style>\n",
       "<table border=\"1\" class=\"dataframe\">\n",
       "  <thead>\n",
       "    <tr style=\"text-align: right;\">\n",
       "      <th></th>\n",
       "      <th>Type</th>\n",
       "      <th>PaymentMethod</th>\n",
       "      <th>InternetService</th>\n",
       "    </tr>\n",
       "    <tr>\n",
       "      <th>CustomerID</th>\n",
       "      <th></th>\n",
       "      <th></th>\n",
       "      <th></th>\n",
       "    </tr>\n",
       "  </thead>\n",
       "  <tbody>\n",
       "    <tr>\n",
       "      <th>0479-HMSWA</th>\n",
       "      <td>2</td>\n",
       "      <td>2</td>\n",
       "      <td>1</td>\n",
       "    </tr>\n",
       "    <tr>\n",
       "      <th>6257-DTAYD</th>\n",
       "      <td>2</td>\n",
       "      <td>1</td>\n",
       "      <td>1</td>\n",
       "    </tr>\n",
       "    <tr>\n",
       "      <th>0505-SPOOW</th>\n",
       "      <td>2</td>\n",
       "      <td>0</td>\n",
       "      <td>2</td>\n",
       "    </tr>\n",
       "    <tr>\n",
       "      <th>2957-JIRMN</th>\n",
       "      <td>1</td>\n",
       "      <td>2</td>\n",
       "      <td>1</td>\n",
       "    </tr>\n",
       "    <tr>\n",
       "      <th>4923-ADWXJ</th>\n",
       "      <td>0</td>\n",
       "      <td>0</td>\n",
       "      <td>0</td>\n",
       "    </tr>\n",
       "  </tbody>\n",
       "</table>\n",
       "</div>"
      ],
      "text/plain": [
       "            Type  PaymentMethod  InternetService\n",
       "CustomerID                                      \n",
       "0479-HMSWA     2              2                1\n",
       "6257-DTAYD     2              1                1\n",
       "0505-SPOOW     2              0                2\n",
       "2957-JIRMN     1              2                1\n",
       "4923-ADWXJ     0              0                0"
      ]
     },
     "execution_count": 54,
     "metadata": {},
     "output_type": "execute_result"
    }
   ],
   "source": [
    "features_train[cat_columns].sample(5, random_state=42)"
   ]
  },
  {
   "cell_type": "markdown",
   "id": "92a14a2b",
   "metadata": {},
   "source": [
    "### Масштабирование признаков"
   ]
  },
  {
   "cell_type": "code",
   "execution_count": 55,
   "id": "539c2f1d",
   "metadata": {},
   "outputs": [
    {
     "data": {
      "text/plain": [
       "StandardScaler()"
      ]
     },
     "execution_count": 55,
     "metadata": {},
     "output_type": "execute_result"
    }
   ],
   "source": [
    "scaler = StandardScaler()\n",
    "scaler.fit(features_train[num_columns])"
   ]
  },
  {
   "cell_type": "code",
   "execution_count": 56,
   "id": "7a11aced",
   "metadata": {},
   "outputs": [],
   "source": [
    "features_train[num_columns] = scaler.transform(features_train[num_columns])\n",
    "features_valid[num_columns] = scaler.transform(features_valid[num_columns])\n",
    "features_test[num_columns] = scaler.transform(features_test[num_columns])"
   ]
  },
  {
   "cell_type": "code",
   "execution_count": 57,
   "id": "d8efd3bb",
   "metadata": {},
   "outputs": [
    {
     "data": {
      "text/html": [
       "<div>\n",
       "<style scoped>\n",
       "    .dataframe tbody tr th:only-of-type {\n",
       "        vertical-align: middle;\n",
       "    }\n",
       "\n",
       "    .dataframe tbody tr th {\n",
       "        vertical-align: top;\n",
       "    }\n",
       "\n",
       "    .dataframe thead th {\n",
       "        text-align: right;\n",
       "    }\n",
       "</style>\n",
       "<table border=\"1\" class=\"dataframe\">\n",
       "  <thead>\n",
       "    <tr style=\"text-align: right;\">\n",
       "      <th></th>\n",
       "      <th>MonthlyCharges</th>\n",
       "      <th>Duration</th>\n",
       "      <th>InternetServicesCount</th>\n",
       "    </tr>\n",
       "    <tr>\n",
       "      <th>CustomerID</th>\n",
       "      <th></th>\n",
       "      <th></th>\n",
       "      <th></th>\n",
       "    </tr>\n",
       "  </thead>\n",
       "  <tbody>\n",
       "    <tr>\n",
       "      <th>0479-HMSWA</th>\n",
       "      <td>1.337476</td>\n",
       "      <td>-0.261696</td>\n",
       "      <td>1.565788</td>\n",
       "    </tr>\n",
       "    <tr>\n",
       "      <th>6257-DTAYD</th>\n",
       "      <td>1.294603</td>\n",
       "      <td>1.567223</td>\n",
       "      <td>1.031292</td>\n",
       "    </tr>\n",
       "    <tr>\n",
       "      <th>0505-SPOOW</th>\n",
       "      <td>-1.487168</td>\n",
       "      <td>1.525869</td>\n",
       "      <td>-1.106691</td>\n",
       "    </tr>\n",
       "    <tr>\n",
       "      <th>2957-JIRMN</th>\n",
       "      <td>0.644919</td>\n",
       "      <td>1.200372</td>\n",
       "      <td>-0.572195</td>\n",
       "    </tr>\n",
       "    <tr>\n",
       "      <th>4923-ADWXJ</th>\n",
       "      <td>0.029862</td>\n",
       "      <td>-0.303051</td>\n",
       "      <td>0.496796</td>\n",
       "    </tr>\n",
       "    <tr>\n",
       "      <th>2228-BZDEE</th>\n",
       "      <td>-1.477274</td>\n",
       "      <td>0.876209</td>\n",
       "      <td>-1.106691</td>\n",
       "    </tr>\n",
       "    <tr>\n",
       "      <th>7025-IWFHT</th>\n",
       "      <td>0.813111</td>\n",
       "      <td>0.346609</td>\n",
       "      <td>0.496796</td>\n",
       "    </tr>\n",
       "    <tr>\n",
       "      <th>1474-JUWSM</th>\n",
       "      <td>0.115607</td>\n",
       "      <td>1.038957</td>\n",
       "      <td>0.496796</td>\n",
       "    </tr>\n",
       "    <tr>\n",
       "      <th>8920-NAVAY</th>\n",
       "      <td>1.512264</td>\n",
       "      <td>1.200372</td>\n",
       "      <td>1.565788</td>\n",
       "    </tr>\n",
       "    <tr>\n",
       "      <th>6960-HVYXR</th>\n",
       "      <td>0.366247</td>\n",
       "      <td>-1.276873</td>\n",
       "      <td>-1.106691</td>\n",
       "    </tr>\n",
       "  </tbody>\n",
       "</table>\n",
       "</div>"
      ],
      "text/plain": [
       "            MonthlyCharges  Duration  InternetServicesCount\n",
       "CustomerID                                                 \n",
       "0479-HMSWA        1.337476 -0.261696               1.565788\n",
       "6257-DTAYD        1.294603  1.567223               1.031292\n",
       "0505-SPOOW       -1.487168  1.525869              -1.106691\n",
       "2957-JIRMN        0.644919  1.200372              -0.572195\n",
       "4923-ADWXJ        0.029862 -0.303051               0.496796\n",
       "2228-BZDEE       -1.477274  0.876209              -1.106691\n",
       "7025-IWFHT        0.813111  0.346609               0.496796\n",
       "1474-JUWSM        0.115607  1.038957               0.496796\n",
       "8920-NAVAY        1.512264  1.200372               1.565788\n",
       "6960-HVYXR        0.366247 -1.276873              -1.106691"
      ]
     },
     "execution_count": 57,
     "metadata": {},
     "output_type": "execute_result"
    }
   ],
   "source": [
    "features_train[num_columns].sample(10, random_state=42)"
   ]
  },
  {
   "cell_type": "markdown",
   "id": "0414e11d",
   "metadata": {},
   "source": [
    "## Баланс классов"
   ]
  },
  {
   "cell_type": "code",
   "execution_count": 58,
   "id": "92da19ec",
   "metadata": {},
   "outputs": [
    {
     "data": {
      "text/plain": [
       "0    3104\n",
       "1    1121\n",
       "Name: Target, dtype: int64"
      ]
     },
     "execution_count": 58,
     "metadata": {},
     "output_type": "execute_result"
    }
   ],
   "source": [
    "target_train.value_counts()"
   ]
  },
  {
   "cell_type": "markdown",
   "id": "05f46ca1",
   "metadata": {},
   "source": [
    "Классы не сбалансированы. Дисбаланс небольшой. При обучении моделей попробуем в первую очередь использовать веса классов в качестве корректирующего параметра."
   ]
  },
  {
   "cell_type": "code",
   "execution_count": 59,
   "id": "9bdd1f63",
   "metadata": {},
   "outputs": [
    {
     "name": "stdout",
     "output_type": "stream",
     "text": [
      "<class 'pandas.core.frame.DataFrame'>\n",
      "Index: 7043 entries, 7590-VHVEG to 3186-AJIEK\n",
      "Data columns (total 20 columns):\n",
      " #   Column                 Non-Null Count  Dtype  \n",
      "---  ------                 --------------  -----  \n",
      " 0   Type                   7043 non-null   object \n",
      " 1   PaperlessBilling       7043 non-null   bool   \n",
      " 2   PaymentMethod          7043 non-null   object \n",
      " 3   MonthlyCharges         7043 non-null   float64\n",
      " 4   Target                 7043 non-null   bool   \n",
      " 5   Duration               7043 non-null   int64  \n",
      " 6   Gender                 7043 non-null   bool   \n",
      " 7   SeniorCitizen          7043 non-null   bool   \n",
      " 8   Partner                7043 non-null   bool   \n",
      " 9   Dependents             7043 non-null   bool   \n",
      " 10  MultipleLines          7043 non-null   bool   \n",
      " 11  UsePhone               7043 non-null   bool   \n",
      " 12  InternetService        7043 non-null   object \n",
      " 13  OnlineSecurity         7043 non-null   bool   \n",
      " 14  OnlineBackup           7043 non-null   bool   \n",
      " 15  DeviceProtection       7043 non-null   bool   \n",
      " 16  TechSupport            7043 non-null   bool   \n",
      " 17  StreamingTV            7043 non-null   bool   \n",
      " 18  StreamingMovies        7043 non-null   bool   \n",
      " 19  InternetServicesCount  7043 non-null   int32  \n",
      "dtypes: bool(14), float64(1), int32(1), int64(1), object(3)\n",
      "memory usage: 712.0+ KB\n"
     ]
    }
   ],
   "source": [
    "df.info()"
   ]
  },
  {
   "cell_type": "markdown",
   "id": "fe86101c",
   "metadata": {},
   "source": [
    "## Обучение моделей"
   ]
  },
  {
   "cell_type": "markdown",
   "id": "eab00cd1",
   "metadata": {},
   "source": [
    "В качестве эксперимента попробуем несколько моделей классификаторов разного типа, оценим метрики и скорость обучения.\n",
    "Возьмём два популярных ансамбля градиентного бустинга Catboost и LightGBM, нейронную сеть на Keras, логистическую регрессию, решающие деревья и случайный лес от scikit-learn. В качестве основной метрики будем использовать AUC-ROC и дополнительно ACCURACY, PRECISION и RECALL"
   ]
  },
  {
   "cell_type": "code",
   "execution_count": 60,
   "id": "043347c1",
   "metadata": {},
   "outputs": [],
   "source": [
    "train_result_list = []\n",
    "\n",
    "def get_model_info(name, model, features_valid, target_valid, features_test, target_test, train_time, hyper_params):\n",
    "    # вычисляет метрики и собирает данные об обученной модели\n",
    "    result = { 'name': None, 'roc_auc_valid': None, 'accuracy_valid': None, \n",
    "                     'precision_valid': None, 'recall_valid': None,\n",
    "                     'roc_auc_test': None, 'accuracy_test': None, \n",
    "                     'precision_test': None, 'recall_test': None,\n",
    "                     'train_time': None, 'hyper_params': None}\n",
    "    \n",
    "    result['name'] = name\n",
    "    \n",
    "    predictions_valid = model.predict(features_valid)\n",
    "    \n",
    "    result['roc_auc_valid'] = metrics.roc_auc_score(target_valid, model.predict_proba(features_valid)[:, 1])\n",
    "    result['accuracy_valid'] = metrics.accuracy_score(target_valid, predictions_valid)\n",
    "    result['precision_valid'] = metrics.precision_score(target_valid, predictions_valid)\n",
    "    result['recall_valid'] = metrics.recall_score(target_valid, predictions_valid)\n",
    "\n",
    "    predictions_test = model.predict(features_test)\n",
    "\n",
    "    result['roc_auc_test'] = metrics.roc_auc_score(target_test, model.predict_proba(features_test)[:, 1])\n",
    "    result['accuracy_test'] = metrics.accuracy_score(target_test, predictions_test)\n",
    "    result['precision_test'] = metrics.precision_score(target_test, predictions_test)\n",
    "    result['recall_test'] = metrics.recall_score(target_test, predictions_test)\n",
    "    \n",
    "    result['train_time'] = train_time.seconds\n",
    "    \n",
    "    result['hyper_params'] = hyper_params\n",
    " \n",
    "    return result\n",
    "\n",
    "def print_model_info(model_info):\n",
    "    # выводит метрики об обученной модели\n",
    "    print(\"roc_auc_valid: {:.4f}\".format(model_info['roc_auc_valid']), \"roc_auc_test: {:.4f}\".format(model_info['roc_auc_test']))\n",
    "    print(\"accuracy_valid: {:.4f}\".format(model_info['accuracy_valid']), \"accuracy_test: {:.4f}\".format(model_info['accuracy_test']))\n",
    "\n",
    "\n",
    "def draw_best_features(features_names, feature_importance, feature_importance_limit=0):\n",
    "    # рисует диаграмму важности признаков в модели\n",
    "    df_features = pd.DataFrame(data = {'feature_name': features_names, 'importance': feature_importance})\n",
    "    df_features = df_features.sort_values(by='importance', ascending=False)\n",
    "    if feature_importance_limit > 0:\n",
    "        df_features = df_features[df_features['importance'] > feature_importance_limit]\n",
    "\n",
    "    fig, ax = plt.subplots(figsize=(12,6))\n",
    "    ax.set_title('Диаграмма важности признаков')\n",
    "    df_features.set_index('feature_name', inplace=True)\n",
    "    df_features.plot.bar(ax=ax)\n",
    "    ax.grid()\n",
    "    fig.tight_layout()   "
   ]
  },
  {
   "cell_type": "markdown",
   "id": "55b97367",
   "metadata": {},
   "source": [
    "### LightGBM"
   ]
  },
  {
   "cell_type": "code",
   "execution_count": 61,
   "id": "c133f90c",
   "metadata": {},
   "outputs": [],
   "source": [
    "hyper_params = {\n",
    "    'learning_rate': 0.2,\n",
    "    'class_weight': 'balanced',\n",
    "    'metric': 'auc',\n",
    "    'boosting_type': 'gbdt',\n",
    "    'objective': 'binary',\n",
    "    'early_stopping_rounds': 25,\n",
    "    'num_boost_round': 1000,\n",
    "    'seed': 42,\n",
    "    'verbose': -1,\n",
    "    'silent': True\n",
    "}"
   ]
  },
  {
   "cell_type": "code",
   "execution_count": 62,
   "id": "af02b96a",
   "metadata": {
    "scrolled": true
   },
   "outputs": [
    {
     "name": "stdout",
     "output_type": "stream",
     "text": [
      "[LightGBM] [Warning] early_stopping_round is set=25, early_stopping_rounds=25 will be ignored. Current value: early_stopping_round=25\n",
      "[LightGBM] [Warning] num_iterations is set=1000, num_boost_round=1000 will be ignored. Current value: num_iterations=1000\n",
      "Training until validation scores don't improve for 25 rounds\n",
      "Early stopping, best iteration is:\n",
      "[38]\ttraining's auc: 0.970678\tvalid_1's auc: 0.906956\n"
     ]
    }
   ],
   "source": [
    "start_time = datetime.now()\n",
    "\n",
    "lgb_model = lgb.LGBMClassifier(**hyper_params)\n",
    "lgb_model.fit(features_train, target_train, \n",
    "              eval_set = [(features_train, target_train), (features_valid, target_valid)],\n",
    "              categorical_feature = cat_columns,\n",
    "              verbose= 100\n",
    "             )\n",
    "\n",
    "\n",
    "train_time = datetime.now() - start_time"
   ]
  },
  {
   "cell_type": "code",
   "execution_count": 63,
   "id": "9a7caffd",
   "metadata": {},
   "outputs": [
    {
     "name": "stdout",
     "output_type": "stream",
     "text": [
      "roc_auc_valid: 0.9070 roc_auc_test: 0.8835\n",
      "accuracy_valid: 0.8197 accuracy_test: 0.8126\n"
     ]
    }
   ],
   "source": [
    "model_info = get_model_info(type(lgb_model).__name__, lgb_model, features_valid, target_valid, features_test, target_test, train_time, hyper_params)\n",
    "print_model_info(model_info)\n",
    "train_result_list.append(model_info)"
   ]
  },
  {
   "cell_type": "code",
   "execution_count": 64,
   "id": "d874cb23",
   "metadata": {},
   "outputs": [
    {
     "data": {
      "image/png": "[encoded data removed]",
      "text/plain": [
       "<Figure size 864x432 with 1 Axes>"
      ]
     },
     "metadata": {
      "needs_background": "light"
     },
     "output_type": "display_data"
    }
   ],
   "source": [
    "draw_best_features(features.columns, lgb_model.feature_importances_)"
   ]
  },
  {
   "cell_type": "markdown",
   "id": "82c4f575",
   "metadata": {},
   "source": [
    "### Catboost"
   ]
  },
  {
   "cell_type": "code",
   "execution_count": 65,
   "id": "8f2ecf5f",
   "metadata": {},
   "outputs": [],
   "source": [
    "hyper_params = {\n",
    "    'learning_rate': 0.1,\n",
    "    'auto_class_weights': 'Balanced',\n",
    "    'eval_metric': 'AUC',\n",
    "    'num_boost_round': 1000,\n",
    "    'early_stopping_rounds': 25,\n",
    "    'random_state': 42\n",
    "}"
   ]
  },
  {
   "cell_type": "code",
   "execution_count": 66,
   "id": "e338814a",
   "metadata": {},
   "outputs": [
    {
     "name": "stdout",
     "output_type": "stream",
     "text": [
      "0:\ttest: 0.8098168\tbest: 0.8098168 (0)\ttotal: 190ms\tremaining: 3m 9s\n",
      "50:\ttest: 0.8702782\tbest: 0.8702782 (50)\ttotal: 1.25s\tremaining: 23.3s\n",
      "100:\ttest: 0.8812318\tbest: 0.8814668 (97)\ttotal: 2.19s\tremaining: 19.5s\n",
      "150:\ttest: 0.8983583\tbest: 0.8983583 (150)\ttotal: 3.23s\tremaining: 18.2s\n",
      "200:\ttest: 0.9041244\tbest: 0.9044705 (198)\ttotal: 4.25s\tremaining: 16.9s\n",
      "250:\ttest: 0.9075215\tbest: 0.9075215 (250)\ttotal: 5.27s\tremaining: 15.7s\n",
      "300:\ttest: 0.9134594\tbest: 0.9137100 (298)\ttotal: 6.33s\tremaining: 14.7s\n",
      "Stopped by overfitting detector  (25 iterations wait)\n",
      "\n",
      "bestTest = 0.9159342788\n",
      "bestIteration = 322\n",
      "\n",
      "Shrink model to first 323 iterations.\n"
     ]
    }
   ],
   "source": [
    "start_time = datetime.now()\n",
    "\n",
    "cb_model = cb.CatBoostClassifier(**hyper_params, thread_count=-1)\n",
    "cb_model.fit(features_train, target_train, cat_features=cat_columns, eval_set=(features_valid, target_valid), \n",
    "             verbose=50)\n",
    "\n",
    "\n",
    "train_time = datetime.now() - start_time"
   ]
  },
  {
   "cell_type": "code",
   "execution_count": 67,
   "id": "07e58b82",
   "metadata": {},
   "outputs": [
    {
     "name": "stdout",
     "output_type": "stream",
     "text": [
      "roc_auc_valid: 0.9159 roc_auc_test: 0.8979\n",
      "accuracy_valid: 0.8517 accuracy_test: 0.8290\n"
     ]
    }
   ],
   "source": [
    "model_info = get_model_info(type(cb_model).__name__, cb_model, features_valid, target_valid, features_test, target_test, train_time, hyper_params)\n",
    "print_model_info(model_info)\n",
    "train_result_list.append(model_info)"
   ]
  },
  {
   "cell_type": "code",
   "execution_count": 68,
   "id": "b98466e5",
   "metadata": {},
   "outputs": [
    {
     "data": {
      "image/png": "[encoded data removed]",
      "text/plain": [
       "<Figure size 864x432 with 1 Axes>"
      ]
     },
     "metadata": {
      "needs_background": "light"
     },
     "output_type": "display_data"
    }
   ],
   "source": [
    "draw_best_features(features.columns, cb_model.feature_importances_)"
   ]
  },
  {
   "cell_type": "markdown",
   "id": "fd8a86cd",
   "metadata": {},
   "source": [
    "### Другие модели"
   ]
  },
  {
   "cell_type": "markdown",
   "id": "e0ca2faa",
   "metadata": {},
   "source": [
    "Для простых моделей воспользуемся методом случайного подбора гиперпараметров, как наиболее быстрым для оценки результата."
   ]
  },
  {
   "cell_type": "code",
   "execution_count": 69,
   "id": "75b2d8e9",
   "metadata": {},
   "outputs": [],
   "source": [
    "hyper_params_set = {\n",
    "    'n_estimators':[x for x in range(10, 100, 1)],\n",
    "    'max_depth': [x for x in range(4, 32, 1)], \n",
    "    'leaf_size': [x for x in range(4, 64, 1)], \n",
    "    'min_samples_leaf': [x for x in range(1, 32, 1)],\n",
    "    'min_samples_split': [x for x in range(2, 32, 1)],\n",
    "    'class_weight': ['balanced'],\n",
    "}"
   ]
  },
  {
   "cell_type": "code",
   "execution_count": 70,
   "id": "f673fae5",
   "metadata": {},
   "outputs": [
    {
     "name": "stdout",
     "output_type": "stream",
     "text": [
      "DummyClassifier ...\n",
      "roc_auc_valid: 0.5000 roc_auc_test: 0.5000\n",
      "accuracy_valid: 0.7346 accuracy_test: 0.7346\n",
      "\n",
      "LogisticRegression ...\n",
      "roc_auc_valid: 0.8552 roc_auc_test: 0.8293\n",
      "accuracy_valid: 0.7402 accuracy_test: 0.7381\n",
      "\n",
      "DecisionTreeClassifier ...\n",
      "roc_auc_valid: 0.8411 roc_auc_test: 0.8341\n",
      "accuracy_valid: 0.7601 accuracy_test: 0.7438\n",
      "\n",
      "RandomForestClassifier ...\n",
      "roc_auc_valid: 0.8651 roc_auc_test: 0.8410\n",
      "accuracy_valid: 0.7899 accuracy_test: 0.7679\n",
      "\n",
      "Wall time: 5.1 s\n"
     ]
    }
   ],
   "source": [
    "%%time\n",
    "for base_estimator in [DummyClassifier(), LogisticRegression(), DecisionTreeClassifier(), RandomForestClassifier()]:\n",
    "        \n",
    "    model_hyper_params = {}\n",
    "    \n",
    "    # подставим параметры, которые модель может принять\n",
    "    for key in hyper_params_set.keys():\n",
    "        if key in base_estimator.get_params().keys():\n",
    "            model_hyper_params[key] = hyper_params_set[key]    \n",
    "            \n",
    "    # зафиксируем время старта обучения        \n",
    "    start_time = datetime.now()\n",
    "    \n",
    "    print(type(base_estimator).__name__, '...')\n",
    "    \n",
    "    rs_model = RandomizedSearchCV(base_estimator, model_hyper_params, scoring='roc_auc', random_state=42, n_jobs=-1)\n",
    "    rs_model = rs_model.fit(features_train, np.ravel(target_train))\n",
    "\n",
    "    # зафиксируем время обучения        \n",
    "    train_time = datetime.now() - start_time\n",
    "    \n",
    "    model_info = get_model_info(type(base_estimator).__name__, rs_model, \n",
    "                                features_valid, target_valid, \n",
    "                                features_test, target_test, \n",
    "                                train_time, hyper_params)\n",
    "    print_model_info(model_info)\n",
    "    train_result_list.append(model_info)\n",
    "\n",
    "    print()"
   ]
  },
  {
   "cell_type": "markdown",
   "id": "8bf3eb24",
   "metadata": {},
   "source": [
    "## Keras"
   ]
  },
  {
   "cell_type": "code",
   "execution_count": 71,
   "id": "aba5f2b4",
   "metadata": {},
   "outputs": [],
   "source": [
    "class_weights = class_weight.compute_class_weight('balanced', classes=np.unique(target_train), y=target_train)\n",
    "class_weights = dict(enumerate(class_weights))\n",
    "\n",
    "# Early stopping\n",
    "stopper = EarlyStopping(monitor='val_auc', patience=3, mode='max', verbose=1)\n",
    "\n",
    "def baseline_model():\n",
    "    model = Sequential()\n",
    "    model.add(keras.layers.Dense(256, input_dim=features_train.shape[1], activation='relu'))\n",
    "    model.add(keras.layers.Dense(128, activation='relu'))\n",
    "    model.add(keras.layers.Dense(1, activation='sigmoid'))\n",
    "    model.compile(loss='binary_crossentropy', optimizer='adam', metrics='AUC')\n",
    "    return model\n"
   ]
  },
  {
   "cell_type": "code",
   "execution_count": 72,
   "id": "8142856c",
   "metadata": {},
   "outputs": [
    {
     "name": "stdout",
     "output_type": "stream",
     "text": [
      "Epoch 1/20\n",
      "67/67 [==============================] - 1s 5ms/step - loss: 0.5203 - auc: 0.8185 - val_loss: 0.4649 - val_auc: 0.8556\n",
      "Epoch 2/20\n",
      "67/67 [==============================] - 0s 2ms/step - loss: 0.4878 - auc: 0.8439 - val_loss: 0.4545 - val_auc: 0.8514\n",
      "Epoch 3/20\n",
      "67/67 [==============================] - 0s 2ms/step - loss: 0.4824 - auc: 0.8472 - val_loss: 0.5007 - val_auc: 0.8565\n",
      "Epoch 4/20\n",
      "67/67 [==============================] - 0s 2ms/step - loss: 0.4774 - auc: 0.8505 - val_loss: 0.4408 - val_auc: 0.8537\n",
      "Epoch 5/20\n",
      "67/67 [==============================] - 0s 2ms/step - loss: 0.4750 - auc: 0.8525 - val_loss: 0.4515 - val_auc: 0.8542\n",
      "Epoch 6/20\n",
      "67/67 [==============================] - 0s 2ms/step - loss: 0.4727 - auc: 0.8547 - val_loss: 0.4911 - val_auc: 0.8555\n",
      "Epoch 00006: early stopping\n"
     ]
    }
   ],
   "source": [
    "start_time = datetime.now()\n",
    "\n",
    "kc_model = KerasClassifier(build_fn=baseline_model, epochs=20, batch_size=64, verbose=1)\n",
    "kc_model.fit(features_train.astype(np.float32), target_train.astype(np.float32), \n",
    "                validation_data=(features_valid.astype(np.float32), target_valid.astype(np.float32)), \n",
    "                class_weight=class_weights,\n",
    "                 callbacks=[stopper],             \n",
    "                shuffle=True)\n",
    "\n",
    "train_time = datetime.now() - start_time"
   ]
  },
  {
   "cell_type": "code",
   "execution_count": 73,
   "id": "d914e5df",
   "metadata": {},
   "outputs": [
    {
     "name": "stdout",
     "output_type": "stream",
     "text": [
      "roc_auc_valid: 0.8555 roc_auc_test: 0.8298\n",
      "accuracy_valid: 0.7445 accuracy_test: 0.7367\n"
     ]
    }
   ],
   "source": [
    "model_info = get_model_info(type(kc_model).__name__, kc_model, features_valid.astype(np.float32), target_valid.astype(np.float32), features_test.astype(np.float32), target_test.astype(np.float32), train_time, None)\n",
    "print_model_info(model_info)\n",
    "train_result_list.append(model_info)"
   ]
  },
  {
   "cell_type": "markdown",
   "id": "231d2d97",
   "metadata": {},
   "source": [
    "# Выводы"
   ]
  },
  {
   "cell_type": "code",
   "execution_count": 74,
   "id": "d92ed620",
   "metadata": {},
   "outputs": [
    {
     "data": {
      "text/html": [
       "<div>\n",
       "<style scoped>\n",
       "    .dataframe tbody tr th:only-of-type {\n",
       "        vertical-align: middle;\n",
       "    }\n",
       "\n",
       "    .dataframe tbody tr th {\n",
       "        vertical-align: top;\n",
       "    }\n",
       "\n",
       "    .dataframe thead th {\n",
       "        text-align: right;\n",
       "    }\n",
       "</style>\n",
       "<table border=\"1\" class=\"dataframe\">\n",
       "  <thead>\n",
       "    <tr style=\"text-align: right;\">\n",
       "      <th></th>\n",
       "      <th>name</th>\n",
       "      <th>roc_auc_valid</th>\n",
       "      <th>roc_auc_test</th>\n",
       "      <th>accuracy_valid</th>\n",
       "      <th>accuracy_test</th>\n",
       "      <th>train_time</th>\n",
       "      <th>precision_valid</th>\n",
       "      <th>precision_test</th>\n",
       "      <th>recall_valid</th>\n",
       "      <th>recall_test</th>\n",
       "    </tr>\n",
       "  </thead>\n",
       "  <tbody>\n",
       "    <tr>\n",
       "      <th>1</th>\n",
       "      <td>CatBoostClassifier</td>\n",
       "      <td>0.9159</td>\n",
       "      <td>0.8979</td>\n",
       "      <td>0.8517</td>\n",
       "      <td>0.8290</td>\n",
       "      <td>8</td>\n",
       "      <td>0.6888</td>\n",
       "      <td>0.6557</td>\n",
       "      <td>0.8048</td>\n",
       "      <td>0.7487</td>\n",
       "    </tr>\n",
       "    <tr>\n",
       "      <th>0</th>\n",
       "      <td>LGBMClassifier</td>\n",
       "      <td>0.9070</td>\n",
       "      <td>0.8835</td>\n",
       "      <td>0.8197</td>\n",
       "      <td>0.8126</td>\n",
       "      <td>0</td>\n",
       "      <td>0.6240</td>\n",
       "      <td>0.6175</td>\n",
       "      <td>0.8075</td>\n",
       "      <td>0.7727</td>\n",
       "    </tr>\n",
       "    <tr>\n",
       "      <th>5</th>\n",
       "      <td>RandomForestClassifier</td>\n",
       "      <td>0.8651</td>\n",
       "      <td>0.8410</td>\n",
       "      <td>0.7899</td>\n",
       "      <td>0.7679</td>\n",
       "      <td>2</td>\n",
       "      <td>0.5819</td>\n",
       "      <td>0.5481</td>\n",
       "      <td>0.7406</td>\n",
       "      <td>0.7166</td>\n",
       "    </tr>\n",
       "    <tr>\n",
       "      <th>6</th>\n",
       "      <td>KerasClassifier</td>\n",
       "      <td>0.8555</td>\n",
       "      <td>0.8298</td>\n",
       "      <td>0.7445</td>\n",
       "      <td>0.7367</td>\n",
       "      <td>2</td>\n",
       "      <td>0.5118</td>\n",
       "      <td>0.5026</td>\n",
       "      <td>0.8102</td>\n",
       "      <td>0.7834</td>\n",
       "    </tr>\n",
       "    <tr>\n",
       "      <th>3</th>\n",
       "      <td>LogisticRegression</td>\n",
       "      <td>0.8552</td>\n",
       "      <td>0.8293</td>\n",
       "      <td>0.7402</td>\n",
       "      <td>0.7381</td>\n",
       "      <td>0</td>\n",
       "      <td>0.5067</td>\n",
       "      <td>0.5042</td>\n",
       "      <td>0.8102</td>\n",
       "      <td>0.7995</td>\n",
       "    </tr>\n",
       "    <tr>\n",
       "      <th>4</th>\n",
       "      <td>DecisionTreeClassifier</td>\n",
       "      <td>0.8411</td>\n",
       "      <td>0.8341</td>\n",
       "      <td>0.7601</td>\n",
       "      <td>0.7438</td>\n",
       "      <td>0</td>\n",
       "      <td>0.5327</td>\n",
       "      <td>0.5115</td>\n",
       "      <td>0.7834</td>\n",
       "      <td>0.7754</td>\n",
       "    </tr>\n",
       "    <tr>\n",
       "      <th>2</th>\n",
       "      <td>DummyClassifier</td>\n",
       "      <td>0.5000</td>\n",
       "      <td>0.5000</td>\n",
       "      <td>0.7346</td>\n",
       "      <td>0.7346</td>\n",
       "      <td>1</td>\n",
       "      <td>0.0000</td>\n",
       "      <td>0.0000</td>\n",
       "      <td>0.0000</td>\n",
       "      <td>0.0000</td>\n",
       "    </tr>\n",
       "  </tbody>\n",
       "</table>\n",
       "</div>"
      ],
      "text/plain": [
       "                     name  roc_auc_valid  roc_auc_test  accuracy_valid  \\\n",
       "1      CatBoostClassifier         0.9159        0.8979          0.8517   \n",
       "0          LGBMClassifier         0.9070        0.8835          0.8197   \n",
       "5  RandomForestClassifier         0.8651        0.8410          0.7899   \n",
       "6         KerasClassifier         0.8555        0.8298          0.7445   \n",
       "3      LogisticRegression         0.8552        0.8293          0.7402   \n",
       "4  DecisionTreeClassifier         0.8411        0.8341          0.7601   \n",
       "2         DummyClassifier         0.5000        0.5000          0.7346   \n",
       "\n",
       "   accuracy_test  train_time  precision_valid  precision_test  recall_valid  \\\n",
       "1         0.8290           8           0.6888          0.6557        0.8048   \n",
       "0         0.8126           0           0.6240          0.6175        0.8075   \n",
       "5         0.7679           2           0.5819          0.5481        0.7406   \n",
       "6         0.7367           2           0.5118          0.5026        0.8102   \n",
       "3         0.7381           0           0.5067          0.5042        0.8102   \n",
       "4         0.7438           0           0.5327          0.5115        0.7834   \n",
       "2         0.7346           1           0.0000          0.0000        0.0000   \n",
       "\n",
       "   recall_test  \n",
       "1       0.7487  \n",
       "0       0.7727  \n",
       "5       0.7166  \n",
       "6       0.7834  \n",
       "3       0.7995  \n",
       "4       0.7754  \n",
       "2       0.0000  "
      ]
     },
     "execution_count": 74,
     "metadata": {},
     "output_type": "execute_result"
    }
   ],
   "source": [
    "pd.DataFrame(train_result_list).sort_values(by='roc_auc_valid', \n",
    "                                            ascending=False)[['name', \n",
    "                                                              'roc_auc_valid', 'roc_auc_test', \n",
    "                                                              'accuracy_valid', 'accuracy_test',\n",
    "                                                              'train_time',\n",
    "                                                              'precision_valid', 'precision_test',\n",
    "                                                              'recall_valid', 'recall_test']].round(4)"
   ]
  },
  {
   "cell_type": "markdown",
   "id": "4e88ec6a",
   "metadata": {},
   "source": [
    "На основе предоставленных таблиц данных о пользователях мы подготовили набор признаков для обучения моделей. Данные оказались достаточно \"чистыми\" и без аномалий.\n",
    "\n",
    "В качестве дополнительных признаков мы ввели \"длительность контракта с пользователем\" и \"количество дополнительных интернет-услуг\", которые рассчитали из имеющихся данных.\n",
    "\n",
    "На этапе предобработки данных мы выявили высокую корреляцию между двумя признаками Duration и TotalCharges и приняли решение удалить последний.\n",
    "\n",
    "В качестве моделей для обучения были выбраны:\n",
    " - LGBMClassifier, \n",
    " - CatBoostClassifier, \n",
    " - LogisticRegression, \n",
    " - DecisionTreeClassifier, \n",
    " - RandomForestClassifier, \n",
    " - KerasClassifier\n",
    " \n",
    "***Метрики***\n",
    " \n",
    "Наилучший результат на валидационной выборке показал ансабль **CatBoostClassifier**:\n",
    "\n",
    "       roc_auc = 0.92\n",
    "       accuracy = 0.85\n",
    "       precision = 0.69 (доля верно определённых среди тех, кто попал в прогноз на отток, 31% ошибочных)\n",
    "       precision = 0.80 (доля верно определённых от искомой группы оттока, 20% из группы оттока не найдены)\n",
    "\n",
    "Близкий по качеству, но более быстрый по скорости обучения - **LGBMClassifier**:\n",
    "\n",
    "       roc_auc = 0.91\n",
    "       accuracy = 0.82\n",
    "\n",
    "\n",
    "Остальные модели разделили второе место также с приблизительно равными метриками. Для прогнозирования рекомендуется выбрать модель одного из ансамблей CatBoostClassifier или LGBMClassifier.\n",
    "\n",
    "\n",
    "***Важность признаков для моделей***\n",
    "\n",
    "Мы также проанализировали влияние признаков на результат. \n",
    "\n",
    "Наиболее ввесомыми для рассмотренных моделей оказались следующие:\n",
    "\n",
    "   - Duration, \n",
    "   - MonthlyCharges, \n",
    "   - Type, \n",
    "   - InternetService, \n",
    "   - PaymentMethod, \n",
    "   - Gender,\n",
    "   - InternetServicesCount.\n",
    "\n",
    "Этим характеристикам стоит уделять больше внимания при оценке оттока клиентов.\n",
    "\n",
    "\n",
    "Ряд признаков можно исключить из общего набора, оставив лишь рассчитанные дополнительные на их основе. Скорость обучения возрастёт, а метрики не изменятся. Среди слабо влияющих на метрики в первую очередь можно исключить следующие:\n",
    "\n",
    "   - OnlineSecurity, \n",
    "   - OnlineBackup, \n",
    "   - DeviceProtection,\n",
    "   - TechSupport,\n",
    "   - StreamingTV,\n",
    "   - StreamingMovies.\n"
   ]
  }
 ],
 "metadata": {
  "ExecuteTimeLog": [
   {
    "duration": 4852,
    "start_time": "2021-09-28T11:54:44.858Z"
   },
   {
    "duration": 1075,
    "start_time": "2021-09-28T11:54:48.637Z"
   },
   {
    "duration": 1068,
    "start_time": "2021-09-28T11:54:48.645Z"
   },
   {
    "duration": 5,
    "start_time": "2021-09-28T11:55:01.002Z"
   },
   {
    "duration": 3,
    "start_time": "2021-09-28T11:55:04.378Z"
   },
   {
    "duration": 2700,
    "start_time": "2021-09-28T11:55:05.779Z"
   },
   {
    "duration": 94,
    "start_time": "2021-09-28T11:55:24.917Z"
   },
   {
    "duration": 9,
    "start_time": "2021-09-28T11:55:55.632Z"
   },
   {
    "duration": 16,
    "start_time": "2021-09-28T11:55:56.214Z"
   },
   {
    "duration": 10,
    "start_time": "2021-09-28T11:55:56.544Z"
   },
   {
    "duration": 6,
    "start_time": "2021-09-28T11:55:56.710Z"
   },
   {
    "duration": 6,
    "start_time": "2021-09-28T11:55:56.867Z"
   },
   {
    "duration": 5,
    "start_time": "2021-09-28T11:55:57.025Z"
   },
   {
    "duration": 5,
    "start_time": "2021-09-28T11:55:57.175Z"
   },
   {
    "duration": 511,
    "start_time": "2021-09-28T11:55:57.334Z"
   },
   {
    "duration": 11,
    "start_time": "2021-09-28T11:55:57.847Z"
   },
   {
    "duration": 28,
    "start_time": "2021-09-28T11:55:57.860Z"
   },
   {
    "duration": 5,
    "start_time": "2021-09-28T11:55:58.021Z"
   },
   {
    "duration": 494,
    "start_time": "2021-09-28T11:55:58.316Z"
   },
   {
    "duration": 5,
    "start_time": "2021-09-28T11:55:58.812Z"
   },
   {
    "duration": 7,
    "start_time": "2021-09-28T11:55:59.132Z"
   },
   {
    "duration": 11,
    "start_time": "2021-09-28T11:55:59.496Z"
   },
   {
    "duration": 9,
    "start_time": "2021-09-28T11:56:01.171Z"
   },
   {
    "duration": 9,
    "start_time": "2021-09-28T11:56:01.182Z"
   },
   {
    "duration": 14,
    "start_time": "2021-09-28T11:56:01.194Z"
   },
   {
    "duration": 23,
    "start_time": "2021-09-28T11:56:01.210Z"
   },
   {
    "duration": 15,
    "start_time": "2021-09-28T11:56:01.234Z"
   },
   {
    "duration": 16,
    "start_time": "2021-09-28T11:56:01.251Z"
   },
   {
    "duration": 9,
    "start_time": "2021-09-28T11:56:01.470Z"
   },
   {
    "duration": 9,
    "start_time": "2021-09-28T11:56:01.619Z"
   },
   {
    "duration": 5,
    "start_time": "2021-09-28T11:56:01.778Z"
   },
   {
    "duration": 8,
    "start_time": "2021-09-28T11:56:02.275Z"
   },
   {
    "duration": 12,
    "start_time": "2021-09-28T11:56:02.637Z"
   },
   {
    "duration": 79,
    "start_time": "2021-09-28T11:56:03.372Z"
   },
   {
    "duration": 9,
    "start_time": "2021-09-28T11:56:03.702Z"
   },
   {
    "duration": 27,
    "start_time": "2021-09-28T11:56:03.924Z"
   },
   {
    "duration": 314,
    "start_time": "2021-09-28T11:56:04.909Z"
   },
   {
    "duration": 2,
    "start_time": "2021-09-28T11:56:06.456Z"
   },
   {
    "duration": 5,
    "start_time": "2021-09-28T11:56:06.993Z"
   },
   {
    "duration": 12,
    "start_time": "2021-09-28T11:56:09.232Z"
   },
   {
    "duration": 5,
    "start_time": "2021-09-28T11:56:09.863Z"
   },
   {
    "duration": 11,
    "start_time": "2021-09-28T11:56:14.108Z"
   },
   {
    "duration": 9,
    "start_time": "2021-09-28T11:56:14.251Z"
   },
   {
    "duration": 4,
    "start_time": "2021-09-28T11:56:14.629Z"
   },
   {
    "duration": 4,
    "start_time": "2021-09-28T11:56:14.832Z"
   },
   {
    "duration": 8,
    "start_time": "2021-09-28T11:56:16.734Z"
   },
   {
    "duration": 22,
    "start_time": "2021-09-28T11:56:16.907Z"
   },
   {
    "duration": 9,
    "start_time": "2021-09-28T11:56:17.081Z"
   },
   {
    "duration": 9,
    "start_time": "2021-09-28T11:56:17.254Z"
   },
   {
    "duration": 7,
    "start_time": "2021-09-28T11:56:17.603Z"
   },
   {
    "duration": 17,
    "start_time": "2021-09-28T11:56:18.683Z"
   },
   {
    "duration": 13,
    "start_time": "2021-09-28T11:56:18.857Z"
   },
   {
    "duration": 6,
    "start_time": "2021-09-28T11:56:19.779Z"
   },
   {
    "duration": 9,
    "start_time": "2021-09-28T11:56:20.931Z"
   },
   {
    "duration": 3,
    "start_time": "2021-09-28T11:56:30.144Z"
   }
  ],
  "kernelspec": {
   "display_name": "Python 3 (ipykernel)",
   "language": "python",
   "name": "python3"
  },
  "language_info": {
   "codemirror_mode": {
    "name": "ipython",
    "version": 3
   },
   "file_extension": ".py",
   "mimetype": "text/x-python",
   "name": "python",
   "nbconvert_exporter": "python",
   "pygments_lexer": "ipython3",
   "version": "3.9.1"
  },
  "toc": {
   "base_numbering": 1,
   "nav_menu": {},
   "number_sections": true,
   "sideBar": true,
   "skip_h1_title": true,
   "title_cell": "Table of Contents",
   "title_sidebar": "Contents",
   "toc_cell": false,
   "toc_position": {},
   "toc_section_display": true,
   "toc_window_display": false
  }
 },
 "nbformat": 4,
 "nbformat_minor": 5
}
