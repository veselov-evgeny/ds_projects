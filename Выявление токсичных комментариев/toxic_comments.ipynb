{
 "cells": [
  {
   "cell_type": "markdown",
   "metadata": {},
   "source": [
    "# Проект «Выявление токсичных комментариев»"
   ]
  },
  {
   "cell_type": "markdown",
   "metadata": {},
   "source": [
    "На основе базы комментариев с отметками о токсичности обучить модель для классификации комментариев на позитивные и негативные. Добиться метрики качества *F1* не меньше 0.75. "
   ]
  },
  {
   "cell_type": "markdown",
   "metadata": {},
   "source": [
    "## Подготовка"
   ]
  },
  {
   "cell_type": "code",
   "execution_count": 1,
   "metadata": {},
   "outputs": [],
   "source": [
    "from urllib.request import urlretrieve\n",
    "import pandas as pd\n",
    "import numpy as np\n",
    "import re\n",
    "import time\n",
    "from datetime import datetime\n",
    "from tqdm.notebook import tqdm\n",
    "import warnings\n",
    "warnings.simplefilter(action='ignore', category=(FutureWarning, UserWarning, DeprecationWarning))\n",
    "pd.options.mode.chained_assignment = None\n",
    "\n",
    "import nltk\n",
    "from nltk.corpus import stopwords as nltk_stopwords\n",
    "\n",
    "from nltk.stem import WordNetLemmatizer\n",
    "\n",
    "from sklearn.model_selection import train_test_split\n",
    "from sklearn.feature_extraction.text import TfidfVectorizer\n",
    "from sklearn.utils import shuffle\n",
    "from sklearn.model_selection import RandomizedSearchCV\n",
    "from sklearn.linear_model import LogisticRegression\n",
    "from sklearn.tree import DecisionTreeClassifier\n",
    "from sklearn.ensemble import RandomForestClassifier\n",
    "from sklearn.dummy import DummyClassifier\n",
    "from sklearn.preprocessing import StandardScaler\n",
    "from sklearn.metrics import f1_score, roc_curve, roc_auc_score\n",
    "\n",
    "from catboost import CatBoostClassifier\n",
    "\n",
    "import matplotlib.pyplot as plt\n",
    "\n",
    "import gensim.models\n",
    "from gensim import utils\n",
    "from gensim.models import Word2Vec\n",
    "from gensim.test.utils import datapath\n"
   ]
  },
  {
   "cell_type": "markdown",
   "metadata": {},
   "source": [
    "### Загрузка данных"
   ]
  },
  {
   "cell_type": "code",
   "execution_count": 2,
   "metadata": {},
   "outputs": [],
   "source": [
    "df = pd.read_csv(\"datasets/toxic_comments.csv\")"
   ]
  },
  {
   "cell_type": "code",
   "execution_count": 3,
   "metadata": {},
   "outputs": [
    {
     "name": "stdout",
     "output_type": "stream",
     "text": [
      "<class 'pandas.core.frame.DataFrame'>\n",
      "RangeIndex: 159571 entries, 0 to 159570\n",
      "Data columns (total 2 columns):\n",
      " #   Column  Non-Null Count   Dtype \n",
      "---  ------  --------------   ----- \n",
      " 0   text    159571 non-null  object\n",
      " 1   toxic   159571 non-null  int64 \n",
      "dtypes: int64(1), object(1)\n",
      "memory usage: 2.4+ MB\n"
     ]
    }
   ],
   "source": [
    "df.info()"
   ]
  },
  {
   "cell_type": "code",
   "execution_count": 4,
   "metadata": {},
   "outputs": [],
   "source": [
    "#df = df.sample(n=50000,random_state=42)"
   ]
  },
  {
   "cell_type": "code",
   "execution_count": 5,
   "metadata": {},
   "outputs": [
    {
     "data": {
      "text/plain": [
       "159571"
      ]
     },
     "execution_count": 5,
     "metadata": {},
     "output_type": "execute_result"
    }
   ],
   "source": [
    "len(df)"
   ]
  },
  {
   "cell_type": "code",
   "execution_count": 6,
   "metadata": {
    "scrolled": true
   },
   "outputs": [
    {
     "data": {
      "text/html": [
       "<div>\n",
       "<style scoped>\n",
       "    .dataframe tbody tr th:only-of-type {\n",
       "        vertical-align: middle;\n",
       "    }\n",
       "\n",
       "    .dataframe tbody tr th {\n",
       "        vertical-align: top;\n",
       "    }\n",
       "\n",
       "    .dataframe thead th {\n",
       "        text-align: right;\n",
       "    }\n",
       "</style>\n",
       "<table border=\"1\" class=\"dataframe\">\n",
       "  <thead>\n",
       "    <tr style=\"text-align: right;\">\n",
       "      <th></th>\n",
       "      <th>text</th>\n",
       "      <th>toxic</th>\n",
       "    </tr>\n",
       "  </thead>\n",
       "  <tbody>\n",
       "    <tr>\n",
       "      <th>119105</th>\n",
       "      <td>Geez, are you forgetful!  We've already discus...</td>\n",
       "      <td>0</td>\n",
       "    </tr>\n",
       "    <tr>\n",
       "      <th>131631</th>\n",
       "      <td>Carioca RFA \\n\\nThanks for your support on my ...</td>\n",
       "      <td>0</td>\n",
       "    </tr>\n",
       "    <tr>\n",
       "      <th>125326</th>\n",
       "      <td>\"\\n\\n Birthday \\n\\nNo worries, It's what I do ...</td>\n",
       "      <td>0</td>\n",
       "    </tr>\n",
       "    <tr>\n",
       "      <th>111256</th>\n",
       "      <td>Pseudoscience category? \\n\\nI'm assuming that ...</td>\n",
       "      <td>0</td>\n",
       "    </tr>\n",
       "    <tr>\n",
       "      <th>83590</th>\n",
       "      <td>(and if such phrase exists, it would be provid...</td>\n",
       "      <td>0</td>\n",
       "    </tr>\n",
       "    <tr>\n",
       "      <th>37546</th>\n",
       "      <td>, 9 October 2007 (UTC)\\n\\nP.s, the delta funct...</td>\n",
       "      <td>0</td>\n",
       "    </tr>\n",
       "    <tr>\n",
       "      <th>98371</th>\n",
       "      <td>]]- 10 September 1910, [[[Couvet]] )</td>\n",
       "      <td>0</td>\n",
       "    </tr>\n",
       "    <tr>\n",
       "      <th>67118</th>\n",
       "      <td>Negro league baseball task-force talk].</td>\n",
       "      <td>0</td>\n",
       "    </tr>\n",
       "    <tr>\n",
       "      <th>129625</th>\n",
       "      <td>List of My Three Sons episodes \\n\\nI saw you r...</td>\n",
       "      <td>0</td>\n",
       "    </tr>\n",
       "    <tr>\n",
       "      <th>48941</th>\n",
       "      <td>Quoting Loremaster: In order to make sure you ...</td>\n",
       "      <td>0</td>\n",
       "    </tr>\n",
       "    <tr>\n",
       "      <th>46117</th>\n",
       "      <td>\"\\n\\n Please do not vandalize pages, as you di...</td>\n",
       "      <td>0</td>\n",
       "    </tr>\n",
       "    <tr>\n",
       "      <th>20136</th>\n",
       "      <td>\"\\nCC-BY-SA is probably the most common variat...</td>\n",
       "      <td>0</td>\n",
       "    </tr>\n",
       "    <tr>\n",
       "      <th>97862</th>\n",
       "      <td>Actually, that's gone now; you're the only one...</td>\n",
       "      <td>0</td>\n",
       "    </tr>\n",
       "    <tr>\n",
       "      <th>10245</th>\n",
       "      <td>\"\\n\\n Moved the article to its full English ti...</td>\n",
       "      <td>0</td>\n",
       "    </tr>\n",
       "    <tr>\n",
       "      <th>140013</th>\n",
       "      <td>There are so many articles that wish to down p...</td>\n",
       "      <td>0</td>\n",
       "    </tr>\n",
       "    <tr>\n",
       "      <th>146861</th>\n",
       "      <td>I see you have such a low self-esteem that you...</td>\n",
       "      <td>0</td>\n",
       "    </tr>\n",
       "    <tr>\n",
       "      <th>30404</th>\n",
       "      <td>Ed Poor\\n\\nI shouldn't have to check his edit ...</td>\n",
       "      <td>0</td>\n",
       "    </tr>\n",
       "    <tr>\n",
       "      <th>12000</th>\n",
       "      <td>\"\\n\\nThat is not a list of official names of o...</td>\n",
       "      <td>0</td>\n",
       "    </tr>\n",
       "    <tr>\n",
       "      <th>41916</th>\n",
       "      <td>Yes, merge - Chamin and Cholent are one and th...</td>\n",
       "      <td>0</td>\n",
       "    </tr>\n",
       "    <tr>\n",
       "      <th>38974</th>\n",
       "      <td>\", 26 July 2014 (UTC)\\n, there are a number of...</td>\n",
       "      <td>0</td>\n",
       "    </tr>\n",
       "  </tbody>\n",
       "</table>\n",
       "</div>"
      ],
      "text/plain": [
       "                                                     text  toxic\n",
       "119105  Geez, are you forgetful!  We've already discus...      0\n",
       "131631  Carioca RFA \\n\\nThanks for your support on my ...      0\n",
       "125326  \"\\n\\n Birthday \\n\\nNo worries, It's what I do ...      0\n",
       "111256  Pseudoscience category? \\n\\nI'm assuming that ...      0\n",
       "83590   (and if such phrase exists, it would be provid...      0\n",
       "37546   , 9 October 2007 (UTC)\\n\\nP.s, the delta funct...      0\n",
       "98371                ]]- 10 September 1910, [[[Couvet]] )      0\n",
       "67118             Negro league baseball task-force talk].      0\n",
       "129625  List of My Three Sons episodes \\n\\nI saw you r...      0\n",
       "48941   Quoting Loremaster: In order to make sure you ...      0\n",
       "46117   \"\\n\\n Please do not vandalize pages, as you di...      0\n",
       "20136   \"\\nCC-BY-SA is probably the most common variat...      0\n",
       "97862   Actually, that's gone now; you're the only one...      0\n",
       "10245   \"\\n\\n Moved the article to its full English ti...      0\n",
       "140013  There are so many articles that wish to down p...      0\n",
       "146861  I see you have such a low self-esteem that you...      0\n",
       "30404   Ed Poor\\n\\nI shouldn't have to check his edit ...      0\n",
       "12000   \"\\n\\nThat is not a list of official names of o...      0\n",
       "41916   Yes, merge - Chamin and Cholent are one and th...      0\n",
       "38974   \", 26 July 2014 (UTC)\\n, there are a number of...      0"
      ]
     },
     "execution_count": 6,
     "metadata": {},
     "output_type": "execute_result"
    }
   ],
   "source": [
    "df.sample(20, random_state=42)"
   ]
  },
  {
   "cell_type": "markdown",
   "metadata": {},
   "source": [
    "Судя по всему, данные содержат тексты на английском языке. Тексты требуют удаления спецсимволов."
   ]
  },
  {
   "cell_type": "markdown",
   "metadata": {},
   "source": [
    "### Подготовка"
   ]
  },
  {
   "cell_type": "code",
   "execution_count": 7,
   "metadata": {
    "scrolled": false
   },
   "outputs": [
    {
     "name": "stderr",
     "output_type": "stream",
     "text": [
      "[nltk_data] Downloading package stopwords to C:\\Users\\Eugenio\n",
      "[nltk_data]     Sorriso\\AppData\\Roaming\\nltk_data...\n",
      "[nltk_data]   Package stopwords is already up-to-date!\n",
      "[nltk_data] Downloading package wordnet to C:\\Users\\Eugenio\n",
      "[nltk_data]     Sorriso\\AppData\\Roaming\\nltk_data...\n",
      "[nltk_data]   Package wordnet is already up-to-date!\n"
     ]
    },
    {
     "data": {
      "text/plain": [
       "True"
      ]
     },
     "execution_count": 7,
     "metadata": {},
     "output_type": "execute_result"
    }
   ],
   "source": [
    "nltk.download('stopwords')\n",
    "nltk.download('wordnet')"
   ]
  },
  {
   "cell_type": "code",
   "execution_count": 8,
   "metadata": {},
   "outputs": [],
   "source": [
    "stopwords = set(nltk_stopwords.words('english'))"
   ]
  },
  {
   "cell_type": "code",
   "execution_count": 9,
   "metadata": {},
   "outputs": [
    {
     "name": "stdout",
     "output_type": "stream",
     "text": [
      "{'their', 'above', 'ours', 'who', 'once', \"you'd\", 'theirs', 'of', 'over', 'were', 'did', 'between', 'wasn', 'y', 'those', 'shan', 'few', \"haven't\", 'then', 'his', 'yourself', 'same', \"shan't\", 'should', 'off', \"don't\", \"aren't\", \"hasn't\", \"mustn't\", 'into', 'how', 'i', 'didn', 't', \"that'll\", 'can', 'weren', \"doesn't\", 'any', 'more', 'here', \"couldn't\", 'my', 'they', 'by', 'am', 'during', 'has', 'he', 'be', 'why', 'the', 'will', 'nor', 'hers', 'now', \"hadn't\", 'through', 'so', 's', 'haven', 'o', \"you're\", 'myself', 'about', \"it's\", 'down', \"weren't\", 'where', 'some', 'own', 'both', 'again', 'him', 'hasn', 'is', 'does', 'such', 'an', 'mightn', \"she's\", 'on', 'from', 'our', 've', 'we', 'yourselves', 'having', 'you', 'been', 'mustn', 'do', 'out', 'ma', \"wasn't\", 'its', 'she', 'won', 'ain', 'isn', 'these', 'because', 'in', \"needn't\", 'themselves', 'to', 'up', 'not', 'each', 'what', 'was', \"you've\", 'a', 'against', 'until', 'than', 're', 'whom', 'below', 'no', 'wouldn', 'at', 'very', 'most', \"wouldn't\", 'yours', 'doesn', 'are', 'himself', 'while', 'other', 'couldn', \"didn't\", 'me', 'this', 'll', 'it', 'have', 'with', 'all', 'just', 'hadn', \"mightn't\", 'if', 'under', \"should've\", 'before', 'there', 'being', 'only', 'm', 'don', 'ourselves', \"isn't\", 'too', 'itself', 'after', 'aren', 'shouldn', \"won't\", 'your', \"you'll\", 'her', 'which', 'herself', 'or', 'further', 'doing', 'them', 'when', \"shouldn't\", 'but', 'and', 'for', 'had', 'd', 'needn', 'that', 'as'}\n"
     ]
    }
   ],
   "source": [
    "print(stopwords)"
   ]
  },
  {
   "cell_type": "code",
   "execution_count": 10,
   "metadata": {},
   "outputs": [],
   "source": [
    "## шаблон поиска слов, состоящих не из одних лишь цифр\n",
    "TOKEN_RE = re.compile(r'[A-Za-z\\d]*[A-Za-z][A-Za-z\\d]*')\n",
    "\n",
    "def clear_text(text, min_token_size=2):\n",
    "    ## преводим текст в нижний регистр\n",
    "    text = text.lower()\n",
    "    ## находим все слова регулярным выржением\n",
    "    tokens = TOKEN_RE.findall(text)\n",
    "    ## отбираем слова длиннее заданной длины\n",
    "    tokens = [token for token in tokens if len(token) >= min_token_size]\n",
    "    return \" \".join(tokens) \n",
    "\n",
    "\n",
    "def lemmatize_text(text):\n",
    "    wnl = WordNetLemmatizer()\n",
    "    return ' '.join(wnl.lemmatize(w) for w in text.split(' '))\n",
    "\n",
    "\n",
    "def delete_stopwords(text, stopwords):\n",
    "    return ' '.join([word for word in text.split(' ') if word not in stopwords])"
   ]
  },
  {
   "cell_type": "code",
   "execution_count": 11,
   "metadata": {},
   "outputs": [],
   "source": [
    "df['text'] = df['text'].apply(lambda x: clear_text(x))"
   ]
  },
  {
   "cell_type": "code",
   "execution_count": 12,
   "metadata": {
    "scrolled": true
   },
   "outputs": [
    {
     "data": {
      "text/html": [
       "<div>\n",
       "<style scoped>\n",
       "    .dataframe tbody tr th:only-of-type {\n",
       "        vertical-align: middle;\n",
       "    }\n",
       "\n",
       "    .dataframe tbody tr th {\n",
       "        vertical-align: top;\n",
       "    }\n",
       "\n",
       "    .dataframe thead th {\n",
       "        text-align: right;\n",
       "    }\n",
       "</style>\n",
       "<table border=\"1\" class=\"dataframe\">\n",
       "  <thead>\n",
       "    <tr style=\"text-align: right;\">\n",
       "      <th></th>\n",
       "      <th>text</th>\n",
       "      <th>toxic</th>\n",
       "    </tr>\n",
       "  </thead>\n",
       "  <tbody>\n",
       "    <tr>\n",
       "      <th>89804</th>\n",
       "      <td>go fuck yourself widefux you aren an editor yo...</td>\n",
       "      <td>1</td>\n",
       "    </tr>\n",
       "    <tr>\n",
       "      <th>80991</th>\n",
       "      <td>december utc find it far from silly to say tha...</td>\n",
       "      <td>0</td>\n",
       "    </tr>\n",
       "    <tr>\n",
       "      <th>95703</th>\n",
       "      <td>call me the reverter one more time</td>\n",
       "      <td>0</td>\n",
       "    </tr>\n",
       "    <tr>\n",
       "      <th>121436</th>\n",
       "      <td>atomic kitten hello sorry for making atomic ki...</td>\n",
       "      <td>0</td>\n",
       "    </tr>\n",
       "    <tr>\n",
       "      <th>104508</th>\n",
       "      <td>spirou et fantasio like your work on the spiro...</td>\n",
       "      <td>0</td>\n",
       "    </tr>\n",
       "    <tr>\n",
       "      <th>118082</th>\n",
       "      <td>believe the quote on your menu needs to be upd...</td>\n",
       "      <td>0</td>\n",
       "    </tr>\n",
       "    <tr>\n",
       "      <th>25933</th>\n",
       "      <td>or you will be banned without further notice talk</td>\n",
       "      <td>0</td>\n",
       "    </tr>\n",
       "    <tr>\n",
       "      <th>111968</th>\n",
       "      <td>as of the final destruction of warsaw hitler a...</td>\n",
       "      <td>0</td>\n",
       "    </tr>\n",
       "    <tr>\n",
       "      <th>60666</th>\n",
       "      <td>suggest taking the list from vortex cooler and...</td>\n",
       "      <td>0</td>\n",
       "    </tr>\n",
       "    <tr>\n",
       "      <th>27391</th>\n",
       "      <td>tables gees te you revert so quickly created t...</td>\n",
       "      <td>0</td>\n",
       "    </tr>\n",
       "  </tbody>\n",
       "</table>\n",
       "</div>"
      ],
      "text/plain": [
       "                                                     text  toxic\n",
       "89804   go fuck yourself widefux you aren an editor yo...      1\n",
       "80991   december utc find it far from silly to say tha...      0\n",
       "95703                  call me the reverter one more time      0\n",
       "121436  atomic kitten hello sorry for making atomic ki...      0\n",
       "104508  spirou et fantasio like your work on the spiro...      0\n",
       "118082  believe the quote on your menu needs to be upd...      0\n",
       "25933   or you will be banned without further notice talk      0\n",
       "111968  as of the final destruction of warsaw hitler a...      0\n",
       "60666   suggest taking the list from vortex cooler and...      0\n",
       "27391   tables gees te you revert so quickly created t...      0"
      ]
     },
     "execution_count": 12,
     "metadata": {},
     "output_type": "execute_result"
    }
   ],
   "source": [
    "df.sample(10, random_state=43)"
   ]
  },
  {
   "cell_type": "code",
   "execution_count": 13,
   "metadata": {},
   "outputs": [],
   "source": [
    "df['text'] = df['text'].apply(lambda x: lemmatize_text(x))"
   ]
  },
  {
   "cell_type": "code",
   "execution_count": 14,
   "metadata": {
    "scrolled": true
   },
   "outputs": [
    {
     "data": {
      "text/html": [
       "<div>\n",
       "<style scoped>\n",
       "    .dataframe tbody tr th:only-of-type {\n",
       "        vertical-align: middle;\n",
       "    }\n",
       "\n",
       "    .dataframe tbody tr th {\n",
       "        vertical-align: top;\n",
       "    }\n",
       "\n",
       "    .dataframe thead th {\n",
       "        text-align: right;\n",
       "    }\n",
       "</style>\n",
       "<table border=\"1\" class=\"dataframe\">\n",
       "  <thead>\n",
       "    <tr style=\"text-align: right;\">\n",
       "      <th></th>\n",
       "      <th>text</th>\n",
       "      <th>toxic</th>\n",
       "    </tr>\n",
       "  </thead>\n",
       "  <tbody>\n",
       "    <tr>\n",
       "      <th>89804</th>\n",
       "      <td>go fuck yourself widefux you aren an editor yo...</td>\n",
       "      <td>1</td>\n",
       "    </tr>\n",
       "    <tr>\n",
       "      <th>80991</th>\n",
       "      <td>december utc find it far from silly to say tha...</td>\n",
       "      <td>0</td>\n",
       "    </tr>\n",
       "    <tr>\n",
       "      <th>95703</th>\n",
       "      <td>call me the reverter one more time</td>\n",
       "      <td>0</td>\n",
       "    </tr>\n",
       "    <tr>\n",
       "      <th>121436</th>\n",
       "      <td>atomic kitten hello sorry for making atomic ki...</td>\n",
       "      <td>0</td>\n",
       "    </tr>\n",
       "    <tr>\n",
       "      <th>104508</th>\n",
       "      <td>spirou et fantasio like your work on the spiro...</td>\n",
       "      <td>0</td>\n",
       "    </tr>\n",
       "    <tr>\n",
       "      <th>118082</th>\n",
       "      <td>believe the quote on your menu need to be upda...</td>\n",
       "      <td>0</td>\n",
       "    </tr>\n",
       "    <tr>\n",
       "      <th>25933</th>\n",
       "      <td>or you will be banned without further notice talk</td>\n",
       "      <td>0</td>\n",
       "    </tr>\n",
       "    <tr>\n",
       "      <th>111968</th>\n",
       "      <td>a of the final destruction of warsaw hitler al...</td>\n",
       "      <td>0</td>\n",
       "    </tr>\n",
       "    <tr>\n",
       "      <th>60666</th>\n",
       "      <td>suggest taking the list from vortex cooler and...</td>\n",
       "      <td>0</td>\n",
       "    </tr>\n",
       "    <tr>\n",
       "      <th>27391</th>\n",
       "      <td>table gee te you revert so quickly created the...</td>\n",
       "      <td>0</td>\n",
       "    </tr>\n",
       "  </tbody>\n",
       "</table>\n",
       "</div>"
      ],
      "text/plain": [
       "                                                     text  toxic\n",
       "89804   go fuck yourself widefux you aren an editor yo...      1\n",
       "80991   december utc find it far from silly to say tha...      0\n",
       "95703                  call me the reverter one more time      0\n",
       "121436  atomic kitten hello sorry for making atomic ki...      0\n",
       "104508  spirou et fantasio like your work on the spiro...      0\n",
       "118082  believe the quote on your menu need to be upda...      0\n",
       "25933   or you will be banned without further notice talk      0\n",
       "111968  a of the final destruction of warsaw hitler al...      0\n",
       "60666   suggest taking the list from vortex cooler and...      0\n",
       "27391   table gee te you revert so quickly created the...      0"
      ]
     },
     "execution_count": 14,
     "metadata": {},
     "output_type": "execute_result"
    }
   ],
   "source": [
    "df.sample(10, random_state=43)"
   ]
  },
  {
   "cell_type": "code",
   "execution_count": 15,
   "metadata": {},
   "outputs": [],
   "source": [
    "df['text'] = df['text'].apply(lambda x: delete_stopwords(x, stopwords))"
   ]
  },
  {
   "cell_type": "code",
   "execution_count": 16,
   "metadata": {
    "scrolled": true
   },
   "outputs": [
    {
     "data": {
      "text/html": [
       "<div>\n",
       "<style scoped>\n",
       "    .dataframe tbody tr th:only-of-type {\n",
       "        vertical-align: middle;\n",
       "    }\n",
       "\n",
       "    .dataframe tbody tr th {\n",
       "        vertical-align: top;\n",
       "    }\n",
       "\n",
       "    .dataframe thead th {\n",
       "        text-align: right;\n",
       "    }\n",
       "</style>\n",
       "<table border=\"1\" class=\"dataframe\">\n",
       "  <thead>\n",
       "    <tr style=\"text-align: right;\">\n",
       "      <th></th>\n",
       "      <th>text</th>\n",
       "      <th>toxic</th>\n",
       "    </tr>\n",
       "  </thead>\n",
       "  <tbody>\n",
       "    <tr>\n",
       "      <th>89804</th>\n",
       "      <td>go fuck widefux editor cheap wiki hack</td>\n",
       "      <td>1</td>\n",
       "    </tr>\n",
       "    <tr>\n",
       "      <th>80991</th>\n",
       "      <td>december utc find far silly say u better econo...</td>\n",
       "      <td>0</td>\n",
       "    </tr>\n",
       "    <tr>\n",
       "      <th>95703</th>\n",
       "      <td>call reverter one time</td>\n",
       "      <td>0</td>\n",
       "    </tr>\n",
       "    <tr>\n",
       "      <th>121436</th>\n",
       "      <td>atomic kitten hello sorry making atomic kitten...</td>\n",
       "      <td>0</td>\n",
       "    </tr>\n",
       "    <tr>\n",
       "      <th>104508</th>\n",
       "      <td>spirou et fantasio like work spirou fantasio a...</td>\n",
       "      <td>0</td>\n",
       "    </tr>\n",
       "    <tr>\n",
       "      <th>118082</th>\n",
       "      <td>believe quote menu need updated factuality may...</td>\n",
       "      <td>0</td>\n",
       "    </tr>\n",
       "    <tr>\n",
       "      <th>25933</th>\n",
       "      <td>banned without notice talk</td>\n",
       "      <td>0</td>\n",
       "    </tr>\n",
       "    <tr>\n",
       "      <th>111968</th>\n",
       "      <td>final destruction warsaw hitler also ordered b...</td>\n",
       "      <td>0</td>\n",
       "    </tr>\n",
       "    <tr>\n",
       "      <th>60666</th>\n",
       "      <td>suggest taking list vortex cooler moving vorte...</td>\n",
       "      <td>0</td>\n",
       "    </tr>\n",
       "    <tr>\n",
       "      <th>27391</th>\n",
       "      <td>table gee te revert quickly created table exce...</td>\n",
       "      <td>0</td>\n",
       "    </tr>\n",
       "  </tbody>\n",
       "</table>\n",
       "</div>"
      ],
      "text/plain": [
       "                                                     text  toxic\n",
       "89804              go fuck widefux editor cheap wiki hack      1\n",
       "80991   december utc find far silly say u better econo...      0\n",
       "95703                              call reverter one time      0\n",
       "121436  atomic kitten hello sorry making atomic kitten...      0\n",
       "104508  spirou et fantasio like work spirou fantasio a...      0\n",
       "118082  believe quote menu need updated factuality may...      0\n",
       "25933                          banned without notice talk      0\n",
       "111968  final destruction warsaw hitler also ordered b...      0\n",
       "60666   suggest taking list vortex cooler moving vorte...      0\n",
       "27391   table gee te revert quickly created table exce...      0"
      ]
     },
     "execution_count": 16,
     "metadata": {},
     "output_type": "execute_result"
    }
   ],
   "source": [
    "df.sample(10, random_state=43)"
   ]
  },
  {
   "cell_type": "markdown",
   "metadata": {},
   "source": [
    "Рассмотрим, какой длины тексты у нас имеются"
   ]
  },
  {
   "cell_type": "code",
   "execution_count": 17,
   "metadata": {},
   "outputs": [],
   "source": [
    "df['len'] = df['text'].apply(lambda x: len(x))"
   ]
  },
  {
   "cell_type": "code",
   "execution_count": 18,
   "metadata": {},
   "outputs": [
    {
     "data": {
      "text/plain": [
       "count    159571.000000\n",
       "mean        245.120191\n",
       "std         383.207876\n",
       "min           0.000000\n",
       "25%          57.000000\n",
       "50%         125.000000\n",
       "75%         268.000000\n",
       "max        5000.000000\n",
       "Name: len, dtype: float64"
      ]
     },
     "execution_count": 18,
     "metadata": {},
     "output_type": "execute_result"
    }
   ],
   "source": [
    "df['len'].describe()"
   ]
  },
  {
   "cell_type": "code",
   "execution_count": 19,
   "metadata": {},
   "outputs": [
    {
     "data": {
      "text/plain": [
       "<AxesSubplot:>"
      ]
     },
     "execution_count": 19,
     "metadata": {},
     "output_type": "execute_result"
    },
    {
     "data": {
      "image/png": "[encoded data removed]",
      "text/plain": [
       "<Figure size 432x288 with 1 Axes>"
      ]
     },
     "metadata": {
      "needs_background": "light"
     },
     "output_type": "display_data"
    }
   ],
   "source": [
    "df['len'].hist(bins=100)"
   ]
  },
  {
   "cell_type": "markdown",
   "metadata": {},
   "source": [
    "Удаляем пустые тексты с нулевой длиной"
   ]
  },
  {
   "cell_type": "code",
   "execution_count": 20,
   "metadata": {},
   "outputs": [
    {
     "data": {
      "text/plain": [
       "159571"
      ]
     },
     "execution_count": 20,
     "metadata": {},
     "output_type": "execute_result"
    }
   ],
   "source": [
    "len(df)"
   ]
  },
  {
   "cell_type": "code",
   "execution_count": 21,
   "metadata": {},
   "outputs": [],
   "source": [
    "df = df[df['len']>0]"
   ]
  },
  {
   "cell_type": "code",
   "execution_count": 22,
   "metadata": {},
   "outputs": [
    {
     "data": {
      "text/plain": [
       "159512"
      ]
     },
     "execution_count": 22,
     "metadata": {},
     "output_type": "execute_result"
    }
   ],
   "source": [
    "len(df)"
   ]
  },
  {
   "cell_type": "code",
   "execution_count": 23,
   "metadata": {},
   "outputs": [
    {
     "data": {
      "text/html": [
       "<div>\n",
       "<style scoped>\n",
       "    .dataframe tbody tr th:only-of-type {\n",
       "        vertical-align: middle;\n",
       "    }\n",
       "\n",
       "    .dataframe tbody tr th {\n",
       "        vertical-align: top;\n",
       "    }\n",
       "\n",
       "    .dataframe thead th {\n",
       "        text-align: right;\n",
       "    }\n",
       "</style>\n",
       "<table border=\"1\" class=\"dataframe\">\n",
       "  <thead>\n",
       "    <tr style=\"text-align: right;\">\n",
       "      <th></th>\n",
       "      <th>text</th>\n",
       "      <th>toxic</th>\n",
       "      <th>len</th>\n",
       "    </tr>\n",
       "  </thead>\n",
       "  <tbody>\n",
       "    <tr>\n",
       "      <th>106024</th>\n",
       "      <td>sigh apparently surrounded idiot like chubbo</td>\n",
       "      <td>1</td>\n",
       "      <td>44</td>\n",
       "    </tr>\n",
       "    <tr>\n",
       "      <th>27212</th>\n",
       "      <td>october utc woot mean article actually kinda m...</td>\n",
       "      <td>1</td>\n",
       "      <td>118</td>\n",
       "    </tr>\n",
       "    <tr>\n",
       "      <th>16676</th>\n",
       "      <td>go suck mudda undo post underage drinking prec...</td>\n",
       "      <td>1</td>\n",
       "      <td>122</td>\n",
       "    </tr>\n",
       "    <tr>\n",
       "      <th>8165</th>\n",
       "      <td>statement bitching</td>\n",
       "      <td>1</td>\n",
       "      <td>18</td>\n",
       "    </tr>\n",
       "    <tr>\n",
       "      <th>96505</th>\n",
       "      <td>fuck fo</td>\n",
       "      <td>1</td>\n",
       "      <td>7</td>\n",
       "    </tr>\n",
       "    <tr>\n",
       "      <th>154660</th>\n",
       "      <td>action eddiebo go fuck dumb cunt grossly inciv...</td>\n",
       "      <td>1</td>\n",
       "      <td>1300</td>\n",
       "    </tr>\n",
       "    <tr>\n",
       "      <th>29187</th>\n",
       "      <td>wher sexy pic gone main page put back</td>\n",
       "      <td>1</td>\n",
       "      <td>37</td>\n",
       "    </tr>\n",
       "    <tr>\n",
       "      <th>132627</th>\n",
       "      <td>pile poop particularly constructive poop</td>\n",
       "      <td>1</td>\n",
       "      <td>40</td>\n",
       "    </tr>\n",
       "    <tr>\n",
       "      <th>17298</th>\n",
       "      <td>screw arsehole embezzlement highly misleading ...</td>\n",
       "      <td>1</td>\n",
       "      <td>58</td>\n",
       "    </tr>\n",
       "    <tr>\n",
       "      <th>815</th>\n",
       "      <td>groin sad fuck going restore edit going leave ...</td>\n",
       "      <td>1</td>\n",
       "      <td>71</td>\n",
       "    </tr>\n",
       "  </tbody>\n",
       "</table>\n",
       "</div>"
      ],
      "text/plain": [
       "                                                     text  toxic   len\n",
       "106024       sigh apparently surrounded idiot like chubbo      1    44\n",
       "27212   october utc woot mean article actually kinda m...      1   118\n",
       "16676   go suck mudda undo post underage drinking prec...      1   122\n",
       "8165                                   statement bitching      1    18\n",
       "96505                                             fuck fo      1     7\n",
       "154660  action eddiebo go fuck dumb cunt grossly inciv...      1  1300\n",
       "29187               wher sexy pic gone main page put back      1    37\n",
       "132627           pile poop particularly constructive poop      1    40\n",
       "17298   screw arsehole embezzlement highly misleading ...      1    58\n",
       "815     groin sad fuck going restore edit going leave ...      1    71"
      ]
     },
     "execution_count": 23,
     "metadata": {},
     "output_type": "execute_result"
    }
   ],
   "source": [
    "df[df['toxic']==1].sample(10, random_state=42)"
   ]
  },
  {
   "cell_type": "markdown",
   "metadata": {},
   "source": [
    "### Разделение выборок на обучающую, валидационную, тестовую"
   ]
  },
  {
   "cell_type": "code",
   "execution_count": 24,
   "metadata": {},
   "outputs": [],
   "source": [
    "train, test = train_test_split(df, test_size=0.2, random_state=42)"
   ]
  },
  {
   "cell_type": "code",
   "execution_count": 25,
   "metadata": {},
   "outputs": [
    {
     "data": {
      "text/plain": [
       "(127609, 31903)"
      ]
     },
     "execution_count": 25,
     "metadata": {},
     "output_type": "execute_result"
    }
   ],
   "source": [
    "len(train), len(test)"
   ]
  },
  {
   "cell_type": "code",
   "execution_count": 26,
   "metadata": {},
   "outputs": [],
   "source": [
    "features_train = train['text']\n",
    "features_test = test['text']"
   ]
  },
  {
   "cell_type": "code",
   "execution_count": 27,
   "metadata": {},
   "outputs": [],
   "source": [
    "target_train = train['toxic']\n",
    "target_test = test['toxic']"
   ]
  },
  {
   "cell_type": "markdown",
   "metadata": {},
   "source": [
    "Выделение части для валидации:"
   ]
  },
  {
   "cell_type": "code",
   "execution_count": 28,
   "metadata": {},
   "outputs": [],
   "source": [
    "features_train_part, features_valid_part, target_train_part, target_valid_part = train_test_split(features_train, target_train, stratify=target_train, test_size=0.2, random_state=42)"
   ]
  },
  {
   "cell_type": "markdown",
   "metadata": {},
   "source": [
    "### Баланс классов"
   ]
  },
  {
   "cell_type": "code",
   "execution_count": 29,
   "metadata": {},
   "outputs": [
    {
     "data": {
      "text/plain": [
       "0    114605\n",
       "1     13004\n",
       "Name: toxic, dtype: int64"
      ]
     },
     "execution_count": 29,
     "metadata": {},
     "output_type": "execute_result"
    }
   ],
   "source": [
    "target_train.value_counts()"
   ]
  },
  {
   "cell_type": "markdown",
   "metadata": {},
   "source": [
    "Налицо явный дисбаланс классов, необходима балансировка классов"
   ]
  },
  {
   "cell_type": "markdown",
   "metadata": {},
   "source": [
    "### Векторизация текстов"
   ]
  },
  {
   "cell_type": "markdown",
   "metadata": {},
   "source": [
    "Преобразуем тексты в мешки слов с помощью библиотеки Tfidf"
   ]
  },
  {
   "cell_type": "code",
   "execution_count": 30,
   "metadata": {},
   "outputs": [],
   "source": [
    "def get_vectorized(features_train, features_valid, features_test=None):\n",
    "\n",
    "    corpus_train = features_train.values\n",
    "    corpus_valid = features_valid.values\n",
    "    if features_test is not None:\n",
    "        corpus_test = features_test.values\n",
    "    \n",
    "    vectorizer = TfidfVectorizer(analyzer='word').fit(corpus_train)\n",
    "    \n",
    "    features_train_vectorized = vectorizer.transform(corpus_train)\n",
    "    features_valid_vectorized = vectorizer.transform(corpus_valid)\n",
    "    if features_test is not None:\n",
    "        features_test_vectorized = vectorizer.transform(corpus_test)\n",
    "    \n",
    "    if features_test is not None:\n",
    "        return features_train_vectorized, features_valid_vectorized, features_test_vectorized\n",
    "    else:\n",
    "        return features_train_vectorized, features_valid_vectorized \n",
    "    "
   ]
  },
  {
   "cell_type": "markdown",
   "metadata": {},
   "source": [
    "## Обучение"
   ]
  },
  {
   "cell_type": "markdown",
   "metadata": {},
   "source": [
    "Целевой показатель метрики f1"
   ]
  },
  {
   "cell_type": "code",
   "execution_count": 31,
   "metadata": {},
   "outputs": [],
   "source": [
    "f1_goal = 0.75"
   ]
  },
  {
   "cell_type": "markdown",
   "metadata": {},
   "source": [
    "### Простые модели"
   ]
  },
  {
   "cell_type": "code",
   "execution_count": 32,
   "metadata": {},
   "outputs": [],
   "source": [
    "def search_model(models, hyper_params, scoring, features_train, target_train, features_test, target_test):\n",
    "    \n",
    "    result = []\n",
    "    \n",
    "    features_train_vect, features_test_vect = get_vectorized(features_train, features_test)\n",
    "    \n",
    "    for base_estimator in models:\n",
    "\n",
    "        model_hyper_params = {}\n",
    "\n",
    "        for key in hyper_params.keys():\n",
    "            if key in base_estimator.get_params().keys():\n",
    "                model_hyper_params[key] = hyper_params[key]    \n",
    "\n",
    "\n",
    "        start_time = datetime.now()\n",
    "\n",
    "        print(type(base_estimator).__name__, '...')\n",
    "\n",
    "        clf = RandomizedSearchCV(base_estimator, model_hyper_params, scoring=scoring, random_state=42, n_jobs=-1)\n",
    "        search = clf.fit(features_train_vect, np.ravel(target_train))\n",
    "\n",
    "        model_learn_time = datetime.now() - start_time\n",
    "\n",
    "        model_test_score = f1_score(target_test, clf.predict(features_test_vect)) \n",
    "\n",
    "        print(\"valid: {:.2f}\".format(clf.best_score_), \"test: {:.2f}\".format(model_test_score))\n",
    "\n",
    "        print()\n",
    "\n",
    "        result.append({\n",
    "            'model': type(base_estimator).__name__, \n",
    "            'metric_valid': clf.best_score_, \n",
    "            'metric_test': model_test_score, \n",
    "            'learn_time': model_learn_time,\n",
    "            'hyper_params': search.best_params_\n",
    "        }) \n",
    "        \n",
    "    return result\n"
   ]
  },
  {
   "cell_type": "code",
   "execution_count": 33,
   "metadata": {},
   "outputs": [],
   "source": [
    "models = [DummyClassifier(), LogisticRegression(), DecisionTreeClassifier()]"
   ]
  },
  {
   "cell_type": "code",
   "execution_count": 34,
   "metadata": {},
   "outputs": [],
   "source": [
    "hyper_params = {\n",
    "    'class_weight': ['balanced'],\n",
    "    'max_depth': [x for x in range(16, 64, 2)], \n",
    "    'leaf_size': [x for x in range(2, 64, 2)], \n",
    "    'min_samples_leaf': [x for x in range(1, 16, 2)],\n",
    "    'min_samples_split': [x for x in range(16, 64, 2)],\n",
    "}"
   ]
  },
  {
   "cell_type": "code",
   "execution_count": 35,
   "metadata": {},
   "outputs": [],
   "source": [
    "log_search = []"
   ]
  },
  {
   "cell_type": "code",
   "execution_count": 36,
   "metadata": {},
   "outputs": [
    {
     "name": "stdout",
     "output_type": "stream",
     "text": [
      "DummyClassifier ...\n",
      "valid: 0.00 test: 0.00\n",
      "\n",
      "LogisticRegression ...\n",
      "valid: 0.75 test: 0.75\n",
      "\n",
      "DecisionTreeClassifier ...\n",
      "valid: 0.61 test: 0.61\n",
      "\n",
      "Wall time: 10min 18s\n"
     ]
    }
   ],
   "source": [
    "%%time\n",
    "log_search = []\n",
    "search_model_result = search_model(models, hyper_params, 'f1', features_train, target_train, features_test, target_test)\n",
    "log_search += search_model_result"
   ]
  },
  {
   "cell_type": "code",
   "execution_count": 37,
   "metadata": {},
   "outputs": [],
   "source": [
    "log_search_df = pd.DataFrame(data=log_search, \n",
    "                         columns=['model', 'metric_valid', 'metric_test', 'learn_time', 'hyper_params'])"
   ]
  },
  {
   "cell_type": "code",
   "execution_count": 38,
   "metadata": {},
   "outputs": [
    {
     "data": {
      "text/html": [
       "<div>\n",
       "<style scoped>\n",
       "    .dataframe tbody tr th:only-of-type {\n",
       "        vertical-align: middle;\n",
       "    }\n",
       "\n",
       "    .dataframe tbody tr th {\n",
       "        vertical-align: top;\n",
       "    }\n",
       "\n",
       "    .dataframe thead th {\n",
       "        text-align: right;\n",
       "    }\n",
       "</style>\n",
       "<table border=\"1\" class=\"dataframe\">\n",
       "  <thead>\n",
       "    <tr style=\"text-align: right;\">\n",
       "      <th></th>\n",
       "      <th>model</th>\n",
       "      <th>metric_valid</th>\n",
       "      <th>metric_test</th>\n",
       "      <th>learn_time</th>\n",
       "      <th>hyper_params</th>\n",
       "    </tr>\n",
       "  </thead>\n",
       "  <tbody>\n",
       "    <tr>\n",
       "      <th>0</th>\n",
       "      <td>DummyClassifier</td>\n",
       "      <td>0.000000</td>\n",
       "      <td>0.000000</td>\n",
       "      <td>0 days 00:00:01.933062</td>\n",
       "      <td>{}</td>\n",
       "    </tr>\n",
       "    <tr>\n",
       "      <th>1</th>\n",
       "      <td>LogisticRegression</td>\n",
       "      <td>0.750974</td>\n",
       "      <td>0.745644</td>\n",
       "      <td>0 days 00:00:20.584035</td>\n",
       "      <td>{'class_weight': 'balanced'}</td>\n",
       "    </tr>\n",
       "    <tr>\n",
       "      <th>2</th>\n",
       "      <td>DecisionTreeClassifier</td>\n",
       "      <td>0.612702</td>\n",
       "      <td>0.611087</td>\n",
       "      <td>0 days 00:09:47.739850</td>\n",
       "      <td>{'min_samples_split': 36, 'min_samples_leaf': ...</td>\n",
       "    </tr>\n",
       "  </tbody>\n",
       "</table>\n",
       "</div>"
      ],
      "text/plain": [
       "                    model  metric_valid  metric_test             learn_time  \\\n",
       "0         DummyClassifier      0.000000     0.000000 0 days 00:00:01.933062   \n",
       "1      LogisticRegression      0.750974     0.745644 0 days 00:00:20.584035   \n",
       "2  DecisionTreeClassifier      0.612702     0.611087 0 days 00:09:47.739850   \n",
       "\n",
       "                                        hyper_params  \n",
       "0                                                 {}  \n",
       "1                       {'class_weight': 'balanced'}  \n",
       "2  {'min_samples_split': 36, 'min_samples_leaf': ...  "
      ]
     },
     "execution_count": 38,
     "metadata": {},
     "output_type": "execute_result"
    }
   ],
   "source": [
    "log_search_df"
   ]
  },
  {
   "cell_type": "markdown",
   "metadata": {},
   "source": [
    "Простые модели со сбалансированными классами не дают нужных результатов, кроме LogisticRegression, её  метрика f1 наилучшая."
   ]
  },
  {
   "cell_type": "markdown",
   "metadata": {},
   "source": [
    "### Upsampling: LogisticRegression"
   ]
  },
  {
   "cell_type": "code",
   "execution_count": 39,
   "metadata": {},
   "outputs": [],
   "source": [
    "def upsample(features, target, repeat):\n",
    "    features_zeros = features[target == 0]\n",
    "    features_ones = features[target == 1]\n",
    "    target_zeros = target[target == 0]\n",
    "    target_ones = target[target == 1]\n",
    "\n",
    "    features_upsampled = pd.concat([features_zeros] + [features_ones] * repeat)\n",
    "    target_upsampled = pd.concat([target_zeros] + [target_ones] * repeat)\n",
    "    \n",
    "    features_upsampled, target_upsampled = shuffle(\n",
    "        features_upsampled, target_upsampled, random_state=42)\n",
    "    \n",
    "    return features_upsampled, target_upsampled"
   ]
  },
  {
   "cell_type": "code",
   "execution_count": 40,
   "metadata": {},
   "outputs": [
    {
     "data": {
      "application/vnd.jupyter.widget-view+json": {
       "model_id": "da9393e21b3840168768cc8ea4eefedc",
       "version_major": 2,
       "version_minor": 0
      },
      "text/plain": [
       "  0%|          | 0/5 [00:00<?, ?it/s]"
      ]
     },
     "metadata": {},
     "output_type": "display_data"
    },
    {
     "name": "stdout",
     "output_type": "stream",
     "text": [
      "repeat = 2 valid = 0.77 test = 0.77\n",
      "repeat = 3 valid = 0.78 test = 0.78\n",
      "repeat = 4 valid = 0.78 test = 0.78\n",
      "repeat = 5 valid = 0.78 test = 0.77\n",
      "repeat = 6 valid = 0.77 test = 0.76\n",
      "\n",
      "Лучший показатель f1: 0.78\n",
      "Wall time: 1min 11s\n"
     ]
    }
   ],
   "source": [
    "%%time\n",
    "\n",
    "best_upsampling_score = 0\n",
    "\n",
    "for repeat in tqdm(range(2, 7)):\n",
    "    features_train_upsampled, target_train_upsampled = upsample(features_train_part, target_train_part, repeat)\n",
    "    features_train_upsampled_vect, features_valid_vect, features_test_vect = get_vectorized(features_train_upsampled, features_valid_part, features_test)\n",
    "    model = LogisticRegression(random_state=42, n_jobs=-1)\n",
    "    model.fit(features_train_upsampled_vect, target_train_upsampled)\n",
    "    model_valid_score = f1_score(target_valid_part, model.predict(features_valid_vect)) \n",
    "    model_test_score = f1_score(target_test, model.predict(features_test_vect)) \n",
    "    if model_valid_score > best_upsampling_score:\n",
    "        best_upsampling_score = model_valid_score\n",
    "    print('repeat =', repeat, \n",
    "          \"valid = {:.2f}\".format(model_valid_score),\n",
    "          \"test = {:.2f}\".format(model_test_score))\n",
    "    \n",
    "print()    \n",
    "print('Лучший показатель f1: {:.2f}'.format(best_upsampling_score))"
   ]
  },
  {
   "cell_type": "markdown",
   "metadata": {},
   "source": [
    "### Downsampling: LogisticRegression"
   ]
  },
  {
   "cell_type": "code",
   "execution_count": 41,
   "metadata": {},
   "outputs": [],
   "source": [
    "def downsample(features, target, fraction):\n",
    "    features_zeros = features[target == 0]\n",
    "    features_ones = features[target == 1]\n",
    "    target_zeros = target[target == 0]\n",
    "    target_ones = target[target == 1]\n",
    "\n",
    "    features_downsampled = pd.concat(\n",
    "        [features_zeros.sample(frac=fraction, random_state=42)] + [features_ones])\n",
    "    target_downsampled = pd.concat(\n",
    "        [target_zeros.sample(frac=fraction, random_state=42)] + [target_ones])\n",
    "    \n",
    "    features_downsampled, target_downsampled = shuffle(\n",
    "        features_downsampled, target_downsampled, random_state=42)\n",
    "    \n",
    "    return features_downsampled, target_downsampled\n"
   ]
  },
  {
   "cell_type": "code",
   "execution_count": 42,
   "metadata": {},
   "outputs": [
    {
     "data": {
      "application/vnd.jupyter.widget-view+json": {
       "model_id": "2645026304e74e9bab8d32fdef5359f7",
       "version_major": 2,
       "version_minor": 0
      },
      "text/plain": [
       "  0%|          | 0/6 [00:00<?, ?it/s]"
      ]
     },
     "metadata": {},
     "output_type": "display_data"
    },
    {
     "name": "stdout",
     "output_type": "stream",
     "text": [
      "fraction = 0.6 valid = 0.75 test = 0.75\n",
      "fraction = 0.5 valid = 0.75 test = 0.76\n",
      "fraction = 0.4 valid = 0.76 test = 0.76\n",
      "fraction = 0.3 valid = 0.76 test = 0.76\n",
      "fraction = 0.2 valid = 0.74 test = 0.74\n",
      "fraction = 0.1 valid = 0.64 test = 0.64\n",
      "\n",
      "Лучший показатель f1: 0.76\n",
      "Wall time: 34.8 s\n"
     ]
    }
   ],
   "source": [
    "%%time\n",
    "\n",
    "best_downsampling_score = 0\n",
    "\n",
    "for fraction in tqdm(np.arange(0.6, 0, -0.1)):\n",
    "    features_train_downsampled, target_train_downsampled = downsample(features_train_part, target_train_part, fraction)\n",
    "    features_train_downsampled_vect, features_valid_vect, features_test_vect = get_vectorized(features_train_downsampled, features_valid_part, features_test)\n",
    "    model = LogisticRegression(random_state=42, n_jobs=-1)\n",
    "    model.fit(features_train_downsampled_vect, target_train_downsampled)\n",
    "    model_valid_score = f1_score(target_valid_part, model.predict(features_valid_vect)) \n",
    "    model_test_score = f1_score(target_test, model.predict(features_test_vect)) \n",
    "    if model_valid_score > best_downsampling_score:\n",
    "        best_downsampling_score = model_valid_score\n",
    "    print('fraction = {:.1f}'.format(fraction), \n",
    "          \"valid = {:.2f}\".format(model_valid_score), \n",
    "          \"test = {:.2f}\".format(model_test_score))\n",
    "print()     \n",
    "print('Лучший показатель f1: {:.2f}'.format(best_downsampling_score))"
   ]
  },
  {
   "cell_type": "markdown",
   "metadata": {},
   "source": [
    "Downsampling также может повысить качество, но меньше, чем upsampling"
   ]
  },
  {
   "cell_type": "markdown",
   "metadata": {},
   "source": [
    "### WordToVec"
   ]
  },
  {
   "cell_type": "markdown",
   "metadata": {},
   "source": [
    "Попробуем сделать векторизацию с помощью WordToVec. Соберём текст из обучающей выборки. Создадим корпус и словарь векторов из него. Каждому тексту в выборке сопоставим сумму векторов его слов."
   ]
  },
  {
   "cell_type": "markdown",
   "metadata": {},
   "source": [
    "#### Обработка корпуса"
   ]
  },
  {
   "cell_type": "markdown",
   "metadata": {},
   "source": [
    "Соберём корпус из обучающей выборки"
   ]
  },
  {
   "cell_type": "code",
   "execution_count": 43,
   "metadata": {},
   "outputs": [],
   "source": [
    "entire_text = features_train.str.cat(sep=\" \")"
   ]
  },
  {
   "cell_type": "code",
   "execution_count": 44,
   "metadata": {},
   "outputs": [
    {
     "data": {
      "text/plain": [
       "31570772"
      ]
     },
     "execution_count": 44,
     "metadata": {},
     "output_type": "execute_result"
    }
   ],
   "source": [
    "len(entire_text)"
   ]
  },
  {
   "cell_type": "markdown",
   "metadata": {},
   "source": [
    "Собираем все предложения в список"
   ]
  },
  {
   "cell_type": "code",
   "execution_count": 45,
   "metadata": {},
   "outputs": [],
   "source": [
    "all_sentences = nltk.sent_tokenize(entire_text)"
   ]
  },
  {
   "cell_type": "code",
   "execution_count": 46,
   "metadata": {},
   "outputs": [],
   "source": [
    "entire_text = None"
   ]
  },
  {
   "cell_type": "code",
   "execution_count": 47,
   "metadata": {},
   "outputs": [
    {
     "data": {
      "text/plain": [
       "1"
      ]
     },
     "execution_count": 47,
     "metadata": {},
     "output_type": "execute_result"
    }
   ],
   "source": [
    "len(all_sentences)"
   ]
  },
  {
   "cell_type": "markdown",
   "metadata": {},
   "source": [
    "Собираем все слова в список списков"
   ]
  },
  {
   "cell_type": "code",
   "execution_count": 48,
   "metadata": {},
   "outputs": [],
   "source": [
    "all_words = [nltk.word_tokenize(sent) for sent in all_sentences]"
   ]
  },
  {
   "cell_type": "code",
   "execution_count": 49,
   "metadata": {},
   "outputs": [
    {
     "data": {
      "text/plain": [
       "1"
      ]
     },
     "execution_count": 49,
     "metadata": {},
     "output_type": "execute_result"
    }
   ],
   "source": [
    "len(all_words)"
   ]
  },
  {
   "cell_type": "code",
   "execution_count": 50,
   "metadata": {},
   "outputs": [],
   "source": [
    "all_sentences = None"
   ]
  },
  {
   "cell_type": "markdown",
   "metadata": {},
   "source": [
    "Формируем веса на основе нашего обучающего текста, учитывая только слова, встречающиеся не менее 4 раз"
   ]
  },
  {
   "cell_type": "code",
   "execution_count": 51,
   "metadata": {},
   "outputs": [],
   "source": [
    "word2vec = Word2Vec(all_words, min_count=4)"
   ]
  },
  {
   "cell_type": "markdown",
   "metadata": {},
   "source": [
    "#### Функция сопоставления вектора слову"
   ]
  },
  {
   "cell_type": "code",
   "execution_count": 52,
   "metadata": {},
   "outputs": [],
   "source": [
    "def get_vectors(text):\n",
    "    vecs = [np.zeros(100)]\n",
    "    for w in utils.simple_preprocess(text):\n",
    "\n",
    "        try:\n",
    "            v = word2vec.wv[w]\n",
    "        except:\n",
    "            v = np.zeros(100)\n",
    "\n",
    "        vecs.append(v)\n",
    "\n",
    "    return np.sum(np.array(vecs),axis=0)"
   ]
  },
  {
   "cell_type": "code",
   "execution_count": 53,
   "metadata": {},
   "outputs": [],
   "source": [
    "train['w2v'] = train['text'].apply(lambda x: get_vectors(x))"
   ]
  },
  {
   "cell_type": "code",
   "execution_count": 54,
   "metadata": {},
   "outputs": [],
   "source": [
    "test['w2v'] = test['text'].apply(lambda x: get_vectors(x))"
   ]
  },
  {
   "cell_type": "code",
   "execution_count": 55,
   "metadata": {},
   "outputs": [],
   "source": [
    "features_train_w2v = pd.DataFrame(train[\"w2v\"].to_list())"
   ]
  },
  {
   "cell_type": "code",
   "execution_count": 56,
   "metadata": {},
   "outputs": [
    {
     "data": {
      "text/plain": [
       "(127609, 127609)"
      ]
     },
     "execution_count": 56,
     "metadata": {},
     "output_type": "execute_result"
    }
   ],
   "source": [
    "len(features_train_w2v), len(target_train)"
   ]
  },
  {
   "cell_type": "code",
   "execution_count": 57,
   "metadata": {},
   "outputs": [],
   "source": [
    "features_test_w2v = pd.DataFrame(test[\"w2v\"].to_list())"
   ]
  },
  {
   "cell_type": "code",
   "execution_count": 58,
   "metadata": {},
   "outputs": [
    {
     "data": {
      "text/plain": [
       "(31903, 31903)"
      ]
     },
     "execution_count": 58,
     "metadata": {},
     "output_type": "execute_result"
    }
   ],
   "source": [
    "len(features_test_w2v), len(target_test)"
   ]
  },
  {
   "cell_type": "code",
   "execution_count": 59,
   "metadata": {},
   "outputs": [],
   "source": [
    "features_train_w2v_part, features_valid_w2v_part, target_train_part, target_valid_part = train_test_split(\n",
    "    features_train_w2v, target_train, stratify=target_train, test_size=0.2, random_state=42)"
   ]
  },
  {
   "cell_type": "code",
   "execution_count": 60,
   "metadata": {},
   "outputs": [
    {
     "data": {
      "text/plain": [
       "(102087, 102087, 25522, 25522)"
      ]
     },
     "execution_count": 60,
     "metadata": {},
     "output_type": "execute_result"
    }
   ],
   "source": [
    "len(features_train_w2v_part), len(target_train_part), len(features_valid_w2v_part), len(target_valid_part)"
   ]
  },
  {
   "cell_type": "code",
   "execution_count": 61,
   "metadata": {},
   "outputs": [
    {
     "name": "stdout",
     "output_type": "stream",
     "text": [
      "valid = 0.31 test = 0.31\n"
     ]
    }
   ],
   "source": [
    "model = LogisticRegression(random_state=42, class_weight='balanced', n_jobs=-1)\n",
    "model.fit(features_train_w2v_part, target_train_part)\n",
    "model_valid_score = f1_score(target_valid_part, model.predict(features_valid_w2v_part)) \n",
    "model_test_score = f1_score(target_test, model.predict(features_test_w2v)) \n",
    "print(\"valid = {:.2f}\".format(model_valid_score), \n",
    "      \"test = {:.2f}\".format(model_test_score))"
   ]
  },
  {
   "cell_type": "markdown",
   "metadata": {},
   "source": [
    "Определим веса классов"
   ]
  },
  {
   "cell_type": "code",
   "execution_count": 62,
   "metadata": {},
   "outputs": [],
   "source": [
    "cw = [1,(target_train_part==0).sum() / (target_train_part==1).sum()]"
   ]
  },
  {
   "cell_type": "code",
   "execution_count": 63,
   "metadata": {},
   "outputs": [
    {
     "data": {
      "text/plain": [
       "[1, 8.813226953763337]"
      ]
     },
     "execution_count": 63,
     "metadata": {},
     "output_type": "execute_result"
    }
   ],
   "source": [
    "cw"
   ]
  },
  {
   "cell_type": "code",
   "execution_count": 64,
   "metadata": {},
   "outputs": [],
   "source": [
    "model = CatBoostClassifier(verbose=100,\n",
    "                           learning_rate=0.5,\n",
    "                           early_stopping_rounds=200,\n",
    "                           eval_metric='F1',\n",
    "                           iterations=200,\n",
    "                           class_weights=cw)"
   ]
  },
  {
   "cell_type": "code",
   "execution_count": 65,
   "metadata": {},
   "outputs": [
    {
     "name": "stdout",
     "output_type": "stream",
     "text": [
      "0:\tlearn: 0.6183309\ttest: 0.6162671\tbest: 0.6162671 (0)\ttotal: 253ms\tremaining: 50.4s\n",
      "100:\tlearn: 0.8078597\ttest: 0.6812548\tbest: 0.6887094 (84)\ttotal: 5.08s\tremaining: 4.98s\n",
      "199:\tlearn: 0.8858440\ttest: 0.6495875\tbest: 0.6887094 (84)\ttotal: 10.1s\tremaining: 0us\n",
      "\n",
      "bestTest = 0.6887093882\n",
      "bestIteration = 84\n",
      "\n",
      "Shrink model to first 85 iterations.\n"
     ]
    },
    {
     "data": {
      "text/plain": [
       "<catboost.core.CatBoostClassifier at 0x1bad5e15340>"
      ]
     },
     "execution_count": 65,
     "metadata": {},
     "output_type": "execute_result"
    }
   ],
   "source": [
    "model.fit(features_train_w2v_part, target_train_part,\n",
    "          eval_set=(features_valid_w2v_part, target_valid_part))"
   ]
  },
  {
   "cell_type": "code",
   "execution_count": 66,
   "metadata": {},
   "outputs": [
    {
     "name": "stdout",
     "output_type": "stream",
     "text": [
      "test = 0.34\n"
     ]
    }
   ],
   "source": [
    "model_test_score = f1_score(target_test, model.predict(features_test_w2v)) \n",
    "print(\"test = {:.2f}\".format(model_test_score))"
   ]
  },
  {
   "cell_type": "markdown",
   "metadata": {},
   "source": [
    "## Выводы"
   ]
  },
  {
   "cell_type": "markdown",
   "metadata": {},
   "source": [
    "Мы обработали тексты, создав мешок слов и применив к ним оценку важности TF-IDF с помощью библиотеки TfidfVectorizer, исключив стоп-слова из nltk_stopwords.\n",
    "\n",
    "Среди рассмотренных нами простых моделей, самый быстрый и высокий результат показала модель LogisticRegression. \n",
    "\n",
    "f1 (valid) = 0.750974\t\n",
    "f1 (test) = 0.745644\n",
    "\n",
    "Балансировка классов методом upsampling позволяет поднять метрику до приемлемых значений. Downsampling \n",
    "\n",
    "repeat = 3 \n",
    "f1 (valid) = 0.78 \n",
    "f1 (test) = 0.78\n",
    "\n",
    "\n",
    "Мы также попробовали векторизовать данные с помощью word2vec. \n",
    "Модельный ансамбль CatBoostClassifier обучился до метрики F1 0.68.  Этот результат лучше, чем у логистической регрессии (0.31). Но, к сожалению, на тестовой выборке результат низкий. Возможно, модель переобучилась. Либо надо совершенствовать общий корпус, или, возможно, использовать корпус, обученный на разговорных тестах.\n",
    "\n",
    "Таким образом, лучший результат для нас, это векторизация текста с помощью TF-IDF, обучение logisticRegression с 3-х кратным upsampling-ом."
   ]
  }
 ],
 "metadata": {
  "ExecuteTimeLog": [
   {
    "duration": 1839,
    "start_time": "2021-07-27T07:49:15.060Z"
   },
   {
    "duration": 8,
    "start_time": "2021-07-27T07:50:19.291Z"
   },
   {
    "duration": 812,
    "start_time": "2021-07-27T07:50:58.756Z"
   },
   {
    "duration": 30,
    "start_time": "2021-07-27T07:51:14.135Z"
   },
   {
    "duration": 26,
    "start_time": "2021-07-27T07:51:30.781Z"
   },
   {
    "duration": 16,
    "start_time": "2021-07-27T07:52:33.914Z"
   },
   {
    "duration": 29,
    "start_time": "2021-07-27T07:52:41.202Z"
   },
   {
    "duration": 611,
    "start_time": "2021-07-27T08:01:42.024Z"
   },
   {
    "duration": 2795,
    "start_time": "2021-07-27T08:01:48.262Z"
   },
   {
    "duration": 460,
    "start_time": "2021-07-27T08:03:14.949Z"
   },
   {
    "duration": 1874,
    "start_time": "2021-07-27T08:03:28.658Z"
   },
   {
    "duration": 1863,
    "start_time": "2021-07-27T08:03:58.047Z"
   },
   {
    "duration": 890,
    "start_time": "2021-07-27T08:03:59.913Z"
   },
   {
    "duration": 20,
    "start_time": "2021-07-27T08:04:01.244Z"
   },
   {
    "duration": 31,
    "start_time": "2021-07-27T08:04:02.297Z"
   },
   {
    "duration": 2921,
    "start_time": "2021-07-27T08:04:03.077Z"
   },
   {
    "duration": 608,
    "start_time": "2021-07-27T08:04:07.318Z"
   },
   {
    "duration": 525,
    "start_time": "2021-07-27T08:04:26.754Z"
   },
   {
    "duration": 230,
    "start_time": "2021-07-27T08:04:34.401Z"
   },
   {
    "duration": 6,
    "start_time": "2021-07-27T08:04:42.935Z"
   },
   {
    "duration": 6,
    "start_time": "2021-07-27T08:05:07.147Z"
   },
   {
    "duration": 7,
    "start_time": "2021-07-27T08:05:37.674Z"
   },
   {
    "duration": 4,
    "start_time": "2021-07-27T08:05:40.843Z"
   },
   {
    "duration": 17952,
    "start_time": "2021-07-27T08:08:55.990Z"
   },
   {
    "duration": 7,
    "start_time": "2021-07-27T08:09:40.467Z"
   },
   {
    "duration": 405,
    "start_time": "2021-07-27T08:13:40.640Z"
   },
   {
    "duration": 7,
    "start_time": "2021-07-27T08:13:54.841Z"
   },
   {
    "duration": 22,
    "start_time": "2021-07-27T08:16:04.961Z"
   },
   {
    "duration": 4,
    "start_time": "2021-07-27T08:26:56.958Z"
   },
   {
    "duration": 9,
    "start_time": "2021-07-27T08:26:58.015Z"
   },
   {
    "duration": 7,
    "start_time": "2021-07-27T08:28:23.197Z"
   },
   {
    "duration": 20,
    "start_time": "2021-07-27T08:29:38.208Z"
   },
   {
    "duration": 4,
    "start_time": "2021-07-27T08:35:46.325Z"
   },
   {
    "duration": 2877,
    "start_time": "2021-07-27T08:35:48.082Z"
   },
   {
    "duration": 1750,
    "start_time": "2021-07-27T08:36:54.291Z"
   },
   {
    "duration": 25,
    "start_time": "2021-07-27T08:36:57.578Z"
   },
   {
    "duration": 812,
    "start_time": "2021-07-27T08:40:55.580Z"
   },
   {
    "duration": 31,
    "start_time": "2021-07-27T08:40:56.908Z"
   },
   {
    "duration": 20,
    "start_time": "2021-07-27T08:40:57.737Z"
   },
   {
    "duration": 4,
    "start_time": "2021-07-27T08:41:00.015Z"
   },
   {
    "duration": 1629,
    "start_time": "2021-07-27T08:41:01.675Z"
   },
   {
    "duration": 20,
    "start_time": "2021-07-27T08:41:04.946Z"
   },
   {
    "duration": 763,
    "start_time": "2021-07-27T09:54:45.807Z"
   },
   {
    "duration": 32,
    "start_time": "2021-07-27T09:54:47.083Z"
   },
   {
    "duration": 29,
    "start_time": "2021-07-27T09:54:48.117Z"
   },
   {
    "duration": 20,
    "start_time": "2021-07-27T09:54:50.184Z"
   },
   {
    "duration": 6,
    "start_time": "2021-07-27T09:55:07.512Z"
   },
   {
    "duration": 4,
    "start_time": "2021-07-27T09:55:15.939Z"
   },
   {
    "duration": 793,
    "start_time": "2021-07-27T09:55:17.612Z"
   },
   {
    "duration": 20,
    "start_time": "2021-07-27T09:55:18.458Z"
   },
   {
    "duration": 2816,
    "start_time": "2021-07-27T09:56:21.660Z"
   },
   {
    "duration": 802,
    "start_time": "2021-07-27T09:56:24.479Z"
   },
   {
    "duration": 32,
    "start_time": "2021-07-27T09:56:25.285Z"
   },
   {
    "duration": 30,
    "start_time": "2021-07-27T09:56:25.320Z"
   },
   {
    "duration": 34,
    "start_time": "2021-07-27T09:56:25.352Z"
   },
   {
    "duration": 21,
    "start_time": "2021-07-27T09:56:26.661Z"
   },
   {
    "duration": 4,
    "start_time": "2021-07-27T09:56:30.204Z"
   },
   {
    "duration": 797,
    "start_time": "2021-07-27T09:56:30.922Z"
   },
   {
    "duration": 22,
    "start_time": "2021-07-27T09:56:32.384Z"
   },
   {
    "duration": 1927,
    "start_time": "2021-07-27T09:56:33.053Z"
   },
   {
    "duration": 6,
    "start_time": "2021-07-27T09:56:35.661Z"
   },
   {
    "duration": 22,
    "start_time": "2021-07-27T10:24:34.139Z"
   },
   {
    "duration": 14,
    "start_time": "2021-07-27T10:25:00.242Z"
   },
   {
    "duration": 823,
    "start_time": "2021-07-27T10:25:44.429Z"
   },
   {
    "duration": 7,
    "start_time": "2021-07-27T10:25:45.942Z"
   },
   {
    "duration": 1481,
    "start_time": "2021-07-27T10:26:22.348Z"
   },
   {
    "duration": 7,
    "start_time": "2021-07-27T10:26:29.164Z"
   },
   {
    "duration": 241,
    "start_time": "2021-07-27T10:26:44.376Z"
   },
   {
    "duration": 6,
    "start_time": "2021-07-27T10:26:45.522Z"
   },
   {
    "duration": 8,
    "start_time": "2021-07-27T10:26:46.910Z"
   },
   {
    "duration": 4392,
    "start_time": "2021-07-27T10:27:10.828Z"
   },
   {
    "duration": 6980,
    "start_time": "2021-07-27T10:29:53.970Z"
   },
   {
    "duration": 5,
    "start_time": "2021-07-27T10:30:07.518Z"
   },
   {
    "duration": 5,
    "start_time": "2021-07-27T11:12:11.695Z"
   },
   {
    "duration": 5,
    "start_time": "2021-07-27T11:23:02.495Z"
   },
   {
    "duration": 9903,
    "start_time": "2021-07-27T11:23:22.507Z"
   },
   {
    "duration": 9,
    "start_time": "2021-07-27T11:23:53.326Z"
   },
   {
    "duration": 561,
    "start_time": "2021-07-27T11:25:51.754Z"
   },
   {
    "duration": 5,
    "start_time": "2021-07-27T11:25:57.391Z"
   },
   {
    "duration": 13,
    "start_time": "2021-07-27T11:26:01.723Z"
   },
   {
    "duration": 12,
    "start_time": "2021-07-27T11:27:38.917Z"
   },
   {
    "duration": 909,
    "start_time": "2021-07-27T11:27:49.694Z"
   },
   {
    "duration": 841,
    "start_time": "2021-07-27T11:28:01.948Z"
   },
   {
    "duration": 10,
    "start_time": "2021-07-27T11:28:21.755Z"
   },
   {
    "duration": 4,
    "start_time": "2021-07-27T11:37:20.624Z"
   },
   {
    "duration": 407,
    "start_time": "2021-07-27T11:37:38.115Z"
   },
   {
    "duration": 7,
    "start_time": "2021-07-27T11:37:47.478Z"
   },
   {
    "duration": 7,
    "start_time": "2021-07-27T11:38:42.771Z"
   },
   {
    "duration": 457,
    "start_time": "2021-07-27T11:38:49.064Z"
   },
   {
    "duration": 8,
    "start_time": "2021-07-27T11:40:45.759Z"
   },
   {
    "duration": 8,
    "start_time": "2021-07-27T11:41:20.008Z"
   },
   {
    "duration": 11581,
    "start_time": "2021-07-27T11:41:23.725Z"
   },
   {
    "duration": 9,
    "start_time": "2021-07-27T11:41:36.176Z"
   },
   {
    "duration": 12,
    "start_time": "2021-07-27T11:41:36.877Z"
   },
   {
    "duration": 57,
    "start_time": "2021-07-27T11:46:21.604Z"
   },
   {
    "duration": 22,
    "start_time": "2021-07-27T11:46:25.406Z"
   },
   {
    "duration": 14,
    "start_time": "2021-07-27T11:46:43.677Z"
   },
   {
    "duration": 305,
    "start_time": "2021-07-27T11:47:14.134Z"
   },
   {
    "duration": 662,
    "start_time": "2021-07-27T11:47:25.672Z"
   },
   {
    "duration": 10,
    "start_time": "2021-07-27T11:50:40.579Z"
   },
   {
    "duration": 13,
    "start_time": "2021-07-27T11:52:42.041Z"
   },
   {
    "duration": 21,
    "start_time": "2021-07-27T11:52:45.765Z"
   },
   {
    "duration": 20,
    "start_time": "2021-07-27T11:52:50.243Z"
   },
   {
    "duration": 14,
    "start_time": "2021-07-27T11:52:50.701Z"
   },
   {
    "duration": 5,
    "start_time": "2021-07-27T11:52:51.262Z"
   },
   {
    "duration": 453,
    "start_time": "2021-07-27T11:52:52.085Z"
   },
   {
    "duration": 5,
    "start_time": "2021-07-27T11:52:55.623Z"
   },
   {
    "duration": 245,
    "start_time": "2021-07-27T11:52:58.214Z"
   },
   {
    "duration": 4,
    "start_time": "2021-07-27T11:52:59.034Z"
   },
   {
    "duration": 10,
    "start_time": "2021-07-27T11:52:59.786Z"
   },
   {
    "duration": 3574,
    "start_time": "2021-07-27T11:53:00.999Z"
   },
   {
    "duration": 143,
    "start_time": "2021-07-27T11:53:04.432Z"
   },
   {
    "duration": 2756,
    "start_time": "2021-07-27T11:53:13.446Z"
   },
   {
    "duration": 4456,
    "start_time": "2021-07-27T11:53:16.750Z"
   },
   {
    "duration": 4,
    "start_time": "2021-07-27T11:53:21.827Z"
   },
   {
    "duration": 7,
    "start_time": "2021-07-27T11:53:24.750Z"
   },
   {
    "duration": 9,
    "start_time": "2021-07-27T11:53:27.490Z"
   },
   {
    "duration": 9039,
    "start_time": "2021-07-27T11:53:29.450Z"
   },
   {
    "duration": 9,
    "start_time": "2021-07-27T11:53:39.323Z"
   },
   {
    "duration": 13,
    "start_time": "2021-07-27T11:53:40.226Z"
   },
   {
    "duration": 9,
    "start_time": "2021-07-27T12:14:26.157Z"
   },
   {
    "duration": 1676,
    "start_time": "2021-07-27T12:14:45.139Z"
   },
   {
    "duration": 749,
    "start_time": "2021-07-27T12:14:46.818Z"
   },
   {
    "duration": 30,
    "start_time": "2021-07-27T12:14:47.571Z"
   },
   {
    "duration": 28,
    "start_time": "2021-07-27T12:14:47.605Z"
   },
   {
    "duration": 9,
    "start_time": "2021-07-27T12:14:47.635Z"
   },
   {
    "duration": 52,
    "start_time": "2021-07-27T12:14:47.647Z"
   },
   {
    "duration": 4,
    "start_time": "2021-07-27T12:14:47.702Z"
   },
   {
    "duration": 801,
    "start_time": "2021-07-27T12:14:47.709Z"
   },
   {
    "duration": 61,
    "start_time": "2021-07-27T12:14:48.514Z"
   },
   {
    "duration": 15,
    "start_time": "2021-07-27T12:14:48.587Z"
   },
   {
    "duration": 571,
    "start_time": "2021-07-27T12:14:48.604Z"
   },
   {
    "duration": 14,
    "start_time": "2021-07-27T12:14:49.178Z"
   },
   {
    "duration": 28,
    "start_time": "2021-07-27T12:14:49.195Z"
   },
   {
    "duration": 20,
    "start_time": "2021-07-27T12:14:49.227Z"
   },
   {
    "duration": 43,
    "start_time": "2021-07-27T12:14:49.250Z"
   },
   {
    "duration": 11,
    "start_time": "2021-07-27T12:14:49.295Z"
   },
   {
    "duration": 18,
    "start_time": "2021-07-27T12:14:49.309Z"
   },
   {
    "duration": 382,
    "start_time": "2021-07-27T12:14:49.330Z"
   },
   {
    "duration": 15,
    "start_time": "2021-07-27T12:14:49.715Z"
   },
   {
    "duration": 257,
    "start_time": "2021-07-27T12:14:49.733Z"
   },
   {
    "duration": 6,
    "start_time": "2021-07-27T12:14:49.993Z"
   },
   {
    "duration": 21,
    "start_time": "2021-07-27T12:14:50.001Z"
   },
   {
    "duration": 2141,
    "start_time": "2021-07-27T12:14:50.024Z"
   },
   {
    "duration": 3344,
    "start_time": "2021-07-27T12:14:52.167Z"
   },
   {
    "duration": 5,
    "start_time": "2021-07-27T12:14:55.513Z"
   },
   {
    "duration": 24,
    "start_time": "2021-07-27T12:14:55.520Z"
   },
   {
    "duration": 12,
    "start_time": "2021-07-27T12:14:55.549Z"
   },
   {
    "duration": 8330,
    "start_time": "2021-07-27T12:14:55.563Z"
   },
   {
    "duration": 7,
    "start_time": "2021-07-27T12:15:03.896Z"
   },
   {
    "duration": 50,
    "start_time": "2021-07-27T12:15:03.907Z"
   },
   {
    "duration": 614,
    "start_time": "2021-07-27T12:15:03.961Z"
   },
   {
    "duration": 1729,
    "start_time": "2021-07-27T12:16:03.521Z"
   },
   {
    "duration": 787,
    "start_time": "2021-07-27T12:16:05.253Z"
   },
   {
    "duration": 42,
    "start_time": "2021-07-27T12:16:06.043Z"
   },
   {
    "duration": 142,
    "start_time": "2021-07-27T12:16:06.088Z"
   },
   {
    "duration": 21,
    "start_time": "2021-07-27T12:16:06.233Z"
   },
   {
    "duration": 57,
    "start_time": "2021-07-27T12:16:06.256Z"
   },
   {
    "duration": 6,
    "start_time": "2021-07-27T12:16:06.316Z"
   },
   {
    "duration": 831,
    "start_time": "2021-07-27T12:16:06.325Z"
   },
   {
    "duration": 70,
    "start_time": "2021-07-27T12:16:07.163Z"
   },
   {
    "duration": 15,
    "start_time": "2021-07-27T12:16:07.238Z"
   },
   {
    "duration": 592,
    "start_time": "2021-07-27T12:16:07.256Z"
   },
   {
    "duration": 8,
    "start_time": "2021-07-27T12:16:07.851Z"
   },
   {
    "duration": 45,
    "start_time": "2021-07-27T12:16:07.862Z"
   },
   {
    "duration": 669,
    "start_time": "2021-07-27T12:16:07.911Z"
   },
   {
    "duration": 20,
    "start_time": "2021-07-27T12:16:08.586Z"
   },
   {
    "duration": 22,
    "start_time": "2021-07-27T12:16:08.609Z"
   },
   {
    "duration": 11,
    "start_time": "2021-07-27T12:16:08.634Z"
   },
   {
    "duration": 37,
    "start_time": "2021-07-27T12:16:08.648Z"
   },
   {
    "duration": 480,
    "start_time": "2021-07-27T12:16:08.688Z"
   },
   {
    "duration": 16,
    "start_time": "2021-07-27T12:16:09.171Z"
   },
   {
    "duration": 269,
    "start_time": "2021-07-27T12:16:09.190Z"
   },
   {
    "duration": 8,
    "start_time": "2021-07-27T12:16:09.462Z"
   },
   {
    "duration": 24,
    "start_time": "2021-07-27T12:16:09.473Z"
   },
   {
    "duration": 2828,
    "start_time": "2021-07-27T12:16:09.500Z"
   },
   {
    "duration": 4505,
    "start_time": "2021-07-27T12:16:12.330Z"
   },
   {
    "duration": 4,
    "start_time": "2021-07-27T12:16:16.837Z"
   },
   {
    "duration": 16,
    "start_time": "2021-07-27T12:16:16.846Z"
   },
   {
    "duration": 25,
    "start_time": "2021-07-27T12:16:16.865Z"
   },
   {
    "duration": 10619,
    "start_time": "2021-07-27T12:16:16.892Z"
   },
   {
    "duration": 10,
    "start_time": "2021-07-27T12:16:27.514Z"
   },
   {
    "duration": 32,
    "start_time": "2021-07-27T12:16:27.527Z"
   },
   {
    "duration": 14,
    "start_time": "2021-07-27T12:17:23.135Z"
   },
   {
    "duration": 15,
    "start_time": "2021-07-27T12:17:38.188Z"
   },
   {
    "duration": 2296,
    "start_time": "2021-07-27T12:23:32.849Z"
   },
   {
    "duration": 1142,
    "start_time": "2021-07-27T12:23:35.148Z"
   },
   {
    "duration": 40,
    "start_time": "2021-07-27T12:23:36.294Z"
   },
   {
    "duration": 51,
    "start_time": "2021-07-27T12:23:36.337Z"
   },
   {
    "duration": 10,
    "start_time": "2021-07-27T12:23:36.391Z"
   },
   {
    "duration": 24,
    "start_time": "2021-07-27T12:23:36.405Z"
   },
   {
    "duration": 6,
    "start_time": "2021-07-27T12:23:36.432Z"
   },
   {
    "duration": 814,
    "start_time": "2021-07-27T12:23:36.440Z"
   },
   {
    "duration": 68,
    "start_time": "2021-07-27T12:23:37.259Z"
   },
   {
    "duration": 14,
    "start_time": "2021-07-27T12:23:37.331Z"
   },
   {
    "duration": 590,
    "start_time": "2021-07-27T12:23:37.347Z"
   },
   {
    "duration": 10,
    "start_time": "2021-07-27T12:23:37.939Z"
   },
   {
    "duration": 41,
    "start_time": "2021-07-27T12:23:37.952Z"
   },
   {
    "duration": 671,
    "start_time": "2021-07-27T12:23:37.997Z"
   },
   {
    "duration": 30,
    "start_time": "2021-07-27T12:23:38.671Z"
   },
   {
    "duration": 23,
    "start_time": "2021-07-27T12:23:38.704Z"
   },
   {
    "duration": 11,
    "start_time": "2021-07-27T12:23:38.730Z"
   },
   {
    "duration": 14,
    "start_time": "2021-07-27T12:23:38.744Z"
   },
   {
    "duration": 685,
    "start_time": "2021-07-27T12:23:38.785Z"
   },
   {
    "duration": 16,
    "start_time": "2021-07-27T12:23:39.472Z"
   },
   {
    "duration": 266,
    "start_time": "2021-07-27T12:23:39.490Z"
   },
   {
    "duration": 5,
    "start_time": "2021-07-27T12:23:39.758Z"
   },
   {
    "duration": 19,
    "start_time": "2021-07-27T12:23:39.766Z"
   },
   {
    "duration": 3392,
    "start_time": "2021-07-27T12:23:39.788Z"
   },
   {
    "duration": 5621,
    "start_time": "2021-07-27T12:23:43.186Z"
   },
   {
    "duration": 4,
    "start_time": "2021-07-27T12:23:48.809Z"
   },
   {
    "duration": 10,
    "start_time": "2021-07-27T12:23:48.818Z"
   },
   {
    "duration": 8,
    "start_time": "2021-07-27T12:23:48.831Z"
   },
   {
    "duration": 11670,
    "start_time": "2021-07-27T12:23:48.842Z"
   },
   {
    "duration": 13,
    "start_time": "2021-07-27T12:24:00.515Z"
   },
   {
    "duration": 17,
    "start_time": "2021-07-27T12:24:00.531Z"
   },
   {
    "duration": 3,
    "start_time": "2021-07-27T12:39:54.275Z"
   },
   {
    "duration": 6,
    "start_time": "2021-07-27T12:44:42.615Z"
   },
   {
    "duration": 409,
    "start_time": "2021-07-27T12:44:48.520Z"
   },
   {
    "duration": 90,
    "start_time": "2021-07-27T12:45:19.430Z"
   },
   {
    "duration": 570,
    "start_time": "2021-07-27T12:45:23.494Z"
   },
   {
    "duration": 6,
    "start_time": "2021-07-27T12:45:58.029Z"
   },
   {
    "duration": 503162,
    "start_time": "2021-07-27T12:46:01.982Z"
   },
   {
    "duration": 1767,
    "start_time": "2021-07-27T12:54:30.931Z"
   },
   {
    "duration": 816,
    "start_time": "2021-07-27T12:54:32.701Z"
   },
   {
    "duration": 33,
    "start_time": "2021-07-27T12:54:33.520Z"
   },
   {
    "duration": 60,
    "start_time": "2021-07-27T12:54:33.556Z"
   },
   {
    "duration": 10,
    "start_time": "2021-07-27T12:54:33.619Z"
   },
   {
    "duration": 36,
    "start_time": "2021-07-27T12:54:33.631Z"
   },
   {
    "duration": 22,
    "start_time": "2021-07-27T12:54:33.669Z"
   },
   {
    "duration": 849,
    "start_time": "2021-07-27T12:54:33.694Z"
   },
   {
    "duration": 82,
    "start_time": "2021-07-27T12:54:34.547Z"
   },
   {
    "duration": 13,
    "start_time": "2021-07-27T12:54:34.633Z"
   },
   {
    "duration": 675,
    "start_time": "2021-07-27T12:54:34.649Z"
   },
   {
    "duration": 8,
    "start_time": "2021-07-27T12:54:35.326Z"
   },
   {
    "duration": 20,
    "start_time": "2021-07-27T12:54:35.336Z"
   },
   {
    "duration": 719,
    "start_time": "2021-07-27T12:54:35.360Z"
   },
   {
    "duration": 24,
    "start_time": "2021-07-27T12:54:36.081Z"
   },
   {
    "duration": 18,
    "start_time": "2021-07-27T12:54:36.108Z"
   },
   {
    "duration": 11,
    "start_time": "2021-07-27T12:54:36.128Z"
   },
   {
    "duration": 7,
    "start_time": "2021-07-27T12:54:36.141Z"
   },
   {
    "duration": 425,
    "start_time": "2021-07-27T12:54:36.187Z"
   },
   {
    "duration": 8,
    "start_time": "2021-07-27T12:54:36.615Z"
   },
   {
    "duration": 278,
    "start_time": "2021-07-27T12:54:36.626Z"
   },
   {
    "duration": 5,
    "start_time": "2021-07-27T12:54:36.906Z"
   },
   {
    "duration": 11,
    "start_time": "2021-07-27T12:54:36.914Z"
   },
   {
    "duration": 2980,
    "start_time": "2021-07-27T12:54:36.927Z"
   },
   {
    "duration": 4615,
    "start_time": "2021-07-27T12:54:39.910Z"
   },
   {
    "duration": 4,
    "start_time": "2021-07-27T12:54:44.527Z"
   },
   {
    "duration": 13,
    "start_time": "2021-07-27T12:54:44.536Z"
   },
   {
    "duration": 36,
    "start_time": "2021-07-27T12:54:44.551Z"
   },
   {
    "duration": 7,
    "start_time": "2021-07-27T12:54:44.590Z"
   },
   {
    "duration": 10203,
    "start_time": "2021-07-27T12:54:44.599Z"
   },
   {
    "duration": 14,
    "start_time": "2021-07-27T12:54:54.804Z"
   },
   {
    "duration": 12,
    "start_time": "2021-07-27T12:54:54.820Z"
   },
   {
    "duration": 5,
    "start_time": "2021-07-27T12:54:54.835Z"
   },
   {
    "duration": 182108,
    "start_time": "2021-07-27T12:54:54.842Z"
   },
   {
    "duration": 817,
    "start_time": "2021-07-27T12:57:56.952Z"
   },
   {
    "duration": 152,
    "start_time": "2021-07-27T12:57:57.620Z"
   },
   {
    "duration": 6,
    "start_time": "2021-07-27T12:59:01.477Z"
   },
   {
    "duration": 4,
    "start_time": "2021-07-27T13:04:46.850Z"
   },
   {
    "duration": 88701,
    "start_time": "2021-07-27T13:04:47.886Z"
   },
   {
    "duration": 9,
    "start_time": "2021-07-27T13:06:16.591Z"
   },
   {
    "duration": 3313,
    "start_time": "2021-07-27T13:06:53.003Z"
   },
   {
    "duration": 142,
    "start_time": "2021-07-27T13:06:56.178Z"
   },
   {
    "duration": 139,
    "start_time": "2021-07-27T13:06:56.182Z"
   },
   {
    "duration": 139,
    "start_time": "2021-07-27T13:06:56.184Z"
   },
   {
    "duration": 137,
    "start_time": "2021-07-27T13:06:56.188Z"
   },
   {
    "duration": 137,
    "start_time": "2021-07-27T13:06:56.189Z"
   },
   {
    "duration": 136,
    "start_time": "2021-07-27T13:06:56.191Z"
   },
   {
    "duration": 137,
    "start_time": "2021-07-27T13:06:56.192Z"
   },
   {
    "duration": 137,
    "start_time": "2021-07-27T13:06:56.193Z"
   },
   {
    "duration": 136,
    "start_time": "2021-07-27T13:06:56.195Z"
   },
   {
    "duration": 137,
    "start_time": "2021-07-27T13:06:56.196Z"
   },
   {
    "duration": 136,
    "start_time": "2021-07-27T13:06:56.198Z"
   },
   {
    "duration": 137,
    "start_time": "2021-07-27T13:06:56.199Z"
   },
   {
    "duration": 135,
    "start_time": "2021-07-27T13:06:56.202Z"
   },
   {
    "duration": 134,
    "start_time": "2021-07-27T13:06:56.205Z"
   },
   {
    "duration": 131,
    "start_time": "2021-07-27T13:06:56.209Z"
   },
   {
    "duration": 125,
    "start_time": "2021-07-27T13:06:56.217Z"
   },
   {
    "duration": 121,
    "start_time": "2021-07-27T13:06:56.222Z"
   },
   {
    "duration": 117,
    "start_time": "2021-07-27T13:06:56.227Z"
   },
   {
    "duration": 108,
    "start_time": "2021-07-27T13:06:56.237Z"
   },
   {
    "duration": 108,
    "start_time": "2021-07-27T13:06:56.239Z"
   },
   {
    "duration": 107,
    "start_time": "2021-07-27T13:06:56.241Z"
   },
   {
    "duration": 106,
    "start_time": "2021-07-27T13:06:56.244Z"
   },
   {
    "duration": 105,
    "start_time": "2021-07-27T13:06:56.246Z"
   },
   {
    "duration": 105,
    "start_time": "2021-07-27T13:06:56.248Z"
   },
   {
    "duration": 101,
    "start_time": "2021-07-27T13:06:56.253Z"
   },
   {
    "duration": 101,
    "start_time": "2021-07-27T13:06:56.255Z"
   },
   {
    "duration": 124,
    "start_time": "2021-07-27T13:06:56.261Z"
   },
   {
    "duration": 124,
    "start_time": "2021-07-27T13:06:56.263Z"
   },
   {
    "duration": 124,
    "start_time": "2021-07-27T13:06:56.265Z"
   },
   {
    "duration": 123,
    "start_time": "2021-07-27T13:06:56.267Z"
   },
   {
    "duration": 123,
    "start_time": "2021-07-27T13:06:56.269Z"
   },
   {
    "duration": 122,
    "start_time": "2021-07-27T13:06:56.271Z"
   },
   {
    "duration": 121,
    "start_time": "2021-07-27T13:06:56.273Z"
   },
   {
    "duration": 122,
    "start_time": "2021-07-27T13:06:56.274Z"
   },
   {
    "duration": 121,
    "start_time": "2021-07-27T13:06:56.276Z"
   },
   {
    "duration": 1715,
    "start_time": "2021-07-27T13:07:50.201Z"
   },
   {
    "duration": 762,
    "start_time": "2021-07-27T13:07:51.919Z"
   },
   {
    "duration": 30,
    "start_time": "2021-07-27T13:07:52.684Z"
   },
   {
    "duration": 28,
    "start_time": "2021-07-27T13:07:52.717Z"
   },
   {
    "duration": 9,
    "start_time": "2021-07-27T13:07:52.748Z"
   },
   {
    "duration": 20,
    "start_time": "2021-07-27T13:07:52.786Z"
   },
   {
    "duration": 4,
    "start_time": "2021-07-27T13:07:52.808Z"
   },
   {
    "duration": 819,
    "start_time": "2021-07-27T13:07:52.814Z"
   },
   {
    "duration": 69,
    "start_time": "2021-07-27T13:07:53.638Z"
   },
   {
    "duration": 14,
    "start_time": "2021-07-27T13:07:53.710Z"
   },
   {
    "duration": 637,
    "start_time": "2021-07-27T13:07:53.726Z"
   },
   {
    "duration": 20,
    "start_time": "2021-07-27T13:07:54.365Z"
   },
   {
    "duration": 14,
    "start_time": "2021-07-27T13:07:54.387Z"
   },
   {
    "duration": 601,
    "start_time": "2021-07-27T13:07:54.406Z"
   },
   {
    "duration": 23,
    "start_time": "2021-07-27T13:07:55.010Z"
   },
   {
    "duration": 24,
    "start_time": "2021-07-27T13:07:55.036Z"
   },
   {
    "duration": 37,
    "start_time": "2021-07-27T13:07:55.062Z"
   },
   {
    "duration": 7,
    "start_time": "2021-07-27T13:07:55.102Z"
   },
   {
    "duration": 460,
    "start_time": "2021-07-27T13:07:55.112Z"
   },
   {
    "duration": 12,
    "start_time": "2021-07-27T13:07:55.575Z"
   },
   {
    "duration": 251,
    "start_time": "2021-07-27T13:07:55.589Z"
   },
   {
    "duration": 5,
    "start_time": "2021-07-27T13:07:55.842Z"
   },
   {
    "duration": 11,
    "start_time": "2021-07-27T13:07:55.850Z"
   },
   {
    "duration": 2657,
    "start_time": "2021-07-27T13:07:55.863Z"
   },
   {
    "duration": 4351,
    "start_time": "2021-07-27T13:07:58.523Z"
   },
   {
    "duration": 9,
    "start_time": "2021-07-27T13:08:02.877Z"
   },
   {
    "duration": 27,
    "start_time": "2021-07-27T13:08:02.893Z"
   },
   {
    "duration": 11,
    "start_time": "2021-07-27T13:08:02.924Z"
   },
   {
    "duration": 9,
    "start_time": "2021-07-27T13:08:02.938Z"
   },
   {
    "duration": 11044,
    "start_time": "2021-07-27T13:08:02.950Z"
   },
   {
    "duration": 14,
    "start_time": "2021-07-27T13:08:13.996Z"
   },
   {
    "duration": 13,
    "start_time": "2021-07-27T13:08:14.013Z"
   },
   {
    "duration": 5,
    "start_time": "2021-07-27T13:08:14.028Z"
   },
   {
    "duration": 64213,
    "start_time": "2021-07-27T13:08:14.035Z"
   },
   {
    "duration": 403,
    "start_time": "2021-07-27T13:09:18.251Z"
   },
   {
    "duration": 159,
    "start_time": "2021-07-27T13:09:18.497Z"
   },
   {
    "duration": 10,
    "start_time": "2021-07-27T13:20:33.365Z"
   },
   {
    "duration": 774,
    "start_time": "2021-07-27T13:20:33.378Z"
   },
   {
    "duration": 41,
    "start_time": "2021-07-27T13:20:34.155Z"
   },
   {
    "duration": 35,
    "start_time": "2021-07-27T13:20:34.199Z"
   },
   {
    "duration": 5,
    "start_time": "2021-07-27T13:20:34.240Z"
   },
   {
    "duration": 49,
    "start_time": "2021-07-27T13:20:34.248Z"
   },
   {
    "duration": 12,
    "start_time": "2021-07-27T13:20:34.300Z"
   },
   {
    "duration": 841,
    "start_time": "2021-07-27T13:20:34.315Z"
   },
   {
    "duration": 88,
    "start_time": "2021-07-27T13:20:35.160Z"
   },
   {
    "duration": 15,
    "start_time": "2021-07-27T13:20:35.251Z"
   },
   {
    "duration": 593,
    "start_time": "2021-07-27T13:20:35.268Z"
   },
   {
    "duration": 8,
    "start_time": "2021-07-27T13:20:35.863Z"
   },
   {
    "duration": 13,
    "start_time": "2021-07-27T13:20:35.886Z"
   },
   {
    "duration": 648,
    "start_time": "2021-07-27T13:20:35.901Z"
   },
   {
    "duration": 33,
    "start_time": "2021-07-27T13:20:36.552Z"
   },
   {
    "duration": 26,
    "start_time": "2021-07-27T13:20:36.588Z"
   },
   {
    "duration": 16,
    "start_time": "2021-07-27T13:20:36.617Z"
   },
   {
    "duration": 6,
    "start_time": "2021-07-27T13:20:36.637Z"
   },
   {
    "duration": 1457,
    "start_time": "2021-07-27T13:20:36.645Z"
   },
   {
    "duration": 8,
    "start_time": "2021-07-27T13:20:38.105Z"
   },
   {
    "duration": 8,
    "start_time": "2021-07-27T13:20:38.116Z"
   },
   {
    "duration": 10,
    "start_time": "2021-07-27T13:20:38.126Z"
   },
   {
    "duration": 14,
    "start_time": "2021-07-27T13:20:38.138Z"
   },
   {
    "duration": 4673,
    "start_time": "2021-07-27T13:20:38.186Z"
   },
   {
    "duration": 7651,
    "start_time": "2021-07-27T13:20:42.862Z"
   },
   {
    "duration": 5,
    "start_time": "2021-07-27T13:20:50.515Z"
   },
   {
    "duration": 14,
    "start_time": "2021-07-27T13:20:50.525Z"
   },
   {
    "duration": 8,
    "start_time": "2021-07-27T13:20:50.542Z"
   },
   {
    "duration": 33,
    "start_time": "2021-07-27T13:20:50.553Z"
   },
   {
    "duration": 11719,
    "start_time": "2021-07-27T13:20:50.589Z"
   },
   {
    "duration": 17,
    "start_time": "2021-07-27T13:21:02.312Z"
   },
   {
    "duration": 14,
    "start_time": "2021-07-27T13:21:02.332Z"
   },
   {
    "duration": 395,
    "start_time": "2021-07-27T13:23:26.149Z"
   },
   {
    "duration": 382,
    "start_time": "2021-07-27T13:24:09.747Z"
   },
   {
    "duration": 6,
    "start_time": "2021-07-27T13:24:14.022Z"
   },
   {
    "duration": 4351,
    "start_time": "2021-07-27T13:24:52.575Z"
   },
   {
    "duration": 6590,
    "start_time": "2021-07-27T13:25:02.009Z"
   },
   {
    "duration": 4,
    "start_time": "2021-07-27T13:25:09.155Z"
   },
   {
    "duration": 8,
    "start_time": "2021-07-27T13:25:10.587Z"
   },
   {
    "duration": 8,
    "start_time": "2021-07-27T13:25:12.022Z"
   },
   {
    "duration": 4,
    "start_time": "2021-07-27T13:25:13.309Z"
   },
   {
    "duration": 931,
    "start_time": "2021-07-27T13:25:15.531Z"
   },
   {
    "duration": 15,
    "start_time": "2021-07-27T13:25:17.307Z"
   },
   {
    "duration": 14,
    "start_time": "2021-07-27T13:25:18.263Z"
   },
   {
    "duration": 4429,
    "start_time": "2021-07-27T13:25:30.380Z"
   },
   {
    "duration": 7099,
    "start_time": "2021-07-27T13:25:35.236Z"
   },
   {
    "duration": 4,
    "start_time": "2021-07-27T13:25:42.338Z"
   },
   {
    "duration": 16,
    "start_time": "2021-07-27T13:25:42.344Z"
   },
   {
    "duration": 27,
    "start_time": "2021-07-27T13:25:42.363Z"
   },
   {
    "duration": 3,
    "start_time": "2021-07-27T13:25:43.025Z"
   },
   {
    "duration": 1200,
    "start_time": "2021-07-27T13:25:44.196Z"
   },
   {
    "duration": 15,
    "start_time": "2021-07-27T13:25:45.794Z"
   },
   {
    "duration": 14,
    "start_time": "2021-07-27T13:25:46.504Z"
   },
   {
    "duration": 4479,
    "start_time": "2021-07-27T13:26:07.402Z"
   },
   {
    "duration": 7561,
    "start_time": "2021-07-27T13:26:12.386Z"
   },
   {
    "duration": 5,
    "start_time": "2021-07-27T13:26:19.950Z"
   },
   {
    "duration": 10,
    "start_time": "2021-07-27T13:26:21.086Z"
   },
   {
    "duration": 9,
    "start_time": "2021-07-27T13:26:21.757Z"
   },
   {
    "duration": 4,
    "start_time": "2021-07-27T13:26:22.862Z"
   },
   {
    "duration": 11627,
    "start_time": "2021-07-27T13:26:24.280Z"
   },
   {
    "duration": 15,
    "start_time": "2021-07-27T13:26:35.910Z"
   },
   {
    "duration": 14,
    "start_time": "2021-07-27T13:26:35.928Z"
   },
   {
    "duration": 11740,
    "start_time": "2021-07-27T13:26:48.570Z"
   },
   {
    "duration": 16,
    "start_time": "2021-07-27T13:27:00.891Z"
   },
   {
    "duration": 14,
    "start_time": "2021-07-27T13:27:01.691Z"
   },
   {
    "duration": 5,
    "start_time": "2021-07-27T13:27:09.008Z"
   },
   {
    "duration": 190220,
    "start_time": "2021-07-27T13:27:10.133Z"
   },
   {
    "duration": 410,
    "start_time": "2021-07-27T13:30:29.807Z"
   },
   {
    "duration": 6,
    "start_time": "2021-07-27T13:30:57.752Z"
   },
   {
    "duration": 14,
    "start_time": "2021-07-27T13:30:59.957Z"
   },
   {
    "duration": 161655,
    "start_time": "2021-07-27T13:38:39.297Z"
   },
   {
    "duration": 5,
    "start_time": "2021-07-27T13:41:23.434Z"
   },
   {
    "duration": 233204,
    "start_time": "2021-07-27T13:41:25.126Z"
   },
   {
    "duration": 7,
    "start_time": "2021-07-27T13:45:42.595Z"
   },
   {
    "duration": 16,
    "start_time": "2021-07-27T13:45:42.989Z"
   },
   {
    "duration": 8,
    "start_time": "2021-07-27T13:48:52.444Z"
   },
   {
    "duration": 6,
    "start_time": "2021-07-27T13:48:58.557Z"
   },
   {
    "duration": 7,
    "start_time": "2021-07-27T13:49:23.045Z"
   },
   {
    "duration": 1851,
    "start_time": "2021-07-27T13:52:59.256Z"
   },
   {
    "duration": 792,
    "start_time": "2021-07-27T13:53:01.110Z"
   },
   {
    "duration": 32,
    "start_time": "2021-07-27T13:53:01.904Z"
   },
   {
    "duration": 47,
    "start_time": "2021-07-27T13:53:01.939Z"
   },
   {
    "duration": 24,
    "start_time": "2021-07-27T13:53:01.990Z"
   },
   {
    "duration": 33,
    "start_time": "2021-07-27T13:53:02.017Z"
   },
   {
    "duration": 17,
    "start_time": "2021-07-27T13:53:02.053Z"
   },
   {
    "duration": 495,
    "start_time": "2021-07-27T13:53:02.074Z"
   },
   {
    "duration": 48,
    "start_time": "2021-07-27T13:53:02.573Z"
   },
   {
    "duration": 46,
    "start_time": "2021-07-27T13:53:02.624Z"
   },
   {
    "duration": 712,
    "start_time": "2021-07-27T13:53:02.673Z"
   },
   {
    "duration": 7,
    "start_time": "2021-07-27T13:53:03.388Z"
   },
   {
    "duration": 19,
    "start_time": "2021-07-27T13:53:03.398Z"
   },
   {
    "duration": 583,
    "start_time": "2021-07-27T13:53:03.420Z"
   },
   {
    "duration": 19,
    "start_time": "2021-07-27T13:53:04.006Z"
   },
   {
    "duration": 24,
    "start_time": "2021-07-27T13:53:04.027Z"
   },
   {
    "duration": 10,
    "start_time": "2021-07-27T13:53:04.054Z"
   },
   {
    "duration": 51,
    "start_time": "2021-07-27T13:53:04.066Z"
   },
   {
    "duration": 942,
    "start_time": "2021-07-27T13:53:04.121Z"
   },
   {
    "duration": 6,
    "start_time": "2021-07-27T13:53:05.065Z"
   },
   {
    "duration": 272,
    "start_time": "2021-07-27T13:53:05.073Z"
   },
   {
    "duration": 5,
    "start_time": "2021-07-27T13:53:05.347Z"
   },
   {
    "duration": 16,
    "start_time": "2021-07-27T13:53:05.357Z"
   },
   {
    "duration": 3800,
    "start_time": "2021-07-27T13:53:05.376Z"
   },
   {
    "duration": 4618,
    "start_time": "2021-07-27T13:53:09.178Z"
   },
   {
    "duration": 4,
    "start_time": "2021-07-27T13:53:13.799Z"
   },
   {
    "duration": 13,
    "start_time": "2021-07-27T13:53:13.805Z"
   },
   {
    "duration": 8,
    "start_time": "2021-07-27T13:53:13.820Z"
   },
   {
    "duration": 9,
    "start_time": "2021-07-27T13:53:13.831Z"
   },
   {
    "duration": 6,
    "start_time": "2021-07-27T13:53:13.842Z"
   },
   {
    "duration": 191707,
    "start_time": "2021-07-27T13:53:13.851Z"
   },
   {
    "duration": 6,
    "start_time": "2021-07-27T13:56:25.561Z"
   },
   {
    "duration": 8,
    "start_time": "2021-07-27T13:56:25.586Z"
   },
   {
    "duration": 18,
    "start_time": "2021-07-27T13:56:25.598Z"
   },
   {
    "duration": 7,
    "start_time": "2021-07-27T14:00:09.879Z"
   },
   {
    "duration": 771,
    "start_time": "2021-07-27T14:00:09.889Z"
   },
   {
    "duration": 37,
    "start_time": "2021-07-27T14:00:10.663Z"
   },
   {
    "duration": 30,
    "start_time": "2021-07-27T14:00:10.703Z"
   },
   {
    "duration": 7,
    "start_time": "2021-07-27T14:00:10.736Z"
   },
   {
    "duration": 42,
    "start_time": "2021-07-27T14:00:10.746Z"
   },
   {
    "duration": 11,
    "start_time": "2021-07-27T14:00:10.791Z"
   },
   {
    "duration": 3700,
    "start_time": "2021-07-27T14:00:10.804Z"
   },
   {
    "duration": 17,
    "start_time": "2021-07-27T14:00:14.510Z"
   },
   {
    "duration": 5,
    "start_time": "2021-07-27T14:01:23.063Z"
   },
   {
    "duration": 3197,
    "start_time": "2021-07-27T14:01:24.048Z"
   },
   {
    "duration": 18,
    "start_time": "2021-07-27T14:01:29.977Z"
   },
   {
    "duration": 4,
    "start_time": "2021-07-27T14:02:12.390Z"
   },
   {
    "duration": 7,
    "start_time": "2021-07-27T14:02:25.671Z"
   },
   {
    "duration": 769,
    "start_time": "2021-07-27T14:02:25.681Z"
   },
   {
    "duration": 39,
    "start_time": "2021-07-27T14:02:26.452Z"
   },
   {
    "duration": 29,
    "start_time": "2021-07-27T14:02:26.494Z"
   },
   {
    "duration": 8,
    "start_time": "2021-07-27T14:02:26.526Z"
   },
   {
    "duration": 54,
    "start_time": "2021-07-27T14:02:26.537Z"
   },
   {
    "duration": 6,
    "start_time": "2021-07-27T14:02:26.594Z"
   },
   {
    "duration": 2093,
    "start_time": "2021-07-27T14:02:26.604Z"
   },
   {
    "duration": 19,
    "start_time": "2021-07-27T14:02:28.700Z"
   },
   {
    "duration": 39,
    "start_time": "2021-07-27T14:02:45.537Z"
   },
   {
    "duration": 12,
    "start_time": "2021-07-27T14:02:46.008Z"
   },
   {
    "duration": 648,
    "start_time": "2021-07-27T14:02:46.457Z"
   },
   {
    "duration": 11,
    "start_time": "2021-07-27T14:02:47.527Z"
   },
   {
    "duration": 3,
    "start_time": "2021-07-27T14:02:48.540Z"
   },
   {
    "duration": 729,
    "start_time": "2021-07-27T14:02:49.017Z"
   },
   {
    "duration": 38,
    "start_time": "2021-07-27T14:02:49.749Z"
   },
   {
    "duration": 20,
    "start_time": "2021-07-27T14:02:51.629Z"
   },
   {
    "duration": 3,
    "start_time": "2021-07-27T14:02:52.624Z"
   },
   {
    "duration": 3,
    "start_time": "2021-07-27T14:02:52.905Z"
   },
   {
    "duration": 959,
    "start_time": "2021-07-27T14:02:53.273Z"
   },
   {
    "duration": 9,
    "start_time": "2021-07-27T14:02:54.235Z"
   },
   {
    "duration": 8,
    "start_time": "2021-07-27T14:02:55.678Z"
   },
   {
    "duration": 5,
    "start_time": "2021-07-27T14:02:56.227Z"
   },
   {
    "duration": 9,
    "start_time": "2021-07-27T14:02:56.694Z"
   },
   {
    "duration": 3598,
    "start_time": "2021-07-27T14:02:58.355Z"
   },
   {
    "duration": 4500,
    "start_time": "2021-07-27T14:03:01.956Z"
   },
   {
    "duration": 5,
    "start_time": "2021-07-27T14:03:06.460Z"
   },
   {
    "duration": 23,
    "start_time": "2021-07-27T14:03:06.468Z"
   },
   {
    "duration": 9,
    "start_time": "2021-07-27T14:03:06.494Z"
   },
   {
    "duration": 3,
    "start_time": "2021-07-27T14:03:15.343Z"
   },
   {
    "duration": 5,
    "start_time": "2021-07-27T14:03:16.507Z"
   },
   {
    "duration": 202392,
    "start_time": "2021-07-27T14:03:17.798Z"
   },
   {
    "duration": 7,
    "start_time": "2021-07-27T14:06:40.194Z"
   },
   {
    "duration": 22,
    "start_time": "2021-07-27T14:06:40.206Z"
   },
   {
    "duration": 8,
    "start_time": "2021-07-27T14:06:40.232Z"
   },
   {
    "duration": 8,
    "start_time": "2021-07-27T14:08:48.286Z"
   },
   {
    "duration": 748,
    "start_time": "2021-07-27T14:08:48.296Z"
   },
   {
    "duration": 38,
    "start_time": "2021-07-27T14:08:49.047Z"
   },
   {
    "duration": 29,
    "start_time": "2021-07-27T14:08:49.089Z"
   },
   {
    "duration": 7,
    "start_time": "2021-07-27T14:08:49.121Z"
   },
   {
    "duration": 18,
    "start_time": "2021-07-27T14:08:49.131Z"
   },
   {
    "duration": 179,
    "start_time": "2021-07-27T14:08:49.152Z"
   },
   {
    "duration": 167,
    "start_time": "2021-07-27T14:08:49.168Z"
   },
   {
    "duration": 166,
    "start_time": "2021-07-27T14:08:49.171Z"
   },
   {
    "duration": 6,
    "start_time": "2021-07-27T14:09:39.424Z"
   },
   {
    "duration": 2482,
    "start_time": "2021-07-27T14:09:40.478Z"
   },
   {
    "duration": 39,
    "start_time": "2021-07-27T14:09:42.963Z"
   },
   {
    "duration": 713,
    "start_time": "2021-07-27T14:10:37.597Z"
   },
   {
    "duration": 32,
    "start_time": "2021-07-27T14:10:38.313Z"
   },
   {
    "duration": 32,
    "start_time": "2021-07-27T14:10:38.531Z"
   },
   {
    "duration": 8,
    "start_time": "2021-07-27T14:10:39.086Z"
   },
   {
    "duration": 16,
    "start_time": "2021-07-27T14:10:39.729Z"
   },
   {
    "duration": 5,
    "start_time": "2021-07-27T14:10:40.918Z"
   },
   {
    "duration": 2308,
    "start_time": "2021-07-27T14:10:41.518Z"
   },
   {
    "duration": 19,
    "start_time": "2021-07-27T14:10:43.829Z"
   },
   {
    "duration": 19,
    "start_time": "2021-07-27T14:11:06.373Z"
   },
   {
    "duration": 49,
    "start_time": "2021-07-27T14:11:06.394Z"
   },
   {
    "duration": 12,
    "start_time": "2021-07-27T14:11:06.446Z"
   },
   {
    "duration": 565,
    "start_time": "2021-07-27T14:11:06.485Z"
   },
   {
    "duration": 8,
    "start_time": "2021-07-27T14:11:07.053Z"
   },
   {
    "duration": 22,
    "start_time": "2021-07-27T14:11:07.064Z"
   },
   {
    "duration": 555,
    "start_time": "2021-07-27T14:11:07.089Z"
   },
   {
    "duration": 20,
    "start_time": "2021-07-27T14:11:07.648Z"
   },
   {
    "duration": 21,
    "start_time": "2021-07-27T14:11:07.687Z"
   },
   {
    "duration": 3,
    "start_time": "2021-07-27T14:11:07.715Z"
   },
   {
    "duration": 10,
    "start_time": "2021-07-27T14:11:07.720Z"
   },
   {
    "duration": 861,
    "start_time": "2021-07-27T14:11:07.732Z"
   },
   {
    "duration": 6,
    "start_time": "2021-07-27T14:11:08.595Z"
   },
   {
    "duration": 10,
    "start_time": "2021-07-27T14:11:08.603Z"
   },
   {
    "duration": 8,
    "start_time": "2021-07-27T14:11:08.615Z"
   },
   {
    "duration": 11,
    "start_time": "2021-07-27T14:11:08.625Z"
   },
   {
    "duration": 3551,
    "start_time": "2021-07-27T14:11:08.639Z"
   },
   {
    "duration": 4192,
    "start_time": "2021-07-27T14:11:12.193Z"
   },
   {
    "duration": 4,
    "start_time": "2021-07-27T14:11:16.388Z"
   },
   {
    "duration": 28,
    "start_time": "2021-07-27T14:11:16.394Z"
   },
   {
    "duration": 22,
    "start_time": "2021-07-27T14:11:16.424Z"
   },
   {
    "duration": 17,
    "start_time": "2021-07-27T14:11:16.448Z"
   },
   {
    "duration": 549,
    "start_time": "2021-07-27T14:11:16.470Z"
   },
   {
    "duration": 187,
    "start_time": "2021-07-27T14:11:16.834Z"
   },
   {
    "duration": 184,
    "start_time": "2021-07-27T14:11:16.839Z"
   },
   {
    "duration": 183,
    "start_time": "2021-07-27T14:11:16.841Z"
   },
   {
    "duration": 183,
    "start_time": "2021-07-27T14:11:16.843Z"
   },
   {
    "duration": 183,
    "start_time": "2021-07-27T14:11:16.844Z"
   },
   {
    "duration": 4,
    "start_time": "2021-07-27T14:12:08.532Z"
   },
   {
    "duration": 5,
    "start_time": "2021-07-27T14:12:09.903Z"
   },
   {
    "duration": 457271,
    "start_time": "2021-07-27T14:12:10.543Z"
   },
   {
    "duration": 6,
    "start_time": "2021-07-27T14:19:47.818Z"
   },
   {
    "duration": 18,
    "start_time": "2021-07-27T14:19:47.828Z"
   },
   {
    "duration": 8,
    "start_time": "2021-07-27T14:19:47.849Z"
   },
   {
    "duration": 1790,
    "start_time": "2021-07-27T14:19:55.148Z"
   },
   {
    "duration": 787,
    "start_time": "2021-07-27T14:19:56.941Z"
   },
   {
    "duration": 32,
    "start_time": "2021-07-27T14:19:57.731Z"
   },
   {
    "duration": 40,
    "start_time": "2021-07-27T14:19:57.766Z"
   },
   {
    "duration": 8,
    "start_time": "2021-07-27T14:19:57.811Z"
   },
   {
    "duration": 28,
    "start_time": "2021-07-27T14:19:57.821Z"
   },
   {
    "duration": 6,
    "start_time": "2021-07-27T14:19:57.852Z"
   },
   {
    "duration": 1578,
    "start_time": "2021-07-27T14:19:57.862Z"
   },
   {
    "duration": 18,
    "start_time": "2021-07-27T14:19:59.444Z"
   },
   {
    "duration": 44,
    "start_time": "2021-07-27T14:19:59.464Z"
   },
   {
    "duration": 13,
    "start_time": "2021-07-27T14:19:59.511Z"
   },
   {
    "duration": 659,
    "start_time": "2021-07-27T14:19:59.526Z"
   },
   {
    "duration": 8,
    "start_time": "2021-07-27T14:20:00.187Z"
   },
   {
    "duration": 17,
    "start_time": "2021-07-27T14:20:00.197Z"
   },
   {
    "duration": 569,
    "start_time": "2021-07-27T14:20:00.216Z"
   },
   {
    "duration": 20,
    "start_time": "2021-07-27T14:20:00.787Z"
   },
   {
    "duration": 10,
    "start_time": "2021-07-27T14:20:00.810Z"
   },
   {
    "duration": 20,
    "start_time": "2021-07-27T14:20:00.823Z"
   },
   {
    "duration": 21,
    "start_time": "2021-07-27T14:20:00.845Z"
   },
   {
    "duration": 603,
    "start_time": "2021-07-27T14:20:00.869Z"
   },
   {
    "duration": 10,
    "start_time": "2021-07-27T14:20:01.475Z"
   },
   {
    "duration": 291,
    "start_time": "2021-07-27T14:20:01.488Z"
   },
   {
    "duration": 5,
    "start_time": "2021-07-27T14:20:01.783Z"
   },
   {
    "duration": 49,
    "start_time": "2021-07-27T14:20:01.791Z"
   },
   {
    "duration": 2496,
    "start_time": "2021-07-27T14:20:01.842Z"
   },
   {
    "duration": 2818,
    "start_time": "2021-07-27T14:20:04.340Z"
   },
   {
    "duration": 3,
    "start_time": "2021-07-27T14:20:07.161Z"
   },
   {
    "duration": 26,
    "start_time": "2021-07-27T14:20:07.166Z"
   },
   {
    "duration": 24,
    "start_time": "2021-07-27T14:20:07.194Z"
   },
   {
    "duration": 18,
    "start_time": "2021-07-27T14:20:07.220Z"
   },
   {
    "duration": 22,
    "start_time": "2021-07-27T14:20:07.241Z"
   },
   {
    "duration": 33,
    "start_time": "2021-07-27T14:20:07.266Z"
   }
  ],
  "kernelspec": {
   "display_name": "Python 3 (ipykernel)",
   "language": "python",
   "name": "python3"
  },
  "language_info": {
   "codemirror_mode": {
    "name": "ipython",
    "version": 3
   },
   "file_extension": ".py",
   "mimetype": "text/x-python",
   "name": "python",
   "nbconvert_exporter": "python",
   "pygments_lexer": "ipython3",
   "version": "3.9.1"
  },
  "toc": {
   "base_numbering": 1,
   "nav_menu": {},
   "number_sections": true,
   "sideBar": true,
   "skip_h1_title": true,
   "title_cell": "Содержание",
   "title_sidebar": "Contents",
   "toc_cell": true,
   "toc_position": {
    "height": "calc(100% - 180px)",
    "left": "10px",
    "top": "150px",
    "width": "302.391px"
   },
   "toc_section_display": true,
   "toc_window_display": false
  }
 },
 "nbformat": 4,
 "nbformat_minor": 2
}
