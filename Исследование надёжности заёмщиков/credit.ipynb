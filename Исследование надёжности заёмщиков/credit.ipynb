{
 "cells": [
  {
   "cell_type": "markdown",
   "metadata": {},
   "source": [
    "# Исследование надёжности заёмщиков"
   ]
  },
  {
   "cell_type": "markdown",
   "metadata": {},
   "source": [
    "Для кредитного отдела банка на основе статистика о платёжеспособности клиентов необходимо выяснить, как влияют на факт погашения кредита в срок различные данные клиента."
   ]
  },
  {
   "cell_type": "markdown",
   "metadata": {},
   "source": [
    "## Общая информация"
   ]
  },
  {
   "cell_type": "code",
   "execution_count": 1,
   "metadata": {
    "scrolled": true
   },
   "outputs": [
    {
     "name": "stdout",
     "output_type": "stream",
     "text": [
      "<class 'pandas.core.frame.DataFrame'>\n",
      "RangeIndex: 21525 entries, 0 to 21524\n",
      "Data columns (total 12 columns):\n",
      "children            21525 non-null int64\n",
      "days_employed       19351 non-null float64\n",
      "dob_years           21525 non-null int64\n",
      "education           21525 non-null object\n",
      "education_id        21525 non-null int64\n",
      "family_status       21525 non-null object\n",
      "family_status_id    21525 non-null int64\n",
      "gender              21525 non-null object\n",
      "income_type         21525 non-null object\n",
      "debt                21525 non-null int64\n",
      "total_income        19351 non-null float64\n",
      "purpose             21525 non-null object\n",
      "dtypes: float64(2), int64(5), object(5)\n",
      "memory usage: 2.0+ MB\n"
     ]
    }
   ],
   "source": [
    "import math\n",
    "import pandas as pd\n",
    "\n",
    "data = pd.read_csv('/datasets/data.csv')\n",
    "\n",
    "data.info()"
   ]
  },
  {
   "cell_type": "markdown",
   "metadata": {},
   "source": [
    "Рассмотрим информацию подробнее. В таблице имеется 12 столбцов трёх типов: вещественный, целочисленный и объектный.\n",
    "\n",
    "Таблица состоит из следующих столбцов:\n",
    "\n",
    "    children — количество детей в семье\n",
    "    days_employed — общий трудовой стаж в днях\n",
    "    dob_years — возраст клиента в годах\n",
    "    education — уровень образования клиента\n",
    "    education_id — идентификатор уровня образования\n",
    "    family_status — семейное положение\n",
    "    family_status_id — идентификатор семейного положения\n",
    "    gender — пол клиента\n",
    "    income_type — тип занятости\n",
    "    debt — имел ли задолженность по возврату кредитов\n",
    "    total_income — ежемесячный доход\n",
    "    purpose — цель получения кредита\n",
    "\n",
    "В столбцах days_employed и total_income явно есть пропущенные значения, судя по сводной информации."
   ]
  },
  {
   "cell_type": "code",
   "execution_count": 2,
   "metadata": {
    "scrolled": true
   },
   "outputs": [
    {
     "data": {
      "text/html": [
       "<div>\n",
       "<style scoped>\n",
       "    .dataframe tbody tr th:only-of-type {\n",
       "        vertical-align: middle;\n",
       "    }\n",
       "\n",
       "    .dataframe tbody tr th {\n",
       "        vertical-align: top;\n",
       "    }\n",
       "\n",
       "    .dataframe thead th {\n",
       "        text-align: right;\n",
       "    }\n",
       "</style>\n",
       "<table border=\"1\" class=\"dataframe\">\n",
       "  <thead>\n",
       "    <tr style=\"text-align: right;\">\n",
       "      <th></th>\n",
       "      <th>children</th>\n",
       "      <th>days_employed</th>\n",
       "      <th>dob_years</th>\n",
       "      <th>education</th>\n",
       "      <th>education_id</th>\n",
       "      <th>family_status</th>\n",
       "      <th>family_status_id</th>\n",
       "      <th>gender</th>\n",
       "      <th>income_type</th>\n",
       "      <th>debt</th>\n",
       "      <th>total_income</th>\n",
       "      <th>purpose</th>\n",
       "    </tr>\n",
       "  </thead>\n",
       "  <tbody>\n",
       "    <tr>\n",
       "      <td>21515</td>\n",
       "      <td>1</td>\n",
       "      <td>-467.685130</td>\n",
       "      <td>28</td>\n",
       "      <td>среднее</td>\n",
       "      <td>1</td>\n",
       "      <td>женат / замужем</td>\n",
       "      <td>0</td>\n",
       "      <td>F</td>\n",
       "      <td>сотрудник</td>\n",
       "      <td>1</td>\n",
       "      <td>109486.327999</td>\n",
       "      <td>заняться образованием</td>\n",
       "    </tr>\n",
       "    <tr>\n",
       "      <td>21516</td>\n",
       "      <td>0</td>\n",
       "      <td>-914.391429</td>\n",
       "      <td>42</td>\n",
       "      <td>высшее</td>\n",
       "      <td>0</td>\n",
       "      <td>женат / замужем</td>\n",
       "      <td>0</td>\n",
       "      <td>F</td>\n",
       "      <td>компаньон</td>\n",
       "      <td>0</td>\n",
       "      <td>322807.776603</td>\n",
       "      <td>покупка своего жилья</td>\n",
       "    </tr>\n",
       "    <tr>\n",
       "      <td>21517</td>\n",
       "      <td>0</td>\n",
       "      <td>-404.679034</td>\n",
       "      <td>42</td>\n",
       "      <td>высшее</td>\n",
       "      <td>0</td>\n",
       "      <td>гражданский брак</td>\n",
       "      <td>1</td>\n",
       "      <td>F</td>\n",
       "      <td>компаньон</td>\n",
       "      <td>0</td>\n",
       "      <td>178059.553491</td>\n",
       "      <td>на покупку своего автомобиля</td>\n",
       "    </tr>\n",
       "    <tr>\n",
       "      <td>21518</td>\n",
       "      <td>0</td>\n",
       "      <td>373995.710838</td>\n",
       "      <td>59</td>\n",
       "      <td>СРЕДНЕЕ</td>\n",
       "      <td>1</td>\n",
       "      <td>женат / замужем</td>\n",
       "      <td>0</td>\n",
       "      <td>F</td>\n",
       "      <td>пенсионер</td>\n",
       "      <td>0</td>\n",
       "      <td>153864.650328</td>\n",
       "      <td>сделка с автомобилем</td>\n",
       "    </tr>\n",
       "    <tr>\n",
       "      <td>21519</td>\n",
       "      <td>1</td>\n",
       "      <td>-2351.431934</td>\n",
       "      <td>37</td>\n",
       "      <td>ученая степень</td>\n",
       "      <td>4</td>\n",
       "      <td>в разводе</td>\n",
       "      <td>3</td>\n",
       "      <td>M</td>\n",
       "      <td>сотрудник</td>\n",
       "      <td>0</td>\n",
       "      <td>115949.039788</td>\n",
       "      <td>покупка коммерческой недвижимости</td>\n",
       "    </tr>\n",
       "    <tr>\n",
       "      <td>21520</td>\n",
       "      <td>1</td>\n",
       "      <td>-4529.316663</td>\n",
       "      <td>43</td>\n",
       "      <td>среднее</td>\n",
       "      <td>1</td>\n",
       "      <td>гражданский брак</td>\n",
       "      <td>1</td>\n",
       "      <td>F</td>\n",
       "      <td>компаньон</td>\n",
       "      <td>0</td>\n",
       "      <td>224791.862382</td>\n",
       "      <td>операции с жильем</td>\n",
       "    </tr>\n",
       "    <tr>\n",
       "      <td>21521</td>\n",
       "      <td>0</td>\n",
       "      <td>343937.404131</td>\n",
       "      <td>67</td>\n",
       "      <td>среднее</td>\n",
       "      <td>1</td>\n",
       "      <td>женат / замужем</td>\n",
       "      <td>0</td>\n",
       "      <td>F</td>\n",
       "      <td>пенсионер</td>\n",
       "      <td>0</td>\n",
       "      <td>155999.806512</td>\n",
       "      <td>сделка с автомобилем</td>\n",
       "    </tr>\n",
       "    <tr>\n",
       "      <td>21522</td>\n",
       "      <td>1</td>\n",
       "      <td>-2113.346888</td>\n",
       "      <td>38</td>\n",
       "      <td>среднее</td>\n",
       "      <td>1</td>\n",
       "      <td>гражданский брак</td>\n",
       "      <td>1</td>\n",
       "      <td>M</td>\n",
       "      <td>сотрудник</td>\n",
       "      <td>1</td>\n",
       "      <td>89672.561153</td>\n",
       "      <td>недвижимость</td>\n",
       "    </tr>\n",
       "    <tr>\n",
       "      <td>21523</td>\n",
       "      <td>3</td>\n",
       "      <td>-3112.481705</td>\n",
       "      <td>38</td>\n",
       "      <td>среднее</td>\n",
       "      <td>1</td>\n",
       "      <td>женат / замужем</td>\n",
       "      <td>0</td>\n",
       "      <td>M</td>\n",
       "      <td>сотрудник</td>\n",
       "      <td>1</td>\n",
       "      <td>244093.050500</td>\n",
       "      <td>на покупку своего автомобиля</td>\n",
       "    </tr>\n",
       "    <tr>\n",
       "      <td>21524</td>\n",
       "      <td>2</td>\n",
       "      <td>-1984.507589</td>\n",
       "      <td>40</td>\n",
       "      <td>среднее</td>\n",
       "      <td>1</td>\n",
       "      <td>женат / замужем</td>\n",
       "      <td>0</td>\n",
       "      <td>F</td>\n",
       "      <td>сотрудник</td>\n",
       "      <td>0</td>\n",
       "      <td>82047.418899</td>\n",
       "      <td>на покупку автомобиля</td>\n",
       "    </tr>\n",
       "  </tbody>\n",
       "</table>\n",
       "</div>"
      ],
      "text/plain": [
       "       children  days_employed  dob_years       education  education_id  \\\n",
       "21515         1    -467.685130         28         среднее             1   \n",
       "21516         0    -914.391429         42          высшее             0   \n",
       "21517         0    -404.679034         42          высшее             0   \n",
       "21518         0  373995.710838         59         СРЕДНЕЕ             1   \n",
       "21519         1   -2351.431934         37  ученая степень             4   \n",
       "21520         1   -4529.316663         43         среднее             1   \n",
       "21521         0  343937.404131         67         среднее             1   \n",
       "21522         1   -2113.346888         38         среднее             1   \n",
       "21523         3   -3112.481705         38         среднее             1   \n",
       "21524         2   -1984.507589         40         среднее             1   \n",
       "\n",
       "          family_status  family_status_id gender income_type  debt  \\\n",
       "21515   женат / замужем                 0      F   сотрудник     1   \n",
       "21516   женат / замужем                 0      F   компаньон     0   \n",
       "21517  гражданский брак                 1      F   компаньон     0   \n",
       "21518   женат / замужем                 0      F   пенсионер     0   \n",
       "21519         в разводе                 3      M   сотрудник     0   \n",
       "21520  гражданский брак                 1      F   компаньон     0   \n",
       "21521   женат / замужем                 0      F   пенсионер     0   \n",
       "21522  гражданский брак                 1      M   сотрудник     1   \n",
       "21523   женат / замужем                 0      M   сотрудник     1   \n",
       "21524   женат / замужем                 0      F   сотрудник     0   \n",
       "\n",
       "        total_income                            purpose  \n",
       "21515  109486.327999              заняться образованием  \n",
       "21516  322807.776603               покупка своего жилья  \n",
       "21517  178059.553491       на покупку своего автомобиля  \n",
       "21518  153864.650328               сделка с автомобилем  \n",
       "21519  115949.039788  покупка коммерческой недвижимости  \n",
       "21520  224791.862382                  операции с жильем  \n",
       "21521  155999.806512               сделка с автомобилем  \n",
       "21522   89672.561153                       недвижимость  \n",
       "21523  244093.050500       на покупку своего автомобиля  \n",
       "21524   82047.418899              на покупку автомобиля  "
      ]
     },
     "execution_count": 2,
     "metadata": {},
     "output_type": "execute_result"
    }
   ],
   "source": [
    "data.tail(10)"
   ]
  },
  {
   "cell_type": "markdown",
   "metadata": {},
   "source": [
    "Типы данных столбцов в целом соответсвуют характеру содержащихся данных, кроме столбца days_employed (общий трудовой стаж в днях), для которого выбран тип вещественный, вместо более очевидного целочисленного."
   ]
  },
  {
   "cell_type": "markdown",
   "metadata": {},
   "source": [
    "**Вывод**"
   ]
  },
  {
   "cell_type": "markdown",
   "metadata": {},
   "source": [
    "Каждая строка таблицы содержит сведения о клиенте, который воспользовался кредитом, цель кредита и признак имевшихся задолженностей по возврату кредита. Для нашего исследования особенно важны столбцы children, family_status, debt. \n",
    "\n",
    "Необходимо решить несколько проблем с данными: \n",
    "    пропуски и нулевые значения в столбцах days_employed, total_income, dob_years, \n",
    "    преобразование в целочисленный тип столбца days_employed,\n",
    "    отрицательные значения в столбцах children и days_employed,\n",
    "    нормализация регистра строковых значений в полях education, family_status.\n",
    "    "
   ]
  },
  {
   "cell_type": "markdown",
   "metadata": {},
   "source": [
    "## Предобработка данных"
   ]
  },
  {
   "cell_type": "markdown",
   "metadata": {},
   "source": [
    "### Обработка пропусков"
   ]
  },
  {
   "cell_type": "code",
   "execution_count": 3,
   "metadata": {},
   "outputs": [
    {
     "data": {
      "text/plain": [
       "children               0\n",
       "days_employed       2174\n",
       "dob_years              0\n",
       "education              0\n",
       "education_id           0\n",
       "family_status          0\n",
       "family_status_id       0\n",
       "gender                 0\n",
       "income_type            0\n",
       "debt                   0\n",
       "total_income        2174\n",
       "purpose                0\n",
       "dtype: int64"
      ]
     },
     "execution_count": 3,
     "metadata": {},
     "output_type": "execute_result"
    }
   ],
   "source": [
    "data.isnull().sum()"
   ]
  },
  {
   "cell_type": "code",
   "execution_count": 4,
   "metadata": {},
   "outputs": [
    {
     "data": {
      "text/html": [
       "<div>\n",
       "<style scoped>\n",
       "    .dataframe tbody tr th:only-of-type {\n",
       "        vertical-align: middle;\n",
       "    }\n",
       "\n",
       "    .dataframe tbody tr th {\n",
       "        vertical-align: top;\n",
       "    }\n",
       "\n",
       "    .dataframe thead th {\n",
       "        text-align: right;\n",
       "    }\n",
       "</style>\n",
       "<table border=\"1\" class=\"dataframe\">\n",
       "  <thead>\n",
       "    <tr style=\"text-align: right;\">\n",
       "      <th></th>\n",
       "      <th>children</th>\n",
       "      <th>days_employed</th>\n",
       "      <th>dob_years</th>\n",
       "      <th>education</th>\n",
       "      <th>education_id</th>\n",
       "      <th>family_status</th>\n",
       "      <th>family_status_id</th>\n",
       "      <th>gender</th>\n",
       "      <th>income_type</th>\n",
       "      <th>debt</th>\n",
       "      <th>total_income</th>\n",
       "      <th>purpose</th>\n",
       "    </tr>\n",
       "  </thead>\n",
       "  <tbody>\n",
       "    <tr>\n",
       "      <td>21489</td>\n",
       "      <td>2</td>\n",
       "      <td>NaN</td>\n",
       "      <td>47</td>\n",
       "      <td>Среднее</td>\n",
       "      <td>1</td>\n",
       "      <td>женат / замужем</td>\n",
       "      <td>0</td>\n",
       "      <td>M</td>\n",
       "      <td>компаньон</td>\n",
       "      <td>0</td>\n",
       "      <td>NaN</td>\n",
       "      <td>сделка с автомобилем</td>\n",
       "    </tr>\n",
       "    <tr>\n",
       "      <td>21495</td>\n",
       "      <td>1</td>\n",
       "      <td>NaN</td>\n",
       "      <td>50</td>\n",
       "      <td>среднее</td>\n",
       "      <td>1</td>\n",
       "      <td>гражданский брак</td>\n",
       "      <td>1</td>\n",
       "      <td>F</td>\n",
       "      <td>сотрудник</td>\n",
       "      <td>0</td>\n",
       "      <td>NaN</td>\n",
       "      <td>свадьба</td>\n",
       "    </tr>\n",
       "    <tr>\n",
       "      <td>21497</td>\n",
       "      <td>0</td>\n",
       "      <td>NaN</td>\n",
       "      <td>48</td>\n",
       "      <td>ВЫСШЕЕ</td>\n",
       "      <td>0</td>\n",
       "      <td>женат / замужем</td>\n",
       "      <td>0</td>\n",
       "      <td>F</td>\n",
       "      <td>компаньон</td>\n",
       "      <td>0</td>\n",
       "      <td>NaN</td>\n",
       "      <td>строительство недвижимости</td>\n",
       "    </tr>\n",
       "    <tr>\n",
       "      <td>21502</td>\n",
       "      <td>1</td>\n",
       "      <td>NaN</td>\n",
       "      <td>42</td>\n",
       "      <td>среднее</td>\n",
       "      <td>1</td>\n",
       "      <td>женат / замужем</td>\n",
       "      <td>0</td>\n",
       "      <td>F</td>\n",
       "      <td>сотрудник</td>\n",
       "      <td>0</td>\n",
       "      <td>NaN</td>\n",
       "      <td>строительство жилой недвижимости</td>\n",
       "    </tr>\n",
       "    <tr>\n",
       "      <td>21510</td>\n",
       "      <td>2</td>\n",
       "      <td>NaN</td>\n",
       "      <td>28</td>\n",
       "      <td>среднее</td>\n",
       "      <td>1</td>\n",
       "      <td>женат / замужем</td>\n",
       "      <td>0</td>\n",
       "      <td>F</td>\n",
       "      <td>сотрудник</td>\n",
       "      <td>0</td>\n",
       "      <td>NaN</td>\n",
       "      <td>приобретение автомобиля</td>\n",
       "    </tr>\n",
       "  </tbody>\n",
       "</table>\n",
       "</div>"
      ],
      "text/plain": [
       "       children  days_employed  dob_years education  education_id  \\\n",
       "21489         2            NaN         47   Среднее             1   \n",
       "21495         1            NaN         50   среднее             1   \n",
       "21497         0            NaN         48    ВЫСШЕЕ             0   \n",
       "21502         1            NaN         42   среднее             1   \n",
       "21510         2            NaN         28   среднее             1   \n",
       "\n",
       "          family_status  family_status_id gender income_type  debt  \\\n",
       "21489   женат / замужем                 0      M   компаньон     0   \n",
       "21495  гражданский брак                 1      F   сотрудник     0   \n",
       "21497   женат / замужем                 0      F   компаньон     0   \n",
       "21502   женат / замужем                 0      F   сотрудник     0   \n",
       "21510   женат / замужем                 0      F   сотрудник     0   \n",
       "\n",
       "       total_income                           purpose  \n",
       "21489           NaN              сделка с автомобилем  \n",
       "21495           NaN                           свадьба  \n",
       "21497           NaN        строительство недвижимости  \n",
       "21502           NaN  строительство жилой недвижимости  \n",
       "21510           NaN           приобретение автомобиля  "
      ]
     },
     "execution_count": 4,
     "metadata": {},
     "output_type": "execute_result"
    }
   ],
   "source": [
    "data.loc[data['days_employed'].isnull() == True].tail()"
   ]
  },
  {
   "cell_type": "markdown",
   "metadata": {},
   "source": [
    "Данные с пропущенными значениями в столбцах days_employed и total_income находятся в одних и тех же строках. Наличие пропусков не зависит явно от данных в других столбцах. Имеется порядка 10% таких строк от общего количества, строки содержат полезную информацию для анализа в важных для нас столбцах. Пропущенные значения имеют количественный характер, заменим их средними значениями.\n",
    "\n",
    "Пропущенные значения для total_income заменим на среднее значение по столбцу."
   ]
  },
  {
   "cell_type": "code",
   "execution_count": 5,
   "metadata": {},
   "outputs": [],
   "source": [
    "total_income_avg = data['total_income'].mean() # среднее значение ежемесячного дохода"
   ]
  },
  {
   "cell_type": "code",
   "execution_count": 6,
   "metadata": {},
   "outputs": [],
   "source": [
    "data['total_income'] = data['total_income'].fillna(total_income_avg)"
   ]
  },
  {
   "cell_type": "markdown",
   "metadata": {},
   "source": [
    "Пропуски в столбце ежемесячного дохода заполним средним значением. Таким образом, мы не изменим среднее значение по столбцу и у нас не будет нежелательных всплесков в разбросе данных."
   ]
  },
  {
   "cell_type": "markdown",
   "metadata": {},
   "source": [
    "В поле days_employed имеются отрицательные и положительные значения."
   ]
  },
  {
   "cell_type": "code",
   "execution_count": 7,
   "metadata": {
    "scrolled": true
   },
   "outputs": [
    {
     "data": {
      "text/plain": [
       "пенсионер      3443\n",
       "безработный       2\n",
       "Name: income_type, dtype: int64"
      ]
     },
     "execution_count": 7,
     "metadata": {},
     "output_type": "execute_result"
    }
   ],
   "source": [
    "data.loc[(data['days_employed'] > 0)]['income_type'].value_counts()"
   ]
  },
  {
   "cell_type": "code",
   "execution_count": 8,
   "metadata": {},
   "outputs": [
    {
     "data": {
      "text/plain": [
       "4     340266.072047\n",
       "12              NaN\n",
       "18    400281.136913\n",
       "24    338551.952911\n",
       "25    363548.489348\n",
       "Name: days_employed, dtype: float64"
      ]
     },
     "execution_count": 8,
     "metadata": {},
     "output_type": "execute_result"
    }
   ],
   "source": [
    "data.loc[(data['income_type'] == 'пенсионер')]['days_employed'].head()"
   ]
  },
  {
   "cell_type": "markdown",
   "metadata": {},
   "source": [
    "Прослеживается связь между аномально большими значениями в столбце стажа (~900/1000/1100 лет) и типом занятости \"пенсионер\". Вероятно, для пенсионеров в стаж подставлялись заведомо большие числа, чтобы ограничить анкеты от некоторых проверок. \n",
    "Отрицательные значения в поле days_employed вероятно образовались вычитанием даты на момент заполнения анкеты из указанной даты начала работы."
   ]
  },
  {
   "cell_type": "code",
   "execution_count": 9,
   "metadata": {},
   "outputs": [
    {
     "data": {
      "text/plain": [
       "2174"
      ]
     },
     "execution_count": 9,
     "metadata": {},
     "output_type": "execute_result"
    }
   ],
   "source": [
    "data['days_employed'].isnull().sum()"
   ]
  },
  {
   "cell_type": "markdown",
   "metadata": {},
   "source": [
    "В данных столбца days_employed есть большое число пропущенных данных. Поскольку стаж в основном зависит от возраста, то пустые значения возможно попробовать заполнить, сопоставив им средние значения стажа для каждого возраста. Построим таблицу со средним стажем для возрастов на имеющихся данных."
   ]
  },
  {
   "cell_type": "code",
   "execution_count": 10,
   "metadata": {
    "scrolled": true
   },
   "outputs": [
    {
     "data": {
      "text/html": [
       "<div>\n",
       "<style scoped>\n",
       "    .dataframe tbody tr th:only-of-type {\n",
       "        vertical-align: middle;\n",
       "    }\n",
       "\n",
       "    .dataframe tbody tr th {\n",
       "        vertical-align: top;\n",
       "    }\n",
       "\n",
       "    .dataframe thead th {\n",
       "        text-align: right;\n",
       "    }\n",
       "</style>\n",
       "<table border=\"1\" class=\"dataframe\">\n",
       "  <thead>\n",
       "    <tr style=\"text-align: right;\">\n",
       "      <th></th>\n",
       "      <th>days_employed</th>\n",
       "    </tr>\n",
       "    <tr>\n",
       "      <th>dob_years</th>\n",
       "      <th></th>\n",
       "    </tr>\n",
       "  </thead>\n",
       "  <tbody>\n",
       "    <tr>\n",
       "      <td>19</td>\n",
       "      <td>-633.678086</td>\n",
       "    </tr>\n",
       "    <tr>\n",
       "      <td>20</td>\n",
       "      <td>-684.944308</td>\n",
       "    </tr>\n",
       "    <tr>\n",
       "      <td>21</td>\n",
       "      <td>-709.440930</td>\n",
       "    </tr>\n",
       "    <tr>\n",
       "      <td>22</td>\n",
       "      <td>-781.376775</td>\n",
       "    </tr>\n",
       "    <tr>\n",
       "      <td>23</td>\n",
       "      <td>-827.309437</td>\n",
       "    </tr>\n",
       "  </tbody>\n",
       "</table>\n",
       "</div>"
      ],
      "text/plain": [
       "           days_employed\n",
       "dob_years               \n",
       "19           -633.678086\n",
       "20           -684.944308\n",
       "21           -709.440930\n",
       "22           -781.376775\n",
       "23           -827.309437"
      ]
     },
     "execution_count": 10,
     "metadata": {},
     "output_type": "execute_result"
    }
   ],
   "source": [
    "days_employed_data = data.loc[(data['days_employed'] < 0) & (data['dob_years'] != 0), ['dob_years', 'days_employed']]\n",
    "average_days_employed = days_employed_data.groupby('dob_years').mean()\n",
    "\n",
    "# средний стаж в днях в зависимости от возраста\n",
    "average_days_employed.head()"
   ]
  },
  {
   "cell_type": "markdown",
   "metadata": {},
   "source": [
    "Напишем функцию для заполнения недостающих значений, которые занесём в новый столбец. Эти данные можно будет использовать для разделения клиентов на категории по диапазонам стажа."
   ]
  },
  {
   "cell_type": "code",
   "execution_count": 11,
   "metadata": {
    "scrolled": true
   },
   "outputs": [
    {
     "data": {
      "text/html": [
       "<div>\n",
       "<style scoped>\n",
       "    .dataframe tbody tr th:only-of-type {\n",
       "        vertical-align: middle;\n",
       "    }\n",
       "\n",
       "    .dataframe tbody tr th {\n",
       "        vertical-align: top;\n",
       "    }\n",
       "\n",
       "    .dataframe thead th {\n",
       "        text-align: right;\n",
       "    }\n",
       "</style>\n",
       "<table border=\"1\" class=\"dataframe\">\n",
       "  <thead>\n",
       "    <tr style=\"text-align: right;\">\n",
       "      <th></th>\n",
       "      <th>children</th>\n",
       "      <th>days_employed</th>\n",
       "      <th>dob_years</th>\n",
       "      <th>education</th>\n",
       "      <th>education_id</th>\n",
       "      <th>family_status</th>\n",
       "      <th>family_status_id</th>\n",
       "      <th>gender</th>\n",
       "      <th>income_type</th>\n",
       "      <th>debt</th>\n",
       "      <th>total_income</th>\n",
       "      <th>purpose</th>\n",
       "    </tr>\n",
       "  </thead>\n",
       "  <tbody>\n",
       "    <tr>\n",
       "      <td>0</td>\n",
       "      <td>1</td>\n",
       "      <td>8437.673028</td>\n",
       "      <td>42</td>\n",
       "      <td>высшее</td>\n",
       "      <td>0</td>\n",
       "      <td>женат / замужем</td>\n",
       "      <td>0</td>\n",
       "      <td>F</td>\n",
       "      <td>сотрудник</td>\n",
       "      <td>0</td>\n",
       "      <td>253875.639453</td>\n",
       "      <td>покупка жилья</td>\n",
       "    </tr>\n",
       "    <tr>\n",
       "      <td>1</td>\n",
       "      <td>1</td>\n",
       "      <td>4024.803754</td>\n",
       "      <td>36</td>\n",
       "      <td>среднее</td>\n",
       "      <td>1</td>\n",
       "      <td>женат / замужем</td>\n",
       "      <td>0</td>\n",
       "      <td>F</td>\n",
       "      <td>сотрудник</td>\n",
       "      <td>0</td>\n",
       "      <td>112080.014102</td>\n",
       "      <td>приобретение автомобиля</td>\n",
       "    </tr>\n",
       "    <tr>\n",
       "      <td>2</td>\n",
       "      <td>0</td>\n",
       "      <td>5623.422610</td>\n",
       "      <td>33</td>\n",
       "      <td>Среднее</td>\n",
       "      <td>1</td>\n",
       "      <td>женат / замужем</td>\n",
       "      <td>0</td>\n",
       "      <td>M</td>\n",
       "      <td>сотрудник</td>\n",
       "      <td>0</td>\n",
       "      <td>145885.952297</td>\n",
       "      <td>покупка жилья</td>\n",
       "    </tr>\n",
       "    <tr>\n",
       "      <td>3</td>\n",
       "      <td>3</td>\n",
       "      <td>4124.747207</td>\n",
       "      <td>32</td>\n",
       "      <td>среднее</td>\n",
       "      <td>1</td>\n",
       "      <td>женат / замужем</td>\n",
       "      <td>0</td>\n",
       "      <td>M</td>\n",
       "      <td>сотрудник</td>\n",
       "      <td>0</td>\n",
       "      <td>267628.550329</td>\n",
       "      <td>дополнительное образование</td>\n",
       "    </tr>\n",
       "    <tr>\n",
       "      <td>4</td>\n",
       "      <td>0</td>\n",
       "      <td>340266.072047</td>\n",
       "      <td>53</td>\n",
       "      <td>среднее</td>\n",
       "      <td>1</td>\n",
       "      <td>гражданский брак</td>\n",
       "      <td>1</td>\n",
       "      <td>F</td>\n",
       "      <td>пенсионер</td>\n",
       "      <td>0</td>\n",
       "      <td>158616.077870</td>\n",
       "      <td>сыграть свадьбу</td>\n",
       "    </tr>\n",
       "  </tbody>\n",
       "</table>\n",
       "</div>"
      ],
      "text/plain": [
       "   children  days_employed  dob_years education  education_id  \\\n",
       "0         1    8437.673028         42    высшее             0   \n",
       "1         1    4024.803754         36   среднее             1   \n",
       "2         0    5623.422610         33   Среднее             1   \n",
       "3         3    4124.747207         32   среднее             1   \n",
       "4         0  340266.072047         53   среднее             1   \n",
       "\n",
       "      family_status  family_status_id gender income_type  debt   total_income  \\\n",
       "0   женат / замужем                 0      F   сотрудник     0  253875.639453   \n",
       "1   женат / замужем                 0      F   сотрудник     0  112080.014102   \n",
       "2   женат / замужем                 0      M   сотрудник     0  145885.952297   \n",
       "3   женат / замужем                 0      M   сотрудник     0  267628.550329   \n",
       "4  гражданский брак                 1      F   пенсионер     0  158616.077870   \n",
       "\n",
       "                      purpose  \n",
       "0               покупка жилья  \n",
       "1     приобретение автомобиля  \n",
       "2               покупка жилья  \n",
       "3  дополнительное образование  \n",
       "4             сыграть свадьбу  "
      ]
     },
     "execution_count": 11,
     "metadata": {},
     "output_type": "execute_result"
    }
   ],
   "source": [
    "# функция устанавливает стаж по возрасту из average_days_employed\n",
    "def update_days_employed_by_age(row):\n",
    "    dob_years = row['dob_years']\n",
    "    days_employed = row['days_employed']\n",
    "    # если стаж не указан\n",
    "    if math.isnan(days_employed):\n",
    "        # выбираем средний стаж по возрасту\n",
    "        if dob_years > 0:\n",
    "            return abs(average_days_employed.loc[dob_years, 'days_employed'])\n",
    "        else:\n",
    "            return 0\n",
    "    else:\n",
    "        # оставляем как есть\n",
    "        return abs(days_employed)\n",
    "    \n",
    "# создадим временный столбец\n",
    "data['days_employed_final'] = data.apply(update_days_employed_by_age, axis=1)\n",
    "data['days_employed'] = data['days_employed_final']\n",
    "# удалим временный столбец\n",
    "data = data.drop('days_employed_final', 1)\n",
    "\n",
    "data.head()"
   ]
  },
  {
   "cell_type": "code",
   "execution_count": 12,
   "metadata": {
    "scrolled": false
   },
   "outputs": [
    {
     "data": {
      "text/plain": [
       "children            101\n",
       "days_employed       101\n",
       "dob_years           101\n",
       "education           101\n",
       "education_id        101\n",
       "family_status       101\n",
       "family_status_id    101\n",
       "gender              101\n",
       "income_type         101\n",
       "debt                101\n",
       "total_income        101\n",
       "purpose             101\n",
       "dtype: int64"
      ]
     },
     "execution_count": 12,
     "metadata": {},
     "output_type": "execute_result"
    }
   ],
   "source": [
    "data[data['dob_years'] == 0].count()"
   ]
  },
  {
   "cell_type": "markdown",
   "metadata": {},
   "source": [
    "Остались строки с нулевым возрастом, таких строк менее 1%. Т.к. столбец dob_years не влияет на наше исследование, удалим эти строки. Т. о.  мы сможем смело категоризовать таблицу по возрастным группам."
   ]
  },
  {
   "cell_type": "code",
   "execution_count": 13,
   "metadata": {},
   "outputs": [],
   "source": [
    "data = data.drop(data[(data['dob_years']==0)].index)"
   ]
  },
  {
   "cell_type": "code",
   "execution_count": 14,
   "metadata": {
    "scrolled": true
   },
   "outputs": [
    {
     "data": {
      "text/plain": [
       " 0     14080\n",
       " 1      4802\n",
       " 2      2042\n",
       " 3       328\n",
       " 20       75\n",
       "-1        47\n",
       " 4        41\n",
       " 5         9\n",
       "Name: children, dtype: int64"
      ]
     },
     "execution_count": 14,
     "metadata": {},
     "output_type": "execute_result"
    }
   ],
   "source": [
    "data['children'].value_counts()"
   ]
  },
  {
   "cell_type": "markdown",
   "metadata": {},
   "source": [
    "Обнаружены аномальные значения количества детей: 20, -1. Невозможно вписать в имеющуюся прогрессию количество разновозрастных клиентов с 20 детьми. Эти данные скорее похожи на опечатки. Этот столбец не зависит явно от других столбцов. Так как процент строк с этими значениями менее 1% (122 строки), удалим их."
   ]
  },
  {
   "cell_type": "code",
   "execution_count": 15,
   "metadata": {
    "scrolled": true
   },
   "outputs": [
    {
     "data": {
      "text/html": [
       "<div>\n",
       "<style scoped>\n",
       "    .dataframe tbody tr th:only-of-type {\n",
       "        vertical-align: middle;\n",
       "    }\n",
       "\n",
       "    .dataframe tbody tr th {\n",
       "        vertical-align: top;\n",
       "    }\n",
       "\n",
       "    .dataframe thead th {\n",
       "        text-align: right;\n",
       "    }\n",
       "</style>\n",
       "<table border=\"1\" class=\"dataframe\">\n",
       "  <thead>\n",
       "    <tr style=\"text-align: right;\">\n",
       "      <th></th>\n",
       "      <th>children</th>\n",
       "      <th>days_employed</th>\n",
       "      <th>dob_years</th>\n",
       "      <th>education</th>\n",
       "      <th>education_id</th>\n",
       "      <th>family_status</th>\n",
       "      <th>family_status_id</th>\n",
       "      <th>gender</th>\n",
       "      <th>income_type</th>\n",
       "      <th>debt</th>\n",
       "      <th>total_income</th>\n",
       "      <th>purpose</th>\n",
       "    </tr>\n",
       "  </thead>\n",
       "  <tbody>\n",
       "    <tr>\n",
       "      <td>606</td>\n",
       "      <td>20</td>\n",
       "      <td>880.221113</td>\n",
       "      <td>21</td>\n",
       "      <td>среднее</td>\n",
       "      <td>1</td>\n",
       "      <td>женат / замужем</td>\n",
       "      <td>0</td>\n",
       "      <td>M</td>\n",
       "      <td>компаньон</td>\n",
       "      <td>0</td>\n",
       "      <td>145334.865002</td>\n",
       "      <td>покупка жилья</td>\n",
       "    </tr>\n",
       "    <tr>\n",
       "      <td>720</td>\n",
       "      <td>20</td>\n",
       "      <td>855.595512</td>\n",
       "      <td>44</td>\n",
       "      <td>среднее</td>\n",
       "      <td>1</td>\n",
       "      <td>женат / замужем</td>\n",
       "      <td>0</td>\n",
       "      <td>F</td>\n",
       "      <td>компаньон</td>\n",
       "      <td>0</td>\n",
       "      <td>112998.738649</td>\n",
       "      <td>покупка недвижимости</td>\n",
       "    </tr>\n",
       "    <tr>\n",
       "      <td>1074</td>\n",
       "      <td>20</td>\n",
       "      <td>3310.411598</td>\n",
       "      <td>56</td>\n",
       "      <td>среднее</td>\n",
       "      <td>1</td>\n",
       "      <td>женат / замужем</td>\n",
       "      <td>0</td>\n",
       "      <td>F</td>\n",
       "      <td>сотрудник</td>\n",
       "      <td>1</td>\n",
       "      <td>229518.537004</td>\n",
       "      <td>получение образования</td>\n",
       "    </tr>\n",
       "    <tr>\n",
       "      <td>2510</td>\n",
       "      <td>20</td>\n",
       "      <td>2714.161249</td>\n",
       "      <td>59</td>\n",
       "      <td>высшее</td>\n",
       "      <td>0</td>\n",
       "      <td>вдовец / вдова</td>\n",
       "      <td>2</td>\n",
       "      <td>F</td>\n",
       "      <td>сотрудник</td>\n",
       "      <td>0</td>\n",
       "      <td>264474.835577</td>\n",
       "      <td>операции с коммерческой недвижимостью</td>\n",
       "    </tr>\n",
       "    <tr>\n",
       "      <td>3302</td>\n",
       "      <td>20</td>\n",
       "      <td>2108.881612</td>\n",
       "      <td>35</td>\n",
       "      <td>среднее</td>\n",
       "      <td>1</td>\n",
       "      <td>Не женат / не замужем</td>\n",
       "      <td>4</td>\n",
       "      <td>F</td>\n",
       "      <td>госслужащий</td>\n",
       "      <td>0</td>\n",
       "      <td>167422.302208</td>\n",
       "      <td>профильное образование</td>\n",
       "    </tr>\n",
       "  </tbody>\n",
       "</table>\n",
       "</div>"
      ],
      "text/plain": [
       "      children  days_employed  dob_years education  education_id  \\\n",
       "606         20     880.221113         21   среднее             1   \n",
       "720         20     855.595512         44   среднее             1   \n",
       "1074        20    3310.411598         56   среднее             1   \n",
       "2510        20    2714.161249         59    высшее             0   \n",
       "3302        20    2108.881612         35   среднее             1   \n",
       "\n",
       "              family_status  family_status_id gender  income_type  debt  \\\n",
       "606         женат / замужем                 0      M    компаньон     0   \n",
       "720         женат / замужем                 0      F    компаньон     0   \n",
       "1074        женат / замужем                 0      F    сотрудник     1   \n",
       "2510         вдовец / вдова                 2      F    сотрудник     0   \n",
       "3302  Не женат / не замужем                 4      F  госслужащий     0   \n",
       "\n",
       "       total_income                                purpose  \n",
       "606   145334.865002                          покупка жилья  \n",
       "720   112998.738649                   покупка недвижимости  \n",
       "1074  229518.537004                  получение образования  \n",
       "2510  264474.835577  операции с коммерческой недвижимостью  \n",
       "3302  167422.302208                 профильное образование  "
      ]
     },
     "execution_count": 15,
     "metadata": {},
     "output_type": "execute_result"
    }
   ],
   "source": [
    "data.loc[(data['children']==20)].head()"
   ]
  },
  {
   "cell_type": "code",
   "execution_count": 16,
   "metadata": {},
   "outputs": [],
   "source": [
    "# удаление записей, где аномальное количество детей\n",
    "data = data.drop(data[(data['children']==20) | (data['children']==-1)].index)"
   ]
  },
  {
   "cell_type": "markdown",
   "metadata": {},
   "source": [
    "Как уже упоминалось ранее, строк с количеством детей 20 и -1 в таблице ― 122. Это менее 1% от общего количества, что не вляется существенным для нашего анализа."
   ]
  },
  {
   "cell_type": "markdown",
   "metadata": {},
   "source": [
    "Убеждаемся, что удаление выполнено успешно."
   ]
  },
  {
   "cell_type": "code",
   "execution_count": 17,
   "metadata": {},
   "outputs": [
    {
     "data": {
      "text/plain": [
       "0    14080\n",
       "1     4802\n",
       "2     2042\n",
       "3      328\n",
       "4       41\n",
       "5        9\n",
       "Name: children, dtype: int64"
      ]
     },
     "execution_count": 17,
     "metadata": {},
     "output_type": "execute_result"
    }
   ],
   "source": [
    "data['children'].value_counts()"
   ]
  },
  {
   "cell_type": "markdown",
   "metadata": {},
   "source": [
    "**Вывод**"
   ]
  },
  {
   "cell_type": "code",
   "execution_count": 18,
   "metadata": {},
   "outputs": [
    {
     "data": {
      "text/html": [
       "<div>\n",
       "<style scoped>\n",
       "    .dataframe tbody tr th:only-of-type {\n",
       "        vertical-align: middle;\n",
       "    }\n",
       "\n",
       "    .dataframe tbody tr th {\n",
       "        vertical-align: top;\n",
       "    }\n",
       "\n",
       "    .dataframe thead th {\n",
       "        text-align: right;\n",
       "    }\n",
       "</style>\n",
       "<table border=\"1\" class=\"dataframe\">\n",
       "  <thead>\n",
       "    <tr style=\"text-align: right;\">\n",
       "      <th></th>\n",
       "      <th>children</th>\n",
       "      <th>days_employed</th>\n",
       "      <th>dob_years</th>\n",
       "      <th>education</th>\n",
       "      <th>education_id</th>\n",
       "      <th>family_status</th>\n",
       "      <th>family_status_id</th>\n",
       "      <th>gender</th>\n",
       "      <th>income_type</th>\n",
       "      <th>debt</th>\n",
       "      <th>total_income</th>\n",
       "      <th>purpose</th>\n",
       "    </tr>\n",
       "  </thead>\n",
       "  <tbody>\n",
       "    <tr>\n",
       "      <td>0</td>\n",
       "      <td>1</td>\n",
       "      <td>8437.673028</td>\n",
       "      <td>42</td>\n",
       "      <td>высшее</td>\n",
       "      <td>0</td>\n",
       "      <td>женат / замужем</td>\n",
       "      <td>0</td>\n",
       "      <td>F</td>\n",
       "      <td>сотрудник</td>\n",
       "      <td>0</td>\n",
       "      <td>253875.639453</td>\n",
       "      <td>покупка жилья</td>\n",
       "    </tr>\n",
       "    <tr>\n",
       "      <td>1</td>\n",
       "      <td>1</td>\n",
       "      <td>4024.803754</td>\n",
       "      <td>36</td>\n",
       "      <td>среднее</td>\n",
       "      <td>1</td>\n",
       "      <td>женат / замужем</td>\n",
       "      <td>0</td>\n",
       "      <td>F</td>\n",
       "      <td>сотрудник</td>\n",
       "      <td>0</td>\n",
       "      <td>112080.014102</td>\n",
       "      <td>приобретение автомобиля</td>\n",
       "    </tr>\n",
       "    <tr>\n",
       "      <td>2</td>\n",
       "      <td>0</td>\n",
       "      <td>5623.422610</td>\n",
       "      <td>33</td>\n",
       "      <td>Среднее</td>\n",
       "      <td>1</td>\n",
       "      <td>женат / замужем</td>\n",
       "      <td>0</td>\n",
       "      <td>M</td>\n",
       "      <td>сотрудник</td>\n",
       "      <td>0</td>\n",
       "      <td>145885.952297</td>\n",
       "      <td>покупка жилья</td>\n",
       "    </tr>\n",
       "    <tr>\n",
       "      <td>3</td>\n",
       "      <td>3</td>\n",
       "      <td>4124.747207</td>\n",
       "      <td>32</td>\n",
       "      <td>среднее</td>\n",
       "      <td>1</td>\n",
       "      <td>женат / замужем</td>\n",
       "      <td>0</td>\n",
       "      <td>M</td>\n",
       "      <td>сотрудник</td>\n",
       "      <td>0</td>\n",
       "      <td>267628.550329</td>\n",
       "      <td>дополнительное образование</td>\n",
       "    </tr>\n",
       "    <tr>\n",
       "      <td>4</td>\n",
       "      <td>0</td>\n",
       "      <td>340266.072047</td>\n",
       "      <td>53</td>\n",
       "      <td>среднее</td>\n",
       "      <td>1</td>\n",
       "      <td>гражданский брак</td>\n",
       "      <td>1</td>\n",
       "      <td>F</td>\n",
       "      <td>пенсионер</td>\n",
       "      <td>0</td>\n",
       "      <td>158616.077870</td>\n",
       "      <td>сыграть свадьбу</td>\n",
       "    </tr>\n",
       "    <tr>\n",
       "      <td>5</td>\n",
       "      <td>0</td>\n",
       "      <td>926.185831</td>\n",
       "      <td>27</td>\n",
       "      <td>высшее</td>\n",
       "      <td>0</td>\n",
       "      <td>гражданский брак</td>\n",
       "      <td>1</td>\n",
       "      <td>M</td>\n",
       "      <td>компаньон</td>\n",
       "      <td>0</td>\n",
       "      <td>255763.565419</td>\n",
       "      <td>покупка жилья</td>\n",
       "    </tr>\n",
       "    <tr>\n",
       "      <td>6</td>\n",
       "      <td>0</td>\n",
       "      <td>2879.202052</td>\n",
       "      <td>43</td>\n",
       "      <td>высшее</td>\n",
       "      <td>0</td>\n",
       "      <td>женат / замужем</td>\n",
       "      <td>0</td>\n",
       "      <td>F</td>\n",
       "      <td>компаньон</td>\n",
       "      <td>0</td>\n",
       "      <td>240525.971920</td>\n",
       "      <td>операции с жильем</td>\n",
       "    </tr>\n",
       "    <tr>\n",
       "      <td>7</td>\n",
       "      <td>0</td>\n",
       "      <td>152.779569</td>\n",
       "      <td>50</td>\n",
       "      <td>СРЕДНЕЕ</td>\n",
       "      <td>1</td>\n",
       "      <td>женат / замужем</td>\n",
       "      <td>0</td>\n",
       "      <td>M</td>\n",
       "      <td>сотрудник</td>\n",
       "      <td>0</td>\n",
       "      <td>135823.934197</td>\n",
       "      <td>образование</td>\n",
       "    </tr>\n",
       "    <tr>\n",
       "      <td>8</td>\n",
       "      <td>2</td>\n",
       "      <td>6929.865299</td>\n",
       "      <td>35</td>\n",
       "      <td>ВЫСШЕЕ</td>\n",
       "      <td>0</td>\n",
       "      <td>гражданский брак</td>\n",
       "      <td>1</td>\n",
       "      <td>F</td>\n",
       "      <td>сотрудник</td>\n",
       "      <td>0</td>\n",
       "      <td>95856.832424</td>\n",
       "      <td>на проведение свадьбы</td>\n",
       "    </tr>\n",
       "    <tr>\n",
       "      <td>9</td>\n",
       "      <td>0</td>\n",
       "      <td>2188.756445</td>\n",
       "      <td>41</td>\n",
       "      <td>среднее</td>\n",
       "      <td>1</td>\n",
       "      <td>женат / замужем</td>\n",
       "      <td>0</td>\n",
       "      <td>M</td>\n",
       "      <td>сотрудник</td>\n",
       "      <td>0</td>\n",
       "      <td>144425.938277</td>\n",
       "      <td>покупка жилья для семьи</td>\n",
       "    </tr>\n",
       "  </tbody>\n",
       "</table>\n",
       "</div>"
      ],
      "text/plain": [
       "   children  days_employed  dob_years education  education_id  \\\n",
       "0         1    8437.673028         42    высшее             0   \n",
       "1         1    4024.803754         36   среднее             1   \n",
       "2         0    5623.422610         33   Среднее             1   \n",
       "3         3    4124.747207         32   среднее             1   \n",
       "4         0  340266.072047         53   среднее             1   \n",
       "5         0     926.185831         27    высшее             0   \n",
       "6         0    2879.202052         43    высшее             0   \n",
       "7         0     152.779569         50   СРЕДНЕЕ             1   \n",
       "8         2    6929.865299         35    ВЫСШЕЕ             0   \n",
       "9         0    2188.756445         41   среднее             1   \n",
       "\n",
       "      family_status  family_status_id gender income_type  debt   total_income  \\\n",
       "0   женат / замужем                 0      F   сотрудник     0  253875.639453   \n",
       "1   женат / замужем                 0      F   сотрудник     0  112080.014102   \n",
       "2   женат / замужем                 0      M   сотрудник     0  145885.952297   \n",
       "3   женат / замужем                 0      M   сотрудник     0  267628.550329   \n",
       "4  гражданский брак                 1      F   пенсионер     0  158616.077870   \n",
       "5  гражданский брак                 1      M   компаньон     0  255763.565419   \n",
       "6   женат / замужем                 0      F   компаньон     0  240525.971920   \n",
       "7   женат / замужем                 0      M   сотрудник     0  135823.934197   \n",
       "8  гражданский брак                 1      F   сотрудник     0   95856.832424   \n",
       "9   женат / замужем                 0      M   сотрудник     0  144425.938277   \n",
       "\n",
       "                      purpose  \n",
       "0               покупка жилья  \n",
       "1     приобретение автомобиля  \n",
       "2               покупка жилья  \n",
       "3  дополнительное образование  \n",
       "4             сыграть свадьбу  \n",
       "5               покупка жилья  \n",
       "6           операции с жильем  \n",
       "7                 образование  \n",
       "8       на проведение свадьбы  \n",
       "9     покупка жилья для семьи  "
      ]
     },
     "execution_count": 18,
     "metadata": {},
     "output_type": "execute_result"
    }
   ],
   "source": [
    "data.head(10)"
   ]
  },
  {
   "cell_type": "markdown",
   "metadata": {},
   "source": [
    " На этапе обработки пропусков были решены следующие проблемы:\n",
    "    пропуски в столбцах days_employed, total_income, dob_years, \n",
    "    отрицательные значения в столбцах children и days_employed,\n",
    "    удалены аномальные значения в столбце children.\n"
   ]
  },
  {
   "cell_type": "markdown",
   "metadata": {},
   "source": [
    "### Замена типа данных"
   ]
  },
  {
   "cell_type": "markdown",
   "metadata": {},
   "source": [
    "Приведём столбцы days_employed и total_income к целочисленному типу. Так как тип столбцов вещественный, то безопасно преобразовать дни методом округления до целого значения."
   ]
  },
  {
   "cell_type": "code",
   "execution_count": 19,
   "metadata": {},
   "outputs": [
    {
     "data": {
      "text/html": [
       "<div>\n",
       "<style scoped>\n",
       "    .dataframe tbody tr th:only-of-type {\n",
       "        vertical-align: middle;\n",
       "    }\n",
       "\n",
       "    .dataframe tbody tr th {\n",
       "        vertical-align: top;\n",
       "    }\n",
       "\n",
       "    .dataframe thead th {\n",
       "        text-align: right;\n",
       "    }\n",
       "</style>\n",
       "<table border=\"1\" class=\"dataframe\">\n",
       "  <thead>\n",
       "    <tr style=\"text-align: right;\">\n",
       "      <th></th>\n",
       "      <th>days_employed</th>\n",
       "      <th>total_income</th>\n",
       "    </tr>\n",
       "  </thead>\n",
       "  <tbody>\n",
       "    <tr>\n",
       "      <td>0</td>\n",
       "      <td>8438</td>\n",
       "      <td>253876</td>\n",
       "    </tr>\n",
       "    <tr>\n",
       "      <td>1</td>\n",
       "      <td>4025</td>\n",
       "      <td>112080</td>\n",
       "    </tr>\n",
       "    <tr>\n",
       "      <td>2</td>\n",
       "      <td>5623</td>\n",
       "      <td>145886</td>\n",
       "    </tr>\n",
       "    <tr>\n",
       "      <td>3</td>\n",
       "      <td>4125</td>\n",
       "      <td>267629</td>\n",
       "    </tr>\n",
       "    <tr>\n",
       "      <td>4</td>\n",
       "      <td>340266</td>\n",
       "      <td>158616</td>\n",
       "    </tr>\n",
       "  </tbody>\n",
       "</table>\n",
       "</div>"
      ],
      "text/plain": [
       "   days_employed  total_income\n",
       "0           8438        253876\n",
       "1           4025        112080\n",
       "2           5623        145886\n",
       "3           4125        267629\n",
       "4         340266        158616"
      ]
     },
     "execution_count": 19,
     "metadata": {},
     "output_type": "execute_result"
    }
   ],
   "source": [
    "data = data.round({'days_employed': 0, 'total_income': 0}).astype({'days_employed': 'int', 'total_income': 'int'})\n",
    "data.loc[:,['days_employed', 'total_income']].head()"
   ]
  },
  {
   "cell_type": "code",
   "execution_count": 20,
   "metadata": {},
   "outputs": [
    {
     "name": "stdout",
     "output_type": "stream",
     "text": [
      "<class 'pandas.core.frame.DataFrame'>\n",
      "Int64Index: 21302 entries, 0 to 21524\n",
      "Data columns (total 12 columns):\n",
      "children            21302 non-null int64\n",
      "days_employed       21302 non-null int64\n",
      "dob_years           21302 non-null int64\n",
      "education           21302 non-null object\n",
      "education_id        21302 non-null int64\n",
      "family_status       21302 non-null object\n",
      "family_status_id    21302 non-null int64\n",
      "gender              21302 non-null object\n",
      "income_type         21302 non-null object\n",
      "debt                21302 non-null int64\n",
      "total_income        21302 non-null int64\n",
      "purpose             21302 non-null object\n",
      "dtypes: int64(7), object(5)\n",
      "memory usage: 2.1+ MB\n"
     ]
    }
   ],
   "source": [
    "data.info()"
   ]
  },
  {
   "cell_type": "markdown",
   "metadata": {},
   "source": [
    "**Вывод**"
   ]
  },
  {
   "cell_type": "markdown",
   "metadata": {},
   "source": [
    "Столбцы \"общий трудовой стаж в днях\" и \"ежемесячный доход\" переведены в целочисленный тип методом округления до целого. Столбец стажа вероятнее всего будет рассматриваться рамках попадания в годовые диапазоны, а доход - в рамках попадания в диапазоны десятков тысяч, выбранная точность округления более чем достаточна для такого разбиения данных."
   ]
  },
  {
   "cell_type": "markdown",
   "metadata": {},
   "source": [
    "### Обработка дубликатов"
   ]
  },
  {
   "cell_type": "markdown",
   "metadata": {},
   "source": [
    "Проверим наличие полных повторений строк."
   ]
  },
  {
   "cell_type": "code",
   "execution_count": 21,
   "metadata": {},
   "outputs": [
    {
     "data": {
      "text/plain": [
       "54"
      ]
     },
     "execution_count": 21,
     "metadata": {},
     "output_type": "execute_result"
    }
   ],
   "source": [
    "data.duplicated().sum()"
   ]
  },
  {
   "cell_type": "markdown",
   "metadata": {},
   "source": [
    "Хотя наличие идентификатора клиента было бы большей гарантией уникальности, тем не менее, удалим полные дубликаты строк, т. к. предполагаем, что крайне маловероятно полное совпадение строк в такой широкой таблице с разноплановой информацией. "
   ]
  },
  {
   "cell_type": "code",
   "execution_count": 22,
   "metadata": {},
   "outputs": [],
   "source": [
    "data = data.drop_duplicates().reset_index(drop = True)"
   ]
  },
  {
   "cell_type": "code",
   "execution_count": 23,
   "metadata": {},
   "outputs": [
    {
     "data": {
      "text/plain": [
       "0"
      ]
     },
     "execution_count": 23,
     "metadata": {},
     "output_type": "execute_result"
    }
   ],
   "source": [
    "data.duplicated().sum()"
   ]
  },
  {
   "cell_type": "markdown",
   "metadata": {},
   "source": [
    "Исправим одинаковые строки написаные в разных регистрах в столбце education"
   ]
  },
  {
   "cell_type": "code",
   "execution_count": 24,
   "metadata": {},
   "outputs": [
    {
     "data": {
      "text/plain": [
       "среднее                13564\n",
       "высшее                  4658\n",
       "СРЕДНЕЕ                  764\n",
       "Среднее                  700\n",
       "неоконченное высшее      663\n",
       "ВЫСШЕЕ                   269\n",
       "Высшее                   266\n",
       "начальное                250\n",
       "Неоконченное высшее       47\n",
       "НЕОКОНЧЕННОЕ ВЫСШЕЕ       29\n",
       "НАЧАЛЬНОЕ                 17\n",
       "Начальное                 15\n",
       "ученая степень             4\n",
       "Ученая степень             1\n",
       "УЧЕНАЯ СТЕПЕНЬ             1\n",
       "Name: education, dtype: int64"
      ]
     },
     "execution_count": 24,
     "metadata": {},
     "output_type": "execute_result"
    }
   ],
   "source": [
    "data['education'].value_counts()"
   ]
  },
  {
   "cell_type": "code",
   "execution_count": 25,
   "metadata": {},
   "outputs": [],
   "source": [
    "def lowercase_education(row):\n",
    "    education = row['education']\n",
    "    return education.lower()\n",
    "\n",
    "\n",
    "data['education'] = data.apply(lowercase_education, axis=1)"
   ]
  },
  {
   "cell_type": "code",
   "execution_count": 26,
   "metadata": {},
   "outputs": [
    {
     "data": {
      "text/plain": [
       "среднее                15028\n",
       "высшее                  5193\n",
       "неоконченное высшее      739\n",
       "начальное                282\n",
       "ученая степень             6\n",
       "Name: education, dtype: int64"
      ]
     },
     "execution_count": 26,
     "metadata": {},
     "output_type": "execute_result"
    }
   ],
   "source": [
    "data['education'].value_counts()"
   ]
  },
  {
   "cell_type": "code",
   "execution_count": 27,
   "metadata": {},
   "outputs": [
    {
     "data": {
      "text/plain": [
       "женат / замужем          12218\n",
       "гражданский брак          4125\n",
       "Не женат / не замужем     2780\n",
       "в разводе                 1179\n",
       "вдовец / вдова             946\n",
       "Name: family_status, dtype: int64"
      ]
     },
     "execution_count": 27,
     "metadata": {},
     "output_type": "execute_result"
    }
   ],
   "source": [
    "data['family_status'].value_counts()"
   ]
  },
  {
   "cell_type": "code",
   "execution_count": 28,
   "metadata": {},
   "outputs": [],
   "source": [
    "def lowercase_family_status(row):\n",
    "    family_status = row['family_status']\n",
    "    return family_status.lower()\n",
    "\n",
    "\n",
    "data['family_status'] = data.apply(lowercase_family_status, axis=1)"
   ]
  },
  {
   "cell_type": "code",
   "execution_count": 29,
   "metadata": {},
   "outputs": [
    {
     "data": {
      "text/plain": [
       "женат / замужем          12218\n",
       "гражданский брак          4125\n",
       "не женат / не замужем     2780\n",
       "в разводе                 1179\n",
       "вдовец / вдова             946\n",
       "Name: family_status, dtype: int64"
      ]
     },
     "execution_count": 29,
     "metadata": {},
     "output_type": "execute_result"
    }
   ],
   "source": [
    "data['family_status'].value_counts()"
   ]
  },
  {
   "cell_type": "code",
   "execution_count": 30,
   "metadata": {},
   "outputs": [
    {
     "data": {
      "text/plain": [
       "сотрудник          10968\n",
       "компаньон           5029\n",
       "пенсионер           3800\n",
       "госслужащий         1445\n",
       "безработный            2\n",
       "предприниматель        2\n",
       "студент                1\n",
       "в декрете              1\n",
       "Name: income_type, dtype: int64"
      ]
     },
     "execution_count": 30,
     "metadata": {},
     "output_type": "execute_result"
    }
   ],
   "source": [
    "data['income_type'].value_counts()"
   ]
  },
  {
   "cell_type": "markdown",
   "metadata": {},
   "source": [
    "**Вывод**"
   ]
  },
  {
   "cell_type": "markdown",
   "metadata": {},
   "source": [
    "Мы удалили маловероятные полные совпадения строк в таблице, а также заменили повторы набранные в разном регистре в столбцах education и family_status. В других столбцах повторов не обнаружено."
   ]
  },
  {
   "cell_type": "markdown",
   "metadata": {},
   "source": [
    "### Лемматизация"
   ]
  },
  {
   "cell_type": "code",
   "execution_count": 31,
   "metadata": {},
   "outputs": [
    {
     "data": {
      "text/plain": [
       "свадьба                                   787\n",
       "на проведение свадьбы                     764\n",
       "сыграть свадьбу                           759\n",
       "операции с недвижимостью                  669\n",
       "покупка коммерческой недвижимости         656\n",
       "покупка жилья для сдачи                   648\n",
       "операции с коммерческой недвижимостью     643\n",
       "операции с жильем                         641\n",
       "покупка жилья для семьи                   636\n",
       "жилье                                     635\n",
       "покупка жилья                             634\n",
       "недвижимость                              627\n",
       "строительство собственной недвижимости    626\n",
       "операции со своей недвижимостью           623\n",
       "строительство недвижимости                619\n",
       "покупка своего жилья                      618\n",
       "строительство жилой недвижимости          618\n",
       "покупка недвижимости                      613\n",
       "ремонт жилью                              602\n",
       "покупка жилой недвижимости                599\n",
       "на покупку своего автомобиля              501\n",
       "заняться высшим образованием              493\n",
       "автомобиль                                487\n",
       "сделка с подержанным автомобилем          479\n",
       "автомобили                                474\n",
       "свой автомобиль                           471\n",
       "на покупку подержанного автомобиля        471\n",
       "на покупку автомобиля                     466\n",
       "приобретение автомобиля                   457\n",
       "сделка с автомобилем                      454\n",
       "дополнительное образование                453\n",
       "высшее образование                        443\n",
       "получение дополнительного образования     443\n",
       "получение образования                     439\n",
       "образование                               439\n",
       "профильное образование                    431\n",
       "получение высшего образования             423\n",
       "заняться образованием                     407\n",
       "Name: purpose, dtype: int64"
      ]
     },
     "execution_count": 31,
     "metadata": {},
     "output_type": "execute_result"
    }
   ],
   "source": [
    "data['purpose'].value_counts()"
   ]
  },
  {
   "cell_type": "markdown",
   "metadata": {},
   "source": [
    "Список целей кредита довольно разнообразный. Для удобства будет полезно сгруппировать цели в несколько общих целей. Мы можем видеть 3 крупных группы: приобретение/строительство/ремонт недвижимости, покупка автомобиля, образование. Среди целей с недвижимостью можно попробовать выделить отдельно покупку коммерческой недвижимости, покупку/строительство жилья. Детализировать группы по автомобилям и образованию уверенно однозначно не удаётся, но всё же попробуем выделить подержанные автомобили и высшее образование. Остальные кредиты (такие как \"на свадьбу\", \"ремонт\") отнесём к группе \"прочее\".\n",
    "\n",
    "Применим библиотеку nltk для выделения лемм в описании цели, и затем по ключевым и дополнительным лемма разобъём все цели на группы:"
   ]
  },
  {
   "cell_type": "markdown",
   "metadata": {},
   "source": [
    "Итак, сформируем следующие группы: \n",
    "1. покупка/строительство недвижимости (леммы: жил, недвижим (кроме 'ремонт') )\n",
    "2. покупка коммерческой недвижимости (леммы: жил, недвижим, коммерческ) \n",
    "3. покупка автомобиля (леммы: автомобил, автомоб) \n",
    "4. покупка подержанного автомобиля (леммы: автомобил, автомоб, подержа) \n",
    "5. образование (леммы: образован) \n",
    "6. высшее образование (леммы: образован, высш) \n",
    "7. прочее"
   ]
  },
  {
   "cell_type": "code",
   "execution_count": 32,
   "metadata": {},
   "outputs": [],
   "source": [
    "from nltk.stem import SnowballStemmer\n",
    "russian_stemmer = SnowballStemmer('russian')\n",
    "\n",
    "purpose_list = data['purpose'].unique()"
   ]
  },
  {
   "cell_type": "code",
   "execution_count": 33,
   "metadata": {},
   "outputs": [
    {
     "name": "stdout",
     "output_type": "stream",
     "text": [
      "покупка/строительство недвижимости - покупка жилья\n",
      "покупка автомобиля - приобретение автомобиля\n",
      "образование - дополнительное образование\n",
      "прочее - сыграть свадьбу\n",
      "покупка/строительство недвижимости - операции с жильем\n",
      "образование - образование\n",
      "прочее - на проведение свадьбы\n",
      "покупка/строительство недвижимости - покупка жилья для семьи\n",
      "покупка/строительство недвижимости - покупка недвижимости\n",
      "покупка коммерческой недвижимости - покупка коммерческой недвижимости\n",
      "покупка/строительство недвижимости - покупка жилой недвижимости\n",
      "покупка/строительство недвижимости - строительство собственной недвижимости\n",
      "покупка/строительство недвижимости - недвижимость\n",
      "покупка/строительство недвижимости - строительство недвижимости\n",
      "покупка подержанного автомобиля - на покупку подержанного автомобиля\n",
      "покупка автомобиля - на покупку своего автомобиля\n",
      "покупка коммерческой недвижимости - операции с коммерческой недвижимостью\n",
      "покупка/строительство недвижимости - строительство жилой недвижимости\n",
      "покупка/строительство недвижимости - жилье\n",
      "покупка/строительство недвижимости - операции со своей недвижимостью\n",
      "покупка автомобиля - автомобили\n",
      "образование - заняться образованием\n",
      "покупка подержанного автомобиля - сделка с подержанным автомобилем\n",
      "образование - получение образования\n",
      "покупка автомобиля - автомобиль\n",
      "прочее - свадьба\n",
      "образование - получение дополнительного образования\n",
      "покупка/строительство недвижимости - покупка своего жилья\n",
      "покупка/строительство недвижимости - операции с недвижимостью\n",
      "высшее образование - получение высшего образования\n",
      "покупка автомобиля - свой автомобиль\n",
      "покупка автомобиля - сделка с автомобилем\n",
      "образование - профильное образование\n",
      "высшее образование - высшее образование\n",
      "покупка коммерческой недвижимости - покупка жилья для сдачи\n",
      "покупка автомобиля - на покупку автомобиля\n",
      "прочее - ремонт жилью\n",
      "высшее образование - заняться высшим образованием\n"
     ]
    }
   ],
   "source": [
    "# функция лемматизации целей получения кредита\n",
    "def lemmatize_purpose(text):\n",
    "    purpose = text\n",
    "    purpose_stemmed = []\n",
    "    for word in purpose.split(' '):\n",
    "        stemmed_word = russian_stemmer.stem(word)\n",
    "        purpose_stemmed.append(stemmed_word)\n",
    " \n",
    "    if ('жил' in purpose_stemmed) or ('недвижим' in purpose_stemmed):\n",
    "        if ('коммерческ' in purpose_stemmed) or ('сдач' in purpose_stemmed):\n",
    "            return 'покупка коммерческой недвижимости'\n",
    "        elif (not 'ремонт' in purpose_stemmed):\n",
    "            return 'покупка/строительство недвижимости'\n",
    "    if ('автомобил' in purpose_stemmed) or ('автомоб' in purpose_stemmed):\n",
    "        if ('подержа' in purpose_stemmed):\n",
    "            return 'покупка подержанного автомобиля'\n",
    "        else:\n",
    "            return 'покупка автомобиля'\n",
    "    if ('образован' in purpose_stemmed):\n",
    "        if ('высш' in purpose_stemmed):\n",
    "            return 'высшее образование'\n",
    "        else:\n",
    "            return 'образование'\n",
    "    else:\n",
    "        return 'прочее'\n",
    "    \n",
    "def lemmatize_purpose_row(row):\n",
    "    text = row['purpose']\n",
    "    return lemmatize_purpose(text)\n",
    "\n",
    "for item in purpose_list:\n",
    "    print(lemmatize_purpose(item), '-', item)"
   ]
  },
  {
   "cell_type": "markdown",
   "metadata": {},
   "source": [
    "Cоздадим столбец с укрупнёнными целями кредита "
   ]
  },
  {
   "cell_type": "code",
   "execution_count": 34,
   "metadata": {},
   "outputs": [
    {
     "data": {
      "text/html": [
       "<div>\n",
       "<style scoped>\n",
       "    .dataframe tbody tr th:only-of-type {\n",
       "        vertical-align: middle;\n",
       "    }\n",
       "\n",
       "    .dataframe tbody tr th {\n",
       "        vertical-align: top;\n",
       "    }\n",
       "\n",
       "    .dataframe thead th {\n",
       "        text-align: right;\n",
       "    }\n",
       "</style>\n",
       "<table border=\"1\" class=\"dataframe\">\n",
       "  <thead>\n",
       "    <tr style=\"text-align: right;\">\n",
       "      <th></th>\n",
       "      <th>children</th>\n",
       "      <th>days_employed</th>\n",
       "      <th>dob_years</th>\n",
       "      <th>education</th>\n",
       "      <th>education_id</th>\n",
       "      <th>family_status</th>\n",
       "      <th>family_status_id</th>\n",
       "      <th>gender</th>\n",
       "      <th>income_type</th>\n",
       "      <th>debt</th>\n",
       "      <th>total_income</th>\n",
       "      <th>purpose</th>\n",
       "      <th>purpose_type</th>\n",
       "    </tr>\n",
       "  </thead>\n",
       "  <tbody>\n",
       "    <tr>\n",
       "      <td>0</td>\n",
       "      <td>1</td>\n",
       "      <td>8438</td>\n",
       "      <td>42</td>\n",
       "      <td>высшее</td>\n",
       "      <td>0</td>\n",
       "      <td>женат / замужем</td>\n",
       "      <td>0</td>\n",
       "      <td>F</td>\n",
       "      <td>сотрудник</td>\n",
       "      <td>0</td>\n",
       "      <td>253876</td>\n",
       "      <td>покупка жилья</td>\n",
       "      <td>покупка/строительство недвижимости</td>\n",
       "    </tr>\n",
       "    <tr>\n",
       "      <td>1</td>\n",
       "      <td>1</td>\n",
       "      <td>4025</td>\n",
       "      <td>36</td>\n",
       "      <td>среднее</td>\n",
       "      <td>1</td>\n",
       "      <td>женат / замужем</td>\n",
       "      <td>0</td>\n",
       "      <td>F</td>\n",
       "      <td>сотрудник</td>\n",
       "      <td>0</td>\n",
       "      <td>112080</td>\n",
       "      <td>приобретение автомобиля</td>\n",
       "      <td>покупка автомобиля</td>\n",
       "    </tr>\n",
       "    <tr>\n",
       "      <td>2</td>\n",
       "      <td>0</td>\n",
       "      <td>5623</td>\n",
       "      <td>33</td>\n",
       "      <td>среднее</td>\n",
       "      <td>1</td>\n",
       "      <td>женат / замужем</td>\n",
       "      <td>0</td>\n",
       "      <td>M</td>\n",
       "      <td>сотрудник</td>\n",
       "      <td>0</td>\n",
       "      <td>145886</td>\n",
       "      <td>покупка жилья</td>\n",
       "      <td>покупка/строительство недвижимости</td>\n",
       "    </tr>\n",
       "    <tr>\n",
       "      <td>3</td>\n",
       "      <td>3</td>\n",
       "      <td>4125</td>\n",
       "      <td>32</td>\n",
       "      <td>среднее</td>\n",
       "      <td>1</td>\n",
       "      <td>женат / замужем</td>\n",
       "      <td>0</td>\n",
       "      <td>M</td>\n",
       "      <td>сотрудник</td>\n",
       "      <td>0</td>\n",
       "      <td>267629</td>\n",
       "      <td>дополнительное образование</td>\n",
       "      <td>образование</td>\n",
       "    </tr>\n",
       "    <tr>\n",
       "      <td>4</td>\n",
       "      <td>0</td>\n",
       "      <td>340266</td>\n",
       "      <td>53</td>\n",
       "      <td>среднее</td>\n",
       "      <td>1</td>\n",
       "      <td>гражданский брак</td>\n",
       "      <td>1</td>\n",
       "      <td>F</td>\n",
       "      <td>пенсионер</td>\n",
       "      <td>0</td>\n",
       "      <td>158616</td>\n",
       "      <td>сыграть свадьбу</td>\n",
       "      <td>прочее</td>\n",
       "    </tr>\n",
       "  </tbody>\n",
       "</table>\n",
       "</div>"
      ],
      "text/plain": [
       "   children  days_employed  dob_years education  education_id  \\\n",
       "0         1           8438         42    высшее             0   \n",
       "1         1           4025         36   среднее             1   \n",
       "2         0           5623         33   среднее             1   \n",
       "3         3           4125         32   среднее             1   \n",
       "4         0         340266         53   среднее             1   \n",
       "\n",
       "      family_status  family_status_id gender income_type  debt  total_income  \\\n",
       "0   женат / замужем                 0      F   сотрудник     0        253876   \n",
       "1   женат / замужем                 0      F   сотрудник     0        112080   \n",
       "2   женат / замужем                 0      M   сотрудник     0        145886   \n",
       "3   женат / замужем                 0      M   сотрудник     0        267629   \n",
       "4  гражданский брак                 1      F   пенсионер     0        158616   \n",
       "\n",
       "                      purpose                        purpose_type  \n",
       "0               покупка жилья  покупка/строительство недвижимости  \n",
       "1     приобретение автомобиля                  покупка автомобиля  \n",
       "2               покупка жилья  покупка/строительство недвижимости  \n",
       "3  дополнительное образование                         образование  \n",
       "4             сыграть свадьбу                              прочее  "
      ]
     },
     "execution_count": 34,
     "metadata": {},
     "output_type": "execute_result"
    }
   ],
   "source": [
    "# создадим столбец с укрупнёнными целями кредита \n",
    "data['purpose_type'] = data.apply(lemmatize_purpose_row, axis=1)\n",
    "\n",
    "data.head()"
   ]
  },
  {
   "cell_type": "markdown",
   "metadata": {},
   "source": [
    "**Вывод**"
   ]
  },
  {
   "cell_type": "markdown",
   "metadata": {},
   "source": [
    "Цели кредита были разбиты на 7 типов: 3 крупные связанные (на недвижимость, автомобиль и образование) и все остальные. Из недвижимости выделена группа на покупку коммерческой недвижимости, в автомобилях выделена группа покупки подержанных автомобилей, в образовании - высшее образование."
   ]
  },
  {
   "cell_type": "markdown",
   "metadata": {},
   "source": [
    "### Категоризация данных"
   ]
  },
  {
   "cell_type": "markdown",
   "metadata": {},
   "source": [
    "Исследование требует рассмотреть зависимости по ежемесячному доходу. Возьмём квази логарифмическую шкалу доходов для наглядности, где среднее значение дохода из данных попадает в середину среднего уровня, а симметричные уровни имеют приблизительно одинаковое количество клиентов:\n",
    "    до 50 тыс. - очень низкий уровень\n",
    "    50 - 100 тыс. низкий уровень\n",
    "    100 - 250 тыс. средний уровень\n",
    "    250 - 500 тыс. высокий уровень\n",
    "    свыше 500 тыс. очень высокий уровень  "
   ]
  },
  {
   "cell_type": "code",
   "execution_count": 35,
   "metadata": {},
   "outputs": [],
   "source": [
    "# функция сопоставления дохода группе\n",
    "def total_income_group(total_income):\n",
    "    if total_income < 50000:\n",
    "        return 'до 50 тыс.'\n",
    "    if 50000 <= total_income < 100000:\n",
    "        return '50 - 100 тыс.'\n",
    "    if 100000 <= total_income < 250000:\n",
    "        return '100 - 250 тыс.'\n",
    "    if 250000 <= total_income < 500000:\n",
    "        return '250 - 500 тыс.'\n",
    "    if 500000 <= total_income:\n",
    "        return 'свыше 500 тыс.'\n"
   ]
  },
  {
   "cell_type": "code",
   "execution_count": 36,
   "metadata": {
    "scrolled": true
   },
   "outputs": [
    {
     "data": {
      "text/html": [
       "<div>\n",
       "<style scoped>\n",
       "    .dataframe tbody tr th:only-of-type {\n",
       "        vertical-align: middle;\n",
       "    }\n",
       "\n",
       "    .dataframe tbody tr th {\n",
       "        vertical-align: top;\n",
       "    }\n",
       "\n",
       "    .dataframe thead th {\n",
       "        text-align: right;\n",
       "    }\n",
       "</style>\n",
       "<table border=\"1\" class=\"dataframe\">\n",
       "  <thead>\n",
       "    <tr style=\"text-align: right;\">\n",
       "      <th></th>\n",
       "      <th>children</th>\n",
       "      <th>days_employed</th>\n",
       "      <th>dob_years</th>\n",
       "      <th>education_id</th>\n",
       "      <th>family_status_id</th>\n",
       "      <th>debt</th>\n",
       "      <th>total_income</th>\n",
       "    </tr>\n",
       "    <tr>\n",
       "      <th>total_income_group</th>\n",
       "      <th></th>\n",
       "      <th></th>\n",
       "      <th></th>\n",
       "      <th></th>\n",
       "      <th></th>\n",
       "      <th></th>\n",
       "      <th></th>\n",
       "    </tr>\n",
       "  </thead>\n",
       "  <tbody>\n",
       "    <tr>\n",
       "      <td>100 - 250 тыс.</td>\n",
       "      <td>6681</td>\n",
       "      <td>708720151</td>\n",
       "      <td>604521</td>\n",
       "      <td>11470</td>\n",
       "      <td>13831</td>\n",
       "      <td>1178</td>\n",
       "      <td>2252818636</td>\n",
       "    </tr>\n",
       "    <tr>\n",
       "      <td>250 - 500 тыс.</td>\n",
       "      <td>1283</td>\n",
       "      <td>100389913</td>\n",
       "      <td>109558</td>\n",
       "      <td>1690</td>\n",
       "      <td>2428</td>\n",
       "      <td>179</td>\n",
       "      <td>813291936</td>\n",
       "    </tr>\n",
       "    <tr>\n",
       "      <td>50 - 100 тыс.</td>\n",
       "      <td>1807</td>\n",
       "      <td>406477254</td>\n",
       "      <td>182026</td>\n",
       "      <td>3754</td>\n",
       "      <td>3962</td>\n",
       "      <td>330</td>\n",
       "      <td>322129705</td>\n",
       "    </tr>\n",
       "    <tr>\n",
       "      <td>до 50 тыс.</td>\n",
       "      <td>160</td>\n",
       "      <td>65653907</td>\n",
       "      <td>18401</td>\n",
       "      <td>371</td>\n",
       "      <td>263</td>\n",
       "      <td>23</td>\n",
       "      <td>15462830</td>\n",
       "    </tr>\n",
       "    <tr>\n",
       "      <td>свыше 500 тыс.</td>\n",
       "      <td>133</td>\n",
       "      <td>7485876</td>\n",
       "      <td>9560</td>\n",
       "      <td>91</td>\n",
       "      <td>190</td>\n",
       "      <td>14</td>\n",
       "      <td>155053912</td>\n",
       "    </tr>\n",
       "  </tbody>\n",
       "</table>\n",
       "</div>"
      ],
      "text/plain": [
       "                    children  days_employed  dob_years  education_id  \\\n",
       "total_income_group                                                     \n",
       "100 - 250 тыс.          6681      708720151     604521         11470   \n",
       "250 - 500 тыс.          1283      100389913     109558          1690   \n",
       "50 - 100 тыс.           1807      406477254     182026          3754   \n",
       "до 50 тыс.               160       65653907      18401           371   \n",
       "свыше 500 тыс.           133        7485876       9560            91   \n",
       "\n",
       "                    family_status_id  debt  total_income  \n",
       "total_income_group                                        \n",
       "100 - 250 тыс.                 13831  1178    2252818636  \n",
       "250 - 500 тыс.                  2428   179     813291936  \n",
       "50 - 100 тыс.                   3962   330     322129705  \n",
       "до 50 тыс.                       263    23      15462830  \n",
       "свыше 500 тыс.                   190    14     155053912  "
      ]
     },
     "execution_count": 36,
     "metadata": {},
     "output_type": "execute_result"
    }
   ],
   "source": [
    "data['total_income_group'] = data['total_income'].apply(total_income_group)\n",
    "data.groupby('total_income_group').sum()"
   ]
  },
  {
   "cell_type": "markdown",
   "metadata": {},
   "source": [
    "Мы имеем возможность оценить сгруппировать клиенов банка по возрасту, разделим на 4 группы:\n",
    "    до 25 лет (юные, активно обучающаяся)\n",
    "    25 - 45 (молодёжь)\n",
    "    45 - 65 (средний возраст)\n",
    "    старше 65 (пожилые)."
   ]
  },
  {
   "cell_type": "code",
   "execution_count": 37,
   "metadata": {},
   "outputs": [],
   "source": [
    "# функция сопоставления возраста возрастной группе\n",
    "def age_group(age):\n",
    "    if age < 25:\n",
    "        return 'до 25 лет'\n",
    "    if 25 <= age < 45:\n",
    "        return '25 - 45 лет'\n",
    "    if 45 <= age < 65:\n",
    "        return '45 - 65 лет'\n",
    "    if 65 <= age:\n",
    "        return 'старше 65 лет'"
   ]
  },
  {
   "cell_type": "code",
   "execution_count": 38,
   "metadata": {},
   "outputs": [
    {
     "data": {
      "text/html": [
       "<div>\n",
       "<style scoped>\n",
       "    .dataframe tbody tr th:only-of-type {\n",
       "        vertical-align: middle;\n",
       "    }\n",
       "\n",
       "    .dataframe tbody tr th {\n",
       "        vertical-align: top;\n",
       "    }\n",
       "\n",
       "    .dataframe thead th {\n",
       "        text-align: right;\n",
       "    }\n",
       "</style>\n",
       "<table border=\"1\" class=\"dataframe\">\n",
       "  <thead>\n",
       "    <tr style=\"text-align: right;\">\n",
       "      <th></th>\n",
       "      <th>children</th>\n",
       "      <th>days_employed</th>\n",
       "      <th>dob_years</th>\n",
       "      <th>education_id</th>\n",
       "      <th>family_status_id</th>\n",
       "      <th>debt</th>\n",
       "      <th>total_income</th>\n",
       "    </tr>\n",
       "    <tr>\n",
       "      <th>dob_years_group</th>\n",
       "      <th></th>\n",
       "      <th></th>\n",
       "      <th></th>\n",
       "      <th></th>\n",
       "      <th></th>\n",
       "      <th></th>\n",
       "      <th></th>\n",
       "    </tr>\n",
       "  </thead>\n",
       "  <tbody>\n",
       "    <tr>\n",
       "      <td>25 - 45 лет</td>\n",
       "      <td>8129</td>\n",
       "      <td>49286485</td>\n",
       "      <td>376101</td>\n",
       "      <td>8355</td>\n",
       "      <td>10086</td>\n",
       "      <td>1032</td>\n",
       "      <td>1881092874</td>\n",
       "    </tr>\n",
       "    <tr>\n",
       "      <td>45 - 65 лет</td>\n",
       "      <td>1642</td>\n",
       "      <td>981840678</td>\n",
       "      <td>467841</td>\n",
       "      <td>7358</td>\n",
       "      <td>7908</td>\n",
       "      <td>555</td>\n",
       "      <td>1428051081</td>\n",
       "    </tr>\n",
       "    <tr>\n",
       "      <td>до 25 лет</td>\n",
       "      <td>254</td>\n",
       "      <td>1075659</td>\n",
       "      <td>19707</td>\n",
       "      <td>827</td>\n",
       "      <td>1712</td>\n",
       "      <td>88</td>\n",
       "      <td>126337606</td>\n",
       "    </tr>\n",
       "    <tr>\n",
       "      <td>старше 65 лет</td>\n",
       "      <td>39</td>\n",
       "      <td>256524279</td>\n",
       "      <td>60417</td>\n",
       "      <td>836</td>\n",
       "      <td>968</td>\n",
       "      <td>49</td>\n",
       "      <td>123275458</td>\n",
       "    </tr>\n",
       "  </tbody>\n",
       "</table>\n",
       "</div>"
      ],
      "text/plain": [
       "                 children  days_employed  dob_years  education_id  \\\n",
       "dob_years_group                                                     \n",
       "25 - 45 лет          8129       49286485     376101          8355   \n",
       "45 - 65 лет          1642      981840678     467841          7358   \n",
       "до 25 лет             254        1075659      19707           827   \n",
       "старше 65 лет          39      256524279      60417           836   \n",
       "\n",
       "                 family_status_id  debt  total_income  \n",
       "dob_years_group                                        \n",
       "25 - 45 лет                 10086  1032    1881092874  \n",
       "45 - 65 лет                  7908   555    1428051081  \n",
       "до 25 лет                    1712    88     126337606  \n",
       "старше 65 лет                 968    49     123275458  "
      ]
     },
     "execution_count": 38,
     "metadata": {},
     "output_type": "execute_result"
    }
   ],
   "source": [
    "data['dob_years_group'] = data['dob_years'].apply(age_group)\n",
    "data.groupby('dob_years_group').sum()"
   ]
  },
  {
   "cell_type": "markdown",
   "metadata": {},
   "source": [
    "## Ответы на вопросы"
   ]
  },
  {
   "cell_type": "markdown",
   "metadata": {},
   "source": [
    "Рассчитаем средний процент \"должников\"."
   ]
  },
  {
   "cell_type": "code",
   "execution_count": 39,
   "metadata": {
    "scrolled": true
   },
   "outputs": [
    {
     "data": {
      "text/plain": [
       "'8.1%'"
      ]
     },
     "execution_count": 39,
     "metadata": {},
     "output_type": "execute_result"
    }
   ],
   "source": [
    "\"{:,.1%}\".format((data['debt'].sum() / data['debt'].count()))"
   ]
  },
  {
   "cell_type": "markdown",
   "metadata": {},
   "source": [
    "Будем ориентироваться на среднее количество должников 8%"
   ]
  },
  {
   "cell_type": "markdown",
   "metadata": {},
   "source": [
    "### Есть ли зависимость между наличием детей и возвратом кредита в срок?"
   ]
  },
  {
   "cell_type": "markdown",
   "metadata": {},
   "source": [
    "Рассчитаем процент клиентов, которые задерживали выплаты по кредиту, поделим количество кредитов с задержками на общее количество и расчитаем процент по категориям."
   ]
  },
  {
   "cell_type": "code",
   "execution_count": 40,
   "metadata": {},
   "outputs": [
    {
     "data": {
      "text/html": [
       "<div>\n",
       "<style scoped>\n",
       "    .dataframe tbody tr th:only-of-type {\n",
       "        vertical-align: middle;\n",
       "    }\n",
       "\n",
       "    .dataframe tbody tr th {\n",
       "        vertical-align: top;\n",
       "    }\n",
       "\n",
       "    .dataframe thead th {\n",
       "        text-align: right;\n",
       "    }\n",
       "</style>\n",
       "<table border=\"1\" class=\"dataframe\">\n",
       "  <thead>\n",
       "    <tr style=\"text-align: right;\">\n",
       "      <th></th>\n",
       "      <th>len</th>\n",
       "      <th>sum</th>\n",
       "      <th>debt_rate</th>\n",
       "      <th>debt_rate_percent</th>\n",
       "    </tr>\n",
       "    <tr>\n",
       "      <th>children</th>\n",
       "      <th></th>\n",
       "      <th></th>\n",
       "      <th></th>\n",
       "      <th></th>\n",
       "    </tr>\n",
       "  </thead>\n",
       "  <tbody>\n",
       "    <tr>\n",
       "      <td>4</td>\n",
       "      <td>41</td>\n",
       "      <td>4</td>\n",
       "      <td>0.097561</td>\n",
       "      <td>9.8%</td>\n",
       "    </tr>\n",
       "    <tr>\n",
       "      <td>2</td>\n",
       "      <td>2039</td>\n",
       "      <td>194</td>\n",
       "      <td>0.095145</td>\n",
       "      <td>9.5%</td>\n",
       "    </tr>\n",
       "    <tr>\n",
       "      <td>1</td>\n",
       "      <td>4793</td>\n",
       "      <td>441</td>\n",
       "      <td>0.092009</td>\n",
       "      <td>9.2%</td>\n",
       "    </tr>\n",
       "    <tr>\n",
       "      <td>3</td>\n",
       "      <td>328</td>\n",
       "      <td>27</td>\n",
       "      <td>0.082317</td>\n",
       "      <td>8.2%</td>\n",
       "    </tr>\n",
       "    <tr>\n",
       "      <td>0</td>\n",
       "      <td>14038</td>\n",
       "      <td>1058</td>\n",
       "      <td>0.075367</td>\n",
       "      <td>7.5%</td>\n",
       "    </tr>\n",
       "    <tr>\n",
       "      <td>5</td>\n",
       "      <td>9</td>\n",
       "      <td>0</td>\n",
       "      <td>0.000000</td>\n",
       "      <td>0.0%</td>\n",
       "    </tr>\n",
       "  </tbody>\n",
       "</table>\n",
       "</div>"
      ],
      "text/plain": [
       "            len   sum  debt_rate debt_rate_percent\n",
       "children                                          \n",
       "4            41     4   0.097561              9.8%\n",
       "2          2039   194   0.095145              9.5%\n",
       "1          4793   441   0.092009              9.2%\n",
       "3           328    27   0.082317              8.2%\n",
       "0         14038  1058   0.075367              7.5%\n",
       "5             9     0   0.000000              0.0%"
      ]
     },
     "execution_count": 40,
     "metadata": {},
     "output_type": "execute_result"
    }
   ],
   "source": [
    "children_pivot = data.pivot_table(index=['children'], values='debt',\n",
    "                                  aggfunc={\n",
    "                                    'debt': [len,  sum]\n",
    "                                  })\n",
    "children_pivot['debt_rate'] = (children_pivot['sum']/children_pivot['len'])\n",
    "children_pivot['debt_rate_percent'] = (children_pivot['sum']/children_pivot['len']).map('{:,.1%}'.format)\n",
    "children_pivot.sort_values(by='debt_rate',  ascending=False)"
   ]
  },
  {
   "cell_type": "markdown",
   "metadata": {},
   "source": [
    "**Вывод**"
   ]
  },
  {
   "cell_type": "markdown",
   "metadata": {},
   "source": [
    "Зависимость между наличием детей и возвратом кредита в срок незначительная. Процент должников близок к среднему. \n",
    "\n",
    "Процент задолжников в каждой группе приблизительно одинаковый (7-10%). В лушую сторону отличаются бездетные. В худшую - семьи с 2-мя и 4-мя детьми Исключением здесь являются многодетные семьи с 5-ю детьми, которые всегда выплачивали кредиты вовремя. Но, так как выборка для этой группы очень мала, можно не рассматривать этот процент в итоговом выводе."
   ]
  },
  {
   "cell_type": "markdown",
   "metadata": {},
   "source": [
    "### Есть ли зависимость между семейным положением и возвратом кредита в срок?"
   ]
  },
  {
   "cell_type": "markdown",
   "metadata": {},
   "source": [
    "Рассчитаем процент клиентов, которые задерживали выплаты по кредиту, поделим количество кредитов с задержками на общее количество и расчитаем процент по категориям."
   ]
  },
  {
   "cell_type": "code",
   "execution_count": 88,
   "metadata": {},
   "outputs": [
    {
     "data": {
      "text/html": [
       "<div>\n",
       "<style scoped>\n",
       "    .dataframe tbody tr th:only-of-type {\n",
       "        vertical-align: middle;\n",
       "    }\n",
       "\n",
       "    .dataframe tbody tr th {\n",
       "        vertical-align: top;\n",
       "    }\n",
       "\n",
       "    .dataframe thead th {\n",
       "        text-align: right;\n",
       "    }\n",
       "</style>\n",
       "<table border=\"1\" class=\"dataframe\">\n",
       "  <thead>\n",
       "    <tr style=\"text-align: right;\">\n",
       "      <th></th>\n",
       "      <th>len</th>\n",
       "      <th>sum</th>\n",
       "      <th>debt_rate</th>\n",
       "      <th>debt_rate_percent</th>\n",
       "    </tr>\n",
       "    <tr>\n",
       "      <th>family_status</th>\n",
       "      <th></th>\n",
       "      <th></th>\n",
       "      <th></th>\n",
       "      <th></th>\n",
       "    </tr>\n",
       "  </thead>\n",
       "  <tbody>\n",
       "    <tr>\n",
       "      <td>не женат / не замужем</td>\n",
       "      <td>2780</td>\n",
       "      <td>272</td>\n",
       "      <td>0.097842</td>\n",
       "      <td>9.8%</td>\n",
       "    </tr>\n",
       "    <tr>\n",
       "      <td>гражданский брак</td>\n",
       "      <td>4113</td>\n",
       "      <td>383</td>\n",
       "      <td>0.093119</td>\n",
       "      <td>9.3%</td>\n",
       "    </tr>\n",
       "    <tr>\n",
       "      <td>женат / замужем</td>\n",
       "      <td>12213</td>\n",
       "      <td>923</td>\n",
       "      <td>0.075575</td>\n",
       "      <td>7.6%</td>\n",
       "    </tr>\n",
       "    <tr>\n",
       "      <td>в разводе</td>\n",
       "      <td>1179</td>\n",
       "      <td>84</td>\n",
       "      <td>0.071247</td>\n",
       "      <td>7.1%</td>\n",
       "    </tr>\n",
       "    <tr>\n",
       "      <td>вдовец / вдова</td>\n",
       "      <td>946</td>\n",
       "      <td>62</td>\n",
       "      <td>0.065539</td>\n",
       "      <td>6.6%</td>\n",
       "    </tr>\n",
       "  </tbody>\n",
       "</table>\n",
       "</div>"
      ],
      "text/plain": [
       "                         len  sum  debt_rate debt_rate_percent\n",
       "family_status                                                 \n",
       "не женат / не замужем   2780  272   0.097842              9.8%\n",
       "гражданский брак        4113  383   0.093119              9.3%\n",
       "женат / замужем        12213  923   0.075575              7.6%\n",
       "в разводе               1179   84   0.071247              7.1%\n",
       "вдовец / вдова           946   62   0.065539              6.6%"
      ]
     },
     "execution_count": 88,
     "metadata": {},
     "output_type": "execute_result"
    }
   ],
   "source": [
    "family_status_pivot = data.pivot_table(index=['family_status'], values='debt',\n",
    "                                  aggfunc={\n",
    "                                    'debt': [len,  sum]\n",
    "                                  })\n",
    "family_status_pivot['debt_rate'] = (family_status_pivot['sum']/family_status_pivot['len'])\n",
    "family_status_pivot['debt_rate_percent'] = (family_status_pivot['sum']/family_status_pivot['len']).map('{:,.1%}'.format)\n",
    "family_status_pivot.sort_values(by='debt_rate',  ascending=False)"
   ]
  },
  {
   "cell_type": "markdown",
   "metadata": {},
   "source": [
    "**Вывод**"
   ]
  },
  {
   "cell_type": "markdown",
   "metadata": {},
   "source": [
    "Зависимость между семейным положением и возвратом кредита в срок незначительная. Процент должников близок к среднему. \n",
    "\n",
    "Процент задолжников в каждой группе приблизительно одинаковый (7-10%). Причём люди не состоящие в браке оказались более беспечными в долговых обязательствах. Банкам можно чуть больше доверять вдовцам и разведённым."
   ]
  },
  {
   "cell_type": "markdown",
   "metadata": {},
   "source": [
    "### Есть ли зависимость между уровнем дохода и возвратом кредита в срок?"
   ]
  },
  {
   "cell_type": "markdown",
   "metadata": {},
   "source": [
    "Рассчитаем процент клиентов, которые задерживали выплаты по кредиту, поделим количество кредитов с задержками на общее количество и расчитаем процент по категориям."
   ]
  },
  {
   "cell_type": "code",
   "execution_count": 89,
   "metadata": {},
   "outputs": [
    {
     "data": {
      "text/html": [
       "<div>\n",
       "<style scoped>\n",
       "    .dataframe tbody tr th:only-of-type {\n",
       "        vertical-align: middle;\n",
       "    }\n",
       "\n",
       "    .dataframe tbody tr th {\n",
       "        vertical-align: top;\n",
       "    }\n",
       "\n",
       "    .dataframe thead th {\n",
       "        text-align: right;\n",
       "    }\n",
       "</style>\n",
       "<table border=\"1\" class=\"dataframe\">\n",
       "  <thead>\n",
       "    <tr style=\"text-align: right;\">\n",
       "      <th></th>\n",
       "      <th>len</th>\n",
       "      <th>sum</th>\n",
       "      <th>debt_rate</th>\n",
       "      <th>debt_rate_percent</th>\n",
       "    </tr>\n",
       "    <tr>\n",
       "      <th>total_income_group</th>\n",
       "      <th></th>\n",
       "      <th></th>\n",
       "      <th></th>\n",
       "      <th></th>\n",
       "    </tr>\n",
       "  </thead>\n",
       "  <tbody>\n",
       "    <tr>\n",
       "      <td>100 - 250 тыс.</td>\n",
       "      <td>14027</td>\n",
       "      <td>1178</td>\n",
       "      <td>0.083981</td>\n",
       "      <td>8.4%</td>\n",
       "    </tr>\n",
       "    <tr>\n",
       "      <td>50 - 100 тыс.</td>\n",
       "      <td>4052</td>\n",
       "      <td>330</td>\n",
       "      <td>0.081441</td>\n",
       "      <td>8.1%</td>\n",
       "    </tr>\n",
       "    <tr>\n",
       "      <td>250 - 500 тыс.</td>\n",
       "      <td>2561</td>\n",
       "      <td>179</td>\n",
       "      <td>0.069895</td>\n",
       "      <td>7.0%</td>\n",
       "    </tr>\n",
       "    <tr>\n",
       "      <td>свыше 500 тыс.</td>\n",
       "      <td>222</td>\n",
       "      <td>14</td>\n",
       "      <td>0.063063</td>\n",
       "      <td>6.3%</td>\n",
       "    </tr>\n",
       "    <tr>\n",
       "      <td>до 50 тыс.</td>\n",
       "      <td>369</td>\n",
       "      <td>23</td>\n",
       "      <td>0.062331</td>\n",
       "      <td>6.2%</td>\n",
       "    </tr>\n",
       "  </tbody>\n",
       "</table>\n",
       "</div>"
      ],
      "text/plain": [
       "                      len   sum  debt_rate debt_rate_percent\n",
       "total_income_group                                          \n",
       "100 - 250 тыс.      14027  1178   0.083981              8.4%\n",
       "50 - 100 тыс.        4052   330   0.081441              8.1%\n",
       "250 - 500 тыс.       2561   179   0.069895              7.0%\n",
       "свыше 500 тыс.        222    14   0.063063              6.3%\n",
       "до 50 тыс.            369    23   0.062331              6.2%"
      ]
     },
     "execution_count": 89,
     "metadata": {},
     "output_type": "execute_result"
    }
   ],
   "source": [
    "total_income_group_pivot = data.pivot_table(index=['total_income_group'], values='debt',\n",
    "                                  aggfunc={\n",
    "                                    'debt': [len,  sum]\n",
    "                                  })\n",
    "total_income_group_pivot['debt_rate'] = (total_income_group_pivot['sum']/total_income_group_pivot['len'])\n",
    "total_income_group_pivot['debt_rate_percent'] = (total_income_group_pivot['sum']/total_income_group_pivot['len']).map('{:,.1%}'.format)\n",
    "total_income_group_pivot.sort_values(by='debt_rate',  ascending=False)"
   ]
  },
  {
   "cell_type": "markdown",
   "metadata": {},
   "source": [
    "**Вывод**"
   ]
  },
  {
   "cell_type": "markdown",
   "metadata": {},
   "source": [
    "Нет. Зависимость между ежемесячным доходом и возвратом кредита в срок незначительная. Процент должников близок к среднему. \n",
    "\n",
    "Процент задолжников в каждой группе приблизительно одинаковый (6-8%). Клиенты с самыми низким доходом и с очень высоким оказались чуть более дисциплинированными."
   ]
  },
  {
   "cell_type": "markdown",
   "metadata": {},
   "source": [
    "### Как разные цели кредита влияют на его возврат в срок?"
   ]
  },
  {
   "cell_type": "markdown",
   "metadata": {},
   "source": [
    "Рассчитаем процент клиентов, которые задерживали выплаты по кредиту, поделим количество кредитов с задержками на общее количество и расчитаем процент по категориям."
   ]
  },
  {
   "cell_type": "code",
   "execution_count": 90,
   "metadata": {},
   "outputs": [
    {
     "data": {
      "text/html": [
       "<div>\n",
       "<style scoped>\n",
       "    .dataframe tbody tr th:only-of-type {\n",
       "        vertical-align: middle;\n",
       "    }\n",
       "\n",
       "    .dataframe tbody tr th {\n",
       "        vertical-align: top;\n",
       "    }\n",
       "\n",
       "    .dataframe thead th {\n",
       "        text-align: right;\n",
       "    }\n",
       "</style>\n",
       "<table border=\"1\" class=\"dataframe\">\n",
       "  <thead>\n",
       "    <tr style=\"text-align: right;\">\n",
       "      <th></th>\n",
       "      <th>len</th>\n",
       "      <th>sum</th>\n",
       "      <th>debt_rate</th>\n",
       "      <th>debt_rate_percent</th>\n",
       "    </tr>\n",
       "    <tr>\n",
       "      <th>purpose_type</th>\n",
       "      <th></th>\n",
       "      <th></th>\n",
       "      <th></th>\n",
       "      <th></th>\n",
       "    </tr>\n",
       "  </thead>\n",
       "  <tbody>\n",
       "    <tr>\n",
       "      <td>высшее образование</td>\n",
       "      <td>1359</td>\n",
       "      <td>129</td>\n",
       "      <td>0.094923</td>\n",
       "      <td>9.5%</td>\n",
       "    </tr>\n",
       "    <tr>\n",
       "      <td>покупка автомобиля</td>\n",
       "      <td>3308</td>\n",
       "      <td>311</td>\n",
       "      <td>0.094015</td>\n",
       "      <td>9.4%</td>\n",
       "    </tr>\n",
       "    <tr>\n",
       "      <td>образование</td>\n",
       "      <td>2611</td>\n",
       "      <td>240</td>\n",
       "      <td>0.091919</td>\n",
       "      <td>9.2%</td>\n",
       "    </tr>\n",
       "    <tr>\n",
       "      <td>покупка подержанного автомобиля</td>\n",
       "      <td>950</td>\n",
       "      <td>86</td>\n",
       "      <td>0.090526</td>\n",
       "      <td>9.1%</td>\n",
       "    </tr>\n",
       "    <tr>\n",
       "      <td>покупка коммерческой недвижимости</td>\n",
       "      <td>1945</td>\n",
       "      <td>150</td>\n",
       "      <td>0.077121</td>\n",
       "      <td>7.7%</td>\n",
       "    </tr>\n",
       "    <tr>\n",
       "      <td>прочее</td>\n",
       "      <td>2901</td>\n",
       "      <td>216</td>\n",
       "      <td>0.074457</td>\n",
       "      <td>7.4%</td>\n",
       "    </tr>\n",
       "    <tr>\n",
       "      <td>покупка/строительство недвижимости</td>\n",
       "      <td>8157</td>\n",
       "      <td>592</td>\n",
       "      <td>0.072576</td>\n",
       "      <td>7.3%</td>\n",
       "    </tr>\n",
       "  </tbody>\n",
       "</table>\n",
       "</div>"
      ],
      "text/plain": [
       "                                     len  sum  debt_rate debt_rate_percent\n",
       "purpose_type                                                              \n",
       "высшее образование                  1359  129   0.094923              9.5%\n",
       "покупка автомобиля                  3308  311   0.094015              9.4%\n",
       "образование                         2611  240   0.091919              9.2%\n",
       "покупка подержанного автомобиля      950   86   0.090526              9.1%\n",
       "покупка коммерческой недвижимости   1945  150   0.077121              7.7%\n",
       "прочее                              2901  216   0.074457              7.4%\n",
       "покупка/строительство недвижимости  8157  592   0.072576              7.3%"
      ]
     },
     "execution_count": 90,
     "metadata": {},
     "output_type": "execute_result"
    }
   ],
   "source": [
    "purpose_type_pivot = data.pivot_table(index=['purpose_type'], values='debt',\n",
    "                                  aggfunc={\n",
    "                                    'debt': [len,  sum]\n",
    "                                  })\n",
    "purpose_type_pivot['debt_rate'] = (purpose_type_pivot['sum']/purpose_type_pivot['len'])\n",
    "purpose_type_pivot['debt_rate_percent'] = (purpose_type_pivot['sum']/purpose_type_pivot['len']).map('{:,.1%}'.format)\n",
    "purpose_type_pivot.sort_values(by='debt_rate',  ascending=False)"
   ]
  },
  {
   "cell_type": "markdown",
   "metadata": {},
   "source": [
    "**Вывод**"
   ]
  },
  {
   "cell_type": "markdown",
   "metadata": {},
   "source": [
    "Цели кредита влияют на возврат кредита в срок не значительно.\n",
    "\n",
    "В этой группировке более рискованные цели оказались образование и покупка автомобиля, в них процент должников выше среднего. В то время как среди тех, кто брал кредит на недвижимость и свадьбы, клиенты выполняли свои обязательства лучше."
   ]
  },
  {
   "cell_type": "markdown",
   "metadata": {},
   "source": [
    "Проверим разброс должников по возрастам."
   ]
  },
  {
   "cell_type": "markdown",
   "metadata": {},
   "source": [
    "Рассчитаем процент клиентов, которые задерживали выплаты по кредиту, поделим количество кредитов с задержками на общее количество и расчитаем процент по категориям."
   ]
  },
  {
   "cell_type": "code",
   "execution_count": 91,
   "metadata": {},
   "outputs": [
    {
     "data": {
      "text/html": [
       "<div>\n",
       "<style scoped>\n",
       "    .dataframe tbody tr th:only-of-type {\n",
       "        vertical-align: middle;\n",
       "    }\n",
       "\n",
       "    .dataframe tbody tr th {\n",
       "        vertical-align: top;\n",
       "    }\n",
       "\n",
       "    .dataframe thead th {\n",
       "        text-align: right;\n",
       "    }\n",
       "</style>\n",
       "<table border=\"1\" class=\"dataframe\">\n",
       "  <thead>\n",
       "    <tr style=\"text-align: right;\">\n",
       "      <th></th>\n",
       "      <th>len</th>\n",
       "      <th>sum</th>\n",
       "      <th>debt_rate</th>\n",
       "      <th>debt_rate_percent</th>\n",
       "    </tr>\n",
       "    <tr>\n",
       "      <th>dob_years_group</th>\n",
       "      <th></th>\n",
       "      <th></th>\n",
       "      <th></th>\n",
       "      <th></th>\n",
       "    </tr>\n",
       "  </thead>\n",
       "  <tbody>\n",
       "    <tr>\n",
       "      <td>до 25 лет</td>\n",
       "      <td>871</td>\n",
       "      <td>88</td>\n",
       "      <td>0.101033</td>\n",
       "      <td>10.1%</td>\n",
       "    </tr>\n",
       "    <tr>\n",
       "      <td>25 - 45 лет</td>\n",
       "      <td>10763</td>\n",
       "      <td>1032</td>\n",
       "      <td>0.095884</td>\n",
       "      <td>9.6%</td>\n",
       "    </tr>\n",
       "    <tr>\n",
       "      <td>45 - 65 лет</td>\n",
       "      <td>8704</td>\n",
       "      <td>555</td>\n",
       "      <td>0.063764</td>\n",
       "      <td>6.4%</td>\n",
       "    </tr>\n",
       "    <tr>\n",
       "      <td>старше 65 лет</td>\n",
       "      <td>893</td>\n",
       "      <td>49</td>\n",
       "      <td>0.054871</td>\n",
       "      <td>5.5%</td>\n",
       "    </tr>\n",
       "  </tbody>\n",
       "</table>\n",
       "</div>"
      ],
      "text/plain": [
       "                   len   sum  debt_rate debt_rate_percent\n",
       "dob_years_group                                          \n",
       "до 25 лет          871    88   0.101033             10.1%\n",
       "25 - 45 лет      10763  1032   0.095884              9.6%\n",
       "45 - 65 лет       8704   555   0.063764              6.4%\n",
       "старше 65 лет      893    49   0.054871              5.5%"
      ]
     },
     "execution_count": 91,
     "metadata": {},
     "output_type": "execute_result"
    }
   ],
   "source": [
    "dob_years_group_pivot = data.pivot_table(index=['dob_years_group'], values='debt',\n",
    "                                  aggfunc={\n",
    "                                    'debt': [len,  sum]\n",
    "                                  })\n",
    "dob_years_group_pivot['debt_rate'] = (dob_years_group_pivot['sum']/dob_years_group_pivot['len'])\n",
    "dob_years_group_pivot['debt_rate_percent'] = (dob_years_group_pivot['sum']/dob_years_group_pivot['len']).map('{:,.1%}'.format)\n",
    "dob_years_group_pivot.sort_values(by='debt_rate',  ascending=False)"
   ]
  },
  {
   "cell_type": "markdown",
   "metadata": {},
   "source": [
    "Здесь мы можем увидеть заметную разницу. Люди старшего возраста почти в 2 раза реже задерживают выплату по сравнению с молодёжью."
   ]
  },
  {
   "cell_type": "markdown",
   "metadata": {},
   "source": [
    "## Общий вывод"
   ]
  },
  {
   "cell_type": "markdown",
   "metadata": {},
   "source": [
    "В целом сравнения показали, что зависимость по перечисленным характеристикам не значительная, процент  должников колеблется в пределах 3 единиц. За ориентир был взят средний процент проблемных кредитов - 8,1%.\n",
    "\n",
    "Есть ли зависимость между наличием детей и возвратом кредита в срок?\n",
    "    Бездетные в среднем лучше возвращают кредит, чем имеющие детей.\n",
    "    \n",
    "Есть ли зависимость между семейным положением и возвратом кредита в срок?\n",
    "    Клиенты не состоящие в браке, или живущие в гражданском браке в среднем хуже возвращают долги.\n",
    "    \n",
    "Есть ли зависимость между уровнем дохода и возвратом кредита в срок?\n",
    "    Клиенты с доходами более 250 тыс., а также с доходами менее 50 тыс. относятся к возврату кредитов аккуратнее.\n",
    "    \n",
    "Как разные цели кредита влияют на его возврат в срок? \n",
    "    Кредиты на образование и автокредиты чаще возвращают с задержками.\n",
    "    \n",
    "\n",
    "Дополнительное детализирование целей кредитования не принесло интересных результатов. Кредиты на образование и на высшее образование имеют одинаковые показатели, также в недвижимости и автомобилях.\n",
    "\n",
    "\n",
    "Дополнительная выборка должников по возрастам, показала, что люди старшего в среднем чаще возвращают кредиты в срок. Возможно, для более контрастных результатов следует провести более детальное исследование с использованием возрастных групп."
   ]
  }
 ],
 "metadata": {
  "kernelspec": {
   "display_name": "Python 3 (ipykernel)",
   "language": "python",
   "name": "python3"
  },
  "language_info": {
   "codemirror_mode": {
    "name": "ipython",
    "version": 3
   },
   "file_extension": ".py",
   "mimetype": "text/x-python",
   "name": "python",
   "nbconvert_exporter": "python",
   "pygments_lexer": "ipython3",
   "version": "3.9.1"
  },
  "toc": {
   "base_numbering": 1,
   "nav_menu": {},
   "number_sections": true,
   "sideBar": true,
   "skip_h1_title": true,
   "title_cell": "Table of Contents",
   "title_sidebar": "Contents",
   "toc_cell": false,
   "toc_position": {},
   "toc_section_display": true,
   "toc_window_display": true
  }
 },
 "nbformat": 4,
 "nbformat_minor": 2
}
