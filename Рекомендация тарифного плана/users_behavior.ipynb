{
 "cells": [
  {
   "cell_type": "markdown",
   "metadata": {},
   "source": [
    "# Рекомендация тарифов"
   ]
  },
  {
   "cell_type": "markdown",
   "metadata": {},
   "source": [
    "Нужно построить модель для задачи классификации с максимально большим значением *accuracy* (не менее 0.75), которая выберет подходящий тариф на основе данных клиентов, которые уже выбрали эти тарифы."
   ]
  },
  {
   "cell_type": "markdown",
   "metadata": {},
   "source": [
    "## Общая информация"
   ]
  },
  {
   "cell_type": "code",
   "execution_count": 1,
   "metadata": {
    "collapsed": true
   },
   "outputs": [],
   "source": [
    "import pandas as pd"
   ]
  },
  {
   "cell_type": "code",
   "execution_count": 2,
   "metadata": {},
   "outputs": [],
   "source": [
    "df = pd.read_csv('/datasets/users_behavior.csv')"
   ]
  },
  {
   "cell_type": "code",
   "execution_count": 3,
   "metadata": {},
   "outputs": [
    {
     "data": {
      "text/html": [
       "<div>\n",
       "<style scoped>\n",
       "    .dataframe tbody tr th:only-of-type {\n",
       "        vertical-align: middle;\n",
       "    }\n",
       "\n",
       "    .dataframe tbody tr th {\n",
       "        vertical-align: top;\n",
       "    }\n",
       "\n",
       "    .dataframe thead th {\n",
       "        text-align: right;\n",
       "    }\n",
       "</style>\n",
       "<table border=\"1\" class=\"dataframe\">\n",
       "  <thead>\n",
       "    <tr style=\"text-align: right;\">\n",
       "      <th></th>\n",
       "      <th>calls</th>\n",
       "      <th>minutes</th>\n",
       "      <th>messages</th>\n",
       "      <th>mb_used</th>\n",
       "      <th>is_ultra</th>\n",
       "    </tr>\n",
       "  </thead>\n",
       "  <tbody>\n",
       "    <tr>\n",
       "      <td>0</td>\n",
       "      <td>40.0</td>\n",
       "      <td>311.90</td>\n",
       "      <td>83.0</td>\n",
       "      <td>19915.42</td>\n",
       "      <td>0</td>\n",
       "    </tr>\n",
       "    <tr>\n",
       "      <td>1</td>\n",
       "      <td>85.0</td>\n",
       "      <td>516.75</td>\n",
       "      <td>56.0</td>\n",
       "      <td>22696.96</td>\n",
       "      <td>0</td>\n",
       "    </tr>\n",
       "    <tr>\n",
       "      <td>2</td>\n",
       "      <td>77.0</td>\n",
       "      <td>467.66</td>\n",
       "      <td>86.0</td>\n",
       "      <td>21060.45</td>\n",
       "      <td>0</td>\n",
       "    </tr>\n",
       "    <tr>\n",
       "      <td>3</td>\n",
       "      <td>106.0</td>\n",
       "      <td>745.53</td>\n",
       "      <td>81.0</td>\n",
       "      <td>8437.39</td>\n",
       "      <td>1</td>\n",
       "    </tr>\n",
       "    <tr>\n",
       "      <td>4</td>\n",
       "      <td>66.0</td>\n",
       "      <td>418.74</td>\n",
       "      <td>1.0</td>\n",
       "      <td>14502.75</td>\n",
       "      <td>0</td>\n",
       "    </tr>\n",
       "  </tbody>\n",
       "</table>\n",
       "</div>"
      ],
      "text/plain": [
       "   calls  minutes  messages   mb_used  is_ultra\n",
       "0   40.0   311.90      83.0  19915.42         0\n",
       "1   85.0   516.75      56.0  22696.96         0\n",
       "2   77.0   467.66      86.0  21060.45         0\n",
       "3  106.0   745.53      81.0   8437.39         1\n",
       "4   66.0   418.74       1.0  14502.75         0"
      ]
     },
     "execution_count": 3,
     "metadata": {},
     "output_type": "execute_result"
    }
   ],
   "source": [
    "df.head()"
   ]
  },
  {
   "cell_type": "markdown",
   "metadata": {},
   "source": [
    "В таблице целевой признак - это категориальный признак тарифа **is_ultra**"
   ]
  },
  {
   "cell_type": "markdown",
   "metadata": {},
   "source": [
    "## Разбиение данных на выборки"
   ]
  },
  {
   "cell_type": "code",
   "execution_count": 4,
   "metadata": {},
   "outputs": [],
   "source": [
    "from sklearn.model_selection import train_test_split\n",
    "import warnings\n",
    "warnings.filterwarnings(\"ignore\", category=FutureWarning)"
   ]
  },
  {
   "cell_type": "code",
   "execution_count": 5,
   "metadata": {},
   "outputs": [
    {
     "data": {
      "text/plain": [
       "3214"
      ]
     },
     "execution_count": 5,
     "metadata": {},
     "output_type": "execute_result"
    }
   ],
   "source": [
    "len(df)"
   ]
  },
  {
   "cell_type": "markdown",
   "metadata": {},
   "source": [
    "Выберем 20% записей для тестовой выборки."
   ]
  },
  {
   "cell_type": "code",
   "execution_count": 6,
   "metadata": {},
   "outputs": [],
   "source": [
    "df_test = df.sample(frac=0.2, random_state=42)"
   ]
  },
  {
   "cell_type": "code",
   "execution_count": 7,
   "metadata": {},
   "outputs": [
    {
     "data": {
      "text/plain": [
       "643"
      ]
     },
     "execution_count": 7,
     "metadata": {},
     "output_type": "execute_result"
    }
   ],
   "source": [
    "len(df_test)"
   ]
  },
  {
   "cell_type": "markdown",
   "metadata": {},
   "source": [
    "Соберём оставшиеся записи"
   ]
  },
  {
   "cell_type": "code",
   "execution_count": 8,
   "metadata": {},
   "outputs": [],
   "source": [
    "df_train_valid  = df[~df.index.isin(df_test.index)]"
   ]
  },
  {
   "cell_type": "code",
   "execution_count": 9,
   "metadata": {},
   "outputs": [
    {
     "data": {
      "text/plain": [
       "2571"
      ]
     },
     "execution_count": 9,
     "metadata": {},
     "output_type": "execute_result"
    }
   ],
   "source": [
    "len(df_train_valid)"
   ]
  },
  {
   "cell_type": "markdown",
   "metadata": {},
   "source": [
    "Поделим оставшуюся часть на тренировочную и валидационную в соотношении 3 к 1."
   ]
  },
  {
   "cell_type": "code",
   "execution_count": 10,
   "metadata": {},
   "outputs": [],
   "source": [
    "df_train, df_valid = train_test_split(df_train_valid, test_size=0.25, random_state=42)"
   ]
  },
  {
   "cell_type": "markdown",
   "metadata": {},
   "source": [
    "Проверим количество зависей"
   ]
  },
  {
   "cell_type": "code",
   "execution_count": 11,
   "metadata": {},
   "outputs": [
    {
     "data": {
      "text/plain": [
       "1928"
      ]
     },
     "execution_count": 11,
     "metadata": {},
     "output_type": "execute_result"
    }
   ],
   "source": [
    "len(df_train)"
   ]
  },
  {
   "cell_type": "code",
   "execution_count": 12,
   "metadata": {},
   "outputs": [
    {
     "data": {
      "text/plain": [
       "643"
      ]
     },
     "execution_count": 12,
     "metadata": {},
     "output_type": "execute_result"
    }
   ],
   "source": [
    "len(df_valid)"
   ]
  },
  {
   "cell_type": "code",
   "execution_count": 13,
   "metadata": {},
   "outputs": [
    {
     "data": {
      "text/plain": [
       "2571"
      ]
     },
     "execution_count": 13,
     "metadata": {},
     "output_type": "execute_result"
    }
   ],
   "source": [
    "len(df_train) + len(df_valid)"
   ]
  },
  {
   "cell_type": "markdown",
   "metadata": {},
   "source": [
    "### Вывод"
   ]
  },
  {
   "cell_type": "markdown",
   "metadata": {},
   "source": [
    "Мы отделили 20% (643 записи) данных в тестовую выборку, оставшуюся часть поделили на обучающую (75%: 1928 записей) и проверочную (25%: 643 записи)."
   ]
  },
  {
   "cell_type": "markdown",
   "metadata": {},
   "source": [
    "## Исследование моделей"
   ]
  },
  {
   "cell_type": "markdown",
   "metadata": {},
   "source": [
    "Выделим признаки для обучения в тренировочной и валидационной выборке."
   ]
  },
  {
   "cell_type": "code",
   "execution_count": 14,
   "metadata": {},
   "outputs": [
    {
     "data": {
      "text/html": [
       "<div>\n",
       "<style scoped>\n",
       "    .dataframe tbody tr th:only-of-type {\n",
       "        vertical-align: middle;\n",
       "    }\n",
       "\n",
       "    .dataframe tbody tr th {\n",
       "        vertical-align: top;\n",
       "    }\n",
       "\n",
       "    .dataframe thead th {\n",
       "        text-align: right;\n",
       "    }\n",
       "</style>\n",
       "<table border=\"1\" class=\"dataframe\">\n",
       "  <thead>\n",
       "    <tr style=\"text-align: right;\">\n",
       "      <th></th>\n",
       "      <th>calls</th>\n",
       "      <th>minutes</th>\n",
       "      <th>messages</th>\n",
       "      <th>mb_used</th>\n",
       "    </tr>\n",
       "  </thead>\n",
       "  <tbody>\n",
       "    <tr>\n",
       "      <td>2801</td>\n",
       "      <td>34.0</td>\n",
       "      <td>279.06</td>\n",
       "      <td>83.0</td>\n",
       "      <td>13463.84</td>\n",
       "    </tr>\n",
       "    <tr>\n",
       "      <td>237</td>\n",
       "      <td>56.0</td>\n",
       "      <td>469.49</td>\n",
       "      <td>145.0</td>\n",
       "      <td>15877.65</td>\n",
       "    </tr>\n",
       "    <tr>\n",
       "      <td>566</td>\n",
       "      <td>37.0</td>\n",
       "      <td>244.58</td>\n",
       "      <td>0.0</td>\n",
       "      <td>22306.89</td>\n",
       "    </tr>\n",
       "    <tr>\n",
       "      <td>2898</td>\n",
       "      <td>65.0</td>\n",
       "      <td>387.84</td>\n",
       "      <td>0.0</td>\n",
       "      <td>17035.25</td>\n",
       "    </tr>\n",
       "    <tr>\n",
       "      <td>2318</td>\n",
       "      <td>39.0</td>\n",
       "      <td>242.87</td>\n",
       "      <td>11.0</td>\n",
       "      <td>15370.83</td>\n",
       "    </tr>\n",
       "  </tbody>\n",
       "</table>\n",
       "</div>"
      ],
      "text/plain": [
       "      calls  minutes  messages   mb_used\n",
       "2801   34.0   279.06      83.0  13463.84\n",
       "237    56.0   469.49     145.0  15877.65\n",
       "566    37.0   244.58       0.0  22306.89\n",
       "2898   65.0   387.84       0.0  17035.25\n",
       "2318   39.0   242.87      11.0  15370.83"
      ]
     },
     "execution_count": 14,
     "metadata": {},
     "output_type": "execute_result"
    }
   ],
   "source": [
    "features_train = df_train.drop(['is_ultra'], axis=1)\n",
    "features_train.head()"
   ]
  },
  {
   "cell_type": "code",
   "execution_count": 15,
   "metadata": {},
   "outputs": [
    {
     "data": {
      "text/html": [
       "<div>\n",
       "<style scoped>\n",
       "    .dataframe tbody tr th:only-of-type {\n",
       "        vertical-align: middle;\n",
       "    }\n",
       "\n",
       "    .dataframe tbody tr th {\n",
       "        vertical-align: top;\n",
       "    }\n",
       "\n",
       "    .dataframe thead th {\n",
       "        text-align: right;\n",
       "    }\n",
       "</style>\n",
       "<table border=\"1\" class=\"dataframe\">\n",
       "  <thead>\n",
       "    <tr style=\"text-align: right;\">\n",
       "      <th></th>\n",
       "      <th>calls</th>\n",
       "      <th>minutes</th>\n",
       "      <th>messages</th>\n",
       "      <th>mb_used</th>\n",
       "    </tr>\n",
       "  </thead>\n",
       "  <tbody>\n",
       "    <tr>\n",
       "      <td>1443</td>\n",
       "      <td>9.0</td>\n",
       "      <td>88.63</td>\n",
       "      <td>0.0</td>\n",
       "      <td>3390.62</td>\n",
       "    </tr>\n",
       "    <tr>\n",
       "      <td>2639</td>\n",
       "      <td>68.0</td>\n",
       "      <td>523.56</td>\n",
       "      <td>14.0</td>\n",
       "      <td>18910.66</td>\n",
       "    </tr>\n",
       "    <tr>\n",
       "      <td>3108</td>\n",
       "      <td>52.0</td>\n",
       "      <td>337.17</td>\n",
       "      <td>11.0</td>\n",
       "      <td>13400.40</td>\n",
       "    </tr>\n",
       "    <tr>\n",
       "      <td>490</td>\n",
       "      <td>56.0</td>\n",
       "      <td>334.29</td>\n",
       "      <td>82.0</td>\n",
       "      <td>21969.01</td>\n",
       "    </tr>\n",
       "    <tr>\n",
       "      <td>2235</td>\n",
       "      <td>49.0</td>\n",
       "      <td>390.87</td>\n",
       "      <td>69.0</td>\n",
       "      <td>15413.90</td>\n",
       "    </tr>\n",
       "  </tbody>\n",
       "</table>\n",
       "</div>"
      ],
      "text/plain": [
       "      calls  minutes  messages   mb_used\n",
       "1443    9.0    88.63       0.0   3390.62\n",
       "2639   68.0   523.56      14.0  18910.66\n",
       "3108   52.0   337.17      11.0  13400.40\n",
       "490    56.0   334.29      82.0  21969.01\n",
       "2235   49.0   390.87      69.0  15413.90"
      ]
     },
     "execution_count": 15,
     "metadata": {},
     "output_type": "execute_result"
    }
   ],
   "source": [
    "features_valid = df_valid.drop(['is_ultra'], axis=1)\n",
    "features_valid.head()"
   ]
  },
  {
   "cell_type": "markdown",
   "metadata": {},
   "source": [
    "Выделим также целевые признаки"
   ]
  },
  {
   "cell_type": "code",
   "execution_count": 16,
   "metadata": {},
   "outputs": [],
   "source": [
    "target_train = df_train['is_ultra']\n",
    "target_valid = df_valid['is_ultra']"
   ]
  },
  {
   "cell_type": "code",
   "execution_count": 17,
   "metadata": {},
   "outputs": [
    {
     "data": {
      "text/plain": [
       "2801    0\n",
       "237     1\n",
       "566     0\n",
       "2898    0\n",
       "2318    0\n",
       "Name: is_ultra, dtype: int64"
      ]
     },
     "execution_count": 17,
     "metadata": {},
     "output_type": "execute_result"
    }
   ],
   "source": [
    "target_train.head()"
   ]
  },
  {
   "cell_type": "code",
   "execution_count": 18,
   "metadata": {},
   "outputs": [
    {
     "data": {
      "text/plain": [
       "1443    0\n",
       "2639    0\n",
       "3108    0\n",
       "490     0\n",
       "2235    0\n",
       "Name: is_ultra, dtype: int64"
      ]
     },
     "execution_count": 18,
     "metadata": {},
     "output_type": "execute_result"
    }
   ],
   "source": [
    "target_valid.head()"
   ]
  },
  {
   "cell_type": "code",
   "execution_count": 19,
   "metadata": {},
   "outputs": [],
   "source": [
    "from sklearn.linear_model import LogisticRegression\n",
    "from sklearn.tree import DecisionTreeClassifier\n",
    "from sklearn.ensemble import RandomForestClassifier\n",
    "from sklearn.tree import DecisionTreeClassifier\n",
    "from sklearn.ensemble import BaggingClassifier\n",
    "from sklearn.ensemble import AdaBoostClassifier\n",
    "from sklearn.metrics import accuracy_score"
   ]
  },
  {
   "cell_type": "markdown",
   "metadata": {},
   "source": [
    "Сформируем таблицу с резултатами валидации моделей, чтобы сравнить."
   ]
  },
  {
   "cell_type": "code",
   "execution_count": 20,
   "metadata": {},
   "outputs": [],
   "source": [
    "model_results = []"
   ]
  },
  {
   "cell_type": "markdown",
   "metadata": {},
   "source": [
    "Создадим функцию для подсчёта качества модели."
   ]
  },
  {
   "cell_type": "code",
   "execution_count": 21,
   "metadata": {},
   "outputs": [],
   "source": [
    "def get_model_score(model, features_train, target_train, features_valid, target_valid):\n",
    "    result = None\n",
    "    model.fit(features_train, target_train)\n",
    "    predictions_valid = model.predict(features_valid)\n",
    "    result = accuracy_score(target_valid, predictions_valid)\n",
    "    return result"
   ]
  },
  {
   "cell_type": "markdown",
   "metadata": {},
   "source": [
    "Напишем функцию для определения на ходу модели с лучшим значением качества"
   ]
  },
  {
   "cell_type": "code",
   "execution_count": 22,
   "metadata": {},
   "outputs": [],
   "source": [
    "def check_best_model(cur_model, cur_score, compare_model, compare_score):\n",
    "    best_score = cur_score\n",
    "    best_model = cur_model\n",
    "    if compare_score > cur_score:\n",
    "        best_score = compare_score\n",
    "        best_model = compare_model\n",
    "    return best_model, best_score\n",
    "    \n",
    "        "
   ]
  },
  {
   "cell_type": "markdown",
   "metadata": {},
   "source": [
    "Функция выбора данных по заданной модели в отсортированном виде."
   ]
  },
  {
   "cell_type": "code",
   "execution_count": 23,
   "metadata": {},
   "outputs": [],
   "source": [
    "def get_model_results(model_name=None):\n",
    "    results = pd.DataFrame(model_results, columns=['model', 'score', 'n_estimators', 'max_depth', 'min_samples_split', 'min_samples_leaf'])\n",
    "    if (model_name != None):\n",
    "        results = results[results['model']==model_name]\n",
    "    return results.sort_values(\n",
    "        by=['score', 'n_estimators', 'max_depth', 'min_samples_split', 'min_samples_leaf'], ascending=[False, True, True, True, True])"
   ]
  },
  {
   "cell_type": "markdown",
   "metadata": {},
   "source": [
    "Зададим диапазоны перебора гиперпараметров."
   ]
  },
  {
   "cell_type": "code",
   "execution_count": 24,
   "metadata": {},
   "outputs": [],
   "source": [
    "max_depth_range = range(1, 11)\n",
    "n_estimators_range = range(1, 101, 5)\n",
    "min_samples_split_range = range(2, 75, 5)\n",
    "min_samples_leaf_range = range(1, 75, 5)"
   ]
  },
  {
   "cell_type": "markdown",
   "metadata": {},
   "source": [
    "Проверим модели методом перебора гиперпараметров и соберём данные в общую таблицу."
   ]
  },
  {
   "cell_type": "code",
   "execution_count": 25,
   "metadata": {},
   "outputs": [],
   "source": [
    "best_model = None\n",
    "best_score = 0"
   ]
  },
  {
   "cell_type": "markdown",
   "metadata": {},
   "source": [
    "### LogisticRegression"
   ]
  },
  {
   "cell_type": "code",
   "execution_count": 26,
   "metadata": {},
   "outputs": [],
   "source": [
    "best_model_lr = None\n",
    "best_score_lr = 0"
   ]
  },
  {
   "cell_type": "code",
   "execution_count": 27,
   "metadata": {},
   "outputs": [],
   "source": [
    "model = LogisticRegression(random_state=42)"
   ]
  },
  {
   "cell_type": "code",
   "execution_count": 28,
   "metadata": {},
   "outputs": [],
   "source": [
    "score = get_model_score(model, features_train, target_train, features_valid, target_valid)"
   ]
  },
  {
   "cell_type": "code",
   "execution_count": 29,
   "metadata": {},
   "outputs": [],
   "source": [
    "best_model, best_score = check_best_model(best_model, best_score, model, score)\n",
    "best_model_lr, best_score_lr = check_best_model(best_model_lr, best_score_lr, model, score)"
   ]
  },
  {
   "cell_type": "code",
   "execution_count": 30,
   "metadata": {},
   "outputs": [],
   "source": [
    "model_results.append(['LogisticRegression', score, None, None, None, None])"
   ]
  },
  {
   "cell_type": "code",
   "execution_count": 31,
   "metadata": {},
   "outputs": [
    {
     "data": {
      "text/html": [
       "<div>\n",
       "<style scoped>\n",
       "    .dataframe tbody tr th:only-of-type {\n",
       "        vertical-align: middle;\n",
       "    }\n",
       "\n",
       "    .dataframe tbody tr th {\n",
       "        vertical-align: top;\n",
       "    }\n",
       "\n",
       "    .dataframe thead th {\n",
       "        text-align: right;\n",
       "    }\n",
       "</style>\n",
       "<table border=\"1\" class=\"dataframe\">\n",
       "  <thead>\n",
       "    <tr style=\"text-align: right;\">\n",
       "      <th></th>\n",
       "      <th>model</th>\n",
       "      <th>score</th>\n",
       "      <th>n_estimators</th>\n",
       "      <th>max_depth</th>\n",
       "      <th>min_samples_split</th>\n",
       "      <th>min_samples_leaf</th>\n",
       "    </tr>\n",
       "  </thead>\n",
       "  <tbody>\n",
       "    <tr>\n",
       "      <td>0</td>\n",
       "      <td>LogisticRegression</td>\n",
       "      <td>0.7014</td>\n",
       "      <td>None</td>\n",
       "      <td>None</td>\n",
       "      <td>None</td>\n",
       "      <td>None</td>\n",
       "    </tr>\n",
       "  </tbody>\n",
       "</table>\n",
       "</div>"
      ],
      "text/plain": [
       "                model   score n_estimators max_depth min_samples_split  \\\n",
       "0  LogisticRegression  0.7014         None      None              None   \n",
       "\n",
       "  min_samples_leaf  \n",
       "0             None  "
      ]
     },
     "execution_count": 31,
     "metadata": {},
     "output_type": "execute_result"
    }
   ],
   "source": [
    "get_model_results('LogisticRegression')"
   ]
  },
  {
   "cell_type": "markdown",
   "metadata": {},
   "source": [
    "### BaggingClassifier"
   ]
  },
  {
   "cell_type": "code",
   "execution_count": 32,
   "metadata": {},
   "outputs": [],
   "source": [
    "best_model_bc = None\n",
    "best_score_bc = 0"
   ]
  },
  {
   "cell_type": "code",
   "execution_count": 33,
   "metadata": {},
   "outputs": [],
   "source": [
    "for n_estimators in n_estimators_range:\n",
    "    model = BaggingClassifier(random_state=42, n_estimators=n_estimators)\n",
    "    score = get_model_score(model, features_train, target_train, features_valid, target_valid)\n",
    "    best_model, best_score = check_best_model(best_model, best_score, model, score)\n",
    "    best_model_bc, best_score_bc = check_best_model(best_model_bc, best_score_bc, model, score)\n",
    "    model_results.append(\n",
    "        ['BaggingClassifier', score, n_estimators, None, None, None])"
   ]
  },
  {
   "cell_type": "code",
   "execution_count": 34,
   "metadata": {},
   "outputs": [
    {
     "data": {
      "text/html": [
       "<div>\n",
       "<style scoped>\n",
       "    .dataframe tbody tr th:only-of-type {\n",
       "        vertical-align: middle;\n",
       "    }\n",
       "\n",
       "    .dataframe tbody tr th {\n",
       "        vertical-align: top;\n",
       "    }\n",
       "\n",
       "    .dataframe thead th {\n",
       "        text-align: right;\n",
       "    }\n",
       "</style>\n",
       "<table border=\"1\" class=\"dataframe\">\n",
       "  <thead>\n",
       "    <tr style=\"text-align: right;\">\n",
       "      <th></th>\n",
       "      <th>model</th>\n",
       "      <th>score</th>\n",
       "      <th>n_estimators</th>\n",
       "      <th>max_depth</th>\n",
       "      <th>min_samples_split</th>\n",
       "      <th>min_samples_leaf</th>\n",
       "    </tr>\n",
       "  </thead>\n",
       "  <tbody>\n",
       "    <tr>\n",
       "      <td>6</td>\n",
       "      <td>BaggingClassifier</td>\n",
       "      <td>0.802488</td>\n",
       "      <td>26.0</td>\n",
       "      <td>None</td>\n",
       "      <td>None</td>\n",
       "      <td>None</td>\n",
       "    </tr>\n",
       "    <tr>\n",
       "      <td>12</td>\n",
       "      <td>BaggingClassifier</td>\n",
       "      <td>0.799378</td>\n",
       "      <td>56.0</td>\n",
       "      <td>None</td>\n",
       "      <td>None</td>\n",
       "      <td>None</td>\n",
       "    </tr>\n",
       "    <tr>\n",
       "      <td>8</td>\n",
       "      <td>BaggingClassifier</td>\n",
       "      <td>0.797823</td>\n",
       "      <td>36.0</td>\n",
       "      <td>None</td>\n",
       "      <td>None</td>\n",
       "      <td>None</td>\n",
       "    </tr>\n",
       "    <tr>\n",
       "      <td>3</td>\n",
       "      <td>BaggingClassifier</td>\n",
       "      <td>0.794712</td>\n",
       "      <td>11.0</td>\n",
       "      <td>None</td>\n",
       "      <td>None</td>\n",
       "      <td>None</td>\n",
       "    </tr>\n",
       "    <tr>\n",
       "      <td>4</td>\n",
       "      <td>BaggingClassifier</td>\n",
       "      <td>0.794712</td>\n",
       "      <td>16.0</td>\n",
       "      <td>None</td>\n",
       "      <td>None</td>\n",
       "      <td>None</td>\n",
       "    </tr>\n",
       "    <tr>\n",
       "      <td>5</td>\n",
       "      <td>BaggingClassifier</td>\n",
       "      <td>0.794712</td>\n",
       "      <td>21.0</td>\n",
       "      <td>None</td>\n",
       "      <td>None</td>\n",
       "      <td>None</td>\n",
       "    </tr>\n",
       "    <tr>\n",
       "      <td>13</td>\n",
       "      <td>BaggingClassifier</td>\n",
       "      <td>0.794712</td>\n",
       "      <td>61.0</td>\n",
       "      <td>None</td>\n",
       "      <td>None</td>\n",
       "      <td>None</td>\n",
       "    </tr>\n",
       "    <tr>\n",
       "      <td>14</td>\n",
       "      <td>BaggingClassifier</td>\n",
       "      <td>0.794712</td>\n",
       "      <td>66.0</td>\n",
       "      <td>None</td>\n",
       "      <td>None</td>\n",
       "      <td>None</td>\n",
       "    </tr>\n",
       "    <tr>\n",
       "      <td>7</td>\n",
       "      <td>BaggingClassifier</td>\n",
       "      <td>0.793157</td>\n",
       "      <td>31.0</td>\n",
       "      <td>None</td>\n",
       "      <td>None</td>\n",
       "      <td>None</td>\n",
       "    </tr>\n",
       "    <tr>\n",
       "      <td>9</td>\n",
       "      <td>BaggingClassifier</td>\n",
       "      <td>0.793157</td>\n",
       "      <td>41.0</td>\n",
       "      <td>None</td>\n",
       "      <td>None</td>\n",
       "      <td>None</td>\n",
       "    </tr>\n",
       "  </tbody>\n",
       "</table>\n",
       "</div>"
      ],
      "text/plain": [
       "                model     score  n_estimators max_depth min_samples_split  \\\n",
       "6   BaggingClassifier  0.802488          26.0      None              None   \n",
       "12  BaggingClassifier  0.799378          56.0      None              None   \n",
       "8   BaggingClassifier  0.797823          36.0      None              None   \n",
       "3   BaggingClassifier  0.794712          11.0      None              None   \n",
       "4   BaggingClassifier  0.794712          16.0      None              None   \n",
       "5   BaggingClassifier  0.794712          21.0      None              None   \n",
       "13  BaggingClassifier  0.794712          61.0      None              None   \n",
       "14  BaggingClassifier  0.794712          66.0      None              None   \n",
       "7   BaggingClassifier  0.793157          31.0      None              None   \n",
       "9   BaggingClassifier  0.793157          41.0      None              None   \n",
       "\n",
       "   min_samples_leaf  \n",
       "6              None  \n",
       "12             None  \n",
       "8              None  \n",
       "3              None  \n",
       "4              None  \n",
       "5              None  \n",
       "13             None  \n",
       "14             None  \n",
       "7              None  \n",
       "9              None  "
      ]
     },
     "execution_count": 34,
     "metadata": {},
     "output_type": "execute_result"
    }
   ],
   "source": [
    "get_model_results('BaggingClassifier').head(10)"
   ]
  },
  {
   "cell_type": "markdown",
   "metadata": {},
   "source": [
    "### AdaBoostClassifier"
   ]
  },
  {
   "cell_type": "code",
   "execution_count": 35,
   "metadata": {},
   "outputs": [],
   "source": [
    "best_model_abc = None\n",
    "best_score_abc = 0"
   ]
  },
  {
   "cell_type": "code",
   "execution_count": 36,
   "metadata": {},
   "outputs": [],
   "source": [
    "for n_estimators in n_estimators_range:\n",
    "    model = AdaBoostClassifier(random_state=42, n_estimators=n_estimators)\n",
    "    score = get_model_score(model, features_train, target_train, features_valid, target_valid)\n",
    "    best_model, best_score = check_best_model(best_model, best_score, model, score)\n",
    "    best_model_abc, best_score_abc = check_best_model(best_model_abc, best_score_abc, model, score)\n",
    "    model_results.append(\n",
    "        ['AdaBoostClassifier', score, n_estimators, None, None, None])"
   ]
  },
  {
   "cell_type": "code",
   "execution_count": 37,
   "metadata": {},
   "outputs": [
    {
     "data": {
      "text/html": [
       "<div>\n",
       "<style scoped>\n",
       "    .dataframe tbody tr th:only-of-type {\n",
       "        vertical-align: middle;\n",
       "    }\n",
       "\n",
       "    .dataframe tbody tr th {\n",
       "        vertical-align: top;\n",
       "    }\n",
       "\n",
       "    .dataframe thead th {\n",
       "        text-align: right;\n",
       "    }\n",
       "</style>\n",
       "<table border=\"1\" class=\"dataframe\">\n",
       "  <thead>\n",
       "    <tr style=\"text-align: right;\">\n",
       "      <th></th>\n",
       "      <th>model</th>\n",
       "      <th>score</th>\n",
       "      <th>n_estimators</th>\n",
       "      <th>max_depth</th>\n",
       "      <th>min_samples_split</th>\n",
       "      <th>min_samples_leaf</th>\n",
       "    </tr>\n",
       "  </thead>\n",
       "  <tbody>\n",
       "    <tr>\n",
       "      <td>22</td>\n",
       "      <td>AdaBoostClassifier</td>\n",
       "      <td>0.805599</td>\n",
       "      <td>6.0</td>\n",
       "      <td>None</td>\n",
       "      <td>None</td>\n",
       "      <td>None</td>\n",
       "    </tr>\n",
       "    <tr>\n",
       "      <td>25</td>\n",
       "      <td>AdaBoostClassifier</td>\n",
       "      <td>0.802488</td>\n",
       "      <td>21.0</td>\n",
       "      <td>None</td>\n",
       "      <td>None</td>\n",
       "      <td>None</td>\n",
       "    </tr>\n",
       "    <tr>\n",
       "      <td>26</td>\n",
       "      <td>AdaBoostClassifier</td>\n",
       "      <td>0.802488</td>\n",
       "      <td>26.0</td>\n",
       "      <td>None</td>\n",
       "      <td>None</td>\n",
       "      <td>None</td>\n",
       "    </tr>\n",
       "    <tr>\n",
       "      <td>27</td>\n",
       "      <td>AdaBoostClassifier</td>\n",
       "      <td>0.797823</td>\n",
       "      <td>31.0</td>\n",
       "      <td>None</td>\n",
       "      <td>None</td>\n",
       "      <td>None</td>\n",
       "    </tr>\n",
       "    <tr>\n",
       "      <td>28</td>\n",
       "      <td>AdaBoostClassifier</td>\n",
       "      <td>0.797823</td>\n",
       "      <td>36.0</td>\n",
       "      <td>None</td>\n",
       "      <td>None</td>\n",
       "      <td>None</td>\n",
       "    </tr>\n",
       "    <tr>\n",
       "      <td>24</td>\n",
       "      <td>AdaBoostClassifier</td>\n",
       "      <td>0.796267</td>\n",
       "      <td>16.0</td>\n",
       "      <td>None</td>\n",
       "      <td>None</td>\n",
       "      <td>None</td>\n",
       "    </tr>\n",
       "    <tr>\n",
       "      <td>23</td>\n",
       "      <td>AdaBoostClassifier</td>\n",
       "      <td>0.793157</td>\n",
       "      <td>11.0</td>\n",
       "      <td>None</td>\n",
       "      <td>None</td>\n",
       "      <td>None</td>\n",
       "    </tr>\n",
       "    <tr>\n",
       "      <td>29</td>\n",
       "      <td>AdaBoostClassifier</td>\n",
       "      <td>0.793157</td>\n",
       "      <td>41.0</td>\n",
       "      <td>None</td>\n",
       "      <td>None</td>\n",
       "      <td>None</td>\n",
       "    </tr>\n",
       "    <tr>\n",
       "      <td>35</td>\n",
       "      <td>AdaBoostClassifier</td>\n",
       "      <td>0.793157</td>\n",
       "      <td>71.0</td>\n",
       "      <td>None</td>\n",
       "      <td>None</td>\n",
       "      <td>None</td>\n",
       "    </tr>\n",
       "    <tr>\n",
       "      <td>30</td>\n",
       "      <td>AdaBoostClassifier</td>\n",
       "      <td>0.791602</td>\n",
       "      <td>46.0</td>\n",
       "      <td>None</td>\n",
       "      <td>None</td>\n",
       "      <td>None</td>\n",
       "    </tr>\n",
       "  </tbody>\n",
       "</table>\n",
       "</div>"
      ],
      "text/plain": [
       "                 model     score  n_estimators max_depth min_samples_split  \\\n",
       "22  AdaBoostClassifier  0.805599           6.0      None              None   \n",
       "25  AdaBoostClassifier  0.802488          21.0      None              None   \n",
       "26  AdaBoostClassifier  0.802488          26.0      None              None   \n",
       "27  AdaBoostClassifier  0.797823          31.0      None              None   \n",
       "28  AdaBoostClassifier  0.797823          36.0      None              None   \n",
       "24  AdaBoostClassifier  0.796267          16.0      None              None   \n",
       "23  AdaBoostClassifier  0.793157          11.0      None              None   \n",
       "29  AdaBoostClassifier  0.793157          41.0      None              None   \n",
       "35  AdaBoostClassifier  0.793157          71.0      None              None   \n",
       "30  AdaBoostClassifier  0.791602          46.0      None              None   \n",
       "\n",
       "   min_samples_leaf  \n",
       "22             None  \n",
       "25             None  \n",
       "26             None  \n",
       "27             None  \n",
       "28             None  \n",
       "24             None  \n",
       "23             None  \n",
       "29             None  \n",
       "35             None  \n",
       "30             None  "
      ]
     },
     "execution_count": 37,
     "metadata": {},
     "output_type": "execute_result"
    }
   ],
   "source": [
    "get_model_results('AdaBoostClassifier').head(10)"
   ]
  },
  {
   "cell_type": "markdown",
   "metadata": {},
   "source": [
    "### DecisionTreeClassifier"
   ]
  },
  {
   "cell_type": "code",
   "execution_count": 38,
   "metadata": {},
   "outputs": [],
   "source": [
    "best_model_dtc = None\n",
    "best_score_dtc = 0"
   ]
  },
  {
   "cell_type": "code",
   "execution_count": 39,
   "metadata": {},
   "outputs": [],
   "source": [
    "for max_depth in max_depth_range:\n",
    "    for min_samples_split in min_samples_split_range:\n",
    "        for min_samples_leaf in min_samples_leaf_range:\n",
    "            model = DecisionTreeClassifier(random_state=42, max_depth=max_depth, min_samples_split=min_samples_split, min_samples_leaf=min_samples_leaf)\n",
    "            score = get_model_score(model, features_train, target_train, features_valid, target_valid)\n",
    "            best_model, best_score = check_best_model(best_model, best_score, model, score)\n",
    "            best_model_dtc, best_score_dtc = check_best_model(best_model_dtc, best_score_dtc, model, score)\n",
    "            model_results.append(\n",
    "                ['DecisionTreeClassifier', score, None, max_depth, min_samples_split, min_samples_leaf])"
   ]
  },
  {
   "cell_type": "code",
   "execution_count": 40,
   "metadata": {},
   "outputs": [
    {
     "data": {
      "text/html": [
       "<div>\n",
       "<style scoped>\n",
       "    .dataframe tbody tr th:only-of-type {\n",
       "        vertical-align: middle;\n",
       "    }\n",
       "\n",
       "    .dataframe tbody tr th {\n",
       "        vertical-align: top;\n",
       "    }\n",
       "\n",
       "    .dataframe thead th {\n",
       "        text-align: right;\n",
       "    }\n",
       "</style>\n",
       "<table border=\"1\" class=\"dataframe\">\n",
       "  <thead>\n",
       "    <tr style=\"text-align: right;\">\n",
       "      <th></th>\n",
       "      <th>model</th>\n",
       "      <th>score</th>\n",
       "      <th>n_estimators</th>\n",
       "      <th>max_depth</th>\n",
       "      <th>min_samples_split</th>\n",
       "      <th>min_samples_leaf</th>\n",
       "    </tr>\n",
       "  </thead>\n",
       "  <tbody>\n",
       "    <tr>\n",
       "      <td>716</td>\n",
       "      <td>DecisionTreeClassifier</td>\n",
       "      <td>0.800933</td>\n",
       "      <td>NaN</td>\n",
       "      <td>4.0</td>\n",
       "      <td>2.0</td>\n",
       "      <td>1.0</td>\n",
       "    </tr>\n",
       "    <tr>\n",
       "      <td>731</td>\n",
       "      <td>DecisionTreeClassifier</td>\n",
       "      <td>0.800933</td>\n",
       "      <td>NaN</td>\n",
       "      <td>4.0</td>\n",
       "      <td>7.0</td>\n",
       "      <td>1.0</td>\n",
       "    </tr>\n",
       "    <tr>\n",
       "      <td>746</td>\n",
       "      <td>DecisionTreeClassifier</td>\n",
       "      <td>0.800933</td>\n",
       "      <td>NaN</td>\n",
       "      <td>4.0</td>\n",
       "      <td>12.0</td>\n",
       "      <td>1.0</td>\n",
       "    </tr>\n",
       "    <tr>\n",
       "      <td>761</td>\n",
       "      <td>DecisionTreeClassifier</td>\n",
       "      <td>0.800933</td>\n",
       "      <td>NaN</td>\n",
       "      <td>4.0</td>\n",
       "      <td>17.0</td>\n",
       "      <td>1.0</td>\n",
       "    </tr>\n",
       "    <tr>\n",
       "      <td>776</td>\n",
       "      <td>DecisionTreeClassifier</td>\n",
       "      <td>0.800933</td>\n",
       "      <td>NaN</td>\n",
       "      <td>4.0</td>\n",
       "      <td>22.0</td>\n",
       "      <td>1.0</td>\n",
       "    </tr>\n",
       "    <tr>\n",
       "      <td>791</td>\n",
       "      <td>DecisionTreeClassifier</td>\n",
       "      <td>0.800933</td>\n",
       "      <td>NaN</td>\n",
       "      <td>4.0</td>\n",
       "      <td>27.0</td>\n",
       "      <td>1.0</td>\n",
       "    </tr>\n",
       "    <tr>\n",
       "      <td>806</td>\n",
       "      <td>DecisionTreeClassifier</td>\n",
       "      <td>0.800933</td>\n",
       "      <td>NaN</td>\n",
       "      <td>4.0</td>\n",
       "      <td>32.0</td>\n",
       "      <td>1.0</td>\n",
       "    </tr>\n",
       "    <tr>\n",
       "      <td>821</td>\n",
       "      <td>DecisionTreeClassifier</td>\n",
       "      <td>0.800933</td>\n",
       "      <td>NaN</td>\n",
       "      <td>4.0</td>\n",
       "      <td>37.0</td>\n",
       "      <td>1.0</td>\n",
       "    </tr>\n",
       "    <tr>\n",
       "      <td>836</td>\n",
       "      <td>DecisionTreeClassifier</td>\n",
       "      <td>0.800933</td>\n",
       "      <td>NaN</td>\n",
       "      <td>4.0</td>\n",
       "      <td>42.0</td>\n",
       "      <td>1.0</td>\n",
       "    </tr>\n",
       "    <tr>\n",
       "      <td>949</td>\n",
       "      <td>DecisionTreeClassifier</td>\n",
       "      <td>0.800933</td>\n",
       "      <td>NaN</td>\n",
       "      <td>5.0</td>\n",
       "      <td>2.0</td>\n",
       "      <td>41.0</td>\n",
       "    </tr>\n",
       "  </tbody>\n",
       "</table>\n",
       "</div>"
      ],
      "text/plain": [
       "                      model     score  n_estimators  max_depth  \\\n",
       "716  DecisionTreeClassifier  0.800933           NaN        4.0   \n",
       "731  DecisionTreeClassifier  0.800933           NaN        4.0   \n",
       "746  DecisionTreeClassifier  0.800933           NaN        4.0   \n",
       "761  DecisionTreeClassifier  0.800933           NaN        4.0   \n",
       "776  DecisionTreeClassifier  0.800933           NaN        4.0   \n",
       "791  DecisionTreeClassifier  0.800933           NaN        4.0   \n",
       "806  DecisionTreeClassifier  0.800933           NaN        4.0   \n",
       "821  DecisionTreeClassifier  0.800933           NaN        4.0   \n",
       "836  DecisionTreeClassifier  0.800933           NaN        4.0   \n",
       "949  DecisionTreeClassifier  0.800933           NaN        5.0   \n",
       "\n",
       "     min_samples_split  min_samples_leaf  \n",
       "716                2.0               1.0  \n",
       "731                7.0               1.0  \n",
       "746               12.0               1.0  \n",
       "761               17.0               1.0  \n",
       "776               22.0               1.0  \n",
       "791               27.0               1.0  \n",
       "806               32.0               1.0  \n",
       "821               37.0               1.0  \n",
       "836               42.0               1.0  \n",
       "949                2.0              41.0  "
      ]
     },
     "execution_count": 40,
     "metadata": {},
     "output_type": "execute_result"
    }
   ],
   "source": [
    "get_model_results('DecisionTreeClassifier').head(10)"
   ]
  },
  {
   "cell_type": "markdown",
   "metadata": {},
   "source": [
    "### RandomForestClassifier"
   ]
  },
  {
   "cell_type": "code",
   "execution_count": 41,
   "metadata": {},
   "outputs": [],
   "source": [
    "best_model_rfc = None\n",
    "best_score_rfc = 0"
   ]
  },
  {
   "cell_type": "code",
   "execution_count": 42,
   "metadata": {},
   "outputs": [],
   "source": [
    "for n_estimators in n_estimators_range:\n",
    "    model = RandomForestClassifier(random_state=42, \n",
    "                                   n_estimators=n_estimators)\n",
    "    score = get_model_score(model, features_train, target_train, features_valid, target_valid)\n",
    "    best_model, best_score = check_best_model(best_model, best_score, model, score)\n",
    "    best_model_rfc, best_score_rfc = check_best_model(best_model_rfc, best_score_rfc, model, score)\n",
    "    model_results.append(\n",
    "        ['RandomForestClassifier', score, n_estimators, None, None, None])"
   ]
  },
  {
   "cell_type": "code",
   "execution_count": 43,
   "metadata": {},
   "outputs": [
    {
     "data": {
      "text/html": [
       "<div>\n",
       "<style scoped>\n",
       "    .dataframe tbody tr th:only-of-type {\n",
       "        vertical-align: middle;\n",
       "    }\n",
       "\n",
       "    .dataframe tbody tr th {\n",
       "        vertical-align: top;\n",
       "    }\n",
       "\n",
       "    .dataframe thead th {\n",
       "        text-align: right;\n",
       "    }\n",
       "</style>\n",
       "<table border=\"1\" class=\"dataframe\">\n",
       "  <thead>\n",
       "    <tr style=\"text-align: right;\">\n",
       "      <th></th>\n",
       "      <th>model</th>\n",
       "      <th>score</th>\n",
       "      <th>n_estimators</th>\n",
       "      <th>max_depth</th>\n",
       "      <th>min_samples_split</th>\n",
       "      <th>min_samples_leaf</th>\n",
       "    </tr>\n",
       "  </thead>\n",
       "  <tbody>\n",
       "    <tr>\n",
       "      <td>2310</td>\n",
       "      <td>RandomForestClassifier</td>\n",
       "      <td>0.802488</td>\n",
       "      <td>96.0</td>\n",
       "      <td>NaN</td>\n",
       "      <td>NaN</td>\n",
       "      <td>NaN</td>\n",
       "    </tr>\n",
       "    <tr>\n",
       "      <td>2292</td>\n",
       "      <td>RandomForestClassifier</td>\n",
       "      <td>0.800933</td>\n",
       "      <td>6.0</td>\n",
       "      <td>NaN</td>\n",
       "      <td>NaN</td>\n",
       "      <td>NaN</td>\n",
       "    </tr>\n",
       "    <tr>\n",
       "      <td>2300</td>\n",
       "      <td>RandomForestClassifier</td>\n",
       "      <td>0.799378</td>\n",
       "      <td>46.0</td>\n",
       "      <td>NaN</td>\n",
       "      <td>NaN</td>\n",
       "      <td>NaN</td>\n",
       "    </tr>\n",
       "    <tr>\n",
       "      <td>2297</td>\n",
       "      <td>RandomForestClassifier</td>\n",
       "      <td>0.797823</td>\n",
       "      <td>31.0</td>\n",
       "      <td>NaN</td>\n",
       "      <td>NaN</td>\n",
       "      <td>NaN</td>\n",
       "    </tr>\n",
       "    <tr>\n",
       "      <td>2298</td>\n",
       "      <td>RandomForestClassifier</td>\n",
       "      <td>0.797823</td>\n",
       "      <td>36.0</td>\n",
       "      <td>NaN</td>\n",
       "      <td>NaN</td>\n",
       "      <td>NaN</td>\n",
       "    </tr>\n",
       "    <tr>\n",
       "      <td>2299</td>\n",
       "      <td>RandomForestClassifier</td>\n",
       "      <td>0.797823</td>\n",
       "      <td>41.0</td>\n",
       "      <td>NaN</td>\n",
       "      <td>NaN</td>\n",
       "      <td>NaN</td>\n",
       "    </tr>\n",
       "    <tr>\n",
       "      <td>2303</td>\n",
       "      <td>RandomForestClassifier</td>\n",
       "      <td>0.797823</td>\n",
       "      <td>61.0</td>\n",
       "      <td>NaN</td>\n",
       "      <td>NaN</td>\n",
       "      <td>NaN</td>\n",
       "    </tr>\n",
       "    <tr>\n",
       "      <td>2309</td>\n",
       "      <td>RandomForestClassifier</td>\n",
       "      <td>0.797823</td>\n",
       "      <td>91.0</td>\n",
       "      <td>NaN</td>\n",
       "      <td>NaN</td>\n",
       "      <td>NaN</td>\n",
       "    </tr>\n",
       "    <tr>\n",
       "      <td>2295</td>\n",
       "      <td>RandomForestClassifier</td>\n",
       "      <td>0.796267</td>\n",
       "      <td>21.0</td>\n",
       "      <td>NaN</td>\n",
       "      <td>NaN</td>\n",
       "      <td>NaN</td>\n",
       "    </tr>\n",
       "    <tr>\n",
       "      <td>2302</td>\n",
       "      <td>RandomForestClassifier</td>\n",
       "      <td>0.796267</td>\n",
       "      <td>56.0</td>\n",
       "      <td>NaN</td>\n",
       "      <td>NaN</td>\n",
       "      <td>NaN</td>\n",
       "    </tr>\n",
       "  </tbody>\n",
       "</table>\n",
       "</div>"
      ],
      "text/plain": [
       "                       model     score  n_estimators  max_depth  \\\n",
       "2310  RandomForestClassifier  0.802488          96.0        NaN   \n",
       "2292  RandomForestClassifier  0.800933           6.0        NaN   \n",
       "2300  RandomForestClassifier  0.799378          46.0        NaN   \n",
       "2297  RandomForestClassifier  0.797823          31.0        NaN   \n",
       "2298  RandomForestClassifier  0.797823          36.0        NaN   \n",
       "2299  RandomForestClassifier  0.797823          41.0        NaN   \n",
       "2303  RandomForestClassifier  0.797823          61.0        NaN   \n",
       "2309  RandomForestClassifier  0.797823          91.0        NaN   \n",
       "2295  RandomForestClassifier  0.796267          21.0        NaN   \n",
       "2302  RandomForestClassifier  0.796267          56.0        NaN   \n",
       "\n",
       "      min_samples_split  min_samples_leaf  \n",
       "2310                NaN               NaN  \n",
       "2292                NaN               NaN  \n",
       "2300                NaN               NaN  \n",
       "2297                NaN               NaN  \n",
       "2298                NaN               NaN  \n",
       "2299                NaN               NaN  \n",
       "2303                NaN               NaN  \n",
       "2309                NaN               NaN  \n",
       "2295                NaN               NaN  \n",
       "2302                NaN               NaN  "
      ]
     },
     "execution_count": 43,
     "metadata": {},
     "output_type": "execute_result"
    }
   ],
   "source": [
    "get_model_results('RandomForestClassifier').head(10)"
   ]
  },
  {
   "cell_type": "code",
   "execution_count": 44,
   "metadata": {},
   "outputs": [],
   "source": [
    "best_rfc_estimators = get_model_results('RandomForestClassifier')['n_estimators'].head(5).astype('int')"
   ]
  },
  {
   "cell_type": "markdown",
   "metadata": {},
   "source": [
    "Возьмём 5 лучших результатов для моделей, построенных на основе перебора n_estimators. Исследуем перебором другие параметры."
   ]
  },
  {
   "cell_type": "code",
   "execution_count": 45,
   "metadata": {},
   "outputs": [],
   "source": [
    "for n_estimators in best_rfc_estimators:\n",
    "    for max_depth in max_depth_range:\n",
    "        for min_samples_leaf in min_samples_leaf_range:\n",
    "            model = RandomForestClassifier(random_state=42, n_estimators=n_estimators, max_depth=max_depth, min_samples_split=min_samples_split, min_samples_leaf=min_samples_leaf)\n",
    "            score = get_model_score(model, features_train, target_train, features_valid, target_valid)\n",
    "            best_model, best_score = check_best_model(best_model, best_score, model, score)\n",
    "            best_model_rfc, best_score_rfc = check_best_model(best_model_rfc, best_score_rfc, model, score)\n",
    "            model_results.append(\n",
    "                ['RandomForestClassifier', score, n_estimators, max_depth, None, min_samples_leaf])"
   ]
  },
  {
   "cell_type": "code",
   "execution_count": 46,
   "metadata": {},
   "outputs": [],
   "source": [
    "df_model_results = get_model_results()"
   ]
  },
  {
   "cell_type": "code",
   "execution_count": 47,
   "metadata": {},
   "outputs": [
    {
     "data": {
      "text/html": [
       "<div>\n",
       "<style scoped>\n",
       "    .dataframe tbody tr th:only-of-type {\n",
       "        vertical-align: middle;\n",
       "    }\n",
       "\n",
       "    .dataframe tbody tr th {\n",
       "        vertical-align: top;\n",
       "    }\n",
       "\n",
       "    .dataframe thead th {\n",
       "        text-align: right;\n",
       "    }\n",
       "</style>\n",
       "<table border=\"1\" class=\"dataframe\">\n",
       "  <thead>\n",
       "    <tr style=\"text-align: right;\">\n",
       "      <th></th>\n",
       "      <th>model</th>\n",
       "      <th>score</th>\n",
       "      <th>n_estimators</th>\n",
       "      <th>max_depth</th>\n",
       "      <th>min_samples_split</th>\n",
       "      <th>min_samples_leaf</th>\n",
       "    </tr>\n",
       "  </thead>\n",
       "  <tbody>\n",
       "    <tr>\n",
       "      <td>2866</td>\n",
       "      <td>RandomForestClassifier</td>\n",
       "      <td>0.821151</td>\n",
       "      <td>31.0</td>\n",
       "      <td>8.0</td>\n",
       "      <td>NaN</td>\n",
       "      <td>1.0</td>\n",
       "    </tr>\n",
       "    <tr>\n",
       "      <td>3016</td>\n",
       "      <td>RandomForestClassifier</td>\n",
       "      <td>0.821151</td>\n",
       "      <td>36.0</td>\n",
       "      <td>8.0</td>\n",
       "      <td>NaN</td>\n",
       "      <td>1.0</td>\n",
       "    </tr>\n",
       "    <tr>\n",
       "      <td>3017</td>\n",
       "      <td>RandomForestClassifier</td>\n",
       "      <td>0.821151</td>\n",
       "      <td>36.0</td>\n",
       "      <td>8.0</td>\n",
       "      <td>NaN</td>\n",
       "      <td>6.0</td>\n",
       "    </tr>\n",
       "    <tr>\n",
       "      <td>2717</td>\n",
       "      <td>RandomForestClassifier</td>\n",
       "      <td>0.821151</td>\n",
       "      <td>46.0</td>\n",
       "      <td>8.0</td>\n",
       "      <td>NaN</td>\n",
       "      <td>6.0</td>\n",
       "    </tr>\n",
       "    <tr>\n",
       "      <td>2851</td>\n",
       "      <td>RandomForestClassifier</td>\n",
       "      <td>0.819596</td>\n",
       "      <td>31.0</td>\n",
       "      <td>7.0</td>\n",
       "      <td>NaN</td>\n",
       "      <td>1.0</td>\n",
       "    </tr>\n",
       "    <tr>\n",
       "      <td>...</td>\n",
       "      <td>...</td>\n",
       "      <td>...</td>\n",
       "      <td>...</td>\n",
       "      <td>...</td>\n",
       "      <td>...</td>\n",
       "      <td>...</td>\n",
       "    </tr>\n",
       "    <tr>\n",
       "      <td>2924</td>\n",
       "      <td>RandomForestClassifier</td>\n",
       "      <td>0.743390</td>\n",
       "      <td>36.0</td>\n",
       "      <td>1.0</td>\n",
       "      <td>NaN</td>\n",
       "      <td>66.0</td>\n",
       "    </tr>\n",
       "    <tr>\n",
       "      <td>2925</td>\n",
       "      <td>RandomForestClassifier</td>\n",
       "      <td>0.743390</td>\n",
       "      <td>36.0</td>\n",
       "      <td>1.0</td>\n",
       "      <td>NaN</td>\n",
       "      <td>71.0</td>\n",
       "    </tr>\n",
       "    <tr>\n",
       "      <td>2291</td>\n",
       "      <td>RandomForestClassifier</td>\n",
       "      <td>0.707621</td>\n",
       "      <td>1.0</td>\n",
       "      <td>NaN</td>\n",
       "      <td>NaN</td>\n",
       "      <td>NaN</td>\n",
       "    </tr>\n",
       "    <tr>\n",
       "      <td>0</td>\n",
       "      <td>LogisticRegression</td>\n",
       "      <td>0.701400</td>\n",
       "      <td>NaN</td>\n",
       "      <td>NaN</td>\n",
       "      <td>NaN</td>\n",
       "      <td>NaN</td>\n",
       "    </tr>\n",
       "    <tr>\n",
       "      <td>1</td>\n",
       "      <td>BaggingClassifier</td>\n",
       "      <td>0.696734</td>\n",
       "      <td>1.0</td>\n",
       "      <td>NaN</td>\n",
       "      <td>NaN</td>\n",
       "      <td>NaN</td>\n",
       "    </tr>\n",
       "  </tbody>\n",
       "</table>\n",
       "<p>3061 rows × 6 columns</p>\n",
       "</div>"
      ],
      "text/plain": [
       "                       model     score  n_estimators  max_depth  \\\n",
       "2866  RandomForestClassifier  0.821151          31.0        8.0   \n",
       "3016  RandomForestClassifier  0.821151          36.0        8.0   \n",
       "3017  RandomForestClassifier  0.821151          36.0        8.0   \n",
       "2717  RandomForestClassifier  0.821151          46.0        8.0   \n",
       "2851  RandomForestClassifier  0.819596          31.0        7.0   \n",
       "...                      ...       ...           ...        ...   \n",
       "2924  RandomForestClassifier  0.743390          36.0        1.0   \n",
       "2925  RandomForestClassifier  0.743390          36.0        1.0   \n",
       "2291  RandomForestClassifier  0.707621           1.0        NaN   \n",
       "0         LogisticRegression  0.701400           NaN        NaN   \n",
       "1          BaggingClassifier  0.696734           1.0        NaN   \n",
       "\n",
       "      min_samples_split  min_samples_leaf  \n",
       "2866                NaN               1.0  \n",
       "3016                NaN               1.0  \n",
       "3017                NaN               6.0  \n",
       "2717                NaN               6.0  \n",
       "2851                NaN               1.0  \n",
       "...                 ...               ...  \n",
       "2924                NaN              66.0  \n",
       "2925                NaN              71.0  \n",
       "2291                NaN               NaN  \n",
       "0                   NaN               NaN  \n",
       "1                   NaN               NaN  \n",
       "\n",
       "[3061 rows x 6 columns]"
      ]
     },
     "execution_count": 47,
     "metadata": {},
     "output_type": "execute_result"
    }
   ],
   "source": [
    "df_model_results"
   ]
  },
  {
   "cell_type": "markdown",
   "metadata": {},
   "source": [
    "### Лучшее качество по моделям"
   ]
  },
  {
   "cell_type": "code",
   "execution_count": 48,
   "metadata": {},
   "outputs": [
    {
     "data": {
      "text/html": [
       "<div>\n",
       "<style scoped>\n",
       "    .dataframe tbody tr th:only-of-type {\n",
       "        vertical-align: middle;\n",
       "    }\n",
       "\n",
       "    .dataframe tbody tr th {\n",
       "        vertical-align: top;\n",
       "    }\n",
       "\n",
       "    .dataframe thead th {\n",
       "        text-align: right;\n",
       "    }\n",
       "</style>\n",
       "<table border=\"1\" class=\"dataframe\">\n",
       "  <thead>\n",
       "    <tr style=\"text-align: right;\">\n",
       "      <th></th>\n",
       "      <th>score</th>\n",
       "    </tr>\n",
       "    <tr>\n",
       "      <th>model</th>\n",
       "      <th></th>\n",
       "    </tr>\n",
       "  </thead>\n",
       "  <tbody>\n",
       "    <tr>\n",
       "      <td>RandomForestClassifier</td>\n",
       "      <td>0.821151</td>\n",
       "    </tr>\n",
       "    <tr>\n",
       "      <td>AdaBoostClassifier</td>\n",
       "      <td>0.805599</td>\n",
       "    </tr>\n",
       "    <tr>\n",
       "      <td>BaggingClassifier</td>\n",
       "      <td>0.802488</td>\n",
       "    </tr>\n",
       "    <tr>\n",
       "      <td>DecisionTreeClassifier</td>\n",
       "      <td>0.800933</td>\n",
       "    </tr>\n",
       "    <tr>\n",
       "      <td>LogisticRegression</td>\n",
       "      <td>0.701400</td>\n",
       "    </tr>\n",
       "  </tbody>\n",
       "</table>\n",
       "</div>"
      ],
      "text/plain": [
       "                           score\n",
       "model                           \n",
       "RandomForestClassifier  0.821151\n",
       "AdaBoostClassifier      0.805599\n",
       "BaggingClassifier       0.802488\n",
       "DecisionTreeClassifier  0.800933\n",
       "LogisticRegression      0.701400"
      ]
     },
     "execution_count": 48,
     "metadata": {},
     "output_type": "execute_result"
    }
   ],
   "source": [
    "df_model_results.groupby(by='model').agg({'score': 'max'}).sort_values('score', ascending=False)"
   ]
  },
  {
   "cell_type": "markdown",
   "metadata": {},
   "source": [
    "### Лучшая модель по качеству"
   ]
  },
  {
   "cell_type": "code",
   "execution_count": 49,
   "metadata": {},
   "outputs": [
    {
     "data": {
      "text/html": [
       "<div>\n",
       "<style scoped>\n",
       "    .dataframe tbody tr th:only-of-type {\n",
       "        vertical-align: middle;\n",
       "    }\n",
       "\n",
       "    .dataframe tbody tr th {\n",
       "        vertical-align: top;\n",
       "    }\n",
       "\n",
       "    .dataframe thead th {\n",
       "        text-align: right;\n",
       "    }\n",
       "</style>\n",
       "<table border=\"1\" class=\"dataframe\">\n",
       "  <thead>\n",
       "    <tr style=\"text-align: right;\">\n",
       "      <th></th>\n",
       "      <th>model</th>\n",
       "      <th>score</th>\n",
       "      <th>n_estimators</th>\n",
       "      <th>max_depth</th>\n",
       "      <th>min_samples_split</th>\n",
       "      <th>min_samples_leaf</th>\n",
       "    </tr>\n",
       "  </thead>\n",
       "  <tbody>\n",
       "    <tr>\n",
       "      <td>2866</td>\n",
       "      <td>RandomForestClassifier</td>\n",
       "      <td>0.821151</td>\n",
       "      <td>31.0</td>\n",
       "      <td>8.0</td>\n",
       "      <td>NaN</td>\n",
       "      <td>1.0</td>\n",
       "    </tr>\n",
       "  </tbody>\n",
       "</table>\n",
       "</div>"
      ],
      "text/plain": [
       "                       model     score  n_estimators  max_depth  \\\n",
       "2866  RandomForestClassifier  0.821151          31.0        8.0   \n",
       "\n",
       "      min_samples_split  min_samples_leaf  \n",
       "2866                NaN               1.0  "
      ]
     },
     "execution_count": 49,
     "metadata": {},
     "output_type": "execute_result"
    }
   ],
   "source": [
    "df_model_results[df_model_results['score']==df_model_results['score'].max()].head(1)"
   ]
  },
  {
   "cell_type": "markdown",
   "metadata": {},
   "source": [
    "### Вывод"
   ]
  },
  {
   "cell_type": "markdown",
   "metadata": {},
   "source": [
    "Мы рассмотрели 5 моделей (LogisticRegression, BaggingClassifier, AdaBoostClassifier, DecisionTreeClassifier, RandomForestClassifier) с различным набором гиперпараметров.\n",
    "\n",
    "Среди выбранных моделей наибелее высокая оценка качества оказалась у RandomForestClassifier (82.1%)  и самая низкая у LogisticRegression (70.1%). Остальные модели также при определённых гиперпараметрах вплотную приблизились к лидеру. Надо отметить, что небольшое отставание от лидера даёт преимущество другим моделям, так как они заметно быстрее строят модель."
   ]
  },
  {
   "cell_type": "markdown",
   "metadata": {},
   "source": [
    "## Проверка модели на тестовой выборке"
   ]
  },
  {
   "cell_type": "code",
   "execution_count": 50,
   "metadata": {},
   "outputs": [
    {
     "data": {
      "text/html": [
       "<div>\n",
       "<style scoped>\n",
       "    .dataframe tbody tr th:only-of-type {\n",
       "        vertical-align: middle;\n",
       "    }\n",
       "\n",
       "    .dataframe tbody tr th {\n",
       "        vertical-align: top;\n",
       "    }\n",
       "\n",
       "    .dataframe thead th {\n",
       "        text-align: right;\n",
       "    }\n",
       "</style>\n",
       "<table border=\"1\" class=\"dataframe\">\n",
       "  <thead>\n",
       "    <tr style=\"text-align: right;\">\n",
       "      <th></th>\n",
       "      <th>calls</th>\n",
       "      <th>minutes</th>\n",
       "      <th>messages</th>\n",
       "      <th>mb_used</th>\n",
       "    </tr>\n",
       "  </thead>\n",
       "  <tbody>\n",
       "    <tr>\n",
       "      <td>506</td>\n",
       "      <td>46.0</td>\n",
       "      <td>338.60</td>\n",
       "      <td>35.0</td>\n",
       "      <td>11428.54</td>\n",
       "    </tr>\n",
       "    <tr>\n",
       "      <td>2513</td>\n",
       "      <td>39.0</td>\n",
       "      <td>242.71</td>\n",
       "      <td>0.0</td>\n",
       "      <td>20480.11</td>\n",
       "    </tr>\n",
       "    <tr>\n",
       "      <td>354</td>\n",
       "      <td>39.0</td>\n",
       "      <td>258.02</td>\n",
       "      <td>0.0</td>\n",
       "      <td>19998.80</td>\n",
       "    </tr>\n",
       "    <tr>\n",
       "      <td>1080</td>\n",
       "      <td>36.0</td>\n",
       "      <td>230.99</td>\n",
       "      <td>19.0</td>\n",
       "      <td>23525.07</td>\n",
       "    </tr>\n",
       "    <tr>\n",
       "      <td>2389</td>\n",
       "      <td>35.0</td>\n",
       "      <td>205.35</td>\n",
       "      <td>52.0</td>\n",
       "      <td>35177.94</td>\n",
       "    </tr>\n",
       "  </tbody>\n",
       "</table>\n",
       "</div>"
      ],
      "text/plain": [
       "      calls  minutes  messages   mb_used\n",
       "506    46.0   338.60      35.0  11428.54\n",
       "2513   39.0   242.71       0.0  20480.11\n",
       "354    39.0   258.02       0.0  19998.80\n",
       "1080   36.0   230.99      19.0  23525.07\n",
       "2389   35.0   205.35      52.0  35177.94"
      ]
     },
     "execution_count": 50,
     "metadata": {},
     "output_type": "execute_result"
    }
   ],
   "source": [
    "features_test = df_test.drop(['is_ultra'], axis=1)\n",
    "features_test.head()"
   ]
  },
  {
   "cell_type": "code",
   "execution_count": 51,
   "metadata": {},
   "outputs": [],
   "source": [
    "target_test = df_test['is_ultra']"
   ]
  },
  {
   "cell_type": "markdown",
   "metadata": {},
   "source": [
    "**LogisticRegression**"
   ]
  },
  {
   "cell_type": "code",
   "execution_count": 52,
   "metadata": {},
   "outputs": [
    {
     "data": {
      "text/plain": [
       "0.7091757387247278"
      ]
     },
     "execution_count": 52,
     "metadata": {},
     "output_type": "execute_result"
    }
   ],
   "source": [
    "predictions_test = best_model_lr.predict(features_test)\n",
    "accuracy_score(target_test, predictions_test)"
   ]
  },
  {
   "cell_type": "markdown",
   "metadata": {},
   "source": [
    "**BaggingClassifier**"
   ]
  },
  {
   "cell_type": "code",
   "execution_count": 53,
   "metadata": {},
   "outputs": [
    {
     "data": {
      "text/plain": [
       "0.7962674961119751"
      ]
     },
     "execution_count": 53,
     "metadata": {},
     "output_type": "execute_result"
    }
   ],
   "source": [
    "predictions_test = best_model_bc.predict(features_test)\n",
    "accuracy_score(target_test, predictions_test)"
   ]
  },
  {
   "cell_type": "markdown",
   "metadata": {},
   "source": [
    "**AdaBoostClassifier**"
   ]
  },
  {
   "cell_type": "code",
   "execution_count": 54,
   "metadata": {},
   "outputs": [
    {
     "data": {
      "text/plain": [
       "0.8055987558320373"
      ]
     },
     "execution_count": 54,
     "metadata": {},
     "output_type": "execute_result"
    }
   ],
   "source": [
    "predictions_test = best_model_abc.predict(features_test)\n",
    "accuracy_score(target_test, predictions_test)"
   ]
  },
  {
   "cell_type": "markdown",
   "metadata": {},
   "source": [
    "**DecisionTreeClassifier**"
   ]
  },
  {
   "cell_type": "code",
   "execution_count": 55,
   "metadata": {
    "scrolled": true
   },
   "outputs": [
    {
     "data": {
      "text/plain": [
       "0.80248833592535"
      ]
     },
     "execution_count": 55,
     "metadata": {},
     "output_type": "execute_result"
    }
   ],
   "source": [
    "predictions_test = best_model_dtc.predict(features_test)\n",
    "accuracy_score(target_test, predictions_test)"
   ]
  },
  {
   "cell_type": "markdown",
   "metadata": {},
   "source": [
    "**RandomForestClassifier**"
   ]
  },
  {
   "cell_type": "code",
   "execution_count": 56,
   "metadata": {
    "scrolled": true
   },
   "outputs": [
    {
     "data": {
      "text/plain": [
       "0.807153965785381"
      ]
     },
     "execution_count": 56,
     "metadata": {},
     "output_type": "execute_result"
    }
   ],
   "source": [
    "predictions_test = best_model_rfc.predict(features_test)\n",
    "accuracy_score(target_test, predictions_test)"
   ]
  },
  {
   "cell_type": "markdown",
   "metadata": {},
   "source": [
    "### Вывод"
   ]
  },
  {
   "cell_type": "markdown",
   "metadata": {},
   "source": [
    "**На тестовой выборке модели победители показали такие же высокие проценты accuracy**."
   ]
  }
 ],
 "metadata": {
  "kernelspec": {
   "display_name": "Python 3 (ipykernel)",
   "language": "python",
   "name": "python3"
  },
  "language_info": {
   "codemirror_mode": {
    "name": "ipython",
    "version": 3
   },
   "file_extension": ".py",
   "mimetype": "text/x-python",
   "name": "python",
   "nbconvert_exporter": "python",
   "pygments_lexer": "ipython3",
   "version": "3.9.1"
  },
  "toc": {
   "base_numbering": 1,
   "nav_menu": {},
   "number_sections": true,
   "sideBar": true,
   "skip_h1_title": true,
   "title_cell": "Table of Contents",
   "title_sidebar": "Contents",
   "toc_cell": false,
   "toc_position": {},
   "toc_section_display": true,
   "toc_window_display": false
  }
 },
 "nbformat": 4,
 "nbformat_minor": 2
}
