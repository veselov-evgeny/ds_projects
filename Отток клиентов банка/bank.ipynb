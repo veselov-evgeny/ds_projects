{
 "cells": [
  {
   "cell_type": "markdown",
   "metadata": {},
   "source": [
    "# Отток клиентов банка"
   ]
  },
  {
   "cell_type": "markdown",
   "metadata": {},
   "source": [
    "Необходимо спрогнозировать отток клиентов банка.\n",
    "\n",
    "В нашем распоряжении исторические данные о поведении клиентов и расторжении договоров с банком.\n",
    "\n",
    "Пострим модель с предельно большим значением *F1*-меры.\n",
    "\n",
    "Дополнительно измерим *AUC-ROC*, сравним её значение с *F1*-мерой и другими метриками.\n"
   ]
  },
  {
   "cell_type": "markdown",
   "metadata": {},
   "source": [
    "## Подготовка данных"
   ]
  },
  {
   "cell_type": "code",
   "execution_count": 1,
   "metadata": {},
   "outputs": [],
   "source": [
    "import warnings\n",
    "warnings.simplefilter(action='ignore', category=FutureWarning)\n",
    "import pandas as pd\n",
    "import numpy as np\n",
    "from tqdm.notebook import tqdm\n",
    "from sklearn.model_selection import train_test_split\n",
    "from sklearn.preprocessing import StandardScaler \n",
    "pd.options.mode.chained_assignment = None\n",
    "from sklearn.utils import shuffle\n",
    "from sklearn.linear_model import LogisticRegression\n",
    "from sklearn.tree import DecisionTreeClassifier\n",
    "from sklearn.ensemble import RandomForestClassifier\n",
    "from sklearn.metrics import confusion_matrix, accuracy_score, f1_score, recall_score, precision_score \n",
    "from sklearn.metrics import roc_curve, roc_auc_score"
   ]
  },
  {
   "cell_type": "code",
   "execution_count": 2,
   "metadata": {},
   "outputs": [],
   "source": [
    "df = pd.read_csv('datasets/Churn.csv')"
   ]
  },
  {
   "cell_type": "code",
   "execution_count": 3,
   "metadata": {},
   "outputs": [
    {
     "name": "stdout",
     "output_type": "stream",
     "text": [
      "<class 'pandas.core.frame.DataFrame'>\n",
      "RangeIndex: 10000 entries, 0 to 9999\n",
      "Data columns (total 14 columns):\n",
      " #   Column           Non-Null Count  Dtype  \n",
      "---  ------           --------------  -----  \n",
      " 0   RowNumber        10000 non-null  int64  \n",
      " 1   CustomerId       10000 non-null  int64  \n",
      " 2   Surname          10000 non-null  object \n",
      " 3   CreditScore      10000 non-null  int64  \n",
      " 4   Geography        10000 non-null  object \n",
      " 5   Gender           10000 non-null  object \n",
      " 6   Age              10000 non-null  int64  \n",
      " 7   Tenure           9091 non-null   float64\n",
      " 8   Balance          10000 non-null  float64\n",
      " 9   NumOfProducts    10000 non-null  int64  \n",
      " 10  HasCrCard        10000 non-null  int64  \n",
      " 11  IsActiveMember   10000 non-null  int64  \n",
      " 12  EstimatedSalary  10000 non-null  float64\n",
      " 13  Exited           10000 non-null  int64  \n",
      "dtypes: float64(3), int64(8), object(3)\n",
      "memory usage: 1.1+ MB\n"
     ]
    }
   ],
   "source": [
    "df.info()"
   ]
  },
  {
   "cell_type": "markdown",
   "metadata": {},
   "source": [
    "Обращаем внимание, что имеются пропуски в поле Tenure"
   ]
  },
  {
   "cell_type": "code",
   "execution_count": 4,
   "metadata": {},
   "outputs": [
    {
     "data": {
      "text/html": [
       "<div>\n",
       "<style scoped>\n",
       "    .dataframe tbody tr th:only-of-type {\n",
       "        vertical-align: middle;\n",
       "    }\n",
       "\n",
       "    .dataframe tbody tr th {\n",
       "        vertical-align: top;\n",
       "    }\n",
       "\n",
       "    .dataframe thead th {\n",
       "        text-align: right;\n",
       "    }\n",
       "</style>\n",
       "<table border=\"1\" class=\"dataframe\">\n",
       "  <thead>\n",
       "    <tr style=\"text-align: right;\">\n",
       "      <th></th>\n",
       "      <th>RowNumber</th>\n",
       "      <th>CustomerId</th>\n",
       "      <th>Surname</th>\n",
       "      <th>CreditScore</th>\n",
       "      <th>Geography</th>\n",
       "      <th>Gender</th>\n",
       "      <th>Age</th>\n",
       "      <th>Tenure</th>\n",
       "      <th>Balance</th>\n",
       "      <th>NumOfProducts</th>\n",
       "      <th>HasCrCard</th>\n",
       "      <th>IsActiveMember</th>\n",
       "      <th>EstimatedSalary</th>\n",
       "      <th>Exited</th>\n",
       "    </tr>\n",
       "  </thead>\n",
       "  <tbody>\n",
       "    <tr>\n",
       "      <th>0</th>\n",
       "      <td>1</td>\n",
       "      <td>15634602</td>\n",
       "      <td>Hargrave</td>\n",
       "      <td>619</td>\n",
       "      <td>France</td>\n",
       "      <td>Female</td>\n",
       "      <td>42</td>\n",
       "      <td>2.0</td>\n",
       "      <td>0.00</td>\n",
       "      <td>1</td>\n",
       "      <td>1</td>\n",
       "      <td>1</td>\n",
       "      <td>101348.88</td>\n",
       "      <td>1</td>\n",
       "    </tr>\n",
       "    <tr>\n",
       "      <th>1</th>\n",
       "      <td>2</td>\n",
       "      <td>15647311</td>\n",
       "      <td>Hill</td>\n",
       "      <td>608</td>\n",
       "      <td>Spain</td>\n",
       "      <td>Female</td>\n",
       "      <td>41</td>\n",
       "      <td>1.0</td>\n",
       "      <td>83807.86</td>\n",
       "      <td>1</td>\n",
       "      <td>0</td>\n",
       "      <td>1</td>\n",
       "      <td>112542.58</td>\n",
       "      <td>0</td>\n",
       "    </tr>\n",
       "    <tr>\n",
       "      <th>2</th>\n",
       "      <td>3</td>\n",
       "      <td>15619304</td>\n",
       "      <td>Onio</td>\n",
       "      <td>502</td>\n",
       "      <td>France</td>\n",
       "      <td>Female</td>\n",
       "      <td>42</td>\n",
       "      <td>8.0</td>\n",
       "      <td>159660.80</td>\n",
       "      <td>3</td>\n",
       "      <td>1</td>\n",
       "      <td>0</td>\n",
       "      <td>113931.57</td>\n",
       "      <td>1</td>\n",
       "    </tr>\n",
       "    <tr>\n",
       "      <th>3</th>\n",
       "      <td>4</td>\n",
       "      <td>15701354</td>\n",
       "      <td>Boni</td>\n",
       "      <td>699</td>\n",
       "      <td>France</td>\n",
       "      <td>Female</td>\n",
       "      <td>39</td>\n",
       "      <td>1.0</td>\n",
       "      <td>0.00</td>\n",
       "      <td>2</td>\n",
       "      <td>0</td>\n",
       "      <td>0</td>\n",
       "      <td>93826.63</td>\n",
       "      <td>0</td>\n",
       "    </tr>\n",
       "    <tr>\n",
       "      <th>4</th>\n",
       "      <td>5</td>\n",
       "      <td>15737888</td>\n",
       "      <td>Mitchell</td>\n",
       "      <td>850</td>\n",
       "      <td>Spain</td>\n",
       "      <td>Female</td>\n",
       "      <td>43</td>\n",
       "      <td>2.0</td>\n",
       "      <td>125510.82</td>\n",
       "      <td>1</td>\n",
       "      <td>1</td>\n",
       "      <td>1</td>\n",
       "      <td>79084.10</td>\n",
       "      <td>0</td>\n",
       "    </tr>\n",
       "  </tbody>\n",
       "</table>\n",
       "</div>"
      ],
      "text/plain": [
       "   RowNumber  CustomerId   Surname  CreditScore Geography  Gender  Age  \\\n",
       "0          1    15634602  Hargrave          619    France  Female   42   \n",
       "1          2    15647311      Hill          608     Spain  Female   41   \n",
       "2          3    15619304      Onio          502    France  Female   42   \n",
       "3          4    15701354      Boni          699    France  Female   39   \n",
       "4          5    15737888  Mitchell          850     Spain  Female   43   \n",
       "\n",
       "   Tenure    Balance  NumOfProducts  HasCrCard  IsActiveMember  \\\n",
       "0     2.0       0.00              1          1               1   \n",
       "1     1.0   83807.86              1          0               1   \n",
       "2     8.0  159660.80              3          1               0   \n",
       "3     1.0       0.00              2          0               0   \n",
       "4     2.0  125510.82              1          1               1   \n",
       "\n",
       "   EstimatedSalary  Exited  \n",
       "0        101348.88       1  \n",
       "1        112542.58       0  \n",
       "2        113931.57       1  \n",
       "3         93826.63       0  \n",
       "4         79084.10       0  "
      ]
     },
     "execution_count": 4,
     "metadata": {},
     "output_type": "execute_result"
    }
   ],
   "source": [
    "df.head()"
   ]
  },
  {
   "cell_type": "markdown",
   "metadata": {},
   "source": [
    "Сразу удалим бесполезные в нашем исследовании столбцы (RowNumber, CustomerId), это просто ключи, никак не характеризующие объект исследования."
   ]
  },
  {
   "cell_type": "code",
   "execution_count": 5,
   "metadata": {},
   "outputs": [],
   "source": [
    "df = df.drop('RowNumber', axis=1)"
   ]
  },
  {
   "cell_type": "code",
   "execution_count": 6,
   "metadata": {},
   "outputs": [],
   "source": [
    "df = df.drop('CustomerId', axis=1)"
   ]
  },
  {
   "cell_type": "code",
   "execution_count": 7,
   "metadata": {},
   "outputs": [],
   "source": [
    "df = df.drop('Surname', axis=1)"
   ]
  },
  {
   "cell_type": "code",
   "execution_count": 8,
   "metadata": {},
   "outputs": [
    {
     "data": {
      "text/html": [
       "<div>\n",
       "<style scoped>\n",
       "    .dataframe tbody tr th:only-of-type {\n",
       "        vertical-align: middle;\n",
       "    }\n",
       "\n",
       "    .dataframe tbody tr th {\n",
       "        vertical-align: top;\n",
       "    }\n",
       "\n",
       "    .dataframe thead th {\n",
       "        text-align: right;\n",
       "    }\n",
       "</style>\n",
       "<table border=\"1\" class=\"dataframe\">\n",
       "  <thead>\n",
       "    <tr style=\"text-align: right;\">\n",
       "      <th></th>\n",
       "      <th>CreditScore</th>\n",
       "      <th>Geography</th>\n",
       "      <th>Gender</th>\n",
       "      <th>Age</th>\n",
       "      <th>Tenure</th>\n",
       "      <th>Balance</th>\n",
       "      <th>NumOfProducts</th>\n",
       "      <th>HasCrCard</th>\n",
       "      <th>IsActiveMember</th>\n",
       "      <th>EstimatedSalary</th>\n",
       "      <th>Exited</th>\n",
       "    </tr>\n",
       "  </thead>\n",
       "  <tbody>\n",
       "    <tr>\n",
       "      <th>0</th>\n",
       "      <td>619</td>\n",
       "      <td>France</td>\n",
       "      <td>Female</td>\n",
       "      <td>42</td>\n",
       "      <td>2.0</td>\n",
       "      <td>0.00</td>\n",
       "      <td>1</td>\n",
       "      <td>1</td>\n",
       "      <td>1</td>\n",
       "      <td>101348.88</td>\n",
       "      <td>1</td>\n",
       "    </tr>\n",
       "    <tr>\n",
       "      <th>1</th>\n",
       "      <td>608</td>\n",
       "      <td>Spain</td>\n",
       "      <td>Female</td>\n",
       "      <td>41</td>\n",
       "      <td>1.0</td>\n",
       "      <td>83807.86</td>\n",
       "      <td>1</td>\n",
       "      <td>0</td>\n",
       "      <td>1</td>\n",
       "      <td>112542.58</td>\n",
       "      <td>0</td>\n",
       "    </tr>\n",
       "    <tr>\n",
       "      <th>2</th>\n",
       "      <td>502</td>\n",
       "      <td>France</td>\n",
       "      <td>Female</td>\n",
       "      <td>42</td>\n",
       "      <td>8.0</td>\n",
       "      <td>159660.80</td>\n",
       "      <td>3</td>\n",
       "      <td>1</td>\n",
       "      <td>0</td>\n",
       "      <td>113931.57</td>\n",
       "      <td>1</td>\n",
       "    </tr>\n",
       "    <tr>\n",
       "      <th>3</th>\n",
       "      <td>699</td>\n",
       "      <td>France</td>\n",
       "      <td>Female</td>\n",
       "      <td>39</td>\n",
       "      <td>1.0</td>\n",
       "      <td>0.00</td>\n",
       "      <td>2</td>\n",
       "      <td>0</td>\n",
       "      <td>0</td>\n",
       "      <td>93826.63</td>\n",
       "      <td>0</td>\n",
       "    </tr>\n",
       "    <tr>\n",
       "      <th>4</th>\n",
       "      <td>850</td>\n",
       "      <td>Spain</td>\n",
       "      <td>Female</td>\n",
       "      <td>43</td>\n",
       "      <td>2.0</td>\n",
       "      <td>125510.82</td>\n",
       "      <td>1</td>\n",
       "      <td>1</td>\n",
       "      <td>1</td>\n",
       "      <td>79084.10</td>\n",
       "      <td>0</td>\n",
       "    </tr>\n",
       "  </tbody>\n",
       "</table>\n",
       "</div>"
      ],
      "text/plain": [
       "   CreditScore Geography  Gender  Age  Tenure    Balance  NumOfProducts  \\\n",
       "0          619    France  Female   42     2.0       0.00              1   \n",
       "1          608     Spain  Female   41     1.0   83807.86              1   \n",
       "2          502    France  Female   42     8.0  159660.80              3   \n",
       "3          699    France  Female   39     1.0       0.00              2   \n",
       "4          850     Spain  Female   43     2.0  125510.82              1   \n",
       "\n",
       "   HasCrCard  IsActiveMember  EstimatedSalary  Exited  \n",
       "0          1               1        101348.88       1  \n",
       "1          0               1        112542.58       0  \n",
       "2          1               0        113931.57       1  \n",
       "3          0               0         93826.63       0  \n",
       "4          1               1         79084.10       0  "
      ]
     },
     "execution_count": 8,
     "metadata": {},
     "output_type": "execute_result"
    }
   ],
   "source": [
    "df.head()"
   ]
  },
  {
   "cell_type": "markdown",
   "metadata": {},
   "source": [
    "В таблице есть булевы признаки, но имеющие целочисленным тип данных. Приведём их к логичекскому. Сначала убедимся, что там только нули и единицы"
   ]
  },
  {
   "cell_type": "code",
   "execution_count": 9,
   "metadata": {},
   "outputs": [
    {
     "data": {
      "text/html": [
       "<div>\n",
       "<style scoped>\n",
       "    .dataframe tbody tr th:only-of-type {\n",
       "        vertical-align: middle;\n",
       "    }\n",
       "\n",
       "    .dataframe tbody tr th {\n",
       "        vertical-align: top;\n",
       "    }\n",
       "\n",
       "    .dataframe thead th {\n",
       "        text-align: right;\n",
       "    }\n",
       "</style>\n",
       "<table border=\"1\" class=\"dataframe\">\n",
       "  <thead>\n",
       "    <tr style=\"text-align: right;\">\n",
       "      <th></th>\n",
       "      <th>HasCrCard</th>\n",
       "      <th>IsActiveMember</th>\n",
       "      <th>Exited</th>\n",
       "    </tr>\n",
       "  </thead>\n",
       "  <tbody>\n",
       "    <tr>\n",
       "      <th>count</th>\n",
       "      <td>10000.00000</td>\n",
       "      <td>10000.000000</td>\n",
       "      <td>10000.000000</td>\n",
       "    </tr>\n",
       "    <tr>\n",
       "      <th>mean</th>\n",
       "      <td>0.70550</td>\n",
       "      <td>0.515100</td>\n",
       "      <td>0.203700</td>\n",
       "    </tr>\n",
       "    <tr>\n",
       "      <th>std</th>\n",
       "      <td>0.45584</td>\n",
       "      <td>0.499797</td>\n",
       "      <td>0.402769</td>\n",
       "    </tr>\n",
       "    <tr>\n",
       "      <th>min</th>\n",
       "      <td>0.00000</td>\n",
       "      <td>0.000000</td>\n",
       "      <td>0.000000</td>\n",
       "    </tr>\n",
       "    <tr>\n",
       "      <th>25%</th>\n",
       "      <td>0.00000</td>\n",
       "      <td>0.000000</td>\n",
       "      <td>0.000000</td>\n",
       "    </tr>\n",
       "    <tr>\n",
       "      <th>50%</th>\n",
       "      <td>1.00000</td>\n",
       "      <td>1.000000</td>\n",
       "      <td>0.000000</td>\n",
       "    </tr>\n",
       "    <tr>\n",
       "      <th>75%</th>\n",
       "      <td>1.00000</td>\n",
       "      <td>1.000000</td>\n",
       "      <td>0.000000</td>\n",
       "    </tr>\n",
       "    <tr>\n",
       "      <th>max</th>\n",
       "      <td>1.00000</td>\n",
       "      <td>1.000000</td>\n",
       "      <td>1.000000</td>\n",
       "    </tr>\n",
       "  </tbody>\n",
       "</table>\n",
       "</div>"
      ],
      "text/plain": [
       "         HasCrCard  IsActiveMember        Exited\n",
       "count  10000.00000    10000.000000  10000.000000\n",
       "mean       0.70550        0.515100      0.203700\n",
       "std        0.45584        0.499797      0.402769\n",
       "min        0.00000        0.000000      0.000000\n",
       "25%        0.00000        0.000000      0.000000\n",
       "50%        1.00000        1.000000      0.000000\n",
       "75%        1.00000        1.000000      0.000000\n",
       "max        1.00000        1.000000      1.000000"
      ]
     },
     "execution_count": 9,
     "metadata": {},
     "output_type": "execute_result"
    }
   ],
   "source": [
    "df[['HasCrCard', 'IsActiveMember', 'Exited']].describe()"
   ]
  },
  {
   "cell_type": "code",
   "execution_count": 10,
   "metadata": {},
   "outputs": [
    {
     "name": "stdout",
     "output_type": "stream",
     "text": [
      "<class 'pandas.core.frame.DataFrame'>\n",
      "RangeIndex: 10000 entries, 0 to 9999\n",
      "Data columns (total 11 columns):\n",
      " #   Column           Non-Null Count  Dtype  \n",
      "---  ------           --------------  -----  \n",
      " 0   CreditScore      10000 non-null  int64  \n",
      " 1   Geography        10000 non-null  object \n",
      " 2   Gender           10000 non-null  object \n",
      " 3   Age              10000 non-null  int64  \n",
      " 4   Tenure           9091 non-null   float64\n",
      " 5   Balance          10000 non-null  float64\n",
      " 6   NumOfProducts    10000 non-null  int64  \n",
      " 7   HasCrCard        10000 non-null  int64  \n",
      " 8   IsActiveMember   10000 non-null  int64  \n",
      " 9   EstimatedSalary  10000 non-null  float64\n",
      " 10  Exited           10000 non-null  int64  \n",
      "dtypes: float64(3), int64(6), object(2)\n",
      "memory usage: 859.5+ KB\n"
     ]
    }
   ],
   "source": [
    "df.info()"
   ]
  },
  {
   "cell_type": "markdown",
   "metadata": {},
   "source": [
    "Проверим содержимое других столбцов"
   ]
  },
  {
   "cell_type": "code",
   "execution_count": 11,
   "metadata": {},
   "outputs": [
    {
     "data": {
      "text/plain": [
       "array(['Female', 'Male'], dtype=object)"
      ]
     },
     "execution_count": 11,
     "metadata": {},
     "output_type": "execute_result"
    }
   ],
   "source": [
    "df['Gender'].unique()"
   ]
  },
  {
   "cell_type": "code",
   "execution_count": 12,
   "metadata": {},
   "outputs": [
    {
     "data": {
      "text/plain": [
       "array(['France', 'Spain', 'Germany'], dtype=object)"
      ]
     },
     "execution_count": 12,
     "metadata": {},
     "output_type": "execute_result"
    }
   ],
   "source": [
    "df['Geography'].unique()"
   ]
  },
  {
   "cell_type": "code",
   "execution_count": 13,
   "metadata": {},
   "outputs": [
    {
     "data": {
      "text/html": [
       "<div>\n",
       "<style scoped>\n",
       "    .dataframe tbody tr th:only-of-type {\n",
       "        vertical-align: middle;\n",
       "    }\n",
       "\n",
       "    .dataframe tbody tr th {\n",
       "        vertical-align: top;\n",
       "    }\n",
       "\n",
       "    .dataframe thead th {\n",
       "        text-align: right;\n",
       "    }\n",
       "</style>\n",
       "<table border=\"1\" class=\"dataframe\">\n",
       "  <thead>\n",
       "    <tr style=\"text-align: right;\">\n",
       "      <th></th>\n",
       "      <th>Age</th>\n",
       "      <th>Tenure</th>\n",
       "      <th>NumOfProducts</th>\n",
       "      <th>Balance</th>\n",
       "      <th>EstimatedSalary</th>\n",
       "    </tr>\n",
       "  </thead>\n",
       "  <tbody>\n",
       "    <tr>\n",
       "      <th>count</th>\n",
       "      <td>10000.000000</td>\n",
       "      <td>9091.000000</td>\n",
       "      <td>10000.000000</td>\n",
       "      <td>10000.000000</td>\n",
       "      <td>10000.000000</td>\n",
       "    </tr>\n",
       "    <tr>\n",
       "      <th>mean</th>\n",
       "      <td>38.921800</td>\n",
       "      <td>4.997690</td>\n",
       "      <td>1.530200</td>\n",
       "      <td>76485.889288</td>\n",
       "      <td>100090.239881</td>\n",
       "    </tr>\n",
       "    <tr>\n",
       "      <th>std</th>\n",
       "      <td>10.487806</td>\n",
       "      <td>2.894723</td>\n",
       "      <td>0.581654</td>\n",
       "      <td>62397.405202</td>\n",
       "      <td>57510.492818</td>\n",
       "    </tr>\n",
       "    <tr>\n",
       "      <th>min</th>\n",
       "      <td>18.000000</td>\n",
       "      <td>0.000000</td>\n",
       "      <td>1.000000</td>\n",
       "      <td>0.000000</td>\n",
       "      <td>11.580000</td>\n",
       "    </tr>\n",
       "    <tr>\n",
       "      <th>25%</th>\n",
       "      <td>32.000000</td>\n",
       "      <td>2.000000</td>\n",
       "      <td>1.000000</td>\n",
       "      <td>0.000000</td>\n",
       "      <td>51002.110000</td>\n",
       "    </tr>\n",
       "    <tr>\n",
       "      <th>50%</th>\n",
       "      <td>37.000000</td>\n",
       "      <td>5.000000</td>\n",
       "      <td>1.000000</td>\n",
       "      <td>97198.540000</td>\n",
       "      <td>100193.915000</td>\n",
       "    </tr>\n",
       "    <tr>\n",
       "      <th>75%</th>\n",
       "      <td>44.000000</td>\n",
       "      <td>7.000000</td>\n",
       "      <td>2.000000</td>\n",
       "      <td>127644.240000</td>\n",
       "      <td>149388.247500</td>\n",
       "    </tr>\n",
       "    <tr>\n",
       "      <th>max</th>\n",
       "      <td>92.000000</td>\n",
       "      <td>10.000000</td>\n",
       "      <td>4.000000</td>\n",
       "      <td>250898.090000</td>\n",
       "      <td>199992.480000</td>\n",
       "    </tr>\n",
       "  </tbody>\n",
       "</table>\n",
       "</div>"
      ],
      "text/plain": [
       "                Age       Tenure  NumOfProducts        Balance  \\\n",
       "count  10000.000000  9091.000000   10000.000000   10000.000000   \n",
       "mean      38.921800     4.997690       1.530200   76485.889288   \n",
       "std       10.487806     2.894723       0.581654   62397.405202   \n",
       "min       18.000000     0.000000       1.000000       0.000000   \n",
       "25%       32.000000     2.000000       1.000000       0.000000   \n",
       "50%       37.000000     5.000000       1.000000   97198.540000   \n",
       "75%       44.000000     7.000000       2.000000  127644.240000   \n",
       "max       92.000000    10.000000       4.000000  250898.090000   \n",
       "\n",
       "       EstimatedSalary  \n",
       "count     10000.000000  \n",
       "mean     100090.239881  \n",
       "std       57510.492818  \n",
       "min          11.580000  \n",
       "25%       51002.110000  \n",
       "50%      100193.915000  \n",
       "75%      149388.247500  \n",
       "max      199992.480000  "
      ]
     },
     "execution_count": 13,
     "metadata": {},
     "output_type": "execute_result"
    }
   ],
   "source": [
    "df[['Age', 'Tenure', 'NumOfProducts', 'Balance', 'EstimatedSalary']].describe()"
   ]
  },
  {
   "cell_type": "code",
   "execution_count": 14,
   "metadata": {},
   "outputs": [
    {
     "data": {
      "text/plain": [
       "<AxesSubplot:>"
      ]
     },
     "execution_count": 14,
     "metadata": {},
     "output_type": "execute_result"
    },
    {
     "data": {
      "image/png": "[encoded data removed]",
      "text/plain": [
       "<Figure size 432x288 with 1 Axes>"
      ]
     },
     "metadata": {
      "needs_background": "light"
     },
     "output_type": "display_data"
    }
   ],
   "source": [
    "df['Balance'].hist(bins=50)"
   ]
  },
  {
   "cell_type": "markdown",
   "metadata": {},
   "source": [
    "Характерный и объяснимый выброс с нулевым балансом. Не все держат деньги в банке, многие пользуются лишь кредитами."
   ]
  },
  {
   "cell_type": "code",
   "execution_count": 15,
   "metadata": {},
   "outputs": [
    {
     "data": {
      "text/plain": [
       "<AxesSubplot:>"
      ]
     },
     "execution_count": 15,
     "metadata": {},
     "output_type": "execute_result"
    },
    {
     "data": {
      "image/png": "[encoded data removed]",
      "text/plain": [
       "<Figure size 432x288 with 1 Axes>"
      ]
     },
     "metadata": {
      "needs_background": "light"
     },
     "output_type": "display_data"
    }
   ],
   "source": [
    "df['EstimatedSalary'].hist(bins=100)"
   ]
  },
  {
   "cell_type": "code",
   "execution_count": 16,
   "metadata": {},
   "outputs": [
    {
     "data": {
      "text/plain": [
       "<AxesSubplot:>"
      ]
     },
     "execution_count": 16,
     "metadata": {},
     "output_type": "execute_result"
    },
    {
     "data": {
      "image/png": "[encoded data removed]",
      "text/plain": [
       "<Figure size 432x288 with 1 Axes>"
      ]
     },
     "metadata": {
      "needs_background": "light"
     },
     "output_type": "display_data"
    }
   ],
   "source": [
    "df['CreditScore'].hist(bins=100)"
   ]
  },
  {
   "cell_type": "code",
   "execution_count": 17,
   "metadata": {},
   "outputs": [
    {
     "data": {
      "text/html": [
       "<div>\n",
       "<style scoped>\n",
       "    .dataframe tbody tr th:only-of-type {\n",
       "        vertical-align: middle;\n",
       "    }\n",
       "\n",
       "    .dataframe tbody tr th {\n",
       "        vertical-align: top;\n",
       "    }\n",
       "\n",
       "    .dataframe thead th {\n",
       "        text-align: right;\n",
       "    }\n",
       "</style>\n",
       "<table border=\"1\" class=\"dataframe\">\n",
       "  <thead>\n",
       "    <tr style=\"text-align: right;\">\n",
       "      <th></th>\n",
       "      <th>CreditScore</th>\n",
       "      <th>Geography</th>\n",
       "      <th>Gender</th>\n",
       "      <th>Age</th>\n",
       "      <th>Tenure</th>\n",
       "      <th>Balance</th>\n",
       "      <th>NumOfProducts</th>\n",
       "      <th>HasCrCard</th>\n",
       "      <th>IsActiveMember</th>\n",
       "      <th>EstimatedSalary</th>\n",
       "      <th>Exited</th>\n",
       "    </tr>\n",
       "  </thead>\n",
       "  <tbody>\n",
       "    <tr>\n",
       "      <th>4</th>\n",
       "      <td>850</td>\n",
       "      <td>Spain</td>\n",
       "      <td>Female</td>\n",
       "      <td>43</td>\n",
       "      <td>2.0</td>\n",
       "      <td>125510.82</td>\n",
       "      <td>1</td>\n",
       "      <td>1</td>\n",
       "      <td>1</td>\n",
       "      <td>79084.10</td>\n",
       "      <td>0</td>\n",
       "    </tr>\n",
       "    <tr>\n",
       "      <th>38</th>\n",
       "      <td>850</td>\n",
       "      <td>France</td>\n",
       "      <td>Male</td>\n",
       "      <td>36</td>\n",
       "      <td>7.0</td>\n",
       "      <td>0.00</td>\n",
       "      <td>1</td>\n",
       "      <td>1</td>\n",
       "      <td>1</td>\n",
       "      <td>40812.90</td>\n",
       "      <td>0</td>\n",
       "    </tr>\n",
       "    <tr>\n",
       "      <th>180</th>\n",
       "      <td>850</td>\n",
       "      <td>Spain</td>\n",
       "      <td>Female</td>\n",
       "      <td>45</td>\n",
       "      <td>NaN</td>\n",
       "      <td>122311.21</td>\n",
       "      <td>1</td>\n",
       "      <td>1</td>\n",
       "      <td>1</td>\n",
       "      <td>19482.50</td>\n",
       "      <td>0</td>\n",
       "    </tr>\n",
       "    <tr>\n",
       "      <th>200</th>\n",
       "      <td>850</td>\n",
       "      <td>Spain</td>\n",
       "      <td>Male</td>\n",
       "      <td>30</td>\n",
       "      <td>2.0</td>\n",
       "      <td>141040.01</td>\n",
       "      <td>1</td>\n",
       "      <td>1</td>\n",
       "      <td>1</td>\n",
       "      <td>5978.20</td>\n",
       "      <td>0</td>\n",
       "    </tr>\n",
       "    <tr>\n",
       "      <th>223</th>\n",
       "      <td>850</td>\n",
       "      <td>France</td>\n",
       "      <td>Male</td>\n",
       "      <td>33</td>\n",
       "      <td>10.0</td>\n",
       "      <td>0.00</td>\n",
       "      <td>1</td>\n",
       "      <td>1</td>\n",
       "      <td>0</td>\n",
       "      <td>4861.72</td>\n",
       "      <td>1</td>\n",
       "    </tr>\n",
       "    <tr>\n",
       "      <th>...</th>\n",
       "      <td>...</td>\n",
       "      <td>...</td>\n",
       "      <td>...</td>\n",
       "      <td>...</td>\n",
       "      <td>...</td>\n",
       "      <td>...</td>\n",
       "      <td>...</td>\n",
       "      <td>...</td>\n",
       "      <td>...</td>\n",
       "      <td>...</td>\n",
       "      <td>...</td>\n",
       "    </tr>\n",
       "    <tr>\n",
       "      <th>9581</th>\n",
       "      <td>850</td>\n",
       "      <td>France</td>\n",
       "      <td>Female</td>\n",
       "      <td>28</td>\n",
       "      <td>9.0</td>\n",
       "      <td>0.00</td>\n",
       "      <td>2</td>\n",
       "      <td>1</td>\n",
       "      <td>1</td>\n",
       "      <td>164864.67</td>\n",
       "      <td>0</td>\n",
       "    </tr>\n",
       "    <tr>\n",
       "      <th>9646</th>\n",
       "      <td>850</td>\n",
       "      <td>Spain</td>\n",
       "      <td>Male</td>\n",
       "      <td>71</td>\n",
       "      <td>10.0</td>\n",
       "      <td>69608.14</td>\n",
       "      <td>1</td>\n",
       "      <td>1</td>\n",
       "      <td>0</td>\n",
       "      <td>97893.40</td>\n",
       "      <td>1</td>\n",
       "    </tr>\n",
       "    <tr>\n",
       "      <th>9688</th>\n",
       "      <td>850</td>\n",
       "      <td>France</td>\n",
       "      <td>Male</td>\n",
       "      <td>68</td>\n",
       "      <td>5.0</td>\n",
       "      <td>169445.40</td>\n",
       "      <td>1</td>\n",
       "      <td>1</td>\n",
       "      <td>1</td>\n",
       "      <td>186335.07</td>\n",
       "      <td>0</td>\n",
       "    </tr>\n",
       "    <tr>\n",
       "      <th>9931</th>\n",
       "      <td>850</td>\n",
       "      <td>France</td>\n",
       "      <td>Female</td>\n",
       "      <td>34</td>\n",
       "      <td>NaN</td>\n",
       "      <td>101266.51</td>\n",
       "      <td>1</td>\n",
       "      <td>1</td>\n",
       "      <td>0</td>\n",
       "      <td>33501.98</td>\n",
       "      <td>0</td>\n",
       "    </tr>\n",
       "    <tr>\n",
       "      <th>9949</th>\n",
       "      <td>850</td>\n",
       "      <td>France</td>\n",
       "      <td>Female</td>\n",
       "      <td>47</td>\n",
       "      <td>9.0</td>\n",
       "      <td>137301.87</td>\n",
       "      <td>1</td>\n",
       "      <td>1</td>\n",
       "      <td>0</td>\n",
       "      <td>44351.77</td>\n",
       "      <td>0</td>\n",
       "    </tr>\n",
       "  </tbody>\n",
       "</table>\n",
       "<p>233 rows × 11 columns</p>\n",
       "</div>"
      ],
      "text/plain": [
       "      CreditScore Geography  Gender  Age  Tenure    Balance  NumOfProducts  \\\n",
       "4             850     Spain  Female   43     2.0  125510.82              1   \n",
       "38            850    France    Male   36     7.0       0.00              1   \n",
       "180           850     Spain  Female   45     NaN  122311.21              1   \n",
       "200           850     Spain    Male   30     2.0  141040.01              1   \n",
       "223           850    France    Male   33    10.0       0.00              1   \n",
       "...           ...       ...     ...  ...     ...        ...            ...   \n",
       "9581          850    France  Female   28     9.0       0.00              2   \n",
       "9646          850     Spain    Male   71    10.0   69608.14              1   \n",
       "9688          850    France    Male   68     5.0  169445.40              1   \n",
       "9931          850    France  Female   34     NaN  101266.51              1   \n",
       "9949          850    France  Female   47     9.0  137301.87              1   \n",
       "\n",
       "      HasCrCard  IsActiveMember  EstimatedSalary  Exited  \n",
       "4             1               1         79084.10       0  \n",
       "38            1               1         40812.90       0  \n",
       "180           1               1         19482.50       0  \n",
       "200           1               1          5978.20       0  \n",
       "223           1               0          4861.72       1  \n",
       "...         ...             ...              ...     ...  \n",
       "9581          1               1        164864.67       0  \n",
       "9646          1               0         97893.40       1  \n",
       "9688          1               1        186335.07       0  \n",
       "9931          1               0         33501.98       0  \n",
       "9949          1               0         44351.77       0  \n",
       "\n",
       "[233 rows x 11 columns]"
      ]
     },
     "execution_count": 17,
     "metadata": {},
     "output_type": "execute_result"
    }
   ],
   "source": [
    "df[df['CreditScore']==850]"
   ]
  },
  {
   "cell_type": "markdown",
   "metadata": {},
   "source": [
    "Выброс на 850. Возможно, максимальный рейтинг присваивается какой-то категории клиентов в ручном режиме, либо как стартовый новым клиентам. Стоит уточнить у специалистов, аномалия это или нет."
   ]
  },
  {
   "cell_type": "markdown",
   "metadata": {},
   "source": [
    "Других особенностей в данных не замечено."
   ]
  },
  {
   "cell_type": "markdown",
   "metadata": {},
   "source": [
    "**Целевой признак - Exited**"
   ]
  },
  {
   "cell_type": "markdown",
   "metadata": {},
   "source": [
    "Преобразуем категориальные признаки в численные"
   ]
  },
  {
   "cell_type": "markdown",
   "metadata": {},
   "source": [
    "### Пропуски"
   ]
  },
  {
   "cell_type": "code",
   "execution_count": 18,
   "metadata": {},
   "outputs": [
    {
     "data": {
      "text/plain": [
       "<AxesSubplot:>"
      ]
     },
     "execution_count": 18,
     "metadata": {},
     "output_type": "execute_result"
    },
    {
     "data": {
      "image/png": "[encoded data removed]",
      "text/plain": [
       "<Figure size 432x288 with 1 Axes>"
      ]
     },
     "metadata": {
      "needs_background": "light"
     },
     "output_type": "display_data"
    }
   ],
   "source": [
    "df['Tenure'].hist(bins=10)"
   ]
  },
  {
   "cell_type": "code",
   "execution_count": 19,
   "metadata": {},
   "outputs": [
    {
     "data": {
      "text/html": [
       "<div>\n",
       "<style scoped>\n",
       "    .dataframe tbody tr th:only-of-type {\n",
       "        vertical-align: middle;\n",
       "    }\n",
       "\n",
       "    .dataframe tbody tr th {\n",
       "        vertical-align: top;\n",
       "    }\n",
       "\n",
       "    .dataframe thead th {\n",
       "        text-align: right;\n",
       "    }\n",
       "</style>\n",
       "<table border=\"1\" class=\"dataframe\">\n",
       "  <thead>\n",
       "    <tr style=\"text-align: right;\">\n",
       "      <th></th>\n",
       "      <th>CreditScore</th>\n",
       "      <th>Geography</th>\n",
       "      <th>Gender</th>\n",
       "      <th>Age</th>\n",
       "      <th>Tenure</th>\n",
       "      <th>Balance</th>\n",
       "      <th>NumOfProducts</th>\n",
       "      <th>HasCrCard</th>\n",
       "      <th>IsActiveMember</th>\n",
       "      <th>EstimatedSalary</th>\n",
       "      <th>Exited</th>\n",
       "    </tr>\n",
       "  </thead>\n",
       "  <tbody>\n",
       "    <tr>\n",
       "      <th>30</th>\n",
       "      <td>591</td>\n",
       "      <td>Spain</td>\n",
       "      <td>Female</td>\n",
       "      <td>39</td>\n",
       "      <td>NaN</td>\n",
       "      <td>0.00</td>\n",
       "      <td>3</td>\n",
       "      <td>1</td>\n",
       "      <td>0</td>\n",
       "      <td>140469.38</td>\n",
       "      <td>1</td>\n",
       "    </tr>\n",
       "    <tr>\n",
       "      <th>48</th>\n",
       "      <td>550</td>\n",
       "      <td>Germany</td>\n",
       "      <td>Male</td>\n",
       "      <td>38</td>\n",
       "      <td>NaN</td>\n",
       "      <td>103391.38</td>\n",
       "      <td>1</td>\n",
       "      <td>0</td>\n",
       "      <td>1</td>\n",
       "      <td>90878.13</td>\n",
       "      <td>0</td>\n",
       "    </tr>\n",
       "    <tr>\n",
       "      <th>51</th>\n",
       "      <td>585</td>\n",
       "      <td>Germany</td>\n",
       "      <td>Male</td>\n",
       "      <td>36</td>\n",
       "      <td>NaN</td>\n",
       "      <td>146050.97</td>\n",
       "      <td>2</td>\n",
       "      <td>0</td>\n",
       "      <td>0</td>\n",
       "      <td>86424.57</td>\n",
       "      <td>0</td>\n",
       "    </tr>\n",
       "    <tr>\n",
       "      <th>53</th>\n",
       "      <td>655</td>\n",
       "      <td>Germany</td>\n",
       "      <td>Male</td>\n",
       "      <td>41</td>\n",
       "      <td>NaN</td>\n",
       "      <td>125561.97</td>\n",
       "      <td>1</td>\n",
       "      <td>0</td>\n",
       "      <td>0</td>\n",
       "      <td>164040.94</td>\n",
       "      <td>1</td>\n",
       "    </tr>\n",
       "    <tr>\n",
       "      <th>60</th>\n",
       "      <td>742</td>\n",
       "      <td>Germany</td>\n",
       "      <td>Male</td>\n",
       "      <td>35</td>\n",
       "      <td>NaN</td>\n",
       "      <td>136857.00</td>\n",
       "      <td>1</td>\n",
       "      <td>0</td>\n",
       "      <td>0</td>\n",
       "      <td>84509.57</td>\n",
       "      <td>0</td>\n",
       "    </tr>\n",
       "    <tr>\n",
       "      <th>...</th>\n",
       "      <td>...</td>\n",
       "      <td>...</td>\n",
       "      <td>...</td>\n",
       "      <td>...</td>\n",
       "      <td>...</td>\n",
       "      <td>...</td>\n",
       "      <td>...</td>\n",
       "      <td>...</td>\n",
       "      <td>...</td>\n",
       "      <td>...</td>\n",
       "      <td>...</td>\n",
       "    </tr>\n",
       "    <tr>\n",
       "      <th>9944</th>\n",
       "      <td>744</td>\n",
       "      <td>Germany</td>\n",
       "      <td>Male</td>\n",
       "      <td>41</td>\n",
       "      <td>NaN</td>\n",
       "      <td>190409.34</td>\n",
       "      <td>2</td>\n",
       "      <td>1</td>\n",
       "      <td>1</td>\n",
       "      <td>138361.48</td>\n",
       "      <td>0</td>\n",
       "    </tr>\n",
       "    <tr>\n",
       "      <th>9956</th>\n",
       "      <td>520</td>\n",
       "      <td>France</td>\n",
       "      <td>Female</td>\n",
       "      <td>46</td>\n",
       "      <td>NaN</td>\n",
       "      <td>85216.61</td>\n",
       "      <td>1</td>\n",
       "      <td>1</td>\n",
       "      <td>0</td>\n",
       "      <td>117369.52</td>\n",
       "      <td>1</td>\n",
       "    </tr>\n",
       "    <tr>\n",
       "      <th>9964</th>\n",
       "      <td>479</td>\n",
       "      <td>France</td>\n",
       "      <td>Male</td>\n",
       "      <td>34</td>\n",
       "      <td>NaN</td>\n",
       "      <td>117593.48</td>\n",
       "      <td>2</td>\n",
       "      <td>0</td>\n",
       "      <td>0</td>\n",
       "      <td>113308.29</td>\n",
       "      <td>0</td>\n",
       "    </tr>\n",
       "    <tr>\n",
       "      <th>9985</th>\n",
       "      <td>659</td>\n",
       "      <td>France</td>\n",
       "      <td>Male</td>\n",
       "      <td>36</td>\n",
       "      <td>NaN</td>\n",
       "      <td>123841.49</td>\n",
       "      <td>2</td>\n",
       "      <td>1</td>\n",
       "      <td>0</td>\n",
       "      <td>96833.00</td>\n",
       "      <td>0</td>\n",
       "    </tr>\n",
       "    <tr>\n",
       "      <th>9999</th>\n",
       "      <td>792</td>\n",
       "      <td>France</td>\n",
       "      <td>Female</td>\n",
       "      <td>28</td>\n",
       "      <td>NaN</td>\n",
       "      <td>130142.79</td>\n",
       "      <td>1</td>\n",
       "      <td>1</td>\n",
       "      <td>0</td>\n",
       "      <td>38190.78</td>\n",
       "      <td>0</td>\n",
       "    </tr>\n",
       "  </tbody>\n",
       "</table>\n",
       "<p>909 rows × 11 columns</p>\n",
       "</div>"
      ],
      "text/plain": [
       "      CreditScore Geography  Gender  Age  Tenure    Balance  NumOfProducts  \\\n",
       "30            591     Spain  Female   39     NaN       0.00              3   \n",
       "48            550   Germany    Male   38     NaN  103391.38              1   \n",
       "51            585   Germany    Male   36     NaN  146050.97              2   \n",
       "53            655   Germany    Male   41     NaN  125561.97              1   \n",
       "60            742   Germany    Male   35     NaN  136857.00              1   \n",
       "...           ...       ...     ...  ...     ...        ...            ...   \n",
       "9944          744   Germany    Male   41     NaN  190409.34              2   \n",
       "9956          520    France  Female   46     NaN   85216.61              1   \n",
       "9964          479    France    Male   34     NaN  117593.48              2   \n",
       "9985          659    France    Male   36     NaN  123841.49              2   \n",
       "9999          792    France  Female   28     NaN  130142.79              1   \n",
       "\n",
       "      HasCrCard  IsActiveMember  EstimatedSalary  Exited  \n",
       "30            1               0        140469.38       1  \n",
       "48            0               1         90878.13       0  \n",
       "51            0               0         86424.57       0  \n",
       "53            0               0        164040.94       1  \n",
       "60            0               0         84509.57       0  \n",
       "...         ...             ...              ...     ...  \n",
       "9944          1               1        138361.48       0  \n",
       "9956          1               0        117369.52       1  \n",
       "9964          0               0        113308.29       0  \n",
       "9985          1               0         96833.00       0  \n",
       "9999          1               0         38190.78       0  \n",
       "\n",
       "[909 rows x 11 columns]"
      ]
     },
     "execution_count": 19,
     "metadata": {},
     "output_type": "execute_result"
    }
   ],
   "source": [
    "df[df['Tenure'].isnull()==True]"
   ]
  },
  {
   "cell_type": "code",
   "execution_count": 20,
   "metadata": {},
   "outputs": [
    {
     "data": {
      "text/plain": [
       "CreditScore          648.451045\n",
       "Age                   38.647965\n",
       "Tenure                      NaN\n",
       "Balance            76117.341474\n",
       "NumOfProducts          1.530253\n",
       "HasCrCard              0.710671\n",
       "IsActiveMember         0.510451\n",
       "EstimatedSalary    99180.389373\n",
       "Exited                 0.201320\n",
       "dtype: float64"
      ]
     },
     "execution_count": 20,
     "metadata": {},
     "output_type": "execute_result"
    }
   ],
   "source": [
    "df[(df['Tenure'].isnull()==True)].mean()"
   ]
  },
  {
   "cell_type": "code",
   "execution_count": 21,
   "metadata": {},
   "outputs": [
    {
     "data": {
      "text/html": [
       "<div>\n",
       "<style scoped>\n",
       "    .dataframe tbody tr th:only-of-type {\n",
       "        vertical-align: middle;\n",
       "    }\n",
       "\n",
       "    .dataframe tbody tr th {\n",
       "        vertical-align: top;\n",
       "    }\n",
       "\n",
       "    .dataframe thead th {\n",
       "        text-align: right;\n",
       "    }\n",
       "</style>\n",
       "<table border=\"1\" class=\"dataframe\">\n",
       "  <thead>\n",
       "    <tr style=\"text-align: right;\">\n",
       "      <th></th>\n",
       "      <th>CreditScore</th>\n",
       "      <th>Age</th>\n",
       "      <th>Balance</th>\n",
       "      <th>NumOfProducts</th>\n",
       "      <th>HasCrCard</th>\n",
       "      <th>IsActiveMember</th>\n",
       "      <th>EstimatedSalary</th>\n",
       "      <th>Exited</th>\n",
       "    </tr>\n",
       "    <tr>\n",
       "      <th>Tenure</th>\n",
       "      <th></th>\n",
       "      <th></th>\n",
       "      <th></th>\n",
       "      <th></th>\n",
       "      <th></th>\n",
       "      <th></th>\n",
       "      <th></th>\n",
       "      <th></th>\n",
       "    </tr>\n",
       "  </thead>\n",
       "  <tbody>\n",
       "    <tr>\n",
       "      <th>0.0</th>\n",
       "      <td>651.913613</td>\n",
       "      <td>39.306283</td>\n",
       "      <td>80135.307277</td>\n",
       "      <td>1.437173</td>\n",
       "      <td>0.651832</td>\n",
       "      <td>0.531414</td>\n",
       "      <td>99565.395157</td>\n",
       "      <td>0.235602</td>\n",
       "    </tr>\n",
       "    <tr>\n",
       "      <th>1.0</th>\n",
       "      <td>648.681723</td>\n",
       "      <td>39.646008</td>\n",
       "      <td>77365.221712</td>\n",
       "      <td>1.494748</td>\n",
       "      <td>0.670168</td>\n",
       "      <td>0.551471</td>\n",
       "      <td>100635.368718</td>\n",
       "      <td>0.223739</td>\n",
       "    </tr>\n",
       "    <tr>\n",
       "      <th>2.0</th>\n",
       "      <td>654.644211</td>\n",
       "      <td>39.246316</td>\n",
       "      <td>76502.413053</td>\n",
       "      <td>1.584211</td>\n",
       "      <td>0.706316</td>\n",
       "      <td>0.540000</td>\n",
       "      <td>99120.730168</td>\n",
       "      <td>0.194737</td>\n",
       "    </tr>\n",
       "    <tr>\n",
       "      <th>3.0</th>\n",
       "      <td>651.096983</td>\n",
       "      <td>38.984914</td>\n",
       "      <td>78105.560356</td>\n",
       "      <td>1.535560</td>\n",
       "      <td>0.713362</td>\n",
       "      <td>0.517241</td>\n",
       "      <td>97351.648168</td>\n",
       "      <td>0.213362</td>\n",
       "    </tr>\n",
       "    <tr>\n",
       "      <th>4.0</th>\n",
       "      <td>650.681356</td>\n",
       "      <td>38.116384</td>\n",
       "      <td>74133.600373</td>\n",
       "      <td>1.519774</td>\n",
       "      <td>0.710734</td>\n",
       "      <td>0.509605</td>\n",
       "      <td>100041.330836</td>\n",
       "      <td>0.207910</td>\n",
       "    </tr>\n",
       "    <tr>\n",
       "      <th>5.0</th>\n",
       "      <td>649.962244</td>\n",
       "      <td>39.242718</td>\n",
       "      <td>76138.007217</td>\n",
       "      <td>1.564186</td>\n",
       "      <td>0.700108</td>\n",
       "      <td>0.509169</td>\n",
       "      <td>101239.472233</td>\n",
       "      <td>0.201726</td>\n",
       "    </tr>\n",
       "    <tr>\n",
       "      <th>6.0</th>\n",
       "      <td>647.757094</td>\n",
       "      <td>38.637911</td>\n",
       "      <td>74970.085698</td>\n",
       "      <td>1.515323</td>\n",
       "      <td>0.715096</td>\n",
       "      <td>0.510783</td>\n",
       "      <td>100151.566924</td>\n",
       "      <td>0.200908</td>\n",
       "    </tr>\n",
       "    <tr>\n",
       "      <th>7.0</th>\n",
       "      <td>649.195676</td>\n",
       "      <td>38.349189</td>\n",
       "      <td>75915.378086</td>\n",
       "      <td>1.525405</td>\n",
       "      <td>0.708108</td>\n",
       "      <td>0.513514</td>\n",
       "      <td>101842.455362</td>\n",
       "      <td>0.172973</td>\n",
       "    </tr>\n",
       "    <tr>\n",
       "      <th>8.0</th>\n",
       "      <td>648.618435</td>\n",
       "      <td>38.496249</td>\n",
       "      <td>77994.797685</td>\n",
       "      <td>1.530547</td>\n",
       "      <td>0.734191</td>\n",
       "      <td>0.504823</td>\n",
       "      <td>100611.163290</td>\n",
       "      <td>0.186495</td>\n",
       "    </tr>\n",
       "    <tr>\n",
       "      <th>9.0</th>\n",
       "      <td>655.086168</td>\n",
       "      <td>39.506803</td>\n",
       "      <td>77325.410351</td>\n",
       "      <td>1.522676</td>\n",
       "      <td>0.708617</td>\n",
       "      <td>0.472789</td>\n",
       "      <td>99592.441995</td>\n",
       "      <td>0.219955</td>\n",
       "    </tr>\n",
       "    <tr>\n",
       "      <th>10.0</th>\n",
       "      <td>651.670404</td>\n",
       "      <td>39.195067</td>\n",
       "      <td>73580.495964</td>\n",
       "      <td>1.562780</td>\n",
       "      <td>0.708520</td>\n",
       "      <td>0.515695</td>\n",
       "      <td>102841.772040</td>\n",
       "      <td>0.206278</td>\n",
       "    </tr>\n",
       "  </tbody>\n",
       "</table>\n",
       "</div>"
      ],
      "text/plain": [
       "        CreditScore        Age       Balance  NumOfProducts  HasCrCard  \\\n",
       "Tenure                                                                   \n",
       "0.0      651.913613  39.306283  80135.307277       1.437173   0.651832   \n",
       "1.0      648.681723  39.646008  77365.221712       1.494748   0.670168   \n",
       "2.0      654.644211  39.246316  76502.413053       1.584211   0.706316   \n",
       "3.0      651.096983  38.984914  78105.560356       1.535560   0.713362   \n",
       "4.0      650.681356  38.116384  74133.600373       1.519774   0.710734   \n",
       "5.0      649.962244  39.242718  76138.007217       1.564186   0.700108   \n",
       "6.0      647.757094  38.637911  74970.085698       1.515323   0.715096   \n",
       "7.0      649.195676  38.349189  75915.378086       1.525405   0.708108   \n",
       "8.0      648.618435  38.496249  77994.797685       1.530547   0.734191   \n",
       "9.0      655.086168  39.506803  77325.410351       1.522676   0.708617   \n",
       "10.0     651.670404  39.195067  73580.495964       1.562780   0.708520   \n",
       "\n",
       "        IsActiveMember  EstimatedSalary    Exited  \n",
       "Tenure                                             \n",
       "0.0           0.531414     99565.395157  0.235602  \n",
       "1.0           0.551471    100635.368718  0.223739  \n",
       "2.0           0.540000     99120.730168  0.194737  \n",
       "3.0           0.517241     97351.648168  0.213362  \n",
       "4.0           0.509605    100041.330836  0.207910  \n",
       "5.0           0.509169    101239.472233  0.201726  \n",
       "6.0           0.510783    100151.566924  0.200908  \n",
       "7.0           0.513514    101842.455362  0.172973  \n",
       "8.0           0.504823    100611.163290  0.186495  \n",
       "9.0           0.472789     99592.441995  0.219955  \n",
       "10.0          0.515695    102841.772040  0.206278  "
      ]
     },
     "execution_count": 21,
     "metadata": {},
     "output_type": "execute_result"
    }
   ],
   "source": [
    "df.groupby('Tenure').mean()"
   ]
  },
  {
   "cell_type": "markdown",
   "metadata": {},
   "source": [
    "При беглом анализе средние для пустого Tenure похожи на средние для Tenure 4 или 6. Во всяком случае исключён вариант, что это какая-то группа с характерными данными в других полях, это не заметно. \n",
    "Чтобы не искажать распределение значений Tenure, заполним пропуски случайными значениями."
   ]
  },
  {
   "cell_type": "code",
   "execution_count": 22,
   "metadata": {},
   "outputs": [],
   "source": [
    "df['Tenure'] = df['Tenure'].apply(lambda x: np.random.choice(df['Tenure'].dropna().values) if (np.isnan(x)) else x)"
   ]
  },
  {
   "cell_type": "code",
   "execution_count": 23,
   "metadata": {},
   "outputs": [
    {
     "data": {
      "text/plain": [
       "<AxesSubplot:>"
      ]
     },
     "execution_count": 23,
     "metadata": {},
     "output_type": "execute_result"
    },
    {
     "data": {
      "image/png": "[encoded data removed]",
      "text/plain": [
       "<Figure size 432x288 with 1 Axes>"
      ]
     },
     "metadata": {
      "needs_background": "light"
     },
     "output_type": "display_data"
    }
   ],
   "source": [
    "df['Tenure'].hist(bins=10)"
   ]
  },
  {
   "cell_type": "markdown",
   "metadata": {},
   "source": [
    "Характер распределения не изменился, это для нас важно."
   ]
  },
  {
   "cell_type": "code",
   "execution_count": 24,
   "metadata": {},
   "outputs": [
    {
     "name": "stdout",
     "output_type": "stream",
     "text": [
      "<class 'pandas.core.frame.DataFrame'>\n",
      "RangeIndex: 10000 entries, 0 to 9999\n",
      "Data columns (total 11 columns):\n",
      " #   Column           Non-Null Count  Dtype  \n",
      "---  ------           --------------  -----  \n",
      " 0   CreditScore      10000 non-null  int64  \n",
      " 1   Geography        10000 non-null  object \n",
      " 2   Gender           10000 non-null  object \n",
      " 3   Age              10000 non-null  int64  \n",
      " 4   Tenure           10000 non-null  float64\n",
      " 5   Balance          10000 non-null  float64\n",
      " 6   NumOfProducts    10000 non-null  int64  \n",
      " 7   HasCrCard        10000 non-null  int64  \n",
      " 8   IsActiveMember   10000 non-null  int64  \n",
      " 9   EstimatedSalary  10000 non-null  float64\n",
      " 10  Exited           10000 non-null  int64  \n",
      "dtypes: float64(3), int64(6), object(2)\n",
      "memory usage: 859.5+ KB\n"
     ]
    }
   ],
   "source": [
    "df.info()"
   ]
  },
  {
   "cell_type": "markdown",
   "metadata": {},
   "source": [
    "### One-Hot Encoding категориальных признаков"
   ]
  },
  {
   "cell_type": "markdown",
   "metadata": {},
   "source": [
    "Категориальные признаки:\n",
    "    1. Geography\n",
    "    2. Gender"
   ]
  },
  {
   "cell_type": "code",
   "execution_count": 25,
   "metadata": {},
   "outputs": [
    {
     "data": {
      "text/plain": [
       "(10000, 11)"
      ]
     },
     "execution_count": 25,
     "metadata": {},
     "output_type": "execute_result"
    }
   ],
   "source": [
    "df.shape"
   ]
  },
  {
   "cell_type": "code",
   "execution_count": 26,
   "metadata": {},
   "outputs": [],
   "source": [
    "df_ohe = pd.get_dummies(df, drop_first=True)"
   ]
  },
  {
   "cell_type": "code",
   "execution_count": 27,
   "metadata": {},
   "outputs": [
    {
     "data": {
      "text/plain": [
       "(10000, 12)"
      ]
     },
     "execution_count": 27,
     "metadata": {},
     "output_type": "execute_result"
    }
   ],
   "source": [
    "df_ohe.shape"
   ]
  },
  {
   "cell_type": "code",
   "execution_count": 28,
   "metadata": {},
   "outputs": [
    {
     "data": {
      "text/html": [
       "<div>\n",
       "<style scoped>\n",
       "    .dataframe tbody tr th:only-of-type {\n",
       "        vertical-align: middle;\n",
       "    }\n",
       "\n",
       "    .dataframe tbody tr th {\n",
       "        vertical-align: top;\n",
       "    }\n",
       "\n",
       "    .dataframe thead th {\n",
       "        text-align: right;\n",
       "    }\n",
       "</style>\n",
       "<table border=\"1\" class=\"dataframe\">\n",
       "  <thead>\n",
       "    <tr style=\"text-align: right;\">\n",
       "      <th></th>\n",
       "      <th>CreditScore</th>\n",
       "      <th>Age</th>\n",
       "      <th>Tenure</th>\n",
       "      <th>Balance</th>\n",
       "      <th>NumOfProducts</th>\n",
       "      <th>HasCrCard</th>\n",
       "      <th>IsActiveMember</th>\n",
       "      <th>EstimatedSalary</th>\n",
       "      <th>Exited</th>\n",
       "      <th>Geography_Germany</th>\n",
       "      <th>Geography_Spain</th>\n",
       "      <th>Gender_Male</th>\n",
       "    </tr>\n",
       "  </thead>\n",
       "  <tbody>\n",
       "    <tr>\n",
       "      <th>0</th>\n",
       "      <td>619</td>\n",
       "      <td>42</td>\n",
       "      <td>2.0</td>\n",
       "      <td>0.00</td>\n",
       "      <td>1</td>\n",
       "      <td>1</td>\n",
       "      <td>1</td>\n",
       "      <td>101348.88</td>\n",
       "      <td>1</td>\n",
       "      <td>0</td>\n",
       "      <td>0</td>\n",
       "      <td>0</td>\n",
       "    </tr>\n",
       "    <tr>\n",
       "      <th>1</th>\n",
       "      <td>608</td>\n",
       "      <td>41</td>\n",
       "      <td>1.0</td>\n",
       "      <td>83807.86</td>\n",
       "      <td>1</td>\n",
       "      <td>0</td>\n",
       "      <td>1</td>\n",
       "      <td>112542.58</td>\n",
       "      <td>0</td>\n",
       "      <td>0</td>\n",
       "      <td>1</td>\n",
       "      <td>0</td>\n",
       "    </tr>\n",
       "    <tr>\n",
       "      <th>2</th>\n",
       "      <td>502</td>\n",
       "      <td>42</td>\n",
       "      <td>8.0</td>\n",
       "      <td>159660.80</td>\n",
       "      <td>3</td>\n",
       "      <td>1</td>\n",
       "      <td>0</td>\n",
       "      <td>113931.57</td>\n",
       "      <td>1</td>\n",
       "      <td>0</td>\n",
       "      <td>0</td>\n",
       "      <td>0</td>\n",
       "    </tr>\n",
       "    <tr>\n",
       "      <th>3</th>\n",
       "      <td>699</td>\n",
       "      <td>39</td>\n",
       "      <td>1.0</td>\n",
       "      <td>0.00</td>\n",
       "      <td>2</td>\n",
       "      <td>0</td>\n",
       "      <td>0</td>\n",
       "      <td>93826.63</td>\n",
       "      <td>0</td>\n",
       "      <td>0</td>\n",
       "      <td>0</td>\n",
       "      <td>0</td>\n",
       "    </tr>\n",
       "    <tr>\n",
       "      <th>4</th>\n",
       "      <td>850</td>\n",
       "      <td>43</td>\n",
       "      <td>2.0</td>\n",
       "      <td>125510.82</td>\n",
       "      <td>1</td>\n",
       "      <td>1</td>\n",
       "      <td>1</td>\n",
       "      <td>79084.10</td>\n",
       "      <td>0</td>\n",
       "      <td>0</td>\n",
       "      <td>1</td>\n",
       "      <td>0</td>\n",
       "    </tr>\n",
       "  </tbody>\n",
       "</table>\n",
       "</div>"
      ],
      "text/plain": [
       "   CreditScore  Age  Tenure    Balance  NumOfProducts  HasCrCard  \\\n",
       "0          619   42     2.0       0.00              1          1   \n",
       "1          608   41     1.0   83807.86              1          0   \n",
       "2          502   42     8.0  159660.80              3          1   \n",
       "3          699   39     1.0       0.00              2          0   \n",
       "4          850   43     2.0  125510.82              1          1   \n",
       "\n",
       "   IsActiveMember  EstimatedSalary  Exited  Geography_Germany  \\\n",
       "0               1        101348.88       1                  0   \n",
       "1               1        112542.58       0                  0   \n",
       "2               0        113931.57       1                  0   \n",
       "3               0         93826.63       0                  0   \n",
       "4               1         79084.10       0                  0   \n",
       "\n",
       "   Geography_Spain  Gender_Male  \n",
       "0                0            0  \n",
       "1                1            0  \n",
       "2                0            0  \n",
       "3                0            0  \n",
       "4                1            0  "
      ]
     },
     "execution_count": 28,
     "metadata": {},
     "output_type": "execute_result"
    }
   ],
   "source": [
    "df_ohe.head()"
   ]
  },
  {
   "cell_type": "markdown",
   "metadata": {},
   "source": [
    "### Разделение данных для тренировки, валидации и тестирования"
   ]
  },
  {
   "cell_type": "markdown",
   "metadata": {},
   "source": [
    "Отделим целевой признак. Выделим 60% всех данных как тренировочные, а оставшуюся часть разделим на валидационную и тестовую."
   ]
  },
  {
   "cell_type": "code",
   "execution_count": 29,
   "metadata": {},
   "outputs": [],
   "source": [
    "target = df_ohe['Exited']\n",
    "features = df_ohe.drop('Exited', axis=1)"
   ]
  },
  {
   "cell_type": "code",
   "execution_count": 30,
   "metadata": {},
   "outputs": [],
   "source": [
    "features_train, features_test, target_train, target_test = train_test_split(\n",
    "    features, target, test_size=0.4, random_state=42)"
   ]
  },
  {
   "cell_type": "code",
   "execution_count": 31,
   "metadata": {},
   "outputs": [],
   "source": [
    "features_test, features_valid, target_test, target_valid = train_test_split(\n",
    "    features_test, target_test, test_size=0.5, random_state=42)"
   ]
  },
  {
   "cell_type": "code",
   "execution_count": 32,
   "metadata": {},
   "outputs": [
    {
     "data": {
      "text/plain": [
       "((6000, 11), (6000,))"
      ]
     },
     "execution_count": 32,
     "metadata": {},
     "output_type": "execute_result"
    }
   ],
   "source": [
    "features_train.shape, target_train.shape"
   ]
  },
  {
   "cell_type": "code",
   "execution_count": 33,
   "metadata": {},
   "outputs": [
    {
     "data": {
      "text/plain": [
       "((2000, 11), (2000,))"
      ]
     },
     "execution_count": 33,
     "metadata": {},
     "output_type": "execute_result"
    }
   ],
   "source": [
    "features_valid.shape, target_valid.shape"
   ]
  },
  {
   "cell_type": "code",
   "execution_count": 34,
   "metadata": {},
   "outputs": [
    {
     "data": {
      "text/plain": [
       "((2000, 11), (2000,))"
      ]
     },
     "execution_count": 34,
     "metadata": {},
     "output_type": "execute_result"
    }
   ],
   "source": [
    "features_test.shape, target_test.shape"
   ]
  },
  {
   "cell_type": "markdown",
   "metadata": {},
   "source": [
    "### Масштабирование признаков"
   ]
  },
  {
   "cell_type": "code",
   "execution_count": 35,
   "metadata": {},
   "outputs": [
    {
     "data": {
      "text/plain": [
       "Index(['CreditScore', 'Age', 'Tenure', 'Balance', 'NumOfProducts', 'HasCrCard',\n",
       "       'IsActiveMember', 'EstimatedSalary', 'Geography_Germany',\n",
       "       'Geography_Spain', 'Gender_Male'],\n",
       "      dtype='object')"
      ]
     },
     "execution_count": 35,
     "metadata": {},
     "output_type": "execute_result"
    }
   ],
   "source": [
    "features_train.columns"
   ]
  },
  {
   "cell_type": "code",
   "execution_count": 36,
   "metadata": {},
   "outputs": [],
   "source": [
    "numeric = ['CreditScore', 'Age', 'Tenure', 'Balance', 'NumOfProducts', 'EstimatedSalary']"
   ]
  },
  {
   "cell_type": "code",
   "execution_count": 37,
   "metadata": {},
   "outputs": [],
   "source": [
    "scaler = StandardScaler()\n",
    "scaler.fit(features_train[numeric])\n",
    "features_train[numeric] = scaler.transform(features_train[numeric])\n",
    "features_valid[numeric] = scaler.transform(features_valid[numeric])"
   ]
  },
  {
   "cell_type": "code",
   "execution_count": 38,
   "metadata": {},
   "outputs": [
    {
     "data": {
      "text/html": [
       "<div>\n",
       "<style scoped>\n",
       "    .dataframe tbody tr th:only-of-type {\n",
       "        vertical-align: middle;\n",
       "    }\n",
       "\n",
       "    .dataframe tbody tr th {\n",
       "        vertical-align: top;\n",
       "    }\n",
       "\n",
       "    .dataframe thead th {\n",
       "        text-align: right;\n",
       "    }\n",
       "</style>\n",
       "<table border=\"1\" class=\"dataframe\">\n",
       "  <thead>\n",
       "    <tr style=\"text-align: right;\">\n",
       "      <th></th>\n",
       "      <th>CreditScore</th>\n",
       "      <th>Age</th>\n",
       "      <th>Tenure</th>\n",
       "      <th>Balance</th>\n",
       "      <th>NumOfProducts</th>\n",
       "      <th>HasCrCard</th>\n",
       "      <th>IsActiveMember</th>\n",
       "      <th>EstimatedSalary</th>\n",
       "      <th>Geography_Germany</th>\n",
       "      <th>Geography_Spain</th>\n",
       "      <th>Gender_Male</th>\n",
       "    </tr>\n",
       "  </thead>\n",
       "  <tbody>\n",
       "    <tr>\n",
       "      <th>9761</th>\n",
       "      <td>1.603068</td>\n",
       "      <td>2.027653</td>\n",
       "      <td>-0.677175</td>\n",
       "      <td>-0.048229</td>\n",
       "      <td>0.824078</td>\n",
       "      <td>1</td>\n",
       "      <td>1</td>\n",
       "      <td>-1.452982</td>\n",
       "      <td>1</td>\n",
       "      <td>0</td>\n",
       "      <td>0</td>\n",
       "    </tr>\n",
       "    <tr>\n",
       "      <th>3159</th>\n",
       "      <td>1.883194</td>\n",
       "      <td>-1.520072</td>\n",
       "      <td>-0.331795</td>\n",
       "      <td>0.884122</td>\n",
       "      <td>-0.905967</td>\n",
       "      <td>1</td>\n",
       "      <td>0</td>\n",
       "      <td>-1.403696</td>\n",
       "      <td>0</td>\n",
       "      <td>0</td>\n",
       "      <td>1</td>\n",
       "    </tr>\n",
       "    <tr>\n",
       "      <th>1489</th>\n",
       "      <td>-0.451185</td>\n",
       "      <td>0.014079</td>\n",
       "      <td>1.049725</td>\n",
       "      <td>1.050751</td>\n",
       "      <td>-0.905967</td>\n",
       "      <td>0</td>\n",
       "      <td>1</td>\n",
       "      <td>1.290549</td>\n",
       "      <td>0</td>\n",
       "      <td>0</td>\n",
       "      <td>0</td>\n",
       "    </tr>\n",
       "    <tr>\n",
       "      <th>2987</th>\n",
       "      <td>0.243941</td>\n",
       "      <td>-1.232419</td>\n",
       "      <td>-1.367935</td>\n",
       "      <td>0.517839</td>\n",
       "      <td>-0.905967</td>\n",
       "      <td>0</td>\n",
       "      <td>0</td>\n",
       "      <td>-0.709924</td>\n",
       "      <td>1</td>\n",
       "      <td>0</td>\n",
       "      <td>0</td>\n",
       "    </tr>\n",
       "    <tr>\n",
       "      <th>812</th>\n",
       "      <td>-1.416062</td>\n",
       "      <td>-0.561228</td>\n",
       "      <td>-0.677175</td>\n",
       "      <td>-1.214721</td>\n",
       "      <td>0.824078</td>\n",
       "      <td>1</td>\n",
       "      <td>1</td>\n",
       "      <td>-0.736719</td>\n",
       "      <td>0</td>\n",
       "      <td>1</td>\n",
       "      <td>0</td>\n",
       "    </tr>\n",
       "  </tbody>\n",
       "</table>\n",
       "</div>"
      ],
      "text/plain": [
       "      CreditScore       Age    Tenure   Balance  NumOfProducts  HasCrCard  \\\n",
       "9761     1.603068  2.027653 -0.677175 -0.048229       0.824078          1   \n",
       "3159     1.883194 -1.520072 -0.331795  0.884122      -0.905967          1   \n",
       "1489    -0.451185  0.014079  1.049725  1.050751      -0.905967          0   \n",
       "2987     0.243941 -1.232419 -1.367935  0.517839      -0.905967          0   \n",
       "812     -1.416062 -0.561228 -0.677175 -1.214721       0.824078          1   \n",
       "\n",
       "      IsActiveMember  EstimatedSalary  Geography_Germany  Geography_Spain  \\\n",
       "9761               1        -1.452982                  1                0   \n",
       "3159               0        -1.403696                  0                0   \n",
       "1489               1         1.290549                  0                0   \n",
       "2987               0        -0.709924                  1                0   \n",
       "812                1        -0.736719                  0                1   \n",
       "\n",
       "      Gender_Male  \n",
       "9761            0  \n",
       "3159            1  \n",
       "1489            0  \n",
       "2987            0  \n",
       "812             0  "
      ]
     },
     "execution_count": 38,
     "metadata": {},
     "output_type": "execute_result"
    }
   ],
   "source": [
    "features_train.head()"
   ]
  },
  {
   "cell_type": "markdown",
   "metadata": {},
   "source": [
    "## Исследование задачи"
   ]
  },
  {
   "cell_type": "markdown",
   "metadata": {},
   "source": [
    "Сделаем функцию для подсчёта характеристик модели"
   ]
  },
  {
   "cell_type": "code",
   "execution_count": 39,
   "metadata": {},
   "outputs": [],
   "source": [
    "def get_model_scores(model, features_valid, target_valid):\n",
    "    predicted_valid = model.predict(features_valid)\n",
    "    probabilities_valid = model.predict_proba(features_valid)\n",
    "    probabilities_one_valid = probabilities_valid[:, 1]\n",
    "    \n",
    "    accuracy = accuracy_score(target_valid, predicted_valid)\n",
    "    recall = recall_score(target_valid, predicted_valid, labels=np.unique(predicted_valid))\n",
    "    precision = precision_score(target_valid, predicted_valid, labels=np.unique(predicted_valid))\n",
    "    f1 = f1_score(target_valid, predicted_valid, labels=np.unique(predicted_valid))\n",
    "    auc_roc = roc_auc_score(target_valid, probabilities_one_valid)\n",
    "    \n",
    "    return accuracy, recall, precision, f1, auc_roc  "
   ]
  },
  {
   "cell_type": "markdown",
   "metadata": {},
   "source": [
    "### LogisticRegression"
   ]
  },
  {
   "cell_type": "code",
   "execution_count": 40,
   "metadata": {},
   "outputs": [],
   "source": [
    "model = LogisticRegression(random_state=42, solver='liblinear')\n",
    "model.fit(features_train, target_train)\n",
    "predicted_valid = model.predict(features_valid)\n",
    "probabilities_valid = model.predict_proba(features_valid)\n",
    "probabilities_one_valid = probabilities_valid[:, 1]"
   ]
  },
  {
   "cell_type": "code",
   "execution_count": 41,
   "metadata": {},
   "outputs": [
    {
     "data": {
      "text/plain": [
       "array([[1505,   65],\n",
       "       [ 337,   93]], dtype=int64)"
      ]
     },
     "execution_count": 41,
     "metadata": {},
     "output_type": "execute_result"
    }
   ],
   "source": [
    "matrix = confusion_matrix(target_valid, predicted_valid)\n",
    "matrix"
   ]
  },
  {
   "cell_type": "code",
   "execution_count": 42,
   "metadata": {},
   "outputs": [
    {
     "data": {
      "text/plain": [
       "(1570, 430)"
      ]
     },
     "execution_count": 42,
     "metadata": {},
     "output_type": "execute_result"
    }
   ],
   "source": [
    "matrix[0].sum(), matrix[1].sum()"
   ]
  },
  {
   "cell_type": "code",
   "execution_count": 43,
   "metadata": {},
   "outputs": [
    {
     "data": {
      "text/html": [
       "<div>\n",
       "<style scoped>\n",
       "    .dataframe tbody tr th:only-of-type {\n",
       "        vertical-align: middle;\n",
       "    }\n",
       "\n",
       "    .dataframe tbody tr th {\n",
       "        vertical-align: top;\n",
       "    }\n",
       "\n",
       "    .dataframe thead th {\n",
       "        text-align: right;\n",
       "    }\n",
       "</style>\n",
       "<table border=\"1\" class=\"dataframe\">\n",
       "  <thead>\n",
       "    <tr style=\"text-align: right;\">\n",
       "      <th></th>\n",
       "      <th>accuracy</th>\n",
       "      <th>recall</th>\n",
       "      <th>precision</th>\n",
       "      <th>f1</th>\n",
       "      <th>auc_roc</th>\n",
       "    </tr>\n",
       "  </thead>\n",
       "  <tbody>\n",
       "    <tr>\n",
       "      <th>0</th>\n",
       "      <td>0.799</td>\n",
       "      <td>0.216279</td>\n",
       "      <td>0.588608</td>\n",
       "      <td>0.316327</td>\n",
       "      <td>0.779153</td>\n",
       "    </tr>\n",
       "  </tbody>\n",
       "</table>\n",
       "</div>"
      ],
      "text/plain": [
       "   accuracy    recall  precision        f1   auc_roc\n",
       "0     0.799  0.216279   0.588608  0.316327  0.779153"
      ]
     },
     "execution_count": 43,
     "metadata": {},
     "output_type": "execute_result"
    }
   ],
   "source": [
    "pd.DataFrame([get_model_scores(model, features_valid, target_valid)],\n",
    "             columns=['accuracy', 'recall', 'precision', 'f1', 'auc_roc'])"
   ]
  },
  {
   "cell_type": "code",
   "execution_count": 44,
   "metadata": {},
   "outputs": [
    {
     "data": {
      "text/plain": [
       "<AxesSubplot:xlabel='fpr'>"
      ]
     },
     "execution_count": 44,
     "metadata": {},
     "output_type": "execute_result"
    },
    {
     "data": {
      "image/png": "[encoded data removed]",
      "text/plain": [
       "<Figure size 432x432 with 1 Axes>"
      ]
     },
     "metadata": {
      "needs_background": "light"
     },
     "output_type": "display_data"
    }
   ],
   "source": [
    "fpr, tpr, threshold = roc_curve(target_valid, probabilities_one_valid)\n",
    "pd.DataFrame({'fpr':fpr,'tpr':tpr,'threshold':threshold}).plot(x='fpr', y='tpr', grid=True, figsize=(6,6))"
   ]
  },
  {
   "cell_type": "markdown",
   "metadata": {},
   "source": [
    "Наша характеристика f1 (0.32) весьма далека от желаемого значения (0.59) при базовых параметрах модели. "
   ]
  },
  {
   "cell_type": "markdown",
   "metadata": {},
   "source": [
    "### DecisionTreeClassifier"
   ]
  },
  {
   "cell_type": "code",
   "execution_count": 45,
   "metadata": {},
   "outputs": [],
   "source": [
    "model = DecisionTreeClassifier(random_state=42)\n",
    "model.fit(features_train, target_train)\n",
    "predicted_valid = model.predict(features_valid)\n",
    "probabilities_valid = model.predict_proba(features_valid)\n",
    "probabilities_one_valid = probabilities_valid[:, 1]"
   ]
  },
  {
   "cell_type": "code",
   "execution_count": 46,
   "metadata": {},
   "outputs": [
    {
     "data": {
      "text/plain": [
       "array([[1360,  210],\n",
       "       [ 210,  220]], dtype=int64)"
      ]
     },
     "execution_count": 46,
     "metadata": {},
     "output_type": "execute_result"
    }
   ],
   "source": [
    "matrix = confusion_matrix(target_valid, predicted_valid)\n",
    "matrix"
   ]
  },
  {
   "cell_type": "code",
   "execution_count": 47,
   "metadata": {
    "scrolled": true
   },
   "outputs": [
    {
     "data": {
      "text/html": [
       "<div>\n",
       "<style scoped>\n",
       "    .dataframe tbody tr th:only-of-type {\n",
       "        vertical-align: middle;\n",
       "    }\n",
       "\n",
       "    .dataframe tbody tr th {\n",
       "        vertical-align: top;\n",
       "    }\n",
       "\n",
       "    .dataframe thead th {\n",
       "        text-align: right;\n",
       "    }\n",
       "</style>\n",
       "<table border=\"1\" class=\"dataframe\">\n",
       "  <thead>\n",
       "    <tr style=\"text-align: right;\">\n",
       "      <th></th>\n",
       "      <th>accuracy</th>\n",
       "      <th>recall</th>\n",
       "      <th>precision</th>\n",
       "      <th>f1</th>\n",
       "      <th>auc_roc</th>\n",
       "    </tr>\n",
       "  </thead>\n",
       "  <tbody>\n",
       "    <tr>\n",
       "      <th>0</th>\n",
       "      <td>0.79</td>\n",
       "      <td>0.511628</td>\n",
       "      <td>0.511628</td>\n",
       "      <td>0.511628</td>\n",
       "      <td>0.688935</td>\n",
       "    </tr>\n",
       "  </tbody>\n",
       "</table>\n",
       "</div>"
      ],
      "text/plain": [
       "   accuracy    recall  precision        f1   auc_roc\n",
       "0      0.79  0.511628   0.511628  0.511628  0.688935"
      ]
     },
     "execution_count": 47,
     "metadata": {},
     "output_type": "execute_result"
    }
   ],
   "source": [
    "pd.DataFrame([get_model_scores(model, features_valid, target_valid)],\n",
    "             columns=['accuracy', 'recall', 'precision', 'f1', 'auc_roc'])"
   ]
  },
  {
   "cell_type": "code",
   "execution_count": 48,
   "metadata": {},
   "outputs": [
    {
     "data": {
      "text/plain": [
       "<AxesSubplot:xlabel='fpr'>"
      ]
     },
     "execution_count": 48,
     "metadata": {},
     "output_type": "execute_result"
    },
    {
     "data": {
      "image/png": "[encoded data removed]",
      "text/plain": [
       "<Figure size 432x432 with 1 Axes>"
      ]
     },
     "metadata": {
      "needs_background": "light"
     },
     "output_type": "display_data"
    }
   ],
   "source": [
    "fpr, tpr, threshold = roc_curve(target_valid, probabilities_one_valid)\n",
    "pd.DataFrame({'fpr':fpr,'tpr':tpr,'threshold':threshold}).plot(x='fpr', y='tpr', grid=True, figsize=(6,6))"
   ]
  },
  {
   "cell_type": "markdown",
   "metadata": {},
   "source": [
    "Для этой модели сходу результат получше (f1=0.52)"
   ]
  },
  {
   "cell_type": "markdown",
   "metadata": {},
   "source": [
    "### RandomForestClassifier"
   ]
  },
  {
   "cell_type": "code",
   "execution_count": 49,
   "metadata": {},
   "outputs": [],
   "source": [
    "model = RandomForestClassifier(random_state=42)\n",
    "model.fit(features_train, target_train)\n",
    "predicted_valid = model.predict(features_valid)\n",
    "probabilities_valid = model.predict_proba(features_valid)\n",
    "probabilities_one_valid = probabilities_valid[:, 1]"
   ]
  },
  {
   "cell_type": "code",
   "execution_count": 50,
   "metadata": {},
   "outputs": [
    {
     "data": {
      "text/plain": [
       "array([[1512,   58],\n",
       "       [ 223,  207]], dtype=int64)"
      ]
     },
     "execution_count": 50,
     "metadata": {},
     "output_type": "execute_result"
    }
   ],
   "source": [
    "matrix = confusion_matrix(target_valid, predicted_valid)\n",
    "matrix"
   ]
  },
  {
   "cell_type": "code",
   "execution_count": 51,
   "metadata": {},
   "outputs": [
    {
     "data": {
      "text/html": [
       "<div>\n",
       "<style scoped>\n",
       "    .dataframe tbody tr th:only-of-type {\n",
       "        vertical-align: middle;\n",
       "    }\n",
       "\n",
       "    .dataframe tbody tr th {\n",
       "        vertical-align: top;\n",
       "    }\n",
       "\n",
       "    .dataframe thead th {\n",
       "        text-align: right;\n",
       "    }\n",
       "</style>\n",
       "<table border=\"1\" class=\"dataframe\">\n",
       "  <thead>\n",
       "    <tr style=\"text-align: right;\">\n",
       "      <th></th>\n",
       "      <th>accuracy</th>\n",
       "      <th>recall</th>\n",
       "      <th>precision</th>\n",
       "      <th>f1</th>\n",
       "      <th>auc_roc</th>\n",
       "    </tr>\n",
       "  </thead>\n",
       "  <tbody>\n",
       "    <tr>\n",
       "      <th>0</th>\n",
       "      <td>0.8595</td>\n",
       "      <td>0.481395</td>\n",
       "      <td>0.781132</td>\n",
       "      <td>0.595683</td>\n",
       "      <td>0.862186</td>\n",
       "    </tr>\n",
       "  </tbody>\n",
       "</table>\n",
       "</div>"
      ],
      "text/plain": [
       "   accuracy    recall  precision        f1   auc_roc\n",
       "0    0.8595  0.481395   0.781132  0.595683  0.862186"
      ]
     },
     "execution_count": 51,
     "metadata": {},
     "output_type": "execute_result"
    }
   ],
   "source": [
    "pd.DataFrame([get_model_scores(model, features_valid, target_valid)],\n",
    "             columns=['accuracy', 'recall', 'precision', 'f1', 'auc_roc'])"
   ]
  },
  {
   "cell_type": "markdown",
   "metadata": {},
   "source": [
    "Результаты RandomForestClassifier пока лучше всех по всем параметрам, кроме полноты."
   ]
  },
  {
   "cell_type": "markdown",
   "metadata": {},
   "source": [
    "### CatBoostClassifier"
   ]
  },
  {
   "cell_type": "code",
   "execution_count": 52,
   "metadata": {},
   "outputs": [
    {
     "name": "stdout",
     "output_type": "stream",
     "text": [
      "Learning rate set to 0.182896\n",
      "0:\tlearn: 0.6058734\ttotal: 156ms\tremaining: 15.4s\n",
      "25:\tlearn: 0.3275662\ttotal: 217ms\tremaining: 617ms\n",
      "50:\tlearn: 0.3083655\ttotal: 281ms\tremaining: 270ms\n",
      "75:\tlearn: 0.2944701\ttotal: 337ms\tremaining: 106ms\n",
      "99:\tlearn: 0.2846562\ttotal: 389ms\tremaining: 0us\n"
     ]
    },
    {
     "data": {
      "text/plain": [
       "<catboost.core.CatBoostClassifier at 0x24707332d00>"
      ]
     },
     "execution_count": 52,
     "metadata": {},
     "output_type": "execute_result"
    }
   ],
   "source": [
    "from catboost import CatBoostClassifier\n",
    "model = CatBoostClassifier(random_state=42, verbose=25, iterations=100)\n",
    "model.fit(features_train, target_train)"
   ]
  },
  {
   "cell_type": "code",
   "execution_count": 53,
   "metadata": {},
   "outputs": [],
   "source": [
    "predicted_valid = model.predict(features_valid)\n",
    "probabilities_valid = model.predict_proba(features_valid)\n",
    "probabilities_one_valid = probabilities_valid[:, 1]"
   ]
  },
  {
   "cell_type": "code",
   "execution_count": 54,
   "metadata": {},
   "outputs": [
    {
     "data": {
      "text/html": [
       "<div>\n",
       "<style scoped>\n",
       "    .dataframe tbody tr th:only-of-type {\n",
       "        vertical-align: middle;\n",
       "    }\n",
       "\n",
       "    .dataframe tbody tr th {\n",
       "        vertical-align: top;\n",
       "    }\n",
       "\n",
       "    .dataframe thead th {\n",
       "        text-align: right;\n",
       "    }\n",
       "</style>\n",
       "<table border=\"1\" class=\"dataframe\">\n",
       "  <thead>\n",
       "    <tr style=\"text-align: right;\">\n",
       "      <th></th>\n",
       "      <th>accuracy</th>\n",
       "      <th>recall</th>\n",
       "      <th>precision</th>\n",
       "      <th>f1</th>\n",
       "      <th>auc_roc</th>\n",
       "    </tr>\n",
       "  </thead>\n",
       "  <tbody>\n",
       "    <tr>\n",
       "      <th>0</th>\n",
       "      <td>0.861</td>\n",
       "      <td>0.483721</td>\n",
       "      <td>0.787879</td>\n",
       "      <td>0.599424</td>\n",
       "      <td>0.867611</td>\n",
       "    </tr>\n",
       "  </tbody>\n",
       "</table>\n",
       "</div>"
      ],
      "text/plain": [
       "   accuracy    recall  precision        f1   auc_roc\n",
       "0     0.861  0.483721   0.787879  0.599424  0.867611"
      ]
     },
     "execution_count": 54,
     "metadata": {},
     "output_type": "execute_result"
    }
   ],
   "source": [
    "pd.DataFrame([get_model_scores(model, features_valid, target_valid)],\n",
    "             columns=['accuracy', 'recall', 'precision', 'f1', 'auc_roc'])"
   ]
  },
  {
   "cell_type": "code",
   "execution_count": 55,
   "metadata": {},
   "outputs": [
    {
     "data": {
      "text/plain": [
       "<AxesSubplot:xlabel='fpr'>"
      ]
     },
     "execution_count": 55,
     "metadata": {},
     "output_type": "execute_result"
    },
    {
     "data": {
      "image/png": "[encoded data removed]",
      "text/plain": [
       "<Figure size 432x432 with 1 Axes>"
      ]
     },
     "metadata": {
      "needs_background": "light"
     },
     "output_type": "display_data"
    }
   ],
   "source": [
    "fpr, tpr, threshold = roc_curve(target_valid, probabilities_one_valid)\n",
    "pd.DataFrame({'fpr':fpr,'tpr':tpr,'threshold':threshold}).plot(x='fpr', y='tpr', grid=True, figsize=(6,6))"
   ]
  },
  {
   "cell_type": "markdown",
   "metadata": {},
   "source": [
    "### Вывод"
   ]
  },
  {
   "cell_type": "markdown",
   "metadata": {},
   "source": [
    "Классы не сбалансированы. Соотношение положительного и отрицательного класса приблизительно 1:4, Доля ошибок в положительном классе велика во всех рассмотренных моделях с базовыми гиперпараметрами."
   ]
  },
  {
   "cell_type": "markdown",
   "metadata": {},
   "source": [
    "Модель **CatBoostClassifier** с базовыми гиперпараметрами уже удовлетворяет заданным требованиям (f1 >= 0.59)."
   ]
  },
  {
   "cell_type": "markdown",
   "metadata": {},
   "source": [
    "## Борьба с дисбалансом"
   ]
  },
  {
   "cell_type": "markdown",
   "metadata": {},
   "source": [
    "### Сбалансированные классы"
   ]
  },
  {
   "cell_type": "markdown",
   "metadata": {},
   "source": [
    "Придадим объектам редкого класса больший вес."
   ]
  },
  {
   "cell_type": "markdown",
   "metadata": {},
   "source": [
    "#### LogisticRegression"
   ]
  },
  {
   "cell_type": "code",
   "execution_count": 56,
   "metadata": {},
   "outputs": [],
   "source": [
    "model = LogisticRegression(random_state=42, solver='liblinear', class_weight='balanced')\n",
    "model.fit(features_train, target_train)\n",
    "predicted_valid = model.predict(features_valid)\n",
    "probabilities_valid = model.predict_proba(features_valid)\n",
    "probabilities_one_valid = probabilities_valid[:, 1]"
   ]
  },
  {
   "cell_type": "code",
   "execution_count": 57,
   "metadata": {},
   "outputs": [
    {
     "data": {
      "text/html": [
       "<div>\n",
       "<style scoped>\n",
       "    .dataframe tbody tr th:only-of-type {\n",
       "        vertical-align: middle;\n",
       "    }\n",
       "\n",
       "    .dataframe tbody tr th {\n",
       "        vertical-align: top;\n",
       "    }\n",
       "\n",
       "    .dataframe thead th {\n",
       "        text-align: right;\n",
       "    }\n",
       "</style>\n",
       "<table border=\"1\" class=\"dataframe\">\n",
       "  <thead>\n",
       "    <tr style=\"text-align: right;\">\n",
       "      <th></th>\n",
       "      <th>accuracy</th>\n",
       "      <th>recall</th>\n",
       "      <th>precision</th>\n",
       "      <th>f1</th>\n",
       "      <th>auc_roc</th>\n",
       "    </tr>\n",
       "  </thead>\n",
       "  <tbody>\n",
       "    <tr>\n",
       "      <th>0</th>\n",
       "      <td>0.7005</td>\n",
       "      <td>0.709302</td>\n",
       "      <td>0.391528</td>\n",
       "      <td>0.504549</td>\n",
       "      <td>0.783582</td>\n",
       "    </tr>\n",
       "  </tbody>\n",
       "</table>\n",
       "</div>"
      ],
      "text/plain": [
       "   accuracy    recall  precision        f1   auc_roc\n",
       "0    0.7005  0.709302   0.391528  0.504549  0.783582"
      ]
     },
     "execution_count": 57,
     "metadata": {},
     "output_type": "execute_result"
    }
   ],
   "source": [
    "pd.DataFrame([get_model_scores(model, features_valid, target_valid)],\n",
    "             columns=['accuracy', 'recall', 'precision', 'f1', 'auc_roc'])"
   ]
  },
  {
   "cell_type": "markdown",
   "metadata": {},
   "source": [
    "Для модели **LogisticRegression** прирост в оценке f1 значительный c 0.32 до 0.50"
   ]
  },
  {
   "cell_type": "markdown",
   "metadata": {},
   "source": [
    "#### DecisionTreeClassifier"
   ]
  },
  {
   "cell_type": "code",
   "execution_count": 58,
   "metadata": {},
   "outputs": [],
   "source": [
    "model = DecisionTreeClassifier(random_state=42, class_weight='balanced')\n",
    "model.fit(features_train, target_train)\n",
    "predicted_valid = model.predict(features_valid)\n",
    "probabilities_valid = model.predict_proba(features_valid)\n",
    "probabilities_one_valid = probabilities_valid[:, 1]"
   ]
  },
  {
   "cell_type": "code",
   "execution_count": 59,
   "metadata": {},
   "outputs": [
    {
     "data": {
      "text/html": [
       "<div>\n",
       "<style scoped>\n",
       "    .dataframe tbody tr th:only-of-type {\n",
       "        vertical-align: middle;\n",
       "    }\n",
       "\n",
       "    .dataframe tbody tr th {\n",
       "        vertical-align: top;\n",
       "    }\n",
       "\n",
       "    .dataframe thead th {\n",
       "        text-align: right;\n",
       "    }\n",
       "</style>\n",
       "<table border=\"1\" class=\"dataframe\">\n",
       "  <thead>\n",
       "    <tr style=\"text-align: right;\">\n",
       "      <th></th>\n",
       "      <th>accuracy</th>\n",
       "      <th>recall</th>\n",
       "      <th>precision</th>\n",
       "      <th>f1</th>\n",
       "      <th>auc_roc</th>\n",
       "    </tr>\n",
       "  </thead>\n",
       "  <tbody>\n",
       "    <tr>\n",
       "      <th>0</th>\n",
       "      <td>0.7855</td>\n",
       "      <td>0.493023</td>\n",
       "      <td>0.501182</td>\n",
       "      <td>0.497069</td>\n",
       "      <td>0.679314</td>\n",
       "    </tr>\n",
       "  </tbody>\n",
       "</table>\n",
       "</div>"
      ],
      "text/plain": [
       "   accuracy    recall  precision        f1   auc_roc\n",
       "0    0.7855  0.493023   0.501182  0.497069  0.679314"
      ]
     },
     "execution_count": 59,
     "metadata": {},
     "output_type": "execute_result"
    }
   ],
   "source": [
    "pd.DataFrame([get_model_scores(model, features_valid, target_valid)],\n",
    "             columns=['accuracy', 'recall', 'precision', 'f1', 'auc_roc'])"
   ]
  },
  {
   "cell_type": "markdown",
   "metadata": {},
   "source": [
    "Для модели **DecisionTreeClassifier** оценка f1 пошла вниз с 0.52 до 0.50"
   ]
  },
  {
   "cell_type": "markdown",
   "metadata": {},
   "source": [
    "#### RandomForestClassifier"
   ]
  },
  {
   "cell_type": "code",
   "execution_count": 60,
   "metadata": {},
   "outputs": [],
   "source": [
    "model = RandomForestClassifier(random_state=42, class_weight='balanced')\n",
    "model.fit(features_train, target_train)\n",
    "predicted_valid = model.predict(features_valid)\n",
    "probabilities_valid = model.predict_proba(features_valid)\n",
    "probabilities_one_valid = probabilities_valid[:, 1]"
   ]
  },
  {
   "cell_type": "code",
   "execution_count": 61,
   "metadata": {},
   "outputs": [
    {
     "data": {
      "text/html": [
       "<div>\n",
       "<style scoped>\n",
       "    .dataframe tbody tr th:only-of-type {\n",
       "        vertical-align: middle;\n",
       "    }\n",
       "\n",
       "    .dataframe tbody tr th {\n",
       "        vertical-align: top;\n",
       "    }\n",
       "\n",
       "    .dataframe thead th {\n",
       "        text-align: right;\n",
       "    }\n",
       "</style>\n",
       "<table border=\"1\" class=\"dataframe\">\n",
       "  <thead>\n",
       "    <tr style=\"text-align: right;\">\n",
       "      <th></th>\n",
       "      <th>accuracy</th>\n",
       "      <th>recall</th>\n",
       "      <th>precision</th>\n",
       "      <th>f1</th>\n",
       "      <th>auc_roc</th>\n",
       "    </tr>\n",
       "  </thead>\n",
       "  <tbody>\n",
       "    <tr>\n",
       "      <th>0</th>\n",
       "      <td>0.8575</td>\n",
       "      <td>0.448837</td>\n",
       "      <td>0.80083</td>\n",
       "      <td>0.575261</td>\n",
       "      <td>0.861617</td>\n",
       "    </tr>\n",
       "  </tbody>\n",
       "</table>\n",
       "</div>"
      ],
      "text/plain": [
       "   accuracy    recall  precision        f1   auc_roc\n",
       "0    0.8575  0.448837    0.80083  0.575261  0.861617"
      ]
     },
     "execution_count": 61,
     "metadata": {},
     "output_type": "execute_result"
    }
   ],
   "source": [
    "pd.DataFrame([get_model_scores(model, features_valid, target_valid)],\n",
    "             columns=['accuracy', 'recall', 'precision', 'f1', 'auc_roc'])"
   ]
  },
  {
   "cell_type": "markdown",
   "metadata": {},
   "source": [
    "Модель требует более тонкой настройки. Балансировка классов ухудшила показатели."
   ]
  },
  {
   "cell_type": "markdown",
   "metadata": {},
   "source": [
    "### Увеличение выборки"
   ]
  },
  {
   "cell_type": "code",
   "execution_count": 62,
   "metadata": {},
   "outputs": [],
   "source": [
    "def upsample(features, target, repeat):\n",
    "    features_zeros = features[target == 0]\n",
    "    features_ones = features[target == 1]\n",
    "    target_zeros = target[target == 0]\n",
    "    target_ones = target[target == 1]\n",
    "\n",
    "    features_upsampled = pd.concat([features_zeros] + [features_ones] * repeat)\n",
    "    target_upsampled = pd.concat([target_zeros] + [target_ones] * repeat)\n",
    "    \n",
    "    features_upsampled, target_upsampled = shuffle(\n",
    "        features_upsampled, target_upsampled, random_state=42)\n",
    "    \n",
    "    return features_upsampled, target_upsampled"
   ]
  },
  {
   "cell_type": "markdown",
   "metadata": {},
   "source": [
    "#### LogisticRegression"
   ]
  },
  {
   "cell_type": "code",
   "execution_count": 63,
   "metadata": {},
   "outputs": [],
   "source": [
    "scores = []\n",
    "best_f1_score = 0\n",
    "best_param = 0\n",
    "for repeat in range(1, 11):\n",
    "    features_train_upsampled, target_train_upsampled = upsample(features_train, target_train, repeat)\n",
    "    \n",
    "    model = LogisticRegression(random_state=42, solver='liblinear')\n",
    "    model.fit(features_train_upsampled, target_train_upsampled)\n",
    "    accuracy, recall, precision, f1, auc_roc = get_model_scores(model, features_valid, target_valid)\n",
    "    if f1 > best_f1_score:\n",
    "        best_f1_score = f1\n",
    "        best_param = repeat\n",
    "\n",
    "    scores.append([repeat, accuracy, recall, precision, f1, auc_roc])\n",
    "    \n",
    "df_scores = pd.DataFrame(scores, columns=['repeat', 'accuracy', 'recall', 'precision', 'f1', 'auc_roc'])"
   ]
  },
  {
   "cell_type": "code",
   "execution_count": 64,
   "metadata": {},
   "outputs": [
    {
     "data": {
      "text/html": [
       "<div>\n",
       "<style scoped>\n",
       "    .dataframe tbody tr th:only-of-type {\n",
       "        vertical-align: middle;\n",
       "    }\n",
       "\n",
       "    .dataframe tbody tr th {\n",
       "        vertical-align: top;\n",
       "    }\n",
       "\n",
       "    .dataframe thead th {\n",
       "        text-align: right;\n",
       "    }\n",
       "</style>\n",
       "<table border=\"1\" class=\"dataframe\">\n",
       "  <thead>\n",
       "    <tr style=\"text-align: right;\">\n",
       "      <th></th>\n",
       "      <th>repeat</th>\n",
       "      <th>accuracy</th>\n",
       "      <th>recall</th>\n",
       "      <th>precision</th>\n",
       "      <th>f1</th>\n",
       "      <th>auc_roc</th>\n",
       "    </tr>\n",
       "  </thead>\n",
       "  <tbody>\n",
       "    <tr>\n",
       "      <th>0</th>\n",
       "      <td>1</td>\n",
       "      <td>0.7990</td>\n",
       "      <td>0.216279</td>\n",
       "      <td>0.588608</td>\n",
       "      <td>0.316327</td>\n",
       "      <td>0.779153</td>\n",
       "    </tr>\n",
       "    <tr>\n",
       "      <th>1</th>\n",
       "      <td>2</td>\n",
       "      <td>0.7960</td>\n",
       "      <td>0.460465</td>\n",
       "      <td>0.529412</td>\n",
       "      <td>0.492537</td>\n",
       "      <td>0.781671</td>\n",
       "    </tr>\n",
       "    <tr>\n",
       "      <th>2</th>\n",
       "      <td>3</td>\n",
       "      <td>0.7505</td>\n",
       "      <td>0.623256</td>\n",
       "      <td>0.442975</td>\n",
       "      <td>0.517874</td>\n",
       "      <td>0.782965</td>\n",
       "    </tr>\n",
       "    <tr>\n",
       "      <th>3</th>\n",
       "      <td>4</td>\n",
       "      <td>0.6955</td>\n",
       "      <td>0.713953</td>\n",
       "      <td>0.387137</td>\n",
       "      <td>0.502044</td>\n",
       "      <td>0.783625</td>\n",
       "    </tr>\n",
       "    <tr>\n",
       "      <th>4</th>\n",
       "      <td>5</td>\n",
       "      <td>0.6560</td>\n",
       "      <td>0.806977</td>\n",
       "      <td>0.364496</td>\n",
       "      <td>0.502171</td>\n",
       "      <td>0.784124</td>\n",
       "    </tr>\n",
       "    <tr>\n",
       "      <th>5</th>\n",
       "      <td>6</td>\n",
       "      <td>0.5940</td>\n",
       "      <td>0.837209</td>\n",
       "      <td>0.326679</td>\n",
       "      <td>0.469974</td>\n",
       "      <td>0.784447</td>\n",
       "    </tr>\n",
       "    <tr>\n",
       "      <th>6</th>\n",
       "      <td>7</td>\n",
       "      <td>0.5530</td>\n",
       "      <td>0.881395</td>\n",
       "      <td>0.310147</td>\n",
       "      <td>0.458838</td>\n",
       "      <td>0.784626</td>\n",
       "    </tr>\n",
       "    <tr>\n",
       "      <th>7</th>\n",
       "      <td>8</td>\n",
       "      <td>0.5205</td>\n",
       "      <td>0.918605</td>\n",
       "      <td>0.299469</td>\n",
       "      <td>0.451687</td>\n",
       "      <td>0.784798</td>\n",
       "    </tr>\n",
       "    <tr>\n",
       "      <th>8</th>\n",
       "      <td>9</td>\n",
       "      <td>0.4870</td>\n",
       "      <td>0.941860</td>\n",
       "      <td>0.288051</td>\n",
       "      <td>0.441176</td>\n",
       "      <td>0.784922</td>\n",
       "    </tr>\n",
       "    <tr>\n",
       "      <th>9</th>\n",
       "      <td>10</td>\n",
       "      <td>0.4650</td>\n",
       "      <td>0.962791</td>\n",
       "      <td>0.282016</td>\n",
       "      <td>0.436249</td>\n",
       "      <td>0.785010</td>\n",
       "    </tr>\n",
       "  </tbody>\n",
       "</table>\n",
       "</div>"
      ],
      "text/plain": [
       "   repeat  accuracy    recall  precision        f1   auc_roc\n",
       "0       1    0.7990  0.216279   0.588608  0.316327  0.779153\n",
       "1       2    0.7960  0.460465   0.529412  0.492537  0.781671\n",
       "2       3    0.7505  0.623256   0.442975  0.517874  0.782965\n",
       "3       4    0.6955  0.713953   0.387137  0.502044  0.783625\n",
       "4       5    0.6560  0.806977   0.364496  0.502171  0.784124\n",
       "5       6    0.5940  0.837209   0.326679  0.469974  0.784447\n",
       "6       7    0.5530  0.881395   0.310147  0.458838  0.784626\n",
       "7       8    0.5205  0.918605   0.299469  0.451687  0.784798\n",
       "8       9    0.4870  0.941860   0.288051  0.441176  0.784922\n",
       "9      10    0.4650  0.962791   0.282016  0.436249  0.785010"
      ]
     },
     "execution_count": 64,
     "metadata": {},
     "output_type": "execute_result"
    }
   ],
   "source": [
    "df_scores"
   ]
  },
  {
   "cell_type": "code",
   "execution_count": 65,
   "metadata": {},
   "outputs": [
    {
     "data": {
      "text/plain": [
       "<AxesSubplot:title={'center':'LogisticRegression. Зависимость метрик от увеличения выборки'}, xlabel='repeat'>"
      ]
     },
     "execution_count": 65,
     "metadata": {},
     "output_type": "execute_result"
    },
    {
     "data": {
      "image/png": "[encoded data removed]",
      "text/plain": [
       "<Figure size 864x432 with 1 Axes>"
      ]
     },
     "metadata": {
      "needs_background": "light"
     },
     "output_type": "display_data"
    }
   ],
   "source": [
    "df_scores.plot(x='repeat', y=['accuracy', 'recall', 'precision', 'f1', 'auc_roc'], grid=True, figsize=(12,6), title='LogisticRegression. Зависимость метрик от увеличения выборки')"
   ]
  },
  {
   "cell_type": "code",
   "execution_count": 66,
   "metadata": {},
   "outputs": [
    {
     "data": {
      "text/plain": [
       "(3, 0.5178743961352656)"
      ]
     },
     "execution_count": 66,
     "metadata": {},
     "output_type": "execute_result"
    }
   ],
   "source": [
    "best_param, best_f1_score"
   ]
  },
  {
   "cell_type": "markdown",
   "metadata": {},
   "source": [
    "Лучший результат по метрике f1 (0.52) при трёхкратном увеличении положительного класса. Auc_roc не зависит от изменения выборки. Зависимости точности и полноты меняются x-образно пересекаясь на значении 0.5 при 2-кратном увеличении положительного класса."
   ]
  },
  {
   "cell_type": "markdown",
   "metadata": {},
   "source": [
    "#### DecisionTreeClassifier"
   ]
  },
  {
   "cell_type": "code",
   "execution_count": 67,
   "metadata": {},
   "outputs": [],
   "source": [
    "scores = []\n",
    "best_f1_score = 0\n",
    "best_param = 0\n",
    "for repeat in range(1, 11):\n",
    "    features_train_upsampled, target_train_upsampled = upsample(features_train, target_train, repeat)\n",
    "    \n",
    "    model = DecisionTreeClassifier(random_state=42)\n",
    "    model.fit(features_train_upsampled, target_train_upsampled)\n",
    "    accuracy, recall, precision, f1, auc_roc = get_model_scores(model, features_valid, target_valid)\n",
    "    if f1 > best_f1_score:\n",
    "        best_f1_score = f1\n",
    "        best_param = repeat\n",
    "\n",
    "    scores.append([repeat, accuracy, recall, precision, f1, auc_roc])\n",
    "    \n",
    "df_scores = pd.DataFrame(scores, columns=['repeat', 'accuracy', 'recall', 'precision', 'f1', 'auc_roc'])"
   ]
  },
  {
   "cell_type": "code",
   "execution_count": 68,
   "metadata": {},
   "outputs": [
    {
     "data": {
      "text/html": [
       "<div>\n",
       "<style scoped>\n",
       "    .dataframe tbody tr th:only-of-type {\n",
       "        vertical-align: middle;\n",
       "    }\n",
       "\n",
       "    .dataframe tbody tr th {\n",
       "        vertical-align: top;\n",
       "    }\n",
       "\n",
       "    .dataframe thead th {\n",
       "        text-align: right;\n",
       "    }\n",
       "</style>\n",
       "<table border=\"1\" class=\"dataframe\">\n",
       "  <thead>\n",
       "    <tr style=\"text-align: right;\">\n",
       "      <th></th>\n",
       "      <th>repeat</th>\n",
       "      <th>accuracy</th>\n",
       "      <th>recall</th>\n",
       "      <th>precision</th>\n",
       "      <th>f1</th>\n",
       "      <th>auc_roc</th>\n",
       "    </tr>\n",
       "  </thead>\n",
       "  <tbody>\n",
       "    <tr>\n",
       "      <th>0</th>\n",
       "      <td>1</td>\n",
       "      <td>0.7900</td>\n",
       "      <td>0.511628</td>\n",
       "      <td>0.511628</td>\n",
       "      <td>0.511628</td>\n",
       "      <td>0.688935</td>\n",
       "    </tr>\n",
       "    <tr>\n",
       "      <th>1</th>\n",
       "      <td>2</td>\n",
       "      <td>0.8010</td>\n",
       "      <td>0.506977</td>\n",
       "      <td>0.539604</td>\n",
       "      <td>0.522782</td>\n",
       "      <td>0.694253</td>\n",
       "    </tr>\n",
       "    <tr>\n",
       "      <th>2</th>\n",
       "      <td>3</td>\n",
       "      <td>0.7965</td>\n",
       "      <td>0.509302</td>\n",
       "      <td>0.527711</td>\n",
       "      <td>0.518343</td>\n",
       "      <td>0.692231</td>\n",
       "    </tr>\n",
       "    <tr>\n",
       "      <th>3</th>\n",
       "      <td>4</td>\n",
       "      <td>0.7955</td>\n",
       "      <td>0.493023</td>\n",
       "      <td>0.526055</td>\n",
       "      <td>0.509004</td>\n",
       "      <td>0.685684</td>\n",
       "    </tr>\n",
       "    <tr>\n",
       "      <th>4</th>\n",
       "      <td>5</td>\n",
       "      <td>0.7945</td>\n",
       "      <td>0.486047</td>\n",
       "      <td>0.523810</td>\n",
       "      <td>0.504222</td>\n",
       "      <td>0.682514</td>\n",
       "    </tr>\n",
       "    <tr>\n",
       "      <th>5</th>\n",
       "      <td>6</td>\n",
       "      <td>0.7920</td>\n",
       "      <td>0.481395</td>\n",
       "      <td>0.517500</td>\n",
       "      <td>0.498795</td>\n",
       "      <td>0.679233</td>\n",
       "    </tr>\n",
       "    <tr>\n",
       "      <th>6</th>\n",
       "      <td>7</td>\n",
       "      <td>0.7945</td>\n",
       "      <td>0.497674</td>\n",
       "      <td>0.523227</td>\n",
       "      <td>0.510131</td>\n",
       "      <td>0.686735</td>\n",
       "    </tr>\n",
       "    <tr>\n",
       "      <th>7</th>\n",
       "      <td>8</td>\n",
       "      <td>0.7870</td>\n",
       "      <td>0.483721</td>\n",
       "      <td>0.504854</td>\n",
       "      <td>0.494062</td>\n",
       "      <td>0.676892</td>\n",
       "    </tr>\n",
       "    <tr>\n",
       "      <th>8</th>\n",
       "      <td>9</td>\n",
       "      <td>0.7920</td>\n",
       "      <td>0.500000</td>\n",
       "      <td>0.516827</td>\n",
       "      <td>0.508274</td>\n",
       "      <td>0.685987</td>\n",
       "    </tr>\n",
       "    <tr>\n",
       "      <th>9</th>\n",
       "      <td>10</td>\n",
       "      <td>0.7945</td>\n",
       "      <td>0.509302</td>\n",
       "      <td>0.522673</td>\n",
       "      <td>0.515901</td>\n",
       "      <td>0.690957</td>\n",
       "    </tr>\n",
       "  </tbody>\n",
       "</table>\n",
       "</div>"
      ],
      "text/plain": [
       "   repeat  accuracy    recall  precision        f1   auc_roc\n",
       "0       1    0.7900  0.511628   0.511628  0.511628  0.688935\n",
       "1       2    0.8010  0.506977   0.539604  0.522782  0.694253\n",
       "2       3    0.7965  0.509302   0.527711  0.518343  0.692231\n",
       "3       4    0.7955  0.493023   0.526055  0.509004  0.685684\n",
       "4       5    0.7945  0.486047   0.523810  0.504222  0.682514\n",
       "5       6    0.7920  0.481395   0.517500  0.498795  0.679233\n",
       "6       7    0.7945  0.497674   0.523227  0.510131  0.686735\n",
       "7       8    0.7870  0.483721   0.504854  0.494062  0.676892\n",
       "8       9    0.7920  0.500000   0.516827  0.508274  0.685987\n",
       "9      10    0.7945  0.509302   0.522673  0.515901  0.690957"
      ]
     },
     "execution_count": 68,
     "metadata": {},
     "output_type": "execute_result"
    }
   ],
   "source": [
    "df_scores"
   ]
  },
  {
   "cell_type": "code",
   "execution_count": 69,
   "metadata": {},
   "outputs": [
    {
     "data": {
      "text/plain": [
       "<AxesSubplot:title={'center':'DecisionTreeClassifier. Зависимость метрик от увеличения выборки'}, xlabel='repeat'>"
      ]
     },
     "execution_count": 69,
     "metadata": {},
     "output_type": "execute_result"
    },
    {
     "data": {
      "image/png": "[encoded data removed]",
      "text/plain": [
       "<Figure size 864x432 with 1 Axes>"
      ]
     },
     "metadata": {
      "needs_background": "light"
     },
     "output_type": "display_data"
    }
   ],
   "source": [
    "df_scores.plot(x='repeat', y=['accuracy', 'recall', 'precision', 'f1', 'auc_roc'], grid=True, figsize=(12,6), title='DecisionTreeClassifier. Зависимость метрик от увеличения выборки')"
   ]
  },
  {
   "cell_type": "code",
   "execution_count": 70,
   "metadata": {},
   "outputs": [
    {
     "data": {
      "text/plain": [
       "(2, 0.5227817745803358)"
      ]
     },
     "execution_count": 70,
     "metadata": {},
     "output_type": "execute_result"
    }
   ],
   "source": [
    "best_param, best_f1_score"
   ]
  },
  {
   "cell_type": "code",
   "execution_count": 71,
   "metadata": {},
   "outputs": [],
   "source": [
    "best_repeat_decisiontree = best_param"
   ]
  },
  {
   "cell_type": "markdown",
   "metadata": {},
   "source": [
    "При увеличении выборки метрика f1 уменьшилась. auc_roc коррелирует с f1. Остальные метрики также слабо меняются."
   ]
  },
  {
   "cell_type": "markdown",
   "metadata": {},
   "source": [
    "#### RandomForestClassifier"
   ]
  },
  {
   "cell_type": "code",
   "execution_count": 72,
   "metadata": {},
   "outputs": [],
   "source": [
    "scores = []\n",
    "best_f1_score = 0\n",
    "best_param = 0\n",
    "for repeat in range(1, 11):\n",
    "    features_train_upsampled, target_train_upsampled = upsample(features_train, target_train, repeat)\n",
    "    \n",
    "    model = RandomForestClassifier(random_state=42)\n",
    "    model.fit(features_train_upsampled, target_train_upsampled)\n",
    "    accuracy, recall, precision, f1, auc_roc = get_model_scores(model, features_valid, target_valid)\n",
    "    if f1 > best_f1_score:\n",
    "        best_f1_score = f1\n",
    "        best_param = repeat\n",
    "        \n",
    "    scores.append([repeat, accuracy, recall, precision, f1, auc_roc])\n",
    "    \n",
    "df_scores = pd.DataFrame(scores, columns=['repeat', 'accuracy', 'recall', 'precision', 'f1', 'auc_roc'])"
   ]
  },
  {
   "cell_type": "code",
   "execution_count": 73,
   "metadata": {},
   "outputs": [
    {
     "data": {
      "text/html": [
       "<div>\n",
       "<style scoped>\n",
       "    .dataframe tbody tr th:only-of-type {\n",
       "        vertical-align: middle;\n",
       "    }\n",
       "\n",
       "    .dataframe tbody tr th {\n",
       "        vertical-align: top;\n",
       "    }\n",
       "\n",
       "    .dataframe thead th {\n",
       "        text-align: right;\n",
       "    }\n",
       "</style>\n",
       "<table border=\"1\" class=\"dataframe\">\n",
       "  <thead>\n",
       "    <tr style=\"text-align: right;\">\n",
       "      <th></th>\n",
       "      <th>repeat</th>\n",
       "      <th>accuracy</th>\n",
       "      <th>recall</th>\n",
       "      <th>precision</th>\n",
       "      <th>f1</th>\n",
       "      <th>auc_roc</th>\n",
       "    </tr>\n",
       "  </thead>\n",
       "  <tbody>\n",
       "    <tr>\n",
       "      <th>0</th>\n",
       "      <td>1</td>\n",
       "      <td>0.8580</td>\n",
       "      <td>0.465116</td>\n",
       "      <td>0.787402</td>\n",
       "      <td>0.584795</td>\n",
       "      <td>0.864084</td>\n",
       "    </tr>\n",
       "    <tr>\n",
       "      <th>1</th>\n",
       "      <td>2</td>\n",
       "      <td>0.8530</td>\n",
       "      <td>0.532558</td>\n",
       "      <td>0.711180</td>\n",
       "      <td>0.609043</td>\n",
       "      <td>0.863690</td>\n",
       "    </tr>\n",
       "    <tr>\n",
       "      <th>2</th>\n",
       "      <td>3</td>\n",
       "      <td>0.8475</td>\n",
       "      <td>0.544186</td>\n",
       "      <td>0.682216</td>\n",
       "      <td>0.605433</td>\n",
       "      <td>0.860436</td>\n",
       "    </tr>\n",
       "    <tr>\n",
       "      <th>3</th>\n",
       "      <td>4</td>\n",
       "      <td>0.8515</td>\n",
       "      <td>0.560465</td>\n",
       "      <td>0.690544</td>\n",
       "      <td>0.618742</td>\n",
       "      <td>0.861465</td>\n",
       "    </tr>\n",
       "    <tr>\n",
       "      <th>4</th>\n",
       "      <td>5</td>\n",
       "      <td>0.8500</td>\n",
       "      <td>0.560465</td>\n",
       "      <td>0.684659</td>\n",
       "      <td>0.616368</td>\n",
       "      <td>0.858265</td>\n",
       "    </tr>\n",
       "    <tr>\n",
       "      <th>5</th>\n",
       "      <td>6</td>\n",
       "      <td>0.8480</td>\n",
       "      <td>0.546512</td>\n",
       "      <td>0.683140</td>\n",
       "      <td>0.607235</td>\n",
       "      <td>0.857724</td>\n",
       "    </tr>\n",
       "    <tr>\n",
       "      <th>6</th>\n",
       "      <td>7</td>\n",
       "      <td>0.8455</td>\n",
       "      <td>0.532558</td>\n",
       "      <td>0.679525</td>\n",
       "      <td>0.597132</td>\n",
       "      <td>0.854767</td>\n",
       "    </tr>\n",
       "    <tr>\n",
       "      <th>7</th>\n",
       "      <td>8</td>\n",
       "      <td>0.8480</td>\n",
       "      <td>0.553488</td>\n",
       "      <td>0.680000</td>\n",
       "      <td>0.610256</td>\n",
       "      <td>0.858154</td>\n",
       "    </tr>\n",
       "    <tr>\n",
       "      <th>8</th>\n",
       "      <td>9</td>\n",
       "      <td>0.8500</td>\n",
       "      <td>0.555814</td>\n",
       "      <td>0.686782</td>\n",
       "      <td>0.614396</td>\n",
       "      <td>0.857878</td>\n",
       "    </tr>\n",
       "    <tr>\n",
       "      <th>9</th>\n",
       "      <td>10</td>\n",
       "      <td>0.8435</td>\n",
       "      <td>0.539535</td>\n",
       "      <td>0.668588</td>\n",
       "      <td>0.597169</td>\n",
       "      <td>0.857096</td>\n",
       "    </tr>\n",
       "  </tbody>\n",
       "</table>\n",
       "</div>"
      ],
      "text/plain": [
       "   repeat  accuracy    recall  precision        f1   auc_roc\n",
       "0       1    0.8580  0.465116   0.787402  0.584795  0.864084\n",
       "1       2    0.8530  0.532558   0.711180  0.609043  0.863690\n",
       "2       3    0.8475  0.544186   0.682216  0.605433  0.860436\n",
       "3       4    0.8515  0.560465   0.690544  0.618742  0.861465\n",
       "4       5    0.8500  0.560465   0.684659  0.616368  0.858265\n",
       "5       6    0.8480  0.546512   0.683140  0.607235  0.857724\n",
       "6       7    0.8455  0.532558   0.679525  0.597132  0.854767\n",
       "7       8    0.8480  0.553488   0.680000  0.610256  0.858154\n",
       "8       9    0.8500  0.555814   0.686782  0.614396  0.857878\n",
       "9      10    0.8435  0.539535   0.668588  0.597169  0.857096"
      ]
     },
     "execution_count": 73,
     "metadata": {},
     "output_type": "execute_result"
    }
   ],
   "source": [
    "df_scores"
   ]
  },
  {
   "cell_type": "code",
   "execution_count": 74,
   "metadata": {},
   "outputs": [
    {
     "data": {
      "text/plain": [
       "<AxesSubplot:title={'center':'RandomForestClassifier. Зависимость метрик от увеличения выборки'}, xlabel='repeat'>"
      ]
     },
     "execution_count": 74,
     "metadata": {},
     "output_type": "execute_result"
    },
    {
     "data": {
      "image/png": "[encoded data removed]",
      "text/plain": [
       "<Figure size 864x432 with 1 Axes>"
      ]
     },
     "metadata": {
      "needs_background": "light"
     },
     "output_type": "display_data"
    }
   ],
   "source": [
    "df_scores.plot(x='repeat', y=['accuracy', 'recall', 'precision', 'f1', 'auc_roc'], grid=True, figsize=(12,6), title='RandomForestClassifier. Зависимость метрик от увеличения выборки')"
   ]
  },
  {
   "cell_type": "code",
   "execution_count": 75,
   "metadata": {},
   "outputs": [
    {
     "data": {
      "text/plain": [
       "(4, 0.618741976893453)"
      ]
     },
     "execution_count": 75,
     "metadata": {},
     "output_type": "execute_result"
    }
   ],
   "source": [
    "best_param, best_f1_score"
   ]
  },
  {
   "cell_type": "code",
   "execution_count": 76,
   "metadata": {},
   "outputs": [],
   "source": [
    "best_repeat_randomforest = best_param"
   ]
  },
  {
   "cell_type": "markdown",
   "metadata": {},
   "source": [
    "Лучший результат по метрике f1 (0.62) при 4x-кратном увеличении положительного класса. auc_roc практически слабо меняется при увеличении выборки, также как и другие метрики."
   ]
  },
  {
   "cell_type": "markdown",
   "metadata": {},
   "source": [
    "**Можно отметить, что увеличение положительного класса слабо уменьшило метрики для DecisionTree и слабо увеличило метрики модели RandomForest.**"
   ]
  },
  {
   "cell_type": "markdown",
   "metadata": {},
   "source": [
    "### Уменьшение выборки"
   ]
  },
  {
   "cell_type": "code",
   "execution_count": 77,
   "metadata": {},
   "outputs": [],
   "source": [
    "def downsample(features, target, fraction):\n",
    "    features_zeros = features[target == 0]\n",
    "    features_ones = features[target == 1]\n",
    "    target_zeros = target[target == 0]\n",
    "    target_ones = target[target == 1]\n",
    "\n",
    "    features_downsampled = pd.concat(\n",
    "        [features_zeros.sample(frac=fraction, random_state=42)] + [features_ones])\n",
    "    target_downsampled = pd.concat(\n",
    "        [target_zeros.sample(frac=fraction, random_state=42)] + [target_ones])\n",
    "    \n",
    "    features_downsampled, target_downsampled = shuffle(\n",
    "        features_downsampled, target_downsampled, random_state=42)\n",
    "    \n",
    "    return features_downsampled, target_downsampled"
   ]
  },
  {
   "cell_type": "markdown",
   "metadata": {},
   "source": [
    "#### LogisticRegression"
   ]
  },
  {
   "cell_type": "code",
   "execution_count": 78,
   "metadata": {},
   "outputs": [],
   "source": [
    "scores = []\n",
    "best_f1_score = 0\n",
    "best_param = 0\n",
    "for fraction in np.arange(0.9, 0, -0.1):\n",
    "    features_train_downsampled, target_train_downsampled = downsample(features_train, target_train, fraction)\n",
    "    \n",
    "    model = LogisticRegression(random_state=42, solver='liblinear')\n",
    "    model.fit(features_train_downsampled, target_train_downsampled)\n",
    "    accuracy, recall, precision, f1, auc_roc = get_model_scores(model, features_valid, target_valid)\n",
    "    if f1 > best_f1_score:\n",
    "        best_f1_score = f1\n",
    "        best_param = fraction\n",
    "\n",
    "    scores.append([fraction, accuracy, recall, precision, f1, auc_roc])\n",
    "    \n",
    "df_scores = pd.DataFrame(scores, columns=['fraction', 'accuracy', 'recall', 'precision', 'f1', 'auc_roc'])"
   ]
  },
  {
   "cell_type": "code",
   "execution_count": 79,
   "metadata": {},
   "outputs": [
    {
     "data": {
      "text/html": [
       "<div>\n",
       "<style scoped>\n",
       "    .dataframe tbody tr th:only-of-type {\n",
       "        vertical-align: middle;\n",
       "    }\n",
       "\n",
       "    .dataframe tbody tr th {\n",
       "        vertical-align: top;\n",
       "    }\n",
       "\n",
       "    .dataframe thead th {\n",
       "        text-align: right;\n",
       "    }\n",
       "</style>\n",
       "<table border=\"1\" class=\"dataframe\">\n",
       "  <thead>\n",
       "    <tr style=\"text-align: right;\">\n",
       "      <th></th>\n",
       "      <th>fraction</th>\n",
       "      <th>accuracy</th>\n",
       "      <th>recall</th>\n",
       "      <th>precision</th>\n",
       "      <th>f1</th>\n",
       "      <th>auc_roc</th>\n",
       "    </tr>\n",
       "  </thead>\n",
       "  <tbody>\n",
       "    <tr>\n",
       "      <th>0</th>\n",
       "      <td>0.9</td>\n",
       "      <td>0.7990</td>\n",
       "      <td>0.255814</td>\n",
       "      <td>0.572917</td>\n",
       "      <td>0.353698</td>\n",
       "      <td>0.780019</td>\n",
       "    </tr>\n",
       "    <tr>\n",
       "      <th>1</th>\n",
       "      <td>0.8</td>\n",
       "      <td>0.8005</td>\n",
       "      <td>0.300000</td>\n",
       "      <td>0.568282</td>\n",
       "      <td>0.392694</td>\n",
       "      <td>0.780372</td>\n",
       "    </tr>\n",
       "    <tr>\n",
       "      <th>2</th>\n",
       "      <td>0.7</td>\n",
       "      <td>0.8045</td>\n",
       "      <td>0.353488</td>\n",
       "      <td>0.573585</td>\n",
       "      <td>0.437410</td>\n",
       "      <td>0.780872</td>\n",
       "    </tr>\n",
       "    <tr>\n",
       "      <th>3</th>\n",
       "      <td>0.6</td>\n",
       "      <td>0.8035</td>\n",
       "      <td>0.416279</td>\n",
       "      <td>0.557632</td>\n",
       "      <td>0.476698</td>\n",
       "      <td>0.781699</td>\n",
       "    </tr>\n",
       "    <tr>\n",
       "      <th>4</th>\n",
       "      <td>0.5</td>\n",
       "      <td>0.7955</td>\n",
       "      <td>0.488372</td>\n",
       "      <td>0.526316</td>\n",
       "      <td>0.506634</td>\n",
       "      <td>0.781909</td>\n",
       "    </tr>\n",
       "    <tr>\n",
       "      <th>5</th>\n",
       "      <td>0.4</td>\n",
       "      <td>0.7680</td>\n",
       "      <td>0.562791</td>\n",
       "      <td>0.467181</td>\n",
       "      <td>0.510549</td>\n",
       "      <td>0.782108</td>\n",
       "    </tr>\n",
       "    <tr>\n",
       "      <th>6</th>\n",
       "      <td>0.3</td>\n",
       "      <td>0.7360</td>\n",
       "      <td>0.672093</td>\n",
       "      <td>0.427515</td>\n",
       "      <td>0.522604</td>\n",
       "      <td>0.782785</td>\n",
       "    </tr>\n",
       "    <tr>\n",
       "      <th>7</th>\n",
       "      <td>0.2</td>\n",
       "      <td>0.6490</td>\n",
       "      <td>0.797674</td>\n",
       "      <td>0.358038</td>\n",
       "      <td>0.494236</td>\n",
       "      <td>0.783897</td>\n",
       "    </tr>\n",
       "    <tr>\n",
       "      <th>8</th>\n",
       "      <td>0.1</td>\n",
       "      <td>0.4725</td>\n",
       "      <td>0.955814</td>\n",
       "      <td>0.284036</td>\n",
       "      <td>0.437933</td>\n",
       "      <td>0.786125</td>\n",
       "    </tr>\n",
       "  </tbody>\n",
       "</table>\n",
       "</div>"
      ],
      "text/plain": [
       "   fraction  accuracy    recall  precision        f1   auc_roc\n",
       "0       0.9    0.7990  0.255814   0.572917  0.353698  0.780019\n",
       "1       0.8    0.8005  0.300000   0.568282  0.392694  0.780372\n",
       "2       0.7    0.8045  0.353488   0.573585  0.437410  0.780872\n",
       "3       0.6    0.8035  0.416279   0.557632  0.476698  0.781699\n",
       "4       0.5    0.7955  0.488372   0.526316  0.506634  0.781909\n",
       "5       0.4    0.7680  0.562791   0.467181  0.510549  0.782108\n",
       "6       0.3    0.7360  0.672093   0.427515  0.522604  0.782785\n",
       "7       0.2    0.6490  0.797674   0.358038  0.494236  0.783897\n",
       "8       0.1    0.4725  0.955814   0.284036  0.437933  0.786125"
      ]
     },
     "execution_count": 79,
     "metadata": {},
     "output_type": "execute_result"
    }
   ],
   "source": [
    "df_scores"
   ]
  },
  {
   "cell_type": "code",
   "execution_count": 80,
   "metadata": {},
   "outputs": [
    {
     "data": {
      "text/plain": [
       "<AxesSubplot:title={'center':'LogisticRegression. Зависимость метрик от уменьшения выборки'}, xlabel='fraction'>"
      ]
     },
     "execution_count": 80,
     "metadata": {},
     "output_type": "execute_result"
    },
    {
     "data": {
      "image/png": "[encoded data removed]",
      "text/plain": [
       "<Figure size 864x432 with 1 Axes>"
      ]
     },
     "metadata": {
      "needs_background": "light"
     },
     "output_type": "display_data"
    }
   ],
   "source": [
    "df_scores.plot(x='fraction', y=['accuracy', 'recall', 'precision', 'f1', 'auc_roc'], grid=True, figsize=(12,6), title='LogisticRegression. Зависимость метрик от уменьшения выборки')"
   ]
  },
  {
   "cell_type": "code",
   "execution_count": 81,
   "metadata": {},
   "outputs": [
    {
     "data": {
      "text/plain": [
       "(0.30000000000000016, 0.5226039783001808)"
      ]
     },
     "execution_count": 81,
     "metadata": {},
     "output_type": "execute_result"
    }
   ],
   "source": [
    "best_param, best_f1_score"
   ]
  },
  {
   "cell_type": "markdown",
   "metadata": {},
   "source": [
    "Лучший результат по метрике f1 (0.52) при уменьшении отрицательного класса до 0.3. auc_roc не меняется при уменьшении отрицательного класса"
   ]
  },
  {
   "cell_type": "markdown",
   "metadata": {},
   "source": [
    "С уменьшением отрицательного класса видно, что полнота растёт (уменьшается доля FN), а точность падает (растёт доля FP), их пересечение х=образно в точке 0.5 происходит при уменьшении отрицательного класса до 0.5."
   ]
  },
  {
   "cell_type": "markdown",
   "metadata": {},
   "source": [
    "#### DecisionTreeClassifier"
   ]
  },
  {
   "cell_type": "code",
   "execution_count": 82,
   "metadata": {},
   "outputs": [],
   "source": [
    "scores = []\n",
    "best_f1_score = 0\n",
    "best_param = 0\n",
    "for fraction in np.arange(0.9, 0, -0.1):\n",
    "    features_train_downsampled, target_train_downsampled = downsample(features_train, target_train, fraction)\n",
    "    \n",
    "    model = DecisionTreeClassifier(random_state=42)\n",
    "    model.fit(features_train_downsampled, target_train_downsampled)\n",
    "    accuracy, recall, precision, f1, auc_roc = get_model_scores(model, features_valid, target_valid)\n",
    "    if f1 > best_f1_score:\n",
    "        best_f1_score = f1\n",
    "        best_param = fraction\n",
    "\n",
    "    scores.append([fraction, accuracy, recall, precision, f1, auc_roc])\n",
    "    \n",
    "df_scores = pd.DataFrame(scores, columns=['fraction', 'accuracy', 'recall', 'precision', 'f1', 'auc_roc'])"
   ]
  },
  {
   "cell_type": "code",
   "execution_count": 83,
   "metadata": {},
   "outputs": [
    {
     "data": {
      "text/html": [
       "<div>\n",
       "<style scoped>\n",
       "    .dataframe tbody tr th:only-of-type {\n",
       "        vertical-align: middle;\n",
       "    }\n",
       "\n",
       "    .dataframe tbody tr th {\n",
       "        vertical-align: top;\n",
       "    }\n",
       "\n",
       "    .dataframe thead th {\n",
       "        text-align: right;\n",
       "    }\n",
       "</style>\n",
       "<table border=\"1\" class=\"dataframe\">\n",
       "  <thead>\n",
       "    <tr style=\"text-align: right;\">\n",
       "      <th></th>\n",
       "      <th>fraction</th>\n",
       "      <th>accuracy</th>\n",
       "      <th>recall</th>\n",
       "      <th>precision</th>\n",
       "      <th>f1</th>\n",
       "      <th>auc_roc</th>\n",
       "    </tr>\n",
       "  </thead>\n",
       "  <tbody>\n",
       "    <tr>\n",
       "      <th>0</th>\n",
       "      <td>0.9</td>\n",
       "      <td>0.7865</td>\n",
       "      <td>0.534884</td>\n",
       "      <td>0.503282</td>\n",
       "      <td>0.518602</td>\n",
       "      <td>0.695149</td>\n",
       "    </tr>\n",
       "    <tr>\n",
       "      <th>1</th>\n",
       "      <td>0.8</td>\n",
       "      <td>0.7910</td>\n",
       "      <td>0.558140</td>\n",
       "      <td>0.512821</td>\n",
       "      <td>0.534521</td>\n",
       "      <td>0.706458</td>\n",
       "    </tr>\n",
       "    <tr>\n",
       "      <th>2</th>\n",
       "      <td>0.7</td>\n",
       "      <td>0.7785</td>\n",
       "      <td>0.588372</td>\n",
       "      <td>0.487476</td>\n",
       "      <td>0.533193</td>\n",
       "      <td>0.709473</td>\n",
       "    </tr>\n",
       "    <tr>\n",
       "      <th>3</th>\n",
       "      <td>0.6</td>\n",
       "      <td>0.7470</td>\n",
       "      <td>0.576744</td>\n",
       "      <td>0.433566</td>\n",
       "      <td>0.495010</td>\n",
       "      <td>0.685187</td>\n",
       "    </tr>\n",
       "    <tr>\n",
       "      <th>4</th>\n",
       "      <td>0.5</td>\n",
       "      <td>0.7505</td>\n",
       "      <td>0.604651</td>\n",
       "      <td>0.441426</td>\n",
       "      <td>0.510304</td>\n",
       "      <td>0.697549</td>\n",
       "    </tr>\n",
       "    <tr>\n",
       "      <th>5</th>\n",
       "      <td>0.4</td>\n",
       "      <td>0.7355</td>\n",
       "      <td>0.646512</td>\n",
       "      <td>0.424427</td>\n",
       "      <td>0.512442</td>\n",
       "      <td>0.703192</td>\n",
       "    </tr>\n",
       "    <tr>\n",
       "      <th>6</th>\n",
       "      <td>0.3</td>\n",
       "      <td>0.7135</td>\n",
       "      <td>0.723256</td>\n",
       "      <td>0.406536</td>\n",
       "      <td>0.520502</td>\n",
       "      <td>0.717042</td>\n",
       "    </tr>\n",
       "    <tr>\n",
       "      <th>7</th>\n",
       "      <td>0.2</td>\n",
       "      <td>0.6590</td>\n",
       "      <td>0.723256</td>\n",
       "      <td>0.355835</td>\n",
       "      <td>0.476994</td>\n",
       "      <td>0.682329</td>\n",
       "    </tr>\n",
       "    <tr>\n",
       "      <th>8</th>\n",
       "      <td>0.1</td>\n",
       "      <td>0.5870</td>\n",
       "      <td>0.793023</td>\n",
       "      <td>0.316327</td>\n",
       "      <td>0.452255</td>\n",
       "      <td>0.661798</td>\n",
       "    </tr>\n",
       "  </tbody>\n",
       "</table>\n",
       "</div>"
      ],
      "text/plain": [
       "   fraction  accuracy    recall  precision        f1   auc_roc\n",
       "0       0.9    0.7865  0.534884   0.503282  0.518602  0.695149\n",
       "1       0.8    0.7910  0.558140   0.512821  0.534521  0.706458\n",
       "2       0.7    0.7785  0.588372   0.487476  0.533193  0.709473\n",
       "3       0.6    0.7470  0.576744   0.433566  0.495010  0.685187\n",
       "4       0.5    0.7505  0.604651   0.441426  0.510304  0.697549\n",
       "5       0.4    0.7355  0.646512   0.424427  0.512442  0.703192\n",
       "6       0.3    0.7135  0.723256   0.406536  0.520502  0.717042\n",
       "7       0.2    0.6590  0.723256   0.355835  0.476994  0.682329\n",
       "8       0.1    0.5870  0.793023   0.316327  0.452255  0.661798"
      ]
     },
     "execution_count": 83,
     "metadata": {},
     "output_type": "execute_result"
    }
   ],
   "source": [
    "df_scores"
   ]
  },
  {
   "cell_type": "code",
   "execution_count": 84,
   "metadata": {},
   "outputs": [
    {
     "data": {
      "text/plain": [
       "<AxesSubplot:title={'center':'DecisionTreeClassifier. Зависимость метрик от уменьшения выборки'}, xlabel='fraction'>"
      ]
     },
     "execution_count": 84,
     "metadata": {},
     "output_type": "execute_result"
    },
    {
     "data": {
      "image/png": "[encoded data removed]",
      "text/plain": [
       "<Figure size 864x432 with 1 Axes>"
      ]
     },
     "metadata": {
      "needs_background": "light"
     },
     "output_type": "display_data"
    }
   ],
   "source": [
    "df_scores.plot(x='fraction', y=['accuracy', 'recall', 'precision', 'f1', 'auc_roc'], grid=True, figsize=(12,6), title='DecisionTreeClassifier. Зависимость метрик от уменьшения выборки')"
   ]
  },
  {
   "cell_type": "code",
   "execution_count": 85,
   "metadata": {},
   "outputs": [
    {
     "data": {
      "text/plain": [
       "(0.8, 0.5345211581291759)"
      ]
     },
     "execution_count": 85,
     "metadata": {},
     "output_type": "execute_result"
    }
   ],
   "source": [
    "best_param, best_f1_score"
   ]
  },
  {
   "cell_type": "code",
   "execution_count": 86,
   "metadata": {},
   "outputs": [],
   "source": [
    "best_fraction_decisiontree = best_param"
   ]
  },
  {
   "cell_type": "markdown",
   "metadata": {},
   "source": [
    "Лучший результат по метрике f1 (0.54) при уменьшении отрицательного класса до 0.8. auc_roc коррелирует с f1"
   ]
  },
  {
   "cell_type": "markdown",
   "metadata": {},
   "source": [
    "С уменьшением отрицательного класса также видно, что от общего значения около 0.5 полнота растёт (уменьшается доля FN), а точность при этом падает (растёт доля FP)."
   ]
  },
  {
   "cell_type": "markdown",
   "metadata": {},
   "source": [
    "#### RandomForestClassifier"
   ]
  },
  {
   "cell_type": "code",
   "execution_count": 87,
   "metadata": {},
   "outputs": [],
   "source": [
    "scores = []\n",
    "best_f1_score = 0\n",
    "best_param = 0\n",
    "for fraction in np.arange(0.9, 0, -0.1):\n",
    "    features_train_downsampled, target_train_downsampled = downsample(features_train, target_train, fraction)\n",
    "    \n",
    "    model = RandomForestClassifier(random_state=42)\n",
    "    model.fit(features_train_downsampled, target_train_downsampled)\n",
    "    accuracy, recall, precision, f1, auc_roc = get_model_scores(model, features_valid, target_valid)\n",
    "    if f1 > best_f1_score:\n",
    "        best_f1_score = f1\n",
    "        best_param = fraction\n",
    "\n",
    "    scores.append([fraction, accuracy, recall, precision, f1, auc_roc])\n",
    "    \n",
    "df_scores = pd.DataFrame(scores, columns=['fraction', 'accuracy', 'recall', 'precision', 'f1', 'auc_roc'])"
   ]
  },
  {
   "cell_type": "code",
   "execution_count": 88,
   "metadata": {},
   "outputs": [
    {
     "data": {
      "text/html": [
       "<div>\n",
       "<style scoped>\n",
       "    .dataframe tbody tr th:only-of-type {\n",
       "        vertical-align: middle;\n",
       "    }\n",
       "\n",
       "    .dataframe tbody tr th {\n",
       "        vertical-align: top;\n",
       "    }\n",
       "\n",
       "    .dataframe thead th {\n",
       "        text-align: right;\n",
       "    }\n",
       "</style>\n",
       "<table border=\"1\" class=\"dataframe\">\n",
       "  <thead>\n",
       "    <tr style=\"text-align: right;\">\n",
       "      <th></th>\n",
       "      <th>fraction</th>\n",
       "      <th>accuracy</th>\n",
       "      <th>recall</th>\n",
       "      <th>precision</th>\n",
       "      <th>f1</th>\n",
       "      <th>auc_roc</th>\n",
       "    </tr>\n",
       "  </thead>\n",
       "  <tbody>\n",
       "    <tr>\n",
       "      <th>0</th>\n",
       "      <td>0.9</td>\n",
       "      <td>0.8595</td>\n",
       "      <td>0.493023</td>\n",
       "      <td>0.770909</td>\n",
       "      <td>0.601418</td>\n",
       "      <td>0.860430</td>\n",
       "    </tr>\n",
       "    <tr>\n",
       "      <th>1</th>\n",
       "      <td>0.8</td>\n",
       "      <td>0.8595</td>\n",
       "      <td>0.525581</td>\n",
       "      <td>0.745875</td>\n",
       "      <td>0.616644</td>\n",
       "      <td>0.863275</td>\n",
       "    </tr>\n",
       "    <tr>\n",
       "      <th>2</th>\n",
       "      <td>0.7</td>\n",
       "      <td>0.8540</td>\n",
       "      <td>0.551163</td>\n",
       "      <td>0.705357</td>\n",
       "      <td>0.618799</td>\n",
       "      <td>0.867509</td>\n",
       "    </tr>\n",
       "    <tr>\n",
       "      <th>3</th>\n",
       "      <td>0.6</td>\n",
       "      <td>0.8565</td>\n",
       "      <td>0.588372</td>\n",
       "      <td>0.696970</td>\n",
       "      <td>0.638083</td>\n",
       "      <td>0.862549</td>\n",
       "    </tr>\n",
       "    <tr>\n",
       "      <th>4</th>\n",
       "      <td>0.5</td>\n",
       "      <td>0.8405</td>\n",
       "      <td>0.625581</td>\n",
       "      <td>0.629977</td>\n",
       "      <td>0.627771</td>\n",
       "      <td>0.864919</td>\n",
       "    </tr>\n",
       "    <tr>\n",
       "      <th>5</th>\n",
       "      <td>0.4</td>\n",
       "      <td>0.8370</td>\n",
       "      <td>0.697674</td>\n",
       "      <td>0.604839</td>\n",
       "      <td>0.647948</td>\n",
       "      <td>0.865416</td>\n",
       "    </tr>\n",
       "    <tr>\n",
       "      <th>6</th>\n",
       "      <td>0.3</td>\n",
       "      <td>0.8110</td>\n",
       "      <td>0.755814</td>\n",
       "      <td>0.543478</td>\n",
       "      <td>0.632296</td>\n",
       "      <td>0.861549</td>\n",
       "    </tr>\n",
       "    <tr>\n",
       "      <th>7</th>\n",
       "      <td>0.2</td>\n",
       "      <td>0.7535</td>\n",
       "      <td>0.806977</td>\n",
       "      <td>0.458388</td>\n",
       "      <td>0.584667</td>\n",
       "      <td>0.855581</td>\n",
       "    </tr>\n",
       "    <tr>\n",
       "      <th>8</th>\n",
       "      <td>0.1</td>\n",
       "      <td>0.6045</td>\n",
       "      <td>0.911628</td>\n",
       "      <td>0.342358</td>\n",
       "      <td>0.497778</td>\n",
       "      <td>0.841029</td>\n",
       "    </tr>\n",
       "  </tbody>\n",
       "</table>\n",
       "</div>"
      ],
      "text/plain": [
       "   fraction  accuracy    recall  precision        f1   auc_roc\n",
       "0       0.9    0.8595  0.493023   0.770909  0.601418  0.860430\n",
       "1       0.8    0.8595  0.525581   0.745875  0.616644  0.863275\n",
       "2       0.7    0.8540  0.551163   0.705357  0.618799  0.867509\n",
       "3       0.6    0.8565  0.588372   0.696970  0.638083  0.862549\n",
       "4       0.5    0.8405  0.625581   0.629977  0.627771  0.864919\n",
       "5       0.4    0.8370  0.697674   0.604839  0.647948  0.865416\n",
       "6       0.3    0.8110  0.755814   0.543478  0.632296  0.861549\n",
       "7       0.2    0.7535  0.806977   0.458388  0.584667  0.855581\n",
       "8       0.1    0.6045  0.911628   0.342358  0.497778  0.841029"
      ]
     },
     "execution_count": 88,
     "metadata": {},
     "output_type": "execute_result"
    }
   ],
   "source": [
    "df_scores"
   ]
  },
  {
   "cell_type": "code",
   "execution_count": 89,
   "metadata": {},
   "outputs": [
    {
     "data": {
      "text/plain": [
       "<AxesSubplot:title={'center':'RandomForestClassifier. Зависимость метрик от уменьшения выборки'}, xlabel='fraction'>"
      ]
     },
     "execution_count": 89,
     "metadata": {},
     "output_type": "execute_result"
    },
    {
     "data": {
      "image/png": "[encoded data removed]",
      "text/plain": [
       "<Figure size 864x432 with 1 Axes>"
      ]
     },
     "metadata": {
      "needs_background": "light"
     },
     "output_type": "display_data"
    }
   ],
   "source": [
    "df_scores.plot(x='fraction', y=['accuracy', 'recall', 'precision', 'f1', 'auc_roc'], grid=True, figsize=(12,6), title='RandomForestClassifier. Зависимость метрик от уменьшения выборки')"
   ]
  },
  {
   "cell_type": "code",
   "execution_count": 90,
   "metadata": {},
   "outputs": [
    {
     "data": {
      "text/plain": [
       "(0.40000000000000013, 0.6479481641468682)"
      ]
     },
     "execution_count": 90,
     "metadata": {},
     "output_type": "execute_result"
    }
   ],
   "source": [
    "best_param, best_f1_score"
   ]
  },
  {
   "cell_type": "code",
   "execution_count": 91,
   "metadata": {},
   "outputs": [],
   "source": [
    "best_fraction_randomforest = best_param"
   ]
  },
  {
   "cell_type": "markdown",
   "metadata": {},
   "source": [
    "Лучший результат по метрике f1 (0.64) при уменьшении отрицательного класса до 0.5. auc_roc слабо коррелирует с f1"
   ]
  },
  {
   "cell_type": "markdown",
   "metadata": {},
   "source": [
    "### Изменение порога"
   ]
  },
  {
   "cell_type": "markdown",
   "metadata": {},
   "source": [
    "Рассмотрим модель линейной регрессии, и рассчитаем оценки для разного порога предсказания класса."
   ]
  },
  {
   "cell_type": "code",
   "execution_count": 92,
   "metadata": {},
   "outputs": [],
   "source": [
    "model = LogisticRegression(random_state=42, solver='liblinear')\n",
    "model.fit(features_train, target_train)\n",
    "probabilities_valid = model.predict_proba(features_valid)\n",
    "probabilities_one_valid = probabilities_valid[:, 1]"
   ]
  },
  {
   "cell_type": "code",
   "execution_count": 93,
   "metadata": {},
   "outputs": [
    {
     "data": {
      "text/html": [
       "<div>\n",
       "<style scoped>\n",
       "    .dataframe tbody tr th:only-of-type {\n",
       "        vertical-align: middle;\n",
       "    }\n",
       "\n",
       "    .dataframe tbody tr th {\n",
       "        vertical-align: top;\n",
       "    }\n",
       "\n",
       "    .dataframe thead th {\n",
       "        text-align: right;\n",
       "    }\n",
       "</style>\n",
       "<table border=\"1\" class=\"dataframe\">\n",
       "  <thead>\n",
       "    <tr style=\"text-align: right;\">\n",
       "      <th></th>\n",
       "      <th>accuracy</th>\n",
       "      <th>recall</th>\n",
       "      <th>precision</th>\n",
       "      <th>f1</th>\n",
       "      <th>auc_roc</th>\n",
       "    </tr>\n",
       "  </thead>\n",
       "  <tbody>\n",
       "    <tr>\n",
       "      <th>0</th>\n",
       "      <td>0.799</td>\n",
       "      <td>0.216279</td>\n",
       "      <td>0.588608</td>\n",
       "      <td>0.316327</td>\n",
       "      <td>0.779153</td>\n",
       "    </tr>\n",
       "  </tbody>\n",
       "</table>\n",
       "</div>"
      ],
      "text/plain": [
       "   accuracy    recall  precision        f1   auc_roc\n",
       "0     0.799  0.216279   0.588608  0.316327  0.779153"
      ]
     },
     "execution_count": 93,
     "metadata": {},
     "output_type": "execute_result"
    }
   ],
   "source": [
    "pd.DataFrame([get_model_scores(model, features_valid, target_valid)],\n",
    "             columns=['accuracy', 'recall', 'precision', 'f1', 'auc_roc'])"
   ]
  },
  {
   "cell_type": "code",
   "execution_count": 94,
   "metadata": {},
   "outputs": [],
   "source": [
    "threshold_scores = []\n",
    "for threshold in np.arange(0, 0.4, 0.02):\n",
    "    predicted_valid = probabilities_one_valid > threshold\n",
    "    \n",
    "    accuracy = accuracy_score(target_valid, predicted_valid)\n",
    "    recall = recall_score(target_valid, predicted_valid)\n",
    "    precision = precision_score(target_valid, predicted_valid)\n",
    "    f1 = f1_score(target_valid, predicted_valid)\n",
    "    auc_roc = roc_auc_score(target_valid, probabilities_one_valid)\n",
    "    \n",
    "    threshold_scores.append([threshold, accuracy, recall, precision, f1, auc_roc])\n",
    "    \n",
    "df_scores = pd.DataFrame(threshold_scores, columns=['threshold', 'accuracy', 'recall', 'precision', 'f1', 'auc_roc'])"
   ]
  },
  {
   "cell_type": "code",
   "execution_count": 95,
   "metadata": {},
   "outputs": [
    {
     "data": {
      "text/html": [
       "<div>\n",
       "<style scoped>\n",
       "    .dataframe tbody tr th:only-of-type {\n",
       "        vertical-align: middle;\n",
       "    }\n",
       "\n",
       "    .dataframe tbody tr th {\n",
       "        vertical-align: top;\n",
       "    }\n",
       "\n",
       "    .dataframe thead th {\n",
       "        text-align: right;\n",
       "    }\n",
       "</style>\n",
       "<table border=\"1\" class=\"dataframe\">\n",
       "  <thead>\n",
       "    <tr style=\"text-align: right;\">\n",
       "      <th></th>\n",
       "      <th>threshold</th>\n",
       "      <th>accuracy</th>\n",
       "      <th>recall</th>\n",
       "      <th>precision</th>\n",
       "      <th>f1</th>\n",
       "      <th>auc_roc</th>\n",
       "    </tr>\n",
       "  </thead>\n",
       "  <tbody>\n",
       "    <tr>\n",
       "      <th>0</th>\n",
       "      <td>0.00</td>\n",
       "      <td>0.2150</td>\n",
       "      <td>1.000000</td>\n",
       "      <td>0.215000</td>\n",
       "      <td>0.353909</td>\n",
       "      <td>0.779153</td>\n",
       "    </tr>\n",
       "    <tr>\n",
       "      <th>1</th>\n",
       "      <td>0.02</td>\n",
       "      <td>0.2205</td>\n",
       "      <td>1.000000</td>\n",
       "      <td>0.216189</td>\n",
       "      <td>0.355519</td>\n",
       "      <td>0.779153</td>\n",
       "    </tr>\n",
       "    <tr>\n",
       "      <th>2</th>\n",
       "      <td>0.04</td>\n",
       "      <td>0.2665</td>\n",
       "      <td>1.000000</td>\n",
       "      <td>0.226674</td>\n",
       "      <td>0.369575</td>\n",
       "      <td>0.779153</td>\n",
       "    </tr>\n",
       "    <tr>\n",
       "      <th>3</th>\n",
       "      <td>0.06</td>\n",
       "      <td>0.3430</td>\n",
       "      <td>0.986047</td>\n",
       "      <td>0.244804</td>\n",
       "      <td>0.392229</td>\n",
       "      <td>0.779153</td>\n",
       "    </tr>\n",
       "    <tr>\n",
       "      <th>4</th>\n",
       "      <td>0.08</td>\n",
       "      <td>0.4190</td>\n",
       "      <td>0.969767</td>\n",
       "      <td>0.266284</td>\n",
       "      <td>0.417836</td>\n",
       "      <td>0.779153</td>\n",
       "    </tr>\n",
       "    <tr>\n",
       "      <th>5</th>\n",
       "      <td>0.10</td>\n",
       "      <td>0.4785</td>\n",
       "      <td>0.932558</td>\n",
       "      <td>0.283392</td>\n",
       "      <td>0.434688</td>\n",
       "      <td>0.779153</td>\n",
       "    </tr>\n",
       "    <tr>\n",
       "      <th>6</th>\n",
       "      <td>0.12</td>\n",
       "      <td>0.5260</td>\n",
       "      <td>0.886047</td>\n",
       "      <td>0.297656</td>\n",
       "      <td>0.445614</td>\n",
       "      <td>0.779153</td>\n",
       "    </tr>\n",
       "    <tr>\n",
       "      <th>7</th>\n",
       "      <td>0.14</td>\n",
       "      <td>0.5710</td>\n",
       "      <td>0.846512</td>\n",
       "      <td>0.314879</td>\n",
       "      <td>0.459016</td>\n",
       "      <td>0.779153</td>\n",
       "    </tr>\n",
       "    <tr>\n",
       "      <th>8</th>\n",
       "      <td>0.16</td>\n",
       "      <td>0.6240</td>\n",
       "      <td>0.813953</td>\n",
       "      <td>0.342466</td>\n",
       "      <td>0.482094</td>\n",
       "      <td>0.779153</td>\n",
       "    </tr>\n",
       "    <tr>\n",
       "      <th>9</th>\n",
       "      <td>0.18</td>\n",
       "      <td>0.6655</td>\n",
       "      <td>0.767442</td>\n",
       "      <td>0.367075</td>\n",
       "      <td>0.496614</td>\n",
       "      <td>0.779153</td>\n",
       "    </tr>\n",
       "    <tr>\n",
       "      <th>10</th>\n",
       "      <td>0.20</td>\n",
       "      <td>0.6935</td>\n",
       "      <td>0.739535</td>\n",
       "      <td>0.388278</td>\n",
       "      <td>0.509207</td>\n",
       "      <td>0.779153</td>\n",
       "    </tr>\n",
       "    <tr>\n",
       "      <th>11</th>\n",
       "      <td>0.22</td>\n",
       "      <td>0.7200</td>\n",
       "      <td>0.688372</td>\n",
       "      <td>0.409972</td>\n",
       "      <td>0.513889</td>\n",
       "      <td>0.779153</td>\n",
       "    </tr>\n",
       "    <tr>\n",
       "      <th>12</th>\n",
       "      <td>0.24</td>\n",
       "      <td>0.7400</td>\n",
       "      <td>0.646512</td>\n",
       "      <td>0.430341</td>\n",
       "      <td>0.516729</td>\n",
       "      <td>0.779153</td>\n",
       "    </tr>\n",
       "    <tr>\n",
       "      <th>13</th>\n",
       "      <td>0.26</td>\n",
       "      <td>0.7555</td>\n",
       "      <td>0.604651</td>\n",
       "      <td>0.449050</td>\n",
       "      <td>0.515362</td>\n",
       "      <td>0.779153</td>\n",
       "    </tr>\n",
       "    <tr>\n",
       "      <th>14</th>\n",
       "      <td>0.28</td>\n",
       "      <td>0.7675</td>\n",
       "      <td>0.565116</td>\n",
       "      <td>0.466411</td>\n",
       "      <td>0.511041</td>\n",
       "      <td>0.779153</td>\n",
       "    </tr>\n",
       "    <tr>\n",
       "      <th>15</th>\n",
       "      <td>0.30</td>\n",
       "      <td>0.7775</td>\n",
       "      <td>0.520930</td>\n",
       "      <td>0.483801</td>\n",
       "      <td>0.501680</td>\n",
       "      <td>0.779153</td>\n",
       "    </tr>\n",
       "    <tr>\n",
       "      <th>16</th>\n",
       "      <td>0.32</td>\n",
       "      <td>0.7925</td>\n",
       "      <td>0.488372</td>\n",
       "      <td>0.518519</td>\n",
       "      <td>0.502994</td>\n",
       "      <td>0.779153</td>\n",
       "    </tr>\n",
       "    <tr>\n",
       "      <th>17</th>\n",
       "      <td>0.34</td>\n",
       "      <td>0.7990</td>\n",
       "      <td>0.453488</td>\n",
       "      <td>0.538674</td>\n",
       "      <td>0.492424</td>\n",
       "      <td>0.779153</td>\n",
       "    </tr>\n",
       "    <tr>\n",
       "      <th>18</th>\n",
       "      <td>0.36</td>\n",
       "      <td>0.8015</td>\n",
       "      <td>0.420930</td>\n",
       "      <td>0.550152</td>\n",
       "      <td>0.476943</td>\n",
       "      <td>0.779153</td>\n",
       "    </tr>\n",
       "    <tr>\n",
       "      <th>19</th>\n",
       "      <td>0.38</td>\n",
       "      <td>0.8045</td>\n",
       "      <td>0.393023</td>\n",
       "      <td>0.565217</td>\n",
       "      <td>0.463649</td>\n",
       "      <td>0.779153</td>\n",
       "    </tr>\n",
       "  </tbody>\n",
       "</table>\n",
       "</div>"
      ],
      "text/plain": [
       "    threshold  accuracy    recall  precision        f1   auc_roc\n",
       "0        0.00    0.2150  1.000000   0.215000  0.353909  0.779153\n",
       "1        0.02    0.2205  1.000000   0.216189  0.355519  0.779153\n",
       "2        0.04    0.2665  1.000000   0.226674  0.369575  0.779153\n",
       "3        0.06    0.3430  0.986047   0.244804  0.392229  0.779153\n",
       "4        0.08    0.4190  0.969767   0.266284  0.417836  0.779153\n",
       "5        0.10    0.4785  0.932558   0.283392  0.434688  0.779153\n",
       "6        0.12    0.5260  0.886047   0.297656  0.445614  0.779153\n",
       "7        0.14    0.5710  0.846512   0.314879  0.459016  0.779153\n",
       "8        0.16    0.6240  0.813953   0.342466  0.482094  0.779153\n",
       "9        0.18    0.6655  0.767442   0.367075  0.496614  0.779153\n",
       "10       0.20    0.6935  0.739535   0.388278  0.509207  0.779153\n",
       "11       0.22    0.7200  0.688372   0.409972  0.513889  0.779153\n",
       "12       0.24    0.7400  0.646512   0.430341  0.516729  0.779153\n",
       "13       0.26    0.7555  0.604651   0.449050  0.515362  0.779153\n",
       "14       0.28    0.7675  0.565116   0.466411  0.511041  0.779153\n",
       "15       0.30    0.7775  0.520930   0.483801  0.501680  0.779153\n",
       "16       0.32    0.7925  0.488372   0.518519  0.502994  0.779153\n",
       "17       0.34    0.7990  0.453488   0.538674  0.492424  0.779153\n",
       "18       0.36    0.8015  0.420930   0.550152  0.476943  0.779153\n",
       "19       0.38    0.8045  0.393023   0.565217  0.463649  0.779153"
      ]
     },
     "execution_count": 95,
     "metadata": {},
     "output_type": "execute_result"
    }
   ],
   "source": [
    "df_scores"
   ]
  },
  {
   "cell_type": "code",
   "execution_count": 96,
   "metadata": {},
   "outputs": [
    {
     "data": {
      "text/plain": [
       "<AxesSubplot:title={'center':'RandomForestClassifier. Зависимость метрик от уменьшения выборки'}, xlabel='threshold'>"
      ]
     },
     "execution_count": 96,
     "metadata": {},
     "output_type": "execute_result"
    },
    {
     "data": {
      "image/png": "[encoded data removed]",
      "text/plain": [
       "<Figure size 864x432 with 1 Axes>"
      ]
     },
     "metadata": {
      "needs_background": "light"
     },
     "output_type": "display_data"
    }
   ],
   "source": [
    "df_scores.plot(x='threshold', y=['accuracy', 'recall', 'precision', 'f1', 'auc_roc'], grid=True, figsize=(12,6), title='RandomForestClassifier. Зависимость метрик от уменьшения выборки')"
   ]
  },
  {
   "cell_type": "markdown",
   "metadata": {},
   "source": [
    "Наилучший вариант оказался при пороге 0.24: f1 = 0.52, хотя и доля правильных ответов ко всем правильным (precision) невелика."
   ]
  },
  {
   "cell_type": "markdown",
   "metadata": {},
   "source": [
    "Оценка auc_roc не зависит от порога."
   ]
  },
  {
   "cell_type": "markdown",
   "metadata": {},
   "source": [
    "**Вывод**\n",
    "\n",
    "учший результат по метрике f1 (0.64) для модели **RandomForestClassifier** при уменьшении отрицательного класса до 0.5.\n",
    "\n",
    "Метрика auc_roc меняется и коррелирует с f1 только для модели DecisionTreeClassifier, в остальных случаях остаётся постоянной при балансировкие классов"
   ]
  },
  {
   "cell_type": "markdown",
   "metadata": {},
   "source": [
    "### Получим наилучшую модель"
   ]
  },
  {
   "cell_type": "markdown",
   "metadata": {},
   "source": [
    "Не будем рассматривать LogisticRegression, т. к. она показала самые низкие метрики."
   ]
  },
  {
   "cell_type": "markdown",
   "metadata": {},
   "source": [
    "#### DecisionTreeClassifier"
   ]
  },
  {
   "cell_type": "markdown",
   "metadata": {},
   "source": [
    "Лучшие результаты были получены при уменьшении выборки. Будем базироваться на этой основе."
   ]
  },
  {
   "cell_type": "code",
   "execution_count": 97,
   "metadata": {},
   "outputs": [
    {
     "data": {
      "application/vnd.jupyter.widget-view+json": {
       "model_id": "edd7c1d142e745b7a04ce4d83b822155",
       "version_major": 2,
       "version_minor": 0
      },
      "text/plain": [
       "  0%|          | 0/15 [00:00<?, ?it/s]"
      ]
     },
     "metadata": {},
     "output_type": "display_data"
    },
    {
     "data": {
      "text/html": [
       "<div>\n",
       "<style scoped>\n",
       "    .dataframe tbody tr th:only-of-type {\n",
       "        vertical-align: middle;\n",
       "    }\n",
       "\n",
       "    .dataframe tbody tr th {\n",
       "        vertical-align: top;\n",
       "    }\n",
       "\n",
       "    .dataframe thead th {\n",
       "        text-align: right;\n",
       "    }\n",
       "</style>\n",
       "<table border=\"1\" class=\"dataframe\">\n",
       "  <thead>\n",
       "    <tr style=\"text-align: right;\">\n",
       "      <th></th>\n",
       "      <th>depth</th>\n",
       "      <th>accuracy</th>\n",
       "      <th>recall</th>\n",
       "      <th>precision</th>\n",
       "      <th>f1</th>\n",
       "      <th>auc_roc</th>\n",
       "    </tr>\n",
       "  </thead>\n",
       "  <tbody>\n",
       "    <tr>\n",
       "      <th>0</th>\n",
       "      <td>1</td>\n",
       "      <td>0.7760</td>\n",
       "      <td>0.537209</td>\n",
       "      <td>0.481250</td>\n",
       "      <td>0.507692</td>\n",
       "      <td>0.689305</td>\n",
       "    </tr>\n",
       "    <tr>\n",
       "      <th>1</th>\n",
       "      <td>2</td>\n",
       "      <td>0.8395</td>\n",
       "      <td>0.409302</td>\n",
       "      <td>0.724280</td>\n",
       "      <td>0.523031</td>\n",
       "      <td>0.741792</td>\n",
       "    </tr>\n",
       "    <tr>\n",
       "      <th>2</th>\n",
       "      <td>3</td>\n",
       "      <td>0.8440</td>\n",
       "      <td>0.434884</td>\n",
       "      <td>0.730469</td>\n",
       "      <td>0.545190</td>\n",
       "      <td>0.797571</td>\n",
       "    </tr>\n",
       "    <tr>\n",
       "      <th>3</th>\n",
       "      <td>4</td>\n",
       "      <td>0.8510</td>\n",
       "      <td>0.383721</td>\n",
       "      <td>0.833333</td>\n",
       "      <td>0.525478</td>\n",
       "      <td>0.821949</td>\n",
       "    </tr>\n",
       "    <tr>\n",
       "      <th>4</th>\n",
       "      <td>5</td>\n",
       "      <td>0.8555</td>\n",
       "      <td>0.579070</td>\n",
       "      <td>0.697479</td>\n",
       "      <td>0.632783</td>\n",
       "      <td>0.843500</td>\n",
       "    </tr>\n",
       "    <tr>\n",
       "      <th>5</th>\n",
       "      <td>6</td>\n",
       "      <td>0.8585</td>\n",
       "      <td>0.504651</td>\n",
       "      <td>0.756098</td>\n",
       "      <td>0.605300</td>\n",
       "      <td>0.844670</td>\n",
       "    </tr>\n",
       "    <tr>\n",
       "      <th>6</th>\n",
       "      <td>7</td>\n",
       "      <td>0.8575</td>\n",
       "      <td>0.539535</td>\n",
       "      <td>0.727273</td>\n",
       "      <td>0.619493</td>\n",
       "      <td>0.839278</td>\n",
       "    </tr>\n",
       "    <tr>\n",
       "      <th>7</th>\n",
       "      <td>8</td>\n",
       "      <td>0.8465</td>\n",
       "      <td>0.548837</td>\n",
       "      <td>0.676218</td>\n",
       "      <td>0.605905</td>\n",
       "      <td>0.814832</td>\n",
       "    </tr>\n",
       "    <tr>\n",
       "      <th>8</th>\n",
       "      <td>9</td>\n",
       "      <td>0.8440</td>\n",
       "      <td>0.525581</td>\n",
       "      <td>0.676647</td>\n",
       "      <td>0.591623</td>\n",
       "      <td>0.802701</td>\n",
       "    </tr>\n",
       "    <tr>\n",
       "      <th>9</th>\n",
       "      <td>10</td>\n",
       "      <td>0.8405</td>\n",
       "      <td>0.534884</td>\n",
       "      <td>0.659026</td>\n",
       "      <td>0.590501</td>\n",
       "      <td>0.769752</td>\n",
       "    </tr>\n",
       "    <tr>\n",
       "      <th>10</th>\n",
       "      <td>11</td>\n",
       "      <td>0.8335</td>\n",
       "      <td>0.539535</td>\n",
       "      <td>0.632153</td>\n",
       "      <td>0.582183</td>\n",
       "      <td>0.760182</td>\n",
       "    </tr>\n",
       "    <tr>\n",
       "      <th>11</th>\n",
       "      <td>12</td>\n",
       "      <td>0.8230</td>\n",
       "      <td>0.530233</td>\n",
       "      <td>0.600000</td>\n",
       "      <td>0.562963</td>\n",
       "      <td>0.741441</td>\n",
       "    </tr>\n",
       "    <tr>\n",
       "      <th>12</th>\n",
       "      <td>13</td>\n",
       "      <td>0.8195</td>\n",
       "      <td>0.544186</td>\n",
       "      <td>0.586466</td>\n",
       "      <td>0.564536</td>\n",
       "      <td>0.738913</td>\n",
       "    </tr>\n",
       "    <tr>\n",
       "      <th>13</th>\n",
       "      <td>14</td>\n",
       "      <td>0.8040</td>\n",
       "      <td>0.548837</td>\n",
       "      <td>0.543779</td>\n",
       "      <td>0.546296</td>\n",
       "      <td>0.731902</td>\n",
       "    </tr>\n",
       "    <tr>\n",
       "      <th>14</th>\n",
       "      <td>15</td>\n",
       "      <td>0.8035</td>\n",
       "      <td>0.548837</td>\n",
       "      <td>0.542529</td>\n",
       "      <td>0.545665</td>\n",
       "      <td>0.724853</td>\n",
       "    </tr>\n",
       "  </tbody>\n",
       "</table>\n",
       "</div>"
      ],
      "text/plain": [
       "    depth  accuracy    recall  precision        f1   auc_roc\n",
       "0       1    0.7760  0.537209   0.481250  0.507692  0.689305\n",
       "1       2    0.8395  0.409302   0.724280  0.523031  0.741792\n",
       "2       3    0.8440  0.434884   0.730469  0.545190  0.797571\n",
       "3       4    0.8510  0.383721   0.833333  0.525478  0.821949\n",
       "4       5    0.8555  0.579070   0.697479  0.632783  0.843500\n",
       "5       6    0.8585  0.504651   0.756098  0.605300  0.844670\n",
       "6       7    0.8575  0.539535   0.727273  0.619493  0.839278\n",
       "7       8    0.8465  0.548837   0.676218  0.605905  0.814832\n",
       "8       9    0.8440  0.525581   0.676647  0.591623  0.802701\n",
       "9      10    0.8405  0.534884   0.659026  0.590501  0.769752\n",
       "10     11    0.8335  0.539535   0.632153  0.582183  0.760182\n",
       "11     12    0.8230  0.530233   0.600000  0.562963  0.741441\n",
       "12     13    0.8195  0.544186   0.586466  0.564536  0.738913\n",
       "13     14    0.8040  0.548837   0.543779  0.546296  0.731902\n",
       "14     15    0.8035  0.548837   0.542529  0.545665  0.724853"
      ]
     },
     "execution_count": 97,
     "metadata": {},
     "output_type": "execute_result"
    }
   ],
   "source": [
    "scores = []\n",
    "best_f1_score = 0\n",
    "best_hyperparam = 0\n",
    "\n",
    "features_train_downsampled, target_train_downsampled = downsample(features_train, target_train, best_fraction_decisiontree)\n",
    "\n",
    "for depth in tqdm(range(1, 16, 1)):\n",
    "    model = DecisionTreeClassifier(random_state=42, min_samples_split=2, max_depth=depth)\n",
    "    model.fit(features_train_downsampled, target_train_downsampled)\n",
    "    accuracy, recall, precision, f1, auc_roc = get_model_scores(model, features_valid, target_valid)\n",
    "    if f1 > best_f1_score:\n",
    "        best_f1_score = f1\n",
    "        best_hyperparam = depth\n",
    "    scores.append([depth, accuracy, recall, precision, f1, auc_roc])\n",
    "    \n",
    "pd.DataFrame(scores, columns=['depth', 'accuracy', 'recall', 'precision', 'f1', 'auc_roc'])"
   ]
  },
  {
   "cell_type": "code",
   "execution_count": 98,
   "metadata": {},
   "outputs": [
    {
     "data": {
      "text/plain": [
       "(0.6327827191867852, 5)"
      ]
     },
     "execution_count": 98,
     "metadata": {},
     "output_type": "execute_result"
    }
   ],
   "source": [
    "best_f1_score, best_hyperparam"
   ]
  },
  {
   "cell_type": "code",
   "execution_count": 99,
   "metadata": {},
   "outputs": [],
   "source": [
    "max_depth = best_hyperparam"
   ]
  },
  {
   "cell_type": "code",
   "execution_count": 100,
   "metadata": {},
   "outputs": [
    {
     "data": {
      "application/vnd.jupyter.widget-view+json": {
       "model_id": "94984f89f3b64c469f5fbbb3a4182f20",
       "version_major": 2,
       "version_minor": 0
      },
      "text/plain": [
       "  0%|          | 0/25 [00:00<?, ?it/s]"
      ]
     },
     "metadata": {},
     "output_type": "display_data"
    },
    {
     "data": {
      "text/html": [
       "<div>\n",
       "<style scoped>\n",
       "    .dataframe tbody tr th:only-of-type {\n",
       "        vertical-align: middle;\n",
       "    }\n",
       "\n",
       "    .dataframe tbody tr th {\n",
       "        vertical-align: top;\n",
       "    }\n",
       "\n",
       "    .dataframe thead th {\n",
       "        text-align: right;\n",
       "    }\n",
       "</style>\n",
       "<table border=\"1\" class=\"dataframe\">\n",
       "  <thead>\n",
       "    <tr style=\"text-align: right;\">\n",
       "      <th></th>\n",
       "      <th>samples_leaf</th>\n",
       "      <th>accuracy</th>\n",
       "      <th>recall</th>\n",
       "      <th>precision</th>\n",
       "      <th>f1</th>\n",
       "      <th>auc_roc</th>\n",
       "    </tr>\n",
       "  </thead>\n",
       "  <tbody>\n",
       "    <tr>\n",
       "      <th>0</th>\n",
       "      <td>1</td>\n",
       "      <td>0.8555</td>\n",
       "      <td>0.579070</td>\n",
       "      <td>0.697479</td>\n",
       "      <td>0.632783</td>\n",
       "      <td>0.843500</td>\n",
       "    </tr>\n",
       "    <tr>\n",
       "      <th>1</th>\n",
       "      <td>2</td>\n",
       "      <td>0.8545</td>\n",
       "      <td>0.574419</td>\n",
       "      <td>0.695775</td>\n",
       "      <td>0.629299</td>\n",
       "      <td>0.842646</td>\n",
       "    </tr>\n",
       "    <tr>\n",
       "      <th>2</th>\n",
       "      <td>3</td>\n",
       "      <td>0.8530</td>\n",
       "      <td>0.572093</td>\n",
       "      <td>0.691011</td>\n",
       "      <td>0.625954</td>\n",
       "      <td>0.842110</td>\n",
       "    </tr>\n",
       "    <tr>\n",
       "      <th>3</th>\n",
       "      <td>4</td>\n",
       "      <td>0.8520</td>\n",
       "      <td>0.567442</td>\n",
       "      <td>0.689266</td>\n",
       "      <td>0.622449</td>\n",
       "      <td>0.841799</td>\n",
       "    </tr>\n",
       "    <tr>\n",
       "      <th>4</th>\n",
       "      <td>5</td>\n",
       "      <td>0.8545</td>\n",
       "      <td>0.579070</td>\n",
       "      <td>0.693593</td>\n",
       "      <td>0.631179</td>\n",
       "      <td>0.842394</td>\n",
       "    </tr>\n",
       "    <tr>\n",
       "      <th>5</th>\n",
       "      <td>6</td>\n",
       "      <td>0.8545</td>\n",
       "      <td>0.579070</td>\n",
       "      <td>0.693593</td>\n",
       "      <td>0.631179</td>\n",
       "      <td>0.842420</td>\n",
       "    </tr>\n",
       "    <tr>\n",
       "      <th>6</th>\n",
       "      <td>7</td>\n",
       "      <td>0.8545</td>\n",
       "      <td>0.579070</td>\n",
       "      <td>0.693593</td>\n",
       "      <td>0.631179</td>\n",
       "      <td>0.842706</td>\n",
       "    </tr>\n",
       "    <tr>\n",
       "      <th>7</th>\n",
       "      <td>8</td>\n",
       "      <td>0.8545</td>\n",
       "      <td>0.579070</td>\n",
       "      <td>0.693593</td>\n",
       "      <td>0.631179</td>\n",
       "      <td>0.842483</td>\n",
       "    </tr>\n",
       "    <tr>\n",
       "      <th>8</th>\n",
       "      <td>9</td>\n",
       "      <td>0.8545</td>\n",
       "      <td>0.579070</td>\n",
       "      <td>0.693593</td>\n",
       "      <td>0.631179</td>\n",
       "      <td>0.842863</td>\n",
       "    </tr>\n",
       "    <tr>\n",
       "      <th>9</th>\n",
       "      <td>10</td>\n",
       "      <td>0.8545</td>\n",
       "      <td>0.579070</td>\n",
       "      <td>0.693593</td>\n",
       "      <td>0.631179</td>\n",
       "      <td>0.842831</td>\n",
       "    </tr>\n",
       "    <tr>\n",
       "      <th>10</th>\n",
       "      <td>11</td>\n",
       "      <td>0.8535</td>\n",
       "      <td>0.579070</td>\n",
       "      <td>0.689751</td>\n",
       "      <td>0.629583</td>\n",
       "      <td>0.842056</td>\n",
       "    </tr>\n",
       "    <tr>\n",
       "      <th>11</th>\n",
       "      <td>12</td>\n",
       "      <td>0.8550</td>\n",
       "      <td>0.579070</td>\n",
       "      <td>0.695531</td>\n",
       "      <td>0.631980</td>\n",
       "      <td>0.842349</td>\n",
       "    </tr>\n",
       "    <tr>\n",
       "      <th>12</th>\n",
       "      <td>13</td>\n",
       "      <td>0.8550</td>\n",
       "      <td>0.579070</td>\n",
       "      <td>0.695531</td>\n",
       "      <td>0.631980</td>\n",
       "      <td>0.842349</td>\n",
       "    </tr>\n",
       "    <tr>\n",
       "      <th>13</th>\n",
       "      <td>14</td>\n",
       "      <td>0.8550</td>\n",
       "      <td>0.579070</td>\n",
       "      <td>0.695531</td>\n",
       "      <td>0.631980</td>\n",
       "      <td>0.842526</td>\n",
       "    </tr>\n",
       "    <tr>\n",
       "      <th>14</th>\n",
       "      <td>15</td>\n",
       "      <td>0.8550</td>\n",
       "      <td>0.579070</td>\n",
       "      <td>0.695531</td>\n",
       "      <td>0.631980</td>\n",
       "      <td>0.842547</td>\n",
       "    </tr>\n",
       "    <tr>\n",
       "      <th>15</th>\n",
       "      <td>16</td>\n",
       "      <td>0.8550</td>\n",
       "      <td>0.579070</td>\n",
       "      <td>0.695531</td>\n",
       "      <td>0.631980</td>\n",
       "      <td>0.842625</td>\n",
       "    </tr>\n",
       "    <tr>\n",
       "      <th>16</th>\n",
       "      <td>17</td>\n",
       "      <td>0.8550</td>\n",
       "      <td>0.579070</td>\n",
       "      <td>0.695531</td>\n",
       "      <td>0.631980</td>\n",
       "      <td>0.842628</td>\n",
       "    </tr>\n",
       "    <tr>\n",
       "      <th>17</th>\n",
       "      <td>18</td>\n",
       "      <td>0.8550</td>\n",
       "      <td>0.579070</td>\n",
       "      <td>0.695531</td>\n",
       "      <td>0.631980</td>\n",
       "      <td>0.842456</td>\n",
       "    </tr>\n",
       "    <tr>\n",
       "      <th>18</th>\n",
       "      <td>19</td>\n",
       "      <td>0.8540</td>\n",
       "      <td>0.574419</td>\n",
       "      <td>0.693820</td>\n",
       "      <td>0.628499</td>\n",
       "      <td>0.842190</td>\n",
       "    </tr>\n",
       "    <tr>\n",
       "      <th>19</th>\n",
       "      <td>20</td>\n",
       "      <td>0.8540</td>\n",
       "      <td>0.574419</td>\n",
       "      <td>0.693820</td>\n",
       "      <td>0.628499</td>\n",
       "      <td>0.842190</td>\n",
       "    </tr>\n",
       "    <tr>\n",
       "      <th>20</th>\n",
       "      <td>21</td>\n",
       "      <td>0.8530</td>\n",
       "      <td>0.579070</td>\n",
       "      <td>0.687845</td>\n",
       "      <td>0.628788</td>\n",
       "      <td>0.841799</td>\n",
       "    </tr>\n",
       "    <tr>\n",
       "      <th>21</th>\n",
       "      <td>22</td>\n",
       "      <td>0.8530</td>\n",
       "      <td>0.579070</td>\n",
       "      <td>0.687845</td>\n",
       "      <td>0.628788</td>\n",
       "      <td>0.841835</td>\n",
       "    </tr>\n",
       "    <tr>\n",
       "      <th>22</th>\n",
       "      <td>23</td>\n",
       "      <td>0.8530</td>\n",
       "      <td>0.579070</td>\n",
       "      <td>0.687845</td>\n",
       "      <td>0.628788</td>\n",
       "      <td>0.841835</td>\n",
       "    </tr>\n",
       "    <tr>\n",
       "      <th>23</th>\n",
       "      <td>24</td>\n",
       "      <td>0.8495</td>\n",
       "      <td>0.590698</td>\n",
       "      <td>0.670185</td>\n",
       "      <td>0.627936</td>\n",
       "      <td>0.840202</td>\n",
       "    </tr>\n",
       "    <tr>\n",
       "      <th>24</th>\n",
       "      <td>25</td>\n",
       "      <td>0.8495</td>\n",
       "      <td>0.590698</td>\n",
       "      <td>0.670185</td>\n",
       "      <td>0.627936</td>\n",
       "      <td>0.840125</td>\n",
       "    </tr>\n",
       "  </tbody>\n",
       "</table>\n",
       "</div>"
      ],
      "text/plain": [
       "    samples_leaf  accuracy    recall  precision        f1   auc_roc\n",
       "0              1    0.8555  0.579070   0.697479  0.632783  0.843500\n",
       "1              2    0.8545  0.574419   0.695775  0.629299  0.842646\n",
       "2              3    0.8530  0.572093   0.691011  0.625954  0.842110\n",
       "3              4    0.8520  0.567442   0.689266  0.622449  0.841799\n",
       "4              5    0.8545  0.579070   0.693593  0.631179  0.842394\n",
       "5              6    0.8545  0.579070   0.693593  0.631179  0.842420\n",
       "6              7    0.8545  0.579070   0.693593  0.631179  0.842706\n",
       "7              8    0.8545  0.579070   0.693593  0.631179  0.842483\n",
       "8              9    0.8545  0.579070   0.693593  0.631179  0.842863\n",
       "9             10    0.8545  0.579070   0.693593  0.631179  0.842831\n",
       "10            11    0.8535  0.579070   0.689751  0.629583  0.842056\n",
       "11            12    0.8550  0.579070   0.695531  0.631980  0.842349\n",
       "12            13    0.8550  0.579070   0.695531  0.631980  0.842349\n",
       "13            14    0.8550  0.579070   0.695531  0.631980  0.842526\n",
       "14            15    0.8550  0.579070   0.695531  0.631980  0.842547\n",
       "15            16    0.8550  0.579070   0.695531  0.631980  0.842625\n",
       "16            17    0.8550  0.579070   0.695531  0.631980  0.842628\n",
       "17            18    0.8550  0.579070   0.695531  0.631980  0.842456\n",
       "18            19    0.8540  0.574419   0.693820  0.628499  0.842190\n",
       "19            20    0.8540  0.574419   0.693820  0.628499  0.842190\n",
       "20            21    0.8530  0.579070   0.687845  0.628788  0.841799\n",
       "21            22    0.8530  0.579070   0.687845  0.628788  0.841835\n",
       "22            23    0.8530  0.579070   0.687845  0.628788  0.841835\n",
       "23            24    0.8495  0.590698   0.670185  0.627936  0.840202\n",
       "24            25    0.8495  0.590698   0.670185  0.627936  0.840125"
      ]
     },
     "execution_count": 100,
     "metadata": {},
     "output_type": "execute_result"
    }
   ],
   "source": [
    "scores = []\n",
    "best_f1_score = 0\n",
    "best_hyperparam = 0\n",
    "features_train_downsampled, target_train_downsampled = downsample(features_train, target_train, best_fraction_decisiontree)\n",
    "\n",
    "for samples_leaf in tqdm(range(1, 26, 1)):\n",
    "    model = DecisionTreeClassifier(random_state=42, min_samples_leaf=samples_leaf, max_depth=max_depth)\n",
    "    model.fit(features_train_downsampled, target_train_downsampled)\n",
    "    accuracy, recall, precision, f1, auc_roc = get_model_scores(model, features_valid, target_valid)\n",
    "    if f1 > best_f1_score:\n",
    "        best_f1_score = f1\n",
    "        best_hyperparam = samples_leaf\n",
    "    scores.append([samples_leaf, accuracy, recall, precision, f1, auc_roc])\n",
    "    \n",
    "pd.DataFrame(scores, columns=['samples_leaf', 'accuracy', 'recall', 'precision', 'f1', 'auc_roc'])"
   ]
  },
  {
   "cell_type": "code",
   "execution_count": 101,
   "metadata": {},
   "outputs": [
    {
     "data": {
      "text/plain": [
       "(0.6327827191867852, 1)"
      ]
     },
     "execution_count": 101,
     "metadata": {},
     "output_type": "execute_result"
    }
   ],
   "source": [
    "best_f1_score, best_hyperparam"
   ]
  },
  {
   "cell_type": "markdown",
   "metadata": {},
   "source": [
    "min_samples_leaf = 17"
   ]
  },
  {
   "cell_type": "markdown",
   "metadata": {},
   "source": [
    "#### RandomForestClassifier"
   ]
  },
  {
   "cell_type": "markdown",
   "metadata": {},
   "source": [
    "Лучшие результаты были получены при уменьшении выборки. Учтём это."
   ]
  },
  {
   "cell_type": "code",
   "execution_count": 102,
   "metadata": {},
   "outputs": [
    {
     "data": {
      "application/vnd.jupyter.widget-view+json": {
       "model_id": "15aff38e92bf4f03bde1a4664aee924e",
       "version_major": 2,
       "version_minor": 0
      },
      "text/plain": [
       "  0%|          | 0/15 [00:00<?, ?it/s]"
      ]
     },
     "metadata": {},
     "output_type": "display_data"
    },
    {
     "data": {
      "text/html": [
       "<div>\n",
       "<style scoped>\n",
       "    .dataframe tbody tr th:only-of-type {\n",
       "        vertical-align: middle;\n",
       "    }\n",
       "\n",
       "    .dataframe tbody tr th {\n",
       "        vertical-align: top;\n",
       "    }\n",
       "\n",
       "    .dataframe thead th {\n",
       "        text-align: right;\n",
       "    }\n",
       "</style>\n",
       "<table border=\"1\" class=\"dataframe\">\n",
       "  <thead>\n",
       "    <tr style=\"text-align: right;\">\n",
       "      <th></th>\n",
       "      <th>depth</th>\n",
       "      <th>accuracy</th>\n",
       "      <th>recall</th>\n",
       "      <th>precision</th>\n",
       "      <th>f1</th>\n",
       "      <th>auc_roc</th>\n",
       "    </tr>\n",
       "  </thead>\n",
       "  <tbody>\n",
       "    <tr>\n",
       "      <th>0</th>\n",
       "      <td>1</td>\n",
       "      <td>0.8070</td>\n",
       "      <td>0.116279</td>\n",
       "      <td>0.892857</td>\n",
       "      <td>0.205761</td>\n",
       "      <td>0.742200</td>\n",
       "    </tr>\n",
       "    <tr>\n",
       "      <th>1</th>\n",
       "      <td>2</td>\n",
       "      <td>0.8335</td>\n",
       "      <td>0.306977</td>\n",
       "      <td>0.790419</td>\n",
       "      <td>0.442211</td>\n",
       "      <td>0.830384</td>\n",
       "    </tr>\n",
       "    <tr>\n",
       "      <th>2</th>\n",
       "      <td>3</td>\n",
       "      <td>0.8510</td>\n",
       "      <td>0.525581</td>\n",
       "      <td>0.706250</td>\n",
       "      <td>0.602667</td>\n",
       "      <td>0.842002</td>\n",
       "    </tr>\n",
       "    <tr>\n",
       "      <th>3</th>\n",
       "      <td>4</td>\n",
       "      <td>0.8410</td>\n",
       "      <td>0.565116</td>\n",
       "      <td>0.649733</td>\n",
       "      <td>0.604478</td>\n",
       "      <td>0.844784</td>\n",
       "    </tr>\n",
       "    <tr>\n",
       "      <th>4</th>\n",
       "      <td>5</td>\n",
       "      <td>0.8455</td>\n",
       "      <td>0.620930</td>\n",
       "      <td>0.646489</td>\n",
       "      <td>0.633452</td>\n",
       "      <td>0.857182</td>\n",
       "    </tr>\n",
       "    <tr>\n",
       "      <th>5</th>\n",
       "      <td>6</td>\n",
       "      <td>0.8430</td>\n",
       "      <td>0.648837</td>\n",
       "      <td>0.631222</td>\n",
       "      <td>0.639908</td>\n",
       "      <td>0.859013</td>\n",
       "    </tr>\n",
       "    <tr>\n",
       "      <th>6</th>\n",
       "      <td>7</td>\n",
       "      <td>0.8375</td>\n",
       "      <td>0.639535</td>\n",
       "      <td>0.617978</td>\n",
       "      <td>0.628571</td>\n",
       "      <td>0.859071</td>\n",
       "    </tr>\n",
       "    <tr>\n",
       "      <th>7</th>\n",
       "      <td>8</td>\n",
       "      <td>0.8305</td>\n",
       "      <td>0.641860</td>\n",
       "      <td>0.598698</td>\n",
       "      <td>0.619529</td>\n",
       "      <td>0.857356</td>\n",
       "    </tr>\n",
       "    <tr>\n",
       "      <th>8</th>\n",
       "      <td>9</td>\n",
       "      <td>0.8360</td>\n",
       "      <td>0.681395</td>\n",
       "      <td>0.605372</td>\n",
       "      <td>0.641138</td>\n",
       "      <td>0.859165</td>\n",
       "    </tr>\n",
       "    <tr>\n",
       "      <th>9</th>\n",
       "      <td>10</td>\n",
       "      <td>0.8300</td>\n",
       "      <td>0.658140</td>\n",
       "      <td>0.594538</td>\n",
       "      <td>0.624724</td>\n",
       "      <td>0.851943</td>\n",
       "    </tr>\n",
       "    <tr>\n",
       "      <th>10</th>\n",
       "      <td>11</td>\n",
       "      <td>0.8335</td>\n",
       "      <td>0.690698</td>\n",
       "      <td>0.597586</td>\n",
       "      <td>0.640777</td>\n",
       "      <td>0.859595</td>\n",
       "    </tr>\n",
       "    <tr>\n",
       "      <th>11</th>\n",
       "      <td>12</td>\n",
       "      <td>0.8365</td>\n",
       "      <td>0.681395</td>\n",
       "      <td>0.606625</td>\n",
       "      <td>0.641840</td>\n",
       "      <td>0.858405</td>\n",
       "    </tr>\n",
       "    <tr>\n",
       "      <th>12</th>\n",
       "      <td>13</td>\n",
       "      <td>0.8265</td>\n",
       "      <td>0.669767</td>\n",
       "      <td>0.584178</td>\n",
       "      <td>0.624052</td>\n",
       "      <td>0.850125</td>\n",
       "    </tr>\n",
       "    <tr>\n",
       "      <th>13</th>\n",
       "      <td>14</td>\n",
       "      <td>0.8185</td>\n",
       "      <td>0.651163</td>\n",
       "      <td>0.567951</td>\n",
       "      <td>0.606717</td>\n",
       "      <td>0.848305</td>\n",
       "    </tr>\n",
       "    <tr>\n",
       "      <th>14</th>\n",
       "      <td>15</td>\n",
       "      <td>0.8150</td>\n",
       "      <td>0.686047</td>\n",
       "      <td>0.556604</td>\n",
       "      <td>0.614583</td>\n",
       "      <td>0.851260</td>\n",
       "    </tr>\n",
       "  </tbody>\n",
       "</table>\n",
       "</div>"
      ],
      "text/plain": [
       "    depth  accuracy    recall  precision        f1   auc_roc\n",
       "0       1    0.8070  0.116279   0.892857  0.205761  0.742200\n",
       "1       2    0.8335  0.306977   0.790419  0.442211  0.830384\n",
       "2       3    0.8510  0.525581   0.706250  0.602667  0.842002\n",
       "3       4    0.8410  0.565116   0.649733  0.604478  0.844784\n",
       "4       5    0.8455  0.620930   0.646489  0.633452  0.857182\n",
       "5       6    0.8430  0.648837   0.631222  0.639908  0.859013\n",
       "6       7    0.8375  0.639535   0.617978  0.628571  0.859071\n",
       "7       8    0.8305  0.641860   0.598698  0.619529  0.857356\n",
       "8       9    0.8360  0.681395   0.605372  0.641138  0.859165\n",
       "9      10    0.8300  0.658140   0.594538  0.624724  0.851943\n",
       "10     11    0.8335  0.690698   0.597586  0.640777  0.859595\n",
       "11     12    0.8365  0.681395   0.606625  0.641840  0.858405\n",
       "12     13    0.8265  0.669767   0.584178  0.624052  0.850125\n",
       "13     14    0.8185  0.651163   0.567951  0.606717  0.848305\n",
       "14     15    0.8150  0.686047   0.556604  0.614583  0.851260"
      ]
     },
     "execution_count": 102,
     "metadata": {},
     "output_type": "execute_result"
    }
   ],
   "source": [
    "scores = []\n",
    "best_f1_score = 0\n",
    "best_hyperparam = 0\n",
    "\n",
    "features_train_downsampled, target_train_downsampled = downsample(features_train, target_train, best_fraction_randomforest)\n",
    "\n",
    "for depth in tqdm(range(1, 16, 1)):\n",
    "    model = RandomForestClassifier(random_state=42, n_estimators=20, max_depth=depth)\n",
    "    model.fit(features_train_downsampled, target_train_downsampled)\n",
    "    accuracy, recall, precision, f1, auc_roc = get_model_scores(model, features_valid, target_valid)\n",
    "    if f1 > best_f1_score:\n",
    "        best_f1_score = f1\n",
    "        best_hyperparam = depth\n",
    "    scores.append([depth, accuracy, recall, precision, f1, auc_roc])\n",
    "    \n",
    "pd.DataFrame(scores, columns=['depth', 'accuracy', 'recall', 'precision', 'f1', 'auc_roc'])"
   ]
  },
  {
   "cell_type": "code",
   "execution_count": 103,
   "metadata": {},
   "outputs": [
    {
     "data": {
      "text/plain": [
       "(0.6418400876232201, 12)"
      ]
     },
     "execution_count": 103,
     "metadata": {},
     "output_type": "execute_result"
    }
   ],
   "source": [
    "best_f1_score, best_hyperparam"
   ]
  },
  {
   "cell_type": "code",
   "execution_count": 104,
   "metadata": {},
   "outputs": [],
   "source": [
    "best_max_depth_randomforest = best_hyperparam"
   ]
  },
  {
   "cell_type": "code",
   "execution_count": 105,
   "metadata": {},
   "outputs": [
    {
     "data": {
      "application/vnd.jupyter.widget-view+json": {
       "model_id": "23ab10bf7bca48d6acfb8f4fd803cd58",
       "version_major": 2,
       "version_minor": 0
      },
      "text/plain": [
       "  0%|          | 0/33 [00:00<?, ?it/s]"
      ]
     },
     "metadata": {},
     "output_type": "display_data"
    },
    {
     "data": {
      "text/html": [
       "<div>\n",
       "<style scoped>\n",
       "    .dataframe tbody tr th:only-of-type {\n",
       "        vertical-align: middle;\n",
       "    }\n",
       "\n",
       "    .dataframe tbody tr th {\n",
       "        vertical-align: top;\n",
       "    }\n",
       "\n",
       "    .dataframe thead th {\n",
       "        text-align: right;\n",
       "    }\n",
       "</style>\n",
       "<table border=\"1\" class=\"dataframe\">\n",
       "  <thead>\n",
       "    <tr style=\"text-align: right;\">\n",
       "      <th></th>\n",
       "      <th>n_estimators</th>\n",
       "      <th>accuracy</th>\n",
       "      <th>recall</th>\n",
       "      <th>precision</th>\n",
       "      <th>f1</th>\n",
       "      <th>auc_roc</th>\n",
       "    </tr>\n",
       "  </thead>\n",
       "  <tbody>\n",
       "    <tr>\n",
       "      <th>0</th>\n",
       "      <td>20</td>\n",
       "      <td>0.8365</td>\n",
       "      <td>0.681395</td>\n",
       "      <td>0.606625</td>\n",
       "      <td>0.641840</td>\n",
       "      <td>0.858405</td>\n",
       "    </tr>\n",
       "    <tr>\n",
       "      <th>1</th>\n",
       "      <td>30</td>\n",
       "      <td>0.8365</td>\n",
       "      <td>0.679070</td>\n",
       "      <td>0.607069</td>\n",
       "      <td>0.641054</td>\n",
       "      <td>0.863456</td>\n",
       "    </tr>\n",
       "    <tr>\n",
       "      <th>2</th>\n",
       "      <td>40</td>\n",
       "      <td>0.8385</td>\n",
       "      <td>0.690698</td>\n",
       "      <td>0.609856</td>\n",
       "      <td>0.647764</td>\n",
       "      <td>0.865940</td>\n",
       "    </tr>\n",
       "    <tr>\n",
       "      <th>3</th>\n",
       "      <td>50</td>\n",
       "      <td>0.8425</td>\n",
       "      <td>0.695349</td>\n",
       "      <td>0.619048</td>\n",
       "      <td>0.654984</td>\n",
       "      <td>0.868015</td>\n",
       "    </tr>\n",
       "    <tr>\n",
       "      <th>4</th>\n",
       "      <td>60</td>\n",
       "      <td>0.8440</td>\n",
       "      <td>0.700000</td>\n",
       "      <td>0.621901</td>\n",
       "      <td>0.658643</td>\n",
       "      <td>0.868436</td>\n",
       "    </tr>\n",
       "    <tr>\n",
       "      <th>5</th>\n",
       "      <td>70</td>\n",
       "      <td>0.8385</td>\n",
       "      <td>0.695349</td>\n",
       "      <td>0.608961</td>\n",
       "      <td>0.649294</td>\n",
       "      <td>0.868393</td>\n",
       "    </tr>\n",
       "    <tr>\n",
       "      <th>6</th>\n",
       "      <td>80</td>\n",
       "      <td>0.8365</td>\n",
       "      <td>0.688372</td>\n",
       "      <td>0.605317</td>\n",
       "      <td>0.644178</td>\n",
       "      <td>0.867738</td>\n",
       "    </tr>\n",
       "    <tr>\n",
       "      <th>7</th>\n",
       "      <td>90</td>\n",
       "      <td>0.8365</td>\n",
       "      <td>0.688372</td>\n",
       "      <td>0.605317</td>\n",
       "      <td>0.644178</td>\n",
       "      <td>0.868058</td>\n",
       "    </tr>\n",
       "    <tr>\n",
       "      <th>8</th>\n",
       "      <td>100</td>\n",
       "      <td>0.8370</td>\n",
       "      <td>0.688372</td>\n",
       "      <td>0.606557</td>\n",
       "      <td>0.644880</td>\n",
       "      <td>0.868840</td>\n",
       "    </tr>\n",
       "    <tr>\n",
       "      <th>9</th>\n",
       "      <td>110</td>\n",
       "      <td>0.8405</td>\n",
       "      <td>0.686047</td>\n",
       "      <td>0.615866</td>\n",
       "      <td>0.649065</td>\n",
       "      <td>0.868962</td>\n",
       "    </tr>\n",
       "    <tr>\n",
       "      <th>10</th>\n",
       "      <td>120</td>\n",
       "      <td>0.8415</td>\n",
       "      <td>0.690698</td>\n",
       "      <td>0.617464</td>\n",
       "      <td>0.652031</td>\n",
       "      <td>0.868667</td>\n",
       "    </tr>\n",
       "    <tr>\n",
       "      <th>11</th>\n",
       "      <td>130</td>\n",
       "      <td>0.8440</td>\n",
       "      <td>0.688372</td>\n",
       "      <td>0.624473</td>\n",
       "      <td>0.654867</td>\n",
       "      <td>0.868482</td>\n",
       "    </tr>\n",
       "    <tr>\n",
       "      <th>12</th>\n",
       "      <td>140</td>\n",
       "      <td>0.8425</td>\n",
       "      <td>0.690698</td>\n",
       "      <td>0.620042</td>\n",
       "      <td>0.653465</td>\n",
       "      <td>0.867990</td>\n",
       "    </tr>\n",
       "    <tr>\n",
       "      <th>13</th>\n",
       "      <td>150</td>\n",
       "      <td>0.8440</td>\n",
       "      <td>0.690698</td>\n",
       "      <td>0.623950</td>\n",
       "      <td>0.655629</td>\n",
       "      <td>0.867500</td>\n",
       "    </tr>\n",
       "    <tr>\n",
       "      <th>14</th>\n",
       "      <td>160</td>\n",
       "      <td>0.8435</td>\n",
       "      <td>0.690698</td>\n",
       "      <td>0.622642</td>\n",
       "      <td>0.654906</td>\n",
       "      <td>0.867626</td>\n",
       "    </tr>\n",
       "    <tr>\n",
       "      <th>15</th>\n",
       "      <td>170</td>\n",
       "      <td>0.8415</td>\n",
       "      <td>0.688372</td>\n",
       "      <td>0.617954</td>\n",
       "      <td>0.651265</td>\n",
       "      <td>0.867343</td>\n",
       "    </tr>\n",
       "    <tr>\n",
       "      <th>16</th>\n",
       "      <td>180</td>\n",
       "      <td>0.8435</td>\n",
       "      <td>0.690698</td>\n",
       "      <td>0.622642</td>\n",
       "      <td>0.654906</td>\n",
       "      <td>0.867436</td>\n",
       "    </tr>\n",
       "    <tr>\n",
       "      <th>17</th>\n",
       "      <td>190</td>\n",
       "      <td>0.8420</td>\n",
       "      <td>0.688372</td>\n",
       "      <td>0.619247</td>\n",
       "      <td>0.651982</td>\n",
       "      <td>0.867720</td>\n",
       "    </tr>\n",
       "    <tr>\n",
       "      <th>18</th>\n",
       "      <td>200</td>\n",
       "      <td>0.8420</td>\n",
       "      <td>0.693023</td>\n",
       "      <td>0.618257</td>\n",
       "      <td>0.653509</td>\n",
       "      <td>0.868058</td>\n",
       "    </tr>\n",
       "    <tr>\n",
       "      <th>19</th>\n",
       "      <td>210</td>\n",
       "      <td>0.8440</td>\n",
       "      <td>0.700000</td>\n",
       "      <td>0.621901</td>\n",
       "      <td>0.658643</td>\n",
       "      <td>0.868245</td>\n",
       "    </tr>\n",
       "    <tr>\n",
       "      <th>20</th>\n",
       "      <td>220</td>\n",
       "      <td>0.8430</td>\n",
       "      <td>0.700000</td>\n",
       "      <td>0.619342</td>\n",
       "      <td>0.657205</td>\n",
       "      <td>0.868796</td>\n",
       "    </tr>\n",
       "    <tr>\n",
       "      <th>21</th>\n",
       "      <td>230</td>\n",
       "      <td>0.8435</td>\n",
       "      <td>0.697674</td>\n",
       "      <td>0.621118</td>\n",
       "      <td>0.657174</td>\n",
       "      <td>0.868513</td>\n",
       "    </tr>\n",
       "    <tr>\n",
       "      <th>22</th>\n",
       "      <td>240</td>\n",
       "      <td>0.8410</td>\n",
       "      <td>0.695349</td>\n",
       "      <td>0.615226</td>\n",
       "      <td>0.652838</td>\n",
       "      <td>0.868627</td>\n",
       "    </tr>\n",
       "    <tr>\n",
       "      <th>23</th>\n",
       "      <td>250</td>\n",
       "      <td>0.8425</td>\n",
       "      <td>0.695349</td>\n",
       "      <td>0.619048</td>\n",
       "      <td>0.654984</td>\n",
       "      <td>0.868597</td>\n",
       "    </tr>\n",
       "    <tr>\n",
       "      <th>24</th>\n",
       "      <td>260</td>\n",
       "      <td>0.8415</td>\n",
       "      <td>0.697674</td>\n",
       "      <td>0.616016</td>\n",
       "      <td>0.654308</td>\n",
       "      <td>0.868511</td>\n",
       "    </tr>\n",
       "    <tr>\n",
       "      <th>25</th>\n",
       "      <td>270</td>\n",
       "      <td>0.8415</td>\n",
       "      <td>0.697674</td>\n",
       "      <td>0.616016</td>\n",
       "      <td>0.654308</td>\n",
       "      <td>0.868424</td>\n",
       "    </tr>\n",
       "    <tr>\n",
       "      <th>26</th>\n",
       "      <td>280</td>\n",
       "      <td>0.8425</td>\n",
       "      <td>0.695349</td>\n",
       "      <td>0.619048</td>\n",
       "      <td>0.654984</td>\n",
       "      <td>0.868486</td>\n",
       "    </tr>\n",
       "    <tr>\n",
       "      <th>27</th>\n",
       "      <td>290</td>\n",
       "      <td>0.8425</td>\n",
       "      <td>0.695349</td>\n",
       "      <td>0.619048</td>\n",
       "      <td>0.654984</td>\n",
       "      <td>0.868725</td>\n",
       "    </tr>\n",
       "    <tr>\n",
       "      <th>28</th>\n",
       "      <td>300</td>\n",
       "      <td>0.8440</td>\n",
       "      <td>0.697674</td>\n",
       "      <td>0.622407</td>\n",
       "      <td>0.657895</td>\n",
       "      <td>0.868975</td>\n",
       "    </tr>\n",
       "    <tr>\n",
       "      <th>29</th>\n",
       "      <td>310</td>\n",
       "      <td>0.8445</td>\n",
       "      <td>0.700000</td>\n",
       "      <td>0.623188</td>\n",
       "      <td>0.659365</td>\n",
       "      <td>0.869079</td>\n",
       "    </tr>\n",
       "    <tr>\n",
       "      <th>30</th>\n",
       "      <td>320</td>\n",
       "      <td>0.8440</td>\n",
       "      <td>0.700000</td>\n",
       "      <td>0.621901</td>\n",
       "      <td>0.658643</td>\n",
       "      <td>0.868994</td>\n",
       "    </tr>\n",
       "    <tr>\n",
       "      <th>31</th>\n",
       "      <td>330</td>\n",
       "      <td>0.8435</td>\n",
       "      <td>0.697674</td>\n",
       "      <td>0.621118</td>\n",
       "      <td>0.657174</td>\n",
       "      <td>0.869104</td>\n",
       "    </tr>\n",
       "    <tr>\n",
       "      <th>32</th>\n",
       "      <td>340</td>\n",
       "      <td>0.8420</td>\n",
       "      <td>0.693023</td>\n",
       "      <td>0.618257</td>\n",
       "      <td>0.653509</td>\n",
       "      <td>0.868951</td>\n",
       "    </tr>\n",
       "  </tbody>\n",
       "</table>\n",
       "</div>"
      ],
      "text/plain": [
       "    n_estimators  accuracy    recall  precision        f1   auc_roc\n",
       "0             20    0.8365  0.681395   0.606625  0.641840  0.858405\n",
       "1             30    0.8365  0.679070   0.607069  0.641054  0.863456\n",
       "2             40    0.8385  0.690698   0.609856  0.647764  0.865940\n",
       "3             50    0.8425  0.695349   0.619048  0.654984  0.868015\n",
       "4             60    0.8440  0.700000   0.621901  0.658643  0.868436\n",
       "5             70    0.8385  0.695349   0.608961  0.649294  0.868393\n",
       "6             80    0.8365  0.688372   0.605317  0.644178  0.867738\n",
       "7             90    0.8365  0.688372   0.605317  0.644178  0.868058\n",
       "8            100    0.8370  0.688372   0.606557  0.644880  0.868840\n",
       "9            110    0.8405  0.686047   0.615866  0.649065  0.868962\n",
       "10           120    0.8415  0.690698   0.617464  0.652031  0.868667\n",
       "11           130    0.8440  0.688372   0.624473  0.654867  0.868482\n",
       "12           140    0.8425  0.690698   0.620042  0.653465  0.867990\n",
       "13           150    0.8440  0.690698   0.623950  0.655629  0.867500\n",
       "14           160    0.8435  0.690698   0.622642  0.654906  0.867626\n",
       "15           170    0.8415  0.688372   0.617954  0.651265  0.867343\n",
       "16           180    0.8435  0.690698   0.622642  0.654906  0.867436\n",
       "17           190    0.8420  0.688372   0.619247  0.651982  0.867720\n",
       "18           200    0.8420  0.693023   0.618257  0.653509  0.868058\n",
       "19           210    0.8440  0.700000   0.621901  0.658643  0.868245\n",
       "20           220    0.8430  0.700000   0.619342  0.657205  0.868796\n",
       "21           230    0.8435  0.697674   0.621118  0.657174  0.868513\n",
       "22           240    0.8410  0.695349   0.615226  0.652838  0.868627\n",
       "23           250    0.8425  0.695349   0.619048  0.654984  0.868597\n",
       "24           260    0.8415  0.697674   0.616016  0.654308  0.868511\n",
       "25           270    0.8415  0.697674   0.616016  0.654308  0.868424\n",
       "26           280    0.8425  0.695349   0.619048  0.654984  0.868486\n",
       "27           290    0.8425  0.695349   0.619048  0.654984  0.868725\n",
       "28           300    0.8440  0.697674   0.622407  0.657895  0.868975\n",
       "29           310    0.8445  0.700000   0.623188  0.659365  0.869079\n",
       "30           320    0.8440  0.700000   0.621901  0.658643  0.868994\n",
       "31           330    0.8435  0.697674   0.621118  0.657174  0.869104\n",
       "32           340    0.8420  0.693023   0.618257  0.653509  0.868951"
      ]
     },
     "execution_count": 105,
     "metadata": {},
     "output_type": "execute_result"
    }
   ],
   "source": [
    "scores = []\n",
    "best_f1_score = 0\n",
    "best_hyperparam = 0\n",
    "features_train_downsampled, target_train_downsampled = downsample(features_train, target_train, best_fraction_randomforest)\n",
    "\n",
    "for n_estimators in tqdm(range(20, 350, 10)):\n",
    "    model = RandomForestClassifier(random_state=42, n_estimators=n_estimators, max_depth=best_max_depth_randomforest)\n",
    "    model.fit(features_train_downsampled, target_train_downsampled)\n",
    "    accuracy, recall, precision, f1, auc_roc = get_model_scores(model, features_valid, target_valid)\n",
    "    if f1 > best_f1_score:\n",
    "        best_f1_score = f1\n",
    "        best_hyperparam = n_estimators\n",
    "    scores.append([n_estimators, accuracy, recall, precision, f1, auc_roc])\n",
    "    \n",
    "pd.DataFrame(scores, columns=['n_estimators', 'accuracy', 'recall', 'precision', 'f1', 'auc_roc'])"
   ]
  },
  {
   "cell_type": "code",
   "execution_count": 106,
   "metadata": {},
   "outputs": [
    {
     "data": {
      "text/plain": [
       "(0.6593647316538883, 310)"
      ]
     },
     "execution_count": 106,
     "metadata": {},
     "output_type": "execute_result"
    }
   ],
   "source": [
    "best_f1_score, best_hyperparam"
   ]
  },
  {
   "cell_type": "code",
   "execution_count": 107,
   "metadata": {},
   "outputs": [],
   "source": [
    "best_n_estimators_randomforest = best_hyperparam"
   ]
  },
  {
   "cell_type": "markdown",
   "metadata": {},
   "source": [
    "Из двух моделей лучший результат f1 (0.65) показала **RandomForestClassifier с гиперпараметрами n_estimators=20, max_depth=12 при двукратном увеличении положительного класса**"
   ]
  },
  {
   "cell_type": "markdown",
   "metadata": {},
   "source": [
    "## Тестирование модели"
   ]
  },
  {
   "cell_type": "code",
   "execution_count": 108,
   "metadata": {},
   "outputs": [
    {
     "data": {
      "text/plain": [
       "RandomForestClassifier(max_depth=12, n_estimators=310, random_state=42)"
      ]
     },
     "execution_count": 108,
     "metadata": {},
     "output_type": "execute_result"
    }
   ],
   "source": [
    "features_train_downsampled, target_train_downsampled = downsample(features_train, target_train, best_fraction_randomforest)\n",
    "model = RandomForestClassifier(random_state=42, n_estimators=best_n_estimators_randomforest, max_depth=best_max_depth_randomforest)\n",
    "model.fit(features_train_downsampled, target_train_downsampled)"
   ]
  },
  {
   "cell_type": "code",
   "execution_count": 109,
   "metadata": {},
   "outputs": [
    {
     "data": {
      "text/html": [
       "<div>\n",
       "<style scoped>\n",
       "    .dataframe tbody tr th:only-of-type {\n",
       "        vertical-align: middle;\n",
       "    }\n",
       "\n",
       "    .dataframe tbody tr th {\n",
       "        vertical-align: top;\n",
       "    }\n",
       "\n",
       "    .dataframe thead th {\n",
       "        text-align: right;\n",
       "    }\n",
       "</style>\n",
       "<table border=\"1\" class=\"dataframe\">\n",
       "  <thead>\n",
       "    <tr style=\"text-align: right;\">\n",
       "      <th></th>\n",
       "      <th>accuracy</th>\n",
       "      <th>recall</th>\n",
       "      <th>precision</th>\n",
       "      <th>f1</th>\n",
       "      <th>auc_roc</th>\n",
       "    </tr>\n",
       "  </thead>\n",
       "  <tbody>\n",
       "    <tr>\n",
       "      <th>0</th>\n",
       "      <td>0.8285</td>\n",
       "      <td>0.626316</td>\n",
       "      <td>0.542141</td>\n",
       "      <td>0.581197</td>\n",
       "      <td>0.840507</td>\n",
       "    </tr>\n",
       "  </tbody>\n",
       "</table>\n",
       "</div>"
      ],
      "text/plain": [
       "   accuracy    recall  precision        f1   auc_roc\n",
       "0    0.8285  0.626316   0.542141  0.581197  0.840507"
      ]
     },
     "execution_count": 109,
     "metadata": {},
     "output_type": "execute_result"
    }
   ],
   "source": [
    "features_test[numeric] = scaler.transform(features_test[numeric])\n",
    "pd.DataFrame([get_model_scores(model, features_test, target_test)],\n",
    "             columns=['accuracy', 'recall', 'precision', 'f1', 'auc_roc'])\n"
   ]
  },
  {
   "cell_type": "markdown",
   "metadata": {},
   "source": [
    "Для тестовой выборки f1 и auc_roc оказались чуть меньше: 0.57 и 0.83 (против 0.65 и 0.87 на валидационной)"
   ]
  },
  {
   "cell_type": "markdown",
   "metadata": {},
   "source": [
    "### Дообучение"
   ]
  },
  {
   "cell_type": "markdown",
   "metadata": {},
   "source": [
    "Объединим тренировочную и валидационную выборки и снова обучим модель."
   ]
  },
  {
   "cell_type": "code",
   "execution_count": 110,
   "metadata": {},
   "outputs": [],
   "source": [
    "features_final = pd.concat([features_train] + [features_valid])"
   ]
  },
  {
   "cell_type": "code",
   "execution_count": 111,
   "metadata": {},
   "outputs": [],
   "source": [
    "target_final = pd.concat([target_train] + [target_valid])"
   ]
  },
  {
   "cell_type": "code",
   "execution_count": 112,
   "metadata": {},
   "outputs": [
    {
     "data": {
      "text/plain": [
       "(8000, 11)"
      ]
     },
     "execution_count": 112,
     "metadata": {},
     "output_type": "execute_result"
    }
   ],
   "source": [
    "features_final.shape"
   ]
  },
  {
   "cell_type": "code",
   "execution_count": 113,
   "metadata": {},
   "outputs": [
    {
     "data": {
      "text/plain": [
       "(8000,)"
      ]
     },
     "execution_count": 113,
     "metadata": {},
     "output_type": "execute_result"
    }
   ],
   "source": [
    "target_final.shape"
   ]
  },
  {
   "cell_type": "code",
   "execution_count": 114,
   "metadata": {},
   "outputs": [],
   "source": [
    "scaler = StandardScaler()\n",
    "scaler.fit(features_final[numeric])\n",
    "features_final[numeric] = scaler.transform(features_final[numeric])"
   ]
  },
  {
   "cell_type": "code",
   "execution_count": 115,
   "metadata": {},
   "outputs": [
    {
     "data": {
      "text/plain": [
       "RandomForestClassifier(max_depth=12, n_estimators=310, random_state=42)"
      ]
     },
     "execution_count": 115,
     "metadata": {},
     "output_type": "execute_result"
    }
   ],
   "source": [
    "features_final_downsampled, target_final_downsampled = downsample(features_final, target_final, best_fraction_randomforest)\n",
    "model = RandomForestClassifier(random_state=42, n_estimators=best_n_estimators_randomforest, max_depth=best_max_depth_randomforest)\n",
    "model.fit(features_final_downsampled, target_final_downsampled)"
   ]
  },
  {
   "cell_type": "code",
   "execution_count": 116,
   "metadata": {},
   "outputs": [
    {
     "data": {
      "text/html": [
       "<div>\n",
       "<style scoped>\n",
       "    .dataframe tbody tr th:only-of-type {\n",
       "        vertical-align: middle;\n",
       "    }\n",
       "\n",
       "    .dataframe tbody tr th {\n",
       "        vertical-align: top;\n",
       "    }\n",
       "\n",
       "    .dataframe thead th {\n",
       "        text-align: right;\n",
       "    }\n",
       "</style>\n",
       "<table border=\"1\" class=\"dataframe\">\n",
       "  <thead>\n",
       "    <tr style=\"text-align: right;\">\n",
       "      <th></th>\n",
       "      <th>accuracy</th>\n",
       "      <th>recall</th>\n",
       "      <th>precision</th>\n",
       "      <th>f1</th>\n",
       "      <th>auc_roc</th>\n",
       "    </tr>\n",
       "  </thead>\n",
       "  <tbody>\n",
       "    <tr>\n",
       "      <th>0</th>\n",
       "      <td>0.826</td>\n",
       "      <td>0.623684</td>\n",
       "      <td>0.536199</td>\n",
       "      <td>0.576642</td>\n",
       "      <td>0.843341</td>\n",
       "    </tr>\n",
       "  </tbody>\n",
       "</table>\n",
       "</div>"
      ],
      "text/plain": [
       "   accuracy    recall  precision        f1   auc_roc\n",
       "0     0.826  0.623684   0.536199  0.576642  0.843341"
      ]
     },
     "execution_count": 116,
     "metadata": {},
     "output_type": "execute_result"
    }
   ],
   "source": [
    "features_test[numeric] = scaler.transform(features_test[numeric])\n",
    "pd.DataFrame([get_model_scores(model, features_test, target_test)],\n",
    "             columns=['accuracy', 'recall', 'precision', 'f1', 'auc_roc'])"
   ]
  },
  {
   "cell_type": "markdown",
   "metadata": {},
   "source": [
    "Дообученная модель вплотную приблизила метрику f1 к 0.59"
   ]
  },
  {
   "cell_type": "code",
   "execution_count": 117,
   "metadata": {},
   "outputs": [
    {
     "data": {
      "text/plain": [
       "Index(['CreditScore', 'Age', 'Tenure', 'Balance', 'NumOfProducts', 'HasCrCard',\n",
       "       'IsActiveMember', 'EstimatedSalary', 'Geography_Germany',\n",
       "       'Geography_Spain', 'Gender_Male'],\n",
       "      dtype='object')"
      ]
     },
     "execution_count": 117,
     "metadata": {},
     "output_type": "execute_result"
    }
   ],
   "source": [
    "features_test.columns"
   ]
  },
  {
   "cell_type": "code",
   "execution_count": 118,
   "metadata": {},
   "outputs": [
    {
     "data": {
      "text/plain": [
       "array([0.10589538, 0.29140133, 0.06279479, 0.12271245, 0.16967036,\n",
       "       0.01471877, 0.05465876, 0.10571238, 0.0379949 , 0.01200928,\n",
       "       0.02243159])"
      ]
     },
     "execution_count": 118,
     "metadata": {},
     "output_type": "execute_result"
    }
   ],
   "source": [
    "model.feature_importances_"
   ]
  },
  {
   "cell_type": "code",
   "execution_count": 119,
   "metadata": {},
   "outputs": [
    {
     "data": {
      "image/png": "[encoded data removed]",
      "text/plain": [
       "<Figure size 432x288 with 1 Axes>"
      ]
     },
     "metadata": {
      "needs_background": "light"
     },
     "output_type": "display_data"
    }
   ],
   "source": [
    "import matplotlib.pyplot as plt\n",
    "feature_names = features_test.columns\n",
    "model_importances = pd.Series(model.feature_importances_, index=feature_names)\n",
    "model_importances = model_importances.sort_values(ascending=False)\n",
    "\n",
    "fig, ax = plt.subplots()\n",
    "model_importances.plot.bar(ax=ax)\n",
    "fig.tight_layout()"
   ]
  },
  {
   "cell_type": "markdown",
   "metadata": {},
   "source": [
    "Наибольший вклад в моделях внесли возраст, количество используемых продустов банка и баланс на счету, меньше всего пол, наличие карты и продолжительность пользования услугами"
   ]
  },
  {
   "cell_type": "code",
   "execution_count": null,
   "metadata": {},
   "outputs": [],
   "source": []
  }
 ],
 "metadata": {
  "ExecuteTimeLog": [
   {
    "duration": 453,
    "start_time": "2021-07-27T20:51:12.878Z"
   }
  ],
  "kernelspec": {
   "display_name": "Python 3 (ipykernel)",
   "language": "python",
   "name": "python3"
  },
  "language_info": {
   "codemirror_mode": {
    "name": "ipython",
    "version": 3
   },
   "file_extension": ".py",
   "mimetype": "text/x-python",
   "name": "python",
   "nbconvert_exporter": "python",
   "pygments_lexer": "ipython3",
   "version": "3.9.1"
  },
  "toc": {
   "base_numbering": 1,
   "nav_menu": {},
   "number_sections": true,
   "sideBar": true,
   "skip_h1_title": true,
   "title_cell": "Содержание",
   "title_sidebar": "Contents",
   "toc_cell": true,
   "toc_position": {},
   "toc_section_display": true,
   "toc_window_display": true
  }
 },
 "nbformat": 4,
 "nbformat_minor": 2
}
