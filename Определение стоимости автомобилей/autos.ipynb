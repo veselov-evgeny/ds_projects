{
 "cells": [
  {
   "cell_type": "markdown",
   "metadata": {},
   "source": [
    "# Определение стоимости автомобилей"
   ]
  },
  {
   "cell_type": "markdown",
   "metadata": {},
   "source": [
    "Необходимо построить модель для определения рыночной стоимости автомобиля на основе данных о технических характеристиках, комплектации и цены. Важно обратить внимание на качество, скорость предсказания и время обучения. В качестве оценки качества использовать Root mean squared error (RMSE)."
   ]
  },
  {
   "cell_type": "markdown",
   "metadata": {},
   "source": [
    "## Подготовка данных"
   ]
  },
  {
   "cell_type": "code",
   "execution_count": 1,
   "metadata": {},
   "outputs": [],
   "source": [
    "from urllib.request import urlretrieve\n",
    "import warnings\n",
    "warnings.filterwarnings('ignore', category=FutureWarning)\n",
    "warnings.filterwarnings('ignore', category=UserWarning)\n",
    "import pandas as pd\n",
    "import numpy as np\n",
    "import matplotlib.pyplot as plt\n",
    "from sklearn.model_selection import train_test_split\n",
    "from sklearn.preprocessing import OrdinalEncoder\n",
    "from sklearn.preprocessing import StandardScaler\n",
    "from sklearn.metrics import mean_squared_error\n",
    "from datetime import datetime\n",
    "import time\n",
    "import lightgbm as lgb\n",
    "from lightgbm import LGBMRegressor\n",
    "from catboost import CatBoostRegressor\n",
    "from sklearn.model_selection import RandomizedSearchCV\n",
    "from sklearn.linear_model import LinearRegression\n",
    "from sklearn.tree import DecisionTreeRegressor\n",
    "from sklearn.ensemble import RandomForestRegressor\n",
    "from sklearn.dummy import DummyRegressor\n",
    "from sklearn.neighbors import KNeighborsRegressor"
   ]
  },
  {
   "cell_type": "markdown",
   "metadata": {},
   "source": [
    "Извлекаем данные из файла"
   ]
  },
  {
   "cell_type": "code",
   "execution_count": 2,
   "metadata": {},
   "outputs": [],
   "source": [
    "df = pd.read_csv('datasets/autos.csv')"
   ]
  },
  {
   "cell_type": "code",
   "execution_count": 3,
   "metadata": {},
   "outputs": [
    {
     "name": "stdout",
     "output_type": "stream",
     "text": [
      "<class 'pandas.core.frame.DataFrame'>\n",
      "RangeIndex: 354369 entries, 0 to 354368\n",
      "Data columns (total 16 columns):\n",
      " #   Column             Non-Null Count   Dtype \n",
      "---  ------             --------------   ----- \n",
      " 0   DateCrawled        354369 non-null  object\n",
      " 1   Price              354369 non-null  int64 \n",
      " 2   VehicleType        316879 non-null  object\n",
      " 3   RegistrationYear   354369 non-null  int64 \n",
      " 4   Gearbox            334536 non-null  object\n",
      " 5   Power              354369 non-null  int64 \n",
      " 6   Model              334664 non-null  object\n",
      " 7   Kilometer          354369 non-null  int64 \n",
      " 8   RegistrationMonth  354369 non-null  int64 \n",
      " 9   FuelType           321474 non-null  object\n",
      " 10  Brand              354369 non-null  object\n",
      " 11  NotRepaired        283215 non-null  object\n",
      " 12  DateCreated        354369 non-null  object\n",
      " 13  NumberOfPictures   354369 non-null  int64 \n",
      " 14  PostalCode         354369 non-null  int64 \n",
      " 15  LastSeen           354369 non-null  object\n",
      "dtypes: int64(7), object(9)\n",
      "memory usage: 43.3+ MB\n"
     ]
    }
   ],
   "source": [
    "df.info()"
   ]
  },
  {
   "cell_type": "markdown",
   "metadata": {},
   "source": [
    "Рассмотрим первые 10 записей"
   ]
  },
  {
   "cell_type": "code",
   "execution_count": 4,
   "metadata": {
    "scrolled": false
   },
   "outputs": [
    {
     "data": {
      "text/html": [
       "<div>\n",
       "<style scoped>\n",
       "    .dataframe tbody tr th:only-of-type {\n",
       "        vertical-align: middle;\n",
       "    }\n",
       "\n",
       "    .dataframe tbody tr th {\n",
       "        vertical-align: top;\n",
       "    }\n",
       "\n",
       "    .dataframe thead th {\n",
       "        text-align: right;\n",
       "    }\n",
       "</style>\n",
       "<table border=\"1\" class=\"dataframe\">\n",
       "  <thead>\n",
       "    <tr style=\"text-align: right;\">\n",
       "      <th></th>\n",
       "      <th>DateCrawled</th>\n",
       "      <th>Price</th>\n",
       "      <th>VehicleType</th>\n",
       "      <th>RegistrationYear</th>\n",
       "      <th>Gearbox</th>\n",
       "      <th>Power</th>\n",
       "      <th>Model</th>\n",
       "      <th>Kilometer</th>\n",
       "      <th>RegistrationMonth</th>\n",
       "      <th>FuelType</th>\n",
       "      <th>Brand</th>\n",
       "      <th>NotRepaired</th>\n",
       "      <th>DateCreated</th>\n",
       "      <th>NumberOfPictures</th>\n",
       "      <th>PostalCode</th>\n",
       "      <th>LastSeen</th>\n",
       "    </tr>\n",
       "  </thead>\n",
       "  <tbody>\n",
       "    <tr>\n",
       "      <th>0</th>\n",
       "      <td>2016-03-24 11:52:17</td>\n",
       "      <td>480</td>\n",
       "      <td>NaN</td>\n",
       "      <td>1993</td>\n",
       "      <td>manual</td>\n",
       "      <td>0</td>\n",
       "      <td>golf</td>\n",
       "      <td>150000</td>\n",
       "      <td>0</td>\n",
       "      <td>petrol</td>\n",
       "      <td>volkswagen</td>\n",
       "      <td>NaN</td>\n",
       "      <td>2016-03-24 00:00:00</td>\n",
       "      <td>0</td>\n",
       "      <td>70435</td>\n",
       "      <td>2016-04-07 03:16:57</td>\n",
       "    </tr>\n",
       "    <tr>\n",
       "      <th>1</th>\n",
       "      <td>2016-03-24 10:58:45</td>\n",
       "      <td>18300</td>\n",
       "      <td>coupe</td>\n",
       "      <td>2011</td>\n",
       "      <td>manual</td>\n",
       "      <td>190</td>\n",
       "      <td>NaN</td>\n",
       "      <td>125000</td>\n",
       "      <td>5</td>\n",
       "      <td>gasoline</td>\n",
       "      <td>audi</td>\n",
       "      <td>yes</td>\n",
       "      <td>2016-03-24 00:00:00</td>\n",
       "      <td>0</td>\n",
       "      <td>66954</td>\n",
       "      <td>2016-04-07 01:46:50</td>\n",
       "    </tr>\n",
       "    <tr>\n",
       "      <th>2</th>\n",
       "      <td>2016-03-14 12:52:21</td>\n",
       "      <td>9800</td>\n",
       "      <td>suv</td>\n",
       "      <td>2004</td>\n",
       "      <td>auto</td>\n",
       "      <td>163</td>\n",
       "      <td>grand</td>\n",
       "      <td>125000</td>\n",
       "      <td>8</td>\n",
       "      <td>gasoline</td>\n",
       "      <td>jeep</td>\n",
       "      <td>NaN</td>\n",
       "      <td>2016-03-14 00:00:00</td>\n",
       "      <td>0</td>\n",
       "      <td>90480</td>\n",
       "      <td>2016-04-05 12:47:46</td>\n",
       "    </tr>\n",
       "    <tr>\n",
       "      <th>3</th>\n",
       "      <td>2016-03-17 16:54:04</td>\n",
       "      <td>1500</td>\n",
       "      <td>small</td>\n",
       "      <td>2001</td>\n",
       "      <td>manual</td>\n",
       "      <td>75</td>\n",
       "      <td>golf</td>\n",
       "      <td>150000</td>\n",
       "      <td>6</td>\n",
       "      <td>petrol</td>\n",
       "      <td>volkswagen</td>\n",
       "      <td>no</td>\n",
       "      <td>2016-03-17 00:00:00</td>\n",
       "      <td>0</td>\n",
       "      <td>91074</td>\n",
       "      <td>2016-03-17 17:40:17</td>\n",
       "    </tr>\n",
       "    <tr>\n",
       "      <th>4</th>\n",
       "      <td>2016-03-31 17:25:20</td>\n",
       "      <td>3600</td>\n",
       "      <td>small</td>\n",
       "      <td>2008</td>\n",
       "      <td>manual</td>\n",
       "      <td>69</td>\n",
       "      <td>fabia</td>\n",
       "      <td>90000</td>\n",
       "      <td>7</td>\n",
       "      <td>gasoline</td>\n",
       "      <td>skoda</td>\n",
       "      <td>no</td>\n",
       "      <td>2016-03-31 00:00:00</td>\n",
       "      <td>0</td>\n",
       "      <td>60437</td>\n",
       "      <td>2016-04-06 10:17:21</td>\n",
       "    </tr>\n",
       "    <tr>\n",
       "      <th>5</th>\n",
       "      <td>2016-04-04 17:36:23</td>\n",
       "      <td>650</td>\n",
       "      <td>sedan</td>\n",
       "      <td>1995</td>\n",
       "      <td>manual</td>\n",
       "      <td>102</td>\n",
       "      <td>3er</td>\n",
       "      <td>150000</td>\n",
       "      <td>10</td>\n",
       "      <td>petrol</td>\n",
       "      <td>bmw</td>\n",
       "      <td>yes</td>\n",
       "      <td>2016-04-04 00:00:00</td>\n",
       "      <td>0</td>\n",
       "      <td>33775</td>\n",
       "      <td>2016-04-06 19:17:07</td>\n",
       "    </tr>\n",
       "    <tr>\n",
       "      <th>6</th>\n",
       "      <td>2016-04-01 20:48:51</td>\n",
       "      <td>2200</td>\n",
       "      <td>convertible</td>\n",
       "      <td>2004</td>\n",
       "      <td>manual</td>\n",
       "      <td>109</td>\n",
       "      <td>2_reihe</td>\n",
       "      <td>150000</td>\n",
       "      <td>8</td>\n",
       "      <td>petrol</td>\n",
       "      <td>peugeot</td>\n",
       "      <td>no</td>\n",
       "      <td>2016-04-01 00:00:00</td>\n",
       "      <td>0</td>\n",
       "      <td>67112</td>\n",
       "      <td>2016-04-05 18:18:39</td>\n",
       "    </tr>\n",
       "    <tr>\n",
       "      <th>7</th>\n",
       "      <td>2016-03-21 18:54:38</td>\n",
       "      <td>0</td>\n",
       "      <td>sedan</td>\n",
       "      <td>1980</td>\n",
       "      <td>manual</td>\n",
       "      <td>50</td>\n",
       "      <td>other</td>\n",
       "      <td>40000</td>\n",
       "      <td>7</td>\n",
       "      <td>petrol</td>\n",
       "      <td>volkswagen</td>\n",
       "      <td>no</td>\n",
       "      <td>2016-03-21 00:00:00</td>\n",
       "      <td>0</td>\n",
       "      <td>19348</td>\n",
       "      <td>2016-03-25 16:47:58</td>\n",
       "    </tr>\n",
       "    <tr>\n",
       "      <th>8</th>\n",
       "      <td>2016-04-04 23:42:13</td>\n",
       "      <td>14500</td>\n",
       "      <td>bus</td>\n",
       "      <td>2014</td>\n",
       "      <td>manual</td>\n",
       "      <td>125</td>\n",
       "      <td>c_max</td>\n",
       "      <td>30000</td>\n",
       "      <td>8</td>\n",
       "      <td>petrol</td>\n",
       "      <td>ford</td>\n",
       "      <td>NaN</td>\n",
       "      <td>2016-04-04 00:00:00</td>\n",
       "      <td>0</td>\n",
       "      <td>94505</td>\n",
       "      <td>2016-04-04 23:42:13</td>\n",
       "    </tr>\n",
       "    <tr>\n",
       "      <th>9</th>\n",
       "      <td>2016-03-17 10:53:50</td>\n",
       "      <td>999</td>\n",
       "      <td>small</td>\n",
       "      <td>1998</td>\n",
       "      <td>manual</td>\n",
       "      <td>101</td>\n",
       "      <td>golf</td>\n",
       "      <td>150000</td>\n",
       "      <td>0</td>\n",
       "      <td>NaN</td>\n",
       "      <td>volkswagen</td>\n",
       "      <td>NaN</td>\n",
       "      <td>2016-03-17 00:00:00</td>\n",
       "      <td>0</td>\n",
       "      <td>27472</td>\n",
       "      <td>2016-03-31 17:17:06</td>\n",
       "    </tr>\n",
       "  </tbody>\n",
       "</table>\n",
       "</div>"
      ],
      "text/plain": [
       "           DateCrawled  Price  VehicleType  RegistrationYear Gearbox  Power  \\\n",
       "0  2016-03-24 11:52:17    480          NaN              1993  manual      0   \n",
       "1  2016-03-24 10:58:45  18300        coupe              2011  manual    190   \n",
       "2  2016-03-14 12:52:21   9800          suv              2004    auto    163   \n",
       "3  2016-03-17 16:54:04   1500        small              2001  manual     75   \n",
       "4  2016-03-31 17:25:20   3600        small              2008  manual     69   \n",
       "5  2016-04-04 17:36:23    650        sedan              1995  manual    102   \n",
       "6  2016-04-01 20:48:51   2200  convertible              2004  manual    109   \n",
       "7  2016-03-21 18:54:38      0        sedan              1980  manual     50   \n",
       "8  2016-04-04 23:42:13  14500          bus              2014  manual    125   \n",
       "9  2016-03-17 10:53:50    999        small              1998  manual    101   \n",
       "\n",
       "     Model  Kilometer  RegistrationMonth  FuelType       Brand NotRepaired  \\\n",
       "0     golf     150000                  0    petrol  volkswagen         NaN   \n",
       "1      NaN     125000                  5  gasoline        audi         yes   \n",
       "2    grand     125000                  8  gasoline        jeep         NaN   \n",
       "3     golf     150000                  6    petrol  volkswagen          no   \n",
       "4    fabia      90000                  7  gasoline       skoda          no   \n",
       "5      3er     150000                 10    petrol         bmw         yes   \n",
       "6  2_reihe     150000                  8    petrol     peugeot          no   \n",
       "7    other      40000                  7    petrol  volkswagen          no   \n",
       "8    c_max      30000                  8    petrol        ford         NaN   \n",
       "9     golf     150000                  0       NaN  volkswagen         NaN   \n",
       "\n",
       "           DateCreated  NumberOfPictures  PostalCode             LastSeen  \n",
       "0  2016-03-24 00:00:00                 0       70435  2016-04-07 03:16:57  \n",
       "1  2016-03-24 00:00:00                 0       66954  2016-04-07 01:46:50  \n",
       "2  2016-03-14 00:00:00                 0       90480  2016-04-05 12:47:46  \n",
       "3  2016-03-17 00:00:00                 0       91074  2016-03-17 17:40:17  \n",
       "4  2016-03-31 00:00:00                 0       60437  2016-04-06 10:17:21  \n",
       "5  2016-04-04 00:00:00                 0       33775  2016-04-06 19:17:07  \n",
       "6  2016-04-01 00:00:00                 0       67112  2016-04-05 18:18:39  \n",
       "7  2016-03-21 00:00:00                 0       19348  2016-03-25 16:47:58  \n",
       "8  2016-04-04 00:00:00                 0       94505  2016-04-04 23:42:13  \n",
       "9  2016-03-17 00:00:00                 0       27472  2016-03-31 17:17:06  "
      ]
     },
     "execution_count": 4,
     "metadata": {},
     "output_type": "execute_result"
    }
   ],
   "source": [
    "df.head(10)"
   ]
  },
  {
   "cell_type": "markdown",
   "metadata": {},
   "source": [
    "### Повторы"
   ]
  },
  {
   "cell_type": "markdown",
   "metadata": {},
   "source": [
    "Посмотрим на повторяющиеся анкеты, исключим поля с датами"
   ]
  },
  {
   "cell_type": "code",
   "execution_count": 5,
   "metadata": {},
   "outputs": [
    {
     "data": {
      "text/plain": [
       "4"
      ]
     },
     "execution_count": 5,
     "metadata": {},
     "output_type": "execute_result"
    }
   ],
   "source": [
    "df.duplicated().sum()"
   ]
  },
  {
   "cell_type": "code",
   "execution_count": 6,
   "metadata": {},
   "outputs": [
    {
     "data": {
      "text/plain": [
       "0.06019996105754172"
      ]
     },
     "execution_count": 6,
     "metadata": {},
     "output_type": "execute_result"
    }
   ],
   "source": [
    "df[['Price', 'VehicleType', 'RegistrationYear', 'Gearbox',\n",
    "       'Power', 'Model', 'Kilometer', 'RegistrationMonth', 'FuelType', 'Brand',\n",
    "       'NotRepaired', 'NumberOfPictures', 'PostalCode']].duplicated(keep='last').sum()/len(df)"
   ]
  },
  {
   "cell_type": "markdown",
   "metadata": {},
   "source": [
    "Имеется 6% повторных записей. Это повторно созданные анкеты. Удалим их, оставив последние из них (хотя это не существенно)."
   ]
  },
  {
   "cell_type": "code",
   "execution_count": 7,
   "metadata": {},
   "outputs": [],
   "source": [
    "df = df.drop_duplicates(subset=['Price', 'VehicleType', 'RegistrationYear', 'Gearbox',\n",
    "       'Power', 'Model', 'Kilometer', 'RegistrationMonth', 'FuelType', 'Brand',\n",
    "       'NotRepaired', 'NumberOfPictures', 'PostalCode'], keep='last')"
   ]
  },
  {
   "cell_type": "code",
   "execution_count": 8,
   "metadata": {},
   "outputs": [
    {
     "data": {
      "text/plain": [
       "333036"
      ]
     },
     "execution_count": 8,
     "metadata": {},
     "output_type": "execute_result"
    }
   ],
   "source": [
    "len(df)"
   ]
  },
  {
   "cell_type": "markdown",
   "metadata": {},
   "source": [
    "### Типы данных"
   ]
  },
  {
   "cell_type": "markdown",
   "metadata": {},
   "source": [
    "Приведём даты к типу datetime"
   ]
  },
  {
   "cell_type": "code",
   "execution_count": 9,
   "metadata": {},
   "outputs": [],
   "source": [
    "df['DateCrawled'] = pd.to_datetime(df['DateCrawled'], format='%Y-%m-%d ')"
   ]
  },
  {
   "cell_type": "code",
   "execution_count": 10,
   "metadata": {},
   "outputs": [],
   "source": [
    "df['DateCreated'] = pd.to_datetime(df['DateCreated'], format='%Y-%m-%d ')"
   ]
  },
  {
   "cell_type": "code",
   "execution_count": 11,
   "metadata": {},
   "outputs": [],
   "source": [
    "df['LastSeen'] = pd.to_datetime(df['LastSeen'], format='%Y-%m-%d ')"
   ]
  },
  {
   "cell_type": "code",
   "execution_count": 12,
   "metadata": {
    "scrolled": true
   },
   "outputs": [
    {
     "name": "stdout",
     "output_type": "stream",
     "text": [
      "<class 'pandas.core.frame.DataFrame'>\n",
      "Int64Index: 333036 entries, 0 to 354368\n",
      "Data columns (total 16 columns):\n",
      " #   Column             Non-Null Count   Dtype         \n",
      "---  ------             --------------   -----         \n",
      " 0   DateCrawled        333036 non-null  datetime64[ns]\n",
      " 1   Price              333036 non-null  int64         \n",
      " 2   VehicleType        296896 non-null  object        \n",
      " 3   RegistrationYear   333036 non-null  int64         \n",
      " 4   Gearbox            314021 non-null  object        \n",
      " 5   Power              333036 non-null  int64         \n",
      " 6   Model              314013 non-null  object        \n",
      " 7   Kilometer          333036 non-null  int64         \n",
      " 8   RegistrationMonth  333036 non-null  int64         \n",
      " 9   FuelType           301134 non-null  object        \n",
      " 10  Brand              333036 non-null  object        \n",
      " 11  NotRepaired        264973 non-null  object        \n",
      " 12  DateCreated        333036 non-null  datetime64[ns]\n",
      " 13  NumberOfPictures   333036 non-null  int64         \n",
      " 14  PostalCode         333036 non-null  int64         \n",
      " 15  LastSeen           333036 non-null  datetime64[ns]\n",
      "dtypes: datetime64[ns](3), int64(7), object(6)\n",
      "memory usage: 43.2+ MB\n"
     ]
    }
   ],
   "source": [
    "df.info()"
   ]
  },
  {
   "cell_type": "markdown",
   "metadata": {},
   "source": [
    "### Исследование данных"
   ]
  },
  {
   "cell_type": "markdown",
   "metadata": {},
   "source": [
    "#### Целевой признак"
   ]
  },
  {
   "cell_type": "markdown",
   "metadata": {},
   "source": [
    "Рассмотрим целевой признак"
   ]
  },
  {
   "cell_type": "code",
   "execution_count": 13,
   "metadata": {},
   "outputs": [
    {
     "data": {
      "text/plain": [
       "count    333036.000000\n",
       "mean       4378.277586\n",
       "std        4502.534823\n",
       "min           0.000000\n",
       "25%        1000.000000\n",
       "50%        2699.000000\n",
       "75%        6299.250000\n",
       "max       20000.000000\n",
       "Name: Price, dtype: float64"
      ]
     },
     "execution_count": 13,
     "metadata": {},
     "output_type": "execute_result"
    }
   ],
   "source": [
    "df['Price'].describe()"
   ]
  },
  {
   "cell_type": "code",
   "execution_count": 14,
   "metadata": {},
   "outputs": [
    {
     "data": {
      "text/plain": [
       "<AxesSubplot:>"
      ]
     },
     "execution_count": 14,
     "metadata": {},
     "output_type": "execute_result"
    },
    {
     "data": {
      "image/png": "[encoded data removed]",
      "text/plain": [
       "<Figure size 432x288 with 1 Axes>"
      ]
     },
     "metadata": {
      "needs_background": "light"
     },
     "output_type": "display_data"
    }
   ],
   "source": [
    "df['Price'].hist(bins=100)"
   ]
  },
  {
   "cell_type": "markdown",
   "metadata": {},
   "source": [
    "Посчитаем количество записей с нулевой ценой"
   ]
  },
  {
   "cell_type": "code",
   "execution_count": 15,
   "metadata": {},
   "outputs": [
    {
     "data": {
      "text/plain": [
       "10013"
      ]
     },
     "execution_count": 15,
     "metadata": {},
     "output_type": "execute_result"
    }
   ],
   "source": [
    "len(df[df['Price'] == 0])"
   ]
  },
  {
   "cell_type": "code",
   "execution_count": 16,
   "metadata": {},
   "outputs": [
    {
     "data": {
      "text/html": [
       "<div>\n",
       "<style scoped>\n",
       "    .dataframe tbody tr th:only-of-type {\n",
       "        vertical-align: middle;\n",
       "    }\n",
       "\n",
       "    .dataframe tbody tr th {\n",
       "        vertical-align: top;\n",
       "    }\n",
       "\n",
       "    .dataframe thead th {\n",
       "        text-align: right;\n",
       "    }\n",
       "</style>\n",
       "<table border=\"1\" class=\"dataframe\">\n",
       "  <thead>\n",
       "    <tr style=\"text-align: right;\">\n",
       "      <th></th>\n",
       "      <th>DateCrawled</th>\n",
       "      <th>Price</th>\n",
       "      <th>VehicleType</th>\n",
       "      <th>RegistrationYear</th>\n",
       "      <th>Gearbox</th>\n",
       "      <th>Power</th>\n",
       "      <th>Model</th>\n",
       "      <th>Kilometer</th>\n",
       "      <th>RegistrationMonth</th>\n",
       "      <th>FuelType</th>\n",
       "      <th>Brand</th>\n",
       "      <th>NotRepaired</th>\n",
       "      <th>DateCreated</th>\n",
       "      <th>NumberOfPictures</th>\n",
       "      <th>PostalCode</th>\n",
       "      <th>LastSeen</th>\n",
       "    </tr>\n",
       "  </thead>\n",
       "  <tbody>\n",
       "    <tr>\n",
       "      <th>7</th>\n",
       "      <td>2016-03-21 18:54:38</td>\n",
       "      <td>0</td>\n",
       "      <td>sedan</td>\n",
       "      <td>1980</td>\n",
       "      <td>manual</td>\n",
       "      <td>50</td>\n",
       "      <td>other</td>\n",
       "      <td>40000</td>\n",
       "      <td>7</td>\n",
       "      <td>petrol</td>\n",
       "      <td>volkswagen</td>\n",
       "      <td>no</td>\n",
       "      <td>2016-03-21</td>\n",
       "      <td>0</td>\n",
       "      <td>19348</td>\n",
       "      <td>2016-03-25 16:47:58</td>\n",
       "    </tr>\n",
       "    <tr>\n",
       "      <th>40</th>\n",
       "      <td>2016-03-26 22:06:17</td>\n",
       "      <td>0</td>\n",
       "      <td>NaN</td>\n",
       "      <td>1990</td>\n",
       "      <td>NaN</td>\n",
       "      <td>0</td>\n",
       "      <td>corsa</td>\n",
       "      <td>150000</td>\n",
       "      <td>1</td>\n",
       "      <td>petrol</td>\n",
       "      <td>opel</td>\n",
       "      <td>NaN</td>\n",
       "      <td>2016-03-26</td>\n",
       "      <td>0</td>\n",
       "      <td>56412</td>\n",
       "      <td>2016-03-27 17:43:34</td>\n",
       "    </tr>\n",
       "    <tr>\n",
       "      <th>115</th>\n",
       "      <td>2016-03-20 18:53:27</td>\n",
       "      <td>0</td>\n",
       "      <td>small</td>\n",
       "      <td>1999</td>\n",
       "      <td>NaN</td>\n",
       "      <td>0</td>\n",
       "      <td>NaN</td>\n",
       "      <td>5000</td>\n",
       "      <td>0</td>\n",
       "      <td>petrol</td>\n",
       "      <td>volkswagen</td>\n",
       "      <td>NaN</td>\n",
       "      <td>2016-03-20</td>\n",
       "      <td>0</td>\n",
       "      <td>37520</td>\n",
       "      <td>2016-04-07 02:45:22</td>\n",
       "    </tr>\n",
       "    <tr>\n",
       "      <th>154</th>\n",
       "      <td>2016-03-22 16:37:59</td>\n",
       "      <td>0</td>\n",
       "      <td>NaN</td>\n",
       "      <td>2006</td>\n",
       "      <td>NaN</td>\n",
       "      <td>0</td>\n",
       "      <td>other</td>\n",
       "      <td>5000</td>\n",
       "      <td>0</td>\n",
       "      <td>NaN</td>\n",
       "      <td>fiat</td>\n",
       "      <td>NaN</td>\n",
       "      <td>2016-03-22</td>\n",
       "      <td>0</td>\n",
       "      <td>44867</td>\n",
       "      <td>2016-04-06 06:17:56</td>\n",
       "    </tr>\n",
       "    <tr>\n",
       "      <th>231</th>\n",
       "      <td>2016-03-16 22:06:24</td>\n",
       "      <td>0</td>\n",
       "      <td>wagon</td>\n",
       "      <td>2001</td>\n",
       "      <td>manual</td>\n",
       "      <td>115</td>\n",
       "      <td>mondeo</td>\n",
       "      <td>150000</td>\n",
       "      <td>0</td>\n",
       "      <td>NaN</td>\n",
       "      <td>ford</td>\n",
       "      <td>NaN</td>\n",
       "      <td>2016-03-16</td>\n",
       "      <td>0</td>\n",
       "      <td>57627</td>\n",
       "      <td>2016-03-26 11:17:50</td>\n",
       "    </tr>\n",
       "    <tr>\n",
       "      <th>...</th>\n",
       "      <td>...</td>\n",
       "      <td>...</td>\n",
       "      <td>...</td>\n",
       "      <td>...</td>\n",
       "      <td>...</td>\n",
       "      <td>...</td>\n",
       "      <td>...</td>\n",
       "      <td>...</td>\n",
       "      <td>...</td>\n",
       "      <td>...</td>\n",
       "      <td>...</td>\n",
       "      <td>...</td>\n",
       "      <td>...</td>\n",
       "      <td>...</td>\n",
       "      <td>...</td>\n",
       "      <td>...</td>\n",
       "    </tr>\n",
       "    <tr>\n",
       "      <th>354205</th>\n",
       "      <td>2016-03-09 15:56:30</td>\n",
       "      <td>0</td>\n",
       "      <td>NaN</td>\n",
       "      <td>2000</td>\n",
       "      <td>manual</td>\n",
       "      <td>65</td>\n",
       "      <td>corsa</td>\n",
       "      <td>150000</td>\n",
       "      <td>0</td>\n",
       "      <td>NaN</td>\n",
       "      <td>opel</td>\n",
       "      <td>yes</td>\n",
       "      <td>2016-03-09</td>\n",
       "      <td>0</td>\n",
       "      <td>23758</td>\n",
       "      <td>2016-03-30 11:16:08</td>\n",
       "    </tr>\n",
       "    <tr>\n",
       "      <th>354238</th>\n",
       "      <td>2016-03-20 14:55:07</td>\n",
       "      <td>0</td>\n",
       "      <td>small</td>\n",
       "      <td>2002</td>\n",
       "      <td>manual</td>\n",
       "      <td>60</td>\n",
       "      <td>fiesta</td>\n",
       "      <td>150000</td>\n",
       "      <td>3</td>\n",
       "      <td>petrol</td>\n",
       "      <td>ford</td>\n",
       "      <td>NaN</td>\n",
       "      <td>2016-03-20</td>\n",
       "      <td>0</td>\n",
       "      <td>33659</td>\n",
       "      <td>2016-04-06 18:45:23</td>\n",
       "    </tr>\n",
       "    <tr>\n",
       "      <th>354248</th>\n",
       "      <td>2016-03-24 13:48:05</td>\n",
       "      <td>0</td>\n",
       "      <td>small</td>\n",
       "      <td>1999</td>\n",
       "      <td>manual</td>\n",
       "      <td>53</td>\n",
       "      <td>swift</td>\n",
       "      <td>150000</td>\n",
       "      <td>3</td>\n",
       "      <td>petrol</td>\n",
       "      <td>suzuki</td>\n",
       "      <td>NaN</td>\n",
       "      <td>2016-03-24</td>\n",
       "      <td>0</td>\n",
       "      <td>42329</td>\n",
       "      <td>2016-04-07 05:17:24</td>\n",
       "    </tr>\n",
       "    <tr>\n",
       "      <th>354277</th>\n",
       "      <td>2016-03-10 22:55:50</td>\n",
       "      <td>0</td>\n",
       "      <td>small</td>\n",
       "      <td>1999</td>\n",
       "      <td>manual</td>\n",
       "      <td>37</td>\n",
       "      <td>arosa</td>\n",
       "      <td>150000</td>\n",
       "      <td>7</td>\n",
       "      <td>petrol</td>\n",
       "      <td>seat</td>\n",
       "      <td>yes</td>\n",
       "      <td>2016-03-10</td>\n",
       "      <td>0</td>\n",
       "      <td>22559</td>\n",
       "      <td>2016-03-12 23:46:32</td>\n",
       "    </tr>\n",
       "    <tr>\n",
       "      <th>354364</th>\n",
       "      <td>2016-03-21 09:50:58</td>\n",
       "      <td>0</td>\n",
       "      <td>NaN</td>\n",
       "      <td>2005</td>\n",
       "      <td>manual</td>\n",
       "      <td>0</td>\n",
       "      <td>colt</td>\n",
       "      <td>150000</td>\n",
       "      <td>7</td>\n",
       "      <td>petrol</td>\n",
       "      <td>mitsubishi</td>\n",
       "      <td>yes</td>\n",
       "      <td>2016-03-21</td>\n",
       "      <td>0</td>\n",
       "      <td>2694</td>\n",
       "      <td>2016-03-21 10:42:49</td>\n",
       "    </tr>\n",
       "  </tbody>\n",
       "</table>\n",
       "<p>10013 rows × 16 columns</p>\n",
       "</div>"
      ],
      "text/plain": [
       "               DateCrawled  Price VehicleType  RegistrationYear Gearbox  \\\n",
       "7      2016-03-21 18:54:38      0       sedan              1980  manual   \n",
       "40     2016-03-26 22:06:17      0         NaN              1990     NaN   \n",
       "115    2016-03-20 18:53:27      0       small              1999     NaN   \n",
       "154    2016-03-22 16:37:59      0         NaN              2006     NaN   \n",
       "231    2016-03-16 22:06:24      0       wagon              2001  manual   \n",
       "...                    ...    ...         ...               ...     ...   \n",
       "354205 2016-03-09 15:56:30      0         NaN              2000  manual   \n",
       "354238 2016-03-20 14:55:07      0       small              2002  manual   \n",
       "354248 2016-03-24 13:48:05      0       small              1999  manual   \n",
       "354277 2016-03-10 22:55:50      0       small              1999  manual   \n",
       "354364 2016-03-21 09:50:58      0         NaN              2005  manual   \n",
       "\n",
       "        Power   Model  Kilometer  RegistrationMonth FuelType       Brand  \\\n",
       "7          50   other      40000                  7   petrol  volkswagen   \n",
       "40          0   corsa     150000                  1   petrol        opel   \n",
       "115         0     NaN       5000                  0   petrol  volkswagen   \n",
       "154         0   other       5000                  0      NaN        fiat   \n",
       "231       115  mondeo     150000                  0      NaN        ford   \n",
       "...       ...     ...        ...                ...      ...         ...   \n",
       "354205     65   corsa     150000                  0      NaN        opel   \n",
       "354238     60  fiesta     150000                  3   petrol        ford   \n",
       "354248     53   swift     150000                  3   petrol      suzuki   \n",
       "354277     37   arosa     150000                  7   petrol        seat   \n",
       "354364      0    colt     150000                  7   petrol  mitsubishi   \n",
       "\n",
       "       NotRepaired DateCreated  NumberOfPictures  PostalCode  \\\n",
       "7               no  2016-03-21                 0       19348   \n",
       "40             NaN  2016-03-26                 0       56412   \n",
       "115            NaN  2016-03-20                 0       37520   \n",
       "154            NaN  2016-03-22                 0       44867   \n",
       "231            NaN  2016-03-16                 0       57627   \n",
       "...            ...         ...               ...         ...   \n",
       "354205         yes  2016-03-09                 0       23758   \n",
       "354238         NaN  2016-03-20                 0       33659   \n",
       "354248         NaN  2016-03-24                 0       42329   \n",
       "354277         yes  2016-03-10                 0       22559   \n",
       "354364         yes  2016-03-21                 0        2694   \n",
       "\n",
       "                  LastSeen  \n",
       "7      2016-03-25 16:47:58  \n",
       "40     2016-03-27 17:43:34  \n",
       "115    2016-04-07 02:45:22  \n",
       "154    2016-04-06 06:17:56  \n",
       "231    2016-03-26 11:17:50  \n",
       "...                    ...  \n",
       "354205 2016-03-30 11:16:08  \n",
       "354238 2016-04-06 18:45:23  \n",
       "354248 2016-04-07 05:17:24  \n",
       "354277 2016-03-12 23:46:32  \n",
       "354364 2016-03-21 10:42:49  \n",
       "\n",
       "[10013 rows x 16 columns]"
      ]
     },
     "execution_count": 16,
     "metadata": {},
     "output_type": "execute_result"
    }
   ],
   "source": [
    "df[df['Price'] == 0]"
   ]
  },
  {
   "cell_type": "markdown",
   "metadata": {},
   "source": [
    "Посмотрим на распределение количества записей для авто с ценой менее 1000"
   ]
  },
  {
   "cell_type": "code",
   "execution_count": 17,
   "metadata": {},
   "outputs": [
    {
     "data": {
      "text/plain": [
       "<AxesSubplot:>"
      ]
     },
     "execution_count": 17,
     "metadata": {},
     "output_type": "execute_result"
    },
    {
     "data": {
      "image/png": "[encoded data removed]",
      "text/plain": [
       "<Figure size 432x288 with 1 Axes>"
      ]
     },
     "metadata": {
      "needs_background": "light"
     },
     "output_type": "display_data"
    }
   ],
   "source": [
    "df[df['Price'] < 1000]['Price'].hist(bins=100)"
   ]
  },
  {
   "cell_type": "markdown",
   "metadata": {},
   "source": [
    "Доля авто с нулевой ценой"
   ]
  },
  {
   "cell_type": "code",
   "execution_count": 18,
   "metadata": {},
   "outputs": [
    {
     "data": {
      "text/plain": [
       "0.030065818710289578"
      ]
     },
     "execution_count": 18,
     "metadata": {},
     "output_type": "execute_result"
    }
   ],
   "source": [
    "len(df[df['Price'] == 0])/len(df)"
   ]
  },
  {
   "cell_type": "markdown",
   "metadata": {},
   "source": [
    "Предложения с нулевой ценой на сервисе продаж - это странно. Такие данные нам будут мешать. Удалим их. Это 3% всех данных."
   ]
  },
  {
   "cell_type": "code",
   "execution_count": 19,
   "metadata": {},
   "outputs": [],
   "source": [
    "df = df.drop(df[df['Price'] == 0].index)"
   ]
  },
  {
   "cell_type": "code",
   "execution_count": 20,
   "metadata": {},
   "outputs": [
    {
     "data": {
      "text/plain": [
       "0"
      ]
     },
     "execution_count": 20,
     "metadata": {},
     "output_type": "execute_result"
    }
   ],
   "source": [
    "len(df[df['Price'] == 0])"
   ]
  },
  {
   "cell_type": "markdown",
   "metadata": {},
   "source": [
    "#### Категории"
   ]
  },
  {
   "cell_type": "markdown",
   "metadata": {},
   "source": [
    "'VehicleType', 'Gearbox', 'Model', 'FuelType', 'Brand', 'NotRepaired'    "
   ]
  },
  {
   "cell_type": "markdown",
   "metadata": {},
   "source": [
    "Заполним пропуски в категориях значением ***undefined***, так как скорее всего не все возможные категории имеются в сервисе, или затруднительно выбрать из имеющихся, либо пользователь намеренно не уточняет."
   ]
  },
  {
   "cell_type": "markdown",
   "metadata": {},
   "source": [
    "**VehicleType — тип автомобильного кузова**"
   ]
  },
  {
   "cell_type": "code",
   "execution_count": 21,
   "metadata": {},
   "outputs": [
    {
     "data": {
      "text/plain": [
       "array(['bus', 'convertible', 'coupe', 'other', 'sedan', 'small', 'suv',\n",
       "       'wagon', nan], dtype=object)"
      ]
     },
     "execution_count": 21,
     "metadata": {},
     "output_type": "execute_result"
    }
   ],
   "source": [
    "df['VehicleType'].sort_values().unique()"
   ]
  },
  {
   "cell_type": "markdown",
   "metadata": {},
   "source": [
    "Заполним пропуски значением ***undefined***"
   ]
  },
  {
   "cell_type": "code",
   "execution_count": 22,
   "metadata": {},
   "outputs": [],
   "source": [
    "df['VehicleType'] = df['VehicleType'].fillna('undefined')"
   ]
  },
  {
   "cell_type": "code",
   "execution_count": 23,
   "metadata": {},
   "outputs": [
    {
     "data": {
      "text/plain": [
       "sedan          83806\n",
       "small          73159\n",
       "wagon          59512\n",
       "undefined      32592\n",
       "bus            26658\n",
       "convertible    18598\n",
       "coupe          14791\n",
       "suv            10912\n",
       "other           2995\n",
       "Name: VehicleType, dtype: int64"
      ]
     },
     "execution_count": 23,
     "metadata": {},
     "output_type": "execute_result"
    }
   ],
   "source": [
    "df['VehicleType'].value_counts()"
   ]
  },
  {
   "cell_type": "markdown",
   "metadata": {},
   "source": [
    "**Gearbox — тип коробки передач**"
   ]
  },
  {
   "cell_type": "code",
   "execution_count": 24,
   "metadata": {},
   "outputs": [
    {
     "data": {
      "text/plain": [
       "array(['auto', 'manual', nan], dtype=object)"
      ]
     },
     "execution_count": 24,
     "metadata": {},
     "output_type": "execute_result"
    }
   ],
   "source": [
    "df['Gearbox'].sort_values().unique()"
   ]
  },
  {
   "cell_type": "markdown",
   "metadata": {},
   "source": [
    "Заполним пропуски значением ***undefined***"
   ]
  },
  {
   "cell_type": "code",
   "execution_count": 25,
   "metadata": {},
   "outputs": [],
   "source": [
    "df['Gearbox'] = df['Gearbox'].fillna('undefined')"
   ]
  },
  {
   "cell_type": "code",
   "execution_count": 26,
   "metadata": {},
   "outputs": [
    {
     "data": {
      "text/plain": [
       "manual       245845\n",
       "auto          60495\n",
       "undefined     16683\n",
       "Name: Gearbox, dtype: int64"
      ]
     },
     "execution_count": 26,
     "metadata": {},
     "output_type": "execute_result"
    }
   ],
   "source": [
    "df['Gearbox'].value_counts()"
   ]
  },
  {
   "cell_type": "markdown",
   "metadata": {},
   "source": [
    "**FuelType — тип топлива**"
   ]
  },
  {
   "cell_type": "code",
   "execution_count": 27,
   "metadata": {},
   "outputs": [
    {
     "data": {
      "text/plain": [
       "array(['cng', 'electric', 'gasoline', 'hybrid', 'lpg', 'other', 'petrol',\n",
       "       nan], dtype=object)"
      ]
     },
     "execution_count": 27,
     "metadata": {},
     "output_type": "execute_result"
    }
   ],
   "source": [
    "df['FuelType'].sort_values().unique()"
   ]
  },
  {
   "cell_type": "markdown",
   "metadata": {},
   "source": [
    "Заполним пропуски значением ***undefined***"
   ]
  },
  {
   "cell_type": "code",
   "execution_count": 28,
   "metadata": {},
   "outputs": [],
   "source": [
    "df['FuelType'] = df['FuelType'].fillna('undefined')"
   ]
  },
  {
   "cell_type": "code",
   "execution_count": 29,
   "metadata": {},
   "outputs": [
    {
     "data": {
      "text/plain": [
       "petrol       198044\n",
       "gasoline      90523\n",
       "undefined     28640\n",
       "lpg            4821\n",
       "cng             520\n",
       "hybrid          222\n",
       "other           166\n",
       "electric         87\n",
       "Name: FuelType, dtype: int64"
      ]
     },
     "execution_count": 29,
     "metadata": {},
     "output_type": "execute_result"
    }
   ],
   "source": [
    "df['FuelType'].value_counts()"
   ]
  },
  {
   "cell_type": "markdown",
   "metadata": {},
   "source": [
    "**Brand — марка автомобиля**"
   ]
  },
  {
   "cell_type": "code",
   "execution_count": 30,
   "metadata": {},
   "outputs": [
    {
     "data": {
      "text/plain": [
       "array(['alfa_romeo', 'audi', 'bmw', 'chevrolet', 'chrysler', 'citroen',\n",
       "       'dacia', 'daewoo', 'daihatsu', 'fiat', 'ford', 'honda', 'hyundai',\n",
       "       'jaguar', 'jeep', 'kia', 'lada', 'lancia', 'land_rover', 'mazda',\n",
       "       'mercedes_benz', 'mini', 'mitsubishi', 'nissan', 'opel', 'peugeot',\n",
       "       'porsche', 'renault', 'rover', 'saab', 'seat', 'skoda', 'smart',\n",
       "       'sonstige_autos', 'subaru', 'suzuki', 'toyota', 'trabant',\n",
       "       'volkswagen', 'volvo'], dtype=object)"
      ]
     },
     "execution_count": 30,
     "metadata": {},
     "output_type": "execute_result"
    }
   ],
   "source": [
    "df['Brand'].sort_values().unique()"
   ]
  },
  {
   "cell_type": "markdown",
   "metadata": {},
   "source": [
    "**Model — модель автомобиля**"
   ]
  },
  {
   "cell_type": "code",
   "execution_count": 31,
   "metadata": {
    "scrolled": true
   },
   "outputs": [
    {
     "data": {
      "text/plain": [
       "array(['100', '145', '147', '156', '159', '1_reihe', '1er', '200',\n",
       "       '2_reihe', '300c', '3_reihe', '3er', '4_reihe', '500', '5_reihe',\n",
       "       '5er', '601', '6_reihe', '6er', '7er', '80', '850', '90', '900',\n",
       "       '9000', '911', 'a1', 'a2', 'a3', 'a4', 'a5', 'a6', 'a8',\n",
       "       'a_klasse', 'accord', 'agila', 'alhambra', 'almera', 'altea',\n",
       "       'amarok', 'antara', 'arosa', 'astra', 'auris', 'avensis', 'aveo',\n",
       "       'aygo', 'b_klasse', 'b_max', 'beetle', 'berlingo', 'bora',\n",
       "       'boxster', 'bravo', 'c1', 'c2', 'c3', 'c4', 'c5', 'c_klasse',\n",
       "       'c_max', 'c_reihe', 'caddy', 'calibra', 'captiva', 'carisma',\n",
       "       'carnival', 'cayenne', 'cc', 'ceed', 'charade', 'cherokee',\n",
       "       'citigo', 'civic', 'cl', 'clio', 'clk', 'clubman', 'colt', 'combo',\n",
       "       'cooper', 'cordoba', 'corolla', 'corsa', 'cr_reihe', 'croma',\n",
       "       'crossfire', 'cuore', 'cx_reihe', 'defender', 'delta', 'discovery',\n",
       "       'doblo', 'ducato', 'duster', 'e_klasse', 'elefantino', 'eos',\n",
       "       'escort', 'espace', 'exeo', 'fabia', 'fiesta', 'focus', 'forester',\n",
       "       'forfour', 'fortwo', 'fox', 'freelander', 'fusion', 'g_klasse',\n",
       "       'galant', 'galaxy', 'getz', 'gl', 'glk', 'golf', 'grand', 'i3',\n",
       "       'i_reihe', 'ibiza', 'impreza', 'insignia', 'jazz', 'jetta',\n",
       "       'jimny', 'juke', 'justy', 'ka', 'kadett', 'kaefer', 'kalina',\n",
       "       'kalos', 'kangoo', 'kappa', 'kuga', 'laguna', 'lancer', 'lanos',\n",
       "       'legacy', 'leon', 'lodgy', 'logan', 'lupo', 'lybra', 'm_klasse',\n",
       "       'm_reihe', 'materia', 'matiz', 'megane', 'meriva', 'micra', 'mii',\n",
       "       'modus', 'mondeo', 'move', 'musa', 'mustang', 'mx_reihe', 'navara',\n",
       "       'niva', 'note', 'nubira', 'octavia', 'omega', 'one', 'other',\n",
       "       'outlander', 'pajero', 'panda', 'passat', 'phaeton', 'picanto',\n",
       "       'polo', 'primera', 'ptcruiser', 'punto', 'q3', 'q5', 'q7',\n",
       "       'qashqai', 'r19', 'range_rover', 'range_rover_evoque',\n",
       "       'range_rover_sport', 'rangerover', 'rav', 'rio', 'roadster',\n",
       "       'roomster', 'rx_reihe', 's60', 's_klasse', 's_max', 's_type',\n",
       "       'samara', 'sandero', 'santa', 'scenic', 'scirocco', 'seicento',\n",
       "       'serie_1', 'serie_2', 'serie_3', 'sharan', 'signum', 'sirion',\n",
       "       'sl', 'slk', 'sorento', 'spark', 'spider', 'sportage', 'sprinter',\n",
       "       'stilo', 'superb', 'swift', 'terios', 'tigra', 'tiguan', 'toledo',\n",
       "       'touareg', 'touran', 'transit', 'transporter', 'tt', 'tucson',\n",
       "       'twingo', 'up', 'v40', 'v50', 'v60', 'v70', 'v_klasse', 'vectra',\n",
       "       'verso', 'viano', 'vito', 'vivaro', 'voyager', 'wrangler',\n",
       "       'x_reihe', 'x_trail', 'x_type', 'xc_reihe', 'yaris', 'yeti',\n",
       "       'ypsilon', 'z_reihe', 'zafira', nan], dtype=object)"
      ]
     },
     "execution_count": 31,
     "metadata": {},
     "output_type": "execute_result"
    }
   ],
   "source": [
    "df['Model'].sort_values().unique()"
   ]
  },
  {
   "cell_type": "markdown",
   "metadata": {},
   "source": [
    "Заполним пропуски значением ***undefined***"
   ]
  },
  {
   "cell_type": "code",
   "execution_count": 32,
   "metadata": {},
   "outputs": [],
   "source": [
    "df['Model'] = df['Model'].fillna('undefined')"
   ]
  },
  {
   "cell_type": "code",
   "execution_count": 33,
   "metadata": {},
   "outputs": [
    {
     "data": {
      "text/plain": [
       "golf                  26546\n",
       "other                 22683\n",
       "3er                   17996\n",
       "undefined             16953\n",
       "polo                  11892\n",
       "                      ...  \n",
       "kalina                    8\n",
       "rangerover                4\n",
       "serie_3                   3\n",
       "serie_1                   1\n",
       "range_rover_evoque        1\n",
       "Name: Model, Length: 251, dtype: int64"
      ]
     },
     "execution_count": 33,
     "metadata": {},
     "output_type": "execute_result"
    }
   ],
   "source": [
    "df['Model'].value_counts()"
   ]
  },
  {
   "cell_type": "markdown",
   "metadata": {},
   "source": [
    "**NotRepaired — была машина в ремонте или нет**"
   ]
  },
  {
   "cell_type": "code",
   "execution_count": 34,
   "metadata": {},
   "outputs": [
    {
     "data": {
      "text/plain": [
       "array(['no', 'yes', nan], dtype=object)"
      ]
     },
     "execution_count": 34,
     "metadata": {},
     "output_type": "execute_result"
    }
   ],
   "source": [
    "df['NotRepaired'].sort_values().unique()"
   ]
  },
  {
   "cell_type": "markdown",
   "metadata": {},
   "source": [
    "Заполним пропуски в категориях значением ***undefined***"
   ]
  },
  {
   "cell_type": "code",
   "execution_count": 35,
   "metadata": {},
   "outputs": [],
   "source": [
    "df['NotRepaired'] = df['NotRepaired'].fillna('undefined')"
   ]
  },
  {
   "cell_type": "code",
   "execution_count": 36,
   "metadata": {
    "scrolled": true
   },
   "outputs": [
    {
     "data": {
      "text/plain": [
       "no           227215\n",
       "undefined     63080\n",
       "yes           32728\n",
       "Name: NotRepaired, dtype: int64"
      ]
     },
     "execution_count": 36,
     "metadata": {},
     "output_type": "execute_result"
    }
   ],
   "source": [
    "df['NotRepaired'].value_counts()"
   ]
  },
  {
   "cell_type": "markdown",
   "metadata": {},
   "source": [
    "#### Мощность двигателя"
   ]
  },
  {
   "cell_type": "code",
   "execution_count": 37,
   "metadata": {},
   "outputs": [
    {
     "data": {
      "text/plain": [
       "count    323023.000000\n",
       "mean        110.646381\n",
       "std         192.519445\n",
       "min           0.000000\n",
       "25%          69.000000\n",
       "50%         105.000000\n",
       "75%         142.000000\n",
       "max       20000.000000\n",
       "Name: Power, dtype: float64"
      ]
     },
     "execution_count": 37,
     "metadata": {},
     "output_type": "execute_result"
    }
   ],
   "source": [
    "df['Power'].describe()"
   ]
  },
  {
   "cell_type": "code",
   "execution_count": 38,
   "metadata": {},
   "outputs": [
    {
     "data": {
      "text/plain": [
       "<AxesSubplot:>"
      ]
     },
     "execution_count": 38,
     "metadata": {},
     "output_type": "execute_result"
    },
    {
     "data": {
      "image/png": "[encoded data removed]",
      "text/plain": [
       "<Figure size 432x288 with 1 Axes>"
      ]
     },
     "metadata": {
      "needs_background": "light"
     },
     "output_type": "display_data"
    }
   ],
   "source": [
    "df['Power'].hist(bins=100)"
   ]
  },
  {
   "cell_type": "markdown",
   "metadata": {},
   "source": [
    "Мощность двигателя имеет много нулевых значений, а также огромный разброс до неадекватных значений > 700 л. с.\n",
    "Например, мощность двигателей audi до 544 л. с., а bmw 635 л. с. \n",
    "https://www.audi.ru/ru/web/ru/innovations/new-engine-power-designations.html\n",
    "https://mirbmw.ru/samye-moshhnye-dvigateli-bmw/"
   ]
  },
  {
   "cell_type": "code",
   "execution_count": 39,
   "metadata": {},
   "outputs": [
    {
     "data": {
      "text/plain": [
       "<AxesSubplot:>"
      ]
     },
     "execution_count": 39,
     "metadata": {},
     "output_type": "execute_result"
    },
    {
     "data": {
      "image/png": "[encoded data removed]",
      "text/plain": [
       "<Figure size 432x288 with 1 Axes>"
      ]
     },
     "metadata": {
      "needs_background": "light"
     },
     "output_type": "display_data"
    }
   ],
   "source": [
    "df[df['Power']<500]['Power'].hist(bins=100)"
   ]
  },
  {
   "cell_type": "markdown",
   "metadata": {},
   "source": [
    "Двигатель машины не может иметь нулевую мощность, не понятно по каким причинам эти данные не указаны. Возможно, характеристики не были под рукой, либо, возможно, в документации указаны в других единицах, или не указаны. Чтобы обеспечить адекватность количественного признака, заменим нулевое значение на неопределённое."
   ]
  },
  {
   "cell_type": "markdown",
   "metadata": {},
   "source": [
    "Количество записей авто с нулевой мощностью двигателя "
   ]
  },
  {
   "cell_type": "code",
   "execution_count": 40,
   "metadata": {
    "scrolled": true
   },
   "outputs": [
    {
     "data": {
      "text/plain": [
       "34999"
      ]
     },
     "execution_count": 40,
     "metadata": {},
     "output_type": "execute_result"
    }
   ],
   "source": [
    "len(df[df['Power']==0])"
   ]
  },
  {
   "cell_type": "markdown",
   "metadata": {},
   "source": [
    "Доля записей авто с нулевой мощностью двигателя"
   ]
  },
  {
   "cell_type": "code",
   "execution_count": 41,
   "metadata": {},
   "outputs": [
    {
     "data": {
      "text/plain": [
       "0.1083483219461153"
      ]
     },
     "execution_count": 41,
     "metadata": {},
     "output_type": "execute_result"
    }
   ],
   "source": [
    "len(df[df['Power']==0])/len(df)"
   ]
  },
  {
   "cell_type": "code",
   "execution_count": 42,
   "metadata": {},
   "outputs": [],
   "source": [
    "# df['Power'] = df['Power'].astype('Int64')"
   ]
  },
  {
   "cell_type": "markdown",
   "metadata": {},
   "source": [
    "Поставим пустое значение вместо \"0\""
   ]
  },
  {
   "cell_type": "code",
   "execution_count": 43,
   "metadata": {},
   "outputs": [],
   "source": [
    "df.loc[(df['Power']==0), 'Power'] = np.nan"
   ]
  },
  {
   "cell_type": "code",
   "execution_count": 44,
   "metadata": {},
   "outputs": [
    {
     "data": {
      "text/plain": [
       "0"
      ]
     },
     "execution_count": 44,
     "metadata": {},
     "output_type": "execute_result"
    }
   ],
   "source": [
    "len(df[df['Power']==0])"
   ]
  },
  {
   "cell_type": "code",
   "execution_count": 45,
   "metadata": {},
   "outputs": [
    {
     "data": {
      "text/html": [
       "<div>\n",
       "<style scoped>\n",
       "    .dataframe tbody tr th:only-of-type {\n",
       "        vertical-align: middle;\n",
       "    }\n",
       "\n",
       "    .dataframe tbody tr th {\n",
       "        vertical-align: top;\n",
       "    }\n",
       "\n",
       "    .dataframe thead th {\n",
       "        text-align: right;\n",
       "    }\n",
       "</style>\n",
       "<table border=\"1\" class=\"dataframe\">\n",
       "  <thead>\n",
       "    <tr style=\"text-align: right;\">\n",
       "      <th></th>\n",
       "      <th>Brand</th>\n",
       "      <th>Model</th>\n",
       "      <th>Power</th>\n",
       "    </tr>\n",
       "  </thead>\n",
       "  <tbody>\n",
       "    <tr>\n",
       "      <th>1816</th>\n",
       "      <td>toyota</td>\n",
       "      <td>corolla</td>\n",
       "      <td>1398.0</td>\n",
       "    </tr>\n",
       "    <tr>\n",
       "      <th>4060</th>\n",
       "      <td>mitsubishi</td>\n",
       "      <td>colt</td>\n",
       "      <td>953.0</td>\n",
       "    </tr>\n",
       "    <tr>\n",
       "      <th>5328</th>\n",
       "      <td>opel</td>\n",
       "      <td>astra</td>\n",
       "      <td>1001.0</td>\n",
       "    </tr>\n",
       "    <tr>\n",
       "      <th>6504</th>\n",
       "      <td>fiat</td>\n",
       "      <td>punto</td>\n",
       "      <td>771.0</td>\n",
       "    </tr>\n",
       "    <tr>\n",
       "      <th>6637</th>\n",
       "      <td>opel</td>\n",
       "      <td>corsa</td>\n",
       "      <td>603.0</td>\n",
       "    </tr>\n",
       "  </tbody>\n",
       "</table>\n",
       "</div>"
      ],
      "text/plain": [
       "           Brand    Model   Power\n",
       "1816      toyota  corolla  1398.0\n",
       "4060  mitsubishi     colt   953.0\n",
       "5328        opel    astra  1001.0\n",
       "6504        fiat    punto   771.0\n",
       "6637        opel    corsa   603.0"
      ]
     },
     "execution_count": 45,
     "metadata": {},
     "output_type": "execute_result"
    }
   ],
   "source": [
    "df[df['Power']>500][['Brand', 'Model', 'Power']].head()"
   ]
  },
  {
   "cell_type": "markdown",
   "metadata": {},
   "source": [
    "Выборочная проверка показала, что многие значения больше 500 не характерны для значений штатных двигателей по данным из открытых источников. Некоторые значения (более 1000) совпадают с объемом двигателя. "
   ]
  },
  {
   "cell_type": "markdown",
   "metadata": {},
   "source": [
    "Отбросим неадекватные большие и малые значения мощности. В качестве критерия, отбросим справа и слева хвосты распределения в 0.5%"
   ]
  },
  {
   "cell_type": "code",
   "execution_count": 46,
   "metadata": {},
   "outputs": [],
   "source": [
    "min_power = df['Power'].quantile(0.005) "
   ]
  },
  {
   "cell_type": "code",
   "execution_count": 47,
   "metadata": {},
   "outputs": [],
   "source": [
    "max_power = df['Power'].quantile(0.995) "
   ]
  },
  {
   "cell_type": "code",
   "execution_count": 48,
   "metadata": {},
   "outputs": [
    {
     "data": {
      "text/plain": [
       "(40.0, 340.0)"
      ]
     },
     "execution_count": 48,
     "metadata": {},
     "output_type": "execute_result"
    }
   ],
   "source": [
    "(min_power, max_power)"
   ]
  },
  {
   "cell_type": "code",
   "execution_count": 49,
   "metadata": {},
   "outputs": [],
   "source": [
    "df.loc[(df['Power']>max_power), 'Power'] = np.nan"
   ]
  },
  {
   "cell_type": "code",
   "execution_count": 50,
   "metadata": {},
   "outputs": [],
   "source": [
    "df.loc[(df['Power']<min_power), 'Power'] = np.nan"
   ]
  },
  {
   "cell_type": "code",
   "execution_count": 51,
   "metadata": {
    "scrolled": false
   },
   "outputs": [
    {
     "data": {
      "text/plain": [
       "<AxesSubplot:>"
      ]
     },
     "execution_count": 51,
     "metadata": {},
     "output_type": "execute_result"
    },
    {
     "data": {
      "image/png": "[encoded data removed]",
      "text/plain": [
       "<Figure size 432x288 with 1 Axes>"
      ]
     },
     "metadata": {
      "needs_background": "light"
     },
     "output_type": "display_data"
    }
   ],
   "source": [
    "df['Power'].hist(bins=100)"
   ]
  },
  {
   "cell_type": "markdown",
   "metadata": {},
   "source": [
    "**Пробег**"
   ]
  },
  {
   "cell_type": "code",
   "execution_count": 52,
   "metadata": {},
   "outputs": [
    {
     "data": {
      "text/plain": [
       "count    323023.000000\n",
       "mean     128445.745349\n",
       "std       37505.924140\n",
       "min        5000.000000\n",
       "25%      125000.000000\n",
       "50%      150000.000000\n",
       "75%      150000.000000\n",
       "max      150000.000000\n",
       "Name: Kilometer, dtype: float64"
      ]
     },
     "execution_count": 52,
     "metadata": {},
     "output_type": "execute_result"
    }
   ],
   "source": [
    "df['Kilometer'].describe()"
   ]
  },
  {
   "cell_type": "code",
   "execution_count": 53,
   "metadata": {},
   "outputs": [
    {
     "data": {
      "text/plain": [
       "<AxesSubplot:>"
      ]
     },
     "execution_count": 53,
     "metadata": {},
     "output_type": "execute_result"
    },
    {
     "data": {
      "image/png": "[encoded data removed]",
      "text/plain": [
       "<Figure size 432x288 with 1 Axes>"
      ]
     },
     "metadata": {
      "needs_background": "light"
     },
     "output_type": "display_data"
    }
   ],
   "source": [
    "df['Kilometer'].hist(bins=50)"
   ]
  },
  {
   "cell_type": "markdown",
   "metadata": {},
   "source": [
    "Пробег имеет ступенчатый характер значений. Аномальных значений не выявлено."
   ]
  },
  {
   "cell_type": "code",
   "execution_count": 54,
   "metadata": {},
   "outputs": [
    {
     "data": {
      "text/plain": [
       "count    323023.0\n",
       "mean          0.0\n",
       "std           0.0\n",
       "min           0.0\n",
       "25%           0.0\n",
       "50%           0.0\n",
       "75%           0.0\n",
       "max           0.0\n",
       "Name: NumberOfPictures, dtype: float64"
      ]
     },
     "execution_count": 54,
     "metadata": {},
     "output_type": "execute_result"
    }
   ],
   "source": [
    "df['NumberOfPictures'].describe()"
   ]
  },
  {
   "cell_type": "markdown",
   "metadata": {},
   "source": [
    "Абсолютно неинформативный столбец. Удалим"
   ]
  },
  {
   "cell_type": "code",
   "execution_count": 55,
   "metadata": {},
   "outputs": [],
   "source": [
    "df.drop(columns=['NumberOfPictures'], inplace=True)"
   ]
  },
  {
   "cell_type": "markdown",
   "metadata": {},
   "source": [
    "#### Время активности"
   ]
  },
  {
   "cell_type": "markdown",
   "metadata": {},
   "source": [
    "Вычислим время активности анкеты до изменения в системе"
   ]
  },
  {
   "cell_type": "code",
   "execution_count": 56,
   "metadata": {},
   "outputs": [],
   "source": [
    "df['ActivityDays'] = (df['LastSeen'] - df['DateCreated']).dt.days"
   ]
  },
  {
   "cell_type": "code",
   "execution_count": 57,
   "metadata": {},
   "outputs": [
    {
     "data": {
      "text/plain": [
       "<AxesSubplot:>"
      ]
     },
     "execution_count": 57,
     "metadata": {},
     "output_type": "execute_result"
    },
    {
     "data": {
      "image/png": "[encoded data removed]",
      "text/plain": [
       "<Figure size 432x288 with 1 Axes>"
      ]
     },
     "metadata": {
      "needs_background": "light"
     },
     "output_type": "display_data"
    }
   ],
   "source": [
    "df[df['ActivityDays'] <50]['ActivityDays'].hist(bins=50)"
   ]
  },
  {
   "cell_type": "code",
   "execution_count": 58,
   "metadata": {},
   "outputs": [
    {
     "data": {
      "text/plain": [
       "count    323023.000000\n",
       "mean          8.797401\n",
       "std           8.680096\n",
       "min           0.000000\n",
       "25%           2.000000\n",
       "50%           6.000000\n",
       "75%          14.000000\n",
       "max         759.000000\n",
       "Name: ActivityDays, dtype: float64"
      ]
     },
     "execution_count": 58,
     "metadata": {},
     "output_type": "execute_result"
    }
   ],
   "source": [
    "df['ActivityDays'].describe()"
   ]
  },
  {
   "cell_type": "markdown",
   "metadata": {},
   "source": [
    "#### Возраст автомобиля"
   ]
  },
  {
   "cell_type": "code",
   "execution_count": 59,
   "metadata": {},
   "outputs": [
    {
     "data": {
      "text/plain": [
       "count    323023.000000\n",
       "mean       2004.076923\n",
       "std          80.061915\n",
       "min        1000.000000\n",
       "25%        1999.000000\n",
       "50%        2003.000000\n",
       "75%        2008.000000\n",
       "max        9999.000000\n",
       "Name: RegistrationYear, dtype: float64"
      ]
     },
     "execution_count": 59,
     "metadata": {},
     "output_type": "execute_result"
    }
   ],
   "source": [
    "df['RegistrationYear'].describe()"
   ]
  },
  {
   "cell_type": "code",
   "execution_count": 60,
   "metadata": {},
   "outputs": [
    {
     "data": {
      "text/plain": [
       "<AxesSubplot:>"
      ]
     },
     "execution_count": 60,
     "metadata": {},
     "output_type": "execute_result"
    },
    {
     "data": {
      "image/png": "[encoded data removed]",
      "text/plain": [
       "<Figure size 432x288 with 1 Axes>"
      ]
     },
     "metadata": {
      "needs_background": "light"
     },
     "output_type": "display_data"
    }
   ],
   "source": [
    "df['RegistrationYear'].hist()"
   ]
  },
  {
   "cell_type": "markdown",
   "metadata": {},
   "source": [
    "Исключим будущие годы регистрации"
   ]
  },
  {
   "cell_type": "code",
   "execution_count": 61,
   "metadata": {},
   "outputs": [
    {
     "data": {
      "text/plain": [
       "array([2017, 2018, 2019, 2066, 2200, 2222, 2290, 2500, 2800, 2900, 3000,\n",
       "       3200, 3700, 3800, 4000, 4100, 4500, 4800, 5000, 5300, 5555, 5600,\n",
       "       5900, 5911, 6000, 6500, 7000, 7100, 7800, 8000, 8200, 8500, 8888,\n",
       "       9000, 9450, 9999], dtype=int64)"
      ]
     },
     "execution_count": 61,
     "metadata": {},
     "output_type": "execute_result"
    }
   ],
   "source": [
    "df[df['RegistrationYear']> df['DateCreated'].dt.year]['RegistrationYear'].sort_values().unique()"
   ]
  },
  {
   "cell_type": "code",
   "execution_count": 62,
   "metadata": {},
   "outputs": [
    {
     "data": {
      "text/plain": [
       "13193"
      ]
     },
     "execution_count": 62,
     "metadata": {},
     "output_type": "execute_result"
    }
   ],
   "source": [
    "len(df[(df['RegistrationYear'] > df['DateCreated'].dt.year)])"
   ]
  },
  {
   "cell_type": "code",
   "execution_count": 63,
   "metadata": {},
   "outputs": [],
   "source": [
    "# df['RegistrationYear'] = df['RegistrationYear'].astype('Int64')"
   ]
  },
  {
   "cell_type": "code",
   "execution_count": 64,
   "metadata": {},
   "outputs": [],
   "source": [
    "df.loc[(df['RegistrationYear'] > df['DateCreated'].dt.year), 'RegistrationYear'] = np.nan"
   ]
  },
  {
   "cell_type": "markdown",
   "metadata": {},
   "source": [
    "Исключим неадекватные годы регистрации в прошлом до границы 20 века."
   ]
  },
  {
   "cell_type": "code",
   "execution_count": 65,
   "metadata": {},
   "outputs": [
    {
     "data": {
      "text/plain": [
       "array([1000., 1001., 1039., 1111., 1234., 1255., 1300., 1400., 1500.,\n",
       "       1600., 1602., 1800.])"
      ]
     },
     "execution_count": 65,
     "metadata": {},
     "output_type": "execute_result"
    }
   ],
   "source": [
    "df[df['RegistrationYear']<1900]['RegistrationYear'].sort_values().unique()"
   ]
  },
  {
   "cell_type": "code",
   "execution_count": 66,
   "metadata": {},
   "outputs": [],
   "source": [
    "df.loc[(df['RegistrationYear'] < 1900), 'RegistrationYear'] = np.nan"
   ]
  },
  {
   "cell_type": "code",
   "execution_count": 67,
   "metadata": {},
   "outputs": [
    {
     "data": {
      "text/plain": [
       "<AxesSubplot:>"
      ]
     },
     "execution_count": 67,
     "metadata": {},
     "output_type": "execute_result"
    },
    {
     "data": {
      "image/png": "[encoded data removed]",
      "text/plain": [
       "<Figure size 432x288 with 1 Axes>"
      ]
     },
     "metadata": {
      "needs_background": "light"
     },
     "output_type": "display_data"
    }
   ],
   "source": [
    "df['RegistrationYear'].hist(bins=100)"
   ]
  },
  {
   "cell_type": "code",
   "execution_count": 68,
   "metadata": {},
   "outputs": [
    {
     "data": {
      "text/plain": [
       "Index(['DateCrawled', 'Price', 'VehicleType', 'RegistrationYear', 'Gearbox',\n",
       "       'Power', 'Model', 'Kilometer', 'RegistrationMonth', 'FuelType', 'Brand',\n",
       "       'NotRepaired', 'DateCreated', 'PostalCode', 'LastSeen', 'ActivityDays'],\n",
       "      dtype='object')"
      ]
     },
     "execution_count": 68,
     "metadata": {},
     "output_type": "execute_result"
    }
   ],
   "source": [
    "df.columns"
   ]
  },
  {
   "cell_type": "code",
   "execution_count": 69,
   "metadata": {},
   "outputs": [
    {
     "data": {
      "text/plain": [
       "array([ 0,  1,  2,  3,  4,  5,  6,  7,  8,  9, 10, 11, 12], dtype=int64)"
      ]
     },
     "execution_count": 69,
     "metadata": {},
     "output_type": "execute_result"
    }
   ],
   "source": [
    "df['RegistrationMonth'].sort_values().unique()"
   ]
  },
  {
   "cell_type": "code",
   "execution_count": 70,
   "metadata": {},
   "outputs": [
    {
     "data": {
      "image/png": "[encoded data removed]",
      "text/plain": [
       "<Figure size 864x432 with 1 Axes>"
      ]
     },
     "metadata": {
      "needs_background": "light"
     },
     "output_type": "display_data"
    }
   ],
   "source": [
    "ax = pd.pivot_table(df, values=['Price'], index=['RegistrationMonth'], aggfunc=['mean']).plot(figsize=(12,6), grid=True, \n",
    "   title='Средняя цена в зависимости от месяца регистрации автомобиля')\n",
    "ax.set_xlabel(\"Месяц\")\n",
    "ax.set_ylabel(\"Средняя стоимость\")\n",
    "plt.show()"
   ]
  },
  {
   "cell_type": "code",
   "execution_count": 71,
   "metadata": {},
   "outputs": [
    {
     "data": {
      "image/png": "[encoded data removed]",
      "text/plain": [
       "<Figure size 864x432 with 1 Axes>"
      ]
     },
     "metadata": {
      "needs_background": "light"
     },
     "output_type": "display_data"
    }
   ],
   "source": [
    "ax = pd.pivot_table(df, values=['Price'], index=['RegistrationMonth'], aggfunc=['count']).plot(figsize=(12,6), grid=True, \n",
    "   title='Среднее количество анкет в зависимости от месяца регистрации автомобиля')\n",
    "ax.set_xlabel(\"Месяц\")\n",
    "ax.set_ylabel(\"Количество анкет\")\n",
    "plt.show()"
   ]
  },
  {
   "cell_type": "markdown",
   "metadata": {},
   "source": [
    "Средняя цена мало меняется в зависимости от месяца, лишь изменяется количество анкет. Удалим этот столбец и сократим время обучения."
   ]
  },
  {
   "cell_type": "code",
   "execution_count": 72,
   "metadata": {},
   "outputs": [],
   "source": [
    "df.drop(columns=['RegistrationMonth'], inplace=True)"
   ]
  },
  {
   "cell_type": "markdown",
   "metadata": {},
   "source": [
    "### Удаление столбцов"
   ]
  },
  {
   "cell_type": "markdown",
   "metadata": {},
   "source": [
    "Удалим столбец с почтовым кодом. Он никак не характеризует автомобиль и анкету."
   ]
  },
  {
   "cell_type": "code",
   "execution_count": 73,
   "metadata": {},
   "outputs": [],
   "source": [
    "df.drop(columns=['PostalCode'], inplace=True)"
   ]
  },
  {
   "cell_type": "code",
   "execution_count": 74,
   "metadata": {},
   "outputs": [
    {
     "data": {
      "text/plain": [
       "Index(['DateCrawled', 'Price', 'VehicleType', 'RegistrationYear', 'Gearbox',\n",
       "       'Power', 'Model', 'Kilometer', 'FuelType', 'Brand', 'NotRepaired',\n",
       "       'DateCreated', 'LastSeen', 'ActivityDays'],\n",
       "      dtype='object')"
      ]
     },
     "execution_count": 74,
     "metadata": {},
     "output_type": "execute_result"
    }
   ],
   "source": [
    "df.columns"
   ]
  },
  {
   "cell_type": "markdown",
   "metadata": {},
   "source": [
    "Удалим даты анкет. Возможно полезный признак **время размещения анкеты** мы уже вынесли отдельно."
   ]
  },
  {
   "cell_type": "code",
   "execution_count": 75,
   "metadata": {},
   "outputs": [],
   "source": [
    "df.drop(columns=['DateCrawled'], inplace=True)"
   ]
  },
  {
   "cell_type": "code",
   "execution_count": 76,
   "metadata": {},
   "outputs": [],
   "source": [
    "df.drop(columns=['DateCreated'], inplace=True)"
   ]
  },
  {
   "cell_type": "code",
   "execution_count": 77,
   "metadata": {},
   "outputs": [],
   "source": [
    "df.drop(columns=['LastSeen'], inplace=True)"
   ]
  },
  {
   "cell_type": "markdown",
   "metadata": {},
   "source": [
    "Посмотрим, какие признаки у нас остались"
   ]
  },
  {
   "cell_type": "code",
   "execution_count": 78,
   "metadata": {},
   "outputs": [
    {
     "data": {
      "text/html": [
       "<div>\n",
       "<style scoped>\n",
       "    .dataframe tbody tr th:only-of-type {\n",
       "        vertical-align: middle;\n",
       "    }\n",
       "\n",
       "    .dataframe tbody tr th {\n",
       "        vertical-align: top;\n",
       "    }\n",
       "\n",
       "    .dataframe thead th {\n",
       "        text-align: right;\n",
       "    }\n",
       "</style>\n",
       "<table border=\"1\" class=\"dataframe\">\n",
       "  <thead>\n",
       "    <tr style=\"text-align: right;\">\n",
       "      <th></th>\n",
       "      <th>Price</th>\n",
       "      <th>VehicleType</th>\n",
       "      <th>RegistrationYear</th>\n",
       "      <th>Gearbox</th>\n",
       "      <th>Power</th>\n",
       "      <th>Model</th>\n",
       "      <th>Kilometer</th>\n",
       "      <th>FuelType</th>\n",
       "      <th>Brand</th>\n",
       "      <th>NotRepaired</th>\n",
       "      <th>ActivityDays</th>\n",
       "    </tr>\n",
       "  </thead>\n",
       "  <tbody>\n",
       "    <tr>\n",
       "      <th>0</th>\n",
       "      <td>480</td>\n",
       "      <td>undefined</td>\n",
       "      <td>1993.0</td>\n",
       "      <td>manual</td>\n",
       "      <td>NaN</td>\n",
       "      <td>golf</td>\n",
       "      <td>150000</td>\n",
       "      <td>petrol</td>\n",
       "      <td>volkswagen</td>\n",
       "      <td>undefined</td>\n",
       "      <td>14</td>\n",
       "    </tr>\n",
       "    <tr>\n",
       "      <th>1</th>\n",
       "      <td>18300</td>\n",
       "      <td>coupe</td>\n",
       "      <td>2011.0</td>\n",
       "      <td>manual</td>\n",
       "      <td>190.0</td>\n",
       "      <td>undefined</td>\n",
       "      <td>125000</td>\n",
       "      <td>gasoline</td>\n",
       "      <td>audi</td>\n",
       "      <td>yes</td>\n",
       "      <td>14</td>\n",
       "    </tr>\n",
       "    <tr>\n",
       "      <th>2</th>\n",
       "      <td>9800</td>\n",
       "      <td>suv</td>\n",
       "      <td>2004.0</td>\n",
       "      <td>auto</td>\n",
       "      <td>163.0</td>\n",
       "      <td>grand</td>\n",
       "      <td>125000</td>\n",
       "      <td>gasoline</td>\n",
       "      <td>jeep</td>\n",
       "      <td>undefined</td>\n",
       "      <td>22</td>\n",
       "    </tr>\n",
       "    <tr>\n",
       "      <th>3</th>\n",
       "      <td>1500</td>\n",
       "      <td>small</td>\n",
       "      <td>2001.0</td>\n",
       "      <td>manual</td>\n",
       "      <td>75.0</td>\n",
       "      <td>golf</td>\n",
       "      <td>150000</td>\n",
       "      <td>petrol</td>\n",
       "      <td>volkswagen</td>\n",
       "      <td>no</td>\n",
       "      <td>0</td>\n",
       "    </tr>\n",
       "    <tr>\n",
       "      <th>4</th>\n",
       "      <td>3600</td>\n",
       "      <td>small</td>\n",
       "      <td>2008.0</td>\n",
       "      <td>manual</td>\n",
       "      <td>69.0</td>\n",
       "      <td>fabia</td>\n",
       "      <td>90000</td>\n",
       "      <td>gasoline</td>\n",
       "      <td>skoda</td>\n",
       "      <td>no</td>\n",
       "      <td>6</td>\n",
       "    </tr>\n",
       "  </tbody>\n",
       "</table>\n",
       "</div>"
      ],
      "text/plain": [
       "   Price VehicleType  RegistrationYear Gearbox  Power      Model  Kilometer  \\\n",
       "0    480   undefined            1993.0  manual    NaN       golf     150000   \n",
       "1  18300       coupe            2011.0  manual  190.0  undefined     125000   \n",
       "2   9800         suv            2004.0    auto  163.0      grand     125000   \n",
       "3   1500       small            2001.0  manual   75.0       golf     150000   \n",
       "4   3600       small            2008.0  manual   69.0      fabia      90000   \n",
       "\n",
       "   FuelType       Brand NotRepaired  ActivityDays  \n",
       "0    petrol  volkswagen   undefined            14  \n",
       "1  gasoline        audi         yes            14  \n",
       "2  gasoline        jeep   undefined            22  \n",
       "3    petrol  volkswagen          no             0  \n",
       "4  gasoline       skoda          no             6  "
      ]
     },
     "execution_count": 78,
     "metadata": {},
     "output_type": "execute_result"
    }
   ],
   "source": [
    "df.head()"
   ]
  },
  {
   "cell_type": "code",
   "execution_count": 79,
   "metadata": {},
   "outputs": [
    {
     "name": "stdout",
     "output_type": "stream",
     "text": [
      "<class 'pandas.core.frame.DataFrame'>\n",
      "Int64Index: 323023 entries, 0 to 354368\n",
      "Data columns (total 11 columns):\n",
      " #   Column            Non-Null Count   Dtype  \n",
      "---  ------            --------------   -----  \n",
      " 0   Price             323023 non-null  int64  \n",
      " 1   VehicleType       323023 non-null  object \n",
      " 2   RegistrationYear  309779 non-null  float64\n",
      " 3   Gearbox           323023 non-null  object \n",
      " 4   Power             285297 non-null  float64\n",
      " 5   Model             323023 non-null  object \n",
      " 6   Kilometer         323023 non-null  int64  \n",
      " 7   FuelType          323023 non-null  object \n",
      " 8   Brand             323023 non-null  object \n",
      " 9   NotRepaired       323023 non-null  object \n",
      " 10  ActivityDays      323023 non-null  int64  \n",
      "dtypes: float64(2), int64(3), object(6)\n",
      "memory usage: 29.6+ MB\n"
     ]
    }
   ],
   "source": [
    "df.info()"
   ]
  },
  {
   "cell_type": "markdown",
   "metadata": {},
   "source": [
    "### Пропущенные значения"
   ]
  },
  {
   "cell_type": "markdown",
   "metadata": {},
   "source": [
    "Для работы с простыми моделями нам придётся избавиться от пропусков. "
   ]
  },
  {
   "cell_type": "code",
   "execution_count": 80,
   "metadata": {},
   "outputs": [
    {
     "data": {
      "text/plain": [
       "47485"
      ]
     },
     "execution_count": 80,
     "metadata": {},
     "output_type": "execute_result"
    }
   ],
   "source": [
    "len(df[(df['Power'].isnull()==True) | (df['RegistrationYear'].isnull()==True)])"
   ]
  },
  {
   "cell_type": "markdown",
   "metadata": {},
   "source": [
    "Так как Power и RegistrationYear наиболее значимые признаки для предсказания цены, придётся пойти на серьёзную жертву в данных. Мы не можем поставить в них средние или медианные значения, так как это исказит данные, а в задаче важна точность."
   ]
  },
  {
   "cell_type": "code",
   "execution_count": 81,
   "metadata": {},
   "outputs": [
    {
     "data": {
      "text/plain": [
       "323023"
      ]
     },
     "execution_count": 81,
     "metadata": {},
     "output_type": "execute_result"
    }
   ],
   "source": [
    "len(df)"
   ]
  },
  {
   "cell_type": "code",
   "execution_count": 82,
   "metadata": {},
   "outputs": [],
   "source": [
    "df = df.dropna()"
   ]
  },
  {
   "cell_type": "code",
   "execution_count": 83,
   "metadata": {},
   "outputs": [
    {
     "data": {
      "text/plain": [
       "275538"
      ]
     },
     "execution_count": 83,
     "metadata": {},
     "output_type": "execute_result"
    }
   ],
   "source": [
    "len(df)"
   ]
  },
  {
   "cell_type": "markdown",
   "metadata": {},
   "source": [
    "### Разделение данных"
   ]
  },
  {
   "cell_type": "markdown",
   "metadata": {},
   "source": [
    "Столбец целевого признака"
   ]
  },
  {
   "cell_type": "code",
   "execution_count": 84,
   "metadata": {},
   "outputs": [],
   "source": [
    "target_list = ['Price']"
   ]
  },
  {
   "cell_type": "markdown",
   "metadata": {},
   "source": [
    "Столбцы признаков"
   ]
  },
  {
   "cell_type": "code",
   "execution_count": 85,
   "metadata": {},
   "outputs": [],
   "source": [
    "features_list = ['VehicleType', 'RegistrationYear', 'Gearbox', 'Power', 'Model', \n",
    "                 'Kilometer', 'FuelType', 'Brand', 'NotRepaired', 'ActivityDays']"
   ]
  },
  {
   "cell_type": "markdown",
   "metadata": {},
   "source": [
    "Категориальные признаки"
   ]
  },
  {
   "cell_type": "code",
   "execution_count": 86,
   "metadata": {},
   "outputs": [],
   "source": [
    "cat_features = ['VehicleType', 'Gearbox', 'Model', 'FuelType', 'Brand', 'NotRepaired']"
   ]
  },
  {
   "cell_type": "markdown",
   "metadata": {},
   "source": [
    "Числовые признаки"
   ]
  },
  {
   "cell_type": "code",
   "execution_count": 87,
   "metadata": {},
   "outputs": [],
   "source": [
    "num_features = ['RegistrationYear', 'Power', 'Kilometer', 'ActivityDays']"
   ]
  },
  {
   "cell_type": "markdown",
   "metadata": {},
   "source": [
    "Разделим данные на обучающую, валидационную и тестовую выборки"
   ]
  },
  {
   "cell_type": "code",
   "execution_count": 88,
   "metadata": {},
   "outputs": [],
   "source": [
    "features_train, features_valid, target_train, target_valid = train_test_split(df[features_list], df[target_list], test_size=0.4, random_state=42)"
   ]
  },
  {
   "cell_type": "code",
   "execution_count": 89,
   "metadata": {},
   "outputs": [],
   "source": [
    "features_valid, features_test, target_valid, target_test = train_test_split(features_valid, target_valid, test_size=0.5, random_state=42)"
   ]
  },
  {
   "cell_type": "code",
   "execution_count": 90,
   "metadata": {},
   "outputs": [
    {
     "data": {
      "text/plain": [
       "275538"
      ]
     },
     "execution_count": 90,
     "metadata": {},
     "output_type": "execute_result"
    }
   ],
   "source": [
    "len(df)"
   ]
  },
  {
   "cell_type": "code",
   "execution_count": 91,
   "metadata": {},
   "outputs": [
    {
     "data": {
      "text/plain": [
       "275538"
      ]
     },
     "execution_count": 91,
     "metadata": {},
     "output_type": "execute_result"
    }
   ],
   "source": [
    "len(features_train) + len(features_valid) + len(features_test)"
   ]
  },
  {
   "cell_type": "markdown",
   "metadata": {},
   "source": [
    "### Вывод"
   ]
  },
  {
   "cell_type": "markdown",
   "metadata": {},
   "source": [
    "- Данные содержали неполные дубликаты (без учёта значений дат), которые были удалены.\n",
    "- Удалены строки в даннных с нулевым целевым признаком.\n",
    "- В количественных признаках выбросы и неадекватные значения заменены на неопределённые.\n",
    "- В категориальных признаках пустые значения заменены на undefined.\n",
    "- На основе дат расчитан дополнительный количественный признак.\n",
    "- Удалены некоторые столбцы как бесполезные для обучения модели.\n",
    "- Подготовлены выборки для обучения моделей."
   ]
  },
  {
   "cell_type": "markdown",
   "metadata": {},
   "source": [
    "## Обучение моделей"
   ]
  },
  {
   "cell_type": "markdown",
   "metadata": {},
   "source": [
    "Объявим список для сбора данных об обучаемых моделях"
   ]
  },
  {
   "cell_type": "code",
   "execution_count": 92,
   "metadata": {},
   "outputs": [],
   "source": [
    "models_log = []"
   ]
  },
  {
   "cell_type": "code",
   "execution_count": 93,
   "metadata": {},
   "outputs": [],
   "source": [
    "def draw_best_features(features_names, feature_importance, feature_importance_limit=0):\n",
    "    df_features = pd.DataFrame(data = {'feature_name': features_names, 'importance': feature_importance})\n",
    "    df_features = df_features.sort_values(by='importance', ascending=False)\n",
    "    if feature_importance_limit > 0:\n",
    "        df_features = df_features[df_features['importance'] > feature_importance_limit]\n",
    "\n",
    "    fig, ax = plt.subplots(figsize=(12,6))\n",
    "    df_features.set_index('feature_name', inplace=True)\n",
    "    df_features.plot.bar(ax=ax)\n",
    "    ax.grid()\n",
    "    fig.tight_layout()    "
   ]
  },
  {
   "cell_type": "markdown",
   "metadata": {},
   "source": [
    "Закодируем категории в числовые значения. У нас очень много категорий, чтобы избежать получения большого количества столбцов с используем OrdinalEncoder, и это позволит работать одновременно с разными моделями."
   ]
  },
  {
   "cell_type": "code",
   "execution_count": 94,
   "metadata": {},
   "outputs": [],
   "source": [
    "encoder = OrdinalEncoder(dtype=np.int64)"
   ]
  },
  {
   "cell_type": "code",
   "execution_count": 95,
   "metadata": {},
   "outputs": [
    {
     "data": {
      "text/plain": [
       "OrdinalEncoder(dtype=<class 'numpy.int64'>)"
      ]
     },
     "execution_count": 95,
     "metadata": {},
     "output_type": "execute_result"
    }
   ],
   "source": [
    "encoder.fit(df[cat_features])"
   ]
  },
  {
   "cell_type": "code",
   "execution_count": 96,
   "metadata": {},
   "outputs": [],
   "source": [
    "features_train[cat_features] = encoder.transform(features_train[cat_features])\n",
    "features_valid[cat_features] = encoder.transform(features_valid[cat_features])\n",
    "features_test[cat_features] = encoder.transform(features_test[cat_features])"
   ]
  },
  {
   "cell_type": "code",
   "execution_count": 97,
   "metadata": {},
   "outputs": [],
   "source": [
    "for feature in cat_features:\n",
    "    features_train[feature] = pd.Series(features_train[feature], dtype=\"category\")\n",
    "    features_valid[feature] = pd.Series(features_valid[feature], dtype=\"category\")\n",
    "    features_test[feature] = pd.Series(features_test[feature], dtype=\"category\")"
   ]
  },
  {
   "cell_type": "code",
   "execution_count": 98,
   "metadata": {
    "scrolled": true
   },
   "outputs": [
    {
     "data": {
      "text/html": [
       "<div>\n",
       "<style scoped>\n",
       "    .dataframe tbody tr th:only-of-type {\n",
       "        vertical-align: middle;\n",
       "    }\n",
       "\n",
       "    .dataframe tbody tr th {\n",
       "        vertical-align: top;\n",
       "    }\n",
       "\n",
       "    .dataframe thead th {\n",
       "        text-align: right;\n",
       "    }\n",
       "</style>\n",
       "<table border=\"1\" class=\"dataframe\">\n",
       "  <thead>\n",
       "    <tr style=\"text-align: right;\">\n",
       "      <th></th>\n",
       "      <th>VehicleType</th>\n",
       "      <th>Gearbox</th>\n",
       "      <th>Model</th>\n",
       "      <th>FuelType</th>\n",
       "      <th>Brand</th>\n",
       "      <th>NotRepaired</th>\n",
       "    </tr>\n",
       "  </thead>\n",
       "  <tbody>\n",
       "    <tr>\n",
       "      <th>299763</th>\n",
       "      <td>4</td>\n",
       "      <td>0</td>\n",
       "      <td>116</td>\n",
       "      <td>6</td>\n",
       "      <td>38</td>\n",
       "      <td>0</td>\n",
       "    </tr>\n",
       "    <tr>\n",
       "      <th>217297</th>\n",
       "      <td>5</td>\n",
       "      <td>1</td>\n",
       "      <td>83</td>\n",
       "      <td>6</td>\n",
       "      <td>24</td>\n",
       "      <td>0</td>\n",
       "    </tr>\n",
       "    <tr>\n",
       "      <th>328414</th>\n",
       "      <td>5</td>\n",
       "      <td>1</td>\n",
       "      <td>136</td>\n",
       "      <td>6</td>\n",
       "      <td>27</td>\n",
       "      <td>0</td>\n",
       "    </tr>\n",
       "    <tr>\n",
       "      <th>29949</th>\n",
       "      <td>5</td>\n",
       "      <td>1</td>\n",
       "      <td>73</td>\n",
       "      <td>7</td>\n",
       "      <td>11</td>\n",
       "      <td>1</td>\n",
       "    </tr>\n",
       "    <tr>\n",
       "      <th>105970</th>\n",
       "      <td>8</td>\n",
       "      <td>0</td>\n",
       "      <td>11</td>\n",
       "      <td>6</td>\n",
       "      <td>2</td>\n",
       "      <td>0</td>\n",
       "    </tr>\n",
       "    <tr>\n",
       "      <th>...</th>\n",
       "      <td>...</td>\n",
       "      <td>...</td>\n",
       "      <td>...</td>\n",
       "      <td>...</td>\n",
       "      <td>...</td>\n",
       "      <td>...</td>\n",
       "    </tr>\n",
       "    <tr>\n",
       "      <th>159411</th>\n",
       "      <td>1</td>\n",
       "      <td>1</td>\n",
       "      <td>149</td>\n",
       "      <td>6</td>\n",
       "      <td>27</td>\n",
       "      <td>0</td>\n",
       "    </tr>\n",
       "    <tr>\n",
       "      <th>334497</th>\n",
       "      <td>6</td>\n",
       "      <td>1</td>\n",
       "      <td>218</td>\n",
       "      <td>2</td>\n",
       "      <td>38</td>\n",
       "      <td>0</td>\n",
       "    </tr>\n",
       "    <tr>\n",
       "      <th>175054</th>\n",
       "      <td>5</td>\n",
       "      <td>1</td>\n",
       "      <td>8</td>\n",
       "      <td>6</td>\n",
       "      <td>25</td>\n",
       "      <td>0</td>\n",
       "    </tr>\n",
       "    <tr>\n",
       "      <th>194252</th>\n",
       "      <td>1</td>\n",
       "      <td>1</td>\n",
       "      <td>149</td>\n",
       "      <td>6</td>\n",
       "      <td>27</td>\n",
       "      <td>2</td>\n",
       "    </tr>\n",
       "    <tr>\n",
       "      <th>162109</th>\n",
       "      <td>7</td>\n",
       "      <td>1</td>\n",
       "      <td>234</td>\n",
       "      <td>7</td>\n",
       "      <td>24</td>\n",
       "      <td>0</td>\n",
       "    </tr>\n",
       "  </tbody>\n",
       "</table>\n",
       "<p>165322 rows × 6 columns</p>\n",
       "</div>"
      ],
      "text/plain": [
       "       VehicleType Gearbox Model FuelType Brand NotRepaired\n",
       "299763           4       0   116        6    38           0\n",
       "217297           5       1    83        6    24           0\n",
       "328414           5       1   136        6    27           0\n",
       "29949            5       1    73        7    11           1\n",
       "105970           8       0    11        6     2           0\n",
       "...            ...     ...   ...      ...   ...         ...\n",
       "159411           1       1   149        6    27           0\n",
       "334497           6       1   218        2    38           0\n",
       "175054           5       1     8        6    25           0\n",
       "194252           1       1   149        6    27           2\n",
       "162109           7       1   234        7    24           0\n",
       "\n",
       "[165322 rows x 6 columns]"
      ]
     },
     "execution_count": 98,
     "metadata": {},
     "output_type": "execute_result"
    }
   ],
   "source": [
    "features_train[cat_features]"
   ]
  },
  {
   "cell_type": "markdown",
   "metadata": {},
   "source": [
    "### Масштабирование признаков"
   ]
  },
  {
   "cell_type": "code",
   "execution_count": 99,
   "metadata": {},
   "outputs": [
    {
     "data": {
      "text/plain": [
       "StandardScaler()"
      ]
     },
     "execution_count": 99,
     "metadata": {},
     "output_type": "execute_result"
    }
   ],
   "source": [
    "scaler = StandardScaler()\n",
    "scaler.fit(features_train[num_features])"
   ]
  },
  {
   "cell_type": "code",
   "execution_count": 100,
   "metadata": {},
   "outputs": [],
   "source": [
    "features_train[num_features] = scaler.transform(features_train[num_features])\n",
    "features_valid[num_features] = scaler.transform(features_valid[num_features])\n",
    "features_test[num_features] = scaler.transform(features_test[num_features])"
   ]
  },
  {
   "cell_type": "markdown",
   "metadata": {},
   "source": [
    "### LightGBM"
   ]
  },
  {
   "cell_type": "code",
   "execution_count": 101,
   "metadata": {},
   "outputs": [],
   "source": [
    "lgb_train = lgb.Dataset(features_train, target_train, categorical_feature=cat_features, free_raw_data=False)\n",
    "lgb_valid = lgb.Dataset(features_valid, target_valid, categorical_feature=cat_features, free_raw_data=False)"
   ]
  },
  {
   "cell_type": "code",
   "execution_count": 102,
   "metadata": {},
   "outputs": [],
   "source": [
    "hyper_params = {\n",
    "    'task': 'train',\n",
    "    'boosting_type': 'gbdt',\n",
    "    'objective': 'regression',\n",
    "    'metric': 'rmse',\n",
    "    'learning_rate': 0.5,\n",
    "    'early_stopping_rounds': 50,\n",
    "    'num_boost_round': 1000,\n",
    "    'seed': 42\n",
    "}"
   ]
  },
  {
   "cell_type": "code",
   "execution_count": 103,
   "metadata": {},
   "outputs": [
    {
     "name": "stdout",
     "output_type": "stream",
     "text": [
      "[LightGBM] [Warning] Auto-choosing col-wise multi-threading, the overhead of testing was 0.012639 seconds.\n",
      "You can set `force_col_wise=true` to remove the overhead.\n",
      "[LightGBM] [Info] Total Bins 664\n",
      "[LightGBM] [Info] Number of data points in the train set: 165322, number of used features: 10\n",
      "[LightGBM] [Info] Start training from score 4777.157662\n",
      "Training until validation scores don't improve for 50 rounds\n",
      "[25]\ttraining's rmse: 1541.52\tvalid_1's rmse: 1633.2\n",
      "[50]\ttraining's rmse: 1473.21\tvalid_1's rmse: 1611.03\n",
      "[75]\ttraining's rmse: 1428.22\tvalid_1's rmse: 1596.52\n",
      "[100]\ttraining's rmse: 1394.46\tvalid_1's rmse: 1587\n",
      "[125]\ttraining's rmse: 1358.49\tvalid_1's rmse: 1578.43\n",
      "[150]\ttraining's rmse: 1335.72\tvalid_1's rmse: 1576.82\n",
      "[175]\ttraining's rmse: 1317.95\tvalid_1's rmse: 1576.65\n",
      "[200]\ttraining's rmse: 1304.08\tvalid_1's rmse: 1576.82\n",
      "Early stopping, best iteration is:\n",
      "[160]\ttraining's rmse: 1327.8\tvalid_1's rmse: 1574.26\n",
      "Wall time: 1.74 s\n"
     ]
    }
   ],
   "source": [
    "start_time = datetime.now()\n",
    "\n",
    "lgb_model = lgb.train(\n",
    "    hyper_params, \n",
    "    train_set=lgb_train, \n",
    "    valid_sets=(lgb_train, lgb_valid),      \n",
    "    verbose_eval=25)\n",
    "\n",
    "lgb_model_learn_time = datetime.now() - start_time"
   ]
  },
  {
   "cell_type": "markdown",
   "metadata": {},
   "source": [
    "Лучшая характеристика RMSE для модели"
   ]
  },
  {
   "cell_type": "code",
   "execution_count": 104,
   "metadata": {},
   "outputs": [
    {
     "data": {
      "text/plain": [
       "1574.2618195338744"
      ]
     },
     "execution_count": 104,
     "metadata": {},
     "output_type": "execute_result"
    }
   ],
   "source": [
    "lgb_model_valid_score = lgb_model.best_score['valid_1']['rmse']\n",
    "lgb_model_valid_score"
   ]
  },
  {
   "cell_type": "code",
   "execution_count": 105,
   "metadata": {},
   "outputs": [],
   "source": [
    "start_time = datetime.now()\n",
    "lgb_model_test_score = mean_squared_error(target_test, lgb_model.predict(features_test)) ** 0.5\n",
    "lgb_model_predict_time = datetime.now() - start_time"
   ]
  },
  {
   "cell_type": "code",
   "execution_count": 106,
   "metadata": {},
   "outputs": [
    {
     "data": {
      "text/plain": [
       "(1574.2618195338744, 1570.326864422358, 1, 0)"
      ]
     },
     "execution_count": 106,
     "metadata": {},
     "output_type": "execute_result"
    }
   ],
   "source": [
    "lgb_model_valid_score, lgb_model_test_score, lgb_model_learn_time.seconds, lgb_model_predict_time.seconds"
   ]
  },
  {
   "cell_type": "markdown",
   "metadata": {},
   "source": [
    "Занесём данные в сводную таблицу по моделям"
   ]
  },
  {
   "cell_type": "code",
   "execution_count": 107,
   "metadata": {},
   "outputs": [],
   "source": [
    "models_log.append([\n",
    "    'LightGBM', \n",
    "    lgb_model_valid_score, \n",
    "    lgb_model_test_score, \n",
    "    lgb_model_learn_time.seconds, \n",
    "    lgb_model_predict_time.seconds,\n",
    "    hyper_params\n",
    "])\n"
   ]
  },
  {
   "cell_type": "markdown",
   "metadata": {},
   "source": [
    "Посмотрим, какие признаки внесли больший вес в предсказание."
   ]
  },
  {
   "cell_type": "code",
   "execution_count": 108,
   "metadata": {},
   "outputs": [
    {
     "data": {
      "image/png": "[encoded data removed]",
      "text/plain": [
       "<Figure size 864x432 with 1 Axes>"
      ]
     },
     "metadata": {
      "needs_background": "light"
     },
     "output_type": "display_data"
    }
   ],
   "source": [
    "draw_best_features(features_list, lgb_model.feature_importance())"
   ]
  },
  {
   "cell_type": "markdown",
   "metadata": {},
   "source": [
    "### Catboost"
   ]
  },
  {
   "cell_type": "code",
   "execution_count": 109,
   "metadata": {},
   "outputs": [],
   "source": [
    "hyper_params = {\n",
    "    'loss_function': 'RMSE',\n",
    "    'learning_rate': 0.5,\n",
    "    'num_boost_round': 1000,\n",
    "    'leaf_estimation_iterations': 3,\n",
    "    'depth': 5,\n",
    "    'early_stopping_rounds': 50,\n",
    "    'random_state': 42\n",
    "}\n"
   ]
  },
  {
   "cell_type": "code",
   "execution_count": 110,
   "metadata": {},
   "outputs": [],
   "source": [
    "cb_model = CatBoostRegressor(**hyper_params, thread_count=-1)"
   ]
  },
  {
   "cell_type": "code",
   "execution_count": 111,
   "metadata": {},
   "outputs": [
    {
     "name": "stdout",
     "output_type": "stream",
     "text": [
      "0:\tlearn: 3304.5595513\ttest: 3326.7048361\tbest: 3326.7048361 (0)\ttotal: 314ms\tremaining: 5m 13s\n",
      "50:\tlearn: 1642.4533311\ttest: 1683.5271162\tbest: 1683.5271162 (50)\ttotal: 6.5s\tremaining: 2m 1s\n",
      "100:\tlearn: 1571.5347070\ttest: 1639.9910011\tbest: 1639.9910011 (100)\ttotal: 12.5s\tremaining: 1m 51s\n",
      "150:\tlearn: 1532.9351342\ttest: 1621.0110900\tbest: 1621.0110900 (150)\ttotal: 19.2s\tremaining: 1m 47s\n",
      "200:\tlearn: 1505.9799738\ttest: 1604.9732158\tbest: 1604.8519046 (198)\ttotal: 25.5s\tremaining: 1m 41s\n",
      "250:\tlearn: 1487.1491487\ttest: 1599.2029048\tbest: 1598.1095065 (242)\ttotal: 31.7s\tremaining: 1m 34s\n",
      "300:\tlearn: 1470.5583509\ttest: 1592.3430576\tbest: 1592.3430576 (300)\ttotal: 38.2s\tremaining: 1m 28s\n",
      "350:\tlearn: 1455.7659400\ttest: 1584.8662086\tbest: 1584.5111646 (349)\ttotal: 43.8s\tremaining: 1m 21s\n",
      "400:\tlearn: 1443.9217989\ttest: 1581.6734178\tbest: 1581.5149890 (394)\ttotal: 50.2s\tremaining: 1m 15s\n",
      "450:\tlearn: 1430.9257187\ttest: 1579.5926433\tbest: 1579.5926433 (450)\ttotal: 56.3s\tremaining: 1m 8s\n",
      "500:\tlearn: 1419.7829128\ttest: 1576.8134651\tbest: 1576.8134651 (500)\ttotal: 1m 2s\tremaining: 1m 2s\n",
      "550:\tlearn: 1410.9485455\ttest: 1573.7288142\tbest: 1573.3669610 (544)\ttotal: 1m 9s\tremaining: 56.3s\n",
      "Stopped by overfitting detector  (50 iterations wait)\n",
      "\n",
      "bestTest = 1573.366961\n",
      "bestIteration = 544\n",
      "\n",
      "Shrink model to first 545 iterations.\n",
      "Wall time: 1min 15s\n"
     ]
    }
   ],
   "source": [
    "%%time\n",
    "start_time = datetime.now()\n",
    "\n",
    "cb_model.fit(features_train, target_train, cat_features=cat_features, eval_set=(features_valid, target_valid), \n",
    "             verbose=50)\n",
    "\n",
    "\n",
    "cb_model_learn_time = datetime.now() - start_time"
   ]
  },
  {
   "cell_type": "markdown",
   "metadata": {},
   "source": [
    "Лучшая характеристика RMSE для модели"
   ]
  },
  {
   "cell_type": "code",
   "execution_count": 112,
   "metadata": {},
   "outputs": [],
   "source": [
    "cb_model_valid_score = cb_model.best_score_['validation']['RMSE']"
   ]
  },
  {
   "cell_type": "code",
   "execution_count": 113,
   "metadata": {},
   "outputs": [],
   "source": [
    "start_time = datetime.now()\n",
    "cb_model_test_score = mean_squared_error(target_test, cb_model.predict(features_test)) ** 0.5\n",
    "cb_model_predict_time = datetime.now() - start_time"
   ]
  },
  {
   "cell_type": "code",
   "execution_count": 114,
   "metadata": {},
   "outputs": [
    {
     "data": {
      "text/plain": [
       "(1573.3669609753413, 1553.0453142758383, 75, 0)"
      ]
     },
     "execution_count": 114,
     "metadata": {},
     "output_type": "execute_result"
    }
   ],
   "source": [
    "cb_model_valid_score, cb_model_test_score, cb_model_learn_time.seconds, cb_model_predict_time.seconds"
   ]
  },
  {
   "cell_type": "markdown",
   "metadata": {},
   "source": [
    "Занесём данные в сводную таблицу по моделям"
   ]
  },
  {
   "cell_type": "code",
   "execution_count": 115,
   "metadata": {},
   "outputs": [],
   "source": [
    "models_log.append([\n",
    "    'Catboost', \n",
    "    cb_model_valid_score, \n",
    "    cb_model_test_score, \n",
    "    cb_model_learn_time.seconds,\n",
    "    cb_model_predict_time.seconds,\n",
    "    hyper_params\n",
    "])\n"
   ]
  },
  {
   "cell_type": "markdown",
   "metadata": {},
   "source": [
    "Посмотрим, какие признаки внесли больший вес в предсказание."
   ]
  },
  {
   "cell_type": "code",
   "execution_count": 116,
   "metadata": {},
   "outputs": [
    {
     "data": {
      "image/png": "[encoded data removed]",
      "text/plain": [
       "<Figure size 864x432 with 1 Axes>"
      ]
     },
     "metadata": {
      "needs_background": "light"
     },
     "output_type": "display_data"
    }
   ],
   "source": [
    "draw_best_features(features_list, cb_model.get_feature_importance())"
   ]
  },
  {
   "cell_type": "markdown",
   "metadata": {},
   "source": [
    "### Другие модели"
   ]
  },
  {
   "cell_type": "markdown",
   "metadata": {},
   "source": [
    "Воспользуемся рандомизированным подбором гиперпараметров для моделей."
   ]
  },
  {
   "cell_type": "code",
   "execution_count": 117,
   "metadata": {},
   "outputs": [],
   "source": [
    "hyper_params_set = {\n",
    "    #'n_estimators':[x for x in range(10, 100, 10)],\n",
    "    'n_neighbors': [4],\n",
    "    'max_depth': [x for x in range(16, 32, 2)], \n",
    "    'leaf_size': [x for x in range(32, 64, 2)], \n",
    "    'min_samples_leaf': [x for x in range(1, 32, 2)],\n",
    "    'min_samples_split': [x for x in range(2, 32, 2)],\n",
    "}"
   ]
  },
  {
   "cell_type": "code",
   "execution_count": 118,
   "metadata": {
    "scrolled": false
   },
   "outputs": [
    {
     "name": "stdout",
     "output_type": "stream",
     "text": [
      "DummyRegressor ...\n",
      "4565.222990295302\n",
      "\n",
      "LinearRegression ...\n",
      "2857.265325406746\n",
      "\n",
      "DecisionTreeRegressor ...\n",
      "1810.0343404922953\n",
      "\n",
      "RandomForestRegressor ...\n",
      "1603.6623818182923\n",
      "\n",
      "KNeighborsRegressor ...\n",
      "1937.7537550970537\n",
      "\n",
      "Wall time: 13min 51s\n"
     ]
    }
   ],
   "source": [
    "%%time\n",
    "for base_estimator in [DummyRegressor(), LinearRegression(), DecisionTreeRegressor(), RandomForestRegressor(), KNeighborsRegressor()]:\n",
    "    \n",
    "    \n",
    "    model_hyper_params = {}\n",
    "    \n",
    "    for key in hyper_params_set.keys():\n",
    "        if key in base_estimator.get_params().keys():\n",
    "            model_hyper_params[key] = hyper_params_set[key]    \n",
    "            \n",
    "            \n",
    "    start_time = datetime.now()\n",
    "    \n",
    "    print(type(base_estimator).__name__, '...')\n",
    "    \n",
    "    clf = RandomizedSearchCV(base_estimator, model_hyper_params, scoring='neg_mean_squared_error', random_state=42, n_jobs=-1)\n",
    "    search = clf.fit(features_train, np.ravel(target_train))\n",
    "\n",
    "    model_learn_time = datetime.now() - start_time\n",
    "\n",
    "    print(abs(clf.best_score_) ** 0.5)\n",
    "    print()\n",
    "    \n",
    "    start_time = datetime.now()\n",
    "\n",
    "    model_test_score = mean_squared_error(target_test, clf.best_estimator_.predict(features_test)) ** 0.5\n",
    "\n",
    "    model_predict_time = datetime.now() - start_time\n",
    "    \n",
    "    models_log.append([type(base_estimator).__name__, \n",
    "        abs(clf.best_score_) ** 0.5, \n",
    "        model_test_score, \n",
    "        model_learn_time.seconds,\n",
    "        model_predict_time.seconds,\n",
    "        search.best_params_\n",
    "    ])   \n",
    "\n"
   ]
  },
  {
   "cell_type": "markdown",
   "metadata": {},
   "source": [
    "## Анализ моделей"
   ]
  },
  {
   "cell_type": "code",
   "execution_count": 119,
   "metadata": {},
   "outputs": [],
   "source": [
    "models_df = pd.DataFrame(data=models_log, \n",
    "                         columns=['Модель', 'RMSE (валидационная выборка)', 'RMSE (тестовая выборка)', 'Время обучения, сек', 'Время предсказания, сек', 'Гиперпараметры'])"
   ]
  },
  {
   "cell_type": "markdown",
   "metadata": {},
   "source": [
    "**Самые точные**"
   ]
  },
  {
   "cell_type": "code",
   "execution_count": 120,
   "metadata": {},
   "outputs": [
    {
     "data": {
      "text/html": [
       "<div>\n",
       "<style scoped>\n",
       "    .dataframe tbody tr th:only-of-type {\n",
       "        vertical-align: middle;\n",
       "    }\n",
       "\n",
       "    .dataframe tbody tr th {\n",
       "        vertical-align: top;\n",
       "    }\n",
       "\n",
       "    .dataframe thead th {\n",
       "        text-align: right;\n",
       "    }\n",
       "</style>\n",
       "<table border=\"1\" class=\"dataframe\">\n",
       "  <thead>\n",
       "    <tr style=\"text-align: right;\">\n",
       "      <th></th>\n",
       "      <th>Модель</th>\n",
       "      <th>RMSE (валидационная выборка)</th>\n",
       "      <th>RMSE (тестовая выборка)</th>\n",
       "      <th>Время обучения, сек</th>\n",
       "      <th>Время предсказания, сек</th>\n",
       "    </tr>\n",
       "  </thead>\n",
       "  <tbody>\n",
       "    <tr>\n",
       "      <th>1</th>\n",
       "      <td>Catboost</td>\n",
       "      <td>1573.366961</td>\n",
       "      <td>1553.045314</td>\n",
       "      <td>75</td>\n",
       "      <td>0</td>\n",
       "    </tr>\n",
       "    <tr>\n",
       "      <th>0</th>\n",
       "      <td>LightGBM</td>\n",
       "      <td>1574.261820</td>\n",
       "      <td>1570.326864</td>\n",
       "      <td>1</td>\n",
       "      <td>0</td>\n",
       "    </tr>\n",
       "    <tr>\n",
       "      <th>5</th>\n",
       "      <td>RandomForestRegressor</td>\n",
       "      <td>1603.662382</td>\n",
       "      <td>1618.348940</td>\n",
       "      <td>730</td>\n",
       "      <td>1</td>\n",
       "    </tr>\n",
       "    <tr>\n",
       "      <th>4</th>\n",
       "      <td>DecisionTreeRegressor</td>\n",
       "      <td>1810.034340</td>\n",
       "      <td>1810.542801</td>\n",
       "      <td>11</td>\n",
       "      <td>0</td>\n",
       "    </tr>\n",
       "    <tr>\n",
       "      <th>6</th>\n",
       "      <td>KNeighborsRegressor</td>\n",
       "      <td>1937.753755</td>\n",
       "      <td>1939.958562</td>\n",
       "      <td>79</td>\n",
       "      <td>3</td>\n",
       "    </tr>\n",
       "    <tr>\n",
       "      <th>3</th>\n",
       "      <td>LinearRegression</td>\n",
       "      <td>2857.265325</td>\n",
       "      <td>2884.097060</td>\n",
       "      <td>1</td>\n",
       "      <td>0</td>\n",
       "    </tr>\n",
       "    <tr>\n",
       "      <th>2</th>\n",
       "      <td>DummyRegressor</td>\n",
       "      <td>4565.222990</td>\n",
       "      <td>4606.543819</td>\n",
       "      <td>3</td>\n",
       "      <td>0</td>\n",
       "    </tr>\n",
       "  </tbody>\n",
       "</table>\n",
       "</div>"
      ],
      "text/plain": [
       "                  Модель  RMSE (валидационная выборка)  \\\n",
       "1               Catboost                   1573.366961   \n",
       "0               LightGBM                   1574.261820   \n",
       "5  RandomForestRegressor                   1603.662382   \n",
       "4  DecisionTreeRegressor                   1810.034340   \n",
       "6    KNeighborsRegressor                   1937.753755   \n",
       "3       LinearRegression                   2857.265325   \n",
       "2         DummyRegressor                   4565.222990   \n",
       "\n",
       "   RMSE (тестовая выборка)  Время обучения, сек  Время предсказания, сек  \n",
       "1              1553.045314                   75                        0  \n",
       "0              1570.326864                    1                        0  \n",
       "5              1618.348940                  730                        1  \n",
       "4              1810.542801                   11                        0  \n",
       "6              1939.958562                   79                        3  \n",
       "3              2884.097060                    1                        0  \n",
       "2              4606.543819                    3                        0  "
      ]
     },
     "execution_count": 120,
     "metadata": {},
     "output_type": "execute_result"
    }
   ],
   "source": [
    "models_df.iloc[:, 0:5].sort_values(by=['RMSE (тестовая выборка)'], ascending=True)"
   ]
  },
  {
   "cell_type": "markdown",
   "metadata": {},
   "source": [
    "**Самые быстрые**"
   ]
  },
  {
   "cell_type": "code",
   "execution_count": 121,
   "metadata": {},
   "outputs": [
    {
     "data": {
      "text/html": [
       "<div>\n",
       "<style scoped>\n",
       "    .dataframe tbody tr th:only-of-type {\n",
       "        vertical-align: middle;\n",
       "    }\n",
       "\n",
       "    .dataframe tbody tr th {\n",
       "        vertical-align: top;\n",
       "    }\n",
       "\n",
       "    .dataframe thead th {\n",
       "        text-align: right;\n",
       "    }\n",
       "</style>\n",
       "<table border=\"1\" class=\"dataframe\">\n",
       "  <thead>\n",
       "    <tr style=\"text-align: right;\">\n",
       "      <th></th>\n",
       "      <th>Модель</th>\n",
       "      <th>RMSE (валидационная выборка)</th>\n",
       "      <th>RMSE (тестовая выборка)</th>\n",
       "      <th>Время обучения, сек</th>\n",
       "      <th>Время предсказания, сек</th>\n",
       "    </tr>\n",
       "  </thead>\n",
       "  <tbody>\n",
       "    <tr>\n",
       "      <th>0</th>\n",
       "      <td>LightGBM</td>\n",
       "      <td>1574.261820</td>\n",
       "      <td>1570.326864</td>\n",
       "      <td>1</td>\n",
       "      <td>0</td>\n",
       "    </tr>\n",
       "    <tr>\n",
       "      <th>3</th>\n",
       "      <td>LinearRegression</td>\n",
       "      <td>2857.265325</td>\n",
       "      <td>2884.097060</td>\n",
       "      <td>1</td>\n",
       "      <td>0</td>\n",
       "    </tr>\n",
       "    <tr>\n",
       "      <th>2</th>\n",
       "      <td>DummyRegressor</td>\n",
       "      <td>4565.222990</td>\n",
       "      <td>4606.543819</td>\n",
       "      <td>3</td>\n",
       "      <td>0</td>\n",
       "    </tr>\n",
       "    <tr>\n",
       "      <th>4</th>\n",
       "      <td>DecisionTreeRegressor</td>\n",
       "      <td>1810.034340</td>\n",
       "      <td>1810.542801</td>\n",
       "      <td>11</td>\n",
       "      <td>0</td>\n",
       "    </tr>\n",
       "    <tr>\n",
       "      <th>1</th>\n",
       "      <td>Catboost</td>\n",
       "      <td>1573.366961</td>\n",
       "      <td>1553.045314</td>\n",
       "      <td>75</td>\n",
       "      <td>0</td>\n",
       "    </tr>\n",
       "    <tr>\n",
       "      <th>6</th>\n",
       "      <td>KNeighborsRegressor</td>\n",
       "      <td>1937.753755</td>\n",
       "      <td>1939.958562</td>\n",
       "      <td>79</td>\n",
       "      <td>3</td>\n",
       "    </tr>\n",
       "    <tr>\n",
       "      <th>5</th>\n",
       "      <td>RandomForestRegressor</td>\n",
       "      <td>1603.662382</td>\n",
       "      <td>1618.348940</td>\n",
       "      <td>730</td>\n",
       "      <td>1</td>\n",
       "    </tr>\n",
       "  </tbody>\n",
       "</table>\n",
       "</div>"
      ],
      "text/plain": [
       "                  Модель  RMSE (валидационная выборка)  \\\n",
       "0               LightGBM                   1574.261820   \n",
       "3       LinearRegression                   2857.265325   \n",
       "2         DummyRegressor                   4565.222990   \n",
       "4  DecisionTreeRegressor                   1810.034340   \n",
       "1               Catboost                   1573.366961   \n",
       "6    KNeighborsRegressor                   1937.753755   \n",
       "5  RandomForestRegressor                   1603.662382   \n",
       "\n",
       "   RMSE (тестовая выборка)  Время обучения, сек  Время предсказания, сек  \n",
       "0              1570.326864                    1                        0  \n",
       "3              2884.097060                    1                        0  \n",
       "2              4606.543819                    3                        0  \n",
       "4              1810.542801                   11                        0  \n",
       "1              1553.045314                   75                        0  \n",
       "6              1939.958562                   79                        3  \n",
       "5              1618.348940                  730                        1  "
      ]
     },
     "execution_count": 121,
     "metadata": {},
     "output_type": "execute_result"
    }
   ],
   "source": [
    "models_df.iloc[:, 0:5].sort_values(by=['Время обучения, сек'], ascending=True)"
   ]
  },
  {
   "cell_type": "markdown",
   "metadata": {},
   "source": [
    "**Лучшие**"
   ]
  },
  {
   "cell_type": "code",
   "execution_count": 122,
   "metadata": {},
   "outputs": [
    {
     "data": {
      "text/html": [
       "<div>\n",
       "<style scoped>\n",
       "    .dataframe tbody tr th:only-of-type {\n",
       "        vertical-align: middle;\n",
       "    }\n",
       "\n",
       "    .dataframe tbody tr th {\n",
       "        vertical-align: top;\n",
       "    }\n",
       "\n",
       "    .dataframe thead th {\n",
       "        text-align: right;\n",
       "    }\n",
       "</style>\n",
       "<table border=\"1\" class=\"dataframe\">\n",
       "  <thead>\n",
       "    <tr style=\"text-align: right;\">\n",
       "      <th></th>\n",
       "      <th>Модель</th>\n",
       "      <th>RMSE (валидационная выборка)</th>\n",
       "      <th>RMSE (тестовая выборка)</th>\n",
       "      <th>Время обучения, сек</th>\n",
       "      <th>Время предсказания, сек</th>\n",
       "    </tr>\n",
       "  </thead>\n",
       "  <tbody>\n",
       "    <tr>\n",
       "      <th>1</th>\n",
       "      <td>Catboost</td>\n",
       "      <td>1573.366961</td>\n",
       "      <td>1553.045314</td>\n",
       "      <td>75</td>\n",
       "      <td>0</td>\n",
       "    </tr>\n",
       "    <tr>\n",
       "      <th>0</th>\n",
       "      <td>LightGBM</td>\n",
       "      <td>1574.261820</td>\n",
       "      <td>1570.326864</td>\n",
       "      <td>1</td>\n",
       "      <td>0</td>\n",
       "    </tr>\n",
       "    <tr>\n",
       "      <th>5</th>\n",
       "      <td>RandomForestRegressor</td>\n",
       "      <td>1603.662382</td>\n",
       "      <td>1618.348940</td>\n",
       "      <td>730</td>\n",
       "      <td>1</td>\n",
       "    </tr>\n",
       "  </tbody>\n",
       "</table>\n",
       "</div>"
      ],
      "text/plain": [
       "                  Модель  RMSE (валидационная выборка)  \\\n",
       "1               Catboost                   1573.366961   \n",
       "0               LightGBM                   1574.261820   \n",
       "5  RandomForestRegressor                   1603.662382   \n",
       "\n",
       "   RMSE (тестовая выборка)  Время обучения, сек  Время предсказания, сек  \n",
       "1              1553.045314                   75                        0  \n",
       "0              1570.326864                    1                        0  \n",
       "5              1618.348940                  730                        1  "
      ]
     },
     "execution_count": 122,
     "metadata": {},
     "output_type": "execute_result"
    }
   ],
   "source": [
    "models_df.iloc[:, 0:5].sort_values(by=['RMSE (тестовая выборка)'], ascending=True).head(3)"
   ]
  },
  {
   "cell_type": "markdown",
   "metadata": {},
   "source": [
    "Оценки качества всех моделей оказались лучше, чем у Dummy. Значит, мы работали в правильном направлении. Оценки качества для тестовой выборки подтверждают предварительные из валидационных выборок, различие небольшие. \n",
    "\n",
    "Самый **точный прогноз** нам удалось получить для ансамбля Catboost, но при этом он же оказался не самым быстрым. \n",
    "\n",
    "Следующим по качеству идёт гораздо **более быстрый** LightGBM. \n",
    "\n",
    "И третим по качеству, но средним в тройке по скорости признаем RandomForestRegressor.\n",
    "\n",
    "В зависимости от конкретных задач рекомендуется выбор из этих трёх вариантов:\n",
    "LightGBM, Catboost, RandomForestRegressor\n",
    "\n",
    "**Время предсказания** почти всех моделей пренебрежимо малое. Заметное время предсказания показала модель KNeighborsRegressor (3 сек), эта модель не вошла в тройку лидеров."
   ]
  },
  {
   "cell_type": "markdown",
   "metadata": {},
   "source": [
    "Интересно, что большая часть категорий практически не вносит вклад во влияние на стоимость автомобиля. А наиболее весомыми являются:\n",
    "\n",
    "- RegistrationYear — год регистрации автомобиля\n",
    "- Power — мощность (л. с.)\n",
    "- Kilometer — пробег (км)\n",
    "- Brand — марка автомобиля\n",
    "- Model — модель автомобиля\n",
    "- и ActivityDays — длительность активности объявления\n",
    "\n",
    "Этим параметрам стоит уделить больше внимания для заполнения."
   ]
  },
  {
   "cell_type": "code",
   "execution_count": null,
   "metadata": {},
   "outputs": [],
   "source": []
  }
 ],
 "metadata": {
  "ExecuteTimeLog": [
   {
    "duration": 391,
    "start_time": "2021-07-08T19:22:00.590Z"
   },
   {
    "duration": 1030,
    "start_time": "2021-07-08T19:22:43.632Z"
   },
   {
    "duration": 1614,
    "start_time": "2021-07-08T19:22:46.705Z"
   },
   {
    "duration": 251,
    "start_time": "2021-07-08T19:23:05.482Z"
   },
   {
    "duration": 46,
    "start_time": "2021-07-08T19:23:25.646Z"
   },
   {
    "duration": 776,
    "start_time": "2021-07-09T08:13:08.785Z"
   },
   {
    "duration": 1084,
    "start_time": "2021-07-09T08:13:14.926Z"
   },
   {
    "duration": 156,
    "start_time": "2021-07-09T08:13:16.706Z"
   },
   {
    "duration": 32,
    "start_time": "2021-07-09T08:13:21.118Z"
   },
   {
    "duration": 4,
    "start_time": "2021-07-09T08:21:25.299Z"
   },
   {
    "duration": 1084,
    "start_time": "2021-07-09T08:21:27.247Z"
   },
   {
    "duration": 156,
    "start_time": "2021-07-09T08:21:30.039Z"
   },
   {
    "duration": 22,
    "start_time": "2021-07-09T08:21:31.832Z"
   },
   {
    "duration": 26,
    "start_time": "2021-07-09T08:22:06.239Z"
   },
   {
    "duration": 26,
    "start_time": "2021-07-09T08:22:54.787Z"
   },
   {
    "duration": 26,
    "start_time": "2021-07-09T08:24:59.860Z"
   },
   {
    "duration": 91,
    "start_time": "2021-07-09T08:27:58.091Z"
   },
   {
    "duration": 26,
    "start_time": "2021-07-09T08:28:00.818Z"
   },
   {
    "duration": 26,
    "start_time": "2021-07-09T08:28:40.363Z"
   },
   {
    "duration": 50,
    "start_time": "2021-07-09T08:39:51.828Z"
   },
   {
    "duration": 23,
    "start_time": "2021-07-09T08:40:00.255Z"
   },
   {
    "duration": 143,
    "start_time": "2021-07-09T08:52:14.355Z"
   },
   {
    "duration": 7,
    "start_time": "2021-07-09T08:52:24.593Z"
   },
   {
    "duration": 7,
    "start_time": "2021-07-09T08:53:05.817Z"
   },
   {
    "duration": 111,
    "start_time": "2021-07-09T08:53:06.304Z"
   },
   {
    "duration": 125,
    "start_time": "2021-07-09T08:53:07.001Z"
   },
   {
    "duration": 121,
    "start_time": "2021-07-09T08:53:22.259Z"
   },
   {
    "duration": 831,
    "start_time": "2021-07-09T12:22:50.720Z"
   },
   {
    "duration": 1301,
    "start_time": "2021-07-09T12:22:51.555Z"
   },
   {
    "duration": 180,
    "start_time": "2021-07-09T12:22:52.859Z"
   },
   {
    "duration": 34,
    "start_time": "2021-07-09T12:22:53.857Z"
   },
   {
    "duration": 150,
    "start_time": "2021-07-09T12:22:55.786Z"
   },
   {
    "duration": 115,
    "start_time": "2021-07-09T12:22:56.393Z"
   },
   {
    "duration": 136,
    "start_time": "2021-07-09T12:22:56.913Z"
   },
   {
    "duration": 117,
    "start_time": "2021-07-09T12:22:57.662Z"
   },
   {
    "duration": 441,
    "start_time": "2021-07-09T12:23:10.469Z"
   },
   {
    "duration": 387,
    "start_time": "2021-07-09T12:23:49.923Z"
   },
   {
    "duration": 351,
    "start_time": "2021-07-09T12:24:10.662Z"
   },
   {
    "duration": 342,
    "start_time": "2021-07-09T12:24:15.513Z"
   },
   {
    "duration": 436,
    "start_time": "2021-07-09T12:24:26.070Z"
   },
   {
    "duration": 3,
    "start_time": "2021-07-09T12:30:55.619Z"
   },
   {
    "duration": 446,
    "start_time": "2021-07-09T12:31:57.267Z"
   },
   {
    "duration": 572,
    "start_time": "2021-07-09T12:32:08.140Z"
   },
   {
    "duration": 3041,
    "start_time": "2021-07-09T12:32:21.722Z"
   },
   {
    "duration": 41,
    "start_time": "2021-07-09T12:32:56.177Z"
   },
   {
    "duration": 43,
    "start_time": "2021-07-09T12:35:25.704Z"
   },
   {
    "duration": 3440,
    "start_time": "2021-07-09T12:41:34.241Z"
   },
   {
    "duration": 650,
    "start_time": "2021-07-09T12:41:51.621Z"
   },
   {
    "duration": 857,
    "start_time": "2021-07-09T12:42:32.955Z"
   },
   {
    "duration": 667,
    "start_time": "2021-07-09T12:42:40.742Z"
   },
   {
    "duration": 577,
    "start_time": "2021-07-09T12:47:29.873Z"
   },
   {
    "duration": 686,
    "start_time": "2021-07-09T12:47:54.747Z"
   },
   {
    "duration": 567,
    "start_time": "2021-07-09T12:48:06.932Z"
   },
   {
    "duration": 319,
    "start_time": "2021-07-09T12:48:45.888Z"
   },
   {
    "duration": 328,
    "start_time": "2021-07-09T12:48:59.898Z"
   },
   {
    "duration": 57,
    "start_time": "2021-07-09T12:49:04.869Z"
   },
   {
    "duration": 43,
    "start_time": "2021-07-09T12:49:24.863Z"
   },
   {
    "duration": 45,
    "start_time": "2021-07-09T12:54:48.240Z"
   },
   {
    "duration": 43,
    "start_time": "2021-07-09T12:55:45.631Z"
   },
   {
    "duration": 46,
    "start_time": "2021-07-09T12:56:27.636Z"
   },
   {
    "duration": 46,
    "start_time": "2021-07-09T12:56:32.715Z"
   },
   {
    "duration": 29,
    "start_time": "2021-07-09T12:57:29.253Z"
   },
   {
    "duration": 64,
    "start_time": "2021-07-09T13:01:08.728Z"
   },
   {
    "duration": 720,
    "start_time": "2021-07-09T13:08:48.656Z"
   },
   {
    "duration": 40,
    "start_time": "2021-07-09T13:10:48.454Z"
   },
   {
    "duration": 128,
    "start_time": "2021-07-09T13:11:13.924Z"
   },
   {
    "duration": 46,
    "start_time": "2021-07-09T13:11:19.581Z"
   },
   {
    "duration": 49,
    "start_time": "2021-07-09T13:11:57.699Z"
   },
   {
    "duration": 51,
    "start_time": "2021-07-09T13:12:11.615Z"
   },
   {
    "duration": 47,
    "start_time": "2021-07-09T13:12:20.154Z"
   },
   {
    "duration": 753,
    "start_time": "2021-07-12T08:11:39.022Z"
   },
   {
    "duration": 10191,
    "start_time": "2021-07-12T08:11:40.469Z"
   },
   {
    "duration": 159,
    "start_time": "2021-07-12T08:12:01.062Z"
   },
   {
    "duration": 31,
    "start_time": "2021-07-12T08:12:05.261Z"
   },
   {
    "duration": 141,
    "start_time": "2021-07-12T08:12:07.549Z"
   },
   {
    "duration": 114,
    "start_time": "2021-07-12T08:12:09.301Z"
   },
   {
    "duration": 147,
    "start_time": "2021-07-12T08:12:10.020Z"
   },
   {
    "duration": 112,
    "start_time": "2021-07-12T08:12:10.648Z"
   },
   {
    "duration": 33,
    "start_time": "2021-07-12T08:14:31.116Z"
   },
   {
    "duration": 47,
    "start_time": "2021-07-12T08:15:18.849Z"
   },
   {
    "duration": 47,
    "start_time": "2021-07-12T08:16:59.397Z"
   },
   {
    "duration": 5,
    "start_time": "2021-07-12T08:29:41.162Z"
   },
   {
    "duration": 1108,
    "start_time": "2021-07-12T08:29:41.170Z"
   },
   {
    "duration": 166,
    "start_time": "2021-07-12T08:29:42.281Z"
   },
   {
    "duration": 35,
    "start_time": "2021-07-12T08:29:42.451Z"
   },
   {
    "duration": 132,
    "start_time": "2021-07-12T08:29:42.489Z"
   },
   {
    "duration": 104,
    "start_time": "2021-07-12T08:29:42.624Z"
   },
   {
    "duration": 128,
    "start_time": "2021-07-12T08:29:42.731Z"
   },
   {
    "duration": 131,
    "start_time": "2021-07-12T08:29:42.862Z"
   },
   {
    "duration": 408,
    "start_time": "2021-07-12T08:29:42.996Z"
   },
   {
    "duration": 350,
    "start_time": "2021-07-12T08:29:43.407Z"
   },
   {
    "duration": 372,
    "start_time": "2021-07-12T08:29:43.759Z"
   },
   {
    "duration": 426,
    "start_time": "2021-07-12T08:29:44.134Z"
   },
   {
    "duration": 35,
    "start_time": "2021-07-12T08:29:44.562Z"
   },
   {
    "duration": 739,
    "start_time": "2021-07-12T08:29:44.600Z"
   },
   {
    "duration": 685,
    "start_time": "2021-07-12T08:29:45.342Z"
   },
   {
    "duration": 812,
    "start_time": "2021-07-12T08:29:46.030Z"
   },
   {
    "duration": 67,
    "start_time": "2021-07-12T08:29:46.846Z"
   },
   {
    "duration": 39,
    "start_time": "2021-07-12T08:29:46.916Z"
   },
   {
    "duration": 49,
    "start_time": "2021-07-12T08:29:46.959Z"
   },
   {
    "duration": 21,
    "start_time": "2021-07-12T08:34:26.982Z"
   },
   {
    "duration": 5083,
    "start_time": "2021-07-12T08:37:04.915Z"
   },
   {
    "duration": 5206,
    "start_time": "2021-07-12T08:37:56.466Z"
   },
   {
    "duration": 67,
    "start_time": "2021-07-12T08:48:41.923Z"
   },
   {
    "duration": 19,
    "start_time": "2021-07-12T08:50:25.760Z"
   },
   {
    "duration": 38,
    "start_time": "2021-07-12T08:54:18.623Z"
   },
   {
    "duration": 421,
    "start_time": "2021-07-12T08:54:36.783Z"
   },
   {
    "duration": 5,
    "start_time": "2021-07-12T08:54:41.578Z"
   },
   {
    "duration": 131,
    "start_time": "2021-07-12T09:30:34.337Z"
   },
   {
    "duration": 25,
    "start_time": "2021-07-12T09:30:38.788Z"
   },
   {
    "duration": 38,
    "start_time": "2021-07-12T09:30:54.377Z"
   },
   {
    "duration": 46,
    "start_time": "2021-07-12T09:39:34.058Z"
   },
   {
    "duration": 634,
    "start_time": "2021-07-12T09:41:51.973Z"
   },
   {
    "duration": 624,
    "start_time": "2021-07-12T09:42:03.232Z"
   },
   {
    "duration": 26,
    "start_time": "2021-07-12T09:42:20.083Z"
   },
   {
    "duration": 25,
    "start_time": "2021-07-12T09:42:45.092Z"
   },
   {
    "duration": 615,
    "start_time": "2021-07-12T09:43:10.597Z"
   },
   {
    "duration": 10,
    "start_time": "2021-07-12T09:44:09.758Z"
   },
   {
    "duration": 18,
    "start_time": "2021-07-12T09:47:03.385Z"
   },
   {
    "duration": 13,
    "start_time": "2021-07-12T09:50:33.893Z"
   },
   {
    "duration": 10,
    "start_time": "2021-07-12T09:50:47.895Z"
   },
   {
    "duration": 108,
    "start_time": "2021-07-12T09:52:09.549Z"
   },
   {
    "duration": 15,
    "start_time": "2021-07-12T09:52:19.454Z"
   },
   {
    "duration": 12,
    "start_time": "2021-07-12T09:53:16.169Z"
   },
   {
    "duration": 11,
    "start_time": "2021-07-12T09:53:34.761Z"
   },
   {
    "duration": 631,
    "start_time": "2021-07-12T09:53:59.023Z"
   },
   {
    "duration": 4,
    "start_time": "2021-07-12T09:54:32.505Z"
   },
   {
    "duration": 1113,
    "start_time": "2021-07-12T09:54:32.513Z"
   },
   {
    "duration": 223,
    "start_time": "2021-07-12T09:54:33.629Z"
   },
   {
    "duration": 49,
    "start_time": "2021-07-12T09:54:33.856Z"
   },
   {
    "duration": 138,
    "start_time": "2021-07-12T09:54:33.909Z"
   },
   {
    "duration": 105,
    "start_time": "2021-07-12T09:54:34.050Z"
   },
   {
    "duration": 157,
    "start_time": "2021-07-12T09:54:34.159Z"
   },
   {
    "duration": 152,
    "start_time": "2021-07-12T09:54:34.321Z"
   },
   {
    "duration": 449,
    "start_time": "2021-07-12T09:54:34.475Z"
   },
   {
    "duration": 426,
    "start_time": "2021-07-12T09:54:34.926Z"
   },
   {
    "duration": 406,
    "start_time": "2021-07-12T09:54:35.355Z"
   },
   {
    "duration": 474,
    "start_time": "2021-07-12T09:54:35.763Z"
   },
   {
    "duration": 26,
    "start_time": "2021-07-12T09:54:36.240Z"
   },
   {
    "duration": 49,
    "start_time": "2021-07-12T09:54:36.269Z"
   },
   {
    "duration": 45,
    "start_time": "2021-07-12T09:54:36.321Z"
   },
   {
    "duration": 19,
    "start_time": "2021-07-12T09:54:36.370Z"
   },
   {
    "duration": 668,
    "start_time": "2021-07-12T09:54:36.392Z"
   },
   {
    "duration": 643,
    "start_time": "2021-07-12T09:54:37.063Z"
   },
   {
    "duration": 667,
    "start_time": "2021-07-12T09:54:37.711Z"
   },
   {
    "duration": 44,
    "start_time": "2021-07-12T09:54:38.381Z"
   },
   {
    "duration": 79,
    "start_time": "2021-07-12T09:54:38.428Z"
   },
   {
    "duration": 25,
    "start_time": "2021-07-12T09:54:38.510Z"
   },
   {
    "duration": 9,
    "start_time": "2021-07-12T09:54:38.537Z"
   },
   {
    "duration": 48,
    "start_time": "2021-07-12T09:54:38.548Z"
   },
   {
    "duration": 354,
    "start_time": "2021-07-12T09:54:38.599Z"
   },
   {
    "duration": -20316,
    "start_time": "2021-07-12T09:54:59.271Z"
   },
   {
    "duration": -20319,
    "start_time": "2021-07-12T09:54:59.275Z"
   },
   {
    "duration": -20320,
    "start_time": "2021-07-12T09:54:59.278Z"
   },
   {
    "duration": -20325,
    "start_time": "2021-07-12T09:54:59.284Z"
   },
   {
    "duration": -20329,
    "start_time": "2021-07-12T09:54:59.290Z"
   },
   {
    "duration": -20331,
    "start_time": "2021-07-12T09:54:59.294Z"
   },
   {
    "duration": 957,
    "start_time": "2021-07-12T09:55:19.246Z"
   },
   {
    "duration": 1208,
    "start_time": "2021-07-12T09:55:20.207Z"
   },
   {
    "duration": 174,
    "start_time": "2021-07-12T09:55:21.418Z"
   },
   {
    "duration": 33,
    "start_time": "2021-07-12T09:55:21.595Z"
   },
   {
    "duration": 153,
    "start_time": "2021-07-12T09:55:21.632Z"
   },
   {
    "duration": 122,
    "start_time": "2021-07-12T09:55:21.788Z"
   },
   {
    "duration": 136,
    "start_time": "2021-07-12T09:55:21.913Z"
   },
   {
    "duration": 137,
    "start_time": "2021-07-12T09:55:22.053Z"
   },
   {
    "duration": 689,
    "start_time": "2021-07-12T09:55:22.193Z"
   },
   {
    "duration": 410,
    "start_time": "2021-07-12T09:55:22.886Z"
   },
   {
    "duration": 348,
    "start_time": "2021-07-12T09:55:23.298Z"
   },
   {
    "duration": 499,
    "start_time": "2021-07-12T09:55:23.648Z"
   },
   {
    "duration": 38,
    "start_time": "2021-07-12T09:55:24.151Z"
   },
   {
    "duration": 21,
    "start_time": "2021-07-12T09:55:24.192Z"
   },
   {
    "duration": 77,
    "start_time": "2021-07-12T09:55:24.215Z"
   },
   {
    "duration": 14,
    "start_time": "2021-07-12T09:55:24.295Z"
   },
   {
    "duration": 715,
    "start_time": "2021-07-12T09:55:24.312Z"
   },
   {
    "duration": 832,
    "start_time": "2021-07-12T09:55:25.029Z"
   },
   {
    "duration": 785,
    "start_time": "2021-07-12T09:55:25.863Z"
   },
   {
    "duration": 69,
    "start_time": "2021-07-12T09:55:26.651Z"
   },
   {
    "duration": 70,
    "start_time": "2021-07-12T09:55:26.723Z"
   },
   {
    "duration": 25,
    "start_time": "2021-07-12T09:55:26.796Z"
   },
   {
    "duration": 12,
    "start_time": "2021-07-12T09:55:26.826Z"
   },
   {
    "duration": 57,
    "start_time": "2021-07-12T09:55:26.842Z"
   },
   {
    "duration": 243,
    "start_time": "2021-07-12T09:55:26.902Z"
   },
   {
    "duration": 2850,
    "start_time": "2021-07-12T09:55:24.298Z"
   },
   {
    "duration": 2847,
    "start_time": "2021-07-12T09:55:24.303Z"
   },
   {
    "duration": 2803,
    "start_time": "2021-07-12T09:55:24.350Z"
   },
   {
    "duration": 2797,
    "start_time": "2021-07-12T09:55:24.358Z"
   },
   {
    "duration": 2793,
    "start_time": "2021-07-12T09:55:24.364Z"
   },
   {
    "duration": 2789,
    "start_time": "2021-07-12T09:55:24.371Z"
   },
   {
    "duration": 15,
    "start_time": "2021-07-12T09:55:49.317Z"
   },
   {
    "duration": 9,
    "start_time": "2021-07-12T09:55:49.857Z"
   },
   {
    "duration": 14,
    "start_time": "2021-07-12T09:55:50.316Z"
   },
   {
    "duration": 17,
    "start_time": "2021-07-12T09:55:50.997Z"
   },
   {
    "duration": 10,
    "start_time": "2021-07-12T09:55:53.405Z"
   },
   {
    "duration": 602,
    "start_time": "2021-07-12T09:55:54.550Z"
   },
   {
    "duration": 569,
    "start_time": "2021-07-12T10:03:59.399Z"
   },
   {
    "duration": 309,
    "start_time": "2021-07-12T10:04:07.321Z"
   },
   {
    "duration": 24,
    "start_time": "2021-07-12T10:05:17.158Z"
   },
   {
    "duration": 7,
    "start_time": "2021-07-12T10:05:26.004Z"
   },
   {
    "duration": 342,
    "start_time": "2021-07-12T10:05:38.846Z"
   },
   {
    "duration": 573,
    "start_time": "2021-07-12T10:05:44.890Z"
   },
   {
    "duration": 373,
    "start_time": "2021-07-12T11:50:11.688Z"
   },
   {
    "duration": 783,
    "start_time": "2021-07-12T11:50:27.496Z"
   },
   {
    "duration": 1089,
    "start_time": "2021-07-12T11:50:28.282Z"
   },
   {
    "duration": 164,
    "start_time": "2021-07-12T11:50:29.373Z"
   },
   {
    "duration": 40,
    "start_time": "2021-07-12T11:50:29.539Z"
   },
   {
    "duration": 148,
    "start_time": "2021-07-12T11:50:29.581Z"
   },
   {
    "duration": 127,
    "start_time": "2021-07-12T11:50:29.731Z"
   },
   {
    "duration": 141,
    "start_time": "2021-07-12T11:50:29.860Z"
   },
   {
    "duration": 128,
    "start_time": "2021-07-12T11:50:30.004Z"
   },
   {
    "duration": 402,
    "start_time": "2021-07-12T11:50:30.135Z"
   },
   {
    "duration": 343,
    "start_time": "2021-07-12T11:50:30.539Z"
   },
   {
    "duration": 359,
    "start_time": "2021-07-12T11:50:30.884Z"
   },
   {
    "duration": 437,
    "start_time": "2021-07-12T11:50:31.246Z"
   },
   {
    "duration": 27,
    "start_time": "2021-07-12T11:50:31.686Z"
   },
   {
    "duration": 34,
    "start_time": "2021-07-12T11:50:31.716Z"
   },
   {
    "duration": 51,
    "start_time": "2021-07-12T11:50:31.761Z"
   },
   {
    "duration": 10,
    "start_time": "2021-07-12T11:50:31.814Z"
   },
   {
    "duration": 689,
    "start_time": "2021-07-12T11:50:31.827Z"
   },
   {
    "duration": 690,
    "start_time": "2021-07-12T11:50:32.519Z"
   },
   {
    "duration": 607,
    "start_time": "2021-07-12T11:50:33.212Z"
   },
   {
    "duration": 61,
    "start_time": "2021-07-12T11:50:33.822Z"
   },
   {
    "duration": 37,
    "start_time": "2021-07-12T11:50:33.885Z"
   },
   {
    "duration": 45,
    "start_time": "2021-07-12T11:50:33.925Z"
   },
   {
    "duration": 9,
    "start_time": "2021-07-12T11:50:33.974Z"
   },
   {
    "duration": 21,
    "start_time": "2021-07-12T11:50:33.986Z"
   },
   {
    "duration": 13,
    "start_time": "2021-07-12T11:50:34.010Z"
   },
   {
    "duration": 41,
    "start_time": "2021-07-12T11:50:34.026Z"
   },
   {
    "duration": 13,
    "start_time": "2021-07-12T11:50:34.070Z"
   },
   {
    "duration": 11,
    "start_time": "2021-07-12T11:50:34.085Z"
   },
   {
    "duration": 9,
    "start_time": "2021-07-12T11:50:34.099Z"
   },
   {
    "duration": 594,
    "start_time": "2021-07-12T11:50:34.110Z"
   },
   {
    "duration": 24,
    "start_time": "2021-07-12T11:50:34.707Z"
   },
   {
    "duration": 616,
    "start_time": "2021-07-12T11:50:34.734Z"
   },
   {
    "duration": 370,
    "start_time": "2021-07-12T11:50:35.352Z"
   },
   {
    "duration": 352,
    "start_time": "2021-07-12T12:00:15.890Z"
   },
   {
    "duration": 291,
    "start_time": "2021-07-12T12:00:54.449Z"
   },
   {
    "duration": 50,
    "start_time": "2021-07-12T12:01:37.364Z"
   },
   {
    "duration": 399,
    "start_time": "2021-07-12T12:03:20.779Z"
   },
   {
    "duration": 59,
    "start_time": "2021-07-12T12:10:21.869Z"
   },
   {
    "duration": 58,
    "start_time": "2021-07-12T12:27:17.987Z"
   },
   {
    "duration": 53,
    "start_time": "2021-07-12T12:27:51.094Z"
   },
   {
    "duration": 309,
    "start_time": "2021-07-12T12:28:18.800Z"
   },
   {
    "duration": 12,
    "start_time": "2021-07-12T12:29:41.377Z"
   },
   {
    "duration": 340,
    "start_time": "2021-07-12T12:29:49.088Z"
   },
   {
    "duration": 672,
    "start_time": "2021-07-12T12:30:11.060Z"
   },
   {
    "duration": 3,
    "start_time": "2021-07-12T12:32:58.819Z"
   },
   {
    "duration": 315,
    "start_time": "2021-07-12T12:33:55.281Z"
   },
   {
    "duration": 3,
    "start_time": "2021-07-12T12:34:11.573Z"
   },
   {
    "duration": 1144,
    "start_time": "2021-07-12T12:34:11.579Z"
   },
   {
    "duration": 168,
    "start_time": "2021-07-12T12:34:12.725Z"
   },
   {
    "duration": 25,
    "start_time": "2021-07-12T12:34:12.896Z"
   },
   {
    "duration": 127,
    "start_time": "2021-07-12T12:34:12.923Z"
   },
   {
    "duration": 95,
    "start_time": "2021-07-12T12:34:13.053Z"
   },
   {
    "duration": 132,
    "start_time": "2021-07-12T12:34:13.151Z"
   },
   {
    "duration": 127,
    "start_time": "2021-07-12T12:34:13.285Z"
   },
   {
    "duration": 395,
    "start_time": "2021-07-12T12:34:13.414Z"
   },
   {
    "duration": 351,
    "start_time": "2021-07-12T12:34:13.812Z"
   },
   {
    "duration": 360,
    "start_time": "2021-07-12T12:34:14.165Z"
   },
   {
    "duration": 426,
    "start_time": "2021-07-12T12:34:14.528Z"
   },
   {
    "duration": 28,
    "start_time": "2021-07-12T12:34:14.961Z"
   },
   {
    "duration": 38,
    "start_time": "2021-07-12T12:34:14.992Z"
   },
   {
    "duration": 51,
    "start_time": "2021-07-12T12:34:15.033Z"
   },
   {
    "duration": 6,
    "start_time": "2021-07-12T12:34:15.086Z"
   },
   {
    "duration": 567,
    "start_time": "2021-07-12T12:34:15.094Z"
   },
   {
    "duration": 620,
    "start_time": "2021-07-12T12:34:15.664Z"
   },
   {
    "duration": 578,
    "start_time": "2021-07-12T12:34:16.289Z"
   },
   {
    "duration": 47,
    "start_time": "2021-07-12T12:34:16.870Z"
   },
   {
    "duration": 67,
    "start_time": "2021-07-12T12:34:16.920Z"
   },
   {
    "duration": 23,
    "start_time": "2021-07-12T12:34:16.990Z"
   },
   {
    "duration": 8,
    "start_time": "2021-07-12T12:34:17.016Z"
   },
   {
    "duration": 50,
    "start_time": "2021-07-12T12:34:17.027Z"
   },
   {
    "duration": 13,
    "start_time": "2021-07-12T12:34:17.079Z"
   },
   {
    "duration": 10,
    "start_time": "2021-07-12T12:34:17.095Z"
   },
   {
    "duration": 15,
    "start_time": "2021-07-12T12:34:17.107Z"
   },
   {
    "duration": 47,
    "start_time": "2021-07-12T12:34:17.124Z"
   },
   {
    "duration": 9,
    "start_time": "2021-07-12T12:34:17.174Z"
   },
   {
    "duration": 585,
    "start_time": "2021-07-12T12:34:17.186Z"
   },
   {
    "duration": 25,
    "start_time": "2021-07-12T12:34:17.773Z"
   },
   {
    "duration": 302,
    "start_time": "2021-07-12T12:34:26.406Z"
   },
   {
    "duration": 113,
    "start_time": "2021-07-12T12:35:09.148Z"
   },
   {
    "duration": 131,
    "start_time": "2021-07-12T12:35:52.175Z"
   },
   {
    "duration": 27,
    "start_time": "2021-07-12T12:36:06.335Z"
   },
   {
    "duration": 1010,
    "start_time": "2021-07-12T12:36:07.176Z"
   },
   {
    "duration": 78,
    "start_time": "2021-07-12T12:36:14.695Z"
   },
   {
    "duration": 62,
    "start_time": "2021-07-12T12:36:15.403Z"
   },
   {
    "duration": 460,
    "start_time": "2021-07-12T12:36:16.784Z"
   },
   {
    "duration": 12,
    "start_time": "2021-07-12T12:36:18.351Z"
   },
   {
    "duration": 869,
    "start_time": "2021-07-12T12:36:19.278Z"
   },
   {
    "duration": 560,
    "start_time": "2021-07-12T12:46:39.311Z"
   },
   {
    "duration": 6,
    "start_time": "2021-07-12T12:51:46.427Z"
   },
   {
    "duration": 36,
    "start_time": "2021-07-12T12:54:55.919Z"
   },
   {
    "duration": 40,
    "start_time": "2021-07-12T12:54:56.872Z"
   },
   {
    "duration": 38,
    "start_time": "2021-07-12T12:54:57.465Z"
   },
   {
    "duration": 6,
    "start_time": "2021-07-12T12:55:07.212Z"
   },
   {
    "duration": 32,
    "start_time": "2021-07-12T12:55:15.531Z"
   },
   {
    "duration": 331,
    "start_time": "2021-07-12T12:55:39.490Z"
   },
   {
    "duration": 687,
    "start_time": "2021-07-12T12:56:01.434Z"
   },
   {
    "duration": 18,
    "start_time": "2021-07-12T13:02:52.102Z"
   },
   {
    "duration": 14,
    "start_time": "2021-07-12T13:11:30.434Z"
   },
   {
    "duration": 43,
    "start_time": "2021-07-12T13:11:43.474Z"
   },
   {
    "duration": 795,
    "start_time": "2021-07-12T14:36:12.332Z"
   },
   {
    "duration": 1111,
    "start_time": "2021-07-12T14:36:13.130Z"
   },
   {
    "duration": 165,
    "start_time": "2021-07-12T14:36:14.245Z"
   },
   {
    "duration": 31,
    "start_time": "2021-07-12T14:36:14.413Z"
   },
   {
    "duration": 146,
    "start_time": "2021-07-12T14:36:14.463Z"
   },
   {
    "duration": 127,
    "start_time": "2021-07-12T14:36:14.611Z"
   },
   {
    "duration": 141,
    "start_time": "2021-07-12T14:36:14.740Z"
   },
   {
    "duration": 129,
    "start_time": "2021-07-12T14:36:14.884Z"
   },
   {
    "duration": 1156,
    "start_time": "2021-07-12T14:36:15.020Z"
   },
   {
    "duration": 20,
    "start_time": "2021-07-12T14:36:16.181Z"
   },
   {
    "duration": 102,
    "start_time": "2021-07-12T14:36:16.204Z"
   },
   {
    "duration": 759,
    "start_time": "2021-07-12T14:36:16.309Z"
   },
   {
    "duration": 659,
    "start_time": "2021-07-12T14:36:17.071Z"
   },
   {
    "duration": 669,
    "start_time": "2021-07-12T14:36:17.733Z"
   },
   {
    "duration": 822,
    "start_time": "2021-07-12T14:36:18.405Z"
   },
   {
    "duration": 60,
    "start_time": "2021-07-12T14:36:19.230Z"
   },
   {
    "duration": 1052,
    "start_time": "2021-07-12T14:36:19.294Z"
   },
   {
    "duration": 1029,
    "start_time": "2021-07-12T14:36:20.350Z"
   },
   {
    "duration": 987,
    "start_time": "2021-07-12T14:36:21.382Z"
   },
   {
    "duration": 46,
    "start_time": "2021-07-12T14:36:22.372Z"
   },
   {
    "duration": 61,
    "start_time": "2021-07-12T14:36:22.422Z"
   },
   {
    "duration": 38,
    "start_time": "2021-07-12T14:36:22.486Z"
   },
   {
    "duration": 34,
    "start_time": "2021-07-12T14:36:22.529Z"
   },
   {
    "duration": 16,
    "start_time": "2021-07-12T14:36:22.567Z"
   },
   {
    "duration": 17,
    "start_time": "2021-07-12T14:36:22.587Z"
   },
   {
    "duration": 14,
    "start_time": "2021-07-12T14:36:22.606Z"
   },
   {
    "duration": 44,
    "start_time": "2021-07-12T14:36:22.626Z"
   },
   {
    "duration": 28,
    "start_time": "2021-07-12T14:36:22.674Z"
   },
   {
    "duration": 12,
    "start_time": "2021-07-12T14:36:22.705Z"
   },
   {
    "duration": 612,
    "start_time": "2021-07-12T14:36:22.720Z"
   },
   {
    "duration": 42,
    "start_time": "2021-07-12T14:36:23.334Z"
   },
   {
    "duration": 662,
    "start_time": "2021-07-12T14:36:23.379Z"
   },
   {
    "duration": 488,
    "start_time": "2021-07-12T14:36:24.044Z"
   },
   {
    "duration": 105,
    "start_time": "2021-07-12T14:36:24.535Z"
   },
   {
    "duration": 79,
    "start_time": "2021-07-12T14:36:24.643Z"
   },
   {
    "duration": 508,
    "start_time": "2021-07-12T14:36:24.725Z"
   },
   {
    "duration": 26,
    "start_time": "2021-07-12T14:36:25.236Z"
   },
   {
    "duration": 651,
    "start_time": "2021-07-12T14:36:25.265Z"
   },
   {
    "duration": 6,
    "start_time": "2021-07-12T14:36:25.919Z"
   },
   {
    "duration": 42,
    "start_time": "2021-07-12T14:36:25.927Z"
   },
   {
    "duration": 41,
    "start_time": "2021-07-12T14:36:25.972Z"
   },
   {
    "duration": 5,
    "start_time": "2021-07-12T14:36:26.016Z"
   },
   {
    "duration": 67,
    "start_time": "2021-07-12T14:36:26.024Z"
   },
   {
    "duration": 36,
    "start_time": "2021-07-12T14:36:26.094Z"
   },
   {
    "duration": 54,
    "start_time": "2021-07-12T14:36:26.133Z"
   },
   {
    "duration": 1378,
    "start_time": "2021-07-12T14:37:51.103Z"
   },
   {
    "duration": 302,
    "start_time": "2021-07-12T14:38:08.612Z"
   },
   {
    "duration": 532,
    "start_time": "2021-07-12T14:38:27.812Z"
   },
   {
    "duration": 3139,
    "start_time": "2021-07-12T14:38:47.233Z"
   },
   {
    "duration": 3464,
    "start_time": "2021-07-12T14:38:51.813Z"
   },
   {
    "duration": 562,
    "start_time": "2021-07-12T14:39:02.312Z"
   },
   {
    "duration": 599,
    "start_time": "2021-07-12T14:39:34.622Z"
   },
   {
    "duration": 723,
    "start_time": "2021-07-12T14:41:00.325Z"
   },
   {
    "duration": 22,
    "start_time": "2021-07-12T14:43:56.057Z"
   },
   {
    "duration": 15,
    "start_time": "2021-07-12T14:44:18.173Z"
   },
   {
    "duration": 66,
    "start_time": "2021-07-12T14:52:19.586Z"
   },
   {
    "duration": 13,
    "start_time": "2021-07-12T14:52:57.752Z"
   },
   {
    "duration": 8,
    "start_time": "2021-07-12T14:53:08.897Z"
   },
   {
    "duration": 877,
    "start_time": "2021-07-12T14:56:23.802Z"
   },
   {
    "duration": 4,
    "start_time": "2021-07-12T14:56:36.528Z"
   },
   {
    "duration": 1509,
    "start_time": "2021-07-12T14:56:36.536Z"
   },
   {
    "duration": 162,
    "start_time": "2021-07-12T14:56:38.049Z"
   },
   {
    "duration": 48,
    "start_time": "2021-07-12T14:56:38.214Z"
   },
   {
    "duration": 118,
    "start_time": "2021-07-12T14:56:38.265Z"
   },
   {
    "duration": 98,
    "start_time": "2021-07-12T14:56:38.386Z"
   },
   {
    "duration": 124,
    "start_time": "2021-07-12T14:56:38.487Z"
   },
   {
    "duration": 127,
    "start_time": "2021-07-12T14:56:38.613Z"
   },
   {
    "duration": 575,
    "start_time": "2021-07-12T14:56:38.744Z"
   },
   {
    "duration": 13,
    "start_time": "2021-07-12T14:56:39.322Z"
   },
   {
    "duration": 63,
    "start_time": "2021-07-12T14:56:39.338Z"
   },
   {
    "duration": 552,
    "start_time": "2021-07-12T14:56:39.403Z"
   },
   {
    "duration": 15,
    "start_time": "2021-07-12T14:56:39.961Z"
   },
   {
    "duration": 92,
    "start_time": "2021-07-12T14:56:39.978Z"
   },
   {
    "duration": 9,
    "start_time": "2021-07-12T14:56:40.073Z"
   },
   {
    "duration": 388,
    "start_time": "2021-07-12T14:56:40.085Z"
   },
   {
    "duration": 354,
    "start_time": "2021-07-12T14:56:40.476Z"
   },
   {
    "duration": 365,
    "start_time": "2021-07-12T14:56:40.833Z"
   },
   {
    "duration": 428,
    "start_time": "2021-07-12T14:56:41.201Z"
   },
   {
    "duration": 38,
    "start_time": "2021-07-12T14:56:41.631Z"
   },
   {
    "duration": 584,
    "start_time": "2021-07-12T14:56:41.671Z"
   },
   {
    "duration": 610,
    "start_time": "2021-07-12T14:56:51.322Z"
   },
   {
    "duration": 605,
    "start_time": "2021-07-12T14:58:45.583Z"
   },
   {
    "duration": 727,
    "start_time": "2021-07-13T10:49:28.000Z"
   },
   {
    "duration": 1100,
    "start_time": "2021-07-13T10:49:28.730Z"
   },
   {
    "duration": 242,
    "start_time": "2021-07-13T10:49:29.834Z"
   },
   {
    "duration": 32,
    "start_time": "2021-07-13T10:49:30.079Z"
   },
   {
    "duration": 159,
    "start_time": "2021-07-13T10:49:30.113Z"
   },
   {
    "duration": 132,
    "start_time": "2021-07-13T10:49:30.274Z"
   },
   {
    "duration": 174,
    "start_time": "2021-07-13T10:49:30.409Z"
   },
   {
    "duration": 129,
    "start_time": "2021-07-13T10:49:30.587Z"
   },
   {
    "duration": 699,
    "start_time": "2021-07-13T10:49:30.719Z"
   },
   {
    "duration": 13,
    "start_time": "2021-07-13T10:49:31.421Z"
   },
   {
    "duration": 45,
    "start_time": "2021-07-13T10:49:31.456Z"
   },
   {
    "duration": 610,
    "start_time": "2021-07-13T10:49:31.504Z"
   },
   {
    "duration": 17,
    "start_time": "2021-07-13T10:49:32.116Z"
   },
   {
    "duration": 97,
    "start_time": "2021-07-13T10:49:32.136Z"
   },
   {
    "duration": 25,
    "start_time": "2021-07-13T10:49:32.236Z"
   },
   {
    "duration": 381,
    "start_time": "2021-07-13T10:49:32.264Z"
   },
   {
    "duration": 329,
    "start_time": "2021-07-13T10:49:32.648Z"
   },
   {
    "duration": 350,
    "start_time": "2021-07-13T10:49:32.979Z"
   },
   {
    "duration": 401,
    "start_time": "2021-07-13T10:49:33.332Z"
   },
   {
    "duration": 34,
    "start_time": "2021-07-13T10:49:33.735Z"
   },
   {
    "duration": 586,
    "start_time": "2021-07-13T10:49:33.772Z"
   },
   {
    "duration": 615,
    "start_time": "2021-07-13T10:49:34.361Z"
   },
   {
    "duration": 576,
    "start_time": "2021-07-13T10:49:34.982Z"
   },
   {
    "duration": 29,
    "start_time": "2021-07-13T10:49:35.561Z"
   },
   {
    "duration": 23,
    "start_time": "2021-07-13T10:49:35.593Z"
   },
   {
    "duration": 53,
    "start_time": "2021-07-13T10:49:35.619Z"
   },
   {
    "duration": 10,
    "start_time": "2021-07-13T10:49:35.674Z"
   },
   {
    "duration": 16,
    "start_time": "2021-07-13T10:49:35.686Z"
   },
   {
    "duration": 9,
    "start_time": "2021-07-13T10:49:35.704Z"
   },
   {
    "duration": 45,
    "start_time": "2021-07-13T10:49:35.716Z"
   },
   {
    "duration": 14,
    "start_time": "2021-07-13T10:49:35.763Z"
   },
   {
    "duration": 18,
    "start_time": "2021-07-13T10:49:35.779Z"
   },
   {
    "duration": 9,
    "start_time": "2021-07-13T10:49:35.799Z"
   },
   {
    "duration": 588,
    "start_time": "2021-07-13T10:49:35.811Z"
   },
   {
    "duration": 24,
    "start_time": "2021-07-13T10:49:36.401Z"
   },
   {
    "duration": 564,
    "start_time": "2021-07-13T10:49:36.427Z"
   },
   {
    "duration": 388,
    "start_time": "2021-07-13T10:49:36.994Z"
   },
   {
    "duration": 76,
    "start_time": "2021-07-13T10:49:37.384Z"
   },
   {
    "duration": 52,
    "start_time": "2021-07-13T10:49:37.462Z"
   },
   {
    "duration": 417,
    "start_time": "2021-07-13T10:49:37.516Z"
   },
   {
    "duration": 21,
    "start_time": "2021-07-13T10:49:37.935Z"
   },
   {
    "duration": 548,
    "start_time": "2021-07-13T10:49:37.958Z"
   },
   {
    "duration": 5,
    "start_time": "2021-07-13T10:49:38.509Z"
   },
   {
    "duration": 40,
    "start_time": "2021-07-13T10:49:38.517Z"
   },
   {
    "duration": 41,
    "start_time": "2021-07-13T10:49:38.560Z"
   },
   {
    "duration": 6,
    "start_time": "2021-07-13T10:49:38.603Z"
   },
   {
    "duration": 103,
    "start_time": "2021-07-13T10:49:38.611Z"
   },
   {
    "duration": 617,
    "start_time": "2021-07-13T10:49:38.099Z"
   },
   {
    "duration": 615,
    "start_time": "2021-07-13T10:49:38.102Z"
   },
   {
    "duration": 615,
    "start_time": "2021-07-13T10:49:38.104Z"
   },
   {
    "duration": 614,
    "start_time": "2021-07-13T10:49:38.106Z"
   },
   {
    "duration": 38,
    "start_time": "2021-07-13T10:49:52.447Z"
   },
   {
    "duration": 38,
    "start_time": "2021-07-13T10:49:53.186Z"
   },
   {
    "duration": 35,
    "start_time": "2021-07-13T10:49:53.655Z"
   },
   {
    "duration": 19,
    "start_time": "2021-07-13T10:49:54.030Z"
   },
   {
    "duration": 24,
    "start_time": "2021-07-13T10:53:38.739Z"
   },
   {
    "duration": 27,
    "start_time": "2021-07-13T10:53:51.995Z"
   },
   {
    "duration": 451,
    "start_time": "2021-07-13T10:54:00.253Z"
   },
   {
    "duration": 27,
    "start_time": "2021-07-13T10:54:14.102Z"
   },
   {
    "duration": 26,
    "start_time": "2021-07-13T10:54:33.224Z"
   },
   {
    "duration": 27,
    "start_time": "2021-07-13T10:54:51.656Z"
   },
   {
    "duration": 408,
    "start_time": "2021-07-13T10:55:15.307Z"
   },
   {
    "duration": 27,
    "start_time": "2021-07-13T10:58:56.789Z"
   },
   {
    "duration": 431,
    "start_time": "2021-07-13T11:19:33.978Z"
   },
   {
    "duration": 20796,
    "start_time": "2021-07-13T11:20:08.748Z"
   },
   {
    "duration": 7368,
    "start_time": "2021-07-13T11:21:14.619Z"
   },
   {
    "duration": 5992,
    "start_time": "2021-07-13T11:21:51.890Z"
   },
   {
    "duration": 481,
    "start_time": "2021-07-13T11:26:15.898Z"
   },
   {
    "duration": 292,
    "start_time": "2021-07-13T11:42:54.994Z"
   },
   {
    "duration": 270,
    "start_time": "2021-07-13T11:42:59.905Z"
   },
   {
    "duration": 281,
    "start_time": "2021-07-13T12:03:55.150Z"
   },
   {
    "duration": 306,
    "start_time": "2021-07-13T12:04:02.248Z"
   },
   {
    "duration": 792,
    "start_time": "2021-07-13T12:08:22.439Z"
   },
   {
    "duration": 1155,
    "start_time": "2021-07-13T12:08:23.233Z"
   },
   {
    "duration": 169,
    "start_time": "2021-07-13T12:08:24.391Z"
   },
   {
    "duration": 31,
    "start_time": "2021-07-13T12:08:24.563Z"
   },
   {
    "duration": 153,
    "start_time": "2021-07-13T12:08:24.597Z"
   },
   {
    "duration": 125,
    "start_time": "2021-07-13T12:08:24.752Z"
   },
   {
    "duration": 139,
    "start_time": "2021-07-13T12:08:24.879Z"
   },
   {
    "duration": 134,
    "start_time": "2021-07-13T12:08:25.023Z"
   },
   {
    "duration": 699,
    "start_time": "2021-07-13T12:08:25.160Z"
   },
   {
    "duration": 17,
    "start_time": "2021-07-13T12:08:25.862Z"
   },
   {
    "duration": 48,
    "start_time": "2021-07-13T12:08:25.881Z"
   },
   {
    "duration": 608,
    "start_time": "2021-07-13T12:08:25.956Z"
   },
   {
    "duration": 16,
    "start_time": "2021-07-13T12:08:26.567Z"
   },
   {
    "duration": 100,
    "start_time": "2021-07-13T12:08:26.586Z"
   },
   {
    "duration": 9,
    "start_time": "2021-07-13T12:08:26.689Z"
   },
   {
    "duration": 384,
    "start_time": "2021-07-13T12:08:26.700Z"
   },
   {
    "duration": 27,
    "start_time": "2021-07-13T12:08:27.086Z"
   },
   {
    "duration": 352,
    "start_time": "2021-07-13T12:08:27.115Z"
   },
   {
    "duration": 26,
    "start_time": "2021-07-13T12:08:27.469Z"
   },
   {
    "duration": 349,
    "start_time": "2021-07-13T12:08:27.497Z"
   },
   {
    "duration": 31,
    "start_time": "2021-07-13T12:08:27.848Z"
   },
   {
    "duration": 404,
    "start_time": "2021-07-13T12:08:27.881Z"
   },
   {
    "duration": 26,
    "start_time": "2021-07-13T12:08:28.291Z"
   },
   {
    "duration": 49,
    "start_time": "2021-07-13T12:08:28.320Z"
   },
   {
    "duration": 430,
    "start_time": "2021-07-13T12:08:28.372Z"
   },
   {
    "duration": 28,
    "start_time": "2021-07-13T12:08:28.805Z"
   },
   {
    "duration": 681,
    "start_time": "2021-07-13T12:08:28.835Z"
   },
   {
    "duration": 598,
    "start_time": "2021-07-13T12:08:29.518Z"
   },
   {
    "duration": 584,
    "start_time": "2021-07-13T12:08:30.119Z"
   },
   {
    "duration": 28,
    "start_time": "2021-07-13T12:08:30.706Z"
   },
   {
    "duration": 41,
    "start_time": "2021-07-13T12:08:30.736Z"
   },
   {
    "duration": 32,
    "start_time": "2021-07-13T12:08:30.779Z"
   },
   {
    "duration": 8,
    "start_time": "2021-07-13T12:08:30.814Z"
   },
   {
    "duration": 41,
    "start_time": "2021-07-13T12:08:30.824Z"
   },
   {
    "duration": 10,
    "start_time": "2021-07-13T12:08:30.867Z"
   },
   {
    "duration": 20,
    "start_time": "2021-07-13T12:08:30.879Z"
   },
   {
    "duration": 17,
    "start_time": "2021-07-13T12:08:30.901Z"
   },
   {
    "duration": 46,
    "start_time": "2021-07-13T12:08:30.920Z"
   },
   {
    "duration": 10,
    "start_time": "2021-07-13T12:08:30.968Z"
   },
   {
    "duration": 554,
    "start_time": "2021-07-13T12:08:30.980Z"
   },
   {
    "duration": 36,
    "start_time": "2021-07-13T12:08:31.536Z"
   },
   {
    "duration": 617,
    "start_time": "2021-07-13T12:08:31.574Z"
   },
   {
    "duration": 423,
    "start_time": "2021-07-13T12:08:32.194Z"
   },
   {
    "duration": 83,
    "start_time": "2021-07-13T12:08:32.620Z"
   },
   {
    "duration": 65,
    "start_time": "2021-07-13T12:08:32.705Z"
   },
   {
    "duration": 305,
    "start_time": "2021-07-13T12:08:32.773Z"
   },
   {
    "duration": 12,
    "start_time": "2021-07-13T12:08:33.080Z"
   },
   {
    "duration": 567,
    "start_time": "2021-07-13T12:08:33.095Z"
   },
   {
    "duration": 5,
    "start_time": "2021-07-13T12:08:33.665Z"
   },
   {
    "duration": 25,
    "start_time": "2021-07-13T12:08:33.673Z"
   },
   {
    "duration": 77,
    "start_time": "2021-07-13T12:08:33.701Z"
   },
   {
    "duration": 5,
    "start_time": "2021-07-13T12:08:33.780Z"
   },
   {
    "duration": 9,
    "start_time": "2021-07-13T12:08:33.787Z"
   },
   {
    "duration": 9,
    "start_time": "2021-07-13T12:08:33.798Z"
   },
   {
    "duration": 10,
    "start_time": "2021-07-13T12:08:33.809Z"
   },
   {
    "duration": 42,
    "start_time": "2021-07-13T12:08:33.821Z"
   },
   {
    "duration": 379,
    "start_time": "2021-07-13T13:57:12.031Z"
   },
   {
    "duration": 20,
    "start_time": "2021-07-13T13:57:43.038Z"
   },
   {
    "duration": 370,
    "start_time": "2021-07-13T14:02:14.976Z"
   },
   {
    "duration": 348,
    "start_time": "2021-07-13T14:07:22.576Z"
   },
   {
    "duration": 340,
    "start_time": "2021-07-13T14:07:29.294Z"
   },
   {
    "duration": 712,
    "start_time": "2021-07-13T14:18:57.537Z"
   },
   {
    "duration": 1032,
    "start_time": "2021-07-13T14:18:58.886Z"
   },
   {
    "duration": 157,
    "start_time": "2021-07-13T14:18:59.920Z"
   },
   {
    "duration": 31,
    "start_time": "2021-07-13T14:19:00.625Z"
   },
   {
    "duration": 159,
    "start_time": "2021-07-13T14:19:03.235Z"
   },
   {
    "duration": 111,
    "start_time": "2021-07-13T14:19:04.993Z"
   },
   {
    "duration": 152,
    "start_time": "2021-07-13T14:19:06.342Z"
   },
   {
    "duration": 120,
    "start_time": "2021-07-13T14:19:07.167Z"
   },
   {
    "duration": 22,
    "start_time": "2021-07-13T14:19:14.596Z"
   },
   {
    "duration": 656,
    "start_time": "2021-07-13T14:19:19.148Z"
   },
   {
    "duration": 17,
    "start_time": "2021-07-13T14:20:47.390Z"
   },
   {
    "duration": 45,
    "start_time": "2021-07-13T14:20:48.529Z"
   },
   {
    "duration": 608,
    "start_time": "2021-07-13T14:20:55.212Z"
   },
   {
    "duration": 75,
    "start_time": "2021-07-13T14:22:26.983Z"
   },
   {
    "duration": 7,
    "start_time": "2021-07-13T14:22:27.742Z"
   },
   {
    "duration": 351,
    "start_time": "2021-07-13T14:22:37.994Z"
   },
   {
    "duration": 38,
    "start_time": "2021-07-13T14:22:40.846Z"
   },
   {
    "duration": 338,
    "start_time": "2021-07-13T14:22:42.168Z"
   },
   {
    "duration": 355,
    "start_time": "2021-07-13T14:23:21.817Z"
   },
   {
    "duration": 362,
    "start_time": "2021-07-13T14:23:25.292Z"
   },
   {
    "duration": 383,
    "start_time": "2021-07-13T14:23:32.959Z"
   },
   {
    "duration": 302,
    "start_time": "2021-07-13T14:23:52.664Z"
   },
   {
    "duration": 325,
    "start_time": "2021-07-13T14:23:57.060Z"
   },
   {
    "duration": 316,
    "start_time": "2021-07-13T14:24:12.368Z"
   },
   {
    "duration": 367,
    "start_time": "2021-07-13T14:24:23.482Z"
   },
   {
    "duration": 390,
    "start_time": "2021-07-13T14:24:32.133Z"
   },
   {
    "duration": 269,
    "start_time": "2021-07-13T14:25:37.649Z"
   },
   {
    "duration": 261,
    "start_time": "2021-07-13T14:25:51.711Z"
   },
   {
    "duration": 297,
    "start_time": "2021-07-13T14:25:55.638Z"
   },
   {
    "duration": 23,
    "start_time": "2021-07-13T14:34:04.920Z"
   },
   {
    "duration": 590,
    "start_time": "2021-07-13T14:53:03.607Z"
   },
   {
    "duration": 26,
    "start_time": "2021-07-13T14:53:17.246Z"
   },
   {
    "duration": 9,
    "start_time": "2021-07-13T14:53:51.795Z"
   },
   {
    "duration": 24,
    "start_time": "2021-07-13T14:53:58.669Z"
   },
   {
    "duration": 24,
    "start_time": "2021-07-13T14:57:15.703Z"
   },
   {
    "duration": 25,
    "start_time": "2021-07-13T14:57:25.334Z"
   },
   {
    "duration": 25,
    "start_time": "2021-07-13T14:57:37.217Z"
   },
   {
    "duration": 25,
    "start_time": "2021-07-13T14:58:29.926Z"
   },
   {
    "duration": 3,
    "start_time": "2021-07-13T15:01:51.658Z"
   },
   {
    "duration": 1062,
    "start_time": "2021-07-13T15:01:51.664Z"
   },
   {
    "duration": 168,
    "start_time": "2021-07-13T15:01:52.729Z"
   },
   {
    "duration": 21,
    "start_time": "2021-07-13T15:01:52.900Z"
   },
   {
    "duration": 136,
    "start_time": "2021-07-13T15:01:52.924Z"
   },
   {
    "duration": 94,
    "start_time": "2021-07-13T15:01:53.062Z"
   },
   {
    "duration": 127,
    "start_time": "2021-07-13T15:01:53.158Z"
   },
   {
    "duration": 118,
    "start_time": "2021-07-13T15:01:53.289Z"
   },
   {
    "duration": 21,
    "start_time": "2021-07-13T15:01:53.410Z"
   },
   {
    "duration": 571,
    "start_time": "2021-07-13T15:01:53.434Z"
   },
   {
    "duration": 16,
    "start_time": "2021-07-13T15:01:54.008Z"
   },
   {
    "duration": 95,
    "start_time": "2021-07-13T15:01:54.026Z"
   },
   {
    "duration": 531,
    "start_time": "2021-07-13T15:01:54.124Z"
   },
   {
    "duration": 16,
    "start_time": "2021-07-13T15:01:54.657Z"
   },
   {
    "duration": 88,
    "start_time": "2021-07-13T15:01:54.676Z"
   },
   {
    "duration": 7,
    "start_time": "2021-07-13T15:01:54.767Z"
   },
   {
    "duration": 386,
    "start_time": "2021-07-13T15:01:54.777Z"
   },
   {
    "duration": 405,
    "start_time": "2021-07-13T15:01:55.166Z"
   },
   {
    "duration": 28,
    "start_time": "2021-07-13T15:01:55.573Z"
   },
   {
    "duration": 386,
    "start_time": "2021-07-13T15:01:55.604Z"
   },
   {
    "duration": 351,
    "start_time": "2021-07-13T15:01:55.993Z"
   },
   {
    "duration": 31,
    "start_time": "2021-07-13T15:01:56.347Z"
   },
   {
    "duration": 334,
    "start_time": "2021-07-13T15:01:56.383Z"
   },
   {
    "duration": 336,
    "start_time": "2021-07-13T15:01:56.721Z"
   },
   {
    "duration": 28,
    "start_time": "2021-07-13T15:01:57.059Z"
   },
   {
    "duration": 405,
    "start_time": "2021-07-13T15:01:57.090Z"
   },
   {
    "duration": 425,
    "start_time": "2021-07-13T15:01:57.498Z"
   },
   {
    "duration": 35,
    "start_time": "2021-07-13T15:01:57.926Z"
   },
   {
    "duration": 276,
    "start_time": "2021-07-13T15:01:57.963Z"
   },
   {
    "duration": 289,
    "start_time": "2021-07-13T15:01:58.242Z"
   },
   {
    "duration": 37,
    "start_time": "2021-07-13T15:01:58.534Z"
   },
   {
    "duration": 27,
    "start_time": "2021-07-13T15:01:58.574Z"
   },
   {
    "duration": 565,
    "start_time": "2021-07-13T15:01:58.603Z"
   },
   {
    "duration": 594,
    "start_time": "2021-07-13T15:01:59.171Z"
   },
   {
    "duration": 658,
    "start_time": "2021-07-13T15:01:59.768Z"
   },
   {
    "duration": 40,
    "start_time": "2021-07-13T15:02:00.429Z"
   },
   {
    "duration": 22,
    "start_time": "2021-07-13T15:02:00.472Z"
   },
   {
    "duration": 36,
    "start_time": "2021-07-13T15:02:00.497Z"
   },
   {
    "duration": 89,
    "start_time": "2021-07-13T15:02:00.536Z"
   },
   {
    "duration": 93,
    "start_time": "2021-07-13T15:02:00.627Z"
   },
   {
    "duration": 24,
    "start_time": "2021-07-13T15:02:00.722Z"
   },
   {
    "duration": 27,
    "start_time": "2021-07-13T15:02:00.748Z"
   },
   {
    "duration": 21,
    "start_time": "2021-07-13T15:02:00.778Z"
   },
   {
    "duration": 29,
    "start_time": "2021-07-13T15:02:00.801Z"
   },
   {
    "duration": 11,
    "start_time": "2021-07-13T15:02:00.833Z"
   },
   {
    "duration": 554,
    "start_time": "2021-07-13T15:02:00.846Z"
   },
   {
    "duration": 24,
    "start_time": "2021-07-13T15:02:06.550Z"
   },
   {
    "duration": 560,
    "start_time": "2021-07-13T15:02:07.253Z"
   },
   {
    "duration": 29,
    "start_time": "2021-07-13T15:02:35.832Z"
   },
   {
    "duration": 18,
    "start_time": "2021-07-13T15:03:42.433Z"
   },
   {
    "duration": 51,
    "start_time": "2021-07-13T15:09:19.355Z"
   },
   {
    "duration": 45,
    "start_time": "2021-07-13T15:09:31.631Z"
   },
   {
    "duration": 20,
    "start_time": "2021-07-13T15:09:47.466Z"
   },
   {
    "duration": 4,
    "start_time": "2021-07-13T15:10:12.098Z"
   },
   {
    "duration": 1099,
    "start_time": "2021-07-13T15:10:12.105Z"
   },
   {
    "duration": 162,
    "start_time": "2021-07-13T15:10:13.208Z"
   },
   {
    "duration": 23,
    "start_time": "2021-07-13T15:10:13.374Z"
   },
   {
    "duration": 158,
    "start_time": "2021-07-13T15:10:13.400Z"
   },
   {
    "duration": 95,
    "start_time": "2021-07-13T15:10:13.560Z"
   },
   {
    "duration": 132,
    "start_time": "2021-07-13T15:10:13.658Z"
   },
   {
    "duration": 136,
    "start_time": "2021-07-13T15:10:13.793Z"
   },
   {
    "duration": 26,
    "start_time": "2021-07-13T15:10:13.938Z"
   },
   {
    "duration": 591,
    "start_time": "2021-07-13T15:10:13.967Z"
   },
   {
    "duration": 17,
    "start_time": "2021-07-13T15:10:14.561Z"
   },
   {
    "duration": 74,
    "start_time": "2021-07-13T15:10:14.581Z"
   },
   {
    "duration": 560,
    "start_time": "2021-07-13T15:10:14.658Z"
   },
   {
    "duration": 15,
    "start_time": "2021-07-13T15:10:15.221Z"
   },
   {
    "duration": 68,
    "start_time": "2021-07-13T15:10:15.255Z"
   },
   {
    "duration": 8,
    "start_time": "2021-07-13T15:10:15.325Z"
   },
   {
    "duration": 408,
    "start_time": "2021-07-13T15:10:15.335Z"
   },
   {
    "duration": 390,
    "start_time": "2021-07-13T15:10:15.745Z"
   },
   {
    "duration": 34,
    "start_time": "2021-07-13T15:10:16.138Z"
   },
   {
    "duration": 347,
    "start_time": "2021-07-13T15:10:16.175Z"
   },
   {
    "duration": 351,
    "start_time": "2021-07-13T15:10:16.524Z"
   },
   {
    "duration": 26,
    "start_time": "2021-07-13T15:10:16.877Z"
   },
   {
    "duration": 421,
    "start_time": "2021-07-13T15:10:16.908Z"
   },
   {
    "duration": 362,
    "start_time": "2021-07-13T15:10:17.333Z"
   },
   {
    "duration": 27,
    "start_time": "2021-07-13T15:10:17.697Z"
   },
   {
    "duration": 424,
    "start_time": "2021-07-13T15:10:17.726Z"
   },
   {
    "duration": 445,
    "start_time": "2021-07-13T15:10:18.157Z"
   },
   {
    "duration": 26,
    "start_time": "2021-07-13T15:10:18.604Z"
   },
   {
    "duration": 293,
    "start_time": "2021-07-13T15:10:18.632Z"
   },
   {
    "duration": 291,
    "start_time": "2021-07-13T15:10:18.928Z"
   },
   {
    "duration": 40,
    "start_time": "2021-07-13T15:10:19.222Z"
   },
   {
    "duration": 22,
    "start_time": "2021-07-13T15:10:19.264Z"
   },
   {
    "duration": 774,
    "start_time": "2021-07-13T15:10:19.289Z"
   },
   {
    "duration": 636,
    "start_time": "2021-07-13T15:10:20.065Z"
   },
   {
    "duration": 568,
    "start_time": "2021-07-13T15:10:20.703Z"
   },
   {
    "duration": 28,
    "start_time": "2021-07-13T15:10:21.274Z"
   },
   {
    "duration": 22,
    "start_time": "2021-07-13T15:10:21.304Z"
   },
   {
    "duration": 46,
    "start_time": "2021-07-13T15:10:21.329Z"
   },
   {
    "duration": 9,
    "start_time": "2021-07-13T15:10:21.377Z"
   },
   {
    "duration": 14,
    "start_time": "2021-07-13T15:10:21.388Z"
   },
   {
    "duration": 10,
    "start_time": "2021-07-13T15:10:21.404Z"
   },
   {
    "duration": 11,
    "start_time": "2021-07-13T15:10:21.457Z"
   },
   {
    "duration": 16,
    "start_time": "2021-07-13T15:10:21.471Z"
   },
   {
    "duration": 18,
    "start_time": "2021-07-13T15:10:21.489Z"
   },
   {
    "duration": 9,
    "start_time": "2021-07-13T15:10:21.509Z"
   },
   {
    "duration": 583,
    "start_time": "2021-07-13T15:10:21.521Z"
   },
   {
    "duration": 24,
    "start_time": "2021-07-13T15:10:22.107Z"
   },
   {
    "duration": 575,
    "start_time": "2021-07-13T15:10:22.133Z"
   },
   {
    "duration": 311,
    "start_time": "2021-07-13T15:10:22.710Z"
   },
   {
    "duration": 75,
    "start_time": "2021-07-13T15:10:23.024Z"
   },
   {
    "duration": 63,
    "start_time": "2021-07-13T15:10:23.101Z"
   },
   {
    "duration": 312,
    "start_time": "2021-07-13T15:10:23.166Z"
   },
   {
    "duration": 12,
    "start_time": "2021-07-13T15:10:23.480Z"
   },
   {
    "duration": 828,
    "start_time": "2021-07-13T15:10:23.494Z"
   },
   {
    "duration": 45,
    "start_time": "2021-07-13T15:10:32.699Z"
   },
   {
    "duration": 27,
    "start_time": "2021-07-13T15:10:33.873Z"
   },
   {
    "duration": 5,
    "start_time": "2021-07-13T15:16:02.432Z"
   },
   {
    "duration": 24,
    "start_time": "2021-07-13T15:16:03.588Z"
   },
   {
    "duration": 40,
    "start_time": "2021-07-13T15:16:04.277Z"
   },
   {
    "duration": 6,
    "start_time": "2021-07-13T15:16:04.902Z"
   },
   {
    "duration": 41,
    "start_time": "2021-07-13T15:16:13.962Z"
   },
   {
    "duration": 38,
    "start_time": "2021-07-13T15:16:14.448Z"
   },
   {
    "duration": 38,
    "start_time": "2021-07-13T15:16:15.007Z"
   },
   {
    "duration": 21,
    "start_time": "2021-07-13T15:16:15.932Z"
   },
   {
    "duration": 20,
    "start_time": "2021-07-13T15:17:17.507Z"
   },
   {
    "duration": 547,
    "start_time": "2021-07-13T15:18:19.562Z"
   },
   {
    "duration": 301,
    "start_time": "2021-07-13T15:18:36.922Z"
   },
   {
    "duration": 330,
    "start_time": "2021-07-13T15:18:55.004Z"
   },
   {
    "duration": 300,
    "start_time": "2021-07-13T15:19:12.233Z"
   },
   {
    "duration": 333,
    "start_time": "2021-07-13T15:19:49.029Z"
   },
   {
    "duration": 417,
    "start_time": "2021-07-13T15:19:55.034Z"
   },
   {
    "duration": 102,
    "start_time": "2021-07-13T15:22:34.205Z"
   },
   {
    "duration": 15,
    "start_time": "2021-07-13T15:31:27.123Z"
   },
   {
    "duration": 15,
    "start_time": "2021-07-13T15:31:57.335Z"
   },
   {
    "duration": 29,
    "start_time": "2021-07-13T15:33:23.992Z"
   },
   {
    "duration": 354,
    "start_time": "2021-07-13T16:24:09.221Z"
   },
   {
    "duration": 42,
    "start_time": "2021-07-13T16:24:16.596Z"
   },
   {
    "duration": 417,
    "start_time": "2021-07-13T16:24:23.650Z"
   },
   {
    "duration": 40,
    "start_time": "2021-07-13T16:24:26.519Z"
   },
   {
    "duration": 81,
    "start_time": "2021-07-13T16:24:41.583Z"
   },
   {
    "duration": 42,
    "start_time": "2021-07-13T16:25:00.438Z"
   },
   {
    "duration": 7,
    "start_time": "2021-07-13T16:47:53.685Z"
   },
   {
    "duration": 12,
    "start_time": "2021-07-13T16:56:21.980Z"
   },
   {
    "duration": 13,
    "start_time": "2021-07-13T16:58:34.472Z"
   },
   {
    "duration": 14,
    "start_time": "2021-07-13T16:58:49.044Z"
   },
   {
    "duration": 13,
    "start_time": "2021-07-13T16:58:58.351Z"
   },
   {
    "duration": 12,
    "start_time": "2021-07-13T16:59:11.987Z"
   },
   {
    "duration": 13,
    "start_time": "2021-07-13T16:59:28.095Z"
   },
   {
    "duration": 13,
    "start_time": "2021-07-13T16:59:30.151Z"
   },
   {
    "duration": 13,
    "start_time": "2021-07-13T17:00:24.236Z"
   },
   {
    "duration": 13,
    "start_time": "2021-07-13T17:00:26.365Z"
   },
   {
    "duration": 3,
    "start_time": "2021-07-13T17:05:53.063Z"
   },
   {
    "duration": 1029,
    "start_time": "2021-07-13T17:05:53.069Z"
   },
   {
    "duration": 161,
    "start_time": "2021-07-13T17:05:54.101Z"
   },
   {
    "duration": 22,
    "start_time": "2021-07-13T17:05:54.265Z"
   },
   {
    "duration": 143,
    "start_time": "2021-07-13T17:05:54.289Z"
   },
   {
    "duration": 84,
    "start_time": "2021-07-13T17:05:54.434Z"
   },
   {
    "duration": 147,
    "start_time": "2021-07-13T17:05:54.521Z"
   },
   {
    "duration": 114,
    "start_time": "2021-07-13T17:05:54.672Z"
   },
   {
    "duration": 21,
    "start_time": "2021-07-13T17:05:54.789Z"
   },
   {
    "duration": 581,
    "start_time": "2021-07-13T17:05:54.812Z"
   },
   {
    "duration": 16,
    "start_time": "2021-07-13T17:05:55.396Z"
   },
   {
    "duration": 63,
    "start_time": "2021-07-13T17:05:55.415Z"
   },
   {
    "duration": 624,
    "start_time": "2021-07-13T17:05:55.481Z"
   },
   {
    "duration": 14,
    "start_time": "2021-07-13T17:05:56.108Z"
   },
   {
    "duration": 90,
    "start_time": "2021-07-13T17:05:56.124Z"
   },
   {
    "duration": 7,
    "start_time": "2021-07-13T17:05:56.216Z"
   },
   {
    "duration": 373,
    "start_time": "2021-07-13T17:05:56.225Z"
   },
   {
    "duration": 41,
    "start_time": "2021-07-13T17:05:56.600Z"
   },
   {
    "duration": 25,
    "start_time": "2021-07-13T17:05:56.655Z"
   },
   {
    "duration": 334,
    "start_time": "2021-07-13T17:05:56.682Z"
   },
   {
    "duration": 53,
    "start_time": "2021-07-13T17:05:57.018Z"
   },
   {
    "duration": 35,
    "start_time": "2021-07-13T17:05:57.074Z"
   },
   {
    "duration": 395,
    "start_time": "2021-07-13T17:05:57.116Z"
   },
   {
    "duration": 47,
    "start_time": "2021-07-13T17:05:57.513Z"
   },
   {
    "duration": 32,
    "start_time": "2021-07-13T17:05:57.562Z"
   },
   {
    "duration": 388,
    "start_time": "2021-07-13T17:05:57.597Z"
   },
   {
    "duration": 43,
    "start_time": "2021-07-13T17:05:57.988Z"
   },
   {
    "duration": 52,
    "start_time": "2021-07-13T17:05:58.033Z"
   },
   {
    "duration": 275,
    "start_time": "2021-07-13T17:05:58.087Z"
   },
   {
    "duration": 42,
    "start_time": "2021-07-13T17:05:58.364Z"
   },
   {
    "duration": 48,
    "start_time": "2021-07-13T17:05:58.409Z"
   },
   {
    "duration": 22,
    "start_time": "2021-07-13T17:05:58.460Z"
   },
   {
    "duration": 696,
    "start_time": "2021-07-13T17:06:03.827Z"
   },
   {
    "duration": 567,
    "start_time": "2021-07-13T17:06:14.189Z"
   },
   {
    "duration": 18,
    "start_time": "2021-07-13T17:06:21.016Z"
   },
   {
    "duration": 19,
    "start_time": "2021-07-13T17:06:24.440Z"
   },
   {
    "duration": 15,
    "start_time": "2021-07-13T17:06:39.538Z"
   },
   {
    "duration": 553,
    "start_time": "2021-07-13T17:06:40.811Z"
   },
   {
    "duration": 529,
    "start_time": "2021-07-13T17:06:59.714Z"
   },
   {
    "duration": 10,
    "start_time": "2021-07-13T17:12:17.021Z"
   },
   {
    "duration": 17,
    "start_time": "2021-07-13T17:12:30.520Z"
   },
   {
    "duration": 10,
    "start_time": "2021-07-13T17:13:30.885Z"
   },
   {
    "duration": 10,
    "start_time": "2021-07-13T17:13:45.204Z"
   },
   {
    "duration": 556,
    "start_time": "2021-07-13T17:13:59.880Z"
   },
   {
    "duration": 16,
    "start_time": "2021-07-13T17:14:44.316Z"
   },
   {
    "duration": 3,
    "start_time": "2021-07-13T17:17:02.939Z"
   },
   {
    "duration": 1033,
    "start_time": "2021-07-13T17:17:02.945Z"
   },
   {
    "duration": 155,
    "start_time": "2021-07-13T17:17:03.981Z"
   },
   {
    "duration": 30,
    "start_time": "2021-07-13T17:17:04.139Z"
   },
   {
    "duration": 144,
    "start_time": "2021-07-13T17:17:04.172Z"
   },
   {
    "duration": 94,
    "start_time": "2021-07-13T17:17:04.318Z"
   },
   {
    "duration": 141,
    "start_time": "2021-07-13T17:17:04.415Z"
   },
   {
    "duration": 123,
    "start_time": "2021-07-13T17:17:04.561Z"
   },
   {
    "duration": 22,
    "start_time": "2021-07-13T17:17:04.688Z"
   },
   {
    "duration": 596,
    "start_time": "2021-07-13T17:17:04.713Z"
   },
   {
    "duration": 14,
    "start_time": "2021-07-13T17:17:05.311Z"
   },
   {
    "duration": 59,
    "start_time": "2021-07-13T17:17:05.327Z"
   },
   {
    "duration": 549,
    "start_time": "2021-07-13T17:17:05.388Z"
   },
   {
    "duration": 23,
    "start_time": "2021-07-13T17:17:05.939Z"
   },
   {
    "duration": 65,
    "start_time": "2021-07-13T17:17:05.964Z"
   },
   {
    "duration": 25,
    "start_time": "2021-07-13T17:17:06.032Z"
   },
   {
    "duration": 374,
    "start_time": "2021-07-13T17:17:06.060Z"
   },
   {
    "duration": 51,
    "start_time": "2021-07-13T17:17:06.437Z"
   },
   {
    "duration": 30,
    "start_time": "2021-07-13T17:17:06.491Z"
   },
   {
    "duration": 340,
    "start_time": "2021-07-13T17:17:06.523Z"
   },
   {
    "duration": 40,
    "start_time": "2021-07-13T17:17:06.865Z"
   },
   {
    "duration": 24,
    "start_time": "2021-07-13T17:17:06.907Z"
   },
   {
    "duration": 331,
    "start_time": "2021-07-13T17:17:06.956Z"
   },
   {
    "duration": 42,
    "start_time": "2021-07-13T17:17:07.290Z"
   },
   {
    "duration": 44,
    "start_time": "2021-07-13T17:17:07.334Z"
   },
   {
    "duration": 382,
    "start_time": "2021-07-13T17:17:07.381Z"
   },
   {
    "duration": 42,
    "start_time": "2021-07-13T17:17:07.765Z"
   },
   {
    "duration": 45,
    "start_time": "2021-07-13T17:17:07.810Z"
   },
   {
    "duration": 271,
    "start_time": "2021-07-13T17:17:07.858Z"
   },
   {
    "duration": 46,
    "start_time": "2021-07-13T17:17:08.132Z"
   },
   {
    "duration": 31,
    "start_time": "2021-07-13T17:17:08.180Z"
   },
   {
    "duration": 44,
    "start_time": "2021-07-13T17:17:08.213Z"
   },
   {
    "duration": 721,
    "start_time": "2021-07-13T17:17:08.260Z"
   },
   {
    "duration": 595,
    "start_time": "2021-07-13T17:17:08.984Z"
   },
   {
    "duration": 19,
    "start_time": "2021-07-13T17:17:09.582Z"
   },
   {
    "duration": 20,
    "start_time": "2021-07-13T17:17:09.604Z"
   },
   {
    "duration": 14,
    "start_time": "2021-07-13T17:17:18.568Z"
   },
   {
    "duration": 11,
    "start_time": "2021-07-13T17:17:36.400Z"
   },
   {
    "duration": 13,
    "start_time": "2021-07-13T17:17:41.113Z"
   },
   {
    "duration": 11,
    "start_time": "2021-07-13T17:18:03.192Z"
   },
   {
    "duration": 17,
    "start_time": "2021-07-13T17:18:37.396Z"
   },
   {
    "duration": 23,
    "start_time": "2021-07-13T17:19:37.340Z"
   },
   {
    "duration": 15,
    "start_time": "2021-07-13T17:20:58.606Z"
   },
   {
    "duration": 11,
    "start_time": "2021-07-13T17:22:27.956Z"
   },
   {
    "duration": 10,
    "start_time": "2021-07-13T17:22:28.503Z"
   },
   {
    "duration": 6,
    "start_time": "2021-07-13T17:22:28.840Z"
   },
   {
    "duration": 276,
    "start_time": "2021-07-13T17:29:46.818Z"
   },
   {
    "duration": 23,
    "start_time": "2021-07-13T17:30:00.220Z"
   },
   {
    "duration": 42,
    "start_time": "2021-07-13T17:31:18.960Z"
   },
   {
    "duration": 369,
    "start_time": "2021-07-13T17:31:42.807Z"
   },
   {
    "duration": 269,
    "start_time": "2021-07-13T17:32:04.197Z"
   },
   {
    "duration": 9,
    "start_time": "2021-07-13T17:32:14.377Z"
   },
   {
    "duration": 9,
    "start_time": "2021-07-13T17:32:24.440Z"
   },
   {
    "duration": 10,
    "start_time": "2021-07-13T17:32:37.267Z"
   },
   {
    "duration": 87,
    "start_time": "2021-07-13T17:33:20.198Z"
   },
   {
    "duration": 11,
    "start_time": "2021-07-13T17:34:38.818Z"
   },
   {
    "duration": 60,
    "start_time": "2021-07-13T17:36:50.868Z"
   },
   {
    "duration": 317,
    "start_time": "2021-07-13T17:40:55.516Z"
   },
   {
    "duration": 556,
    "start_time": "2021-07-13T17:41:32.447Z"
   },
   {
    "duration": 359,
    "start_time": "2021-07-13T17:41:36.934Z"
   },
   {
    "duration": 301,
    "start_time": "2021-07-13T17:41:54.223Z"
   },
   {
    "duration": 299,
    "start_time": "2021-07-13T17:42:13.506Z"
   },
   {
    "duration": 33,
    "start_time": "2021-07-13T17:42:52.548Z"
   },
   {
    "duration": 670,
    "start_time": "2021-07-13T17:50:09.916Z"
   },
   {
    "duration": 653,
    "start_time": "2021-07-13T17:53:02.223Z"
   },
   {
    "duration": 3,
    "start_time": "2021-07-13T17:53:32.458Z"
   },
   {
    "duration": 395,
    "start_time": "2021-07-13T17:53:40.701Z"
   },
   {
    "duration": 15,
    "start_time": "2021-07-13T17:55:05.678Z"
   },
   {
    "duration": 396,
    "start_time": "2021-07-13T17:55:08.090Z"
   },
   {
    "duration": 599,
    "start_time": "2021-07-13T18:00:36.963Z"
   },
   {
    "duration": 404,
    "start_time": "2021-07-13T18:03:21.939Z"
   },
   {
    "duration": 388,
    "start_time": "2021-07-13T18:03:27.703Z"
   },
   {
    "duration": 271,
    "start_time": "2021-07-13T18:09:47.977Z"
   },
   {
    "duration": 7,
    "start_time": "2021-07-13T18:10:08.202Z"
   },
   {
    "duration": 820,
    "start_time": "2021-07-13T18:10:24.009Z"
   },
   {
    "duration": 1076,
    "start_time": "2021-07-13T18:10:24.832Z"
   },
   {
    "duration": 178,
    "start_time": "2021-07-13T18:10:25.916Z"
   },
   {
    "duration": 27,
    "start_time": "2021-07-13T18:10:26.098Z"
   },
   {
    "duration": 166,
    "start_time": "2021-07-13T18:10:26.128Z"
   },
   {
    "duration": 120,
    "start_time": "2021-07-13T18:10:26.296Z"
   },
   {
    "duration": 139,
    "start_time": "2021-07-13T18:10:26.420Z"
   },
   {
    "duration": 119,
    "start_time": "2021-07-13T18:10:26.562Z"
   },
   {
    "duration": 20,
    "start_time": "2021-07-13T18:10:26.683Z"
   },
   {
    "duration": 594,
    "start_time": "2021-07-13T18:10:26.706Z"
   },
   {
    "duration": 15,
    "start_time": "2021-07-13T18:10:27.303Z"
   },
   {
    "duration": 66,
    "start_time": "2021-07-13T18:10:27.321Z"
   },
   {
    "duration": 538,
    "start_time": "2021-07-13T18:10:27.389Z"
   },
   {
    "duration": 29,
    "start_time": "2021-07-13T18:10:27.930Z"
   },
   {
    "duration": 80,
    "start_time": "2021-07-13T18:10:27.961Z"
   },
   {
    "duration": 8,
    "start_time": "2021-07-13T18:10:28.055Z"
   },
   {
    "duration": 368,
    "start_time": "2021-07-13T18:10:28.065Z"
   },
   {
    "duration": 50,
    "start_time": "2021-07-13T18:10:28.436Z"
   },
   {
    "duration": 30,
    "start_time": "2021-07-13T18:10:28.488Z"
   },
   {
    "duration": 354,
    "start_time": "2021-07-13T18:10:28.521Z"
   },
   {
    "duration": 41,
    "start_time": "2021-07-13T18:10:28.877Z"
   },
   {
    "duration": 28,
    "start_time": "2021-07-13T18:10:28.989Z"
   },
   {
    "duration": 337,
    "start_time": "2021-07-13T18:10:29.022Z"
   },
   {
    "duration": 43,
    "start_time": "2021-07-13T18:10:29.362Z"
   },
   {
    "duration": 50,
    "start_time": "2021-07-13T18:10:29.408Z"
   },
   {
    "duration": 388,
    "start_time": "2021-07-13T18:10:29.461Z"
   },
   {
    "duration": 42,
    "start_time": "2021-07-13T18:10:29.855Z"
   },
   {
    "duration": 32,
    "start_time": "2021-07-13T18:10:29.900Z"
   },
   {
    "duration": 278,
    "start_time": "2021-07-13T18:10:29.934Z"
   },
   {
    "duration": 50,
    "start_time": "2021-07-13T18:10:30.214Z"
   },
   {
    "duration": 45,
    "start_time": "2021-07-13T18:10:30.266Z"
   },
   {
    "duration": 32,
    "start_time": "2021-07-13T18:10:30.313Z"
   },
   {
    "duration": 534,
    "start_time": "2021-07-13T18:10:30.348Z"
   },
   {
    "duration": 586,
    "start_time": "2021-07-13T18:10:30.884Z"
   },
   {
    "duration": 18,
    "start_time": "2021-07-13T18:10:31.473Z"
   },
   {
    "duration": 29,
    "start_time": "2021-07-13T18:10:31.493Z"
   },
   {
    "duration": 35,
    "start_time": "2021-07-13T18:10:31.525Z"
   },
   {
    "duration": 17,
    "start_time": "2021-07-13T18:10:31.562Z"
   },
   {
    "duration": 21,
    "start_time": "2021-07-13T18:10:31.581Z"
   },
   {
    "duration": 22,
    "start_time": "2021-07-13T18:10:31.604Z"
   },
   {
    "duration": 15,
    "start_time": "2021-07-13T18:10:31.628Z"
   },
   {
    "duration": 19,
    "start_time": "2021-07-13T18:10:31.646Z"
   },
   {
    "duration": 8,
    "start_time": "2021-07-13T18:10:31.668Z"
   },
   {
    "duration": 653,
    "start_time": "2021-07-13T18:10:31.678Z"
   },
   {
    "duration": 23,
    "start_time": "2021-07-13T18:10:32.334Z"
   },
   {
    "duration": 17,
    "start_time": "2021-07-13T18:10:32.359Z"
   },
   {
    "duration": 21,
    "start_time": "2021-07-13T18:10:32.379Z"
   },
   {
    "duration": 19,
    "start_time": "2021-07-13T18:10:32.403Z"
   },
   {
    "duration": 19,
    "start_time": "2021-07-13T18:10:32.425Z"
   },
   {
    "duration": 410,
    "start_time": "2021-07-13T18:10:32.446Z"
   },
   {
    "duration": 17,
    "start_time": "2021-07-13T18:10:32.859Z"
   },
   {
    "duration": 41,
    "start_time": "2021-07-13T18:10:32.878Z"
   },
   {
    "duration": 46,
    "start_time": "2021-07-13T18:10:32.922Z"
   },
   {
    "duration": 551,
    "start_time": "2021-07-13T18:10:32.970Z"
   },
   {
    "duration": 34,
    "start_time": "2021-07-13T18:10:33.523Z"
   },
   {
    "duration": 290,
    "start_time": "2021-07-13T18:10:33.559Z"
   },
   {
    "duration": 65,
    "start_time": "2021-07-13T18:10:33.851Z"
   },
   {
    "duration": 75,
    "start_time": "2021-07-13T18:10:33.918Z"
   },
   {
    "duration": 60,
    "start_time": "2021-07-13T18:10:33.995Z"
   },
   {
    "duration": 14,
    "start_time": "2021-07-13T18:10:34.058Z"
   },
   {
    "duration": 9,
    "start_time": "2021-07-13T18:10:34.074Z"
   },
   {
    "duration": 652,
    "start_time": "2021-07-13T18:10:34.085Z"
   },
   {
    "duration": 6,
    "start_time": "2021-07-13T18:10:34.739Z"
   },
   {
    "duration": 33,
    "start_time": "2021-07-13T18:10:34.756Z"
   },
   {
    "duration": 408,
    "start_time": "2021-07-13T18:10:34.791Z"
   },
   {
    "duration": 399,
    "start_time": "2021-07-13T18:10:35.201Z"
   },
   {
    "duration": 6,
    "start_time": "2021-07-13T18:10:35.608Z"
   },
   {
    "duration": 46,
    "start_time": "2021-07-13T18:10:35.617Z"
   },
   {
    "duration": 44,
    "start_time": "2021-07-13T18:10:35.666Z"
   },
   {
    "duration": 10,
    "start_time": "2021-07-13T18:10:35.713Z"
   },
   {
    "duration": 63,
    "start_time": "2021-07-13T18:10:35.726Z"
   },
   {
    "duration": 35,
    "start_time": "2021-07-13T18:10:35.791Z"
   },
   {
    "duration": 54,
    "start_time": "2021-07-13T18:10:35.828Z"
   },
   {
    "duration": 18,
    "start_time": "2021-07-13T18:10:35.885Z"
   },
   {
    "duration": 114,
    "start_time": "2021-07-13T18:10:35.906Z"
   },
   {
    "duration": 345,
    "start_time": "2021-07-13T19:19:08.831Z"
   },
   {
    "duration": 200,
    "start_time": "2021-07-13T19:19:26.309Z"
   },
   {
    "duration": 4,
    "start_time": "2021-07-13T19:20:18.522Z"
   },
   {
    "duration": 977,
    "start_time": "2021-07-13T19:20:19.080Z"
   },
   {
    "duration": 153,
    "start_time": "2021-07-13T19:20:20.060Z"
   },
   {
    "duration": 22,
    "start_time": "2021-07-13T19:20:20.863Z"
   },
   {
    "duration": 506,
    "start_time": "2021-07-13T19:20:27.468Z"
   },
   {
    "duration": 388,
    "start_time": "2021-07-13T19:24:07.941Z"
   },
   {
    "duration": 266,
    "start_time": "2021-07-13T19:26:33.754Z"
   },
   {
    "duration": 6,
    "start_time": "2021-07-13T19:26:38.329Z"
   },
   {
    "duration": 294,
    "start_time": "2021-07-13T19:27:22.700Z"
   },
   {
    "duration": 505,
    "start_time": "2021-07-13T19:30:12.803Z"
   },
   {
    "duration": 281,
    "start_time": "2021-07-13T19:30:32.775Z"
   },
   {
    "duration": 280,
    "start_time": "2021-07-13T19:31:11.244Z"
   },
   {
    "duration": 362,
    "start_time": "2021-07-13T19:35:58.295Z"
   },
   {
    "duration": 349,
    "start_time": "2021-07-13T19:36:25.876Z"
   },
   {
    "duration": 6,
    "start_time": "2021-07-13T19:36:36.804Z"
   },
   {
    "duration": 503,
    "start_time": "2021-07-13T19:36:48.717Z"
   },
   {
    "duration": 3,
    "start_time": "2021-07-13T19:38:27.622Z"
   },
   {
    "duration": 1016,
    "start_time": "2021-07-13T19:38:28.220Z"
   },
   {
    "duration": 153,
    "start_time": "2021-07-13T19:38:29.763Z"
   },
   {
    "duration": 22,
    "start_time": "2021-07-13T19:38:30.739Z"
   },
   {
    "duration": 536,
    "start_time": "2021-07-13T19:38:32.995Z"
   },
   {
    "duration": 289,
    "start_time": "2021-07-13T19:38:34.203Z"
   },
   {
    "duration": 305,
    "start_time": "2021-07-13T19:38:38.406Z"
   },
   {
    "duration": 6,
    "start_time": "2021-07-13T19:38:39.522Z"
   },
   {
    "duration": 116,
    "start_time": "2021-07-13T19:38:45.068Z"
   },
   {
    "duration": 83,
    "start_time": "2021-07-13T19:38:45.644Z"
   },
   {
    "duration": 111,
    "start_time": "2021-07-13T19:38:46.133Z"
   },
   {
    "duration": 101,
    "start_time": "2021-07-13T19:38:46.764Z"
   },
   {
    "duration": 24,
    "start_time": "2021-07-13T19:38:57.613Z"
   },
   {
    "duration": 565,
    "start_time": "2021-07-13T19:39:00.354Z"
   },
   {
    "duration": 15,
    "start_time": "2021-07-13T19:39:06.567Z"
   },
   {
    "duration": 45,
    "start_time": "2021-07-13T19:39:07.597Z"
   },
   {
    "duration": 501,
    "start_time": "2021-07-13T19:39:13.732Z"
   },
   {
    "duration": 15,
    "start_time": "2021-07-13T19:39:20.309Z"
   },
   {
    "duration": 80,
    "start_time": "2021-07-13T19:39:23.306Z"
   },
   {
    "duration": 14,
    "start_time": "2021-07-13T19:39:24.845Z"
   },
   {
    "duration": 380,
    "start_time": "2021-07-13T19:39:30.443Z"
   },
   {
    "duration": 53,
    "start_time": "2021-07-13T19:39:32.057Z"
   },
   {
    "duration": 26,
    "start_time": "2021-07-13T19:39:35.731Z"
   },
   {
    "duration": 41,
    "start_time": "2021-07-13T19:39:55.241Z"
   },
   {
    "duration": 299,
    "start_time": "2021-07-13T19:40:08.685Z"
   },
   {
    "duration": 24,
    "start_time": "2021-07-13T19:40:09.517Z"
   },
   {
    "duration": 43,
    "start_time": "2021-07-13T19:40:10.342Z"
   },
   {
    "duration": 337,
    "start_time": "2021-07-13T19:40:18.462Z"
   },
   {
    "duration": 24,
    "start_time": "2021-07-13T19:40:19.267Z"
   },
   {
    "duration": 39,
    "start_time": "2021-07-13T19:40:19.965Z"
   },
   {
    "duration": 345,
    "start_time": "2021-07-13T19:40:25.232Z"
   },
   {
    "duration": 42,
    "start_time": "2021-07-13T19:40:36.487Z"
   },
   {
    "duration": 370,
    "start_time": "2021-07-13T19:40:55.894Z"
   },
   {
    "duration": 23,
    "start_time": "2021-07-13T19:41:10.318Z"
   },
   {
    "duration": 41,
    "start_time": "2021-07-13T19:41:11.306Z"
   },
   {
    "duration": 244,
    "start_time": "2021-07-13T19:41:24.733Z"
   },
   {
    "duration": 28,
    "start_time": "2021-07-13T19:41:25.941Z"
   },
   {
    "duration": 40,
    "start_time": "2021-07-13T19:41:26.814Z"
   },
   {
    "duration": 20,
    "start_time": "2021-07-13T19:41:34.769Z"
   },
   {
    "duration": 640,
    "start_time": "2021-07-13T19:41:42.006Z"
   },
   {
    "duration": 685,
    "start_time": "2021-07-13T19:41:47.199Z"
   },
   {
    "duration": 23,
    "start_time": "2021-07-13T19:41:52.070Z"
   },
   {
    "duration": 17,
    "start_time": "2021-07-13T19:41:53.373Z"
   },
   {
    "duration": 14,
    "start_time": "2021-07-13T19:41:57.415Z"
   },
   {
    "duration": 8,
    "start_time": "2021-07-13T19:42:13.814Z"
   },
   {
    "duration": 16,
    "start_time": "2021-07-13T19:42:16.464Z"
   },
   {
    "duration": 11,
    "start_time": "2021-07-13T19:42:38.954Z"
   },
   {
    "duration": 11,
    "start_time": "2021-07-13T19:42:39.380Z"
   },
   {
    "duration": 6,
    "start_time": "2021-07-13T19:42:39.750Z"
   },
   {
    "duration": 9,
    "start_time": "2021-07-13T19:42:41.970Z"
   },
   {
    "duration": 9,
    "start_time": "2021-07-13T19:42:42.561Z"
   },
   {
    "duration": 515,
    "start_time": "2021-07-13T19:42:43.676Z"
   },
   {
    "duration": 17,
    "start_time": "2021-07-13T19:42:51.905Z"
   },
   {
    "duration": 19,
    "start_time": "2021-07-13T19:43:32.711Z"
   },
   {
    "duration": 392,
    "start_time": "2021-07-13T19:43:35.446Z"
   },
   {
    "duration": 16,
    "start_time": "2021-07-13T19:43:42.983Z"
   },
   {
    "duration": 34,
    "start_time": "2021-07-13T19:43:49.879Z"
   },
   {
    "duration": 22,
    "start_time": "2021-07-13T19:43:54.422Z"
   },
   {
    "duration": 541,
    "start_time": "2021-07-13T19:43:56.091Z"
   },
   {
    "duration": 3582,
    "start_time": "2021-07-13T19:44:28.926Z"
   },
   {
    "duration": 622,
    "start_time": "2021-07-13T19:44:40.990Z"
   },
   {
    "duration": 446,
    "start_time": "2021-07-13T19:45:03.359Z"
   },
   {
    "duration": 20,
    "start_time": "2021-07-13T19:46:20.377Z"
   },
   {
    "duration": 11,
    "start_time": "2021-07-13T19:47:02.704Z"
   },
   {
    "duration": 41,
    "start_time": "2021-07-13T19:47:27.183Z"
   },
   {
    "duration": 11,
    "start_time": "2021-07-13T19:47:39.922Z"
   },
   {
    "duration": 12,
    "start_time": "2021-07-13T19:48:08.977Z"
   },
   {
    "duration": 28,
    "start_time": "2021-07-13T19:48:16.876Z"
   },
   {
    "duration": 19,
    "start_time": "2021-07-13T19:50:16.550Z"
   },
   {
    "duration": 274,
    "start_time": "2021-07-13T19:50:17.414Z"
   },
   {
    "duration": 56,
    "start_time": "2021-07-13T19:50:21.427Z"
   },
   {
    "duration": 56,
    "start_time": "2021-07-13T19:50:22.492Z"
   },
   {
    "duration": 49,
    "start_time": "2021-07-13T19:50:23.729Z"
   },
   {
    "duration": 13,
    "start_time": "2021-07-13T19:50:24.563Z"
   },
   {
    "duration": 9,
    "start_time": "2021-07-13T19:50:26.811Z"
   },
   {
    "duration": 843,
    "start_time": "2021-07-13T19:50:27.875Z"
   },
   {
    "duration": 7,
    "start_time": "2021-07-13T19:50:41.537Z"
   },
   {
    "duration": 32,
    "start_time": "2021-07-13T19:50:43.125Z"
   },
   {
    "duration": 581,
    "start_time": "2021-07-13T19:50:44.382Z"
   },
   {
    "duration": 411,
    "start_time": "2021-07-13T19:50:51.084Z"
   },
   {
    "duration": 7,
    "start_time": "2021-07-13T19:51:00.164Z"
   },
   {
    "duration": 20,
    "start_time": "2021-07-13T19:51:22.967Z"
   },
   {
    "duration": 35,
    "start_time": "2021-07-13T19:51:24.919Z"
   },
   {
    "duration": 6,
    "start_time": "2021-07-13T19:51:25.915Z"
   },
   {
    "duration": 36,
    "start_time": "2021-07-13T19:52:59.248Z"
   },
   {
    "duration": 34,
    "start_time": "2021-07-13T19:52:59.705Z"
   },
   {
    "duration": 33,
    "start_time": "2021-07-13T19:53:00.078Z"
   },
   {
    "duration": 18,
    "start_time": "2021-07-13T19:53:00.628Z"
   },
   {
    "duration": 97,
    "start_time": "2021-07-13T20:07:17.598Z"
   },
   {
    "duration": 4,
    "start_time": "2021-07-13T20:17:24.788Z"
   },
   {
    "duration": 5,
    "start_time": "2021-07-13T20:18:05.324Z"
   },
   {
    "duration": 4,
    "start_time": "2021-07-13T20:19:40.836Z"
   },
   {
    "duration": 3,
    "start_time": "2021-07-13T20:19:41.743Z"
   },
   {
    "duration": 100,
    "start_time": "2021-07-13T20:29:28.617Z"
   },
   {
    "duration": 249,
    "start_time": "2021-07-13T20:29:36.730Z"
   },
   {
    "duration": 3,
    "start_time": "2021-07-13T20:29:46.378Z"
   },
   {
    "duration": 4,
    "start_time": "2021-07-13T20:29:46.852Z"
   },
   {
    "duration": 4,
    "start_time": "2021-07-13T20:29:47.346Z"
   },
   {
    "duration": 3,
    "start_time": "2021-07-13T20:30:32.911Z"
   },
   {
    "duration": 508,
    "start_time": "2021-07-13T20:30:36.685Z"
   },
   {
    "duration": 181,
    "start_time": "2021-07-13T20:30:46.390Z"
   },
   {
    "duration": 60,
    "start_time": "2021-07-13T20:31:33.471Z"
   },
   {
    "duration": 325,
    "start_time": "2021-07-13T20:32:16.418Z"
   },
   {
    "duration": 6,
    "start_time": "2021-07-13T20:33:02.370Z"
   },
   {
    "duration": 4,
    "start_time": "2021-07-13T20:36:29.566Z"
   },
   {
    "duration": 19,
    "start_time": "2021-07-13T20:38:45.931Z"
   },
   {
    "duration": 27,
    "start_time": "2021-07-13T20:58:34.036Z"
   },
   {
    "duration": 6,
    "start_time": "2021-07-13T20:59:37.381Z"
   },
   {
    "duration": 279,
    "start_time": "2021-07-13T21:31:44.802Z"
   },
   {
    "duration": 39,
    "start_time": "2021-07-13T21:31:56.947Z"
   },
   {
    "duration": 174,
    "start_time": "2021-07-13T21:32:18.451Z"
   },
   {
    "duration": 19,
    "start_time": "2021-07-13T21:32:33.522Z"
   },
   {
    "duration": 1507,
    "start_time": "2021-07-13T21:37:27.836Z"
   },
   {
    "duration": 1111,
    "start_time": "2021-07-13T21:37:29.345Z"
   },
   {
    "duration": 171,
    "start_time": "2021-07-13T21:37:30.463Z"
   },
   {
    "duration": 37,
    "start_time": "2021-07-13T21:37:30.636Z"
   },
   {
    "duration": 815,
    "start_time": "2021-07-13T21:37:30.676Z"
   },
   {
    "duration": 498,
    "start_time": "2021-07-13T21:37:31.493Z"
   },
   {
    "duration": 526,
    "start_time": "2021-07-13T21:37:31.994Z"
   },
   {
    "duration": 7,
    "start_time": "2021-07-13T21:37:32.525Z"
   },
   {
    "duration": 264,
    "start_time": "2021-07-13T21:37:32.535Z"
   },
   {
    "duration": 154,
    "start_time": "2021-07-13T21:37:32.801Z"
   },
   {
    "duration": 180,
    "start_time": "2021-07-13T21:37:32.958Z"
   },
   {
    "duration": 123,
    "start_time": "2021-07-13T21:37:33.140Z"
   },
   {
    "duration": 22,
    "start_time": "2021-07-13T21:37:33.265Z"
   },
   {
    "duration": 578,
    "start_time": "2021-07-13T21:37:33.289Z"
   },
   {
    "duration": 17,
    "start_time": "2021-07-13T21:37:33.869Z"
   },
   {
    "duration": 69,
    "start_time": "2021-07-13T21:37:33.888Z"
   },
   {
    "duration": 553,
    "start_time": "2021-07-13T21:37:33.959Z"
   },
   {
    "duration": 16,
    "start_time": "2021-07-13T21:37:34.514Z"
   },
   {
    "duration": 113,
    "start_time": "2021-07-13T21:37:34.532Z"
   },
   {
    "duration": 11,
    "start_time": "2021-07-13T21:37:34.648Z"
   },
   {
    "duration": 348,
    "start_time": "2021-07-13T21:37:34.661Z"
   },
   {
    "duration": 43,
    "start_time": "2021-07-13T21:37:35.012Z"
   },
   {
    "duration": 43,
    "start_time": "2021-07-13T21:37:35.058Z"
   },
   {
    "duration": 331,
    "start_time": "2021-07-13T21:37:35.104Z"
   },
   {
    "duration": 29,
    "start_time": "2021-07-13T21:37:35.437Z"
   },
   {
    "duration": 39,
    "start_time": "2021-07-13T21:37:35.475Z"
   },
   {
    "duration": 328,
    "start_time": "2021-07-13T21:37:35.518Z"
   },
   {
    "duration": 29,
    "start_time": "2021-07-13T21:37:35.848Z"
   },
   {
    "duration": 44,
    "start_time": "2021-07-13T21:37:35.880Z"
   },
   {
    "duration": 383,
    "start_time": "2021-07-13T21:37:35.927Z"
   },
   {
    "duration": 387,
    "start_time": "2021-07-13T21:37:36.312Z"
   },
   {
    "duration": 23,
    "start_time": "2021-07-13T21:37:36.701Z"
   },
   {
    "duration": 58,
    "start_time": "2021-07-13T21:37:36.727Z"
   },
   {
    "duration": 268,
    "start_time": "2021-07-13T21:37:36.787Z"
   },
   {
    "duration": 27,
    "start_time": "2021-07-13T21:37:37.057Z"
   },
   {
    "duration": 81,
    "start_time": "2021-07-13T21:37:37.087Z"
   },
   {
    "duration": 21,
    "start_time": "2021-07-13T21:37:37.171Z"
   },
   {
    "duration": 576,
    "start_time": "2021-07-13T21:37:37.194Z"
   },
   {
    "duration": 664,
    "start_time": "2021-07-13T21:37:37.772Z"
   },
   {
    "duration": 27,
    "start_time": "2021-07-13T21:37:38.438Z"
   },
   {
    "duration": 18,
    "start_time": "2021-07-13T21:37:38.467Z"
   },
   {
    "duration": 11,
    "start_time": "2021-07-13T21:37:38.488Z"
   },
   {
    "duration": 9,
    "start_time": "2021-07-13T21:37:38.502Z"
   },
   {
    "duration": 9,
    "start_time": "2021-07-13T21:37:38.557Z"
   },
   {
    "duration": 17,
    "start_time": "2021-07-13T21:37:38.568Z"
   },
   {
    "duration": 221,
    "start_time": "2021-07-13T21:37:38.587Z"
   },
   {
    "duration": 213,
    "start_time": "2021-07-13T21:37:38.811Z"
   },
   {
    "duration": 5,
    "start_time": "2021-07-13T21:37:39.027Z"
   },
   {
    "duration": 24,
    "start_time": "2021-07-13T21:37:39.035Z"
   },
   {
    "duration": 11,
    "start_time": "2021-07-13T21:37:39.061Z"
   },
   {
    "duration": 676,
    "start_time": "2021-07-13T21:37:39.075Z"
   },
   {
    "duration": 20,
    "start_time": "2021-07-13T21:37:39.756Z"
   },
   {
    "duration": 418,
    "start_time": "2021-07-13T21:37:39.779Z"
   },
   {
    "duration": 17,
    "start_time": "2021-07-13T21:37:40.200Z"
   },
   {
    "duration": 62,
    "start_time": "2021-07-13T21:37:40.220Z"
   },
   {
    "duration": 24,
    "start_time": "2021-07-13T21:37:40.285Z"
   },
   {
    "duration": 546,
    "start_time": "2021-07-13T21:37:40.312Z"
   },
   {
    "duration": 20,
    "start_time": "2021-07-13T21:37:40.861Z"
   },
   {
    "duration": 19,
    "start_time": "2021-07-13T21:37:40.883Z"
   },
   {
    "duration": 319,
    "start_time": "2021-07-13T21:37:40.905Z"
   },
   {
    "duration": 68,
    "start_time": "2021-07-13T21:37:41.227Z"
   },
   {
    "duration": 69,
    "start_time": "2021-07-13T21:37:41.298Z"
   },
   {
    "duration": 12,
    "start_time": "2021-07-13T21:37:41.370Z"
   },
   {
    "duration": 46,
    "start_time": "2021-07-13T21:37:41.384Z"
   },
   {
    "duration": 30,
    "start_time": "2021-07-13T21:37:41.433Z"
   },
   {
    "duration": 10,
    "start_time": "2021-07-13T21:37:41.467Z"
   },
   {
    "duration": 733,
    "start_time": "2021-07-13T21:37:41.480Z"
   },
   {
    "duration": 6,
    "start_time": "2021-07-13T21:37:42.216Z"
   },
   {
    "duration": 54,
    "start_time": "2021-07-13T21:37:42.224Z"
   },
   {
    "duration": 407,
    "start_time": "2021-07-13T21:37:42.281Z"
   },
   {
    "duration": 409,
    "start_time": "2021-07-13T21:37:42.690Z"
   },
   {
    "duration": 35,
    "start_time": "2021-07-13T21:37:43.102Z"
   },
   {
    "duration": 49,
    "start_time": "2021-07-13T21:37:43.139Z"
   },
   {
    "duration": 5,
    "start_time": "2021-07-13T21:37:43.191Z"
   },
   {
    "duration": 64,
    "start_time": "2021-07-13T21:37:43.199Z"
   },
   {
    "duration": 36,
    "start_time": "2021-07-13T21:37:43.266Z"
   },
   {
    "duration": 61,
    "start_time": "2021-07-13T21:37:43.304Z"
   },
   {
    "duration": 20,
    "start_time": "2021-07-13T21:37:43.367Z"
   },
   {
    "duration": 113,
    "start_time": "2021-07-13T21:37:43.390Z"
   },
   {
    "duration": 3,
    "start_time": "2021-07-13T21:37:43.513Z"
   },
   {
    "duration": 6,
    "start_time": "2021-07-13T21:37:43.520Z"
   },
   {
    "duration": 12,
    "start_time": "2021-07-13T21:37:43.529Z"
   },
   {
    "duration": 205,
    "start_time": "2021-07-13T21:37:43.555Z"
   },
   {
    "duration": 68,
    "start_time": "2021-07-13T21:37:43.762Z"
   },
   {
    "duration": 4,
    "start_time": "2021-07-13T21:37:43.833Z"
   },
   {
    "duration": 5,
    "start_time": "2021-07-13T21:37:43.855Z"
   },
   {
    "duration": 34,
    "start_time": "2021-07-13T21:37:43.862Z"
   },
   {
    "duration": 194,
    "start_time": "2021-07-13T21:37:43.899Z"
   },
   {
    "duration": 16,
    "start_time": "2021-07-13T21:37:44.096Z"
   },
   {
    "duration": 5,
    "start_time": "2021-07-13T21:41:48.062Z"
   },
   {
    "duration": 5,
    "start_time": "2021-07-13T21:44:41.813Z"
   },
   {
    "duration": 4,
    "start_time": "2021-07-13T21:44:43.565Z"
   },
   {
    "duration": 516,
    "start_time": "2021-07-13T21:44:50.827Z"
   },
   {
    "duration": 1764,
    "start_time": "2021-07-14T07:03:23.301Z"
   },
   {
    "duration": 5,
    "start_time": "2021-07-14T07:03:55.154Z"
   },
   {
    "duration": 473,
    "start_time": "2021-07-14T07:03:55.971Z"
   },
   {
    "duration": 1497,
    "start_time": "2021-07-14T07:11:53.676Z"
   },
   {
    "duration": 1107,
    "start_time": "2021-07-14T07:11:55.176Z"
   },
   {
    "duration": 165,
    "start_time": "2021-07-14T07:11:56.286Z"
   },
   {
    "duration": 31,
    "start_time": "2021-07-14T07:11:56.454Z"
   },
   {
    "duration": 647,
    "start_time": "2021-07-14T07:11:56.487Z"
   },
   {
    "duration": 361,
    "start_time": "2021-07-14T07:11:57.137Z"
   },
   {
    "duration": 373,
    "start_time": "2021-07-14T07:11:57.500Z"
   },
   {
    "duration": 5,
    "start_time": "2021-07-14T07:11:57.875Z"
   },
   {
    "duration": 160,
    "start_time": "2021-07-14T07:11:57.883Z"
   },
   {
    "duration": 105,
    "start_time": "2021-07-14T07:11:58.046Z"
   },
   {
    "duration": 144,
    "start_time": "2021-07-14T07:11:58.153Z"
   },
   {
    "duration": 118,
    "start_time": "2021-07-14T07:11:58.299Z"
   },
   {
    "duration": 21,
    "start_time": "2021-07-14T07:11:58.420Z"
   },
   {
    "duration": 610,
    "start_time": "2021-07-14T07:11:58.444Z"
   },
   {
    "duration": 19,
    "start_time": "2021-07-14T07:11:59.056Z"
   },
   {
    "duration": 46,
    "start_time": "2021-07-14T07:11:59.078Z"
   },
   {
    "duration": 599,
    "start_time": "2021-07-14T07:11:59.126Z"
   },
   {
    "duration": 14,
    "start_time": "2021-07-14T07:11:59.728Z"
   },
   {
    "duration": 111,
    "start_time": "2021-07-14T07:11:59.744Z"
   },
   {
    "duration": 16,
    "start_time": "2021-07-14T07:11:59.857Z"
   },
   {
    "duration": 369,
    "start_time": "2021-07-14T07:11:59.875Z"
   },
   {
    "duration": 30,
    "start_time": "2021-07-14T07:12:00.246Z"
   },
   {
    "duration": 59,
    "start_time": "2021-07-14T07:12:00.278Z"
   },
   {
    "duration": 335,
    "start_time": "2021-07-14T07:12:00.340Z"
   },
   {
    "duration": 24,
    "start_time": "2021-07-14T07:12:00.677Z"
   },
   {
    "duration": 64,
    "start_time": "2021-07-14T07:12:00.703Z"
   },
   {
    "duration": 321,
    "start_time": "2021-07-14T07:12:00.775Z"
   },
   {
    "duration": 25,
    "start_time": "2021-07-14T07:12:01.100Z"
   },
   {
    "duration": 66,
    "start_time": "2021-07-14T07:12:01.127Z"
   },
   {
    "duration": 396,
    "start_time": "2021-07-14T07:12:01.195Z"
   },
   {
    "duration": 427,
    "start_time": "2021-07-14T07:12:01.593Z"
   },
   {
    "duration": 25,
    "start_time": "2021-07-14T07:12:02.023Z"
   },
   {
    "duration": 60,
    "start_time": "2021-07-14T07:12:02.051Z"
   },
   {
    "duration": 282,
    "start_time": "2021-07-14T07:12:02.113Z"
   },
   {
    "duration": 27,
    "start_time": "2021-07-14T07:12:02.397Z"
   },
   {
    "duration": 58,
    "start_time": "2021-07-14T07:12:02.426Z"
   },
   {
    "duration": 20,
    "start_time": "2021-07-14T07:12:02.487Z"
   },
   {
    "duration": 612,
    "start_time": "2021-07-14T07:12:02.509Z"
   },
   {
    "duration": 686,
    "start_time": "2021-07-14T07:12:03.124Z"
   },
   {
    "duration": 18,
    "start_time": "2021-07-14T07:12:03.813Z"
   },
   {
    "duration": 38,
    "start_time": "2021-07-14T07:12:03.833Z"
   },
   {
    "duration": 10,
    "start_time": "2021-07-14T07:12:03.873Z"
   },
   {
    "duration": 9,
    "start_time": "2021-07-14T07:12:03.886Z"
   },
   {
    "duration": 8,
    "start_time": "2021-07-14T07:12:03.897Z"
   },
   {
    "duration": 17,
    "start_time": "2021-07-14T07:12:03.907Z"
   },
   {
    "duration": 226,
    "start_time": "2021-07-14T07:12:03.967Z"
   },
   {
    "duration": 218,
    "start_time": "2021-07-14T07:12:04.196Z"
   },
   {
    "duration": 5,
    "start_time": "2021-07-14T07:12:04.416Z"
   },
   {
    "duration": 11,
    "start_time": "2021-07-14T07:12:04.424Z"
   },
   {
    "duration": 35,
    "start_time": "2021-07-14T07:12:04.437Z"
   },
   {
    "duration": 698,
    "start_time": "2021-07-14T07:12:04.474Z"
   },
   {
    "duration": 19,
    "start_time": "2021-07-14T07:12:05.174Z"
   },
   {
    "duration": 449,
    "start_time": "2021-07-14T07:12:05.195Z"
   },
   {
    "duration": 28,
    "start_time": "2021-07-14T07:12:05.647Z"
   },
   {
    "duration": 36,
    "start_time": "2021-07-14T07:12:05.677Z"
   },
   {
    "duration": 23,
    "start_time": "2021-07-14T07:12:05.715Z"
   },
   {
    "duration": 500,
    "start_time": "2021-07-14T07:12:05.740Z"
   },
   {
    "duration": 27,
    "start_time": "2021-07-14T07:12:06.242Z"
   },
   {
    "duration": 19,
    "start_time": "2021-07-14T07:12:06.272Z"
   },
   {
    "duration": 336,
    "start_time": "2021-07-14T07:12:06.293Z"
   },
   {
    "duration": 67,
    "start_time": "2021-07-14T07:12:06.631Z"
   },
   {
    "duration": 51,
    "start_time": "2021-07-14T07:12:06.700Z"
   },
   {
    "duration": 23,
    "start_time": "2021-07-14T07:12:06.754Z"
   },
   {
    "duration": 46,
    "start_time": "2021-07-14T07:12:06.780Z"
   },
   {
    "duration": 9,
    "start_time": "2021-07-14T07:12:06.828Z"
   },
   {
    "duration": 34,
    "start_time": "2021-07-14T07:12:06.839Z"
   },
   {
    "duration": 761,
    "start_time": "2021-07-14T07:12:06.876Z"
   },
   {
    "duration": 5,
    "start_time": "2021-07-14T07:12:07.639Z"
   },
   {
    "duration": 51,
    "start_time": "2021-07-14T07:12:07.646Z"
   },
   {
    "duration": 444,
    "start_time": "2021-07-14T07:12:07.699Z"
   },
   {
    "duration": 438,
    "start_time": "2021-07-14T07:12:08.147Z"
   },
   {
    "duration": 37,
    "start_time": "2021-07-14T07:12:08.589Z"
   },
   {
    "duration": 58,
    "start_time": "2021-07-14T07:12:08.629Z"
   },
   {
    "duration": 7,
    "start_time": "2021-07-14T07:12:08.690Z"
   },
   {
    "duration": 67,
    "start_time": "2021-07-14T07:12:08.700Z"
   },
   {
    "duration": 36,
    "start_time": "2021-07-14T07:12:08.770Z"
   },
   {
    "duration": 63,
    "start_time": "2021-07-14T07:12:08.809Z"
   },
   {
    "duration": 21,
    "start_time": "2021-07-14T07:12:08.874Z"
   },
   {
    "duration": 117,
    "start_time": "2021-07-14T07:12:08.898Z"
   },
   {
    "duration": 4,
    "start_time": "2021-07-14T07:12:09.017Z"
   },
   {
    "duration": 3,
    "start_time": "2021-07-14T07:12:09.030Z"
   },
   {
    "duration": 31,
    "start_time": "2021-07-14T07:12:09.036Z"
   },
   {
    "duration": 205,
    "start_time": "2021-07-14T07:12:09.069Z"
   },
   {
    "duration": 72,
    "start_time": "2021-07-14T07:12:09.276Z"
   },
   {
    "duration": 17,
    "start_time": "2021-07-14T07:12:09.351Z"
   },
   {
    "duration": 5,
    "start_time": "2021-07-14T07:12:09.371Z"
   },
   {
    "duration": 18,
    "start_time": "2021-07-14T07:12:09.378Z"
   },
   {
    "duration": 112,
    "start_time": "2021-07-14T07:12:09.398Z"
   },
   {
    "duration": 1414,
    "start_time": "2021-07-14T07:12:09.513Z"
   },
   {
    "duration": 2297,
    "start_time": "2021-07-14T07:12:08.633Z"
   },
   {
    "duration": 2296,
    "start_time": "2021-07-14T07:12:08.636Z"
   },
   {
    "duration": 2292,
    "start_time": "2021-07-14T07:12:08.641Z"
   },
   {
    "duration": 2290,
    "start_time": "2021-07-14T07:12:08.645Z"
   },
   {
    "duration": 2290,
    "start_time": "2021-07-14T07:12:08.647Z"
   },
   {
    "duration": 2288,
    "start_time": "2021-07-14T07:12:08.650Z"
   },
   {
    "duration": 142,
    "start_time": "2021-07-14T07:13:08.366Z"
   },
   {
    "duration": 384,
    "start_time": "2021-07-14T07:13:11.366Z"
   },
   {
    "duration": 4,
    "start_time": "2021-07-14T07:13:28.705Z"
   },
   {
    "duration": 1122,
    "start_time": "2021-07-14T07:13:28.712Z"
   },
   {
    "duration": 177,
    "start_time": "2021-07-14T07:13:29.837Z"
   },
   {
    "duration": 22,
    "start_time": "2021-07-14T07:13:30.017Z"
   },
   {
    "duration": 642,
    "start_time": "2021-07-14T07:13:30.041Z"
   },
   {
    "duration": 387,
    "start_time": "2021-07-14T07:13:30.685Z"
   },
   {
    "duration": 398,
    "start_time": "2021-07-14T07:13:31.075Z"
   },
   {
    "duration": 5,
    "start_time": "2021-07-14T07:13:31.477Z"
   },
   {
    "duration": 188,
    "start_time": "2021-07-14T07:13:31.485Z"
   },
   {
    "duration": 94,
    "start_time": "2021-07-14T07:13:31.676Z"
   },
   {
    "duration": 119,
    "start_time": "2021-07-14T07:13:31.773Z"
   },
   {
    "duration": 128,
    "start_time": "2021-07-14T07:13:31.894Z"
   },
   {
    "duration": 22,
    "start_time": "2021-07-14T07:13:32.024Z"
   },
   {
    "duration": 749,
    "start_time": "2021-07-14T07:13:32.049Z"
   },
   {
    "duration": 14,
    "start_time": "2021-07-14T07:13:32.800Z"
   },
   {
    "duration": 70,
    "start_time": "2021-07-14T07:13:32.816Z"
   },
   {
    "duration": 596,
    "start_time": "2021-07-14T07:13:32.889Z"
   },
   {
    "duration": 18,
    "start_time": "2021-07-14T07:13:33.488Z"
   },
   {
    "duration": 108,
    "start_time": "2021-07-14T07:13:33.509Z"
   },
   {
    "duration": 6,
    "start_time": "2021-07-14T07:13:33.620Z"
   },
   {
    "duration": 502,
    "start_time": "2021-07-14T07:13:33.629Z"
   },
   {
    "duration": 42,
    "start_time": "2021-07-14T07:13:34.133Z"
   },
   {
    "duration": 43,
    "start_time": "2021-07-14T07:13:34.181Z"
   },
   {
    "duration": 328,
    "start_time": "2021-07-14T07:13:34.228Z"
   },
   {
    "duration": 29,
    "start_time": "2021-07-14T07:13:34.558Z"
   },
   {
    "duration": 45,
    "start_time": "2021-07-14T07:13:34.590Z"
   },
   {
    "duration": 342,
    "start_time": "2021-07-14T07:13:34.638Z"
   },
   {
    "duration": 27,
    "start_time": "2021-07-14T07:13:34.983Z"
   },
   {
    "duration": 66,
    "start_time": "2021-07-14T07:13:35.012Z"
   },
   {
    "duration": 434,
    "start_time": "2021-07-14T07:13:35.081Z"
   },
   {
    "duration": 414,
    "start_time": "2021-07-14T07:13:35.518Z"
   },
   {
    "duration": 37,
    "start_time": "2021-07-14T07:13:35.935Z"
   },
   {
    "duration": 45,
    "start_time": "2021-07-14T07:13:35.974Z"
   },
   {
    "duration": 282,
    "start_time": "2021-07-14T07:13:36.022Z"
   },
   {
    "duration": 27,
    "start_time": "2021-07-14T07:13:36.306Z"
   },
   {
    "duration": 59,
    "start_time": "2021-07-14T07:13:36.335Z"
   },
   {
    "duration": 21,
    "start_time": "2021-07-14T07:13:36.396Z"
   },
   {
    "duration": 650,
    "start_time": "2021-07-14T07:13:36.419Z"
   },
   {
    "duration": 642,
    "start_time": "2021-07-14T07:13:37.072Z"
   },
   {
    "duration": 20,
    "start_time": "2021-07-14T07:13:37.717Z"
   },
   {
    "duration": 42,
    "start_time": "2021-07-14T07:13:37.740Z"
   },
   {
    "duration": 13,
    "start_time": "2021-07-14T07:13:37.785Z"
   },
   {
    "duration": 12,
    "start_time": "2021-07-14T07:13:37.801Z"
   },
   {
    "duration": 54,
    "start_time": "2021-07-14T07:13:37.816Z"
   },
   {
    "duration": 18,
    "start_time": "2021-07-14T07:13:37.873Z"
   },
   {
    "duration": 241,
    "start_time": "2021-07-14T07:13:37.894Z"
   },
   {
    "duration": 229,
    "start_time": "2021-07-14T07:13:38.137Z"
   },
   {
    "duration": 4,
    "start_time": "2021-07-14T07:13:38.369Z"
   },
   {
    "duration": 13,
    "start_time": "2021-07-14T07:13:38.376Z"
   },
   {
    "duration": 10,
    "start_time": "2021-07-14T07:13:38.392Z"
   },
   {
    "duration": 718,
    "start_time": "2021-07-14T07:13:38.404Z"
   },
   {
    "duration": 17,
    "start_time": "2021-07-14T07:13:39.125Z"
   },
   {
    "duration": 439,
    "start_time": "2021-07-14T07:13:39.144Z"
   },
   {
    "duration": 16,
    "start_time": "2021-07-14T07:13:39.586Z"
   },
   {
    "duration": 38,
    "start_time": "2021-07-14T07:13:39.604Z"
   },
   {
    "duration": 22,
    "start_time": "2021-07-14T07:13:39.668Z"
   },
   {
    "duration": 486,
    "start_time": "2021-07-14T07:13:39.692Z"
   },
   {
    "duration": 20,
    "start_time": "2021-07-14T07:13:40.181Z"
   },
   {
    "duration": 20,
    "start_time": "2021-07-14T07:13:40.203Z"
   },
   {
    "duration": 476,
    "start_time": "2021-07-14T07:13:40.225Z"
   },
   {
    "duration": 68,
    "start_time": "2021-07-14T07:13:40.704Z"
   },
   {
    "duration": 53,
    "start_time": "2021-07-14T07:13:40.774Z"
   },
   {
    "duration": 10,
    "start_time": "2021-07-14T07:13:40.830Z"
   },
   {
    "duration": 67,
    "start_time": "2021-07-14T07:13:40.842Z"
   },
   {
    "duration": 11,
    "start_time": "2021-07-14T07:13:40.912Z"
   },
   {
    "duration": 8,
    "start_time": "2021-07-14T07:13:40.925Z"
   },
   {
    "duration": 775,
    "start_time": "2021-07-14T07:13:40.935Z"
   },
   {
    "duration": 6,
    "start_time": "2021-07-14T07:13:41.718Z"
   },
   {
    "duration": 55,
    "start_time": "2021-07-14T07:13:41.727Z"
   },
   {
    "duration": 425,
    "start_time": "2021-07-14T07:13:41.785Z"
   },
   {
    "duration": 454,
    "start_time": "2021-07-14T07:13:42.213Z"
   },
   {
    "duration": 38,
    "start_time": "2021-07-14T07:13:42.669Z"
   },
   {
    "duration": 58,
    "start_time": "2021-07-14T07:13:42.709Z"
   },
   {
    "duration": 5,
    "start_time": "2021-07-14T07:13:42.770Z"
   },
   {
    "duration": 53,
    "start_time": "2021-07-14T07:13:42.778Z"
   },
   {
    "duration": 44,
    "start_time": "2021-07-14T07:13:42.833Z"
   },
   {
    "duration": 34,
    "start_time": "2021-07-14T07:13:42.880Z"
   },
   {
    "duration": 17,
    "start_time": "2021-07-14T07:13:42.916Z"
   },
   {
    "duration": 118,
    "start_time": "2021-07-14T07:13:42.936Z"
   },
   {
    "duration": 3,
    "start_time": "2021-07-14T07:13:43.067Z"
   },
   {
    "duration": 7,
    "start_time": "2021-07-14T07:13:43.072Z"
   },
   {
    "duration": 7,
    "start_time": "2021-07-14T07:13:43.081Z"
   },
   {
    "duration": 218,
    "start_time": "2021-07-14T07:13:43.091Z"
   },
   {
    "duration": 84,
    "start_time": "2021-07-14T07:13:43.312Z"
   },
   {
    "duration": 5,
    "start_time": "2021-07-14T07:13:43.399Z"
   },
   {
    "duration": 7,
    "start_time": "2021-07-14T07:13:43.406Z"
   },
   {
    "duration": 4,
    "start_time": "2021-07-14T07:13:45.612Z"
   },
   {
    "duration": 139,
    "start_time": "2021-07-14T07:13:46.217Z"
   },
   {
    "duration": 1043,
    "start_time": "2021-07-14T07:13:47.546Z"
   },
   {
    "duration": 32,
    "start_time": "2021-07-14T07:13:56.306Z"
   },
   {
    "duration": 170,
    "start_time": "2021-07-14T07:13:58.529Z"
   },
   {
    "duration": 24,
    "start_time": "2021-07-14T07:13:59.871Z"
   },
   {
    "duration": 29,
    "start_time": "2021-07-14T07:14:18.069Z"
   },
   {
    "duration": 4,
    "start_time": "2021-07-14T07:14:27.211Z"
   },
   {
    "duration": 4,
    "start_time": "2021-07-14T07:14:34.272Z"
   },
   {
    "duration": 339,
    "start_time": "2021-07-14T07:14:36.661Z"
   },
   {
    "duration": 1509,
    "start_time": "2021-07-14T07:18:08.866Z"
   },
   {
    "duration": 1118,
    "start_time": "2021-07-14T07:18:10.378Z"
   },
   {
    "duration": 174,
    "start_time": "2021-07-14T07:18:11.499Z"
   },
   {
    "duration": 27,
    "start_time": "2021-07-14T07:18:11.675Z"
   },
   {
    "duration": 681,
    "start_time": "2021-07-14T07:18:11.705Z"
   },
   {
    "duration": 362,
    "start_time": "2021-07-14T07:18:12.388Z"
   },
   {
    "duration": 370,
    "start_time": "2021-07-14T07:18:12.752Z"
   },
   {
    "duration": 4,
    "start_time": "2021-07-14T07:18:13.125Z"
   },
   {
    "duration": 168,
    "start_time": "2021-07-14T07:18:13.133Z"
   },
   {
    "duration": 109,
    "start_time": "2021-07-14T07:18:13.305Z"
   },
   {
    "duration": 159,
    "start_time": "2021-07-14T07:18:13.416Z"
   },
   {
    "duration": 116,
    "start_time": "2021-07-14T07:18:13.577Z"
   },
   {
    "duration": 21,
    "start_time": "2021-07-14T07:18:13.696Z"
   },
   {
    "duration": 636,
    "start_time": "2021-07-14T07:18:13.720Z"
   },
   {
    "duration": 21,
    "start_time": "2021-07-14T07:18:14.358Z"
   },
   {
    "duration": 46,
    "start_time": "2021-07-14T07:18:14.381Z"
   },
   {
    "duration": 586,
    "start_time": "2021-07-14T07:18:14.429Z"
   },
   {
    "duration": 15,
    "start_time": "2021-07-14T07:18:15.017Z"
   },
   {
    "duration": 114,
    "start_time": "2021-07-14T07:18:15.034Z"
   },
   {
    "duration": 6,
    "start_time": "2021-07-14T07:18:15.150Z"
   },
   {
    "duration": 349,
    "start_time": "2021-07-14T07:18:15.168Z"
   },
   {
    "duration": 26,
    "start_time": "2021-07-14T07:18:15.519Z"
   },
   {
    "duration": 57,
    "start_time": "2021-07-14T07:18:15.548Z"
   },
   {
    "duration": 332,
    "start_time": "2021-07-14T07:18:15.608Z"
   },
   {
    "duration": 29,
    "start_time": "2021-07-14T07:18:15.942Z"
   },
   {
    "duration": 40,
    "start_time": "2021-07-14T07:18:15.974Z"
   },
   {
    "duration": 336,
    "start_time": "2021-07-14T07:18:16.021Z"
   },
   {
    "duration": 25,
    "start_time": "2021-07-14T07:18:16.368Z"
   },
   {
    "duration": 42,
    "start_time": "2021-07-14T07:18:16.395Z"
   },
   {
    "duration": 484,
    "start_time": "2021-07-14T07:18:16.439Z"
   },
   {
    "duration": 417,
    "start_time": "2021-07-14T07:18:16.925Z"
   },
   {
    "duration": 29,
    "start_time": "2021-07-14T07:18:17.344Z"
   },
   {
    "duration": 43,
    "start_time": "2021-07-14T07:18:17.375Z"
   },
   {
    "duration": 278,
    "start_time": "2021-07-14T07:18:17.421Z"
   },
   {
    "duration": 27,
    "start_time": "2021-07-14T07:18:17.702Z"
   },
   {
    "duration": 56,
    "start_time": "2021-07-14T07:18:17.731Z"
   },
   {
    "duration": 21,
    "start_time": "2021-07-14T07:18:17.789Z"
   },
   {
    "duration": 822,
    "start_time": "2021-07-14T07:18:17.812Z"
   },
   {
    "duration": 698,
    "start_time": "2021-07-14T07:18:18.636Z"
   },
   {
    "duration": 18,
    "start_time": "2021-07-14T07:18:19.336Z"
   },
   {
    "duration": 16,
    "start_time": "2021-07-14T07:18:19.368Z"
   },
   {
    "duration": 5,
    "start_time": "2021-07-14T07:18:19.386Z"
   },
   {
    "duration": 21,
    "start_time": "2021-07-14T07:18:19.393Z"
   },
   {
    "duration": 8,
    "start_time": "2021-07-14T07:18:19.416Z"
   },
   {
    "duration": 48,
    "start_time": "2021-07-14T07:18:19.426Z"
   },
   {
    "duration": 10,
    "start_time": "2021-07-14T07:18:19.477Z"
   },
   {
    "duration": 14,
    "start_time": "2021-07-14T07:18:19.490Z"
   },
   {
    "duration": 14,
    "start_time": "2021-07-14T07:18:19.506Z"
   },
   {
    "duration": 10,
    "start_time": "2021-07-14T07:18:19.522Z"
   },
   {
    "duration": 37,
    "start_time": "2021-07-14T07:18:19.535Z"
   },
   {
    "duration": 607,
    "start_time": "2021-07-14T07:18:19.574Z"
   },
   {
    "duration": 20,
    "start_time": "2021-07-14T07:18:20.184Z"
   },
   {
    "duration": 448,
    "start_time": "2021-07-14T07:18:20.206Z"
   },
   {
    "duration": 24,
    "start_time": "2021-07-14T07:18:20.657Z"
   },
   {
    "duration": 37,
    "start_time": "2021-07-14T07:18:20.684Z"
   },
   {
    "duration": 61,
    "start_time": "2021-07-14T07:18:20.723Z"
   },
   {
    "duration": 483,
    "start_time": "2021-07-14T07:18:20.787Z"
   },
   {
    "duration": 20,
    "start_time": "2021-07-14T07:18:21.273Z"
   },
   {
    "duration": 21,
    "start_time": "2021-07-14T07:18:21.295Z"
   },
   {
    "duration": 342,
    "start_time": "2021-07-14T07:18:21.319Z"
   },
   {
    "duration": 55,
    "start_time": "2021-07-14T07:18:21.663Z"
   },
   {
    "duration": 74,
    "start_time": "2021-07-14T07:18:21.720Z"
   },
   {
    "duration": 3,
    "start_time": "2021-07-14T07:18:21.796Z"
   },
   {
    "duration": 68,
    "start_time": "2021-07-14T07:18:21.801Z"
   },
   {
    "duration": 13,
    "start_time": "2021-07-14T07:18:21.871Z"
   },
   {
    "duration": 8,
    "start_time": "2021-07-14T07:18:21.886Z"
   },
   {
    "duration": 613,
    "start_time": "2021-07-14T07:18:21.897Z"
   },
   {
    "duration": 5,
    "start_time": "2021-07-14T07:18:22.512Z"
   },
   {
    "duration": 50,
    "start_time": "2021-07-14T07:18:22.520Z"
   },
   {
    "duration": 424,
    "start_time": "2021-07-14T07:18:22.573Z"
   },
   {
    "duration": 438,
    "start_time": "2021-07-14T07:18:23.000Z"
   },
   {
    "duration": 43,
    "start_time": "2021-07-14T07:18:23.440Z"
   },
   {
    "duration": 35,
    "start_time": "2021-07-14T07:18:23.486Z"
   },
   {
    "duration": 5,
    "start_time": "2021-07-14T07:18:23.523Z"
   },
   {
    "duration": 64,
    "start_time": "2021-07-14T07:18:23.531Z"
   },
   {
    "duration": 33,
    "start_time": "2021-07-14T07:18:23.598Z"
   },
   {
    "duration": 53,
    "start_time": "2021-07-14T07:18:23.634Z"
   },
   {
    "duration": 19,
    "start_time": "2021-07-14T07:18:23.689Z"
   },
   {
    "duration": 124,
    "start_time": "2021-07-14T07:18:23.710Z"
   },
   {
    "duration": 16,
    "start_time": "2021-07-14T07:18:23.837Z"
   },
   {
    "duration": 19,
    "start_time": "2021-07-14T07:18:23.862Z"
   },
   {
    "duration": 15,
    "start_time": "2021-07-14T07:18:23.883Z"
   },
   {
    "duration": 215,
    "start_time": "2021-07-14T07:18:23.901Z"
   },
   {
    "duration": 78,
    "start_time": "2021-07-14T07:18:24.119Z"
   },
   {
    "duration": 4,
    "start_time": "2021-07-14T07:18:24.200Z"
   },
   {
    "duration": 10,
    "start_time": "2021-07-14T07:18:24.206Z"
   },
   {
    "duration": 7,
    "start_time": "2021-07-14T07:18:24.219Z"
   },
   {
    "duration": 192,
    "start_time": "2021-07-14T07:18:24.229Z"
   },
   {
    "duration": 1058,
    "start_time": "2021-07-14T07:18:24.423Z"
   },
   {
    "duration": 31,
    "start_time": "2021-07-14T07:18:25.484Z"
   },
   {
    "duration": 191,
    "start_time": "2021-07-14T07:18:25.517Z"
   },
   {
    "duration": 19,
    "start_time": "2021-07-14T07:18:25.710Z"
   },
   {
    "duration": 49,
    "start_time": "2021-07-14T07:18:25.731Z"
   },
   {
    "duration": 4,
    "start_time": "2021-07-14T07:18:25.782Z"
   },
   {
    "duration": 6,
    "start_time": "2021-07-14T07:18:25.788Z"
   },
   {
    "duration": 1874,
    "start_time": "2021-07-14T07:18:25.796Z"
   },
   {
    "duration": 1575,
    "start_time": "2021-07-14T07:20:20.500Z"
   },
   {
    "duration": 1440,
    "start_time": "2021-07-14T07:21:00.229Z"
   },
   {
    "duration": 5,
    "start_time": "2021-07-14T07:22:28.080Z"
   },
   {
    "duration": 4,
    "start_time": "2021-07-14T07:22:30.929Z"
   },
   {
    "duration": 1777,
    "start_time": "2021-07-14T07:22:31.397Z"
   },
   {
    "duration": 8542,
    "start_time": "2021-07-14T07:22:45.431Z"
   },
   {
    "duration": 12173,
    "start_time": "2021-07-14T07:25:16.299Z"
   },
   {
    "duration": 80694,
    "start_time": "2021-07-14T07:25:52.700Z"
   },
   {
    "duration": 353,
    "start_time": "2021-07-14T07:32:04.352Z"
   },
   {
    "duration": 229,
    "start_time": "2021-07-14T07:32:23.277Z"
   },
   {
    "duration": 4,
    "start_time": "2021-07-14T07:32:38.077Z"
   },
   {
    "duration": 11326,
    "start_time": "2021-07-14T07:32:40.448Z"
   },
   {
    "duration": 4,
    "start_time": "2021-07-14T07:48:25.636Z"
   },
   {
    "duration": 15141,
    "start_time": "2021-07-14T07:48:26.641Z"
   },
   {
    "duration": 1562,
    "start_time": "2021-07-14T07:49:15.593Z"
   },
   {
    "duration": 1106,
    "start_time": "2021-07-14T07:49:17.158Z"
   },
   {
    "duration": 164,
    "start_time": "2021-07-14T07:49:18.268Z"
   },
   {
    "duration": 35,
    "start_time": "2021-07-14T07:49:18.435Z"
   },
   {
    "duration": 732,
    "start_time": "2021-07-14T07:49:18.472Z"
   },
   {
    "duration": 372,
    "start_time": "2021-07-14T07:49:19.207Z"
   },
   {
    "duration": 398,
    "start_time": "2021-07-14T07:49:19.581Z"
   },
   {
    "duration": 5,
    "start_time": "2021-07-14T07:49:19.982Z"
   },
   {
    "duration": 160,
    "start_time": "2021-07-14T07:49:19.990Z"
   },
   {
    "duration": 121,
    "start_time": "2021-07-14T07:49:20.153Z"
   },
   {
    "duration": 132,
    "start_time": "2021-07-14T07:49:20.276Z"
   },
   {
    "duration": 123,
    "start_time": "2021-07-14T07:49:20.411Z"
   },
   {
    "duration": 34,
    "start_time": "2021-07-14T07:49:20.537Z"
   },
   {
    "duration": 614,
    "start_time": "2021-07-14T07:49:20.573Z"
   },
   {
    "duration": 14,
    "start_time": "2021-07-14T07:49:21.190Z"
   },
   {
    "duration": 65,
    "start_time": "2021-07-14T07:49:21.207Z"
   },
   {
    "duration": 669,
    "start_time": "2021-07-14T07:49:21.275Z"
   },
   {
    "duration": 29,
    "start_time": "2021-07-14T07:49:21.947Z"
   },
   {
    "duration": 109,
    "start_time": "2021-07-14T07:49:21.978Z"
   },
   {
    "duration": 7,
    "start_time": "2021-07-14T07:49:22.089Z"
   },
   {
    "duration": 361,
    "start_time": "2021-07-14T07:49:22.099Z"
   },
   {
    "duration": 25,
    "start_time": "2021-07-14T07:49:22.467Z"
   },
   {
    "duration": 41,
    "start_time": "2021-07-14T07:49:22.498Z"
   },
   {
    "duration": 339,
    "start_time": "2021-07-14T07:49:22.543Z"
   },
   {
    "duration": 28,
    "start_time": "2021-07-14T07:49:22.885Z"
   },
   {
    "duration": 76,
    "start_time": "2021-07-14T07:49:22.916Z"
   },
   {
    "duration": 321,
    "start_time": "2021-07-14T07:49:22.995Z"
   },
   {
    "duration": 25,
    "start_time": "2021-07-14T07:49:23.319Z"
   },
   {
    "duration": 55,
    "start_time": "2021-07-14T07:49:23.346Z"
   },
   {
    "duration": 397,
    "start_time": "2021-07-14T07:49:23.403Z"
   },
   {
    "duration": 416,
    "start_time": "2021-07-14T07:49:23.803Z"
   },
   {
    "duration": 25,
    "start_time": "2021-07-14T07:49:24.222Z"
   },
   {
    "duration": 56,
    "start_time": "2021-07-14T07:49:24.250Z"
   },
   {
    "duration": 297,
    "start_time": "2021-07-14T07:49:24.308Z"
   },
   {
    "duration": 26,
    "start_time": "2021-07-14T07:49:24.608Z"
   },
   {
    "duration": 61,
    "start_time": "2021-07-14T07:49:24.637Z"
   },
   {
    "duration": 20,
    "start_time": "2021-07-14T07:49:24.700Z"
   },
   {
    "duration": 587,
    "start_time": "2021-07-14T07:49:24.723Z"
   },
   {
    "duration": 704,
    "start_time": "2021-07-14T07:49:25.313Z"
   },
   {
    "duration": 19,
    "start_time": "2021-07-14T07:49:26.019Z"
   },
   {
    "duration": 34,
    "start_time": "2021-07-14T07:49:26.040Z"
   },
   {
    "duration": 3,
    "start_time": "2021-07-14T07:49:26.077Z"
   },
   {
    "duration": 18,
    "start_time": "2021-07-14T07:49:26.082Z"
   },
   {
    "duration": 7,
    "start_time": "2021-07-14T07:49:26.102Z"
   },
   {
    "duration": 57,
    "start_time": "2021-07-14T07:49:26.112Z"
   },
   {
    "duration": 11,
    "start_time": "2021-07-14T07:49:26.171Z"
   },
   {
    "duration": 11,
    "start_time": "2021-07-14T07:49:26.185Z"
   },
   {
    "duration": 6,
    "start_time": "2021-07-14T07:49:26.199Z"
   },
   {
    "duration": 11,
    "start_time": "2021-07-14T07:49:26.208Z"
   },
   {
    "duration": 49,
    "start_time": "2021-07-14T07:49:26.221Z"
   },
   {
    "duration": 567,
    "start_time": "2021-07-14T07:49:26.273Z"
   },
   {
    "duration": 30,
    "start_time": "2021-07-14T07:49:26.842Z"
   },
   {
    "duration": 425,
    "start_time": "2021-07-14T07:49:26.874Z"
   },
   {
    "duration": 15,
    "start_time": "2021-07-14T07:49:27.301Z"
   },
   {
    "duration": 58,
    "start_time": "2021-07-14T07:49:27.318Z"
   },
   {
    "duration": 23,
    "start_time": "2021-07-14T07:49:27.378Z"
   },
   {
    "duration": 477,
    "start_time": "2021-07-14T07:49:27.404Z"
   },
   {
    "duration": 20,
    "start_time": "2021-07-14T07:49:27.883Z"
   },
   {
    "duration": 19,
    "start_time": "2021-07-14T07:49:27.905Z"
   },
   {
    "duration": 342,
    "start_time": "2021-07-14T07:49:27.927Z"
   },
   {
    "duration": 58,
    "start_time": "2021-07-14T07:49:28.272Z"
   },
   {
    "duration": 74,
    "start_time": "2021-07-14T07:49:28.333Z"
   },
   {
    "duration": 4,
    "start_time": "2021-07-14T07:49:28.410Z"
   },
   {
    "duration": 77,
    "start_time": "2021-07-14T07:49:28.417Z"
   },
   {
    "duration": 14,
    "start_time": "2021-07-14T07:49:28.497Z"
   },
   {
    "duration": 10,
    "start_time": "2021-07-14T07:49:28.514Z"
   },
   {
    "duration": 616,
    "start_time": "2021-07-14T07:49:28.527Z"
   },
   {
    "duration": 15,
    "start_time": "2021-07-14T07:49:29.154Z"
   },
   {
    "duration": 34,
    "start_time": "2021-07-14T07:49:29.173Z"
   },
   {
    "duration": 544,
    "start_time": "2021-07-14T07:49:29.210Z"
   },
   {
    "duration": 459,
    "start_time": "2021-07-14T07:49:29.757Z"
   },
   {
    "duration": 54,
    "start_time": "2021-07-14T07:49:30.219Z"
   },
   {
    "duration": 38,
    "start_time": "2021-07-14T07:49:30.275Z"
   },
   {
    "duration": 6,
    "start_time": "2021-07-14T07:49:30.315Z"
   },
   {
    "duration": 70,
    "start_time": "2021-07-14T07:49:30.324Z"
   },
   {
    "duration": 36,
    "start_time": "2021-07-14T07:49:30.396Z"
   },
   {
    "duration": 53,
    "start_time": "2021-07-14T07:49:30.435Z"
   },
   {
    "duration": 18,
    "start_time": "2021-07-14T07:49:30.490Z"
   },
   {
    "duration": 116,
    "start_time": "2021-07-14T07:49:30.510Z"
   },
   {
    "duration": 4,
    "start_time": "2021-07-14T07:49:30.628Z"
   },
   {
    "duration": 10,
    "start_time": "2021-07-14T07:49:30.634Z"
   },
   {
    "duration": 21,
    "start_time": "2021-07-14T07:49:30.646Z"
   },
   {
    "duration": 196,
    "start_time": "2021-07-14T07:49:30.670Z"
   },
   {
    "duration": 65,
    "start_time": "2021-07-14T07:49:30.869Z"
   },
   {
    "duration": 4,
    "start_time": "2021-07-14T07:49:30.937Z"
   },
   {
    "duration": 25,
    "start_time": "2021-07-14T07:49:30.944Z"
   },
   {
    "duration": 9,
    "start_time": "2021-07-14T07:49:30.971Z"
   },
   {
    "duration": 157,
    "start_time": "2021-07-14T07:49:30.982Z"
   },
   {
    "duration": 1059,
    "start_time": "2021-07-14T07:49:31.142Z"
   },
   {
    "duration": 30,
    "start_time": "2021-07-14T07:49:32.203Z"
   },
   {
    "duration": 5,
    "start_time": "2021-07-14T07:49:32.237Z"
   },
   {
    "duration": 6,
    "start_time": "2021-07-14T07:49:32.268Z"
   },
   {
    "duration": 11802,
    "start_time": "2021-07-14T07:49:32.276Z"
   },
   {
    "duration": 366,
    "start_time": "2021-07-14T07:51:20.644Z"
   },
   {
    "duration": 214,
    "start_time": "2021-07-14T07:52:13.503Z"
   },
   {
    "duration": 1462,
    "start_time": "2021-07-14T07:52:35.819Z"
   },
   {
    "duration": 1082,
    "start_time": "2021-07-14T07:52:37.284Z"
   },
   {
    "duration": 170,
    "start_time": "2021-07-14T07:52:38.372Z"
   },
   {
    "duration": 49,
    "start_time": "2021-07-14T07:52:38.545Z"
   },
   {
    "duration": 640,
    "start_time": "2021-07-14T07:52:38.596Z"
   },
   {
    "duration": 366,
    "start_time": "2021-07-14T07:52:39.238Z"
   },
   {
    "duration": 385,
    "start_time": "2021-07-14T07:52:39.606Z"
   },
   {
    "duration": 5,
    "start_time": "2021-07-14T07:52:39.995Z"
   },
   {
    "duration": 168,
    "start_time": "2021-07-14T07:52:40.003Z"
   },
   {
    "duration": 107,
    "start_time": "2021-07-14T07:52:40.173Z"
   },
   {
    "duration": 130,
    "start_time": "2021-07-14T07:52:40.283Z"
   },
   {
    "duration": 120,
    "start_time": "2021-07-14T07:52:40.416Z"
   },
   {
    "duration": 33,
    "start_time": "2021-07-14T07:52:40.538Z"
   },
   {
    "duration": 602,
    "start_time": "2021-07-14T07:52:40.573Z"
   },
   {
    "duration": 14,
    "start_time": "2021-07-14T07:52:41.177Z"
   },
   {
    "duration": 46,
    "start_time": "2021-07-14T07:52:41.193Z"
   },
   {
    "duration": 619,
    "start_time": "2021-07-14T07:52:41.241Z"
   },
   {
    "duration": 15,
    "start_time": "2021-07-14T07:52:41.866Z"
   },
   {
    "duration": 113,
    "start_time": "2021-07-14T07:52:41.883Z"
   },
   {
    "duration": 8,
    "start_time": "2021-07-14T07:52:41.998Z"
   },
   {
    "duration": 364,
    "start_time": "2021-07-14T07:52:42.008Z"
   },
   {
    "duration": 26,
    "start_time": "2021-07-14T07:52:42.374Z"
   },
   {
    "duration": 56,
    "start_time": "2021-07-14T07:52:42.402Z"
   },
   {
    "duration": 316,
    "start_time": "2021-07-14T07:52:42.466Z"
   },
   {
    "duration": 25,
    "start_time": "2021-07-14T07:52:42.784Z"
   },
   {
    "duration": 57,
    "start_time": "2021-07-14T07:52:42.815Z"
   },
   {
    "duration": 325,
    "start_time": "2021-07-14T07:52:42.876Z"
   },
   {
    "duration": 25,
    "start_time": "2021-07-14T07:52:43.204Z"
   },
   {
    "duration": 60,
    "start_time": "2021-07-14T07:52:43.232Z"
   },
   {
    "duration": 379,
    "start_time": "2021-07-14T07:52:43.294Z"
   },
   {
    "duration": 414,
    "start_time": "2021-07-14T07:52:43.676Z"
   },
   {
    "duration": 26,
    "start_time": "2021-07-14T07:52:44.092Z"
   },
   {
    "duration": 56,
    "start_time": "2021-07-14T07:52:44.121Z"
   },
   {
    "duration": 279,
    "start_time": "2021-07-14T07:52:44.180Z"
   },
   {
    "duration": 27,
    "start_time": "2021-07-14T07:52:44.462Z"
   },
   {
    "duration": 40,
    "start_time": "2021-07-14T07:52:44.491Z"
   },
   {
    "duration": 47,
    "start_time": "2021-07-14T07:52:44.533Z"
   },
   {
    "duration": 588,
    "start_time": "2021-07-14T07:52:44.582Z"
   },
   {
    "duration": 673,
    "start_time": "2021-07-14T07:52:45.172Z"
   },
   {
    "duration": 30,
    "start_time": "2021-07-14T07:52:45.848Z"
   },
   {
    "duration": 17,
    "start_time": "2021-07-14T07:52:45.881Z"
   },
   {
    "duration": 3,
    "start_time": "2021-07-14T07:52:45.901Z"
   },
   {
    "duration": 20,
    "start_time": "2021-07-14T07:52:45.906Z"
   },
   {
    "duration": 39,
    "start_time": "2021-07-14T07:52:45.929Z"
   },
   {
    "duration": 15,
    "start_time": "2021-07-14T07:52:45.971Z"
   },
   {
    "duration": 11,
    "start_time": "2021-07-14T07:52:45.989Z"
   },
   {
    "duration": 11,
    "start_time": "2021-07-14T07:52:46.002Z"
   },
   {
    "duration": 5,
    "start_time": "2021-07-14T07:52:46.016Z"
   },
   {
    "duration": 47,
    "start_time": "2021-07-14T07:52:46.023Z"
   },
   {
    "duration": 9,
    "start_time": "2021-07-14T07:52:46.072Z"
   },
   {
    "duration": 691,
    "start_time": "2021-07-14T07:52:46.083Z"
   },
   {
    "duration": 19,
    "start_time": "2021-07-14T07:52:46.777Z"
   },
   {
    "duration": 455,
    "start_time": "2021-07-14T07:52:46.798Z"
   },
   {
    "duration": 20,
    "start_time": "2021-07-14T07:52:47.255Z"
   },
   {
    "duration": 36,
    "start_time": "2021-07-14T07:52:47.278Z"
   },
   {
    "duration": 51,
    "start_time": "2021-07-14T07:52:47.317Z"
   },
   {
    "duration": 466,
    "start_time": "2021-07-14T07:52:47.371Z"
   },
   {
    "duration": 28,
    "start_time": "2021-07-14T07:52:47.840Z"
   },
   {
    "duration": 19,
    "start_time": "2021-07-14T07:52:47.870Z"
   },
   {
    "duration": 324,
    "start_time": "2021-07-14T07:52:47.892Z"
   },
   {
    "duration": 65,
    "start_time": "2021-07-14T07:52:48.219Z"
   },
   {
    "duration": 52,
    "start_time": "2021-07-14T07:52:48.286Z"
   },
   {
    "duration": 3,
    "start_time": "2021-07-14T07:52:48.340Z"
   },
   {
    "duration": 70,
    "start_time": "2021-07-14T07:52:48.345Z"
   },
   {
    "duration": 13,
    "start_time": "2021-07-14T07:52:48.418Z"
   },
   {
    "duration": 33,
    "start_time": "2021-07-14T07:52:48.434Z"
   },
   {
    "duration": 622,
    "start_time": "2021-07-14T07:52:48.470Z"
   },
   {
    "duration": 11,
    "start_time": "2021-07-14T07:52:49.095Z"
   },
   {
    "duration": 43,
    "start_time": "2021-07-14T07:52:49.109Z"
   },
   {
    "duration": 433,
    "start_time": "2021-07-14T07:52:49.154Z"
   },
   {
    "duration": 433,
    "start_time": "2021-07-14T07:52:49.589Z"
   },
   {
    "duration": 48,
    "start_time": "2021-07-14T07:52:50.025Z"
   },
   {
    "duration": 35,
    "start_time": "2021-07-14T07:52:50.075Z"
   },
   {
    "duration": 5,
    "start_time": "2021-07-14T07:52:50.113Z"
   },
   {
    "duration": 62,
    "start_time": "2021-07-14T07:52:50.121Z"
   },
   {
    "duration": 34,
    "start_time": "2021-07-14T07:52:50.185Z"
   },
   {
    "duration": 49,
    "start_time": "2021-07-14T07:52:50.221Z"
   },
   {
    "duration": 18,
    "start_time": "2021-07-14T07:52:50.272Z"
   },
   {
    "duration": 115,
    "start_time": "2021-07-14T07:52:50.292Z"
   },
   {
    "duration": 4,
    "start_time": "2021-07-14T07:52:50.416Z"
   },
   {
    "duration": 6,
    "start_time": "2021-07-14T07:52:50.423Z"
   },
   {
    "duration": 10,
    "start_time": "2021-07-14T07:52:50.432Z"
   },
   {
    "duration": 191,
    "start_time": "2021-07-14T07:52:50.466Z"
   },
   {
    "duration": 71,
    "start_time": "2021-07-14T07:52:50.659Z"
   },
   {
    "duration": 6,
    "start_time": "2021-07-14T07:52:50.733Z"
   },
   {
    "duration": 29,
    "start_time": "2021-07-14T07:52:50.742Z"
   },
   {
    "duration": 6,
    "start_time": "2021-07-14T07:52:50.774Z"
   },
   {
    "duration": 168,
    "start_time": "2021-07-14T07:52:50.782Z"
   },
   {
    "duration": 1091,
    "start_time": "2021-07-14T07:52:50.953Z"
   },
   {
    "duration": 40,
    "start_time": "2021-07-14T07:52:52.046Z"
   },
   {
    "duration": 5,
    "start_time": "2021-07-14T07:52:52.088Z"
   },
   {
    "duration": 6,
    "start_time": "2021-07-14T07:52:52.096Z"
   },
   {
    "duration": 13365,
    "start_time": "2021-07-14T07:52:52.104Z"
   },
   {
    "duration": 352,
    "start_time": "2021-07-14T07:54:44.462Z"
   },
   {
    "duration": 343,
    "start_time": "2021-07-14T07:56:35.169Z"
   },
   {
    "duration": 32,
    "start_time": "2021-07-14T07:56:48.612Z"
   },
   {
    "duration": 4,
    "start_time": "2021-07-14T07:58:44.065Z"
   },
   {
    "duration": 10295,
    "start_time": "2021-07-14T07:58:46.478Z"
   },
   {
    "duration": 320,
    "start_time": "2021-07-14T08:02:05.679Z"
   },
   {
    "duration": 329,
    "start_time": "2021-07-14T09:16:15.201Z"
   },
   {
    "duration": 1502,
    "start_time": "2021-07-14T09:16:27.210Z"
   },
   {
    "duration": 1374,
    "start_time": "2021-07-14T09:16:28.714Z"
   },
   {
    "duration": 261,
    "start_time": "2021-07-14T09:16:30.091Z"
   },
   {
    "duration": 33,
    "start_time": "2021-07-14T09:16:30.369Z"
   },
   {
    "duration": 790,
    "start_time": "2021-07-14T09:16:30.404Z"
   },
   {
    "duration": 402,
    "start_time": "2021-07-14T09:16:31.197Z"
   },
   {
    "duration": 431,
    "start_time": "2021-07-14T09:16:31.601Z"
   },
   {
    "duration": 6,
    "start_time": "2021-07-14T09:16:32.034Z"
   },
   {
    "duration": 176,
    "start_time": "2021-07-14T09:16:32.044Z"
   },
   {
    "duration": 124,
    "start_time": "2021-07-14T09:16:32.223Z"
   },
   {
    "duration": 154,
    "start_time": "2021-07-14T09:16:32.349Z"
   },
   {
    "duration": 130,
    "start_time": "2021-07-14T09:16:32.506Z"
   },
   {
    "duration": 34,
    "start_time": "2021-07-14T09:16:32.638Z"
   },
   {
    "duration": 618,
    "start_time": "2021-07-14T09:16:32.674Z"
   },
   {
    "duration": 16,
    "start_time": "2021-07-14T09:16:33.295Z"
   },
   {
    "duration": 79,
    "start_time": "2021-07-14T09:16:33.314Z"
   },
   {
    "duration": 708,
    "start_time": "2021-07-14T09:16:33.396Z"
   },
   {
    "duration": 15,
    "start_time": "2021-07-14T09:16:34.107Z"
   },
   {
    "duration": 123,
    "start_time": "2021-07-14T09:16:34.124Z"
   },
   {
    "duration": 8,
    "start_time": "2021-07-14T09:16:34.249Z"
   },
   {
    "duration": 386,
    "start_time": "2021-07-14T09:16:34.268Z"
   },
   {
    "duration": 39,
    "start_time": "2021-07-14T09:16:34.657Z"
   },
   {
    "duration": 47,
    "start_time": "2021-07-14T09:16:34.699Z"
   },
   {
    "duration": 363,
    "start_time": "2021-07-14T09:16:34.749Z"
   },
   {
    "duration": 25,
    "start_time": "2021-07-14T09:16:35.114Z"
   },
   {
    "duration": 66,
    "start_time": "2021-07-14T09:16:35.141Z"
   },
   {
    "duration": 357,
    "start_time": "2021-07-14T09:16:35.214Z"
   },
   {
    "duration": 27,
    "start_time": "2021-07-14T09:16:35.577Z"
   },
   {
    "duration": 66,
    "start_time": "2021-07-14T09:16:35.606Z"
   },
   {
    "duration": 432,
    "start_time": "2021-07-14T09:16:35.674Z"
   },
   {
    "duration": 455,
    "start_time": "2021-07-14T09:16:36.108Z"
   },
   {
    "duration": 32,
    "start_time": "2021-07-14T09:16:36.567Z"
   },
   {
    "duration": 65,
    "start_time": "2021-07-14T09:16:36.602Z"
   },
   {
    "duration": 291,
    "start_time": "2021-07-14T09:16:36.670Z"
   },
   {
    "duration": 38,
    "start_time": "2021-07-14T09:16:36.963Z"
   },
   {
    "duration": 66,
    "start_time": "2021-07-14T09:16:37.003Z"
   },
   {
    "duration": 25,
    "start_time": "2021-07-14T09:16:37.071Z"
   },
   {
    "duration": 615,
    "start_time": "2021-07-14T09:16:37.099Z"
   },
   {
    "duration": 740,
    "start_time": "2021-07-14T09:16:37.717Z"
   },
   {
    "duration": 25,
    "start_time": "2021-07-14T09:16:38.460Z"
   },
   {
    "duration": 21,
    "start_time": "2021-07-14T09:16:38.488Z"
   },
   {
    "duration": 3,
    "start_time": "2021-07-14T09:16:38.511Z"
   },
   {
    "duration": 59,
    "start_time": "2021-07-14T09:16:38.516Z"
   },
   {
    "duration": 9,
    "start_time": "2021-07-14T09:16:38.578Z"
   },
   {
    "duration": 27,
    "start_time": "2021-07-14T09:16:38.589Z"
   },
   {
    "duration": 14,
    "start_time": "2021-07-14T09:16:38.618Z"
   },
   {
    "duration": 32,
    "start_time": "2021-07-14T09:16:38.635Z"
   },
   {
    "duration": 6,
    "start_time": "2021-07-14T09:16:38.670Z"
   },
   {
    "duration": 23,
    "start_time": "2021-07-14T09:16:38.678Z"
   },
   {
    "duration": 26,
    "start_time": "2021-07-14T09:16:38.703Z"
   },
   {
    "duration": 624,
    "start_time": "2021-07-14T09:16:38.731Z"
   },
   {
    "duration": 29,
    "start_time": "2021-07-14T09:16:39.358Z"
   },
   {
    "duration": 467,
    "start_time": "2021-07-14T09:16:39.389Z"
   },
   {
    "duration": 22,
    "start_time": "2021-07-14T09:16:39.858Z"
   },
   {
    "duration": 42,
    "start_time": "2021-07-14T09:16:39.883Z"
   },
   {
    "duration": 59,
    "start_time": "2021-07-14T09:16:39.927Z"
   },
   {
    "duration": 483,
    "start_time": "2021-07-14T09:16:39.988Z"
   },
   {
    "duration": 26,
    "start_time": "2021-07-14T09:16:40.474Z"
   },
   {
    "duration": 23,
    "start_time": "2021-07-14T09:16:40.504Z"
   },
   {
    "duration": 356,
    "start_time": "2021-07-14T09:16:40.530Z"
   },
   {
    "duration": 98,
    "start_time": "2021-07-14T09:16:40.889Z"
   },
   {
    "duration": 54,
    "start_time": "2021-07-14T09:16:40.989Z"
   },
   {
    "duration": 3,
    "start_time": "2021-07-14T09:16:41.045Z"
   },
   {
    "duration": 52,
    "start_time": "2021-07-14T09:16:41.068Z"
   },
   {
    "duration": 14,
    "start_time": "2021-07-14T09:16:41.123Z"
   },
   {
    "duration": 14,
    "start_time": "2021-07-14T09:16:41.168Z"
   },
   {
    "duration": 605,
    "start_time": "2021-07-14T09:16:41.186Z"
   },
   {
    "duration": 7,
    "start_time": "2021-07-14T09:16:41.794Z"
   },
   {
    "duration": 37,
    "start_time": "2021-07-14T09:16:41.804Z"
   },
   {
    "duration": 451,
    "start_time": "2021-07-14T09:16:41.870Z"
   },
   {
    "duration": 454,
    "start_time": "2021-07-14T09:16:42.324Z"
   },
   {
    "duration": 42,
    "start_time": "2021-07-14T09:16:42.781Z"
   },
   {
    "duration": 74,
    "start_time": "2021-07-14T09:16:42.826Z"
   },
   {
    "duration": 6,
    "start_time": "2021-07-14T09:16:42.902Z"
   },
   {
    "duration": 42,
    "start_time": "2021-07-14T09:16:42.911Z"
   },
   {
    "duration": 45,
    "start_time": "2021-07-14T09:16:42.956Z"
   },
   {
    "duration": 41,
    "start_time": "2021-07-14T09:16:43.005Z"
   },
   {
    "duration": 24,
    "start_time": "2021-07-14T09:16:43.067Z"
   },
   {
    "duration": 128,
    "start_time": "2021-07-14T09:16:43.094Z"
   },
   {
    "duration": 4,
    "start_time": "2021-07-14T09:16:43.225Z"
   },
   {
    "duration": 4,
    "start_time": "2021-07-14T09:16:43.237Z"
   },
   {
    "duration": 25,
    "start_time": "2021-07-14T09:16:43.244Z"
   },
   {
    "duration": 222,
    "start_time": "2021-07-14T09:16:43.273Z"
   },
   {
    "duration": 76,
    "start_time": "2021-07-14T09:16:43.498Z"
   },
   {
    "duration": 7,
    "start_time": "2021-07-14T09:16:43.576Z"
   },
   {
    "duration": 20,
    "start_time": "2021-07-14T09:16:43.586Z"
   },
   {
    "duration": 6,
    "start_time": "2021-07-14T09:16:43.609Z"
   },
   {
    "duration": 181,
    "start_time": "2021-07-14T09:16:43.618Z"
   },
   {
    "duration": 1259,
    "start_time": "2021-07-14T09:16:43.802Z"
   },
   {
    "duration": 34,
    "start_time": "2021-07-14T09:16:45.063Z"
   },
   {
    "duration": 4,
    "start_time": "2021-07-14T09:16:45.100Z"
   },
   {
    "duration": 7,
    "start_time": "2021-07-14T09:16:45.106Z"
   },
   {
    "duration": 324157,
    "start_time": "2021-07-14T09:16:45.116Z"
   },
   {
    "duration": 483,
    "start_time": "2021-07-14T09:22:09.276Z"
   },
   {
    "duration": 1291,
    "start_time": "2021-07-14T09:23:35.677Z"
   },
   {
    "duration": 1834,
    "start_time": "2021-07-14T09:23:49.151Z"
   },
   {
    "duration": 6,
    "start_time": "2021-07-14T09:24:05.495Z"
   },
   {
    "duration": 5,
    "start_time": "2021-07-14T09:43:49.225Z"
   },
   {
    "duration": 135,
    "start_time": "2021-07-14T09:45:05.597Z"
   },
   {
    "duration": 6,
    "start_time": "2021-07-14T09:45:10.462Z"
   },
   {
    "duration": 5,
    "start_time": "2021-07-14T09:45:12.426Z"
   },
   {
    "duration": 613220,
    "start_time": "2021-07-14T09:45:14.555Z"
   },
   {
    "duration": 1988,
    "start_time": "2021-07-14T09:55:27.779Z"
   },
   {
    "duration": 5,
    "start_time": "2021-07-14T09:55:29.770Z"
   },
   {
    "duration": 4,
    "start_time": "2021-07-14T10:07:51.030Z"
   },
   {
    "duration": 4,
    "start_time": "2021-07-14T10:07:51.804Z"
   },
   {
    "duration": 84099,
    "start_time": "2021-07-14T10:07:52.598Z"
   },
   {
    "duration": 1613,
    "start_time": "2021-07-14T10:09:23.485Z"
   },
   {
    "duration": 11,
    "start_time": "2021-07-14T10:09:25.875Z"
   },
   {
    "duration": 5,
    "start_time": "2021-07-14T10:09:41.547Z"
   },
   {
    "duration": 5,
    "start_time": "2021-07-14T10:18:42.316Z"
   },
   {
    "duration": 5,
    "start_time": "2021-07-14T10:18:43.292Z"
   },
   {
    "duration": 21799,
    "start_time": "2021-07-14T10:18:44.378Z"
   },
   {
    "duration": 1501,
    "start_time": "2021-07-14T10:19:06.181Z"
   },
   {
    "duration": 5,
    "start_time": "2021-07-14T10:19:07.685Z"
   },
   {
    "duration": 6,
    "start_time": "2021-07-14T10:28:08.752Z"
   },
   {
    "duration": 5,
    "start_time": "2021-07-14T10:28:19.163Z"
   },
   {
    "duration": 415,
    "start_time": "2021-07-14T10:29:05.713Z"
   },
   {
    "duration": 339,
    "start_time": "2021-07-14T10:31:37.347Z"
   },
   {
    "duration": 879,
    "start_time": "2021-07-14T10:31:43.801Z"
   },
   {
    "duration": 691,
    "start_time": "2021-07-14T10:31:47.778Z"
   },
   {
    "duration": 691,
    "start_time": "2021-07-14T10:31:56.204Z"
   },
   {
    "duration": 6,
    "start_time": "2021-07-14T10:32:13.771Z"
   },
   {
    "duration": 655,
    "start_time": "2021-07-14T10:32:43.721Z"
   },
   {
    "duration": 7,
    "start_time": "2021-07-14T10:33:52.614Z"
   },
   {
    "duration": 646,
    "start_time": "2021-07-14T10:33:57.121Z"
   },
   {
    "duration": 311,
    "start_time": "2021-07-14T10:36:15.334Z"
   },
   {
    "duration": 591,
    "start_time": "2021-07-14T10:36:19.366Z"
   },
   {
    "duration": 6,
    "start_time": "2021-07-14T10:37:45.871Z"
   },
   {
    "duration": 560,
    "start_time": "2021-07-14T10:37:50.307Z"
   },
   {
    "duration": 724,
    "start_time": "2021-07-14T10:39:56.546Z"
   },
   {
    "duration": 102,
    "start_time": "2021-07-14T10:44:56.314Z"
   },
   {
    "duration": 7,
    "start_time": "2021-07-14T10:45:10.576Z"
   },
   {
    "duration": 16,
    "start_time": "2021-07-14T10:46:02.435Z"
   },
   {
    "duration": 868,
    "start_time": "2021-07-14T10:47:41.478Z"
   },
   {
    "duration": 343,
    "start_time": "2021-07-14T10:47:50.540Z"
   },
   {
    "duration": 376,
    "start_time": "2021-07-14T10:48:00.410Z"
   },
   {
    "duration": 21,
    "start_time": "2021-07-14T10:49:27.317Z"
   },
   {
    "duration": 103,
    "start_time": "2021-07-14T10:50:30.456Z"
   },
   {
    "duration": 10,
    "start_time": "2021-07-14T10:51:33.575Z"
   },
   {
    "duration": 15,
    "start_time": "2021-07-14T10:51:41.845Z"
   },
   {
    "duration": 67,
    "start_time": "2021-07-14T11:43:29.961Z"
   },
   {
    "duration": 4,
    "start_time": "2021-07-14T11:44:21.288Z"
   },
   {
    "duration": 3,
    "start_time": "2021-07-14T11:44:31.522Z"
   },
   {
    "duration": 4,
    "start_time": "2021-07-14T11:50:10.705Z"
   },
   {
    "duration": 118,
    "start_time": "2021-07-14T11:50:12.253Z"
   },
   {
    "duration": 834,
    "start_time": "2021-07-14T11:50:19.615Z"
   },
   {
    "duration": 955,
    "start_time": "2021-07-14T11:50:27.476Z"
   },
   {
    "duration": 349,
    "start_time": "2021-07-14T11:50:48.602Z"
   },
   {
    "duration": 3,
    "start_time": "2021-07-14T11:51:16.003Z"
   },
   {
    "duration": 8561,
    "start_time": "2021-07-14T11:51:20.283Z"
   },
   {
    "duration": 1588,
    "start_time": "2021-07-14T11:55:45.550Z"
   },
   {
    "duration": 1115,
    "start_time": "2021-07-14T11:55:47.141Z"
   },
   {
    "duration": 169,
    "start_time": "2021-07-14T11:55:48.260Z"
   },
   {
    "duration": 40,
    "start_time": "2021-07-14T11:55:48.433Z"
   },
   {
    "duration": 677,
    "start_time": "2021-07-14T11:55:48.476Z"
   },
   {
    "duration": 378,
    "start_time": "2021-07-14T11:55:49.156Z"
   },
   {
    "duration": 395,
    "start_time": "2021-07-14T11:55:49.537Z"
   },
   {
    "duration": 6,
    "start_time": "2021-07-14T11:55:49.935Z"
   },
   {
    "duration": 167,
    "start_time": "2021-07-14T11:55:49.944Z"
   },
   {
    "duration": 110,
    "start_time": "2021-07-14T11:55:50.114Z"
   },
   {
    "duration": 144,
    "start_time": "2021-07-14T11:55:50.226Z"
   },
   {
    "duration": 117,
    "start_time": "2021-07-14T11:55:50.372Z"
   },
   {
    "duration": 21,
    "start_time": "2021-07-14T11:55:50.492Z"
   },
   {
    "duration": 604,
    "start_time": "2021-07-14T11:55:50.515Z"
   },
   {
    "duration": 15,
    "start_time": "2021-07-14T11:55:51.121Z"
   },
   {
    "duration": 61,
    "start_time": "2021-07-14T11:55:51.138Z"
   },
   {
    "duration": 562,
    "start_time": "2021-07-14T11:55:51.201Z"
   },
   {
    "duration": 16,
    "start_time": "2021-07-14T11:55:51.766Z"
   },
   {
    "duration": 110,
    "start_time": "2021-07-14T11:55:51.784Z"
   },
   {
    "duration": 8,
    "start_time": "2021-07-14T11:55:51.896Z"
   },
   {
    "duration": 362,
    "start_time": "2021-07-14T11:55:51.906Z"
   },
   {
    "duration": 24,
    "start_time": "2021-07-14T11:55:52.271Z"
   },
   {
    "duration": 42,
    "start_time": "2021-07-14T11:55:52.301Z"
   },
   {
    "duration": 315,
    "start_time": "2021-07-14T11:55:52.367Z"
   },
   {
    "duration": 25,
    "start_time": "2021-07-14T11:55:52.684Z"
   },
   {
    "duration": 57,
    "start_time": "2021-07-14T11:55:52.711Z"
   },
   {
    "duration": 320,
    "start_time": "2021-07-14T11:55:52.770Z"
   },
   {
    "duration": 25,
    "start_time": "2021-07-14T11:55:53.092Z"
   },
   {
    "duration": 57,
    "start_time": "2021-07-14T11:55:53.119Z"
   },
   {
    "duration": 384,
    "start_time": "2021-07-14T11:55:53.178Z"
   },
   {
    "duration": 417,
    "start_time": "2021-07-14T11:55:53.564Z"
   },
   {
    "duration": 25,
    "start_time": "2021-07-14T11:55:53.983Z"
   },
   {
    "duration": 59,
    "start_time": "2021-07-14T11:55:54.010Z"
   },
   {
    "duration": 274,
    "start_time": "2021-07-14T11:55:54.071Z"
   },
   {
    "duration": 30,
    "start_time": "2021-07-14T11:55:54.347Z"
   },
   {
    "duration": 40,
    "start_time": "2021-07-14T11:55:54.379Z"
   },
   {
    "duration": 21,
    "start_time": "2021-07-14T11:55:54.421Z"
   },
   {
    "duration": 573,
    "start_time": "2021-07-14T11:55:54.468Z"
   },
   {
    "duration": 683,
    "start_time": "2021-07-14T11:55:55.044Z"
   },
   {
    "duration": 17,
    "start_time": "2021-07-14T11:55:55.729Z"
   },
   {
    "duration": 34,
    "start_time": "2021-07-14T11:55:55.748Z"
   },
   {
    "duration": 3,
    "start_time": "2021-07-14T11:55:55.784Z"
   },
   {
    "duration": 22,
    "start_time": "2021-07-14T11:55:55.789Z"
   },
   {
    "duration": 7,
    "start_time": "2021-07-14T11:55:55.813Z"
   },
   {
    "duration": 47,
    "start_time": "2021-07-14T11:55:55.822Z"
   },
   {
    "duration": 11,
    "start_time": "2021-07-14T11:55:55.871Z"
   },
   {
    "duration": 18,
    "start_time": "2021-07-14T11:55:55.884Z"
   },
   {
    "duration": 9,
    "start_time": "2021-07-14T11:55:55.905Z"
   },
   {
    "duration": 12,
    "start_time": "2021-07-14T11:55:55.917Z"
   },
   {
    "duration": 9,
    "start_time": "2021-07-14T11:55:55.932Z"
   },
   {
    "duration": 565,
    "start_time": "2021-07-14T11:55:55.943Z"
   },
   {
    "duration": 19,
    "start_time": "2021-07-14T11:55:56.510Z"
   },
   {
    "duration": 452,
    "start_time": "2021-07-14T11:55:56.532Z"
   },
   {
    "duration": 17,
    "start_time": "2021-07-14T11:55:56.986Z"
   },
   {
    "duration": 38,
    "start_time": "2021-07-14T11:55:57.005Z"
   },
   {
    "duration": 23,
    "start_time": "2021-07-14T11:55:57.067Z"
   },
   {
    "duration": 471,
    "start_time": "2021-07-14T11:55:57.092Z"
   },
   {
    "duration": 19,
    "start_time": "2021-07-14T11:55:57.568Z"
   },
   {
    "duration": 20,
    "start_time": "2021-07-14T11:55:57.589Z"
   },
   {
    "duration": 327,
    "start_time": "2021-07-14T11:55:57.611Z"
   },
   {
    "duration": 70,
    "start_time": "2021-07-14T11:55:57.940Z"
   },
   {
    "duration": 65,
    "start_time": "2021-07-14T11:55:58.013Z"
   },
   {
    "duration": 3,
    "start_time": "2021-07-14T11:55:58.080Z"
   },
   {
    "duration": 59,
    "start_time": "2021-07-14T11:55:58.085Z"
   },
   {
    "duration": 27,
    "start_time": "2021-07-14T11:55:58.147Z"
   },
   {
    "duration": 9,
    "start_time": "2021-07-14T11:55:58.176Z"
   },
   {
    "duration": 585,
    "start_time": "2021-07-14T11:55:58.187Z"
   },
   {
    "duration": 6,
    "start_time": "2021-07-14T11:55:58.780Z"
   },
   {
    "duration": 44,
    "start_time": "2021-07-14T11:55:58.789Z"
   },
   {
    "duration": 435,
    "start_time": "2021-07-14T11:55:58.836Z"
   },
   {
    "duration": 430,
    "start_time": "2021-07-14T11:55:59.274Z"
   },
   {
    "duration": 67,
    "start_time": "2021-07-14T11:55:59.708Z"
   },
   {
    "duration": 59,
    "start_time": "2021-07-14T11:55:59.778Z"
   },
   {
    "duration": 5,
    "start_time": "2021-07-14T11:55:59.840Z"
   },
   {
    "duration": 55,
    "start_time": "2021-07-14T11:55:59.848Z"
   },
   {
    "duration": 35,
    "start_time": "2021-07-14T11:55:59.906Z"
   },
   {
    "duration": 47,
    "start_time": "2021-07-14T11:55:59.944Z"
   },
   {
    "duration": 19,
    "start_time": "2021-07-14T11:55:59.994Z"
   },
   {
    "duration": 123,
    "start_time": "2021-07-14T11:56:00.016Z"
   },
   {
    "duration": 17,
    "start_time": "2021-07-14T11:56:00.142Z"
   },
   {
    "duration": 26,
    "start_time": "2021-07-14T11:56:00.162Z"
   },
   {
    "duration": 28,
    "start_time": "2021-07-14T11:56:00.191Z"
   },
   {
    "duration": 304,
    "start_time": "2021-07-14T11:56:00.221Z"
   },
   {
    "duration": 80,
    "start_time": "2021-07-14T11:56:00.527Z"
   },
   {
    "duration": 7,
    "start_time": "2021-07-14T11:56:00.609Z"
   },
   {
    "duration": 22,
    "start_time": "2021-07-14T11:56:00.618Z"
   },
   {
    "duration": 24,
    "start_time": "2021-07-14T11:56:00.643Z"
   },
   {
    "duration": 22,
    "start_time": "2021-07-14T11:56:00.670Z"
   },
   {
    "duration": 33,
    "start_time": "2021-07-14T11:56:00.694Z"
   },
   {
    "duration": 164,
    "start_time": "2021-07-14T11:56:00.729Z"
   },
   {
    "duration": 1137,
    "start_time": "2021-07-14T11:56:00.896Z"
   },
   {
    "duration": 39,
    "start_time": "2021-07-14T11:56:02.036Z"
   },
   {
    "duration": 4,
    "start_time": "2021-07-14T11:56:02.078Z"
   },
   {
    "duration": 28,
    "start_time": "2021-07-14T11:56:02.084Z"
   },
   {
    "duration": 7263,
    "start_time": "2021-07-14T11:56:02.115Z"
   },
   {
    "duration": 1518,
    "start_time": "2021-07-14T11:56:09.468Z"
   },
   {
    "duration": 5,
    "start_time": "2021-07-14T11:56:10.988Z"
   },
   {
    "duration": 78,
    "start_time": "2021-07-14T11:56:10.995Z"
   },
   {
    "duration": 588,
    "start_time": "2021-07-14T11:56:11.076Z"
   },
   {
    "duration": 4,
    "start_time": "2021-07-14T11:56:11.667Z"
   },
   {
    "duration": 147881,
    "start_time": "2021-07-14T11:56:11.673Z"
   },
   {
    "duration": 4,
    "start_time": "2021-07-14T11:58:45.955Z"
   },
   {
    "duration": 4,
    "start_time": "2021-07-14T11:58:48.058Z"
   },
   {
    "duration": 2910,
    "start_time": "2021-07-14T11:58:59.225Z"
   },
   {
    "duration": 5,
    "start_time": "2021-07-14T11:59:39.289Z"
   },
   {
    "duration": 4,
    "start_time": "2021-07-14T11:59:40.273Z"
   },
   {
    "duration": 2936,
    "start_time": "2021-07-14T11:59:41.068Z"
   },
   {
    "duration": 306,
    "start_time": "2021-07-14T12:00:59.205Z"
   },
   {
    "duration": 4,
    "start_time": "2021-07-14T12:02:17.094Z"
   },
   {
    "duration": 4,
    "start_time": "2021-07-14T12:02:17.693Z"
   },
   {
    "duration": 3416,
    "start_time": "2021-07-14T12:02:21.036Z"
   },
   {
    "duration": 4,
    "start_time": "2021-07-14T12:03:55.604Z"
   },
   {
    "duration": 4,
    "start_time": "2021-07-14T12:03:57.875Z"
   },
   {
    "duration": 744565,
    "start_time": "2021-07-14T12:03:59.374Z"
   },
   {
    "duration": 1563,
    "start_time": "2021-07-14T12:17:56.720Z"
   },
   {
    "duration": 135,
    "start_time": "2021-07-14T12:18:47.263Z"
   },
   {
    "duration": 4,
    "start_time": "2021-07-14T12:18:55.720Z"
   },
   {
    "duration": 4,
    "start_time": "2021-07-14T12:18:57.956Z"
   },
   {
    "duration": 179404,
    "start_time": "2021-07-14T12:19:01.289Z"
   },
   {
    "duration": 334,
    "start_time": "2021-07-14T12:22:00.696Z"
   },
   {
    "duration": 2386,
    "start_time": "2021-07-14T12:21:58.647Z"
   },
   {
    "duration": 2383,
    "start_time": "2021-07-14T12:21:58.652Z"
   },
   {
    "duration": 120,
    "start_time": "2021-07-14T12:22:04.434Z"
   },
   {
    "duration": 4,
    "start_time": "2021-07-14T12:22:11.135Z"
   },
   {
    "duration": 3,
    "start_time": "2021-07-14T12:22:13.406Z"
   },
   {
    "duration": 246707,
    "start_time": "2021-07-14T12:22:14.389Z"
   },
   {
    "duration": 6,
    "start_time": "2021-07-14T12:29:07.693Z"
   },
   {
    "duration": 94803,
    "start_time": "2021-07-14T12:29:08.713Z"
   },
   {
    "duration": 1751,
    "start_time": "2021-07-14T12:30:56.772Z"
   },
   {
    "duration": 1396,
    "start_time": "2021-07-14T12:30:58.525Z"
   },
   {
    "duration": 206,
    "start_time": "2021-07-14T12:30:59.924Z"
   },
   {
    "duration": 44,
    "start_time": "2021-07-14T12:31:00.133Z"
   },
   {
    "duration": 711,
    "start_time": "2021-07-14T12:31:00.180Z"
   },
   {
    "duration": 389,
    "start_time": "2021-07-14T12:31:00.894Z"
   },
   {
    "duration": 417,
    "start_time": "2021-07-14T12:31:01.285Z"
   },
   {
    "duration": 7,
    "start_time": "2021-07-14T12:31:01.705Z"
   },
   {
    "duration": 226,
    "start_time": "2021-07-14T12:31:01.715Z"
   },
   {
    "duration": 108,
    "start_time": "2021-07-14T12:31:01.944Z"
   },
   {
    "duration": 145,
    "start_time": "2021-07-14T12:31:02.054Z"
   },
   {
    "duration": 120,
    "start_time": "2021-07-14T12:31:02.202Z"
   },
   {
    "duration": 22,
    "start_time": "2021-07-14T12:31:02.324Z"
   },
   {
    "duration": 620,
    "start_time": "2021-07-14T12:31:02.349Z"
   },
   {
    "duration": 23,
    "start_time": "2021-07-14T12:31:02.972Z"
   },
   {
    "duration": 77,
    "start_time": "2021-07-14T12:31:02.998Z"
   },
   {
    "duration": 695,
    "start_time": "2021-07-14T12:31:03.078Z"
   },
   {
    "duration": 18,
    "start_time": "2021-07-14T12:31:03.777Z"
   },
   {
    "duration": 143,
    "start_time": "2021-07-14T12:31:03.798Z"
   },
   {
    "duration": 8,
    "start_time": "2021-07-14T12:31:03.943Z"
   },
   {
    "duration": 480,
    "start_time": "2021-07-14T12:31:03.953Z"
   },
   {
    "duration": 33,
    "start_time": "2021-07-14T12:31:04.436Z"
   },
   {
    "duration": 60,
    "start_time": "2021-07-14T12:31:04.479Z"
   },
   {
    "duration": 448,
    "start_time": "2021-07-14T12:31:04.543Z"
   },
   {
    "duration": 36,
    "start_time": "2021-07-14T12:31:04.995Z"
   },
   {
    "duration": 89,
    "start_time": "2021-07-14T12:31:05.034Z"
   },
   {
    "duration": 376,
    "start_time": "2021-07-14T12:31:05.126Z"
   },
   {
    "duration": 30,
    "start_time": "2021-07-14T12:31:05.506Z"
   },
   {
    "duration": 80,
    "start_time": "2021-07-14T12:31:05.539Z"
   },
   {
    "duration": 536,
    "start_time": "2021-07-14T12:31:05.622Z"
   },
   {
    "duration": 572,
    "start_time": "2021-07-14T12:31:06.160Z"
   },
   {
    "duration": 40,
    "start_time": "2021-07-14T12:31:06.734Z"
   },
   {
    "duration": 63,
    "start_time": "2021-07-14T12:31:06.778Z"
   },
   {
    "duration": 385,
    "start_time": "2021-07-14T12:31:06.844Z"
   },
   {
    "duration": 48,
    "start_time": "2021-07-14T12:31:07.231Z"
   },
   {
    "duration": 60,
    "start_time": "2021-07-14T12:31:07.282Z"
   },
   {
    "duration": 37,
    "start_time": "2021-07-14T12:31:07.344Z"
   },
   {
    "duration": 593,
    "start_time": "2021-07-14T12:31:07.383Z"
   },
   {
    "duration": 703,
    "start_time": "2021-07-14T12:31:07.979Z"
   },
   {
    "duration": 25,
    "start_time": "2021-07-14T12:31:08.686Z"
   },
   {
    "duration": 18,
    "start_time": "2021-07-14T12:31:08.715Z"
   },
   {
    "duration": 33,
    "start_time": "2021-07-14T12:31:08.735Z"
   },
   {
    "duration": 20,
    "start_time": "2021-07-14T12:31:08.771Z"
   },
   {
    "duration": 9,
    "start_time": "2021-07-14T12:31:08.795Z"
   },
   {
    "duration": 18,
    "start_time": "2021-07-14T12:31:08.807Z"
   },
   {
    "duration": 51,
    "start_time": "2021-07-14T12:31:08.827Z"
   },
   {
    "duration": 16,
    "start_time": "2021-07-14T12:31:08.882Z"
   },
   {
    "duration": 6,
    "start_time": "2021-07-14T12:31:08.902Z"
   },
   {
    "duration": 8,
    "start_time": "2021-07-14T12:31:08.912Z"
   },
   {
    "duration": 52,
    "start_time": "2021-07-14T12:31:08.923Z"
   },
   {
    "duration": 697,
    "start_time": "2021-07-14T12:31:08.978Z"
   },
   {
    "duration": 25,
    "start_time": "2021-07-14T12:31:09.678Z"
   },
   {
    "duration": 550,
    "start_time": "2021-07-14T12:31:09.706Z"
   },
   {
    "duration": 26,
    "start_time": "2021-07-14T12:31:10.258Z"
   },
   {
    "duration": 41,
    "start_time": "2021-07-14T12:31:10.288Z"
   },
   {
    "duration": 53,
    "start_time": "2021-07-14T12:31:10.331Z"
   },
   {
    "duration": 567,
    "start_time": "2021-07-14T12:31:10.387Z"
   },
   {
    "duration": 32,
    "start_time": "2021-07-14T12:31:10.957Z"
   },
   {
    "duration": 28,
    "start_time": "2021-07-14T12:31:10.992Z"
   },
   {
    "duration": 402,
    "start_time": "2021-07-14T12:31:11.022Z"
   },
   {
    "duration": 82,
    "start_time": "2021-07-14T12:31:11.426Z"
   },
   {
    "duration": 66,
    "start_time": "2021-07-14T12:31:11.510Z"
   },
   {
    "duration": 3,
    "start_time": "2021-07-14T12:31:11.578Z"
   },
   {
    "duration": 54,
    "start_time": "2021-07-14T12:31:11.583Z"
   },
   {
    "duration": 38,
    "start_time": "2021-07-14T12:31:11.640Z"
   },
   {
    "duration": 8,
    "start_time": "2021-07-14T12:31:11.681Z"
   },
   {
    "duration": 578,
    "start_time": "2021-07-14T12:31:11.692Z"
   },
   {
    "duration": 6,
    "start_time": "2021-07-14T12:31:12.278Z"
   },
   {
    "duration": 33,
    "start_time": "2021-07-14T12:31:12.288Z"
   },
   {
    "duration": 535,
    "start_time": "2021-07-14T12:31:12.324Z"
   },
   {
    "duration": 525,
    "start_time": "2021-07-14T12:31:12.862Z"
   },
   {
    "duration": 52,
    "start_time": "2021-07-14T12:31:13.390Z"
   },
   {
    "duration": 54,
    "start_time": "2021-07-14T12:31:13.444Z"
   },
   {
    "duration": 8,
    "start_time": "2021-07-14T12:31:13.501Z"
   },
   {
    "duration": 64,
    "start_time": "2021-07-14T12:31:13.511Z"
   },
   {
    "duration": 33,
    "start_time": "2021-07-14T12:31:13.578Z"
   },
   {
    "duration": 33,
    "start_time": "2021-07-14T12:31:13.614Z"
   },
   {
    "duration": 18,
    "start_time": "2021-07-14T12:31:13.668Z"
   },
   {
    "duration": 113,
    "start_time": "2021-07-14T12:31:13.688Z"
   },
   {
    "duration": 3,
    "start_time": "2021-07-14T12:31:13.804Z"
   },
   {
    "duration": 7,
    "start_time": "2021-07-14T12:31:13.809Z"
   },
   {
    "duration": 6,
    "start_time": "2021-07-14T12:31:13.818Z"
   },
   {
    "duration": 305,
    "start_time": "2021-07-14T12:31:13.826Z"
   },
   {
    "duration": 74,
    "start_time": "2021-07-14T12:31:14.133Z"
   },
   {
    "duration": 5,
    "start_time": "2021-07-14T12:31:14.210Z"
   },
   {
    "duration": 6,
    "start_time": "2021-07-14T12:31:14.218Z"
   },
   {
    "duration": 15,
    "start_time": "2021-07-14T12:31:14.226Z"
   },
   {
    "duration": 27,
    "start_time": "2021-07-14T12:31:14.243Z"
   },
   {
    "duration": 8,
    "start_time": "2021-07-14T12:31:14.273Z"
   },
   {
    "duration": 157,
    "start_time": "2021-07-14T12:31:14.284Z"
   },
   {
    "duration": 1152,
    "start_time": "2021-07-14T12:31:14.444Z"
   },
   {
    "duration": 26,
    "start_time": "2021-07-14T12:31:15.598Z"
   },
   {
    "duration": 4,
    "start_time": "2021-07-14T12:31:15.627Z"
   },
   {
    "duration": 13,
    "start_time": "2021-07-14T12:31:15.633Z"
   },
   {
    "duration": 255206,
    "start_time": "2021-07-14T12:31:15.667Z"
   },
   {
    "duration": 1404,
    "start_time": "2021-07-14T12:35:30.875Z"
   },
   {
    "duration": 5,
    "start_time": "2021-07-14T12:35:32.282Z"
   },
   {
    "duration": 89,
    "start_time": "2021-07-14T12:35:32.290Z"
   },
   {
    "duration": 586,
    "start_time": "2021-07-14T12:35:32.381Z"
   },
   {
    "duration": 5,
    "start_time": "2021-07-14T12:35:32.970Z"
   },
   {
    "duration": 6,
    "start_time": "2021-07-14T12:35:32.977Z"
   },
   {
    "duration": 177846,
    "start_time": "2021-07-14T12:35:32.985Z"
   },
   {
    "duration": 377,
    "start_time": "2021-07-14T12:38:30.834Z"
   },
   {
    "duration": 2423,
    "start_time": "2021-07-14T12:38:28.790Z"
   },
   {
    "duration": 2420,
    "start_time": "2021-07-14T12:38:28.795Z"
   },
   {
    "duration": 4,
    "start_time": "2021-07-14T12:39:28.157Z"
   },
   {
    "duration": 4,
    "start_time": "2021-07-14T12:39:29.727Z"
   },
   {
    "duration": 81482,
    "start_time": "2021-07-14T12:39:30.702Z"
   },
   {
    "duration": 4,
    "start_time": "2021-07-14T12:41:08.543Z"
   },
   {
    "duration": 3,
    "start_time": "2021-07-14T12:41:12.923Z"
   },
   {
    "duration": 65054,
    "start_time": "2021-07-14T12:41:18.605Z"
   },
   {
    "duration": 4,
    "start_time": "2021-07-14T12:42:33.709Z"
   },
   {
    "duration": 3,
    "start_time": "2021-07-14T12:42:34.463Z"
   },
   {
    "duration": 26242,
    "start_time": "2021-07-14T12:42:35.310Z"
   },
   {
    "duration": 4,
    "start_time": "2021-07-14T12:43:12.463Z"
   },
   {
    "duration": 4,
    "start_time": "2021-07-14T12:43:13.479Z"
   },
   {
    "duration": 245156,
    "start_time": "2021-07-14T12:43:14.702Z"
   },
   {
    "duration": 3,
    "start_time": "2021-07-14T12:47:19.861Z"
   },
   {
    "duration": 4,
    "start_time": "2021-07-14T12:47:21.818Z"
   },
   {
    "duration": 4,
    "start_time": "2021-07-14T12:47:22.512Z"
   },
   {
    "duration": 221258,
    "start_time": "2021-07-14T12:47:23.210Z"
   },
   {
    "duration": 5,
    "start_time": "2021-07-14T12:51:19.618Z"
   },
   {
    "duration": 4,
    "start_time": "2021-07-14T12:51:20.335Z"
   },
   {
    "duration": 358597,
    "start_time": "2021-07-14T12:51:22.023Z"
   },
   {
    "duration": 4,
    "start_time": "2021-07-14T12:57:20.623Z"
   },
   {
    "duration": 1065,
    "start_time": "2021-07-14T12:57:20.630Z"
   },
   {
    "duration": 162,
    "start_time": "2021-07-14T12:57:21.698Z"
   },
   {
    "duration": 24,
    "start_time": "2021-07-14T12:57:21.863Z"
   },
   {
    "duration": 597,
    "start_time": "2021-07-14T12:57:21.889Z"
   },
   {
    "duration": 333,
    "start_time": "2021-07-14T12:57:22.488Z"
   },
   {
    "duration": 345,
    "start_time": "2021-07-14T12:57:22.825Z"
   },
   {
    "duration": 5,
    "start_time": "2021-07-14T12:57:23.172Z"
   },
   {
    "duration": 136,
    "start_time": "2021-07-14T12:57:23.179Z"
   },
   {
    "duration": 97,
    "start_time": "2021-07-14T12:57:23.318Z"
   },
   {
    "duration": 116,
    "start_time": "2021-07-14T12:57:23.418Z"
   },
   {
    "duration": 123,
    "start_time": "2021-07-14T12:57:23.536Z"
   },
   {
    "duration": 22,
    "start_time": "2021-07-14T12:57:23.666Z"
   },
   {
    "duration": 620,
    "start_time": "2021-07-14T12:57:23.691Z"
   },
   {
    "duration": 15,
    "start_time": "2021-07-14T12:57:24.313Z"
   },
   {
    "duration": 68,
    "start_time": "2021-07-14T12:57:24.331Z"
   },
   {
    "duration": 577,
    "start_time": "2021-07-14T12:57:24.401Z"
   },
   {
    "duration": 14,
    "start_time": "2021-07-14T12:57:24.981Z"
   },
   {
    "duration": 104,
    "start_time": "2021-07-14T12:57:24.997Z"
   },
   {
    "duration": 6,
    "start_time": "2021-07-14T12:57:25.104Z"
   },
   {
    "duration": 359,
    "start_time": "2021-07-14T12:57:25.112Z"
   },
   {
    "duration": 26,
    "start_time": "2021-07-14T12:57:25.477Z"
   },
   {
    "duration": 62,
    "start_time": "2021-07-14T12:57:25.507Z"
   },
   {
    "duration": 321,
    "start_time": "2021-07-14T12:57:25.571Z"
   },
   {
    "duration": 26,
    "start_time": "2021-07-14T12:57:25.894Z"
   },
   {
    "duration": 59,
    "start_time": "2021-07-14T12:57:25.923Z"
   },
   {
    "duration": 349,
    "start_time": "2021-07-14T12:57:25.984Z"
   },
   {
    "duration": 34,
    "start_time": "2021-07-14T12:57:26.335Z"
   },
   {
    "duration": 45,
    "start_time": "2021-07-14T12:57:26.371Z"
   },
   {
    "duration": 401,
    "start_time": "2021-07-14T12:57:26.419Z"
   },
   {
    "duration": 424,
    "start_time": "2021-07-14T12:57:26.823Z"
   },
   {
    "duration": 29,
    "start_time": "2021-07-14T12:57:27.250Z"
   },
   {
    "duration": 91,
    "start_time": "2021-07-14T12:57:27.281Z"
   },
   {
    "duration": 508,
    "start_time": "2021-07-14T12:57:27.375Z"
   },
   {
    "duration": 82,
    "start_time": "2021-07-14T12:57:27.885Z"
   },
   {
    "duration": 41,
    "start_time": "2021-07-14T12:57:27.969Z"
   },
   {
    "duration": 72,
    "start_time": "2021-07-14T12:57:28.012Z"
   },
   {
    "duration": 596,
    "start_time": "2021-07-14T12:57:28.086Z"
   },
   {
    "duration": 641,
    "start_time": "2021-07-14T12:57:28.685Z"
   },
   {
    "duration": 19,
    "start_time": "2021-07-14T12:57:29.329Z"
   },
   {
    "duration": 17,
    "start_time": "2021-07-14T12:57:29.367Z"
   },
   {
    "duration": 3,
    "start_time": "2021-07-14T12:57:29.386Z"
   },
   {
    "duration": 18,
    "start_time": "2021-07-14T12:57:29.391Z"
   },
   {
    "duration": 7,
    "start_time": "2021-07-14T12:57:29.412Z"
   },
   {
    "duration": 55,
    "start_time": "2021-07-14T12:57:29.421Z"
   },
   {
    "duration": 10,
    "start_time": "2021-07-14T12:57:29.478Z"
   },
   {
    "duration": 10,
    "start_time": "2021-07-14T12:57:29.491Z"
   },
   {
    "duration": 4,
    "start_time": "2021-07-14T12:57:29.504Z"
   },
   {
    "duration": 10,
    "start_time": "2021-07-14T12:57:29.510Z"
   },
   {
    "duration": 45,
    "start_time": "2021-07-14T12:57:29.522Z"
   },
   {
    "duration": 567,
    "start_time": "2021-07-14T12:57:29.570Z"
   },
   {
    "duration": 33,
    "start_time": "2021-07-14T12:57:30.139Z"
   },
   {
    "duration": 556,
    "start_time": "2021-07-14T12:57:30.174Z"
   },
   {
    "duration": 15,
    "start_time": "2021-07-14T12:57:30.732Z"
   },
   {
    "duration": 53,
    "start_time": "2021-07-14T12:57:30.750Z"
   },
   {
    "duration": 23,
    "start_time": "2021-07-14T12:57:30.805Z"
   },
   {
    "duration": 497,
    "start_time": "2021-07-14T12:57:30.830Z"
   },
   {
    "duration": 21,
    "start_time": "2021-07-14T12:57:31.329Z"
   },
   {
    "duration": 32,
    "start_time": "2021-07-14T12:57:31.352Z"
   },
   {
    "duration": 349,
    "start_time": "2021-07-14T12:57:31.387Z"
   },
   {
    "duration": 70,
    "start_time": "2021-07-14T12:57:31.738Z"
   },
   {
    "duration": 64,
    "start_time": "2021-07-14T12:57:31.810Z"
   },
   {
    "duration": 4,
    "start_time": "2021-07-14T12:57:31.876Z"
   },
   {
    "duration": 64,
    "start_time": "2021-07-14T12:57:31.882Z"
   },
   {
    "duration": 25,
    "start_time": "2021-07-14T12:57:31.948Z"
   },
   {
    "duration": 8,
    "start_time": "2021-07-14T12:57:31.976Z"
   },
   {
    "duration": 591,
    "start_time": "2021-07-14T12:57:31.992Z"
   },
   {
    "duration": 6,
    "start_time": "2021-07-14T12:57:32.586Z"
   },
   {
    "duration": 38,
    "start_time": "2021-07-14T12:57:32.594Z"
   },
   {
    "duration": 464,
    "start_time": "2021-07-14T12:57:32.635Z"
   },
   {
    "duration": 456,
    "start_time": "2021-07-14T12:57:33.102Z"
   },
   {
    "duration": 37,
    "start_time": "2021-07-14T12:57:33.561Z"
   },
   {
    "duration": 34,
    "start_time": "2021-07-14T12:57:33.600Z"
   },
   {
    "duration": 30,
    "start_time": "2021-07-14T12:57:33.636Z"
   },
   {
    "duration": 35,
    "start_time": "2021-07-14T12:57:33.669Z"
   },
   {
    "duration": 63,
    "start_time": "2021-07-14T12:57:33.706Z"
   },
   {
    "duration": 33,
    "start_time": "2021-07-14T12:57:33.771Z"
   },
   {
    "duration": 19,
    "start_time": "2021-07-14T12:57:33.806Z"
   },
   {
    "duration": 119,
    "start_time": "2021-07-14T12:57:33.828Z"
   },
   {
    "duration": 3,
    "start_time": "2021-07-14T12:57:33.950Z"
   },
   {
    "duration": 3,
    "start_time": "2021-07-14T12:57:33.968Z"
   },
   {
    "duration": 5,
    "start_time": "2021-07-14T12:57:33.974Z"
   },
   {
    "duration": 210,
    "start_time": "2021-07-14T12:57:33.982Z"
   },
   {
    "duration": 74,
    "start_time": "2021-07-14T12:57:34.195Z"
   },
   {
    "duration": 6,
    "start_time": "2021-07-14T12:57:34.271Z"
   },
   {
    "duration": 8,
    "start_time": "2021-07-14T12:57:34.279Z"
   },
   {
    "duration": 12,
    "start_time": "2021-07-14T12:57:34.289Z"
   },
   {
    "duration": 7,
    "start_time": "2021-07-14T12:57:34.303Z"
   },
   {
    "duration": 10,
    "start_time": "2021-07-14T12:57:34.313Z"
   },
   {
    "duration": 180,
    "start_time": "2021-07-14T12:57:34.326Z"
   },
   {
    "duration": 1188,
    "start_time": "2021-07-14T12:57:34.509Z"
   },
   {
    "duration": 44,
    "start_time": "2021-07-14T12:57:35.700Z"
   },
   {
    "duration": 48,
    "start_time": "2021-07-14T12:57:35.747Z"
   },
   {
    "duration": 5,
    "start_time": "2021-07-14T12:57:44.752Z"
   },
   {
    "duration": 4,
    "start_time": "2021-07-14T12:57:45.518Z"
   },
   {
    "duration": 8035,
    "start_time": "2021-07-14T12:57:46.337Z"
   },
   {
    "duration": 1407,
    "start_time": "2021-07-14T12:57:54.374Z"
   },
   {
    "duration": 5,
    "start_time": "2021-07-14T12:57:55.784Z"
   },
   {
    "duration": 85,
    "start_time": "2021-07-14T12:57:55.791Z"
   },
   {
    "duration": 592,
    "start_time": "2021-07-14T12:57:55.879Z"
   },
   {
    "duration": 5,
    "start_time": "2021-07-14T12:58:00.659Z"
   },
   {
    "duration": 4,
    "start_time": "2021-07-14T12:58:01.564Z"
   },
   {
    "duration": 359031,
    "start_time": "2021-07-14T12:58:02.506Z"
   },
   {
    "duration": 4,
    "start_time": "2021-07-14T13:04:04.467Z"
   },
   {
    "duration": 4,
    "start_time": "2021-07-14T13:04:05.370Z"
   },
   {
    "duration": 41367,
    "start_time": "2021-07-14T13:04:06.061Z"
   },
   {
    "duration": 4,
    "start_time": "2021-07-14T13:04:49.492Z"
   },
   {
    "duration": 5618,
    "start_time": "2021-07-14T13:04:50.359Z"
   },
   {
    "duration": 1251,
    "start_time": "2021-07-14T13:05:03.517Z"
   },
   {
    "duration": 5,
    "start_time": "2021-07-14T13:05:04.771Z"
   },
   {
    "duration": 16,
    "start_time": "2021-07-14T13:05:04.841Z"
   },
   {
    "duration": 556,
    "start_time": "2021-07-14T13:05:06.020Z"
   },
   {
    "duration": 4,
    "start_time": "2021-07-14T13:05:26.951Z"
   },
   {
    "duration": 4,
    "start_time": "2021-07-14T13:05:28.280Z"
   },
   {
    "duration": 737825,
    "start_time": "2021-07-14T13:05:29.147Z"
   },
   {
    "duration": 1400,
    "start_time": "2021-07-14T13:17:46.975Z"
   },
   {
    "duration": 5,
    "start_time": "2021-07-14T13:17:48.378Z"
   },
   {
    "duration": 20,
    "start_time": "2021-07-14T13:17:48.385Z"
   },
   {
    "duration": 8,
    "start_time": "2021-07-14T13:24:56.970Z"
   },
   {
    "duration": 9,
    "start_time": "2021-07-14T13:25:07.987Z"
   },
   {
    "duration": 11,
    "start_time": "2021-07-14T13:25:16.149Z"
   },
   {
    "duration": 4,
    "start_time": "2021-07-14T13:29:08.570Z"
   },
   {
    "duration": 7700,
    "start_time": "2021-07-14T13:29:09.478Z"
   },
   {
    "duration": 3,
    "start_time": "2021-07-14T13:33:48.168Z"
   },
   {
    "duration": 15,
    "start_time": "2021-07-14T13:33:48.764Z"
   },
   {
    "duration": 47034,
    "start_time": "2021-07-14T13:33:50.186Z"
   },
   {
    "duration": 3,
    "start_time": "2021-07-14T13:34:53.648Z"
   },
   {
    "duration": 4,
    "start_time": "2021-07-14T13:34:54.383Z"
   },
   {
    "duration": 17194,
    "start_time": "2021-07-14T13:34:55.048Z"
   },
   {
    "duration": 4,
    "start_time": "2021-07-14T13:35:59.337Z"
   },
   {
    "duration": 4,
    "start_time": "2021-07-14T13:36:00.030Z"
   },
   {
    "duration": 9179,
    "start_time": "2021-07-14T13:36:01.510Z"
   },
   {
    "duration": 4,
    "start_time": "2021-07-14T13:41:01.790Z"
   },
   {
    "duration": 3,
    "start_time": "2021-07-14T13:41:29.846Z"
   },
   {
    "duration": 8372,
    "start_time": "2021-07-14T13:41:30.404Z"
   },
   {
    "duration": 4,
    "start_time": "2021-07-14T13:42:13.369Z"
   },
   {
    "duration": 8160,
    "start_time": "2021-07-14T13:42:14.111Z"
   },
   {
    "duration": 4,
    "start_time": "2021-07-14T13:42:32.224Z"
   },
   {
    "duration": 6165,
    "start_time": "2021-07-14T13:42:33.009Z"
   },
   {
    "duration": 4,
    "start_time": "2021-07-14T13:42:46.193Z"
   },
   {
    "duration": 4,
    "start_time": "2021-07-14T13:42:46.682Z"
   },
   {
    "duration": 15334,
    "start_time": "2021-07-14T13:42:47.225Z"
   },
   {
    "duration": 4,
    "start_time": "2021-07-14T13:46:05.633Z"
   },
   {
    "duration": 4,
    "start_time": "2021-07-14T13:46:06.573Z"
   },
   {
    "duration": 213,
    "start_time": "2021-07-14T13:46:07.519Z"
   },
   {
    "duration": 3,
    "start_time": "2021-07-14T13:51:56.379Z"
   },
   {
    "duration": 4,
    "start_time": "2021-07-14T13:51:57.415Z"
   },
   {
    "duration": 2143,
    "start_time": "2021-07-14T13:51:58.613Z"
   },
   {
    "duration": 4,
    "start_time": "2021-07-14T13:52:17.200Z"
   },
   {
    "duration": 3,
    "start_time": "2021-07-14T13:52:18.108Z"
   },
   {
    "duration": 3122,
    "start_time": "2021-07-14T13:52:18.697Z"
   },
   {
    "duration": 4,
    "start_time": "2021-07-14T13:52:41.811Z"
   },
   {
    "duration": 4,
    "start_time": "2021-07-14T13:52:42.551Z"
   },
   {
    "duration": 32817,
    "start_time": "2021-07-14T13:52:43.656Z"
   },
   {
    "duration": 4,
    "start_time": "2021-07-14T13:54:20.286Z"
   },
   {
    "duration": 4,
    "start_time": "2021-07-14T13:54:21.319Z"
   },
   {
    "duration": 150497,
    "start_time": "2021-07-14T13:54:21.930Z"
   },
   {
    "duration": 112,
    "start_time": "2021-07-14T13:56:58.105Z"
   },
   {
    "duration": 4,
    "start_time": "2021-07-14T13:57:05.041Z"
   },
   {
    "duration": 20,
    "start_time": "2021-07-14T13:57:07.223Z"
   },
   {
    "duration": 44165,
    "start_time": "2021-07-14T13:57:08.352Z"
   },
   {
    "duration": 5,
    "start_time": "2021-07-14T13:58:11.694Z"
   },
   {
    "duration": 4,
    "start_time": "2021-07-14T13:58:12.646Z"
   },
   {
    "duration": 23210,
    "start_time": "2021-07-14T13:58:13.793Z"
   },
   {
    "duration": 4,
    "start_time": "2021-07-14T13:59:29.123Z"
   },
   {
    "duration": 3,
    "start_time": "2021-07-14T13:59:30.448Z"
   },
   {
    "duration": 37101,
    "start_time": "2021-07-14T13:59:30.857Z"
   },
   {
    "duration": 4,
    "start_time": "2021-07-14T14:00:42.937Z"
   },
   {
    "duration": 5,
    "start_time": "2021-07-14T14:00:43.703Z"
   },
   {
    "duration": 25452,
    "start_time": "2021-07-14T14:00:44.245Z"
   },
   {
    "duration": 4,
    "start_time": "2021-07-14T14:02:46.003Z"
   },
   {
    "duration": 4,
    "start_time": "2021-07-14T14:02:46.847Z"
   },
   {
    "duration": 25170,
    "start_time": "2021-07-14T14:02:47.491Z"
   },
   {
    "duration": 4,
    "start_time": "2021-07-14T14:03:14.818Z"
   },
   {
    "duration": 4,
    "start_time": "2021-07-14T14:03:15.780Z"
   },
   {
    "duration": 29189,
    "start_time": "2021-07-14T14:03:16.152Z"
   },
   {
    "duration": 4,
    "start_time": "2021-07-14T14:03:52.932Z"
   },
   {
    "duration": 4,
    "start_time": "2021-07-14T14:03:53.441Z"
   },
   {
    "duration": 14872,
    "start_time": "2021-07-14T14:03:53.919Z"
   },
   {
    "duration": 5,
    "start_time": "2021-07-14T14:04:27.503Z"
   },
   {
    "duration": 4,
    "start_time": "2021-07-14T14:04:27.923Z"
   },
   {
    "duration": 18982,
    "start_time": "2021-07-14T14:04:28.277Z"
   },
   {
    "duration": 4,
    "start_time": "2021-07-14T14:04:56.107Z"
   },
   {
    "duration": 4,
    "start_time": "2021-07-14T14:04:56.392Z"
   },
   {
    "duration": 41198,
    "start_time": "2021-07-14T14:04:56.721Z"
   },
   {
    "duration": 4,
    "start_time": "2021-07-14T14:06:07.022Z"
   },
   {
    "duration": 15,
    "start_time": "2021-07-14T14:06:08.542Z"
   },
   {
    "duration": 42133,
    "start_time": "2021-07-14T14:06:08.882Z"
   },
   {
    "duration": 4,
    "start_time": "2021-07-14T14:06:56.382Z"
   },
   {
    "duration": 16,
    "start_time": "2021-07-14T14:06:57.684Z"
   },
   {
    "duration": 49090,
    "start_time": "2021-07-14T14:06:58.130Z"
   },
   {
    "duration": 4,
    "start_time": "2021-07-14T14:08:05.718Z"
   },
   {
    "duration": 16,
    "start_time": "2021-07-14T14:08:06.217Z"
   },
   {
    "duration": 49034,
    "start_time": "2021-07-14T14:08:06.594Z"
   },
   {
    "duration": 4,
    "start_time": "2021-07-14T14:09:04.901Z"
   },
   {
    "duration": 17,
    "start_time": "2021-07-14T14:09:06.127Z"
   },
   {
    "duration": 71370,
    "start_time": "2021-07-14T14:09:06.549Z"
   },
   {
    "duration": 4,
    "start_time": "2021-07-14T14:10:31.169Z"
   },
   {
    "duration": 16,
    "start_time": "2021-07-14T14:10:31.664Z"
   },
   {
    "duration": 70575,
    "start_time": "2021-07-14T14:10:32.144Z"
   },
   {
    "duration": 215,
    "start_time": "2021-07-14T14:15:06.928Z"
   },
   {
    "duration": 4,
    "start_time": "2021-07-14T14:15:13.241Z"
   },
   {
    "duration": 6021,
    "start_time": "2021-07-14T14:15:13.951Z"
   },
   {
    "duration": 3,
    "start_time": "2021-07-14T14:16:05.947Z"
   },
   {
    "duration": 5935,
    "start_time": "2021-07-14T14:16:07.034Z"
   },
   {
    "duration": 4,
    "start_time": "2021-07-14T14:22:30.668Z"
   },
   {
    "duration": 12100,
    "start_time": "2021-07-14T14:22:30.674Z"
   },
   {
    "duration": 5,
    "start_time": "2021-07-14T14:23:17.971Z"
   },
   {
    "duration": 14,
    "start_time": "2021-07-14T14:23:18.616Z"
   },
   {
    "duration": 119022,
    "start_time": "2021-07-14T14:23:19.196Z"
   },
   {
    "duration": 4,
    "start_time": "2021-07-14T14:25:39.502Z"
   },
   {
    "duration": 20,
    "start_time": "2021-07-14T14:25:40.282Z"
   },
   {
    "duration": 135507,
    "start_time": "2021-07-14T14:25:40.823Z"
   },
   {
    "duration": 524,
    "start_time": "2021-07-14T14:28:05.665Z"
   },
   {
    "duration": 5,
    "start_time": "2021-07-14T14:28:06.230Z"
   },
   {
    "duration": 2483,
    "start_time": "2021-07-14T14:28:11.385Z"
   },
   {
    "duration": 5,
    "start_time": "2021-07-14T14:28:13.871Z"
   },
   {
    "duration": 4,
    "start_time": "2021-07-14T14:28:44.912Z"
   },
   {
    "duration": 13,
    "start_time": "2021-07-14T14:28:45.399Z"
   },
   {
    "duration": 146495,
    "start_time": "2021-07-14T14:28:45.929Z"
   },
   {
    "duration": 579,
    "start_time": "2021-07-14T14:31:12.428Z"
   },
   {
    "duration": 7,
    "start_time": "2021-07-14T14:31:13.011Z"
   },
   {
    "duration": 12,
    "start_time": "2021-07-14T14:31:13.069Z"
   },
   {
    "duration": 4,
    "start_time": "2021-07-14T14:31:24.771Z"
   },
   {
    "duration": 16,
    "start_time": "2021-07-14T14:31:25.136Z"
   },
   {
    "duration": 138091,
    "start_time": "2021-07-14T14:31:25.643Z"
   },
   {
    "duration": 640,
    "start_time": "2021-07-14T14:33:43.737Z"
   },
   {
    "duration": 7,
    "start_time": "2021-07-14T14:33:44.381Z"
   },
   {
    "duration": 25,
    "start_time": "2021-07-14T14:33:44.391Z"
   },
   {
    "duration": 5,
    "start_time": "2021-07-14T14:34:14.177Z"
   },
   {
    "duration": 22,
    "start_time": "2021-07-14T14:34:14.549Z"
   },
   {
    "duration": 44716,
    "start_time": "2021-07-14T14:34:14.879Z"
   },
   {
    "duration": 4,
    "start_time": "2021-07-14T14:35:06.010Z"
   },
   {
    "duration": 4,
    "start_time": "2021-07-14T14:35:06.424Z"
   },
   {
    "duration": 22747,
    "start_time": "2021-07-14T14:35:06.884Z"
   },
   {
    "duration": 4,
    "start_time": "2021-07-14T14:35:34.854Z"
   },
   {
    "duration": 3,
    "start_time": "2021-07-14T14:35:35.219Z"
   },
   {
    "duration": 136261,
    "start_time": "2021-07-14T14:35:35.556Z"
   },
   {
    "duration": 441,
    "start_time": "2021-07-14T14:41:23.960Z"
   },
   {
    "duration": 51,
    "start_time": "2021-07-14T14:41:52.406Z"
   },
   {
    "duration": 4,
    "start_time": "2021-07-14T14:41:57.922Z"
   },
   {
    "duration": 389,
    "start_time": "2021-07-14T14:41:58.595Z"
   },
   {
    "duration": 316,
    "start_time": "2021-07-14T14:45:28.773Z"
   },
   {
    "duration": 491,
    "start_time": "2021-07-14T14:45:33.967Z"
   },
   {
    "duration": 14,
    "start_time": "2021-07-14T14:48:27.926Z"
   },
   {
    "duration": 552,
    "start_time": "2021-07-14T14:48:36.530Z"
   },
   {
    "duration": 1195,
    "start_time": "2021-07-15T09:37:57.274Z"
   },
   {
    "duration": 755,
    "start_time": "2021-07-15T09:37:58.471Z"
   },
   {
    "duration": 129,
    "start_time": "2021-07-15T09:37:59.228Z"
   },
   {
    "duration": 27,
    "start_time": "2021-07-15T09:37:59.359Z"
   },
   {
    "duration": 437,
    "start_time": "2021-07-15T09:37:59.388Z"
   },
   {
    "duration": 258,
    "start_time": "2021-07-15T09:37:59.827Z"
   },
   {
    "duration": 251,
    "start_time": "2021-07-15T09:38:00.088Z"
   },
   {
    "duration": 4,
    "start_time": "2021-07-15T09:38:00.343Z"
   },
   {
    "duration": 111,
    "start_time": "2021-07-15T09:38:00.349Z"
   },
   {
    "duration": 85,
    "start_time": "2021-07-15T09:38:00.462Z"
   },
   {
    "duration": 92,
    "start_time": "2021-07-15T09:38:00.549Z"
   },
   {
    "duration": 92,
    "start_time": "2021-07-15T09:38:00.642Z"
   },
   {
    "duration": 17,
    "start_time": "2021-07-15T09:38:00.736Z"
   },
   {
    "duration": 375,
    "start_time": "2021-07-15T09:38:00.754Z"
   },
   {
    "duration": 10,
    "start_time": "2021-07-15T09:38:01.130Z"
   },
   {
    "duration": 35,
    "start_time": "2021-07-15T09:38:01.141Z"
   },
   {
    "duration": 342,
    "start_time": "2021-07-15T09:38:01.178Z"
   },
   {
    "duration": 10,
    "start_time": "2021-07-15T09:38:01.521Z"
   },
   {
    "duration": 72,
    "start_time": "2021-07-15T09:38:01.533Z"
   },
   {
    "duration": 6,
    "start_time": "2021-07-15T09:38:01.606Z"
   },
   {
    "duration": 235,
    "start_time": "2021-07-15T09:38:01.613Z"
   },
   {
    "duration": 17,
    "start_time": "2021-07-15T09:38:01.850Z"
   },
   {
    "duration": 39,
    "start_time": "2021-07-15T09:38:01.871Z"
   },
   {
    "duration": 220,
    "start_time": "2021-07-15T09:38:01.913Z"
   },
   {
    "duration": 18,
    "start_time": "2021-07-15T09:38:02.134Z"
   },
   {
    "duration": 45,
    "start_time": "2021-07-15T09:38:02.153Z"
   },
   {
    "duration": 217,
    "start_time": "2021-07-15T09:38:02.200Z"
   },
   {
    "duration": 19,
    "start_time": "2021-07-15T09:38:02.418Z"
   },
   {
    "duration": 49,
    "start_time": "2021-07-15T09:38:02.439Z"
   },
   {
    "duration": 255,
    "start_time": "2021-07-15T09:38:02.490Z"
   },
   {
    "duration": 272,
    "start_time": "2021-07-15T09:38:02.747Z"
   },
   {
    "duration": 17,
    "start_time": "2021-07-15T09:38:03.021Z"
   },
   {
    "duration": 48,
    "start_time": "2021-07-15T09:38:03.040Z"
   },
   {
    "duration": 190,
    "start_time": "2021-07-15T09:38:03.090Z"
   },
   {
    "duration": 18,
    "start_time": "2021-07-15T09:38:03.285Z"
   },
   {
    "duration": 29,
    "start_time": "2021-07-15T09:38:03.305Z"
   },
   {
    "duration": 22,
    "start_time": "2021-07-15T09:38:03.335Z"
   },
   {
    "duration": 428,
    "start_time": "2021-07-15T09:38:03.358Z"
   },
   {
    "duration": 386,
    "start_time": "2021-07-15T09:38:03.788Z"
   },
   {
    "duration": 18,
    "start_time": "2021-07-15T09:38:04.176Z"
   },
   {
    "duration": 11,
    "start_time": "2021-07-15T09:38:04.196Z"
   },
   {
    "duration": 6,
    "start_time": "2021-07-15T09:38:04.209Z"
   },
   {
    "duration": 14,
    "start_time": "2021-07-15T09:38:04.217Z"
   },
   {
    "duration": 5,
    "start_time": "2021-07-15T09:38:04.233Z"
   },
   {
    "duration": 12,
    "start_time": "2021-07-15T09:38:04.239Z"
   },
   {
    "duration": 37,
    "start_time": "2021-07-15T09:38:04.252Z"
   },
   {
    "duration": 9,
    "start_time": "2021-07-15T09:38:04.290Z"
   },
   {
    "duration": 6,
    "start_time": "2021-07-15T09:38:04.301Z"
   },
   {
    "duration": 9,
    "start_time": "2021-07-15T09:38:04.309Z"
   },
   {
    "duration": 7,
    "start_time": "2021-07-15T09:38:04.320Z"
   },
   {
    "duration": 358,
    "start_time": "2021-07-15T09:38:04.328Z"
   },
   {
    "duration": 15,
    "start_time": "2021-07-15T09:38:04.688Z"
   },
   {
    "duration": 271,
    "start_time": "2021-07-15T09:38:04.705Z"
   },
   {
    "duration": 15,
    "start_time": "2021-07-15T09:38:04.977Z"
   },
   {
    "duration": 22,
    "start_time": "2021-07-15T09:38:04.994Z"
   },
   {
    "duration": 18,
    "start_time": "2021-07-15T09:38:05.017Z"
   },
   {
    "duration": 295,
    "start_time": "2021-07-15T09:38:05.037Z"
   },
   {
    "duration": 16,
    "start_time": "2021-07-15T09:38:05.334Z"
   },
   {
    "duration": 15,
    "start_time": "2021-07-15T09:38:05.351Z"
   },
   {
    "duration": 186,
    "start_time": "2021-07-15T09:38:05.385Z"
   },
   {
    "duration": 44,
    "start_time": "2021-07-15T09:38:05.572Z"
   },
   {
    "duration": 35,
    "start_time": "2021-07-15T09:38:05.618Z"
   },
   {
    "duration": 2,
    "start_time": "2021-07-15T09:38:05.655Z"
   },
   {
    "duration": 55,
    "start_time": "2021-07-15T09:38:05.658Z"
   },
   {
    "duration": 9,
    "start_time": "2021-07-15T09:38:05.715Z"
   },
   {
    "duration": 6,
    "start_time": "2021-07-15T09:38:05.726Z"
   },
   {
    "duration": 371,
    "start_time": "2021-07-15T09:38:05.734Z"
   },
   {
    "duration": 4,
    "start_time": "2021-07-15T09:38:06.110Z"
   },
   {
    "duration": 29,
    "start_time": "2021-07-15T09:38:06.116Z"
   },
   {
    "duration": 285,
    "start_time": "2021-07-15T09:38:06.147Z"
   },
   {
    "duration": 361,
    "start_time": "2021-07-15T09:38:06.435Z"
   },
   {
    "duration": 24,
    "start_time": "2021-07-15T09:38:06.798Z"
   },
   {
    "duration": 22,
    "start_time": "2021-07-15T09:38:06.824Z"
   },
   {
    "duration": 4,
    "start_time": "2021-07-15T09:38:06.848Z"
   },
   {
    "duration": 51,
    "start_time": "2021-07-15T09:38:06.854Z"
   },
   {
    "duration": 21,
    "start_time": "2021-07-15T09:38:06.906Z"
   },
   {
    "duration": 21,
    "start_time": "2021-07-15T09:38:06.929Z"
   },
   {
    "duration": 37,
    "start_time": "2021-07-15T09:38:06.952Z"
   },
   {
    "duration": 76,
    "start_time": "2021-07-15T09:38:06.991Z"
   },
   {
    "duration": 16,
    "start_time": "2021-07-15T09:38:07.069Z"
   },
   {
    "duration": 3,
    "start_time": "2021-07-15T09:38:07.086Z"
   },
   {
    "duration": 4,
    "start_time": "2021-07-15T09:38:07.091Z"
   },
   {
    "duration": 103,
    "start_time": "2021-07-15T09:38:07.097Z"
   },
   {
    "duration": 30,
    "start_time": "2021-07-15T09:38:07.202Z"
   },
   {
    "duration": 4,
    "start_time": "2021-07-15T09:38:07.234Z"
   },
   {
    "duration": 6,
    "start_time": "2021-07-15T09:38:07.240Z"
   },
   {
    "duration": 7,
    "start_time": "2021-07-15T09:38:07.247Z"
   },
   {
    "duration": 6,
    "start_time": "2021-07-15T09:38:07.285Z"
   },
   {
    "duration": 6,
    "start_time": "2021-07-15T09:38:07.292Z"
   },
   {
    "duration": 100,
    "start_time": "2021-07-15T09:38:07.300Z"
   },
   {
    "duration": 700,
    "start_time": "2021-07-15T09:38:07.402Z"
   },
   {
    "duration": 32,
    "start_time": "2021-07-15T09:38:08.104Z"
   },
   {
    "duration": 20,
    "start_time": "2021-07-15T09:38:08.137Z"
   },
   {
    "duration": 3,
    "start_time": "2021-07-15T09:38:08.159Z"
   },
   {
    "duration": 22,
    "start_time": "2021-07-15T09:38:08.164Z"
   },
   {
    "duration": 13410,
    "start_time": "2021-07-15T09:38:08.188Z"
   },
   {
    "duration": 1809,
    "start_time": "2021-07-15T09:38:21.686Z"
   },
   {
    "duration": 4,
    "start_time": "2021-07-15T09:38:23.497Z"
   },
   {
    "duration": 3,
    "start_time": "2021-07-15T09:38:33.094Z"
   },
   {
    "duration": 4,
    "start_time": "2021-07-15T09:38:37.852Z"
   },
   {
    "duration": 4,
    "start_time": "2021-07-15T09:39:39.309Z"
   },
   {
    "duration": 264,
    "start_time": "2021-07-15T09:40:20.148Z"
   },
   {
    "duration": 4,
    "start_time": "2021-07-15T09:42:42.796Z"
   },
   {
    "duration": 178,
    "start_time": "2021-07-15T09:58:44.625Z"
   },
   {
    "duration": 3,
    "start_time": "2021-07-15T10:00:24.045Z"
   },
   {
    "duration": 180,
    "start_time": "2021-07-15T10:00:30.788Z"
   },
   {
    "duration": 4,
    "start_time": "2021-07-15T10:01:05.369Z"
   },
   {
    "duration": 197,
    "start_time": "2021-07-15T10:01:10.088Z"
   },
   {
    "duration": 184,
    "start_time": "2021-07-15T10:01:43.947Z"
   },
   {
    "duration": 195,
    "start_time": "2021-07-15T10:02:46.137Z"
   },
   {
    "duration": 4,
    "start_time": "2021-07-15T10:05:04.689Z"
   },
   {
    "duration": 4,
    "start_time": "2021-07-15T10:05:13.770Z"
   },
   {
    "duration": 4,
    "start_time": "2021-07-15T10:06:17.265Z"
   },
   {
    "duration": 4,
    "start_time": "2021-07-15T10:06:27.869Z"
   },
   {
    "duration": 4,
    "start_time": "2021-07-15T10:06:56.866Z"
   },
   {
    "duration": 238,
    "start_time": "2021-07-15T10:11:58.517Z"
   },
   {
    "duration": 210,
    "start_time": "2021-07-15T10:13:50.706Z"
   },
   {
    "duration": 189,
    "start_time": "2021-07-15T10:14:26.741Z"
   },
   {
    "duration": 188,
    "start_time": "2021-07-15T10:14:42.235Z"
   },
   {
    "duration": 224,
    "start_time": "2021-07-15T10:14:50.550Z"
   },
   {
    "duration": 182,
    "start_time": "2021-07-15T10:14:56.571Z"
   },
   {
    "duration": 605,
    "start_time": "2021-07-15T10:18:17.126Z"
   },
   {
    "duration": 237,
    "start_time": "2021-07-15T10:38:27.991Z"
   },
   {
    "duration": 589,
    "start_time": "2021-07-15T10:39:50.818Z"
   },
   {
    "duration": 241,
    "start_time": "2021-07-15T10:40:09.114Z"
   },
   {
    "duration": 314,
    "start_time": "2021-07-15T10:47:59.393Z"
   },
   {
    "duration": 182,
    "start_time": "2021-07-15T10:50:21.356Z"
   },
   {
    "duration": 329,
    "start_time": "2021-07-15T10:50:41.994Z"
   },
   {
    "duration": 325,
    "start_time": "2021-07-15T10:56:06.367Z"
   },
   {
    "duration": 181,
    "start_time": "2021-07-15T10:56:48.167Z"
   },
   {
    "duration": 193,
    "start_time": "2021-07-15T10:57:49.255Z"
   },
   {
    "duration": 211,
    "start_time": "2021-07-15T10:58:07.628Z"
   },
   {
    "duration": 4,
    "start_time": "2021-07-15T10:58:18.259Z"
   },
   {
    "duration": 57,
    "start_time": "2021-07-15T10:59:56.750Z"
   },
   {
    "duration": 337,
    "start_time": "2021-07-15T11:00:08.668Z"
   },
   {
    "duration": 59,
    "start_time": "2021-07-15T11:00:38.095Z"
   },
   {
    "duration": 273,
    "start_time": "2021-07-15T11:00:49.427Z"
   },
   {
    "duration": 409,
    "start_time": "2021-07-15T11:01:06.490Z"
   },
   {
    "duration": 63,
    "start_time": "2021-07-15T11:01:33.232Z"
   },
   {
    "duration": 9,
    "start_time": "2021-07-15T11:01:40.310Z"
   },
   {
    "duration": 282,
    "start_time": "2021-07-15T11:05:28.580Z"
   },
   {
    "duration": 77,
    "start_time": "2021-07-15T11:19:45.782Z"
   },
   {
    "duration": 68,
    "start_time": "2021-07-15T11:19:56.788Z"
   },
   {
    "duration": 22,
    "start_time": "2021-07-15T11:21:42.390Z"
   },
   {
    "duration": 13,
    "start_time": "2021-07-15T11:23:53.406Z"
   },
   {
    "duration": 3,
    "start_time": "2021-07-15T11:29:06.929Z"
   },
   {
    "duration": 90,
    "start_time": "2021-07-15T11:29:09.797Z"
   },
   {
    "duration": 4,
    "start_time": "2021-07-15T11:29:17.248Z"
   },
   {
    "duration": 1197,
    "start_time": "2021-07-15T11:30:37.567Z"
   },
   {
    "duration": 771,
    "start_time": "2021-07-15T11:30:38.766Z"
   },
   {
    "duration": 123,
    "start_time": "2021-07-15T11:30:39.539Z"
   },
   {
    "duration": 24,
    "start_time": "2021-07-15T11:30:39.664Z"
   },
   {
    "duration": 438,
    "start_time": "2021-07-15T11:30:39.690Z"
   },
   {
    "duration": 247,
    "start_time": "2021-07-15T11:30:40.130Z"
   },
   {
    "duration": 259,
    "start_time": "2021-07-15T11:30:40.379Z"
   },
   {
    "duration": 4,
    "start_time": "2021-07-15T11:30:40.640Z"
   },
   {
    "duration": 114,
    "start_time": "2021-07-15T11:30:40.646Z"
   },
   {
    "duration": 82,
    "start_time": "2021-07-15T11:30:40.762Z"
   },
   {
    "duration": 91,
    "start_time": "2021-07-15T11:30:40.846Z"
   },
   {
    "duration": 90,
    "start_time": "2021-07-15T11:30:40.939Z"
   },
   {
    "duration": 17,
    "start_time": "2021-07-15T11:30:41.031Z"
   },
   {
    "duration": 368,
    "start_time": "2021-07-15T11:30:41.049Z"
   },
   {
    "duration": 10,
    "start_time": "2021-07-15T11:30:41.419Z"
   },
   {
    "duration": 26,
    "start_time": "2021-07-15T11:30:41.430Z"
   },
   {
    "duration": 361,
    "start_time": "2021-07-15T11:30:41.458Z"
   },
   {
    "duration": 10,
    "start_time": "2021-07-15T11:30:41.821Z"
   },
   {
    "duration": 71,
    "start_time": "2021-07-15T11:30:41.832Z"
   },
   {
    "duration": 5,
    "start_time": "2021-07-15T11:30:41.905Z"
   },
   {
    "duration": 236,
    "start_time": "2021-07-15T11:30:41.911Z"
   },
   {
    "duration": 18,
    "start_time": "2021-07-15T11:30:42.149Z"
   },
   {
    "duration": 41,
    "start_time": "2021-07-15T11:30:42.171Z"
   },
   {
    "duration": 211,
    "start_time": "2021-07-15T11:30:42.215Z"
   },
   {
    "duration": 17,
    "start_time": "2021-07-15T11:30:42.428Z"
   },
   {
    "duration": 42,
    "start_time": "2021-07-15T11:30:42.447Z"
   },
   {
    "duration": 220,
    "start_time": "2021-07-15T11:30:42.490Z"
   },
   {
    "duration": 17,
    "start_time": "2021-07-15T11:30:42.712Z"
   },
   {
    "duration": 30,
    "start_time": "2021-07-15T11:30:42.731Z"
   },
   {
    "duration": 276,
    "start_time": "2021-07-15T11:30:42.763Z"
   },
   {
    "duration": 263,
    "start_time": "2021-07-15T11:30:43.041Z"
   },
   {
    "duration": 17,
    "start_time": "2021-07-15T11:30:43.305Z"
   },
   {
    "duration": 31,
    "start_time": "2021-07-15T11:30:43.324Z"
   },
   {
    "duration": 191,
    "start_time": "2021-07-15T11:30:43.356Z"
   },
   {
    "duration": 18,
    "start_time": "2021-07-15T11:30:43.549Z"
   },
   {
    "duration": 42,
    "start_time": "2021-07-15T11:30:43.569Z"
   },
   {
    "duration": 16,
    "start_time": "2021-07-15T11:30:43.613Z"
   },
   {
    "duration": 448,
    "start_time": "2021-07-15T11:30:43.631Z"
   },
   {
    "duration": 366,
    "start_time": "2021-07-15T11:30:44.081Z"
   },
   {
    "duration": 13,
    "start_time": "2021-07-15T11:30:44.449Z"
   },
   {
    "duration": 29,
    "start_time": "2021-07-15T11:30:44.463Z"
   },
   {
    "duration": 2,
    "start_time": "2021-07-15T11:30:44.494Z"
   },
   {
    "duration": 18,
    "start_time": "2021-07-15T11:30:44.498Z"
   },
   {
    "duration": 5,
    "start_time": "2021-07-15T11:30:44.518Z"
   },
   {
    "duration": 11,
    "start_time": "2021-07-15T11:30:44.524Z"
   },
   {
    "duration": 8,
    "start_time": "2021-07-15T11:30:44.536Z"
   },
   {
    "duration": 8,
    "start_time": "2021-07-15T11:30:44.546Z"
   },
   {
    "duration": 33,
    "start_time": "2021-07-15T11:30:44.556Z"
   },
   {
    "duration": 9,
    "start_time": "2021-07-15T11:30:44.590Z"
   },
   {
    "duration": 6,
    "start_time": "2021-07-15T11:30:44.600Z"
   },
   {
    "duration": 369,
    "start_time": "2021-07-15T11:30:44.608Z"
   },
   {
    "duration": 20,
    "start_time": "2021-07-15T11:30:44.979Z"
   },
   {
    "duration": 283,
    "start_time": "2021-07-15T11:30:45.001Z"
   },
   {
    "duration": 14,
    "start_time": "2021-07-15T11:30:45.286Z"
   },
   {
    "duration": 25,
    "start_time": "2021-07-15T11:30:45.302Z"
   },
   {
    "duration": 19,
    "start_time": "2021-07-15T11:30:45.328Z"
   },
   {
    "duration": 306,
    "start_time": "2021-07-15T11:30:45.348Z"
   },
   {
    "duration": 30,
    "start_time": "2021-07-15T11:30:45.657Z"
   },
   {
    "duration": 17,
    "start_time": "2021-07-15T11:30:45.689Z"
   },
   {
    "duration": 214,
    "start_time": "2021-07-15T11:30:45.708Z"
   },
   {
    "duration": 38,
    "start_time": "2021-07-15T11:30:45.924Z"
   },
   {
    "duration": 53,
    "start_time": "2021-07-15T11:30:45.964Z"
   },
   {
    "duration": 3,
    "start_time": "2021-07-15T11:30:46.019Z"
   },
   {
    "duration": 50,
    "start_time": "2021-07-15T11:30:46.023Z"
   },
   {
    "duration": 15,
    "start_time": "2021-07-15T11:30:46.074Z"
   },
   {
    "duration": 9,
    "start_time": "2021-07-15T11:30:46.091Z"
   },
   {
    "duration": 378,
    "start_time": "2021-07-15T11:30:46.101Z"
   },
   {
    "duration": 4,
    "start_time": "2021-07-15T11:30:46.486Z"
   },
   {
    "duration": 28,
    "start_time": "2021-07-15T11:30:46.493Z"
   },
   {
    "duration": 276,
    "start_time": "2021-07-15T11:30:46.523Z"
   },
   {
    "duration": 338,
    "start_time": "2021-07-15T11:30:46.801Z"
   },
   {
    "duration": 21,
    "start_time": "2021-07-15T11:30:47.141Z"
   },
   {
    "duration": 33,
    "start_time": "2021-07-15T11:30:47.164Z"
   },
   {
    "duration": 4,
    "start_time": "2021-07-15T11:30:47.198Z"
   },
   {
    "duration": 31,
    "start_time": "2021-07-15T11:30:47.203Z"
   },
   {
    "duration": 24,
    "start_time": "2021-07-15T11:30:47.236Z"
   },
   {
    "duration": 28,
    "start_time": "2021-07-15T11:30:47.262Z"
   },
   {
    "duration": 11,
    "start_time": "2021-07-15T11:30:47.292Z"
   },
   {
    "duration": 83,
    "start_time": "2021-07-15T11:30:47.305Z"
   },
   {
    "duration": 13,
    "start_time": "2021-07-15T11:30:47.390Z"
   },
   {
    "duration": 4,
    "start_time": "2021-07-15T11:30:47.405Z"
   },
   {
    "duration": 104,
    "start_time": "2021-07-15T11:30:47.410Z"
   },
   {
    "duration": 4,
    "start_time": "2021-07-15T11:30:47.515Z"
   },
   {
    "duration": 25,
    "start_time": "2021-07-15T11:30:47.520Z"
   },
   {
    "duration": 23,
    "start_time": "2021-07-15T11:30:47.546Z"
   },
   {
    "duration": 15,
    "start_time": "2021-07-15T11:30:47.571Z"
   },
   {
    "duration": 84,
    "start_time": "2021-07-15T11:30:47.588Z"
   },
   {
    "duration": 26,
    "start_time": "2021-07-15T11:30:47.674Z"
   },
   {
    "duration": 4,
    "start_time": "2021-07-15T11:30:47.702Z"
   },
   {
    "duration": 20,
    "start_time": "2021-07-15T11:30:47.708Z"
   },
   {
    "duration": 18,
    "start_time": "2021-07-15T11:30:47.730Z"
   },
   {
    "duration": 13,
    "start_time": "2021-07-15T11:30:47.750Z"
   },
   {
    "duration": 21,
    "start_time": "2021-07-15T11:30:47.764Z"
   },
   {
    "duration": 92,
    "start_time": "2021-07-15T11:30:47.787Z"
   },
   {
    "duration": 566,
    "start_time": "2021-07-15T11:30:47.880Z"
   },
   {
    "duration": 28,
    "start_time": "2021-07-15T11:30:48.447Z"
   },
   {
    "duration": 23,
    "start_time": "2021-07-15T11:30:48.477Z"
   },
   {
    "duration": 3,
    "start_time": "2021-07-15T11:30:48.501Z"
   },
   {
    "duration": 13,
    "start_time": "2021-07-15T11:30:48.506Z"
   },
   {
    "duration": 7673,
    "start_time": "2021-07-15T11:30:48.520Z"
   },
   {
    "duration": 998,
    "start_time": "2021-07-15T11:30:56.195Z"
   },
   {
    "duration": 4,
    "start_time": "2021-07-15T11:30:57.195Z"
   },
   {
    "duration": 8,
    "start_time": "2021-07-15T11:30:57.201Z"
   },
   {
    "duration": 437,
    "start_time": "2021-07-15T11:30:57.211Z"
   },
   {
    "duration": 3,
    "start_time": "2021-07-15T11:30:57.650Z"
   },
   {
    "duration": 5,
    "start_time": "2021-07-15T11:30:57.655Z"
   },
   {
    "duration": 80765,
    "start_time": "2021-07-15T11:30:57.661Z"
   },
   {
    "duration": 358,
    "start_time": "2021-07-15T11:32:18.427Z"
   },
   {
    "duration": 4,
    "start_time": "2021-07-15T11:32:18.787Z"
   },
   {
    "duration": 16,
    "start_time": "2021-07-15T11:32:18.792Z"
   },
   {
    "duration": 17,
    "start_time": "2021-07-15T11:32:18.809Z"
   },
   {
    "duration": 411,
    "start_time": "2021-07-15T11:32:18.827Z"
   },
   {
    "duration": 3,
    "start_time": "2021-07-15T11:32:19.240Z"
   },
   {
    "duration": 12605,
    "start_time": "2021-07-15T11:32:19.244Z"
   },
   {
    "duration": 9,
    "start_time": "2021-07-15T11:32:31.850Z"
   },
   {
    "duration": 368,
    "start_time": "2021-07-15T11:55:09.163Z"
   },
   {
    "duration": 12110,
    "start_time": "2021-07-15T11:55:32.208Z"
   },
   {
    "duration": 10,
    "start_time": "2021-07-15T11:55:44.320Z"
   },
   {
    "duration": 12092,
    "start_time": "2021-07-15T12:02:32.952Z"
   },
   {
    "duration": 11,
    "start_time": "2021-07-15T12:02:45.045Z"
   },
   {
    "duration": 2,
    "start_time": "2021-07-15T12:10:17.434Z"
   },
   {
    "duration": 12263,
    "start_time": "2021-07-15T12:10:26.597Z"
   },
   {
    "duration": 56,
    "start_time": "2021-07-15T12:10:38.862Z"
   },
   {
    "duration": 1368,
    "start_time": "2021-07-15T12:10:37.552Z"
   },
   {
    "duration": 4,
    "start_time": "2021-07-15T12:11:04.904Z"
   },
   {
    "duration": 9,
    "start_time": "2021-07-15T12:11:07.027Z"
   },
   {
    "duration": 12137,
    "start_time": "2021-07-15T12:11:56.219Z"
   },
   {
    "duration": 80383,
    "start_time": "2021-07-15T12:14:51.157Z"
   },
   {
    "duration": 3,
    "start_time": "2021-07-15T12:16:11.542Z"
   },
   {
    "duration": 14,
    "start_time": "2021-07-15T12:16:11.547Z"
   },
   {
    "duration": 61,
    "start_time": "2021-07-15T12:16:11.563Z"
   },
   {
    "duration": 239,
    "start_time": "2021-07-15T12:21:16.777Z"
   },
   {
    "duration": 69,
    "start_time": "2021-07-15T12:22:05.853Z"
   },
   {
    "duration": 5,
    "start_time": "2021-07-15T12:22:22.913Z"
   },
   {
    "duration": 3,
    "start_time": "2021-07-15T12:22:30.870Z"
   },
   {
    "duration": 317559,
    "start_time": "2021-07-15T12:22:31.677Z"
   },
   {
    "duration": 1307,
    "start_time": "2021-07-15T12:27:47.931Z"
   },
   {
    "duration": 1302,
    "start_time": "2021-07-15T12:27:47.937Z"
   },
   {
    "duration": 9124,
    "start_time": "2021-07-15T12:27:55.849Z"
   },
   {
    "duration": 4,
    "start_time": "2021-07-15T12:28:06.657Z"
   },
   {
    "duration": 148061,
    "start_time": "2021-07-15T12:28:08.208Z"
   },
   {
    "duration": 3,
    "start_time": "2021-07-15T12:30:40.030Z"
   },
   {
    "duration": 122747,
    "start_time": "2021-07-15T12:30:40.702Z"
   },
   {
    "duration": 3,
    "start_time": "2021-07-15T12:32:48.320Z"
   },
   {
    "duration": 82267,
    "start_time": "2021-07-15T12:32:49.225Z"
   },
   {
    "duration": 90,
    "start_time": "2021-07-15T12:34:11.495Z"
   },
   {
    "duration": 111,
    "start_time": "2021-07-15T12:34:11.589Z"
   },
   {
    "duration": 4,
    "start_time": "2021-07-15T12:41:42.467Z"
   },
   {
    "duration": 232,
    "start_time": "2021-07-15T12:43:58.139Z"
   },
   {
    "duration": 195,
    "start_time": "2021-07-15T12:44:38.679Z"
   },
   {
    "duration": 5,
    "start_time": "2021-07-15T12:45:00.765Z"
   },
   {
    "duration": 1750,
    "start_time": "2021-07-15T12:45:05.089Z"
   },
   {
    "duration": 1375,
    "start_time": "2021-07-15T12:45:05.466Z"
   },
   {
    "duration": 4,
    "start_time": "2021-07-15T12:45:33.066Z"
   },
   {
    "duration": 179,
    "start_time": "2021-07-15T12:45:33.932Z"
   },
   {
    "duration": 4,
    "start_time": "2021-07-15T12:46:39.557Z"
   },
   {
    "duration": 3,
    "start_time": "2021-07-15T12:46:56.701Z"
   },
   {
    "duration": 312290,
    "start_time": "2021-07-15T12:46:57.483Z"
   },
   {
    "duration": 11,
    "start_time": "2021-07-15T12:52:09.775Z"
   },
   {
    "duration": 18,
    "start_time": "2021-07-15T12:52:09.788Z"
   },
   {
    "duration": 4,
    "start_time": "2021-07-15T12:52:30.643Z"
   },
   {
    "duration": 276821,
    "start_time": "2021-07-15T12:52:31.291Z"
   },
   {
    "duration": 4,
    "start_time": "2021-07-15T12:57:11.182Z"
   },
   {
    "duration": 289973,
    "start_time": "2021-07-15T12:57:12.065Z"
   },
   {
    "duration": 4,
    "start_time": "2021-07-15T13:03:36.813Z"
   },
   {
    "duration": 18,
    "start_time": "2021-07-15T13:03:37.042Z"
   },
   {
    "duration": 4,
    "start_time": "2021-07-15T13:04:14.943Z"
   },
   {
    "duration": 183206,
    "start_time": "2021-07-15T13:04:15.508Z"
   },
   {
    "duration": 11,
    "start_time": "2021-07-15T13:07:25.889Z"
   },
   {
    "duration": 9,
    "start_time": "2021-07-15T13:08:07.531Z"
   },
   {
    "duration": 3,
    "start_time": "2021-07-15T13:09:57.105Z"
   },
   {
    "duration": 53441,
    "start_time": "2021-07-15T13:09:59.470Z"
   },
   {
    "duration": 4,
    "start_time": "2021-07-15T13:11:14.451Z"
   },
   {
    "duration": 86203,
    "start_time": "2021-07-15T13:11:15.818Z"
   },
   {
    "duration": 11489,
    "start_time": "2021-07-15T13:14:18.782Z"
   },
   {
    "duration": 4,
    "start_time": "2021-07-15T13:14:32.055Z"
   },
   {
    "duration": 282611,
    "start_time": "2021-07-15T13:14:33.038Z"
   },
   {
    "duration": 4,
    "start_time": "2021-07-15T13:21:50.159Z"
   },
   {
    "duration": 16710,
    "start_time": "2021-07-15T13:21:51.841Z"
   },
   {
    "duration": 13035,
    "start_time": "2021-07-15T13:23:46.828Z"
   },
   {
    "duration": 235,
    "start_time": "2021-07-15T13:25:58.365Z"
   },
   {
    "duration": 12,
    "start_time": "2021-07-15T13:28:03.641Z"
   },
   {
    "duration": 13,
    "start_time": "2021-07-15T13:28:58.043Z"
   },
   {
    "duration": 13,
    "start_time": "2021-07-15T13:29:06.960Z"
   },
   {
    "duration": 13,
    "start_time": "2021-07-15T13:29:17.025Z"
   },
   {
    "duration": 1150,
    "start_time": "2021-07-15T13:29:32.699Z"
   },
   {
    "duration": 757,
    "start_time": "2021-07-15T13:29:33.851Z"
   },
   {
    "duration": 124,
    "start_time": "2021-07-15T13:29:34.610Z"
   },
   {
    "duration": 17,
    "start_time": "2021-07-15T13:29:34.736Z"
   },
   {
    "duration": 438,
    "start_time": "2021-07-15T13:29:34.755Z"
   },
   {
    "duration": 247,
    "start_time": "2021-07-15T13:29:35.194Z"
   },
   {
    "duration": 247,
    "start_time": "2021-07-15T13:29:35.442Z"
   },
   {
    "duration": 3,
    "start_time": "2021-07-15T13:29:35.691Z"
   },
   {
    "duration": 119,
    "start_time": "2021-07-15T13:29:35.697Z"
   },
   {
    "duration": 84,
    "start_time": "2021-07-15T13:29:35.818Z"
   },
   {
    "duration": 99,
    "start_time": "2021-07-15T13:29:35.903Z"
   },
   {
    "duration": 86,
    "start_time": "2021-07-15T13:29:36.004Z"
   },
   {
    "duration": 17,
    "start_time": "2021-07-15T13:29:36.093Z"
   },
   {
    "duration": 393,
    "start_time": "2021-07-15T13:29:36.111Z"
   },
   {
    "duration": 10,
    "start_time": "2021-07-15T13:29:36.506Z"
   },
   {
    "duration": 28,
    "start_time": "2021-07-15T13:29:36.518Z"
   },
   {
    "duration": 364,
    "start_time": "2021-07-15T13:29:36.547Z"
   },
   {
    "duration": 11,
    "start_time": "2021-07-15T13:29:36.913Z"
   },
   {
    "duration": 73,
    "start_time": "2021-07-15T13:29:36.925Z"
   },
   {
    "duration": 5,
    "start_time": "2021-07-15T13:29:37.000Z"
   },
   {
    "duration": 238,
    "start_time": "2021-07-15T13:29:37.006Z"
   },
   {
    "duration": 17,
    "start_time": "2021-07-15T13:29:37.246Z"
   },
   {
    "duration": 41,
    "start_time": "2021-07-15T13:29:37.265Z"
   },
   {
    "duration": 203,
    "start_time": "2021-07-15T13:29:37.307Z"
   },
   {
    "duration": 17,
    "start_time": "2021-07-15T13:29:37.512Z"
   },
   {
    "duration": 28,
    "start_time": "2021-07-15T13:29:37.531Z"
   },
   {
    "duration": 229,
    "start_time": "2021-07-15T13:29:37.564Z"
   },
   {
    "duration": 17,
    "start_time": "2021-07-15T13:29:37.796Z"
   },
   {
    "duration": 30,
    "start_time": "2021-07-15T13:29:37.815Z"
   },
   {
    "duration": 269,
    "start_time": "2021-07-15T13:29:37.847Z"
   },
   {
    "duration": 288,
    "start_time": "2021-07-15T13:29:38.118Z"
   },
   {
    "duration": 17,
    "start_time": "2021-07-15T13:29:38.408Z"
   },
   {
    "duration": 31,
    "start_time": "2021-07-15T13:29:38.427Z"
   },
   {
    "duration": 198,
    "start_time": "2021-07-15T13:29:38.460Z"
   },
   {
    "duration": 28,
    "start_time": "2021-07-15T13:29:38.660Z"
   },
   {
    "duration": 32,
    "start_time": "2021-07-15T13:29:38.689Z"
   },
   {
    "duration": 17,
    "start_time": "2021-07-15T13:29:38.723Z"
   },
   {
    "duration": 438,
    "start_time": "2021-07-15T13:29:38.742Z"
   },
   {
    "duration": 368,
    "start_time": "2021-07-15T13:29:39.182Z"
   },
   {
    "duration": 13,
    "start_time": "2021-07-15T13:29:39.552Z"
   },
   {
    "duration": 24,
    "start_time": "2021-07-15T13:29:39.567Z"
   },
   {
    "duration": 3,
    "start_time": "2021-07-15T13:29:39.593Z"
   },
   {
    "duration": 13,
    "start_time": "2021-07-15T13:29:39.598Z"
   },
   {
    "duration": 5,
    "start_time": "2021-07-15T13:29:39.612Z"
   },
   {
    "duration": 10,
    "start_time": "2021-07-15T13:29:39.619Z"
   },
   {
    "duration": 8,
    "start_time": "2021-07-15T13:29:39.631Z"
   },
   {
    "duration": 45,
    "start_time": "2021-07-15T13:29:39.640Z"
   },
   {
    "duration": 5,
    "start_time": "2021-07-15T13:29:39.686Z"
   },
   {
    "duration": 7,
    "start_time": "2021-07-15T13:29:39.693Z"
   },
   {
    "duration": 6,
    "start_time": "2021-07-15T13:29:39.701Z"
   },
   {
    "duration": 356,
    "start_time": "2021-07-15T13:29:39.708Z"
   },
   {
    "duration": 23,
    "start_time": "2021-07-15T13:29:40.066Z"
   },
   {
    "duration": 257,
    "start_time": "2021-07-15T13:29:40.091Z"
   },
   {
    "duration": 12,
    "start_time": "2021-07-15T13:29:40.350Z"
   },
   {
    "duration": 33,
    "start_time": "2021-07-15T13:29:40.364Z"
   },
   {
    "duration": 16,
    "start_time": "2021-07-15T13:29:40.399Z"
   },
   {
    "duration": 286,
    "start_time": "2021-07-15T13:29:40.417Z"
   },
   {
    "duration": 17,
    "start_time": "2021-07-15T13:29:40.704Z"
   },
   {
    "duration": 27,
    "start_time": "2021-07-15T13:29:40.723Z"
   },
   {
    "duration": 193,
    "start_time": "2021-07-15T13:29:40.752Z"
   },
   {
    "duration": 49,
    "start_time": "2021-07-15T13:29:40.946Z"
   },
   {
    "duration": 35,
    "start_time": "2021-07-15T13:29:40.996Z"
   },
   {
    "duration": 3,
    "start_time": "2021-07-15T13:29:41.032Z"
   },
   {
    "duration": 53,
    "start_time": "2021-07-15T13:29:41.036Z"
   },
   {
    "duration": 9,
    "start_time": "2021-07-15T13:29:41.091Z"
   },
   {
    "duration": 8,
    "start_time": "2021-07-15T13:29:41.101Z"
   },
   {
    "duration": 355,
    "start_time": "2021-07-15T13:29:41.110Z"
   },
   {
    "duration": 4,
    "start_time": "2021-07-15T13:29:41.467Z"
   },
   {
    "duration": 36,
    "start_time": "2021-07-15T13:29:41.473Z"
   },
   {
    "duration": 267,
    "start_time": "2021-07-15T13:29:41.511Z"
   },
   {
    "duration": 354,
    "start_time": "2021-07-15T13:29:41.780Z"
   },
   {
    "duration": 21,
    "start_time": "2021-07-15T13:29:42.136Z"
   },
   {
    "duration": 38,
    "start_time": "2021-07-15T13:29:42.159Z"
   },
   {
    "duration": 4,
    "start_time": "2021-07-15T13:29:42.198Z"
   },
   {
    "duration": 23,
    "start_time": "2021-07-15T13:29:42.204Z"
   },
   {
    "duration": 20,
    "start_time": "2021-07-15T13:29:42.229Z"
   },
   {
    "duration": 39,
    "start_time": "2021-07-15T13:29:42.251Z"
   },
   {
    "duration": 11,
    "start_time": "2021-07-15T13:29:42.292Z"
   },
   {
    "duration": 82,
    "start_time": "2021-07-15T13:29:42.304Z"
   },
   {
    "duration": 14,
    "start_time": "2021-07-15T13:29:42.387Z"
   },
   {
    "duration": 3,
    "start_time": "2021-07-15T13:29:42.406Z"
   },
   {
    "duration": 100,
    "start_time": "2021-07-15T13:29:42.411Z"
   },
   {
    "duration": 3,
    "start_time": "2021-07-15T13:29:42.512Z"
   },
   {
    "duration": 4,
    "start_time": "2021-07-15T13:29:42.517Z"
   },
   {
    "duration": 5,
    "start_time": "2021-07-15T13:29:42.523Z"
   },
   {
    "duration": 5,
    "start_time": "2021-07-15T13:29:42.531Z"
   },
   {
    "duration": 102,
    "start_time": "2021-07-15T13:29:42.537Z"
   },
   {
    "duration": 28,
    "start_time": "2021-07-15T13:29:42.641Z"
   },
   {
    "duration": 14,
    "start_time": "2021-07-15T13:29:42.670Z"
   },
   {
    "duration": 4,
    "start_time": "2021-07-15T13:29:42.686Z"
   },
   {
    "duration": 4,
    "start_time": "2021-07-15T13:29:42.691Z"
   },
   {
    "duration": 5,
    "start_time": "2021-07-15T13:29:42.696Z"
   },
   {
    "duration": 7,
    "start_time": "2021-07-15T13:29:42.703Z"
   },
   {
    "duration": 95,
    "start_time": "2021-07-15T13:29:42.712Z"
   },
   {
    "duration": 594,
    "start_time": "2021-07-15T13:29:42.809Z"
   },
   {
    "duration": 29,
    "start_time": "2021-07-15T13:29:43.404Z"
   },
   {
    "duration": 19,
    "start_time": "2021-07-15T13:29:43.434Z"
   },
   {
    "duration": 2,
    "start_time": "2021-07-15T13:29:43.455Z"
   },
   {
    "duration": 27,
    "start_time": "2021-07-15T13:29:43.459Z"
   },
   {
    "duration": 7403,
    "start_time": "2021-07-15T13:29:43.487Z"
   },
   {
    "duration": 993,
    "start_time": "2021-07-15T13:29:50.892Z"
   },
   {
    "duration": 4,
    "start_time": "2021-07-15T13:29:51.887Z"
   },
   {
    "duration": 11,
    "start_time": "2021-07-15T13:29:51.892Z"
   },
   {
    "duration": 415,
    "start_time": "2021-07-15T13:29:51.904Z"
   },
   {
    "duration": 3,
    "start_time": "2021-07-15T13:29:52.320Z"
   },
   {
    "duration": 11,
    "start_time": "2021-07-15T13:29:52.325Z"
   },
   {
    "duration": 79902,
    "start_time": "2021-07-15T13:29:52.337Z"
   },
   {
    "duration": 257,
    "start_time": "2021-07-15T13:31:12.241Z"
   },
   {
    "duration": 5,
    "start_time": "2021-07-15T13:31:12.500Z"
   },
   {
    "duration": 4,
    "start_time": "2021-07-15T13:31:12.507Z"
   },
   {
    "duration": 76,
    "start_time": "2021-07-15T13:31:12.512Z"
   },
   {
    "duration": 400,
    "start_time": "2021-07-15T13:31:12.589Z"
   },
   {
    "duration": 3,
    "start_time": "2021-07-15T13:31:12.991Z"
   },
   {
    "duration": 308,
    "start_time": "2021-07-15T13:31:12.996Z"
   },
   {
    "duration": 1372,
    "start_time": "2021-07-15T13:31:11.934Z"
   },
   {
    "duration": 1369,
    "start_time": "2021-07-15T13:31:11.938Z"
   },
   {
    "duration": 1363,
    "start_time": "2021-07-15T13:31:11.945Z"
   },
   {
    "duration": 4,
    "start_time": "2021-07-15T13:31:40.700Z"
   },
   {
    "duration": 327030,
    "start_time": "2021-07-15T13:31:40.706Z"
   },
   {
    "duration": 3,
    "start_time": "2021-07-15T13:37:07.738Z"
   },
   {
    "duration": 12,
    "start_time": "2021-07-15T13:37:07.743Z"
   },
   {
    "duration": 8,
    "start_time": "2021-07-15T13:37:07.757Z"
   },
   {
    "duration": 1119,
    "start_time": "2021-07-15T13:41:19.629Z"
   },
   {
    "duration": 763,
    "start_time": "2021-07-15T13:41:20.750Z"
   },
   {
    "duration": 124,
    "start_time": "2021-07-15T13:41:21.517Z"
   },
   {
    "duration": 16,
    "start_time": "2021-07-15T13:41:21.643Z"
   },
   {
    "duration": 440,
    "start_time": "2021-07-15T13:41:21.660Z"
   },
   {
    "duration": 259,
    "start_time": "2021-07-15T13:41:22.101Z"
   },
   {
    "duration": 264,
    "start_time": "2021-07-15T13:41:22.361Z"
   },
   {
    "duration": 3,
    "start_time": "2021-07-15T13:41:22.628Z"
   },
   {
    "duration": 123,
    "start_time": "2021-07-15T13:41:22.634Z"
   },
   {
    "duration": 85,
    "start_time": "2021-07-15T13:41:22.759Z"
   },
   {
    "duration": 95,
    "start_time": "2021-07-15T13:41:22.846Z"
   },
   {
    "duration": 101,
    "start_time": "2021-07-15T13:41:22.943Z"
   },
   {
    "duration": 19,
    "start_time": "2021-07-15T13:41:23.046Z"
   },
   {
    "duration": 405,
    "start_time": "2021-07-15T13:41:23.067Z"
   },
   {
    "duration": 14,
    "start_time": "2021-07-15T13:41:23.474Z"
   },
   {
    "duration": 28,
    "start_time": "2021-07-15T13:41:23.490Z"
   },
   {
    "duration": 354,
    "start_time": "2021-07-15T13:41:23.519Z"
   },
   {
    "duration": 11,
    "start_time": "2021-07-15T13:41:23.875Z"
   },
   {
    "duration": 59,
    "start_time": "2021-07-15T13:41:23.888Z"
   },
   {
    "duration": 5,
    "start_time": "2021-07-15T13:41:23.948Z"
   },
   {
    "duration": 260,
    "start_time": "2021-07-15T13:41:23.955Z"
   },
   {
    "duration": 20,
    "start_time": "2021-07-15T13:41:24.217Z"
   },
   {
    "duration": 48,
    "start_time": "2021-07-15T13:41:24.238Z"
   },
   {
    "duration": 223,
    "start_time": "2021-07-15T13:41:24.288Z"
   },
   {
    "duration": 18,
    "start_time": "2021-07-15T13:41:24.513Z"
   },
   {
    "duration": 30,
    "start_time": "2021-07-15T13:41:24.536Z"
   },
   {
    "duration": 239,
    "start_time": "2021-07-15T13:41:24.569Z"
   },
   {
    "duration": 18,
    "start_time": "2021-07-15T13:41:24.810Z"
   },
   {
    "duration": 36,
    "start_time": "2021-07-15T13:41:24.830Z"
   },
   {
    "duration": 264,
    "start_time": "2021-07-15T13:41:24.867Z"
   },
   {
    "duration": 288,
    "start_time": "2021-07-15T13:41:25.133Z"
   },
   {
    "duration": 17,
    "start_time": "2021-07-15T13:41:25.422Z"
   },
   {
    "duration": 45,
    "start_time": "2021-07-15T13:41:25.441Z"
   },
   {
    "duration": 177,
    "start_time": "2021-07-15T13:41:25.487Z"
   },
   {
    "duration": 22,
    "start_time": "2021-07-15T13:41:25.666Z"
   },
   {
    "duration": 29,
    "start_time": "2021-07-15T13:41:25.689Z"
   },
   {
    "duration": 15,
    "start_time": "2021-07-15T13:41:25.720Z"
   },
   {
    "duration": 439,
    "start_time": "2021-07-15T13:41:25.737Z"
   },
   {
    "duration": 367,
    "start_time": "2021-07-15T13:41:26.178Z"
   },
   {
    "duration": 12,
    "start_time": "2021-07-15T13:41:26.546Z"
   },
   {
    "duration": 11,
    "start_time": "2021-07-15T13:41:26.560Z"
   },
   {
    "duration": 12,
    "start_time": "2021-07-15T13:41:26.573Z"
   },
   {
    "duration": 11,
    "start_time": "2021-07-15T13:41:26.586Z"
   },
   {
    "duration": 5,
    "start_time": "2021-07-15T13:41:26.599Z"
   },
   {
    "duration": 14,
    "start_time": "2021-07-15T13:41:26.605Z"
   },
   {
    "duration": 8,
    "start_time": "2021-07-15T13:41:26.621Z"
   },
   {
    "duration": 8,
    "start_time": "2021-07-15T13:41:26.630Z"
   },
   {
    "duration": 3,
    "start_time": "2021-07-15T13:41:26.640Z"
   },
   {
    "duration": 44,
    "start_time": "2021-07-15T13:41:26.644Z"
   },
   {
    "duration": 6,
    "start_time": "2021-07-15T13:41:26.690Z"
   },
   {
    "duration": 344,
    "start_time": "2021-07-15T13:41:26.697Z"
   },
   {
    "duration": 16,
    "start_time": "2021-07-15T13:41:27.043Z"
   },
   {
    "duration": 271,
    "start_time": "2021-07-15T13:41:27.060Z"
   },
   {
    "duration": 12,
    "start_time": "2021-07-15T13:41:27.333Z"
   },
   {
    "duration": 38,
    "start_time": "2021-07-15T13:41:27.347Z"
   },
   {
    "duration": 17,
    "start_time": "2021-07-15T13:41:27.387Z"
   },
   {
    "duration": 279,
    "start_time": "2021-07-15T13:41:27.406Z"
   },
   {
    "duration": 16,
    "start_time": "2021-07-15T13:41:27.686Z"
   },
   {
    "duration": 17,
    "start_time": "2021-07-15T13:41:27.704Z"
   },
   {
    "duration": 213,
    "start_time": "2021-07-15T13:41:27.722Z"
   },
   {
    "duration": 48,
    "start_time": "2021-07-15T13:41:27.937Z"
   },
   {
    "duration": 37,
    "start_time": "2021-07-15T13:41:27.987Z"
   },
   {
    "duration": 3,
    "start_time": "2021-07-15T13:41:28.026Z"
   },
   {
    "duration": 57,
    "start_time": "2021-07-15T13:41:28.031Z"
   },
   {
    "duration": 11,
    "start_time": "2021-07-15T13:41:28.090Z"
   },
   {
    "duration": 7,
    "start_time": "2021-07-15T13:41:28.102Z"
   },
   {
    "duration": 361,
    "start_time": "2021-07-15T13:41:28.110Z"
   },
   {
    "duration": 4,
    "start_time": "2021-07-15T13:41:28.472Z"
   },
   {
    "duration": 34,
    "start_time": "2021-07-15T13:41:28.477Z"
   },
   {
    "duration": 261,
    "start_time": "2021-07-15T13:41:28.512Z"
   },
   {
    "duration": 351,
    "start_time": "2021-07-15T13:41:28.775Z"
   },
   {
    "duration": 23,
    "start_time": "2021-07-15T13:41:29.127Z"
   },
   {
    "duration": 37,
    "start_time": "2021-07-15T13:41:29.151Z"
   },
   {
    "duration": 4,
    "start_time": "2021-07-15T13:41:29.190Z"
   },
   {
    "duration": 22,
    "start_time": "2021-07-15T13:41:29.195Z"
   },
   {
    "duration": 20,
    "start_time": "2021-07-15T13:41:29.219Z"
   },
   {
    "duration": 44,
    "start_time": "2021-07-15T13:41:29.241Z"
   },
   {
    "duration": 11,
    "start_time": "2021-07-15T13:41:29.287Z"
   },
   {
    "duration": 73,
    "start_time": "2021-07-15T13:41:29.300Z"
   },
   {
    "duration": 14,
    "start_time": "2021-07-15T13:41:29.390Z"
   },
   {
    "duration": 3,
    "start_time": "2021-07-15T13:41:29.406Z"
   },
   {
    "duration": 102,
    "start_time": "2021-07-15T13:41:29.411Z"
   },
   {
    "duration": 3,
    "start_time": "2021-07-15T13:41:29.515Z"
   },
   {
    "duration": 5,
    "start_time": "2021-07-15T13:41:29.520Z"
   },
   {
    "duration": 4,
    "start_time": "2021-07-15T13:41:29.526Z"
   },
   {
    "duration": 4,
    "start_time": "2021-07-15T13:41:29.531Z"
   },
   {
    "duration": 97,
    "start_time": "2021-07-15T13:41:29.537Z"
   },
   {
    "duration": 26,
    "start_time": "2021-07-15T13:41:29.636Z"
   },
   {
    "duration": 4,
    "start_time": "2021-07-15T13:41:29.663Z"
   },
   {
    "duration": 17,
    "start_time": "2021-07-15T13:41:29.669Z"
   },
   {
    "duration": 2,
    "start_time": "2021-07-15T13:41:29.688Z"
   },
   {
    "duration": 4,
    "start_time": "2021-07-15T13:41:29.692Z"
   },
   {
    "duration": 6,
    "start_time": "2021-07-15T13:41:29.698Z"
   },
   {
    "duration": 94,
    "start_time": "2021-07-15T13:41:29.706Z"
   },
   {
    "duration": 648,
    "start_time": "2021-07-15T13:41:29.801Z"
   },
   {
    "duration": 34,
    "start_time": "2021-07-15T13:41:30.451Z"
   },
   {
    "duration": 20,
    "start_time": "2021-07-15T13:41:30.487Z"
   },
   {
    "duration": 2,
    "start_time": "2021-07-15T13:41:30.509Z"
   },
   {
    "duration": 9,
    "start_time": "2021-07-15T13:41:30.513Z"
   },
   {
    "duration": 9465,
    "start_time": "2021-07-15T13:41:30.523Z"
   },
   {
    "duration": 1001,
    "start_time": "2021-07-15T13:41:39.990Z"
   },
   {
    "duration": 4,
    "start_time": "2021-07-15T13:41:40.993Z"
   },
   {
    "duration": 4,
    "start_time": "2021-07-15T13:41:40.998Z"
   },
   {
    "duration": 442,
    "start_time": "2021-07-15T13:41:41.004Z"
   },
   {
    "duration": 2,
    "start_time": "2021-07-15T13:41:41.448Z"
   },
   {
    "duration": 8,
    "start_time": "2021-07-15T13:41:41.452Z"
   },
   {
    "duration": 156463,
    "start_time": "2021-07-15T13:41:41.461Z"
   },
   {
    "duration": 473,
    "start_time": "2021-07-15T13:44:17.926Z"
   },
   {
    "duration": 4,
    "start_time": "2021-07-15T13:44:18.401Z"
   },
   {
    "duration": 5,
    "start_time": "2021-07-15T13:44:18.406Z"
   },
   {
    "duration": 8,
    "start_time": "2021-07-15T13:44:18.412Z"
   },
   {
    "duration": 439,
    "start_time": "2021-07-15T13:44:18.422Z"
   },
   {
    "duration": 3,
    "start_time": "2021-07-15T13:44:18.863Z"
   },
   {
    "duration": 308913,
    "start_time": "2021-07-15T13:44:18.868Z"
   },
   {
    "duration": 4,
    "start_time": "2021-07-15T13:49:27.782Z"
   },
   {
    "duration": 15,
    "start_time": "2021-07-15T13:49:27.787Z"
   },
   {
    "duration": 20,
    "start_time": "2021-07-15T13:49:27.804Z"
   },
   {
    "duration": 3,
    "start_time": "2021-07-15T13:51:38.732Z"
   },
   {
    "duration": 12,
    "start_time": "2021-07-15T13:51:39.592Z"
   },
   {
    "duration": 341878,
    "start_time": "2021-07-15T13:51:40.862Z"
   },
   {
    "duration": 56,
    "start_time": "2021-07-15T13:57:22.742Z"
   },
   {
    "duration": 3,
    "start_time": "2021-07-15T13:57:36.840Z"
   },
   {
    "duration": 8,
    "start_time": "2021-07-15T13:57:37.563Z"
   },
   {
    "duration": 325725,
    "start_time": "2021-07-15T13:57:38.351Z"
   },
   {
    "duration": 3,
    "start_time": "2021-07-15T14:03:08.498Z"
   },
   {
    "duration": 3,
    "start_time": "2021-07-15T14:03:08.908Z"
   },
   {
    "duration": 10198,
    "start_time": "2021-07-15T14:03:09.278Z"
   },
   {
    "duration": 11,
    "start_time": "2021-07-15T14:16:54.855Z"
   },
   {
    "duration": 1144,
    "start_time": "2021-07-15T14:19:22.916Z"
   },
   {
    "duration": 783,
    "start_time": "2021-07-15T14:19:24.061Z"
   },
   {
    "duration": 129,
    "start_time": "2021-07-15T14:19:24.846Z"
   },
   {
    "duration": 22,
    "start_time": "2021-07-15T14:19:24.977Z"
   },
   {
    "duration": 434,
    "start_time": "2021-07-15T14:19:25.000Z"
   },
   {
    "duration": 252,
    "start_time": "2021-07-15T14:19:25.436Z"
   },
   {
    "duration": 262,
    "start_time": "2021-07-15T14:19:25.690Z"
   },
   {
    "duration": 4,
    "start_time": "2021-07-15T14:19:25.954Z"
   },
   {
    "duration": 119,
    "start_time": "2021-07-15T14:19:25.962Z"
   },
   {
    "duration": 79,
    "start_time": "2021-07-15T14:19:26.085Z"
   },
   {
    "duration": 102,
    "start_time": "2021-07-15T14:19:26.166Z"
   },
   {
    "duration": 92,
    "start_time": "2021-07-15T14:19:26.270Z"
   },
   {
    "duration": 35,
    "start_time": "2021-07-15T14:19:26.365Z"
   },
   {
    "duration": 377,
    "start_time": "2021-07-15T14:19:26.402Z"
   },
   {
    "duration": 10,
    "start_time": "2021-07-15T14:19:26.784Z"
   },
   {
    "duration": 29,
    "start_time": "2021-07-15T14:19:26.796Z"
   },
   {
    "duration": 361,
    "start_time": "2021-07-15T14:19:26.826Z"
   },
   {
    "duration": 11,
    "start_time": "2021-07-15T14:19:27.188Z"
   },
   {
    "duration": 58,
    "start_time": "2021-07-15T14:19:27.200Z"
   },
   {
    "duration": 27,
    "start_time": "2021-07-15T14:19:27.259Z"
   },
   {
    "duration": 224,
    "start_time": "2021-07-15T14:19:27.287Z"
   },
   {
    "duration": 17,
    "start_time": "2021-07-15T14:19:27.513Z"
   },
   {
    "duration": 31,
    "start_time": "2021-07-15T14:19:27.531Z"
   },
   {
    "duration": 226,
    "start_time": "2021-07-15T14:19:27.563Z"
   },
   {
    "duration": 17,
    "start_time": "2021-07-15T14:19:27.790Z"
   },
   {
    "duration": 31,
    "start_time": "2021-07-15T14:19:27.809Z"
   },
   {
    "duration": 226,
    "start_time": "2021-07-15T14:19:27.845Z"
   },
   {
    "duration": 20,
    "start_time": "2021-07-15T14:19:28.073Z"
   },
   {
    "duration": 42,
    "start_time": "2021-07-15T14:19:28.095Z"
   },
   {
    "duration": 265,
    "start_time": "2021-07-15T14:19:28.139Z"
   },
   {
    "duration": 266,
    "start_time": "2021-07-15T14:19:28.406Z"
   },
   {
    "duration": 20,
    "start_time": "2021-07-15T14:19:28.674Z"
   },
   {
    "duration": 31,
    "start_time": "2021-07-15T14:19:28.696Z"
   },
   {
    "duration": 184,
    "start_time": "2021-07-15T14:19:28.728Z"
   },
   {
    "duration": 19,
    "start_time": "2021-07-15T14:19:28.914Z"
   },
   {
    "duration": 29,
    "start_time": "2021-07-15T14:19:28.934Z"
   },
   {
    "duration": 30,
    "start_time": "2021-07-15T14:19:28.965Z"
   },
   {
    "duration": 421,
    "start_time": "2021-07-15T14:19:28.997Z"
   },
   {
    "duration": 370,
    "start_time": "2021-07-15T14:19:29.419Z"
   },
   {
    "duration": 12,
    "start_time": "2021-07-15T14:19:29.791Z"
   },
   {
    "duration": 19,
    "start_time": "2021-07-15T14:19:29.804Z"
   },
   {
    "duration": 5,
    "start_time": "2021-07-15T14:19:29.825Z"
   },
   {
    "duration": 28,
    "start_time": "2021-07-15T14:19:29.832Z"
   },
   {
    "duration": 17,
    "start_time": "2021-07-15T14:19:29.862Z"
   },
   {
    "duration": 22,
    "start_time": "2021-07-15T14:19:29.881Z"
   },
   {
    "duration": 16,
    "start_time": "2021-07-15T14:19:29.905Z"
   },
   {
    "duration": 32,
    "start_time": "2021-07-15T14:19:29.923Z"
   },
   {
    "duration": 9,
    "start_time": "2021-07-15T14:19:29.956Z"
   },
   {
    "duration": 16,
    "start_time": "2021-07-15T14:19:29.967Z"
   },
   {
    "duration": 18,
    "start_time": "2021-07-15T14:19:29.985Z"
   },
   {
    "duration": 375,
    "start_time": "2021-07-15T14:19:30.005Z"
   },
   {
    "duration": 17,
    "start_time": "2021-07-15T14:19:30.381Z"
   },
   {
    "duration": 285,
    "start_time": "2021-07-15T14:19:30.400Z"
   },
   {
    "duration": 14,
    "start_time": "2021-07-15T14:19:30.686Z"
   },
   {
    "duration": 46,
    "start_time": "2021-07-15T14:19:30.701Z"
   },
   {
    "duration": 18,
    "start_time": "2021-07-15T14:19:30.749Z"
   },
   {
    "duration": 274,
    "start_time": "2021-07-15T14:19:30.769Z"
   },
   {
    "duration": 16,
    "start_time": "2021-07-15T14:19:31.044Z"
   },
   {
    "duration": 21,
    "start_time": "2021-07-15T14:19:31.061Z"
   },
   {
    "duration": 306,
    "start_time": "2021-07-15T14:19:31.083Z"
   },
   {
    "duration": 42,
    "start_time": "2021-07-15T14:19:31.391Z"
   },
   {
    "duration": 46,
    "start_time": "2021-07-15T14:19:31.486Z"
   },
   {
    "duration": 2,
    "start_time": "2021-07-15T14:19:31.586Z"
   },
   {
    "duration": 47,
    "start_time": "2021-07-15T14:19:31.589Z"
   },
   {
    "duration": 10,
    "start_time": "2021-07-15T14:19:31.638Z"
   },
   {
    "duration": 14,
    "start_time": "2021-07-15T14:19:31.650Z"
   },
   {
    "duration": 354,
    "start_time": "2021-07-15T14:19:31.666Z"
   },
   {
    "duration": 4,
    "start_time": "2021-07-15T14:19:32.021Z"
   },
   {
    "duration": 30,
    "start_time": "2021-07-15T14:19:32.027Z"
   },
   {
    "duration": 264,
    "start_time": "2021-07-15T14:19:32.059Z"
   },
   {
    "duration": 345,
    "start_time": "2021-07-15T14:19:32.325Z"
   },
   {
    "duration": 25,
    "start_time": "2021-07-15T14:19:32.671Z"
   },
   {
    "duration": 26,
    "start_time": "2021-07-15T14:19:32.698Z"
   },
   {
    "duration": 3,
    "start_time": "2021-07-15T14:19:32.726Z"
   },
   {
    "duration": 22,
    "start_time": "2021-07-15T14:19:32.731Z"
   },
   {
    "duration": 40,
    "start_time": "2021-07-15T14:19:32.755Z"
   },
   {
    "duration": 20,
    "start_time": "2021-07-15T14:19:32.796Z"
   },
   {
    "duration": 11,
    "start_time": "2021-07-15T14:19:32.817Z"
   },
   {
    "duration": 85,
    "start_time": "2021-07-15T14:19:32.830Z"
   },
   {
    "duration": 14,
    "start_time": "2021-07-15T14:19:32.917Z"
   },
   {
    "duration": 3,
    "start_time": "2021-07-15T14:19:32.936Z"
   },
   {
    "duration": 105,
    "start_time": "2021-07-15T14:19:32.941Z"
   },
   {
    "duration": 3,
    "start_time": "2021-07-15T14:19:33.048Z"
   },
   {
    "duration": 5,
    "start_time": "2021-07-15T14:19:33.053Z"
   },
   {
    "duration": 7,
    "start_time": "2021-07-15T14:19:33.059Z"
   },
   {
    "duration": 4,
    "start_time": "2021-07-15T14:19:33.068Z"
   },
   {
    "duration": 80,
    "start_time": "2021-07-15T14:19:33.085Z"
   },
   {
    "duration": 35,
    "start_time": "2021-07-15T14:19:33.166Z"
   },
   {
    "duration": 3,
    "start_time": "2021-07-15T14:19:33.203Z"
   },
   {
    "duration": 5,
    "start_time": "2021-07-15T14:19:33.207Z"
   },
   {
    "duration": 4,
    "start_time": "2021-07-15T14:19:33.214Z"
   },
   {
    "duration": 5,
    "start_time": "2021-07-15T14:19:33.219Z"
   },
   {
    "duration": 7,
    "start_time": "2021-07-15T14:19:33.226Z"
   },
   {
    "duration": 103,
    "start_time": "2021-07-15T14:19:33.234Z"
   },
   {
    "duration": 586,
    "start_time": "2021-07-15T14:19:33.338Z"
   },
   {
    "duration": 28,
    "start_time": "2021-07-15T14:19:33.926Z"
   },
   {
    "duration": 32,
    "start_time": "2021-07-15T14:19:33.956Z"
   },
   {
    "duration": 3,
    "start_time": "2021-07-15T14:19:33.989Z"
   },
   {
    "duration": 5,
    "start_time": "2021-07-15T14:19:33.993Z"
   },
   {
    "duration": 7191,
    "start_time": "2021-07-15T14:19:33.999Z"
   },
   {
    "duration": 1000,
    "start_time": "2021-07-15T14:19:41.192Z"
   },
   {
    "duration": 4,
    "start_time": "2021-07-15T14:19:42.193Z"
   },
   {
    "duration": 6,
    "start_time": "2021-07-15T14:19:42.198Z"
   },
   {
    "duration": 430,
    "start_time": "2021-07-15T14:19:42.205Z"
   },
   {
    "duration": 3,
    "start_time": "2021-07-15T14:19:42.636Z"
   },
   {
    "duration": 6,
    "start_time": "2021-07-15T14:19:42.640Z"
   },
   {
    "duration": 380293,
    "start_time": "2021-07-15T14:19:42.647Z"
   },
   {
    "duration": 1454,
    "start_time": "2021-07-15T14:26:02.942Z"
   },
   {
    "duration": 4,
    "start_time": "2021-07-15T14:26:04.398Z"
   },
   {
    "duration": 5,
    "start_time": "2021-07-15T14:26:04.403Z"
   },
   {
    "duration": 11,
    "start_time": "2021-07-15T14:26:04.409Z"
   },
   {
    "duration": 425,
    "start_time": "2021-07-15T14:26:04.422Z"
   },
   {
    "duration": 4,
    "start_time": "2021-07-15T14:26:04.848Z"
   },
   {
    "duration": 324381,
    "start_time": "2021-07-15T14:26:04.854Z"
   },
   {
    "duration": 3,
    "start_time": "2021-07-15T14:31:29.237Z"
   },
   {
    "duration": 13,
    "start_time": "2021-07-15T14:31:29.242Z"
   },
   {
    "duration": 36,
    "start_time": "2021-07-15T14:31:29.257Z"
   },
   {
    "duration": 11,
    "start_time": "2021-07-15T14:31:29.295Z"
   },
   {
    "duration": 1588,
    "start_time": "2021-07-16T07:50:34.873Z"
   },
   {
    "duration": 1150,
    "start_time": "2021-07-16T07:50:36.463Z"
   },
   {
    "duration": 306,
    "start_time": "2021-07-16T07:50:37.616Z"
   },
   {
    "duration": 79,
    "start_time": "2021-07-16T07:50:37.924Z"
   },
   {
    "duration": 688,
    "start_time": "2021-07-16T07:50:38.006Z"
   },
   {
    "duration": 345,
    "start_time": "2021-07-16T07:50:38.700Z"
   },
   {
    "duration": 361,
    "start_time": "2021-07-16T07:50:39.047Z"
   },
   {
    "duration": 5,
    "start_time": "2021-07-16T07:50:39.412Z"
   },
   {
    "duration": 180,
    "start_time": "2021-07-16T07:50:39.421Z"
   },
   {
    "duration": 113,
    "start_time": "2021-07-16T07:50:39.603Z"
   },
   {
    "duration": 144,
    "start_time": "2021-07-16T07:50:39.719Z"
   },
   {
    "duration": 123,
    "start_time": "2021-07-16T07:50:39.866Z"
   },
   {
    "duration": 27,
    "start_time": "2021-07-16T07:50:39.992Z"
   },
   {
    "duration": 586,
    "start_time": "2021-07-16T07:50:40.022Z"
   },
   {
    "duration": 15,
    "start_time": "2021-07-16T07:50:40.611Z"
   },
   {
    "duration": 47,
    "start_time": "2021-07-16T07:50:40.629Z"
   },
   {
    "duration": 569,
    "start_time": "2021-07-16T07:50:40.678Z"
   },
   {
    "duration": 16,
    "start_time": "2021-07-16T07:50:41.249Z"
   },
   {
    "duration": 117,
    "start_time": "2021-07-16T07:50:41.267Z"
   },
   {
    "duration": 17,
    "start_time": "2021-07-16T07:50:41.387Z"
   },
   {
    "duration": 359,
    "start_time": "2021-07-16T07:50:41.407Z"
   },
   {
    "duration": 33,
    "start_time": "2021-07-16T07:50:41.769Z"
   },
   {
    "duration": 43,
    "start_time": "2021-07-16T07:50:41.808Z"
   },
   {
    "duration": 336,
    "start_time": "2021-07-16T07:50:41.855Z"
   },
   {
    "duration": 29,
    "start_time": "2021-07-16T07:50:42.194Z"
   },
   {
    "duration": 51,
    "start_time": "2021-07-16T07:50:42.226Z"
   },
   {
    "duration": 330,
    "start_time": "2021-07-16T07:50:42.279Z"
   },
   {
    "duration": 25,
    "start_time": "2021-07-16T07:50:42.612Z"
   },
   {
    "duration": 66,
    "start_time": "2021-07-16T07:50:42.640Z"
   },
   {
    "duration": 378,
    "start_time": "2021-07-16T07:50:42.709Z"
   },
   {
    "duration": 392,
    "start_time": "2021-07-16T07:50:43.090Z"
   },
   {
    "duration": 34,
    "start_time": "2021-07-16T07:50:43.486Z"
   },
   {
    "duration": 45,
    "start_time": "2021-07-16T07:50:43.523Z"
   },
   {
    "duration": 269,
    "start_time": "2021-07-16T07:50:43.571Z"
   },
   {
    "duration": 25,
    "start_time": "2021-07-16T07:50:43.842Z"
   },
   {
    "duration": 58,
    "start_time": "2021-07-16T07:50:43.870Z"
   },
   {
    "duration": 22,
    "start_time": "2021-07-16T07:50:43.930Z"
   },
   {
    "duration": 643,
    "start_time": "2021-07-16T07:50:43.954Z"
   },
   {
    "duration": 599,
    "start_time": "2021-07-16T07:50:44.600Z"
   },
   {
    "duration": 19,
    "start_time": "2021-07-16T07:50:45.202Z"
   },
   {
    "duration": 18,
    "start_time": "2021-07-16T07:50:45.223Z"
   },
   {
    "duration": 3,
    "start_time": "2021-07-16T07:50:45.244Z"
   },
   {
    "duration": 51,
    "start_time": "2021-07-16T07:50:45.249Z"
   },
   {
    "duration": 8,
    "start_time": "2021-07-16T07:50:45.303Z"
   },
   {
    "duration": 15,
    "start_time": "2021-07-16T07:50:45.314Z"
   },
   {
    "duration": 11,
    "start_time": "2021-07-16T07:50:45.331Z"
   },
   {
    "duration": 11,
    "start_time": "2021-07-16T07:50:45.345Z"
   },
   {
    "duration": 6,
    "start_time": "2021-07-16T07:50:45.399Z"
   },
   {
    "duration": 10,
    "start_time": "2021-07-16T07:50:45.408Z"
   },
   {
    "duration": 8,
    "start_time": "2021-07-16T07:50:45.420Z"
   },
   {
    "duration": 572,
    "start_time": "2021-07-16T07:50:45.431Z"
   },
   {
    "duration": 18,
    "start_time": "2021-07-16T07:50:46.006Z"
   },
   {
    "duration": 444,
    "start_time": "2021-07-16T07:50:46.026Z"
   },
   {
    "duration": 29,
    "start_time": "2021-07-16T07:50:46.472Z"
   },
   {
    "duration": 34,
    "start_time": "2021-07-16T07:50:46.503Z"
   },
   {
    "duration": 22,
    "start_time": "2021-07-16T07:50:46.540Z"
   },
   {
    "duration": 466,
    "start_time": "2021-07-16T07:50:46.564Z"
   },
   {
    "duration": 21,
    "start_time": "2021-07-16T07:50:47.033Z"
   },
   {
    "duration": 51,
    "start_time": "2021-07-16T07:50:47.057Z"
   },
   {
    "duration": 308,
    "start_time": "2021-07-16T07:50:47.111Z"
   },
   {
    "duration": 53,
    "start_time": "2021-07-16T07:50:47.421Z"
   },
   {
    "duration": 70,
    "start_time": "2021-07-16T07:50:47.477Z"
   },
   {
    "duration": 3,
    "start_time": "2021-07-16T07:50:47.550Z"
   },
   {
    "duration": 69,
    "start_time": "2021-07-16T07:50:47.556Z"
   },
   {
    "duration": 13,
    "start_time": "2021-07-16T07:50:47.627Z"
   },
   {
    "duration": 8,
    "start_time": "2021-07-16T07:50:47.642Z"
   },
   {
    "duration": 554,
    "start_time": "2021-07-16T07:50:47.652Z"
   },
   {
    "duration": 5,
    "start_time": "2021-07-16T07:50:48.215Z"
   },
   {
    "duration": 31,
    "start_time": "2021-07-16T07:50:48.224Z"
   },
   {
    "duration": 420,
    "start_time": "2021-07-16T07:50:48.257Z"
   },
   {
    "duration": 488,
    "start_time": "2021-07-16T07:50:48.679Z"
   },
   {
    "duration": 47,
    "start_time": "2021-07-16T07:50:49.169Z"
   },
   {
    "duration": 33,
    "start_time": "2021-07-16T07:50:49.219Z"
   },
   {
    "duration": 6,
    "start_time": "2021-07-16T07:50:49.254Z"
   },
   {
    "duration": 62,
    "start_time": "2021-07-16T07:50:49.262Z"
   },
   {
    "duration": 31,
    "start_time": "2021-07-16T07:50:49.327Z"
   },
   {
    "duration": 48,
    "start_time": "2021-07-16T07:50:49.360Z"
   },
   {
    "duration": 18,
    "start_time": "2021-07-16T07:50:49.410Z"
   },
   {
    "duration": 107,
    "start_time": "2021-07-16T07:50:49.430Z"
   },
   {
    "duration": 20,
    "start_time": "2021-07-16T07:50:49.539Z"
   },
   {
    "duration": 6,
    "start_time": "2021-07-16T07:50:49.561Z"
   },
   {
    "duration": 143,
    "start_time": "2021-07-16T07:50:49.570Z"
   },
   {
    "duration": 5,
    "start_time": "2021-07-16T07:50:49.715Z"
   },
   {
    "duration": 15,
    "start_time": "2021-07-16T07:50:49.722Z"
   },
   {
    "duration": 10,
    "start_time": "2021-07-16T07:50:49.739Z"
   },
   {
    "duration": 13,
    "start_time": "2021-07-16T07:50:49.751Z"
   },
   {
    "duration": 164,
    "start_time": "2021-07-16T07:50:49.766Z"
   },
   {
    "duration": 51,
    "start_time": "2021-07-16T07:50:49.932Z"
   },
   {
    "duration": 17,
    "start_time": "2021-07-16T07:50:49.985Z"
   },
   {
    "duration": 22,
    "start_time": "2021-07-16T07:50:50.004Z"
   },
   {
    "duration": 21,
    "start_time": "2021-07-16T07:50:50.028Z"
   },
   {
    "duration": 14,
    "start_time": "2021-07-16T07:50:50.051Z"
   },
   {
    "duration": 31,
    "start_time": "2021-07-16T07:50:50.068Z"
   },
   {
    "duration": 123,
    "start_time": "2021-07-16T07:50:50.101Z"
   },
   {
    "duration": 910,
    "start_time": "2021-07-16T07:50:50.227Z"
   },
   {
    "duration": 38,
    "start_time": "2021-07-16T07:50:51.139Z"
   },
   {
    "duration": 46,
    "start_time": "2021-07-16T07:50:51.180Z"
   },
   {
    "duration": 5,
    "start_time": "2021-07-16T07:50:51.229Z"
   },
   {
    "duration": 18,
    "start_time": "2021-07-16T07:50:51.237Z"
   },
   {
    "duration": 9445,
    "start_time": "2021-07-16T07:50:51.258Z"
   },
   {
    "duration": 3,
    "start_time": "2021-07-16T07:51:06.705Z"
   },
   {
    "duration": 5,
    "start_time": "2021-07-16T07:51:13.134Z"
   },
   {
    "duration": 6,
    "start_time": "2021-07-16T07:51:32.513Z"
   },
   {
    "duration": 5,
    "start_time": "2021-07-16T07:51:46.760Z"
   },
   {
    "duration": 681,
    "start_time": "2021-07-16T07:52:04.327Z"
   },
   {
    "duration": 5,
    "start_time": "2021-07-16T07:52:07.075Z"
   },
   {
    "duration": 416,
    "start_time": "2021-07-16T07:53:45.285Z"
   },
   {
    "duration": 108,
    "start_time": "2021-07-16T07:54:16.864Z"
   },
   {
    "duration": 4,
    "start_time": "2021-07-16T07:54:26.443Z"
   },
   {
    "duration": 562,
    "start_time": "2021-07-16T07:54:28.418Z"
   },
   {
    "duration": 4,
    "start_time": "2021-07-16T07:54:34.258Z"
   },
   {
    "duration": 4,
    "start_time": "2021-07-16T07:54:39.591Z"
   },
   {
    "duration": 553169,
    "start_time": "2021-07-16T07:54:41.824Z"
   },
   {
    "duration": 993,
    "start_time": "2021-07-16T08:03:56.021Z"
   },
   {
    "duration": 272,
    "start_time": "2021-07-16T09:06:23.185Z"
   },
   {
    "duration": 5,
    "start_time": "2021-07-16T09:06:27.779Z"
   },
   {
    "duration": 282,
    "start_time": "2021-07-16T09:07:03.377Z"
   },
   {
    "duration": 6,
    "start_time": "2021-07-16T09:07:13.009Z"
   },
   {
    "duration": 5,
    "start_time": "2021-07-16T09:07:20.341Z"
   },
   {
    "duration": 4,
    "start_time": "2021-07-16T09:07:35.753Z"
   },
   {
    "duration": 3,
    "start_time": "2021-07-16T09:14:58.790Z"
   },
   {
    "duration": 937,
    "start_time": "2021-07-16T09:14:59.680Z"
   },
   {
    "duration": 6,
    "start_time": "2021-07-16T09:15:04.115Z"
   },
   {
    "duration": 403,
    "start_time": "2021-07-16T09:15:07.779Z"
   },
   {
    "duration": 341,
    "start_time": "2021-07-16T09:17:22.116Z"
   },
   {
    "duration": 327,
    "start_time": "2021-07-16T09:17:27.735Z"
   },
   {
    "duration": 283,
    "start_time": "2021-07-16T09:18:14.906Z"
   },
   {
    "duration": 6,
    "start_time": "2021-07-16T09:23:30.711Z"
   },
   {
    "duration": 288,
    "start_time": "2021-07-16T09:25:21.436Z"
   },
   {
    "duration": 293,
    "start_time": "2021-07-16T09:25:42.417Z"
   },
   {
    "duration": 13,
    "start_time": "2021-07-16T09:26:36.516Z"
   },
   {
    "duration": 103,
    "start_time": "2021-07-16T09:26:46.386Z"
   },
   {
    "duration": 15,
    "start_time": "2021-07-16T09:26:55.355Z"
   },
   {
    "duration": 14,
    "start_time": "2021-07-16T09:27:06.267Z"
   },
   {
    "duration": 541,
    "start_time": "2021-07-16T09:27:07.841Z"
   },
   {
    "duration": 4,
    "start_time": "2021-07-16T09:27:17.110Z"
   },
   {
    "duration": 938,
    "start_time": "2021-07-16T09:27:17.778Z"
   },
   {
    "duration": 6,
    "start_time": "2021-07-16T09:27:19.380Z"
   },
   {
    "duration": 333,
    "start_time": "2021-07-16T09:27:20.410Z"
   },
   {
    "duration": 3,
    "start_time": "2021-07-16T09:27:58.442Z"
   },
   {
    "duration": 12,
    "start_time": "2021-07-16T09:28:01.108Z"
   },
   {
    "duration": 12,
    "start_time": "2021-07-16T09:28:15.973Z"
   },
   {
    "duration": 6,
    "start_time": "2021-07-16T09:28:37.054Z"
   },
   {
    "duration": 14,
    "start_time": "2021-07-16T09:28:38.992Z"
   },
   {
    "duration": 12,
    "start_time": "2021-07-16T09:29:44.766Z"
   },
   {
    "duration": 13,
    "start_time": "2021-07-16T09:29:52.873Z"
   },
   {
    "duration": 301,
    "start_time": "2021-07-16T09:30:48.984Z"
   },
   {
    "duration": 99,
    "start_time": "2021-07-16T09:39:28.709Z"
   },
   {
    "duration": 17,
    "start_time": "2021-07-16T09:39:38.266Z"
   },
   {
    "duration": 16,
    "start_time": "2021-07-16T09:40:01.216Z"
   },
   {
    "duration": 15,
    "start_time": "2021-07-16T09:40:15.523Z"
   },
   {
    "duration": 13,
    "start_time": "2021-07-16T09:40:19.519Z"
   },
   {
    "duration": 275,
    "start_time": "2021-07-16T09:40:57.630Z"
   },
   {
    "duration": 15,
    "start_time": "2021-07-16T09:41:03.565Z"
   },
   {
    "duration": 14,
    "start_time": "2021-07-16T09:41:42.736Z"
   },
   {
    "duration": 93,
    "start_time": "2021-07-16T09:55:28.023Z"
   },
   {
    "duration": 7,
    "start_time": "2021-07-16T09:58:00.268Z"
   },
   {
    "duration": 3,
    "start_time": "2021-07-16T10:01:16.313Z"
   },
   {
    "duration": 19,
    "start_time": "2021-07-16T10:03:35.624Z"
   },
   {
    "duration": 185,
    "start_time": "2021-07-16T10:04:42.607Z"
   },
   {
    "duration": 1567,
    "start_time": "2021-07-16T10:05:38.223Z"
   },
   {
    "duration": 1171,
    "start_time": "2021-07-16T10:05:39.793Z"
   },
   {
    "duration": 165,
    "start_time": "2021-07-16T10:05:40.967Z"
   },
   {
    "duration": 27,
    "start_time": "2021-07-16T10:05:41.134Z"
   },
   {
    "duration": 681,
    "start_time": "2021-07-16T10:05:41.163Z"
   },
   {
    "duration": 391,
    "start_time": "2021-07-16T10:05:41.846Z"
   },
   {
    "duration": 617,
    "start_time": "2021-07-16T10:05:42.239Z"
   },
   {
    "duration": 5,
    "start_time": "2021-07-16T10:05:42.860Z"
   },
   {
    "duration": 158,
    "start_time": "2021-07-16T10:05:42.868Z"
   },
   {
    "duration": 106,
    "start_time": "2021-07-16T10:05:43.029Z"
   },
   {
    "duration": 287,
    "start_time": "2021-07-16T10:05:43.138Z"
   },
   {
    "duration": 221,
    "start_time": "2021-07-16T10:05:43.428Z"
   },
   {
    "duration": 23,
    "start_time": "2021-07-16T10:05:43.652Z"
   },
   {
    "duration": 601,
    "start_time": "2021-07-16T10:05:43.678Z"
   },
   {
    "duration": 30,
    "start_time": "2021-07-16T10:05:44.282Z"
   },
   {
    "duration": 48,
    "start_time": "2021-07-16T10:05:44.315Z"
   },
   {
    "duration": 551,
    "start_time": "2021-07-16T10:05:44.365Z"
   },
   {
    "duration": 15,
    "start_time": "2021-07-16T10:05:44.918Z"
   },
   {
    "duration": 115,
    "start_time": "2021-07-16T10:05:44.936Z"
   },
   {
    "duration": 8,
    "start_time": "2021-07-16T10:05:45.053Z"
   },
   {
    "duration": 341,
    "start_time": "2021-07-16T10:05:45.063Z"
   },
   {
    "duration": 24,
    "start_time": "2021-07-16T10:05:45.406Z"
   },
   {
    "duration": 39,
    "start_time": "2021-07-16T10:05:45.436Z"
   },
   {
    "duration": 293,
    "start_time": "2021-07-16T10:05:45.502Z"
   },
   {
    "duration": 24,
    "start_time": "2021-07-16T10:05:45.800Z"
   },
   {
    "duration": 39,
    "start_time": "2021-07-16T10:05:45.827Z"
   },
   {
    "duration": 318,
    "start_time": "2021-07-16T10:05:45.868Z"
   },
   {
    "duration": 33,
    "start_time": "2021-07-16T10:05:46.188Z"
   },
   {
    "duration": 43,
    "start_time": "2021-07-16T10:05:46.223Z"
   },
   {
    "duration": 374,
    "start_time": "2021-07-16T10:05:46.269Z"
   },
   {
    "duration": 385,
    "start_time": "2021-07-16T10:05:46.646Z"
   },
   {
    "duration": 25,
    "start_time": "2021-07-16T10:05:47.034Z"
   },
   {
    "duration": 61,
    "start_time": "2021-07-16T10:05:47.061Z"
   },
   {
    "duration": 264,
    "start_time": "2021-07-16T10:05:47.125Z"
   },
   {
    "duration": 30,
    "start_time": "2021-07-16T10:05:47.392Z"
   },
   {
    "duration": 40,
    "start_time": "2021-07-16T10:05:47.425Z"
   },
   {
    "duration": 44,
    "start_time": "2021-07-16T10:05:47.467Z"
   },
   {
    "duration": 726,
    "start_time": "2021-07-16T10:05:47.513Z"
   },
   {
    "duration": 588,
    "start_time": "2021-07-16T10:05:48.241Z"
   },
   {
    "duration": 18,
    "start_time": "2021-07-16T10:05:48.831Z"
   },
   {
    "duration": 17,
    "start_time": "2021-07-16T10:05:48.852Z"
   },
   {
    "duration": 30,
    "start_time": "2021-07-16T10:05:48.871Z"
   },
   {
    "duration": 15,
    "start_time": "2021-07-16T10:05:48.903Z"
   },
   {
    "duration": 7,
    "start_time": "2021-07-16T10:05:48.921Z"
   },
   {
    "duration": 15,
    "start_time": "2021-07-16T10:05:48.931Z"
   },
   {
    "duration": 51,
    "start_time": "2021-07-16T10:05:48.949Z"
   },
   {
    "duration": 11,
    "start_time": "2021-07-16T10:05:49.003Z"
   },
   {
    "duration": 4,
    "start_time": "2021-07-16T10:05:49.017Z"
   },
   {
    "duration": 12,
    "start_time": "2021-07-16T10:05:49.024Z"
   },
   {
    "duration": 15,
    "start_time": "2021-07-16T10:05:49.038Z"
   },
   {
    "duration": 561,
    "start_time": "2021-07-16T10:05:49.056Z"
   },
   {
    "duration": 18,
    "start_time": "2021-07-16T10:05:49.619Z"
   },
   {
    "duration": 612,
    "start_time": "2021-07-16T10:05:49.639Z"
   },
   {
    "duration": 22,
    "start_time": "2021-07-16T10:05:50.254Z"
   },
   {
    "duration": 60,
    "start_time": "2021-07-16T10:05:50.279Z"
   },
   {
    "duration": 31,
    "start_time": "2021-07-16T10:05:50.343Z"
   },
   {
    "duration": 649,
    "start_time": "2021-07-16T10:05:50.377Z"
   },
   {
    "duration": 20,
    "start_time": "2021-07-16T10:05:51.029Z"
   },
   {
    "duration": 50,
    "start_time": "2021-07-16T10:05:51.052Z"
   },
   {
    "duration": 301,
    "start_time": "2021-07-16T10:05:51.105Z"
   },
   {
    "duration": 53,
    "start_time": "2021-07-16T10:05:51.408Z"
   },
   {
    "duration": 74,
    "start_time": "2021-07-16T10:05:51.464Z"
   },
   {
    "duration": 3,
    "start_time": "2021-07-16T10:05:51.540Z"
   },
   {
    "duration": 65,
    "start_time": "2021-07-16T10:05:51.546Z"
   },
   {
    "duration": 13,
    "start_time": "2021-07-16T10:05:51.613Z"
   },
   {
    "duration": 9,
    "start_time": "2021-07-16T10:05:51.628Z"
   },
   {
    "duration": 574,
    "start_time": "2021-07-16T10:05:51.639Z"
   },
   {
    "duration": 7,
    "start_time": "2021-07-16T10:05:52.222Z"
   },
   {
    "duration": 37,
    "start_time": "2021-07-16T10:05:52.233Z"
   },
   {
    "duration": 439,
    "start_time": "2021-07-16T10:05:52.272Z"
   },
   {
    "duration": 513,
    "start_time": "2021-07-16T10:05:52.713Z"
   },
   {
    "duration": 36,
    "start_time": "2021-07-16T10:05:53.229Z"
   },
   {
    "duration": 53,
    "start_time": "2021-07-16T10:05:53.268Z"
   },
   {
    "duration": 6,
    "start_time": "2021-07-16T10:05:53.324Z"
   },
   {
    "duration": 44,
    "start_time": "2021-07-16T10:05:53.332Z"
   },
   {
    "duration": 46,
    "start_time": "2021-07-16T10:05:53.379Z"
   },
   {
    "duration": 34,
    "start_time": "2021-07-16T10:05:53.427Z"
   },
   {
    "duration": 40,
    "start_time": "2021-07-16T10:05:53.463Z"
   },
   {
    "duration": 105,
    "start_time": "2021-07-16T10:05:53.505Z"
   },
   {
    "duration": 23,
    "start_time": "2021-07-16T10:05:53.613Z"
   },
   {
    "duration": 6,
    "start_time": "2021-07-16T10:05:53.639Z"
   },
   {
    "duration": 154,
    "start_time": "2021-07-16T10:05:53.648Z"
   },
   {
    "duration": 6,
    "start_time": "2021-07-16T10:05:53.805Z"
   },
   {
    "duration": 5,
    "start_time": "2021-07-16T10:05:53.814Z"
   },
   {
    "duration": 9,
    "start_time": "2021-07-16T10:05:53.822Z"
   },
   {
    "duration": 8,
    "start_time": "2021-07-16T10:05:53.834Z"
   },
   {
    "duration": 9,
    "start_time": "2021-07-16T10:05:53.844Z"
   },
   {
    "duration": 206,
    "start_time": "2021-07-16T10:05:53.856Z"
   },
   {
    "duration": 71,
    "start_time": "2021-07-16T10:05:54.064Z"
   },
   {
    "duration": 5,
    "start_time": "2021-07-16T10:05:54.137Z"
   },
   {
    "duration": 12,
    "start_time": "2021-07-16T10:05:54.145Z"
   },
   {
    "duration": 18,
    "start_time": "2021-07-16T10:05:54.159Z"
   },
   {
    "duration": 19,
    "start_time": "2021-07-16T10:05:54.179Z"
   },
   {
    "duration": 17,
    "start_time": "2021-07-16T10:05:54.201Z"
   },
   {
    "duration": 142,
    "start_time": "2021-07-16T10:05:54.221Z"
   },
   {
    "duration": 971,
    "start_time": "2021-07-16T10:05:54.366Z"
   },
   {
    "duration": 44,
    "start_time": "2021-07-16T10:05:55.339Z"
   },
   {
    "duration": 48,
    "start_time": "2021-07-16T10:05:55.386Z"
   },
   {
    "duration": 19,
    "start_time": "2021-07-16T10:05:55.436Z"
   },
   {
    "duration": 235,
    "start_time": "2021-07-16T10:05:55.458Z"
   },
   {
    "duration": 4,
    "start_time": "2021-07-16T10:05:55.699Z"
   },
   {
    "duration": 6,
    "start_time": "2021-07-16T10:05:55.706Z"
   },
   {
    "duration": 12398,
    "start_time": "2021-07-16T10:05:55.715Z"
   },
   {
    "duration": 8,
    "start_time": "2021-07-16T10:06:08.199Z"
   },
   {
    "duration": 890,
    "start_time": "2021-07-16T10:06:08.210Z"
   },
   {
    "duration": 7,
    "start_time": "2021-07-16T10:06:09.103Z"
   },
   {
    "duration": 8,
    "start_time": "2021-07-16T10:06:09.113Z"
   },
   {
    "duration": 556,
    "start_time": "2021-07-16T10:06:09.123Z"
   },
   {
    "duration": 5,
    "start_time": "2021-07-16T10:06:09.682Z"
   },
   {
    "duration": 3,
    "start_time": "2021-07-16T10:06:09.701Z"
   },
   {
    "duration": 554787,
    "start_time": "2021-07-16T10:06:09.707Z"
   },
   {
    "duration": 4,
    "start_time": "2021-07-16T10:15:24.496Z"
   },
   {
    "duration": 1004,
    "start_time": "2021-07-16T10:15:24.502Z"
   },
   {
    "duration": 6,
    "start_time": "2021-07-16T10:15:25.508Z"
   },
   {
    "duration": 13,
    "start_time": "2021-07-16T10:15:25.516Z"
   },
   {
    "duration": 557,
    "start_time": "2021-07-16T10:15:25.531Z"
   },
   {
    "duration": 10,
    "start_time": "2021-07-16T10:15:26.090Z"
   },
   {
    "duration": 457,
    "start_time": "2021-07-16T10:15:26.102Z"
   },
   {
    "duration": 5,
    "start_time": "2021-07-16T10:15:26.562Z"
   },
   {
    "duration": 21,
    "start_time": "2021-07-16T10:15:26.569Z"
   },
   {
    "duration": 18,
    "start_time": "2021-07-16T10:15:26.592Z"
   },
   {
    "duration": 18,
    "start_time": "2021-07-16T10:15:26.613Z"
   },
   {
    "duration": 102,
    "start_time": "2021-07-16T10:15:26.635Z"
   },
   {
    "duration": 271743,
    "start_time": "2021-07-16T10:16:24.839Z"
   },
   {
    "duration": 16,
    "start_time": "2021-07-16T10:20:56.584Z"
   },
   {
    "duration": 15,
    "start_time": "2021-07-16T10:20:56.604Z"
   },
   {
    "duration": 16,
    "start_time": "2021-07-16T10:20:56.622Z"
   },
   {
    "duration": 20,
    "start_time": "2021-07-16T10:20:56.641Z"
   },
   {
    "duration": 102,
    "start_time": "2021-07-16T10:20:56.664Z"
   }
  ],
  "kernelspec": {
   "display_name": "Python 3 (ipykernel)",
   "language": "python",
   "name": "python3"
  },
  "language_info": {
   "codemirror_mode": {
    "name": "ipython",
    "version": 3
   },
   "file_extension": ".py",
   "mimetype": "text/x-python",
   "name": "python",
   "nbconvert_exporter": "python",
   "pygments_lexer": "ipython3",
   "version": "3.9.1"
  },
  "toc": {
   "base_numbering": 1,
   "nav_menu": {},
   "number_sections": true,
   "sideBar": true,
   "skip_h1_title": true,
   "title_cell": "Table of Contents",
   "title_sidebar": "Contents",
   "toc_cell": false,
   "toc_position": {},
   "toc_section_display": true,
   "toc_window_display": true
  }
 },
 "nbformat": 4,
 "nbformat_minor": 2
}
