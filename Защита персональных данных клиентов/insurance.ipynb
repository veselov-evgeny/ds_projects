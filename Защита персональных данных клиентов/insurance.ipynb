{
 "cells": [
  {
   "cell_type": "markdown",
   "metadata": {},
   "source": [
    "# Защита персональных данных клиентов"
   ]
  },
  {
   "cell_type": "markdown",
   "metadata": {},
   "source": [
    "Необходимо защитить данные, разработав метод преобразования данных, который бы усложнил восстановление персональных данных. При этом нужно, чтобы качество моделей машинного обучения для зашифрованных данных не ухудшилось."
   ]
  },
  {
   "cell_type": "markdown",
   "metadata": {},
   "source": [
    "## Загрузка данных"
   ]
  },
  {
   "cell_type": "code",
   "execution_count": 1,
   "metadata": {},
   "outputs": [],
   "source": [
    "import pandas as pd\n",
    "import numpy as np\n",
    "from sklearn.model_selection import train_test_split\n",
    "from sklearn.preprocessing import StandardScaler\n",
    "from sklearn.linear_model import LinearRegression"
   ]
  },
  {
   "cell_type": "code",
   "execution_count": 2,
   "metadata": {},
   "outputs": [],
   "source": [
    "df = pd.read_csv('datasets/insurance.csv')"
   ]
  },
  {
   "cell_type": "code",
   "execution_count": 3,
   "metadata": {},
   "outputs": [
    {
     "name": "stdout",
     "output_type": "stream",
     "text": [
      "<class 'pandas.core.frame.DataFrame'>\n",
      "RangeIndex: 5000 entries, 0 to 4999\n",
      "Data columns (total 5 columns):\n",
      " #   Column             Non-Null Count  Dtype  \n",
      "---  ------             --------------  -----  \n",
      " 0   Пол                5000 non-null   int64  \n",
      " 1   Возраст            5000 non-null   float64\n",
      " 2   Зарплата           5000 non-null   float64\n",
      " 3   Члены семьи        5000 non-null   int64  \n",
      " 4   Страховые выплаты  5000 non-null   int64  \n",
      "dtypes: float64(2), int64(3)\n",
      "memory usage: 195.4 KB\n"
     ]
    }
   ],
   "source": [
    "df.info()"
   ]
  },
  {
   "cell_type": "code",
   "execution_count": 4,
   "metadata": {},
   "outputs": [
    {
     "data": {
      "text/html": [
       "<div>\n",
       "<style scoped>\n",
       "    .dataframe tbody tr th:only-of-type {\n",
       "        vertical-align: middle;\n",
       "    }\n",
       "\n",
       "    .dataframe tbody tr th {\n",
       "        vertical-align: top;\n",
       "    }\n",
       "\n",
       "    .dataframe thead th {\n",
       "        text-align: right;\n",
       "    }\n",
       "</style>\n",
       "<table border=\"1\" class=\"dataframe\">\n",
       "  <thead>\n",
       "    <tr style=\"text-align: right;\">\n",
       "      <th></th>\n",
       "      <th>Пол</th>\n",
       "      <th>Возраст</th>\n",
       "      <th>Зарплата</th>\n",
       "      <th>Члены семьи</th>\n",
       "      <th>Страховые выплаты</th>\n",
       "    </tr>\n",
       "  </thead>\n",
       "  <tbody>\n",
       "    <tr>\n",
       "      <th>0</th>\n",
       "      <td>1</td>\n",
       "      <td>41.0</td>\n",
       "      <td>49600.0</td>\n",
       "      <td>1</td>\n",
       "      <td>0</td>\n",
       "    </tr>\n",
       "    <tr>\n",
       "      <th>1</th>\n",
       "      <td>0</td>\n",
       "      <td>46.0</td>\n",
       "      <td>38000.0</td>\n",
       "      <td>1</td>\n",
       "      <td>1</td>\n",
       "    </tr>\n",
       "    <tr>\n",
       "      <th>2</th>\n",
       "      <td>0</td>\n",
       "      <td>29.0</td>\n",
       "      <td>21000.0</td>\n",
       "      <td>0</td>\n",
       "      <td>0</td>\n",
       "    </tr>\n",
       "    <tr>\n",
       "      <th>3</th>\n",
       "      <td>0</td>\n",
       "      <td>21.0</td>\n",
       "      <td>41700.0</td>\n",
       "      <td>2</td>\n",
       "      <td>0</td>\n",
       "    </tr>\n",
       "    <tr>\n",
       "      <th>4</th>\n",
       "      <td>1</td>\n",
       "      <td>28.0</td>\n",
       "      <td>26100.0</td>\n",
       "      <td>0</td>\n",
       "      <td>0</td>\n",
       "    </tr>\n",
       "  </tbody>\n",
       "</table>\n",
       "</div>"
      ],
      "text/plain": [
       "   Пол  Возраст  Зарплата  Члены семьи  Страховые выплаты\n",
       "0    1     41.0   49600.0            1                  0\n",
       "1    0     46.0   38000.0            1                  1\n",
       "2    0     29.0   21000.0            0                  0\n",
       "3    0     21.0   41700.0            2                  0\n",
       "4    1     28.0   26100.0            0                  0"
      ]
     },
     "execution_count": 4,
     "metadata": {},
     "output_type": "execute_result"
    }
   ],
   "source": [
    "df.head()"
   ]
  },
  {
   "cell_type": "markdown",
   "metadata": {},
   "source": [
    "## Умножение матриц"
   ]
  },
  {
   "cell_type": "markdown",
   "metadata": {},
   "source": [
    "### Вопрос"
   ]
  },
  {
   "cell_type": "markdown",
   "metadata": {},
   "source": [
    "Обозначения:\n",
    "\n",
    "- $X$ — матрица признаков (нулевой столбец состоит из единиц)\n",
    "\n",
    "- $y$ — вектор целевого признака\n",
    "\n",
    "- $P$ — матрица, на которую умножаются признаки\n",
    "\n",
    "- $w$ — вектор весов линейной регрессии (нулевой элемент равен сдвигу)"
   ]
  },
  {
   "cell_type": "markdown",
   "metadata": {},
   "source": [
    "Предсказания:\n",
    "\n",
    "$$\n",
    "a = Xw\n",
    "$$\n",
    "\n",
    "Задача обучения:\n",
    "\n",
    "$$\n",
    "w = \\arg\\min_w MSE(Xw, y)\n",
    "$$\n",
    "\n",
    "Формула обучения:\n",
    "\n",
    "$$\n",
    "w = (X^T X)^{-1} X^T y\n",
    "$$"
   ]
  },
  {
   "cell_type": "markdown",
   "metadata": {},
   "source": [
    "**Признаки умножают на обратимую матрицу. Изменится ли качество линейной регрессии?**"
   ]
  },
  {
   "cell_type": "markdown",
   "metadata": {},
   "source": [
    "### Ответ"
   ]
  },
  {
   "cell_type": "markdown",
   "metadata": {},
   "source": [
    "Не изменится."
   ]
  },
  {
   "cell_type": "markdown",
   "metadata": {},
   "source": [
    "### Обоснование"
   ]
  },
  {
   "cell_type": "markdown",
   "metadata": {},
   "source": [
    "Предположим, что мы преобразовали матрицу признаков $X$, умножив её на некую обратимую матрицу $P$. \n",
    "\n",
    "$$\n",
    "X_P = XP\n",
    "$$\n",
    "\n",
    "Тогда изменённый вектор весов $w_P$ можно представить так:\n",
    "\n",
    "$$\n",
    "w_P = (X_P^T X_P)^{-1} X_P^T y\n",
    "$$\n",
    "\n",
    "$$\n",
    "w_P = ((XP)^T(XP))^{-1} (XP)^Ty\n",
    "$$\n",
    "\n",
    "Воспользуемся следующими свойствами умножения матриц:\n",
    "$$\n",
    "(A^T)^{−1}=(A^{−1})^T.\n",
    "$$\n",
    "$$\n",
    "(AB)^{−1}=B^{−1}A^{−1}\n",
    "$$\n",
    "$$\n",
    "(AB)^T=B^TA^T\n",
    "$$\n",
    "$$\n",
    "(AB)C=A(BC)\n",
    "$$\n",
    "\n",
    "Итак:\n",
    "\n",
    "$$\n",
    "w_P = ((XP)^T(XP))^{-1} (XP)^Ty\n",
    "$$\n",
    "\n",
    "$$\n",
    "w_P = (XP)^{-1}((XP)^T)^{-1}(XP)^Ty\n",
    "$$\n",
    "\n",
    "$$\n",
    "w_P = P^{-1}X^{-1}((XP)^T)^{-1}(XP)^Ty\n",
    "$$\n",
    "\n",
    "$$\n",
    "w_P = P^{-1}((XP)^TX)^{-1}(XP)^Ty\n",
    "$$\n",
    "\n",
    "$$\n",
    "w_P = P^{-1}(P^TX^TX)^{-1}(XP)^Ty\n",
    "$$\n",
    "\n",
    "$$\n",
    "w_P = P^{-1}(X^TX)^{-1}(P^T)^{-1}(XP)^Ty\n",
    "$$\n",
    "\n",
    "$$\n",
    "w_P = P^{-1}(X^TX)^{-1}(P^T)^{-1}P^TX^Ty\n",
    "$$\n",
    "\n",
    "$$\n",
    "w_P = P^{-1}(X^TX)^{-1}X^Ty\n",
    "$$\n",
    "\n",
    "\n",
    "$$\n",
    "w_P = P^{-1}w\n",
    "$$\n",
    "\n",
    "Таким образом, если мы обучим модель преобразованными данными $X_P$, получим изменённый вектор весов $w_P$ и будем проводить валидацию на преобразованных данных $Z_P = ZP$, то получим следующие предсказания:\n",
    "\n",
    "\n",
    "$$\n",
    "a_P = Z_Pw_P\n",
    "$$\n",
    "\n",
    "$$\n",
    "a_P = ZPP^{-1}w\n",
    "$$\n",
    "\n",
    "$$\n",
    "a_P = Zw\n",
    "$$\n",
    "\n",
    "Мы видим, что предсказания будут соответствовать непреобразованным данным, следовательно оценка не поменяется."
   ]
  },
  {
   "cell_type": "markdown",
   "metadata": {},
   "source": [
    "## Алгоритм преобразования"
   ]
  },
  {
   "cell_type": "markdown",
   "metadata": {},
   "source": [
    "### Алгоритм"
   ]
  },
  {
   "cell_type": "markdown",
   "metadata": {},
   "source": [
    "Умножение матриц разных размеров\n",
    "\n",
    "\n",
    "$$\n",
    "A_{m × n} B_{n × p} = C_{m × p}\n",
    "$$\n",
    "\n",
    "Чтобы получить матрицу $C$ такого же размера как и $A$, матрица $B$ должна быть квадратной. \n",
    "\n",
    "$$\n",
    "A_{m × n} B_{n × n} = C_{m × n}\n",
    "$$"
   ]
  },
  {
   "cell_type": "markdown",
   "metadata": {},
   "source": [
    "1. Сгенерируем квадратную матрицу-\"шифр\" размера количества признаков (4)\n",
    "2. Убедимся, что она обратимая\n",
    "3. Подготовим обучающую и валидационную выборки\n",
    "4. Обучим модель на обучающей выборке\n",
    "5. Рассчитаем качество модели на валидационной\n",
    "6. Преобразуем обучающую и валидационную выборки, умножив их на матрицу-\"шифр\"\n",
    "7. Снова обучим модель \n",
    "8. Рассчитаем качество модели для зашифрованных данных\n",
    "9. Проверим совпадают ли оценки качества"
   ]
  },
  {
   "cell_type": "markdown",
   "metadata": {},
   "source": [
    "### Обоснование"
   ]
  },
  {
   "cell_type": "markdown",
   "metadata": {},
   "source": [
    "Согласно обоснованию в пункте 2.3 при обучении и валидации на зашифрованных данных мы должны получить незашифрованные предсказания. Исходя из этого метрика должна совпасть с метрикой для незашифрованных данных."
   ]
  },
  {
   "cell_type": "markdown",
   "metadata": {},
   "source": [
    "## Проверка алгоритма"
   ]
  },
  {
   "cell_type": "markdown",
   "metadata": {},
   "source": [
    "### Сгенерируем квадратную матрицу-\"шифр\""
   ]
  },
  {
   "cell_type": "code",
   "execution_count": 5,
   "metadata": {},
   "outputs": [],
   "source": [
    "## генерирует матрицу с проверкой на обратимость\n",
    "def get_inv_matrix(loc, scale, size):\n",
    "    np.random.seed(42)\n",
    "    success = False\n",
    "    M = None\n",
    "    while not success:\n",
    "        M = np.random.normal(loc, scale, size=size)\n",
    "        M_inv = np.linalg.inv(M)\n",
    "        success = np.allclose(np.dot(M, M_inv), np.eye(M.shape[0]))\n",
    "    return M"
   ]
  },
  {
   "cell_type": "code",
   "execution_count": 6,
   "metadata": {},
   "outputs": [],
   "source": [
    "P_size = (df.shape[1]-1, df.shape[1]-1)"
   ]
  },
  {
   "cell_type": "code",
   "execution_count": 7,
   "metadata": {},
   "outputs": [],
   "source": [
    "P = get_inv_matrix(50, 25, P_size)"
   ]
  },
  {
   "cell_type": "code",
   "execution_count": 8,
   "metadata": {},
   "outputs": [
    {
     "data": {
      "text/plain": [
       "array([[62.41785383, 46.54339247, 66.19221345, 88.07574641],\n",
       "       [44.14616563, 44.14657608, 89.48032039, 69.18586823],\n",
       "       [38.26314035, 63.56400109, 38.41455768, 38.35675616],\n",
       "       [56.04905679,  2.16799388,  6.87705419, 35.94281177]])"
      ]
     },
     "execution_count": 8,
     "metadata": {},
     "output_type": "execute_result"
    }
   ],
   "source": [
    "P"
   ]
  },
  {
   "cell_type": "markdown",
   "metadata": {},
   "source": [
    "### Подготовим обучающую и валидационную выборки"
   ]
  },
  {
   "cell_type": "code",
   "execution_count": 9,
   "metadata": {},
   "outputs": [],
   "source": [
    "target = df['Страховые выплаты']\n",
    "features = df.drop('Страховые выплаты', axis=1)"
   ]
  },
  {
   "cell_type": "code",
   "execution_count": 10,
   "metadata": {},
   "outputs": [],
   "source": [
    "features_train, features_test, target_train, target_test = train_test_split(\n",
    "    features, target, test_size=0.4, random_state=42)"
   ]
  },
  {
   "cell_type": "markdown",
   "metadata": {},
   "source": [
    "### Обучим модель на обучающей выборке"
   ]
  },
  {
   "cell_type": "code",
   "execution_count": 11,
   "metadata": {},
   "outputs": [
    {
     "data": {
      "text/plain": [
       "array([[-0.99534417,  0.82549801, -0.23442471, -0.17941693],\n",
       "       [-0.99534417,  0.10857414,  1.0440908 , -0.17941693],\n",
       "       [ 1.00467761,  1.18395994,  0.32933016, -0.17941693],\n",
       "       ...,\n",
       "       [ 1.00467761,  0.82549801,  0.66154285, -1.07799923],\n",
       "       [ 1.00467761,  0.22806145, -0.40556458, -1.07799923],\n",
       "       [-0.99534417,  1.66190919,  0.44006772,  0.71916537]])"
      ]
     },
     "execution_count": 11,
     "metadata": {},
     "output_type": "execute_result"
    }
   ],
   "source": [
    "scaler = StandardScaler()\n",
    "scaler.fit(features_train)\n",
    "features_train = scaler.transform(features_train)\n",
    "features_train"
   ]
  },
  {
   "cell_type": "code",
   "execution_count": 12,
   "metadata": {},
   "outputs": [
    {
     "data": {
      "text/plain": [
       "array([[ 1.00467761, -0.36937511,  1.62797977, -1.07799923],\n",
       "       [ 1.00467761,  0.10857414,  0.19845849,  0.71916537],\n",
       "       [ 1.00467761, -0.13040049, -1.3720015 , -1.07799923],\n",
       "       ...,\n",
       "       [ 1.00467761,  2.85678231, -0.68744202, -0.17941693],\n",
       "       [-0.99534417, -1.44476092,  0.2387267 , -0.17941693],\n",
       "       [ 1.00467761,  3.33473155,  1.18502951,  0.71916537]])"
      ]
     },
     "execution_count": 12,
     "metadata": {},
     "output_type": "execute_result"
    }
   ],
   "source": [
    "features_test = scaler.transform(features_test)\n",
    "features_test"
   ]
  },
  {
   "cell_type": "code",
   "execution_count": 13,
   "metadata": {},
   "outputs": [],
   "source": [
    "model = LinearRegression()"
   ]
  },
  {
   "cell_type": "code",
   "execution_count": 14,
   "metadata": {
    "scrolled": true
   },
   "outputs": [
    {
     "data": {
      "text/plain": [
       "LinearRegression()"
      ]
     },
     "execution_count": 14,
     "metadata": {},
     "output_type": "execute_result"
    }
   ],
   "source": [
    "model.fit(features_train, target_train)"
   ]
  },
  {
   "cell_type": "markdown",
   "metadata": {},
   "source": [
    "### Рассчитаем качество модели на валидационной"
   ]
  },
  {
   "cell_type": "code",
   "execution_count": 15,
   "metadata": {},
   "outputs": [],
   "source": [
    "predicted_test = model.predict(features_test)"
   ]
  },
  {
   "cell_type": "code",
   "execution_count": 16,
   "metadata": {},
   "outputs": [
    {
     "data": {
      "text/plain": [
       "array([ 0.05029542,  0.16391432,  0.13466629, ...,  0.98989569,\n",
       "       -0.27411194,  1.10433064])"
      ]
     },
     "execution_count": 16,
     "metadata": {},
     "output_type": "execute_result"
    }
   ],
   "source": [
    "predicted_test"
   ]
  },
  {
   "cell_type": "code",
   "execution_count": 17,
   "metadata": {},
   "outputs": [],
   "source": [
    "r2 = model.score(features_test, target_test)"
   ]
  },
  {
   "cell_type": "code",
   "execution_count": 18,
   "metadata": {},
   "outputs": [
    {
     "data": {
      "text/plain": [
       "0.4268018208826947"
      ]
     },
     "execution_count": 18,
     "metadata": {},
     "output_type": "execute_result"
    }
   ],
   "source": [
    "r2"
   ]
  },
  {
   "cell_type": "markdown",
   "metadata": {},
   "source": [
    "### Преобразуем обучающую и валидационную выборки, умножив их на матрицу-\"шифр\""
   ]
  },
  {
   "cell_type": "code",
   "execution_count": 19,
   "metadata": {},
   "outputs": [],
   "source": [
    "features_train_p = features_train.dot(P)"
   ]
  },
  {
   "cell_type": "code",
   "execution_count": 20,
   "metadata": {},
   "outputs": [
    {
     "data": {
      "text/plain": [
       "array([[-44.71065065, -25.1737312 ,  -2.25738919, -45.99340495],\n",
       "       [-27.44007233,  24.44409563, -17.29435916, -46.55469786],\n",
       "       [117.52216798, 119.57344956, 183.86016199, 176.58431425],\n",
       "       ...,\n",
       "       [ 64.0442586 , 122.91722936, 158.36707759, 132.22884083],\n",
       "       [ -3.16115604,  28.71283302,  63.91580299,  49.96389431],\n",
       "       [ 68.38658475,  56.57251731, 104.67487895,  70.04334501]])"
      ]
     },
     "execution_count": 20,
     "metadata": {},
     "output_type": "execute_result"
    }
   ],
   "source": [
    "features_train_p"
   ]
  },
  {
   "cell_type": "code",
   "execution_count": 21,
   "metadata": {},
   "outputs": [],
   "source": [
    "features_test_p = features_test.dot(P)"
   ]
  },
  {
   "cell_type": "code",
   "execution_count": 22,
   "metadata": {},
   "outputs": [
    {
     "data": {
      "text/plain": [
       "array([[  48.27410349,  131.59826969,   88.57469496,   86.62989199],\n",
       "       [ 115.40513738,   65.72824249,   88.78651755,  129.4605754 ],\n",
       "       [ -55.96478743,  -48.54263137,   -5.28473255,  -11.90599111],\n",
       "       ...,\n",
       "       [ 152.46596474,  128.79272174,  294.48598976,  253.31989956],\n",
       "       [-126.82961836,  -95.32249285, -187.22498293, -184.91468646],\n",
       "       [ 295.57692247,  270.86244773,  415.36280619,  390.50674138]])"
      ]
     },
     "execution_count": 22,
     "metadata": {},
     "output_type": "execute_result"
    }
   ],
   "source": [
    "features_test_p"
   ]
  },
  {
   "cell_type": "markdown",
   "metadata": {},
   "source": [
    "### Снова обучим модель"
   ]
  },
  {
   "cell_type": "code",
   "execution_count": 23,
   "metadata": {},
   "outputs": [],
   "source": [
    "features_train_p = features_train.dot(P)"
   ]
  },
  {
   "cell_type": "code",
   "execution_count": 24,
   "metadata": {},
   "outputs": [
    {
     "data": {
      "text/plain": [
       "array([[-0.44154607, -0.27744764, -0.0190751 , -0.3721098 ],\n",
       "       [-0.27098814,  0.26940609, -0.14613858, -0.37665095],\n",
       "       [ 1.16060603,  1.31785673,  1.55363165,  1.42865601],\n",
       "       ...,\n",
       "       [ 0.63247772,  1.35470958,  1.33821324,  1.0697979 ],\n",
       "       [-0.03121842,  0.3164532 ,  0.54009315,  0.40423306],\n",
       "       [ 0.67536095,  0.62350357,  0.88451029,  0.56668593]])"
      ]
     },
     "execution_count": 24,
     "metadata": {},
     "output_type": "execute_result"
    }
   ],
   "source": [
    "scaler_p = StandardScaler()\n",
    "scaler_p.fit(features_train_p)\n",
    "features_train_p = scaler_p.transform(features_train_p)\n",
    "features_train_p"
   ]
  },
  {
   "cell_type": "code",
   "execution_count": 25,
   "metadata": {},
   "outputs": [
    {
     "data": {
      "text/plain": [
       "array([[ 0.47673743,  1.45038607,  0.74846257,  0.70087945],\n",
       "       [ 1.13969901,  0.72441171,  0.75025249,  1.04740124],\n",
       "       [-0.55268781, -0.53500366, -0.04465637, -0.09632546],\n",
       "       ...,\n",
       "       [ 1.50569821,  1.41946524,  2.48842788,  2.04948554],\n",
       "       [-1.25252302, -1.05057928, -1.58206463, -1.49605292],\n",
       "       [ 2.91900979,  2.98526054,  3.50984571,  3.15939616]])"
      ]
     },
     "execution_count": 25,
     "metadata": {},
     "output_type": "execute_result"
    }
   ],
   "source": [
    "features_test_p = scaler_p.transform(features_test_p)\n",
    "features_test_p"
   ]
  },
  {
   "cell_type": "code",
   "execution_count": 26,
   "metadata": {},
   "outputs": [],
   "source": [
    "model_p = LinearRegression()"
   ]
  },
  {
   "cell_type": "code",
   "execution_count": 27,
   "metadata": {
    "scrolled": true
   },
   "outputs": [
    {
     "data": {
      "text/plain": [
       "LinearRegression()"
      ]
     },
     "execution_count": 27,
     "metadata": {},
     "output_type": "execute_result"
    }
   ],
   "source": [
    "model_p.fit(features_train_p, target_train)"
   ]
  },
  {
   "cell_type": "markdown",
   "metadata": {},
   "source": [
    "### Рассчитаем качество модели на валидационной"
   ]
  },
  {
   "cell_type": "code",
   "execution_count": 28,
   "metadata": {},
   "outputs": [],
   "source": [
    "predicted_test_p = model_p.predict(features_test_p)"
   ]
  },
  {
   "cell_type": "code",
   "execution_count": 29,
   "metadata": {},
   "outputs": [
    {
     "data": {
      "text/plain": [
       "array([ 0.05029542,  0.16391432,  0.13466629, ...,  0.98989569,\n",
       "       -0.27411194,  1.10433064])"
      ]
     },
     "execution_count": 29,
     "metadata": {},
     "output_type": "execute_result"
    }
   ],
   "source": [
    "predicted_test_p"
   ]
  },
  {
   "cell_type": "code",
   "execution_count": 30,
   "metadata": {},
   "outputs": [],
   "source": [
    "r2_p = model_p.score(features_test_p, target_test)"
   ]
  },
  {
   "cell_type": "code",
   "execution_count": 31,
   "metadata": {},
   "outputs": [
    {
     "data": {
      "text/plain": [
       "0.4268018208826947"
      ]
     },
     "execution_count": 31,
     "metadata": {},
     "output_type": "execute_result"
    }
   ],
   "source": [
    "r2_p"
   ]
  },
  {
   "cell_type": "code",
   "execution_count": 32,
   "metadata": {},
   "outputs": [
    {
     "data": {
      "text/plain": [
       "0.4268018208826947"
      ]
     },
     "execution_count": 32,
     "metadata": {},
     "output_type": "execute_result"
    }
   ],
   "source": [
    "r2"
   ]
  },
  {
   "cell_type": "markdown",
   "metadata": {},
   "source": [
    "### Вывод"
   ]
  },
  {
   "cell_type": "markdown",
   "metadata": {},
   "source": [
    "Мы получили две оценки r2, которые не отличаются. Это подтверждает наше предположение, что можно строить модели и расчитывать метрики даже с \"зашифрованными\" данными методом умножения на обратимую матрицу."
   ]
  }
 ],
 "metadata": {
  "ExecuteTimeLog": [
   {
    "duration": 344,
    "start_time": "2021-06-22T18:13:29.039Z"
   },
   {
    "duration": 728,
    "start_time": "2021-06-22T18:28:21.614Z"
   },
   {
    "duration": 21,
    "start_time": "2021-06-22T18:28:22.354Z"
   },
   {
    "duration": 485,
    "start_time": "2021-06-23T10:20:55.075Z"
   },
   {
    "duration": 804,
    "start_time": "2021-06-23T10:20:57.928Z"
   },
   {
    "duration": 22,
    "start_time": "2021-06-23T10:20:58.734Z"
   },
   {
    "duration": 21,
    "start_time": "2021-06-23T10:20:59.268Z"
   },
   {
    "duration": 10,
    "start_time": "2021-06-23T10:21:20.090Z"
   },
   {
    "duration": 13,
    "start_time": "2021-06-23T10:21:52.828Z"
   },
   {
    "duration": 981,
    "start_time": "2021-06-23T20:35:05.809Z"
   },
   {
    "duration": 78,
    "start_time": "2021-06-23T20:35:06.792Z"
   },
   {
    "duration": 7,
    "start_time": "2021-06-23T20:35:06.871Z"
   },
   {
    "duration": 14,
    "start_time": "2021-06-23T20:35:06.880Z"
   },
   {
    "duration": 4,
    "start_time": "2021-06-23T20:35:11.376Z"
   },
   {
    "duration": 6,
    "start_time": "2021-06-23T20:35:35.961Z"
   },
   {
    "duration": 245,
    "start_time": "2021-06-23T20:39:46.518Z"
   },
   {
    "duration": 3,
    "start_time": "2021-06-23T20:40:30.101Z"
   },
   {
    "duration": 4,
    "start_time": "2021-06-23T20:40:36.267Z"
   },
   {
    "duration": 177,
    "start_time": "2021-06-23T20:40:45.069Z"
   },
   {
    "duration": 172,
    "start_time": "2021-06-23T20:41:18.900Z"
   },
   {
    "duration": 3,
    "start_time": "2021-06-23T20:41:25.207Z"
   },
   {
    "duration": 3,
    "start_time": "2021-06-23T20:41:29.286Z"
   },
   {
    "duration": 3,
    "start_time": "2021-06-23T20:43:19.730Z"
   },
   {
    "duration": 4,
    "start_time": "2021-06-23T20:43:20.511Z"
   },
   {
    "duration": 3,
    "start_time": "2021-06-23T20:43:51.495Z"
   },
   {
    "duration": 7,
    "start_time": "2021-06-23T20:43:52.348Z"
   },
   {
    "duration": 3,
    "start_time": "2021-06-23T20:45:05.887Z"
   },
   {
    "duration": 2,
    "start_time": "2021-06-23T20:45:15.063Z"
   },
   {
    "duration": 2,
    "start_time": "2021-06-23T20:45:15.453Z"
   },
   {
    "duration": 3,
    "start_time": "2021-06-23T20:45:15.835Z"
   },
   {
    "duration": 3,
    "start_time": "2021-06-23T20:45:28.951Z"
   },
   {
    "duration": 3,
    "start_time": "2021-06-23T20:45:31.431Z"
   },
   {
    "duration": 3,
    "start_time": "2021-06-23T20:45:38.982Z"
   },
   {
    "duration": 5,
    "start_time": "2021-06-23T20:45:39.725Z"
   },
   {
    "duration": 3,
    "start_time": "2021-06-23T20:45:46.989Z"
   },
   {
    "duration": 4,
    "start_time": "2021-06-23T20:45:49.701Z"
   },
   {
    "duration": 2,
    "start_time": "2021-06-23T20:45:51.939Z"
   },
   {
    "duration": 3,
    "start_time": "2021-06-23T20:45:52.280Z"
   },
   {
    "duration": 4,
    "start_time": "2021-06-23T20:45:52.699Z"
   },
   {
    "duration": 3,
    "start_time": "2021-06-23T20:46:51.750Z"
   },
   {
    "duration": 3,
    "start_time": "2021-06-23T20:46:52.300Z"
   },
   {
    "duration": 4,
    "start_time": "2021-06-23T20:46:52.858Z"
   },
   {
    "duration": 3,
    "start_time": "2021-06-23T20:48:46.501Z"
   },
   {
    "duration": 3,
    "start_time": "2021-06-23T20:48:52.082Z"
   },
   {
    "duration": 3,
    "start_time": "2021-06-23T20:48:54.118Z"
   },
   {
    "duration": 3,
    "start_time": "2021-06-23T20:50:47.985Z"
   },
   {
    "duration": 4,
    "start_time": "2021-06-23T20:50:54.995Z"
   },
   {
    "duration": 4,
    "start_time": "2021-06-23T20:51:12.405Z"
   },
   {
    "duration": 3,
    "start_time": "2021-06-23T20:55:09.717Z"
   },
   {
    "duration": 4,
    "start_time": "2021-06-23T20:55:10.597Z"
   },
   {
    "duration": 3,
    "start_time": "2021-06-23T20:55:13.803Z"
   },
   {
    "duration": 4,
    "start_time": "2021-06-23T20:55:14.436Z"
   },
   {
    "duration": 4,
    "start_time": "2021-06-23T20:55:16.901Z"
   },
   {
    "duration": 2,
    "start_time": "2021-06-23T20:55:40.990Z"
   },
   {
    "duration": 4,
    "start_time": "2021-06-23T20:55:41.598Z"
   },
   {
    "duration": 3,
    "start_time": "2021-06-23T20:55:43.907Z"
   },
   {
    "duration": 4,
    "start_time": "2021-06-23T20:55:44.454Z"
   },
   {
    "duration": 4,
    "start_time": "2021-06-23T20:55:46.668Z"
   },
   {
    "duration": 3,
    "start_time": "2021-06-23T20:56:27.641Z"
   },
   {
    "duration": 3,
    "start_time": "2021-06-23T20:56:28.381Z"
   },
   {
    "duration": 2,
    "start_time": "2021-06-23T20:56:29.425Z"
   },
   {
    "duration": 4,
    "start_time": "2021-06-23T20:56:29.824Z"
   },
   {
    "duration": 4,
    "start_time": "2021-06-23T20:56:30.491Z"
   },
   {
    "duration": 5,
    "start_time": "2021-06-23T21:02:55.876Z"
   },
   {
    "duration": 4,
    "start_time": "2021-06-23T21:06:40.636Z"
   },
   {
    "duration": 3,
    "start_time": "2021-06-23T21:13:38.217Z"
   },
   {
    "duration": 7,
    "start_time": "2021-06-23T21:14:05.434Z"
   },
   {
    "duration": 4,
    "start_time": "2021-06-23T21:16:19.993Z"
   },
   {
    "duration": 4,
    "start_time": "2021-06-23T21:16:26.795Z"
   },
   {
    "duration": 178,
    "start_time": "2021-06-23T21:19:42.036Z"
   },
   {
    "duration": 3,
    "start_time": "2021-06-23T21:34:52.910Z"
   },
   {
    "duration": 4,
    "start_time": "2021-06-23T21:36:45.439Z"
   },
   {
    "duration": 7,
    "start_time": "2021-06-23T21:36:45.938Z"
   },
   {
    "duration": 7,
    "start_time": "2021-06-23T21:36:46.453Z"
   },
   {
    "duration": 3,
    "start_time": "2021-06-23T21:37:17.805Z"
   },
   {
    "duration": 5,
    "start_time": "2021-06-23T21:37:24.403Z"
   },
   {
    "duration": 4,
    "start_time": "2021-06-23T21:38:11.739Z"
   },
   {
    "duration": 5,
    "start_time": "2021-06-23T21:38:12.366Z"
   },
   {
    "duration": 7,
    "start_time": "2021-06-23T21:38:12.964Z"
   },
   {
    "duration": 6,
    "start_time": "2021-06-23T21:38:17.265Z"
   },
   {
    "duration": 2,
    "start_time": "2021-06-23T22:08:59.775Z"
   },
   {
    "duration": 5,
    "start_time": "2021-06-23T22:09:02.594Z"
   },
   {
    "duration": 3,
    "start_time": "2021-06-23T22:09:06.915Z"
   },
   {
    "duration": 4,
    "start_time": "2021-06-23T22:09:07.796Z"
   },
   {
    "duration": 2,
    "start_time": "2021-06-23T22:11:26.034Z"
   },
   {
    "duration": 5,
    "start_time": "2021-06-23T22:11:26.582Z"
   },
   {
    "duration": 5,
    "start_time": "2021-06-23T22:11:28.268Z"
   },
   {
    "duration": 1306,
    "start_time": "2021-06-24T08:02:21.195Z"
   },
   {
    "duration": 22,
    "start_time": "2021-06-24T08:02:22.503Z"
   },
   {
    "duration": 12,
    "start_time": "2021-06-24T08:02:22.528Z"
   },
   {
    "duration": 33,
    "start_time": "2021-06-24T08:02:22.543Z"
   },
   {
    "duration": 5,
    "start_time": "2021-06-24T08:02:22.579Z"
   },
   {
    "duration": 10,
    "start_time": "2021-06-24T08:02:22.587Z"
   },
   {
    "duration": 19,
    "start_time": "2021-06-24T08:02:22.599Z"
   },
   {
    "duration": 39,
    "start_time": "2021-06-24T08:02:22.621Z"
   },
   {
    "duration": 26,
    "start_time": "2021-06-24T08:02:22.662Z"
   },
   {
    "duration": 65,
    "start_time": "2021-06-24T08:02:22.691Z"
   },
   {
    "duration": 17,
    "start_time": "2021-06-24T08:02:22.758Z"
   },
   {
    "duration": 16,
    "start_time": "2021-06-24T08:02:22.778Z"
   },
   {
    "duration": 16,
    "start_time": "2021-06-24T08:02:22.796Z"
   },
   {
    "duration": 11,
    "start_time": "2021-06-24T08:02:22.814Z"
   },
   {
    "duration": 22,
    "start_time": "2021-06-24T08:02:22.828Z"
   },
   {
    "duration": 11,
    "start_time": "2021-06-24T08:02:22.853Z"
   },
   {
    "duration": 19,
    "start_time": "2021-06-24T08:02:22.866Z"
   },
   {
    "duration": 15,
    "start_time": "2021-06-24T08:02:22.888Z"
   },
   {
    "duration": 6,
    "start_time": "2021-06-24T08:02:33.559Z"
   },
   {
    "duration": 387,
    "start_time": "2021-06-24T08:02:57.526Z"
   },
   {
    "duration": 278,
    "start_time": "2021-06-24T08:03:25.993Z"
   },
   {
    "duration": 5,
    "start_time": "2021-06-24T08:04:30.725Z"
   },
   {
    "duration": 5,
    "start_time": "2021-06-24T08:07:42.794Z"
   },
   {
    "duration": 4,
    "start_time": "2021-06-24T08:07:43.311Z"
   },
   {
    "duration": 6,
    "start_time": "2021-06-24T08:07:43.879Z"
   },
   {
    "duration": 4,
    "start_time": "2021-06-24T08:07:47.953Z"
   },
   {
    "duration": 6,
    "start_time": "2021-06-24T08:07:48.237Z"
   },
   {
    "duration": 7,
    "start_time": "2021-06-24T08:07:49.137Z"
   },
   {
    "duration": 5,
    "start_time": "2021-06-24T08:07:57.895Z"
   },
   {
    "duration": 7,
    "start_time": "2021-06-24T08:08:13.441Z"
   },
   {
    "duration": 274,
    "start_time": "2021-06-24T08:08:57.319Z"
   },
   {
    "duration": 246,
    "start_time": "2021-06-24T08:08:57.846Z"
   },
   {
    "duration": 3,
    "start_time": "2021-06-24T08:09:02.304Z"
   },
   {
    "duration": 6,
    "start_time": "2021-06-24T08:09:03.053Z"
   },
   {
    "duration": 3,
    "start_time": "2021-06-24T08:09:41.292Z"
   },
   {
    "duration": 5,
    "start_time": "2021-06-24T08:09:47.853Z"
   },
   {
    "duration": 1249,
    "start_time": "2021-06-24T08:14:40.201Z"
   },
   {
    "duration": 19,
    "start_time": "2021-06-24T08:14:41.453Z"
   },
   {
    "duration": 9,
    "start_time": "2021-06-24T08:14:41.476Z"
   },
   {
    "duration": 30,
    "start_time": "2021-06-24T08:14:41.487Z"
   },
   {
    "duration": 6,
    "start_time": "2021-06-24T08:14:41.519Z"
   },
   {
    "duration": 17,
    "start_time": "2021-06-24T08:14:41.527Z"
   },
   {
    "duration": 18,
    "start_time": "2021-06-24T08:14:41.546Z"
   },
   {
    "duration": 10,
    "start_time": "2021-06-24T08:14:41.566Z"
   },
   {
    "duration": 79,
    "start_time": "2021-06-24T08:14:41.582Z"
   },
   {
    "duration": 8,
    "start_time": "2021-06-24T08:14:41.665Z"
   },
   {
    "duration": 85,
    "start_time": "2021-06-24T08:14:41.676Z"
   },
   {
    "duration": 18,
    "start_time": "2021-06-24T08:14:41.764Z"
   },
   {
    "duration": 26,
    "start_time": "2021-06-24T08:14:41.785Z"
   },
   {
    "duration": 13,
    "start_time": "2021-06-24T08:14:41.813Z"
   },
   {
    "duration": 8,
    "start_time": "2021-06-24T08:14:41.828Z"
   },
   {
    "duration": 5,
    "start_time": "2021-06-24T08:14:41.838Z"
   },
   {
    "duration": 8,
    "start_time": "2021-06-24T08:14:41.857Z"
   },
   {
    "duration": 8,
    "start_time": "2021-06-24T08:14:41.867Z"
   },
   {
    "duration": 12,
    "start_time": "2021-06-24T08:14:41.877Z"
   },
   {
    "duration": 11,
    "start_time": "2021-06-24T08:14:41.891Z"
   },
   {
    "duration": 12,
    "start_time": "2021-06-24T08:14:41.905Z"
   },
   {
    "duration": 8,
    "start_time": "2021-06-24T08:14:41.919Z"
   },
   {
    "duration": 31,
    "start_time": "2021-06-24T08:14:41.929Z"
   },
   {
    "duration": 7,
    "start_time": "2021-06-24T08:14:41.962Z"
   },
   {
    "duration": 7,
    "start_time": "2021-06-24T08:14:41.971Z"
   },
   {
    "duration": 8,
    "start_time": "2021-06-24T08:14:41.981Z"
   },
   {
    "duration": 13,
    "start_time": "2021-06-24T08:14:41.995Z"
   },
   {
    "duration": 6,
    "start_time": "2021-06-24T08:14:42.011Z"
   },
   {
    "duration": 41,
    "start_time": "2021-06-24T08:14:42.019Z"
   },
   {
    "duration": 399,
    "start_time": "2021-06-24T08:14:42.062Z"
   },
   {
    "duration": 447,
    "start_time": "2021-06-24T08:14:42.016Z"
   },
   {
    "duration": 444,
    "start_time": "2021-06-24T08:14:42.020Z"
   },
   {
    "duration": 439,
    "start_time": "2021-06-24T08:14:42.027Z"
   },
   {
    "duration": 434,
    "start_time": "2021-06-24T08:14:42.033Z"
   },
   {
    "duration": 7,
    "start_time": "2021-06-24T08:14:55.015Z"
   },
   {
    "duration": 4,
    "start_time": "2021-06-24T08:14:57.493Z"
   },
   {
    "duration": 6,
    "start_time": "2021-06-24T08:14:58.380Z"
   },
   {
    "duration": 6,
    "start_time": "2021-06-24T08:14:59.525Z"
   },
   {
    "duration": 5,
    "start_time": "2021-06-24T08:15:00.311Z"
   },
   {
    "duration": 5,
    "start_time": "2021-06-24T08:17:00.224Z"
   },
   {
    "duration": 1319,
    "start_time": "2021-06-24T12:57:19.940Z"
   },
   {
    "duration": 19,
    "start_time": "2021-06-24T12:57:21.261Z"
   },
   {
    "duration": 9,
    "start_time": "2021-06-24T12:57:21.283Z"
   },
   {
    "duration": 26,
    "start_time": "2021-06-24T12:57:21.294Z"
   },
   {
    "duration": 4,
    "start_time": "2021-06-24T12:57:21.322Z"
   },
   {
    "duration": 5,
    "start_time": "2021-06-24T12:57:21.329Z"
   },
   {
    "duration": 16,
    "start_time": "2021-06-24T12:57:21.335Z"
   },
   {
    "duration": 13,
    "start_time": "2021-06-24T12:57:21.353Z"
   },
   {
    "duration": 44,
    "start_time": "2021-06-24T12:57:21.373Z"
   },
   {
    "duration": 90,
    "start_time": "2021-06-24T12:57:21.421Z"
   },
   {
    "duration": 17,
    "start_time": "2021-06-24T12:57:21.513Z"
   },
   {
    "duration": 11,
    "start_time": "2021-06-24T12:57:21.532Z"
   },
   {
    "duration": 10,
    "start_time": "2021-06-24T12:57:21.546Z"
   },
   {
    "duration": 11,
    "start_time": "2021-06-24T12:57:21.558Z"
   },
   {
    "duration": 15,
    "start_time": "2021-06-24T12:57:21.571Z"
   },
   {
    "duration": 14,
    "start_time": "2021-06-24T12:57:21.588Z"
   },
   {
    "duration": 22,
    "start_time": "2021-06-24T12:57:21.604Z"
   },
   {
    "duration": 18,
    "start_time": "2021-06-24T12:57:21.628Z"
   },
   {
    "duration": 16,
    "start_time": "2021-06-24T12:57:21.649Z"
   },
   {
    "duration": 8,
    "start_time": "2021-06-24T12:57:21.667Z"
   },
   {
    "duration": 16,
    "start_time": "2021-06-24T12:57:21.677Z"
   },
   {
    "duration": 30,
    "start_time": "2021-06-24T12:57:21.695Z"
   },
   {
    "duration": 22,
    "start_time": "2021-06-24T12:57:21.727Z"
   },
   {
    "duration": 12,
    "start_time": "2021-06-24T12:57:21.752Z"
   },
   {
    "duration": 42,
    "start_time": "2021-06-24T12:57:21.766Z"
   },
   {
    "duration": 12,
    "start_time": "2021-06-24T12:57:21.810Z"
   },
   {
    "duration": 9,
    "start_time": "2021-06-24T12:57:21.828Z"
   },
   {
    "duration": 19,
    "start_time": "2021-06-24T12:57:21.839Z"
   },
   {
    "duration": 11,
    "start_time": "2021-06-24T12:57:21.860Z"
   },
   {
    "duration": 15,
    "start_time": "2021-06-24T12:57:21.873Z"
   },
   {
    "duration": 9,
    "start_time": "2021-06-24T12:57:21.890Z"
   },
   {
    "duration": 19,
    "start_time": "2021-06-24T12:57:21.902Z"
   },
   {
    "duration": 8,
    "start_time": "2021-06-24T12:57:21.924Z"
   },
   {
    "duration": 29,
    "start_time": "2021-06-24T12:57:21.934Z"
   },
   {
    "duration": 17,
    "start_time": "2021-06-24T12:57:21.966Z"
   }
  ],
  "kernelspec": {
   "display_name": "Python 3 (ipykernel)",
   "language": "python",
   "name": "python3"
  },
  "language_info": {
   "codemirror_mode": {
    "name": "ipython",
    "version": 3
   },
   "file_extension": ".py",
   "mimetype": "text/x-python",
   "name": "python",
   "nbconvert_exporter": "python",
   "pygments_lexer": "ipython3",
   "version": "3.9.1"
  },
  "toc": {
   "base_numbering": 1,
   "nav_menu": {},
   "number_sections": true,
   "sideBar": true,
   "skip_h1_title": true,
   "title_cell": "Содержание",
   "title_sidebar": "Contents",
   "toc_cell": true,
   "toc_position": {},
   "toc_section_display": true,
   "toc_window_display": false
  }
 },
 "nbformat": 4,
 "nbformat_minor": 2
}
